{
 "cells": [
  {
   "cell_type": "code",
   "execution_count": 1,
   "id": "3ea578da-38df-469a-9699-732d3b5e9ad0",
   "metadata": {},
   "outputs": [],
   "source": [
    "from datetime import datetime, date\n",
    "import pickle\n",
    "import pandas as pd\n",
    "import matplotlib.pyplot as plt\n",
    "import seaborn as sns"
   ]
  },
  {
   "cell_type": "code",
   "execution_count": 2,
   "id": "f0a55c33-1649-4543-802c-2115ed0ed14b",
   "metadata": {},
   "outputs": [],
   "source": [
    "with open('../data/pickled_data/AEK201_all_data.pkl', 'rb') as f:\n",
    "    df = pickle.load(f)"
   ]
  },
  {
   "cell_type": "code",
   "execution_count": 3,
   "id": "c0f8c637-3b84-44e0-9bfc-4bc03fcbb7b7",
   "metadata": {},
   "outputs": [],
   "source": [
    "## Make the dates `nice`\n",
    "date_rng = pd.date_range(start='1900-10-21', end='2023-10-21', freq='D')\n",
    "df['date'] = date_rng"
   ]
  },
  {
   "cell_type": "code",
   "execution_count": 4,
   "id": "a24e612b-13d1-41eb-88db-d5edd1c36345",
   "metadata": {},
   "outputs": [],
   "source": [
    "## Make the index `nice'\n",
    "df = df.reset_index(drop=True)"
   ]
  },
  {
   "cell_type": "code",
   "execution_count": 5,
   "id": "5a7e7737-547c-452f-bd71-5b39f411dcf9",
   "metadata": {},
   "outputs": [],
   "source": [
    "with open('../data/pickled_data/AEK201_all_data_v2.pkl', 'wb') as f:\n",
    "    pickle.dump(df, f)"
   ]
  },
  {
   "cell_type": "code",
   "execution_count": 6,
   "id": "d843ef5f-d90a-4522-9a28-d01ed86941f5",
   "metadata": {},
   "outputs": [],
   "source": [
    "min_date = datetime(2006,2,7)\n",
    "max_date = datetime(2017,9,28)\n",
    "df_short = df.loc[(df.date >= min_date) & (df.date <= max_date)].copy()"
   ]
  },
  {
   "cell_type": "code",
   "execution_count": 7,
   "id": "54b3bf27-8950-4a71-bc80-a12bafb34cfd",
   "metadata": {},
   "outputs": [],
   "source": [
    "with open('../data/pickled_data/short_data.pkl', 'wb') as f:\n",
    "    pickle.dump(df_short, f)"
   ]
  },
  {
   "cell_type": "code",
   "execution_count": null,
   "id": "308f1507-8441-483d-a508-2c89e340106c",
   "metadata": {},
   "outputs": [],
   "source": []
  }
 ],
 "metadata": {
  "kernelspec": {
   "display_name": "Python 3.10 (data-science)",
   "language": "python",
   "name": "data-science"
  },
  "language_info": {
   "codemirror_mode": {
    "name": "ipython",
    "version": 3
   },
   "file_extension": ".py",
   "mimetype": "text/x-python",
   "name": "python",
   "nbconvert_exporter": "python",
   "pygments_lexer": "ipython3",
   "version": "3.10.12"
  }
 },
 "nbformat": 4,
 "nbformat_minor": 5
}

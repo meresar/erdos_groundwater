{
 "cells": [
  {
   "cell_type": "code",
   "execution_count": 80,
   "id": "a60edd26-a553-45db-807b-921e3ede1d87",
   "metadata": {},
   "outputs": [],
   "source": [
    "from bs4 import BeautifulSoup\n",
    "import pandas as pd\n",
    "import requests"
   ]
  },
  {
   "cell_type": "markdown",
   "id": "f96487e0-4347-4dc7-8521-06fe21197d3a",
   "metadata": {},
   "source": [
    "# Scraping Data from the Milwaukee Journal Sentinal\n",
    "\n",
    "The Milwaukee Journal Sentinal provides a tool for finding county level weather data, sourced from data provided by the National Centers for Environmental Information (NCEI).\n",
    "\n",
    "For Spokane County, Washington, that data is available here:\n",
    "\n",
    "[https://data.jsonline.com/weather-data/spokane-county-washington/53063/2023-09-01/](https://data.jsonline.com/weather-data/spokane-county-washington/53063/2023-09-01/)\n",
    "\n",
    "On this page, you can request \"View all Spokane County, Washington data in a table\". The result is here:\n",
    "\n",
    "[https://data.jsonline.com/weather-data/spokane-county-washington/53063/2023-09-01/table/](https://data.jsonline.com/weather-data/spokane-county-washington/53063/2023-09-01/table/)\n",
    "\n",
    "The code below scrapes the data from the table on this page and stores it in a pandas dataframe. To download data from another county, modify the `url` in the next code block."
   ]
  },
  {
   "cell_type": "code",
   "execution_count": 90,
   "id": "74edc690-3a04-41d8-b2d8-bc5ca437044c",
   "metadata": {},
   "outputs": [],
   "source": [
    "url = 'https://data.jsonline.com/weather-data/spokane-county-washington/53063/2001-12-01/table/'\n",
    "#url = 'https://data.jsonline.com/weather-data/lewis-county-washington/53041/2001-12-01/table/'\n",
    "site_data = requests.get(url)"
   ]
  },
  {
   "cell_type": "code",
   "execution_count": 91,
   "id": "2b3c7577-cc10-4156-a2b9-2d2a3158c3e9",
   "metadata": {},
   "outputs": [],
   "source": [
    "soup = BeautifulSoup(site_data.content, 'html.parser')"
   ]
  },
  {
   "cell_type": "code",
   "execution_count": 92,
   "id": "f2383b10-8f4b-4fd1-a4a9-58c92046a0d3",
   "metadata": {},
   "outputs": [],
   "source": [
    "table = soup.find('table', {'id':'hitable'})\n",
    "dates = table.find_all('div')\n",
    "date_list = [date.text for date in dates]"
   ]
  },
  {
   "cell_type": "code",
   "execution_count": 93,
   "id": "c67e1cc7-4dd9-48da-a969-6fa234cae2bc",
   "metadata": {},
   "outputs": [],
   "source": [
    "cells = [cell.text for cell in table.find_all('td')]\n",
    "data = [cells[i:i+6] for i in range(1,len(cells)-6,7)]"
   ]
  },
  {
   "cell_type": "code",
   "execution_count": 94,
   "id": "25f86e10-6484-4914-9f28-2526a07cb002",
   "metadata": {},
   "outputs": [],
   "source": [
    "df = pd.DataFrame(data)"
   ]
  },
  {
   "cell_type": "code",
   "execution_count": 95,
   "id": "d27d1ee5-5750-48ba-bb79-62bd6e860ad7",
   "metadata": {},
   "outputs": [],
   "source": [
    "df['date']=date_list[:-1]"
   ]
  },
  {
   "cell_type": "code",
   "execution_count": 96,
   "id": "136724fa-19c5-4e57-baf4-498b0a0ace7e",
   "metadata": {},
   "outputs": [],
   "source": [
    "column_names = {0:'avg_temp',1:'min_temp',2:'max_temp',3:'precipitation',4:'heating_deg_days', 5:'cooling_deg_days'}\n",
    "df = df[['date',0,1,2,3,4,5]].rename(columns=column_names)"
   ]
  },
  {
   "cell_type": "code",
   "execution_count": 97,
   "id": "eeb4d5ae-8b69-4a2c-b216-30882e74f618",
   "metadata": {},
   "outputs": [],
   "source": [
    "df['date']=pd.to_datetime(df['date'])"
   ]
  },
  {
   "cell_type": "code",
   "execution_count": 98,
   "id": "917a5aa5-9d2f-45a6-bc36-449a3fd1b6d3",
   "metadata": {},
   "outputs": [
    {
     "data": {
      "text/html": [
       "<div>\n",
       "<style scoped>\n",
       "    .dataframe tbody tr th:only-of-type {\n",
       "        vertical-align: middle;\n",
       "    }\n",
       "\n",
       "    .dataframe tbody tr th {\n",
       "        vertical-align: top;\n",
       "    }\n",
       "\n",
       "    .dataframe thead th {\n",
       "        text-align: right;\n",
       "    }\n",
       "</style>\n",
       "<table border=\"1\" class=\"dataframe\">\n",
       "  <thead>\n",
       "    <tr style=\"text-align: right;\">\n",
       "      <th></th>\n",
       "      <th>date</th>\n",
       "      <th>avg_temp</th>\n",
       "      <th>min_temp</th>\n",
       "      <th>max_temp</th>\n",
       "      <th>precipitation</th>\n",
       "      <th>heating_deg_days</th>\n",
       "      <th>cooling_deg_days</th>\n",
       "    </tr>\n",
       "  </thead>\n",
       "  <tbody>\n",
       "    <tr>\n",
       "      <th>0</th>\n",
       "      <td>2023-09-01</td>\n",
       "      <td>59.5</td>\n",
       "      <td>46.5</td>\n",
       "      <td>72.5</td>\n",
       "      <td>0.87</td>\n",
       "      <td>199</td>\n",
       "      <td>34</td>\n",
       "    </tr>\n",
       "    <tr>\n",
       "      <th>1</th>\n",
       "      <td>2023-08-01</td>\n",
       "      <td>69.5</td>\n",
       "      <td>54.7</td>\n",
       "      <td>84.2</td>\n",
       "      <td>1.36</td>\n",
       "      <td>29</td>\n",
       "      <td>168</td>\n",
       "    </tr>\n",
       "    <tr>\n",
       "      <th>2</th>\n",
       "      <td>2023-07-01</td>\n",
       "      <td>71.1</td>\n",
       "      <td>54.6</td>\n",
       "      <td>87.5</td>\n",
       "      <td>0.15</td>\n",
       "      <td>15</td>\n",
       "      <td>203</td>\n",
       "    </tr>\n",
       "    <tr>\n",
       "      <th>3</th>\n",
       "      <td>2023-06-01</td>\n",
       "      <td>63.9</td>\n",
       "      <td>50.2</td>\n",
       "      <td>77.5</td>\n",
       "      <td>0.91</td>\n",
       "      <td>98</td>\n",
       "      <td>65</td>\n",
       "    </tr>\n",
       "    <tr>\n",
       "      <th>4</th>\n",
       "      <td>2023-05-01</td>\n",
       "      <td>61.3</td>\n",
       "      <td>48.6</td>\n",
       "      <td>74.0</td>\n",
       "      <td>1.60</td>\n",
       "      <td>157</td>\n",
       "      <td>43</td>\n",
       "    </tr>\n",
       "    <tr>\n",
       "      <th>5</th>\n",
       "      <td>2023-04-01</td>\n",
       "      <td>44.6</td>\n",
       "      <td>33.4</td>\n",
       "      <td>55.7</td>\n",
       "      <td>1.50</td>\n",
       "      <td>613</td>\n",
       "      <td></td>\n",
       "    </tr>\n",
       "    <tr>\n",
       "      <th>6</th>\n",
       "      <td>2023-03-01</td>\n",
       "      <td>36.5</td>\n",
       "      <td>27.0</td>\n",
       "      <td>46.1</td>\n",
       "      <td>1.27</td>\n",
       "      <td>882</td>\n",
       "      <td></td>\n",
       "    </tr>\n",
       "    <tr>\n",
       "      <th>7</th>\n",
       "      <td>2023-02-01</td>\n",
       "      <td>31.4</td>\n",
       "      <td>23.4</td>\n",
       "      <td>39.4</td>\n",
       "      <td>1.01</td>\n",
       "      <td>940</td>\n",
       "      <td></td>\n",
       "    </tr>\n",
       "    <tr>\n",
       "      <th>8</th>\n",
       "      <td>2023-01-01</td>\n",
       "      <td>31.1</td>\n",
       "      <td>26.1</td>\n",
       "      <td>36.0</td>\n",
       "      <td>1.56</td>\n",
       "      <td>1,052</td>\n",
       "      <td></td>\n",
       "    </tr>\n",
       "    <tr>\n",
       "      <th>9</th>\n",
       "      <td>2022-12-01</td>\n",
       "      <td>23.9</td>\n",
       "      <td>18.7</td>\n",
       "      <td>29.0</td>\n",
       "      <td>3.94</td>\n",
       "      <td>1,275</td>\n",
       "      <td></td>\n",
       "    </tr>\n",
       "  </tbody>\n",
       "</table>\n",
       "</div>"
      ],
      "text/plain": [
       "        date avg_temp min_temp max_temp precipitation heating_deg_days  \\\n",
       "0 2023-09-01     59.5     46.5     72.5          0.87              199   \n",
       "1 2023-08-01     69.5     54.7     84.2          1.36               29   \n",
       "2 2023-07-01     71.1     54.6     87.5          0.15               15   \n",
       "3 2023-06-01     63.9     50.2     77.5          0.91               98   \n",
       "4 2023-05-01     61.3     48.6     74.0          1.60              157   \n",
       "5 2023-04-01     44.6     33.4     55.7          1.50              613   \n",
       "6 2023-03-01     36.5     27.0     46.1          1.27              882   \n",
       "7 2023-02-01     31.4     23.4     39.4          1.01              940   \n",
       "8 2023-01-01     31.1     26.1     36.0          1.56            1,052   \n",
       "9 2022-12-01     23.9     18.7     29.0          3.94            1,275   \n",
       "\n",
       "  cooling_deg_days  \n",
       "0               34  \n",
       "1              168  \n",
       "2              203  \n",
       "3               65  \n",
       "4               43  \n",
       "5                   \n",
       "6                   \n",
       "7                   \n",
       "8                   \n",
       "9                   "
      ]
     },
     "execution_count": 98,
     "metadata": {},
     "output_type": "execute_result"
    }
   ],
   "source": [
    "df.head(10)"
   ]
  },
  {
   "cell_type": "code",
   "execution_count": null,
   "id": "d155fff4-47a7-45ca-8669-5876099a8edf",
   "metadata": {},
   "outputs": [],
   "source": []
  }
 ],
 "metadata": {
  "kernelspec": {
   "display_name": "Python 3.10 (data-science)",
   "language": "python",
   "name": "data-science"
  },
  "language_info": {
   "codemirror_mode": {
    "name": "ipython",
    "version": 3
   },
   "file_extension": ".py",
   "mimetype": "text/x-python",
   "name": "python",
   "nbconvert_exporter": "python",
   "pygments_lexer": "ipython3",
   "version": "3.10.12"
  }
 },
 "nbformat": 4,
 "nbformat_minor": 5
}

{
 "cells": [
  {
   "cell_type": "code",
   "execution_count": null,
   "id": "52c100cd-9ba3-4f5f-b7c1-fcc75c8316fc",
   "metadata": {},
   "outputs": [],
   "source": [
    "import pandas as pd"
   ]
  },
  {
   "cell_type": "markdown",
   "id": "bb0c8066-6353-4f7c-ae90-0efd6b6c67c5",
   "metadata": {},
   "source": [
    "# Weather Data from Openweather.com\n",
    "\n",
    "Bulk weather history data is available for purchase [here](https://home.openweathermap.org/marketplace)\n",
    "\n",
    "For Spokane, WA, the following hourly measurments (starting in 1979) are available:\n",
    "- Temperature (Fahrenheit)\n",
    "- Min temperature (Fahrenheit)\n",
    "- Max temperature (Fahrenheit)\n",
    "- Feels like (Fahrenheit)\n",
    "- Pressure (hPa)\n",
    "- Humidity (%)\n",
    "- Clouds (%)\n",
    "- Weather conditions\n",
    "- Rain (mm/h)\n",
    "- Snow (mm/h)\n",
    "- Dew point (Fahrenheit)\n",
    "- Visibility (metres)\n",
    "- Wind (speed, direction, gust) (miles/hour, degrees, miles/hour)"
   ]
  },
  {
   "cell_type": "code",
   "execution_count": 94,
   "id": "2b87b5e3-40f9-4693-bd97-93747c85c2eb",
   "metadata": {},
   "outputs": [],
   "source": [
    "data = pd.read_csv('../groundwater-project/data/open-weather-spokane.csv')"
   ]
  },
  {
   "cell_type": "code",
   "execution_count": 96,
   "id": "40f9e7c3-9534-4c41-b4ce-64dd32009875",
   "metadata": {},
   "outputs": [
    {
     "data": {
      "text/plain": [
       "dt                     392760\n",
       "dt_iso                 392760\n",
       "timezone                    2\n",
       "city_name                   1\n",
       "lat                         1\n",
       "lon                         1\n",
       "temp                     5972\n",
       "visibility                 68\n",
       "dew_point                4532\n",
       "feels_like               6427\n",
       "temp_min                 5856\n",
       "temp_max                 5617\n",
       "pressure                   74\n",
       "sea_level                   0\n",
       "grnd_level                  0\n",
       "humidity                   96\n",
       "wind_speed                930\n",
       "wind_deg                  361\n",
       "wind_gust                 153\n",
       "rain_1h                   396\n",
       "rain_3h                   181\n",
       "snow_1h                   179\n",
       "snow_3h                    87\n",
       "clouds_all                101\n",
       "weather_id                 39\n",
       "weather_main               13\n",
       "weather_description        43\n",
       "weather_icon               18\n",
       "dtype: int64"
      ]
     },
     "execution_count": 96,
     "metadata": {},
     "output_type": "execute_result"
    }
   ],
   "source": [
    "data.nunique()"
   ]
  },
  {
   "cell_type": "code",
   "execution_count": null,
   "id": "421a27c4-1bdf-4169-8a65-4a0bba02462f",
   "metadata": {},
   "outputs": [],
   "source": []
  }
 ],
 "metadata": {
  "kernelspec": {
   "display_name": "Python 3.10 (data-science)",
   "language": "python",
   "name": "data-science"
  },
  "language_info": {
   "codemirror_mode": {
    "name": "ipython",
    "version": 3
   },
   "file_extension": ".py",
   "mimetype": "text/x-python",
   "name": "python",
   "nbconvert_exporter": "python",
   "pygments_lexer": "ipython3",
   "version": "3.10.12"
  }
 },
 "nbformat": 4,
 "nbformat_minor": 5
}

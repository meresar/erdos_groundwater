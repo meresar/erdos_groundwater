{
 "cells": [
  {
   "cell_type": "markdown",
   "id": "a93e4381",
   "metadata": {},
   "source": [
    "# tutorials for NN\n",
    "\n",
    "Following these tutorials (in order)\n",
    "* LSTM Time Series Forecasting https://www.youtube.com/watch?v=c0k-YLQGKjY\n",
    "* Multivariate Time Series Forecasting Using LSTM, GRU & 1d CNNs https://www.youtube.com/watch?v=kGdbPnMCdOg\n",
    "\n",
    "**"
   ]
  },
  {
   "cell_type": "code",
   "execution_count": 1,
   "id": "0e0289d9",
   "metadata": {},
   "outputs": [
    {
     "name": "stderr",
     "output_type": "stream",
     "text": [
      "2023-11-13 15:00:32.283849: I tensorflow/tsl/cuda/cudart_stub.cc:28] Could not find cuda drivers on your machine, GPU will not be used.\n",
      "2023-11-13 15:00:33.852326: E tensorflow/compiler/xla/stream_executor/cuda/cuda_dnn.cc:9342] Unable to register cuDNN factory: Attempting to register factory for plugin cuDNN when one has already been registered\n",
      "2023-11-13 15:00:33.852409: E tensorflow/compiler/xla/stream_executor/cuda/cuda_fft.cc:609] Unable to register cuFFT factory: Attempting to register factory for plugin cuFFT when one has already been registered\n",
      "2023-11-13 15:00:33.961076: E tensorflow/compiler/xla/stream_executor/cuda/cuda_blas.cc:1518] Unable to register cuBLAS factory: Attempting to register factory for plugin cuBLAS when one has already been registered\n",
      "2023-11-13 15:00:34.649765: I tensorflow/tsl/cuda/cudart_stub.cc:28] Could not find cuda drivers on your machine, GPU will not be used.\n",
      "2023-11-13 15:00:34.652249: I tensorflow/core/platform/cpu_feature_guard.cc:182] This TensorFlow binary is optimized to use available CPU instructions in performance-critical operations.\n",
      "To enable the following instructions: AVX2 FMA, in other operations, rebuild TensorFlow with the appropriate compiler flags.\n",
      "2023-11-13 15:00:39.970257: W tensorflow/compiler/tf2tensorrt/utils/py_utils.cc:38] TF-TRT Warning: Could not find TensorRT\n"
     ]
    }
   ],
   "source": [
    "import tensorflow as tf\n",
    "import os\n",
    "import pandas as pd\n",
    "import numpy as np\n",
    "import matplotlib.pyplot as plt"
   ]
  },
  {
   "cell_type": "code",
   "execution_count": 2,
   "id": "d511c43b",
   "metadata": {},
   "outputs": [
    {
     "data": {
      "text/html": [
       "<div>\n",
       "<style scoped>\n",
       "    .dataframe tbody tr th:only-of-type {\n",
       "        vertical-align: middle;\n",
       "    }\n",
       "\n",
       "    .dataframe tbody tr th {\n",
       "        vertical-align: top;\n",
       "    }\n",
       "\n",
       "    .dataframe thead th {\n",
       "        text-align: right;\n",
       "    }\n",
       "</style>\n",
       "<table border=\"1\" class=\"dataframe\">\n",
       "  <thead>\n",
       "    <tr style=\"text-align: right;\">\n",
       "      <th></th>\n",
       "      <th>date</th>\n",
       "      <th>avg_well_depth</th>\n",
       "      <th>gage_ht</th>\n",
       "      <th>discharge_cfs</th>\n",
       "      <th>prcp</th>\n",
       "      <th>temp_avg</th>\n",
       "      <th>temp_max</th>\n",
       "      <th>temp_min</th>\n",
       "      <th>hPa_avg</th>\n",
       "      <th>hum_avg</th>\n",
       "      <th>hum_max</th>\n",
       "      <th>hum_min</th>\n",
       "      <th>wind_avg</th>\n",
       "      <th>wind_max</th>\n",
       "      <th>wind_min</th>\n",
       "      <th>gust_avg</th>\n",
       "      <th>gust_max</th>\n",
       "      <th>gust_min</th>\n",
       "    </tr>\n",
       "  </thead>\n",
       "  <tbody>\n",
       "    <tr>\n",
       "      <th>0</th>\n",
       "      <td>2006-02-07</td>\n",
       "      <td>91.0100</td>\n",
       "      <td>21.65</td>\n",
       "      <td>9420.0</td>\n",
       "      <td>0.00</td>\n",
       "      <td>35.722500</td>\n",
       "      <td>46.31</td>\n",
       "      <td>28.26</td>\n",
       "      <td>1028.625000</td>\n",
       "      <td>76.375000</td>\n",
       "      <td>93.0</td>\n",
       "      <td>47.0</td>\n",
       "      <td>5.826667</td>\n",
       "      <td>10.29</td>\n",
       "      <td>3.36</td>\n",
       "      <td>0.0000</td>\n",
       "      <td>0.00</td>\n",
       "      <td>0.0</td>\n",
       "    </tr>\n",
       "    <tr>\n",
       "      <th>1</th>\n",
       "      <td>2006-02-08</td>\n",
       "      <td>91.0429</td>\n",
       "      <td>21.64</td>\n",
       "      <td>9380.0</td>\n",
       "      <td>0.00</td>\n",
       "      <td>35.124167</td>\n",
       "      <td>42.46</td>\n",
       "      <td>28.72</td>\n",
       "      <td>1026.625000</td>\n",
       "      <td>84.416667</td>\n",
       "      <td>100.0</td>\n",
       "      <td>69.0</td>\n",
       "      <td>6.366250</td>\n",
       "      <td>11.41</td>\n",
       "      <td>3.36</td>\n",
       "      <td>0.0000</td>\n",
       "      <td>0.00</td>\n",
       "      <td>0.0</td>\n",
       "    </tr>\n",
       "    <tr>\n",
       "      <th>2</th>\n",
       "      <td>2006-02-09</td>\n",
       "      <td>91.1096</td>\n",
       "      <td>21.58</td>\n",
       "      <td>9210.0</td>\n",
       "      <td>0.00</td>\n",
       "      <td>32.172500</td>\n",
       "      <td>43.05</td>\n",
       "      <td>24.44</td>\n",
       "      <td>1035.041667</td>\n",
       "      <td>64.541667</td>\n",
       "      <td>98.0</td>\n",
       "      <td>30.0</td>\n",
       "      <td>8.732917</td>\n",
       "      <td>13.87</td>\n",
       "      <td>5.82</td>\n",
       "      <td>0.7175</td>\n",
       "      <td>17.22</td>\n",
       "      <td>0.0</td>\n",
       "    </tr>\n",
       "    <tr>\n",
       "      <th>3</th>\n",
       "      <td>2006-02-10</td>\n",
       "      <td>91.1954</td>\n",
       "      <td>21.46</td>\n",
       "      <td>8830.0</td>\n",
       "      <td>0.00</td>\n",
       "      <td>31.252083</td>\n",
       "      <td>42.04</td>\n",
       "      <td>24.33</td>\n",
       "      <td>1038.958333</td>\n",
       "      <td>56.250000</td>\n",
       "      <td>81.0</td>\n",
       "      <td>27.0</td>\n",
       "      <td>9.655417</td>\n",
       "      <td>16.11</td>\n",
       "      <td>5.82</td>\n",
       "      <td>0.0000</td>\n",
       "      <td>0.00</td>\n",
       "      <td>0.0</td>\n",
       "    </tr>\n",
       "    <tr>\n",
       "      <th>4</th>\n",
       "      <td>2006-02-11</td>\n",
       "      <td>91.3012</td>\n",
       "      <td>21.36</td>\n",
       "      <td>8550.0</td>\n",
       "      <td>0.00</td>\n",
       "      <td>30.429583</td>\n",
       "      <td>42.46</td>\n",
       "      <td>21.51</td>\n",
       "      <td>1037.583333</td>\n",
       "      <td>61.708333</td>\n",
       "      <td>84.0</td>\n",
       "      <td>36.0</td>\n",
       "      <td>7.250417</td>\n",
       "      <td>10.29</td>\n",
       "      <td>3.36</td>\n",
       "      <td>0.0000</td>\n",
       "      <td>0.00</td>\n",
       "      <td>0.0</td>\n",
       "    </tr>\n",
       "    <tr>\n",
       "      <th>5</th>\n",
       "      <td>2006-02-12</td>\n",
       "      <td>91.4004</td>\n",
       "      <td>21.28</td>\n",
       "      <td>8330.0</td>\n",
       "      <td>0.00</td>\n",
       "      <td>31.932083</td>\n",
       "      <td>43.92</td>\n",
       "      <td>24.57</td>\n",
       "      <td>1035.333333</td>\n",
       "      <td>68.041667</td>\n",
       "      <td>87.0</td>\n",
       "      <td>44.0</td>\n",
       "      <td>6.179583</td>\n",
       "      <td>9.17</td>\n",
       "      <td>3.36</td>\n",
       "      <td>0.0000</td>\n",
       "      <td>0.00</td>\n",
       "      <td>0.0</td>\n",
       "    </tr>\n",
       "    <tr>\n",
       "      <th>6</th>\n",
       "      <td>2006-02-13</td>\n",
       "      <td>91.5129</td>\n",
       "      <td>21.10</td>\n",
       "      <td>7820.0</td>\n",
       "      <td>0.10</td>\n",
       "      <td>31.004848</td>\n",
       "      <td>35.42</td>\n",
       "      <td>26.37</td>\n",
       "      <td>1025.878788</td>\n",
       "      <td>91.121212</td>\n",
       "      <td>96.0</td>\n",
       "      <td>81.0</td>\n",
       "      <td>7.274242</td>\n",
       "      <td>19.46</td>\n",
       "      <td>0.00</td>\n",
       "      <td>0.0000</td>\n",
       "      <td>0.00</td>\n",
       "      <td>0.0</td>\n",
       "    </tr>\n",
       "    <tr>\n",
       "      <th>7</th>\n",
       "      <td>2006-02-14</td>\n",
       "      <td>91.6071</td>\n",
       "      <td>20.97</td>\n",
       "      <td>7460.0</td>\n",
       "      <td>0.00</td>\n",
       "      <td>25.755417</td>\n",
       "      <td>35.42</td>\n",
       "      <td>18.34</td>\n",
       "      <td>1021.125000</td>\n",
       "      <td>76.083333</td>\n",
       "      <td>98.0</td>\n",
       "      <td>51.0</td>\n",
       "      <td>7.147917</td>\n",
       "      <td>10.29</td>\n",
       "      <td>3.36</td>\n",
       "      <td>0.0000</td>\n",
       "      <td>0.00</td>\n",
       "      <td>0.0</td>\n",
       "    </tr>\n",
       "    <tr>\n",
       "      <th>8</th>\n",
       "      <td>2006-02-15</td>\n",
       "      <td>91.7167</td>\n",
       "      <td>20.91</td>\n",
       "      <td>7300.0</td>\n",
       "      <td>0.00</td>\n",
       "      <td>25.828750</td>\n",
       "      <td>35.62</td>\n",
       "      <td>17.37</td>\n",
       "      <td>1019.750000</td>\n",
       "      <td>66.083333</td>\n",
       "      <td>88.0</td>\n",
       "      <td>33.0</td>\n",
       "      <td>6.552083</td>\n",
       "      <td>10.29</td>\n",
       "      <td>3.36</td>\n",
       "      <td>0.0000</td>\n",
       "      <td>0.00</td>\n",
       "      <td>0.0</td>\n",
       "    </tr>\n",
       "    <tr>\n",
       "      <th>9</th>\n",
       "      <td>2006-02-16</td>\n",
       "      <td>91.7925</td>\n",
       "      <td>20.81</td>\n",
       "      <td>7040.0</td>\n",
       "      <td>0.06</td>\n",
       "      <td>22.394400</td>\n",
       "      <td>27.81</td>\n",
       "      <td>12.18</td>\n",
       "      <td>1023.360000</td>\n",
       "      <td>65.240000</td>\n",
       "      <td>85.0</td>\n",
       "      <td>31.0</td>\n",
       "      <td>13.198800</td>\n",
       "      <td>26.17</td>\n",
       "      <td>2.24</td>\n",
       "      <td>8.4468</td>\n",
       "      <td>33.11</td>\n",
       "      <td>0.0</td>\n",
       "    </tr>\n",
       "    <tr>\n",
       "      <th>10</th>\n",
       "      <td>2006-02-17</td>\n",
       "      <td>91.9404</td>\n",
       "      <td>20.65</td>\n",
       "      <td>6630.0</td>\n",
       "      <td>0.00</td>\n",
       "      <td>13.117917</td>\n",
       "      <td>20.70</td>\n",
       "      <td>6.04</td>\n",
       "      <td>1031.625000</td>\n",
       "      <td>29.458333</td>\n",
       "      <td>39.0</td>\n",
       "      <td>23.0</td>\n",
       "      <td>20.635833</td>\n",
       "      <td>27.74</td>\n",
       "      <td>10.29</td>\n",
       "      <td>19.7600</td>\n",
       "      <td>39.15</td>\n",
       "      <td>0.0</td>\n",
       "    </tr>\n",
       "    <tr>\n",
       "      <th>11</th>\n",
       "      <td>2006-02-18</td>\n",
       "      <td>92.0808</td>\n",
       "      <td>20.51</td>\n",
       "      <td>6260.0</td>\n",
       "      <td>0.00</td>\n",
       "      <td>19.715417</td>\n",
       "      <td>32.07</td>\n",
       "      <td>9.03</td>\n",
       "      <td>1026.333333</td>\n",
       "      <td>43.375000</td>\n",
       "      <td>63.0</td>\n",
       "      <td>24.0</td>\n",
       "      <td>10.075417</td>\n",
       "      <td>17.22</td>\n",
       "      <td>3.36</td>\n",
       "      <td>0.0000</td>\n",
       "      <td>0.00</td>\n",
       "      <td>0.0</td>\n",
       "    </tr>\n",
       "    <tr>\n",
       "      <th>12</th>\n",
       "      <td>2006-02-19</td>\n",
       "      <td>92.2000</td>\n",
       "      <td>20.42</td>\n",
       "      <td>6050.0</td>\n",
       "      <td>0.00</td>\n",
       "      <td>23.388750</td>\n",
       "      <td>31.15</td>\n",
       "      <td>12.18</td>\n",
       "      <td>1023.833333</td>\n",
       "      <td>53.125000</td>\n",
       "      <td>77.0</td>\n",
       "      <td>38.0</td>\n",
       "      <td>7.875833</td>\n",
       "      <td>12.75</td>\n",
       "      <td>0.00</td>\n",
       "      <td>0.0000</td>\n",
       "      <td>0.00</td>\n",
       "      <td>0.0</td>\n",
       "    </tr>\n",
       "    <tr>\n",
       "      <th>13</th>\n",
       "      <td>2006-02-20</td>\n",
       "      <td>92.3475</td>\n",
       "      <td>20.34</td>\n",
       "      <td>5860.0</td>\n",
       "      <td>0.00</td>\n",
       "      <td>27.841667</td>\n",
       "      <td>34.05</td>\n",
       "      <td>21.09</td>\n",
       "      <td>1021.291667</td>\n",
       "      <td>50.750000</td>\n",
       "      <td>63.0</td>\n",
       "      <td>36.0</td>\n",
       "      <td>8.433750</td>\n",
       "      <td>12.75</td>\n",
       "      <td>4.70</td>\n",
       "      <td>0.0000</td>\n",
       "      <td>0.00</td>\n",
       "      <td>0.0</td>\n",
       "    </tr>\n",
       "    <tr>\n",
       "      <th>14</th>\n",
       "      <td>2006-02-21</td>\n",
       "      <td>92.5071</td>\n",
       "      <td>20.26</td>\n",
       "      <td>5660.0</td>\n",
       "      <td>0.00</td>\n",
       "      <td>34.277083</td>\n",
       "      <td>42.06</td>\n",
       "      <td>28.31</td>\n",
       "      <td>1016.541667</td>\n",
       "      <td>63.750000</td>\n",
       "      <td>83.0</td>\n",
       "      <td>46.0</td>\n",
       "      <td>12.116250</td>\n",
       "      <td>20.58</td>\n",
       "      <td>4.47</td>\n",
       "      <td>0.0000</td>\n",
       "      <td>0.00</td>\n",
       "      <td>0.0</td>\n",
       "    </tr>\n",
       "  </tbody>\n",
       "</table>\n",
       "</div>"
      ],
      "text/plain": [
       "         date  avg_well_depth  gage_ht  discharge_cfs  prcp   temp_avg  \\\n",
       "0  2006-02-07         91.0100    21.65         9420.0  0.00  35.722500   \n",
       "1  2006-02-08         91.0429    21.64         9380.0  0.00  35.124167   \n",
       "2  2006-02-09         91.1096    21.58         9210.0  0.00  32.172500   \n",
       "3  2006-02-10         91.1954    21.46         8830.0  0.00  31.252083   \n",
       "4  2006-02-11         91.3012    21.36         8550.0  0.00  30.429583   \n",
       "5  2006-02-12         91.4004    21.28         8330.0  0.00  31.932083   \n",
       "6  2006-02-13         91.5129    21.10         7820.0  0.10  31.004848   \n",
       "7  2006-02-14         91.6071    20.97         7460.0  0.00  25.755417   \n",
       "8  2006-02-15         91.7167    20.91         7300.0  0.00  25.828750   \n",
       "9  2006-02-16         91.7925    20.81         7040.0  0.06  22.394400   \n",
       "10 2006-02-17         91.9404    20.65         6630.0  0.00  13.117917   \n",
       "11 2006-02-18         92.0808    20.51         6260.0  0.00  19.715417   \n",
       "12 2006-02-19         92.2000    20.42         6050.0  0.00  23.388750   \n",
       "13 2006-02-20         92.3475    20.34         5860.0  0.00  27.841667   \n",
       "14 2006-02-21         92.5071    20.26         5660.0  0.00  34.277083   \n",
       "\n",
       "    temp_max  temp_min      hPa_avg    hum_avg  hum_max  hum_min   wind_avg  \\\n",
       "0      46.31     28.26  1028.625000  76.375000     93.0     47.0   5.826667   \n",
       "1      42.46     28.72  1026.625000  84.416667    100.0     69.0   6.366250   \n",
       "2      43.05     24.44  1035.041667  64.541667     98.0     30.0   8.732917   \n",
       "3      42.04     24.33  1038.958333  56.250000     81.0     27.0   9.655417   \n",
       "4      42.46     21.51  1037.583333  61.708333     84.0     36.0   7.250417   \n",
       "5      43.92     24.57  1035.333333  68.041667     87.0     44.0   6.179583   \n",
       "6      35.42     26.37  1025.878788  91.121212     96.0     81.0   7.274242   \n",
       "7      35.42     18.34  1021.125000  76.083333     98.0     51.0   7.147917   \n",
       "8      35.62     17.37  1019.750000  66.083333     88.0     33.0   6.552083   \n",
       "9      27.81     12.18  1023.360000  65.240000     85.0     31.0  13.198800   \n",
       "10     20.70      6.04  1031.625000  29.458333     39.0     23.0  20.635833   \n",
       "11     32.07      9.03  1026.333333  43.375000     63.0     24.0  10.075417   \n",
       "12     31.15     12.18  1023.833333  53.125000     77.0     38.0   7.875833   \n",
       "13     34.05     21.09  1021.291667  50.750000     63.0     36.0   8.433750   \n",
       "14     42.06     28.31  1016.541667  63.750000     83.0     46.0  12.116250   \n",
       "\n",
       "    wind_max  wind_min  gust_avg  gust_max  gust_min  \n",
       "0      10.29      3.36    0.0000      0.00       0.0  \n",
       "1      11.41      3.36    0.0000      0.00       0.0  \n",
       "2      13.87      5.82    0.7175     17.22       0.0  \n",
       "3      16.11      5.82    0.0000      0.00       0.0  \n",
       "4      10.29      3.36    0.0000      0.00       0.0  \n",
       "5       9.17      3.36    0.0000      0.00       0.0  \n",
       "6      19.46      0.00    0.0000      0.00       0.0  \n",
       "7      10.29      3.36    0.0000      0.00       0.0  \n",
       "8      10.29      3.36    0.0000      0.00       0.0  \n",
       "9      26.17      2.24    8.4468     33.11       0.0  \n",
       "10     27.74     10.29   19.7600     39.15       0.0  \n",
       "11     17.22      3.36    0.0000      0.00       0.0  \n",
       "12     12.75      0.00    0.0000      0.00       0.0  \n",
       "13     12.75      4.70    0.0000      0.00       0.0  \n",
       "14     20.58      4.47    0.0000      0.00       0.0  "
      ]
     },
     "execution_count": 2,
     "metadata": {},
     "output_type": "execute_result"
    }
   ],
   "source": [
    "df = pd.read_pickle('../data/pickled_data/AFL259_short.pkl')\n",
    "df.reset_index(inplace=True,drop=True)\n",
    "df.head(15)"
   ]
  },
  {
   "cell_type": "code",
   "execution_count": 3,
   "id": "ef6b56b9",
   "metadata": {},
   "outputs": [
    {
     "data": {
      "text/html": [
       "<div>\n",
       "<style scoped>\n",
       "    .dataframe tbody tr th:only-of-type {\n",
       "        vertical-align: middle;\n",
       "    }\n",
       "\n",
       "    .dataframe tbody tr th {\n",
       "        vertical-align: top;\n",
       "    }\n",
       "\n",
       "    .dataframe thead th {\n",
       "        text-align: right;\n",
       "    }\n",
       "</style>\n",
       "<table border=\"1\" class=\"dataframe\">\n",
       "  <thead>\n",
       "    <tr style=\"text-align: right;\">\n",
       "      <th></th>\n",
       "      <th>date</th>\n",
       "      <th>avg_well_depth</th>\n",
       "      <th>gage_ht</th>\n",
       "      <th>discharge_cfs</th>\n",
       "      <th>prcp</th>\n",
       "      <th>temp_avg</th>\n",
       "      <th>temp_max</th>\n",
       "      <th>temp_min</th>\n",
       "      <th>hPa_avg</th>\n",
       "      <th>hum_avg</th>\n",
       "      <th>hum_max</th>\n",
       "      <th>hum_min</th>\n",
       "      <th>wind_avg</th>\n",
       "      <th>wind_max</th>\n",
       "      <th>wind_min</th>\n",
       "      <th>gust_avg</th>\n",
       "      <th>gust_max</th>\n",
       "      <th>gust_min</th>\n",
       "    </tr>\n",
       "    <tr>\n",
       "      <th>date</th>\n",
       "      <th></th>\n",
       "      <th></th>\n",
       "      <th></th>\n",
       "      <th></th>\n",
       "      <th></th>\n",
       "      <th></th>\n",
       "      <th></th>\n",
       "      <th></th>\n",
       "      <th></th>\n",
       "      <th></th>\n",
       "      <th></th>\n",
       "      <th></th>\n",
       "      <th></th>\n",
       "      <th></th>\n",
       "      <th></th>\n",
       "      <th></th>\n",
       "      <th></th>\n",
       "      <th></th>\n",
       "    </tr>\n",
       "  </thead>\n",
       "  <tbody>\n",
       "    <tr>\n",
       "      <th>2006-02-07</th>\n",
       "      <td>2006-02-07</td>\n",
       "      <td>91.0100</td>\n",
       "      <td>21.65</td>\n",
       "      <td>9420.0</td>\n",
       "      <td>0.0</td>\n",
       "      <td>35.722500</td>\n",
       "      <td>46.31</td>\n",
       "      <td>28.26</td>\n",
       "      <td>1028.625000</td>\n",
       "      <td>76.375000</td>\n",
       "      <td>93.0</td>\n",
       "      <td>47.0</td>\n",
       "      <td>5.826667</td>\n",
       "      <td>10.29</td>\n",
       "      <td>3.36</td>\n",
       "      <td>0.000000</td>\n",
       "      <td>0.00</td>\n",
       "      <td>0.0</td>\n",
       "    </tr>\n",
       "    <tr>\n",
       "      <th>2006-02-08</th>\n",
       "      <td>2006-02-08</td>\n",
       "      <td>91.0429</td>\n",
       "      <td>21.64</td>\n",
       "      <td>9380.0</td>\n",
       "      <td>0.0</td>\n",
       "      <td>35.124167</td>\n",
       "      <td>42.46</td>\n",
       "      <td>28.72</td>\n",
       "      <td>1026.625000</td>\n",
       "      <td>84.416667</td>\n",
       "      <td>100.0</td>\n",
       "      <td>69.0</td>\n",
       "      <td>6.366250</td>\n",
       "      <td>11.41</td>\n",
       "      <td>3.36</td>\n",
       "      <td>0.000000</td>\n",
       "      <td>0.00</td>\n",
       "      <td>0.0</td>\n",
       "    </tr>\n",
       "    <tr>\n",
       "      <th>2006-02-09</th>\n",
       "      <td>2006-02-09</td>\n",
       "      <td>91.1096</td>\n",
       "      <td>21.58</td>\n",
       "      <td>9210.0</td>\n",
       "      <td>0.0</td>\n",
       "      <td>32.172500</td>\n",
       "      <td>43.05</td>\n",
       "      <td>24.44</td>\n",
       "      <td>1035.041667</td>\n",
       "      <td>64.541667</td>\n",
       "      <td>98.0</td>\n",
       "      <td>30.0</td>\n",
       "      <td>8.732917</td>\n",
       "      <td>13.87</td>\n",
       "      <td>5.82</td>\n",
       "      <td>0.717500</td>\n",
       "      <td>17.22</td>\n",
       "      <td>0.0</td>\n",
       "    </tr>\n",
       "    <tr>\n",
       "      <th>2006-02-10</th>\n",
       "      <td>2006-02-10</td>\n",
       "      <td>91.1954</td>\n",
       "      <td>21.46</td>\n",
       "      <td>8830.0</td>\n",
       "      <td>0.0</td>\n",
       "      <td>31.252083</td>\n",
       "      <td>42.04</td>\n",
       "      <td>24.33</td>\n",
       "      <td>1038.958333</td>\n",
       "      <td>56.250000</td>\n",
       "      <td>81.0</td>\n",
       "      <td>27.0</td>\n",
       "      <td>9.655417</td>\n",
       "      <td>16.11</td>\n",
       "      <td>5.82</td>\n",
       "      <td>0.000000</td>\n",
       "      <td>0.00</td>\n",
       "      <td>0.0</td>\n",
       "    </tr>\n",
       "    <tr>\n",
       "      <th>2006-02-11</th>\n",
       "      <td>2006-02-11</td>\n",
       "      <td>91.3012</td>\n",
       "      <td>21.36</td>\n",
       "      <td>8550.0</td>\n",
       "      <td>0.0</td>\n",
       "      <td>30.429583</td>\n",
       "      <td>42.46</td>\n",
       "      <td>21.51</td>\n",
       "      <td>1037.583333</td>\n",
       "      <td>61.708333</td>\n",
       "      <td>84.0</td>\n",
       "      <td>36.0</td>\n",
       "      <td>7.250417</td>\n",
       "      <td>10.29</td>\n",
       "      <td>3.36</td>\n",
       "      <td>0.000000</td>\n",
       "      <td>0.00</td>\n",
       "      <td>0.0</td>\n",
       "    </tr>\n",
       "    <tr>\n",
       "      <th>...</th>\n",
       "      <td>...</td>\n",
       "      <td>...</td>\n",
       "      <td>...</td>\n",
       "      <td>...</td>\n",
       "      <td>...</td>\n",
       "      <td>...</td>\n",
       "      <td>...</td>\n",
       "      <td>...</td>\n",
       "      <td>...</td>\n",
       "      <td>...</td>\n",
       "      <td>...</td>\n",
       "      <td>...</td>\n",
       "      <td>...</td>\n",
       "      <td>...</td>\n",
       "      <td>...</td>\n",
       "      <td>...</td>\n",
       "      <td>...</td>\n",
       "      <td>...</td>\n",
       "    </tr>\n",
       "    <tr>\n",
       "      <th>2018-06-02</th>\n",
       "      <td>2018-06-02</td>\n",
       "      <td>79.4696</td>\n",
       "      <td>21.84</td>\n",
       "      <td>10000.0</td>\n",
       "      <td>0.0</td>\n",
       "      <td>62.812083</td>\n",
       "      <td>77.25</td>\n",
       "      <td>46.35</td>\n",
       "      <td>1022.750000</td>\n",
       "      <td>48.333333</td>\n",
       "      <td>83.0</td>\n",
       "      <td>24.0</td>\n",
       "      <td>6.976250</td>\n",
       "      <td>11.50</td>\n",
       "      <td>3.44</td>\n",
       "      <td>0.000000</td>\n",
       "      <td>0.00</td>\n",
       "      <td>0.0</td>\n",
       "    </tr>\n",
       "    <tr>\n",
       "      <th>2018-06-03</th>\n",
       "      <td>2018-06-03</td>\n",
       "      <td>80.0721</td>\n",
       "      <td>21.59</td>\n",
       "      <td>9240.0</td>\n",
       "      <td>0.0</td>\n",
       "      <td>69.826250</td>\n",
       "      <td>86.25</td>\n",
       "      <td>52.66</td>\n",
       "      <td>1013.875000</td>\n",
       "      <td>46.416667</td>\n",
       "      <td>79.0</td>\n",
       "      <td>23.0</td>\n",
       "      <td>10.141667</td>\n",
       "      <td>21.92</td>\n",
       "      <td>3.44</td>\n",
       "      <td>3.165833</td>\n",
       "      <td>29.97</td>\n",
       "      <td>0.0</td>\n",
       "    </tr>\n",
       "    <tr>\n",
       "      <th>2018-06-04</th>\n",
       "      <td>2018-06-04</td>\n",
       "      <td>80.4046</td>\n",
       "      <td>21.50</td>\n",
       "      <td>8970.0</td>\n",
       "      <td>0.0</td>\n",
       "      <td>62.956250</td>\n",
       "      <td>71.67</td>\n",
       "      <td>56.35</td>\n",
       "      <td>1012.833333</td>\n",
       "      <td>41.666667</td>\n",
       "      <td>65.0</td>\n",
       "      <td>18.0</td>\n",
       "      <td>14.850000</td>\n",
       "      <td>23.04</td>\n",
       "      <td>8.05</td>\n",
       "      <td>4.030417</td>\n",
       "      <td>28.77</td>\n",
       "      <td>0.0</td>\n",
       "    </tr>\n",
       "    <tr>\n",
       "      <th>2018-06-05</th>\n",
       "      <td>2018-06-05</td>\n",
       "      <td>80.6565</td>\n",
       "      <td>21.45</td>\n",
       "      <td>8800.0</td>\n",
       "      <td>0.0</td>\n",
       "      <td>60.617500</td>\n",
       "      <td>71.04</td>\n",
       "      <td>47.41</td>\n",
       "      <td>1013.958333</td>\n",
       "      <td>39.166667</td>\n",
       "      <td>68.0</td>\n",
       "      <td>20.0</td>\n",
       "      <td>10.478333</td>\n",
       "      <td>17.27</td>\n",
       "      <td>4.70</td>\n",
       "      <td>2.880000</td>\n",
       "      <td>24.16</td>\n",
       "      <td>0.0</td>\n",
       "    </tr>\n",
       "    <tr>\n",
       "      <th>2018-06-06</th>\n",
       "      <td>2018-06-06</td>\n",
       "      <td>80.8423</td>\n",
       "      <td>21.42</td>\n",
       "      <td>8710.0</td>\n",
       "      <td>0.0</td>\n",
       "      <td>64.216250</td>\n",
       "      <td>78.35</td>\n",
       "      <td>47.19</td>\n",
       "      <td>1013.083333</td>\n",
       "      <td>39.000000</td>\n",
       "      <td>68.0</td>\n",
       "      <td>19.0</td>\n",
       "      <td>5.888750</td>\n",
       "      <td>9.22</td>\n",
       "      <td>3.44</td>\n",
       "      <td>0.000000</td>\n",
       "      <td>0.00</td>\n",
       "      <td>0.0</td>\n",
       "    </tr>\n",
       "  </tbody>\n",
       "</table>\n",
       "<p>4503 rows × 18 columns</p>\n",
       "</div>"
      ],
      "text/plain": [
       "                 date  avg_well_depth  gage_ht  discharge_cfs  prcp  \\\n",
       "date                                                                  \n",
       "2006-02-07 2006-02-07         91.0100    21.65         9420.0   0.0   \n",
       "2006-02-08 2006-02-08         91.0429    21.64         9380.0   0.0   \n",
       "2006-02-09 2006-02-09         91.1096    21.58         9210.0   0.0   \n",
       "2006-02-10 2006-02-10         91.1954    21.46         8830.0   0.0   \n",
       "2006-02-11 2006-02-11         91.3012    21.36         8550.0   0.0   \n",
       "...               ...             ...      ...            ...   ...   \n",
       "2018-06-02 2018-06-02         79.4696    21.84        10000.0   0.0   \n",
       "2018-06-03 2018-06-03         80.0721    21.59         9240.0   0.0   \n",
       "2018-06-04 2018-06-04         80.4046    21.50         8970.0   0.0   \n",
       "2018-06-05 2018-06-05         80.6565    21.45         8800.0   0.0   \n",
       "2018-06-06 2018-06-06         80.8423    21.42         8710.0   0.0   \n",
       "\n",
       "             temp_avg  temp_max  temp_min      hPa_avg    hum_avg  hum_max  \\\n",
       "date                                                                         \n",
       "2006-02-07  35.722500     46.31     28.26  1028.625000  76.375000     93.0   \n",
       "2006-02-08  35.124167     42.46     28.72  1026.625000  84.416667    100.0   \n",
       "2006-02-09  32.172500     43.05     24.44  1035.041667  64.541667     98.0   \n",
       "2006-02-10  31.252083     42.04     24.33  1038.958333  56.250000     81.0   \n",
       "2006-02-11  30.429583     42.46     21.51  1037.583333  61.708333     84.0   \n",
       "...               ...       ...       ...          ...        ...      ...   \n",
       "2018-06-02  62.812083     77.25     46.35  1022.750000  48.333333     83.0   \n",
       "2018-06-03  69.826250     86.25     52.66  1013.875000  46.416667     79.0   \n",
       "2018-06-04  62.956250     71.67     56.35  1012.833333  41.666667     65.0   \n",
       "2018-06-05  60.617500     71.04     47.41  1013.958333  39.166667     68.0   \n",
       "2018-06-06  64.216250     78.35     47.19  1013.083333  39.000000     68.0   \n",
       "\n",
       "            hum_min   wind_avg  wind_max  wind_min  gust_avg  gust_max  \\\n",
       "date                                                                     \n",
       "2006-02-07     47.0   5.826667     10.29      3.36  0.000000      0.00   \n",
       "2006-02-08     69.0   6.366250     11.41      3.36  0.000000      0.00   \n",
       "2006-02-09     30.0   8.732917     13.87      5.82  0.717500     17.22   \n",
       "2006-02-10     27.0   9.655417     16.11      5.82  0.000000      0.00   \n",
       "2006-02-11     36.0   7.250417     10.29      3.36  0.000000      0.00   \n",
       "...             ...        ...       ...       ...       ...       ...   \n",
       "2018-06-02     24.0   6.976250     11.50      3.44  0.000000      0.00   \n",
       "2018-06-03     23.0  10.141667     21.92      3.44  3.165833     29.97   \n",
       "2018-06-04     18.0  14.850000     23.04      8.05  4.030417     28.77   \n",
       "2018-06-05     20.0  10.478333     17.27      4.70  2.880000     24.16   \n",
       "2018-06-06     19.0   5.888750      9.22      3.44  0.000000      0.00   \n",
       "\n",
       "            gust_min  \n",
       "date                  \n",
       "2006-02-07       0.0  \n",
       "2006-02-08       0.0  \n",
       "2006-02-09       0.0  \n",
       "2006-02-10       0.0  \n",
       "2006-02-11       0.0  \n",
       "...              ...  \n",
       "2018-06-02       0.0  \n",
       "2018-06-03       0.0  \n",
       "2018-06-04       0.0  \n",
       "2018-06-05       0.0  \n",
       "2018-06-06       0.0  \n",
       "\n",
       "[4503 rows x 18 columns]"
      ]
     },
     "execution_count": 3,
     "metadata": {},
     "output_type": "execute_result"
    }
   ],
   "source": [
    "df.index = df.date\n",
    "df"
   ]
  },
  {
   "cell_type": "code",
   "execution_count": 4,
   "id": "b8bd7cf4",
   "metadata": {},
   "outputs": [
    {
     "data": {
      "text/plain": [
       "DatetimeIndex(['2006-02-07', '2006-02-08', '2006-02-09', '2006-02-10',\n",
       "               '2006-02-11', '2006-02-12', '2006-02-13', '2006-02-14',\n",
       "               '2006-02-15', '2006-02-16',\n",
       "               ...\n",
       "               '2018-05-28', '2018-05-29', '2018-05-30', '2018-05-31',\n",
       "               '2018-06-01', '2018-06-02', '2018-06-03', '2018-06-04',\n",
       "               '2018-06-05', '2018-06-06'],\n",
       "              dtype='datetime64[ns]', name='date', length=4503, freq=None)"
      ]
     },
     "execution_count": 4,
     "metadata": {},
     "output_type": "execute_result"
    }
   ],
   "source": [
    "df.index"
   ]
  },
  {
   "cell_type": "code",
   "execution_count": 5,
   "id": "c9df68a7",
   "metadata": {},
   "outputs": [
    {
     "data": {
      "text/plain": [
       "date\n",
       "2006-02-07    91.0100\n",
       "2006-02-08    91.0429\n",
       "2006-02-09    91.1096\n",
       "2006-02-10    91.1954\n",
       "2006-02-11    91.3012\n",
       "               ...   \n",
       "2018-06-02    79.4696\n",
       "2018-06-03    80.0721\n",
       "2018-06-04    80.4046\n",
       "2018-06-05    80.6565\n",
       "2018-06-06    80.8423\n",
       "Name: avg_well_depth, Length: 4503, dtype: float64"
      ]
     },
     "metadata": {},
     "output_type": "display_data"
    },
    {
     "data": {
      "text/plain": [
       "<Axes: xlabel='date'>"
      ]
     },
     "execution_count": 5,
     "metadata": {},
     "output_type": "execute_result"
    },
    {
     "data": {
      "image/png": "[encoded data removed]",
      "text/plain": [
       "<Figure size 432x288 with 1 Axes>"
      ]
     },
     "metadata": {
      "needs_background": "light"
     },
     "output_type": "display_data"
    }
   ],
   "source": [
    "well = df.avg_well_depth\n",
    "display(well)\n",
    "well.plot()"
   ]
  },
  {
   "cell_type": "code",
   "execution_count": 6,
   "id": "f82803f2",
   "metadata": {},
   "outputs": [],
   "source": [
    "def df_to_X_y(df, window_size=5):\n",
    "    df_as_np = df.to_numpy()\n",
    "    X = []\n",
    "    y = []\n",
    "    for i in range(len(df_as_np)-window_size):\n",
    "        row = [[a] for a in df_as_np[i:i+window_size]]\n",
    "        X.append(row)\n",
    "        label = df_as_np[i+window_size]\n",
    "        y.append(label)\n",
    "    return np.array(X), np.array(y)"
   ]
  },
  {
   "cell_type": "code",
   "execution_count": 7,
   "id": "8586027c",
   "metadata": {},
   "outputs": [
    {
     "data": {
      "text/plain": [
       "((4498, 5, 1), (4498,))"
      ]
     },
     "execution_count": 7,
     "metadata": {},
     "output_type": "execute_result"
    }
   ],
   "source": [
    "WINDOW_SIZE = 5\n",
    "X, y = df_to_X_y(well, WINDOW_SIZE)\n",
    "X.shape, y.shape"
   ]
  },
  {
   "cell_type": "markdown",
   "id": "0a89b151",
   "metadata": {},
   "source": [
    "### Train Test Split"
   ]
  },
  {
   "cell_type": "code",
   "execution_count": 8,
   "id": "b95c58bf",
   "metadata": {},
   "outputs": [
    {
     "data": {
      "text/plain": [
       "((3498, 5, 1), (3498,), (500, 5, 1), (500,), (500, 5, 1), (500,))"
      ]
     },
     "execution_count": 8,
     "metadata": {},
     "output_type": "execute_result"
    }
   ],
   "source": [
    "X_train, y_train = X[:3498], y[:3498]\n",
    "X_val, y_val = X[3498:3998], y[3498:3998]\n",
    "X_test, y_test = X[3998:], y[3998:]\n",
    "X_train.shape, y_train.shape, X_val.shape, y_val.shape, X_test.shape, y_test.shape"
   ]
  },
  {
   "cell_type": "code",
   "execution_count": 9,
   "id": "fd200b6a",
   "metadata": {},
   "outputs": [
    {
     "data": {
      "text/plain": [
       "(array([[[91.01  ],\n",
       "         [91.0429],\n",
       "         [91.1096],\n",
       "         [91.1954],\n",
       "         [91.3012]],\n",
       " \n",
       "        [[91.0429],\n",
       "         [91.1096],\n",
       "         [91.1954],\n",
       "         [91.3012],\n",
       "         [91.4004]],\n",
       " \n",
       "        [[91.1096],\n",
       "         [91.1954],\n",
       "         [91.3012],\n",
       "         [91.4004],\n",
       "         [91.5129]],\n",
       " \n",
       "        ...,\n",
       " \n",
       "        [[95.4479],\n",
       "         [95.4433],\n",
       "         [95.4413],\n",
       "         [95.4196],\n",
       "         [95.4054]],\n",
       " \n",
       "        [[95.4433],\n",
       "         [95.4413],\n",
       "         [95.4196],\n",
       "         [95.4054],\n",
       "         [95.3908]],\n",
       " \n",
       "        [[95.4413],\n",
       "         [95.4196],\n",
       "         [95.4054],\n",
       "         [95.3908],\n",
       "         [95.3604]]]),\n",
       " array([91.4004, 91.5129, 91.6071, ..., 95.3908, 95.3604, 95.3237]))"
      ]
     },
     "execution_count": 9,
     "metadata": {},
     "output_type": "execute_result"
    }
   ],
   "source": [
    "X_train, y_train"
   ]
  },
  {
   "cell_type": "markdown",
   "id": "cdbb1082",
   "metadata": {},
   "source": [
    "### Tensorflow things"
   ]
  },
  {
   "cell_type": "code",
   "execution_count": 10,
   "id": "2dcb64f0",
   "metadata": {},
   "outputs": [],
   "source": [
    "from tensorflow.keras.models import Sequential\n",
    "from tensorflow.keras.layers import *\n",
    "from tensorflow.keras.callbacks import ModelCheckpoint\n",
    "from tensorflow.keras.losses import MeanSquaredError\n",
    "from tensorflow.keras.metrics import RootMeanSquaredError\n",
    "from tensorflow.keras.optimizers import Adam\n",
    "\n",
    "from tensorflow.keras.models import load_model"
   ]
  },
  {
   "cell_type": "markdown",
   "id": "bed17834",
   "metadata": {},
   "source": [
    "## Build LSTM single variable model"
   ]
  },
  {
   "cell_type": "code",
   "execution_count": 11,
   "id": "0cb5d365",
   "metadata": {},
   "outputs": [
    {
     "name": "stderr",
     "output_type": "stream",
     "text": [
      "2023-11-13 15:00:50.919686: I tensorflow/compiler/xla/stream_executor/cuda/cuda_gpu_executor.cc:894] successful NUMA node read from SysFS had negative value (-1), but there must be at least one NUMA node, so returning NUMA node zero. See more at https://github.com/torvalds/linux/blob/v6.0/Documentation/ABI/testing/sysfs-bus-pci#L344-L355\n",
      "2023-11-13 15:00:50.922530: W tensorflow/core/common_runtime/gpu/gpu_device.cc:2211] Cannot dlopen some GPU libraries. Please make sure the missing libraries mentioned above are installed properly if you would like to use GPU. Follow the guide at https://www.tensorflow.org/install/gpu for how to download and setup the required libraries for your platform.\n",
      "Skipping registering GPU devices...\n"
     ]
    },
    {
     "name": "stdout",
     "output_type": "stream",
     "text": [
      "Model: \"sequential\"\n",
      "_________________________________________________________________\n",
      " Layer (type)                Output Shape              Param #   \n",
      "=================================================================\n",
      " lstm (LSTM)                 (None, 64)                16896     \n",
      "                                                                 \n",
      " dense (Dense)               (None, 8)                 520       \n",
      "                                                                 \n",
      " dense_1 (Dense)             (None, 1)                 9         \n",
      "                                                                 \n",
      "=================================================================\n",
      "Total params: 17425 (68.07 KB)\n",
      "Trainable params: 17425 (68.07 KB)\n",
      "Non-trainable params: 0 (0.00 Byte)\n",
      "_________________________________________________________________\n"
     ]
    }
   ],
   "source": [
    "model1 = Sequential()\n",
    "model1.add(InputLayer((5,1)))\n",
    "model1.add(LSTM(64))\n",
    "model1.add(Dense(8, 'relu'))\n",
    "model1.add(Dense(1, 'linear'))\n",
    "\n",
    "model1.summary()"
   ]
  },
  {
   "cell_type": "code",
   "execution_count": 12,
   "id": "1658d04a",
   "metadata": {},
   "outputs": [],
   "source": [
    "cp = ModelCheckpoint('meremodel1/', save_best_only=True)\n",
    "# the above makes a folder that our gitignore should exclude\n",
    "\n",
    "model1.compile(loss=MeanSquaredError(), optimizer=Adam(learning_rate=0.001), metrics=[RootMeanSquaredError()])"
   ]
  },
  {
   "cell_type": "code",
   "execution_count": 13,
   "id": "30209113",
   "metadata": {},
   "outputs": [
    {
     "name": "stdout",
     "output_type": "stream",
     "text": [
      "Epoch 1/50\n",
      " 91/110 [=======================>......] - ETA: 0s - loss: 7220.6152 - root_mean_squared_error: 84.9742INFO:tensorflow:Assets written to: meremodel1/assets\n"
     ]
    },
    {
     "name": "stderr",
     "output_type": "stream",
     "text": [
      "INFO:tensorflow:Assets written to: meremodel1/assets\n"
     ]
    },
    {
     "name": "stdout",
     "output_type": "stream",
     "text": [
      "110/110 [==============================] - 5s 26ms/step - loss: 6845.4956 - root_mean_squared_error: 82.7375 - val_loss: 4669.4419 - val_root_mean_squared_error: 68.3333\n",
      "Epoch 2/50\n",
      " 89/110 [=======================>......] - ETA: 0s - loss: 2949.7195 - root_mean_squared_error: 54.3113INFO:tensorflow:Assets written to: meremodel1/assets\n"
     ]
    },
    {
     "name": "stderr",
     "output_type": "stream",
     "text": [
      "INFO:tensorflow:Assets written to: meremodel1/assets\n"
     ]
    },
    {
     "name": "stdout",
     "output_type": "stream",
     "text": [
      "110/110 [==============================] - 2s 18ms/step - loss: 2668.2075 - root_mean_squared_error: 51.6547 - val_loss: 1247.3467 - val_root_mean_squared_error: 35.3178\n",
      "Epoch 3/50\n",
      " 92/110 [========================>.....] - ETA: 0s - loss: 649.6098 - root_mean_squared_error: 25.4874INFO:tensorflow:Assets written to: meremodel1/assets\n"
     ]
    },
    {
     "name": "stderr",
     "output_type": "stream",
     "text": [
      "INFO:tensorflow:Assets written to: meremodel1/assets\n"
     ]
    },
    {
     "name": "stdout",
     "output_type": "stream",
     "text": [
      "110/110 [==============================] - 2s 20ms/step - loss: 577.4955 - root_mean_squared_error: 24.0311 - val_loss: 163.2334 - val_root_mean_squared_error: 12.7763\n",
      "Epoch 4/50\n",
      " 90/110 [=======================>......] - ETA: 0s - loss: 70.3649 - root_mean_squared_error: 8.3884INFO:tensorflow:Assets written to: meremodel1/assets\n"
     ]
    },
    {
     "name": "stderr",
     "output_type": "stream",
     "text": [
      "INFO:tensorflow:Assets written to: meremodel1/assets\n"
     ]
    },
    {
     "name": "stdout",
     "output_type": "stream",
     "text": [
      "110/110 [==============================] - 2s 18ms/step - loss: 61.8059 - root_mean_squared_error: 7.8617 - val_loss: 16.2533 - val_root_mean_squared_error: 4.0315\n",
      "Epoch 5/50\n",
      " 88/110 [=======================>......] - ETA: 0s - loss: 14.0446 - root_mean_squared_error: 3.7476INFO:tensorflow:Assets written to: meremodel1/assets\n"
     ]
    },
    {
     "name": "stderr",
     "output_type": "stream",
     "text": [
      "INFO:tensorflow:Assets written to: meremodel1/assets\n"
     ]
    },
    {
     "name": "stdout",
     "output_type": "stream",
     "text": [
      "110/110 [==============================] - 2s 18ms/step - loss: 13.8749 - root_mean_squared_error: 3.7249 - val_loss: 8.2033 - val_root_mean_squared_error: 2.8641\n",
      "Epoch 6/50\n",
      " 88/110 [=======================>......] - ETA: 0s - loss: 12.5957 - root_mean_squared_error: 3.5490INFO:tensorflow:Assets written to: meremodel1/assets\n"
     ]
    },
    {
     "name": "stderr",
     "output_type": "stream",
     "text": [
      "INFO:tensorflow:Assets written to: meremodel1/assets\n"
     ]
    },
    {
     "name": "stdout",
     "output_type": "stream",
     "text": [
      "110/110 [==============================] - 2s 20ms/step - loss: 12.1272 - root_mean_squared_error: 3.4824 - val_loss: 7.8748 - val_root_mean_squared_error: 2.8062\n",
      "Epoch 7/50\n",
      " 89/110 [=======================>......] - ETA: 0s - loss: 11.4561 - root_mean_squared_error: 3.3847INFO:tensorflow:Assets written to: meremodel1/assets\n"
     ]
    },
    {
     "name": "stderr",
     "output_type": "stream",
     "text": [
      "INFO:tensorflow:Assets written to: meremodel1/assets\n"
     ]
    },
    {
     "name": "stdout",
     "output_type": "stream",
     "text": [
      "110/110 [==============================] - 2s 18ms/step - loss: 11.4518 - root_mean_squared_error: 3.3840 - val_loss: 7.6893 - val_root_mean_squared_error: 2.7730\n",
      "Epoch 8/50\n",
      " 91/110 [=======================>......] - ETA: 0s - loss: 9.4183 - root_mean_squared_error: 3.0689INFO:tensorflow:Assets written to: meremodel1/assets\n"
     ]
    },
    {
     "name": "stderr",
     "output_type": "stream",
     "text": [
      "INFO:tensorflow:Assets written to: meremodel1/assets\n"
     ]
    },
    {
     "name": "stdout",
     "output_type": "stream",
     "text": [
      "110/110 [==============================] - 2s 20ms/step - loss: 9.2815 - root_mean_squared_error: 3.0466 - val_loss: 5.7487 - val_root_mean_squared_error: 2.3977\n",
      "Epoch 9/50\n",
      " 94/110 [========================>.....] - ETA: 0s - loss: 7.3807 - root_mean_squared_error: 2.7167INFO:tensorflow:Assets written to: meremodel1/assets\n"
     ]
    },
    {
     "name": "stderr",
     "output_type": "stream",
     "text": [
      "INFO:tensorflow:Assets written to: meremodel1/assets\n"
     ]
    },
    {
     "name": "stdout",
     "output_type": "stream",
     "text": [
      "110/110 [==============================] - 2s 18ms/step - loss: 7.2384 - root_mean_squared_error: 2.6904 - val_loss: 4.7094 - val_root_mean_squared_error: 2.1701\n",
      "Epoch 10/50\n",
      " 90/110 [=======================>......] - ETA: 0s - loss: 5.3344 - root_mean_squared_error: 2.3096INFO:tensorflow:Assets written to: meremodel1/assets\n"
     ]
    },
    {
     "name": "stderr",
     "output_type": "stream",
     "text": [
      "INFO:tensorflow:Assets written to: meremodel1/assets\n"
     ]
    },
    {
     "name": "stdout",
     "output_type": "stream",
     "text": [
      "110/110 [==============================] - 2s 18ms/step - loss: 5.2046 - root_mean_squared_error: 2.2814 - val_loss: 3.3621 - val_root_mean_squared_error: 1.8336\n",
      "Epoch 11/50\n",
      "104/110 [===========================>..] - ETA: 0s - loss: 3.0774 - root_mean_squared_error: 1.7543INFO:tensorflow:Assets written to: meremodel1/assets\n"
     ]
    },
    {
     "name": "stderr",
     "output_type": "stream",
     "text": [
      "INFO:tensorflow:Assets written to: meremodel1/assets\n"
     ]
    },
    {
     "name": "stdout",
     "output_type": "stream",
     "text": [
      "110/110 [==============================] - 2s 21ms/step - loss: 3.0475 - root_mean_squared_error: 1.7457 - val_loss: 1.7474 - val_root_mean_squared_error: 1.3219\n",
      "Epoch 12/50\n",
      " 92/110 [========================>.....] - ETA: 0s - loss: 1.3492 - root_mean_squared_error: 1.1616INFO:tensorflow:Assets written to: meremodel1/assets\n"
     ]
    },
    {
     "name": "stderr",
     "output_type": "stream",
     "text": [
      "INFO:tensorflow:Assets written to: meremodel1/assets\n"
     ]
    },
    {
     "name": "stdout",
     "output_type": "stream",
     "text": [
      "110/110 [==============================] - 2s 18ms/step - loss: 1.2434 - root_mean_squared_error: 1.1151 - val_loss: 0.6032 - val_root_mean_squared_error: 0.7766\n",
      "Epoch 13/50\n",
      " 92/110 [========================>.....] - ETA: 0s - loss: 0.4493 - root_mean_squared_error: 0.6703INFO:tensorflow:Assets written to: meremodel1/assets\n"
     ]
    },
    {
     "name": "stderr",
     "output_type": "stream",
     "text": [
      "INFO:tensorflow:Assets written to: meremodel1/assets\n"
     ]
    },
    {
     "name": "stdout",
     "output_type": "stream",
     "text": [
      "110/110 [==============================] - 2s 20ms/step - loss: 0.4193 - root_mean_squared_error: 0.6475 - val_loss: 0.2346 - val_root_mean_squared_error: 0.4844\n",
      "Epoch 14/50\n",
      " 91/110 [=======================>......] - ETA: 0s - loss: 0.2385 - root_mean_squared_error: 0.4884INFO:tensorflow:Assets written to: meremodel1/assets\n"
     ]
    },
    {
     "name": "stderr",
     "output_type": "stream",
     "text": [
      "INFO:tensorflow:Assets written to: meremodel1/assets\n"
     ]
    },
    {
     "name": "stdout",
     "output_type": "stream",
     "text": [
      "110/110 [==============================] - 2s 18ms/step - loss: 0.2343 - root_mean_squared_error: 0.4841 - val_loss: 0.1632 - val_root_mean_squared_error: 0.4040\n",
      "Epoch 15/50\n",
      " 90/110 [=======================>......] - ETA: 0s - loss: 0.1789 - root_mean_squared_error: 0.4230INFO:tensorflow:Assets written to: meremodel1/assets\n"
     ]
    },
    {
     "name": "stderr",
     "output_type": "stream",
     "text": [
      "INFO:tensorflow:Assets written to: meremodel1/assets\n"
     ]
    },
    {
     "name": "stdout",
     "output_type": "stream",
     "text": [
      "110/110 [==============================] - 2s 18ms/step - loss: 0.1693 - root_mean_squared_error: 0.4114 - val_loss: 0.1535 - val_root_mean_squared_error: 0.3918\n",
      "Epoch 16/50\n",
      " 89/110 [=======================>......] - ETA: 0s - loss: 0.1500 - root_mean_squared_error: 0.3873INFO:tensorflow:Assets written to: meremodel1/assets\n"
     ]
    },
    {
     "name": "stderr",
     "output_type": "stream",
     "text": [
      "INFO:tensorflow:Assets written to: meremodel1/assets\n"
     ]
    },
    {
     "name": "stdout",
     "output_type": "stream",
     "text": [
      "110/110 [==============================] - 2s 20ms/step - loss: 0.1437 - root_mean_squared_error: 0.3791 - val_loss: 0.0949 - val_root_mean_squared_error: 0.3080\n",
      "Epoch 17/50\n",
      " 94/110 [========================>.....] - ETA: 0s - loss: 0.1243 - root_mean_squared_error: 0.3526INFO:tensorflow:Assets written to: meremodel1/assets\n"
     ]
    },
    {
     "name": "stderr",
     "output_type": "stream",
     "text": [
      "INFO:tensorflow:Assets written to: meremodel1/assets\n"
     ]
    },
    {
     "name": "stdout",
     "output_type": "stream",
     "text": [
      "110/110 [==============================] - 2s 18ms/step - loss: 0.1204 - root_mean_squared_error: 0.3470 - val_loss: 0.0790 - val_root_mean_squared_error: 0.2810\n",
      "Epoch 18/50\n",
      "110/110 [==============================] - 0s 3ms/step - loss: 0.1020 - root_mean_squared_error: 0.3194 - val_loss: 0.0895 - val_root_mean_squared_error: 0.2991\n",
      "Epoch 19/50\n",
      " 90/110 [=======================>......] - ETA: 0s - loss: 0.0952 - root_mean_squared_error: 0.3085INFO:tensorflow:Assets written to: meremodel1/assets\n"
     ]
    },
    {
     "name": "stderr",
     "output_type": "stream",
     "text": [
      "INFO:tensorflow:Assets written to: meremodel1/assets\n"
     ]
    },
    {
     "name": "stdout",
     "output_type": "stream",
     "text": [
      "110/110 [==============================] - 2s 18ms/step - loss: 0.0942 - root_mean_squared_error: 0.3069 - val_loss: 0.0650 - val_root_mean_squared_error: 0.2549\n",
      "Epoch 20/50\n",
      " 92/110 [========================>.....] - ETA: 0s - loss: 0.0926 - root_mean_squared_error: 0.3044INFO:tensorflow:Assets written to: meremodel1/assets\n"
     ]
    },
    {
     "name": "stderr",
     "output_type": "stream",
     "text": [
      "INFO:tensorflow:Assets written to: meremodel1/assets\n"
     ]
    },
    {
     "name": "stdout",
     "output_type": "stream",
     "text": [
      "110/110 [==============================] - 2s 20ms/step - loss: 0.0913 - root_mean_squared_error: 0.3021 - val_loss: 0.0569 - val_root_mean_squared_error: 0.2385\n",
      "Epoch 21/50\n",
      "110/110 [==============================] - 0s 3ms/step - loss: 0.0893 - root_mean_squared_error: 0.2989 - val_loss: 0.0899 - val_root_mean_squared_error: 0.2999\n",
      "Epoch 22/50\n",
      "110/110 [==============================] - 0s 3ms/step - loss: 0.0847 - root_mean_squared_error: 0.2910 - val_loss: 0.0911 - val_root_mean_squared_error: 0.3018\n",
      "Epoch 23/50\n",
      "110/110 [==============================] - 0s 3ms/step - loss: 0.0773 - root_mean_squared_error: 0.2781 - val_loss: 0.0684 - val_root_mean_squared_error: 0.2615\n",
      "Epoch 24/50\n",
      "110/110 [==============================] - 0s 3ms/step - loss: 0.0688 - root_mean_squared_error: 0.2623 - val_loss: 0.0645 - val_root_mean_squared_error: 0.2540\n",
      "Epoch 25/50\n",
      " 90/110 [=======================>......] - ETA: 0s - loss: 0.0716 - root_mean_squared_error: 0.2676INFO:tensorflow:Assets written to: meremodel1/assets\n"
     ]
    },
    {
     "name": "stderr",
     "output_type": "stream",
     "text": [
      "INFO:tensorflow:Assets written to: meremodel1/assets\n"
     ]
    },
    {
     "name": "stdout",
     "output_type": "stream",
     "text": [
      "110/110 [==============================] - 2s 18ms/step - loss: 0.0703 - root_mean_squared_error: 0.2652 - val_loss: 0.0443 - val_root_mean_squared_error: 0.2105\n",
      "Epoch 26/50\n",
      "110/110 [==============================] - 0s 3ms/step - loss: 0.0623 - root_mean_squared_error: 0.2496 - val_loss: 0.0460 - val_root_mean_squared_error: 0.2145\n",
      "Epoch 27/50\n",
      "110/110 [==============================] - 0s 2ms/step - loss: 0.0648 - root_mean_squared_error: 0.2546 - val_loss: 0.0822 - val_root_mean_squared_error: 0.2867\n",
      "Epoch 28/50\n",
      "110/110 [==============================] - 0s 3ms/step - loss: 0.0617 - root_mean_squared_error: 0.2484 - val_loss: 0.0504 - val_root_mean_squared_error: 0.2245\n",
      "Epoch 29/50\n",
      "110/110 [==============================] - 0s 2ms/step - loss: 0.0600 - root_mean_squared_error: 0.2449 - val_loss: 0.0497 - val_root_mean_squared_error: 0.2230\n",
      "Epoch 30/50\n",
      "110/110 [==============================] - 0s 3ms/step - loss: 0.0635 - root_mean_squared_error: 0.2521 - val_loss: 0.0713 - val_root_mean_squared_error: 0.2670\n",
      "Epoch 31/50\n",
      "110/110 [==============================] - 0s 3ms/step - loss: 0.0591 - root_mean_squared_error: 0.2430 - val_loss: 0.0627 - val_root_mean_squared_error: 0.2503\n",
      "Epoch 32/50\n",
      " 90/110 [=======================>......] - ETA: 0s - loss: 0.0634 - root_mean_squared_error: 0.2518INFO:tensorflow:Assets written to: meremodel1/assets\n"
     ]
    },
    {
     "name": "stderr",
     "output_type": "stream",
     "text": [
      "INFO:tensorflow:Assets written to: meremodel1/assets\n"
     ]
    },
    {
     "name": "stdout",
     "output_type": "stream",
     "text": [
      "110/110 [==============================] - 2s 20ms/step - loss: 0.0616 - root_mean_squared_error: 0.2481 - val_loss: 0.0312 - val_root_mean_squared_error: 0.1768\n",
      "Epoch 33/50\n",
      "110/110 [==============================] - 0s 3ms/step - loss: 0.0513 - root_mean_squared_error: 0.2265 - val_loss: 0.0319 - val_root_mean_squared_error: 0.1785\n",
      "Epoch 34/50\n",
      "110/110 [==============================] - 0s 2ms/step - loss: 0.0500 - root_mean_squared_error: 0.2235 - val_loss: 0.0404 - val_root_mean_squared_error: 0.2009\n",
      "Epoch 35/50\n",
      " 92/110 [========================>.....] - ETA: 0s - loss: 0.0561 - root_mean_squared_error: 0.2369INFO:tensorflow:Assets written to: meremodel1/assets\n"
     ]
    },
    {
     "name": "stderr",
     "output_type": "stream",
     "text": [
      "INFO:tensorflow:Assets written to: meremodel1/assets\n"
     ]
    },
    {
     "name": "stdout",
     "output_type": "stream",
     "text": [
      "110/110 [==============================] - 2s 18ms/step - loss: 0.0563 - root_mean_squared_error: 0.2373 - val_loss: 0.0302 - val_root_mean_squared_error: 0.1739\n",
      "Epoch 36/50\n",
      "110/110 [==============================] - 0s 3ms/step - loss: 0.0471 - root_mean_squared_error: 0.2170 - val_loss: 0.0360 - val_root_mean_squared_error: 0.1898\n",
      "Epoch 37/50\n",
      "110/110 [==============================] - 0s 3ms/step - loss: 0.0532 - root_mean_squared_error: 0.2306 - val_loss: 0.0364 - val_root_mean_squared_error: 0.1907\n",
      "Epoch 38/50\n",
      "110/110 [==============================] - 0s 3ms/step - loss: 0.0519 - root_mean_squared_error: 0.2279 - val_loss: 0.0325 - val_root_mean_squared_error: 0.1802\n",
      "Epoch 39/50\n",
      " 88/110 [=======================>......] - ETA: 0s - loss: 0.0472 - root_mean_squared_error: 0.2173INFO:tensorflow:Assets written to: meremodel1/assets\n"
     ]
    },
    {
     "name": "stderr",
     "output_type": "stream",
     "text": [
      "INFO:tensorflow:Assets written to: meremodel1/assets\n"
     ]
    },
    {
     "name": "stdout",
     "output_type": "stream",
     "text": [
      "110/110 [==============================] - 2s 18ms/step - loss: 0.0472 - root_mean_squared_error: 0.2172 - val_loss: 0.0284 - val_root_mean_squared_error: 0.1684\n",
      "Epoch 40/50\n",
      "110/110 [==============================] - 0s 3ms/step - loss: 0.0449 - root_mean_squared_error: 0.2119 - val_loss: 0.0586 - val_root_mean_squared_error: 0.2420\n",
      "Epoch 41/50\n",
      " 91/110 [=======================>......] - ETA: 0s - loss: 0.0430 - root_mean_squared_error: 0.2073INFO:tensorflow:Assets written to: meremodel1/assets\n"
     ]
    },
    {
     "name": "stderr",
     "output_type": "stream",
     "text": [
      "INFO:tensorflow:Assets written to: meremodel1/assets\n"
     ]
    },
    {
     "name": "stdout",
     "output_type": "stream",
     "text": [
      "110/110 [==============================] - 2s 20ms/step - loss: 0.0441 - root_mean_squared_error: 0.2101 - val_loss: 0.0258 - val_root_mean_squared_error: 0.1606\n",
      "Epoch 42/50\n",
      " 95/110 [========================>.....] - ETA: 0s - loss: 0.0474 - root_mean_squared_error: 0.2178INFO:tensorflow:Assets written to: meremodel1/assets\n"
     ]
    },
    {
     "name": "stderr",
     "output_type": "stream",
     "text": [
      "INFO:tensorflow:Assets written to: meremodel1/assets\n"
     ]
    },
    {
     "name": "stdout",
     "output_type": "stream",
     "text": [
      "110/110 [==============================] - 2s 18ms/step - loss: 0.0458 - root_mean_squared_error: 0.2141 - val_loss: 0.0257 - val_root_mean_squared_error: 0.1602\n",
      "Epoch 43/50\n",
      "110/110 [==============================] - 0s 3ms/step - loss: 0.0403 - root_mean_squared_error: 0.2008 - val_loss: 0.0434 - val_root_mean_squared_error: 0.2084\n",
      "Epoch 44/50\n",
      "110/110 [==============================] - 0s 2ms/step - loss: 0.0381 - root_mean_squared_error: 0.1952 - val_loss: 0.0258 - val_root_mean_squared_error: 0.1606\n",
      "Epoch 45/50\n",
      "110/110 [==============================] - 0s 3ms/step - loss: 0.0398 - root_mean_squared_error: 0.1995 - val_loss: 0.0425 - val_root_mean_squared_error: 0.2061\n",
      "Epoch 46/50\n",
      "110/110 [==============================] - 0s 3ms/step - loss: 0.0421 - root_mean_squared_error: 0.2051 - val_loss: 0.0692 - val_root_mean_squared_error: 0.2630\n",
      "Epoch 47/50\n",
      "110/110 [==============================] - 0s 3ms/step - loss: 0.0384 - root_mean_squared_error: 0.1959 - val_loss: 0.0344 - val_root_mean_squared_error: 0.1856\n",
      "Epoch 48/50\n",
      " 94/110 [========================>.....] - ETA: 0s - loss: 0.0438 - root_mean_squared_error: 0.2094INFO:tensorflow:Assets written to: meremodel1/assets\n"
     ]
    },
    {
     "name": "stderr",
     "output_type": "stream",
     "text": [
      "INFO:tensorflow:Assets written to: meremodel1/assets\n"
     ]
    },
    {
     "name": "stdout",
     "output_type": "stream",
     "text": [
      "110/110 [==============================] - 2s 20ms/step - loss: 0.0413 - root_mean_squared_error: 0.2031 - val_loss: 0.0204 - val_root_mean_squared_error: 0.1429\n",
      "Epoch 49/50\n",
      "110/110 [==============================] - 0s 3ms/step - loss: 0.0332 - root_mean_squared_error: 0.1821 - val_loss: 0.0242 - val_root_mean_squared_error: 0.1554\n",
      "Epoch 50/50\n",
      "110/110 [==============================] - 0s 3ms/step - loss: 0.0391 - root_mean_squared_error: 0.1976 - val_loss: 0.0377 - val_root_mean_squared_error: 0.1940\n"
     ]
    },
    {
     "data": {
      "text/plain": [
       "<keras.src.callbacks.History at 0x7f567eaec940>"
      ]
     },
     "execution_count": 13,
     "metadata": {},
     "output_type": "execute_result"
    }
   ],
   "source": [
    "model1.fit(X_train, y_train, validation_data=(X_val, y_val), epochs=50, callbacks=[cp])"
   ]
  },
  {
   "cell_type": "code",
   "execution_count": 14,
   "id": "cd0a0aa3",
   "metadata": {},
   "outputs": [],
   "source": [
    "model1 = load_model('meremodel1/')"
   ]
  },
  {
   "cell_type": "code",
   "execution_count": 15,
   "id": "588818f9",
   "metadata": {},
   "outputs": [
    {
     "name": "stdout",
     "output_type": "stream",
     "text": [
      "110/110 [==============================] - 0s 1ms/step\n"
     ]
    },
    {
     "data": {
      "text/html": [
       "<div>\n",
       "<style scoped>\n",
       "    .dataframe tbody tr th:only-of-type {\n",
       "        vertical-align: middle;\n",
       "    }\n",
       "\n",
       "    .dataframe tbody tr th {\n",
       "        vertical-align: top;\n",
       "    }\n",
       "\n",
       "    .dataframe thead th {\n",
       "        text-align: right;\n",
       "    }\n",
       "</style>\n",
       "<table border=\"1\" class=\"dataframe\">\n",
       "  <thead>\n",
       "    <tr style=\"text-align: right;\">\n",
       "      <th></th>\n",
       "      <th>Train_Predictions</th>\n",
       "      <th>Actuals</th>\n",
       "    </tr>\n",
       "  </thead>\n",
       "  <tbody>\n",
       "    <tr>\n",
       "      <th>0</th>\n",
       "      <td>91.296501</td>\n",
       "      <td>91.4004</td>\n",
       "    </tr>\n",
       "    <tr>\n",
       "      <th>1</th>\n",
       "      <td>91.398079</td>\n",
       "      <td>91.5129</td>\n",
       "    </tr>\n",
       "    <tr>\n",
       "      <th>2</th>\n",
       "      <td>91.508186</td>\n",
       "      <td>91.6071</td>\n",
       "    </tr>\n",
       "    <tr>\n",
       "      <th>3</th>\n",
       "      <td>91.608681</td>\n",
       "      <td>91.7167</td>\n",
       "    </tr>\n",
       "    <tr>\n",
       "      <th>4</th>\n",
       "      <td>91.715553</td>\n",
       "      <td>91.7925</td>\n",
       "    </tr>\n",
       "    <tr>\n",
       "      <th>...</th>\n",
       "      <td>...</td>\n",
       "      <td>...</td>\n",
       "    </tr>\n",
       "    <tr>\n",
       "      <th>3493</th>\n",
       "      <td>95.247223</td>\n",
       "      <td>95.4196</td>\n",
       "    </tr>\n",
       "    <tr>\n",
       "      <th>3494</th>\n",
       "      <td>95.233757</td>\n",
       "      <td>95.4054</td>\n",
       "    </tr>\n",
       "    <tr>\n",
       "      <th>3495</th>\n",
       "      <td>95.221123</td>\n",
       "      <td>95.3908</td>\n",
       "    </tr>\n",
       "    <tr>\n",
       "      <th>3496</th>\n",
       "      <td>95.208725</td>\n",
       "      <td>95.3604</td>\n",
       "    </tr>\n",
       "    <tr>\n",
       "      <th>3497</th>\n",
       "      <td>95.187035</td>\n",
       "      <td>95.3237</td>\n",
       "    </tr>\n",
       "  </tbody>\n",
       "</table>\n",
       "<p>3498 rows × 2 columns</p>\n",
       "</div>"
      ],
      "text/plain": [
       "      Train_Predictions  Actuals\n",
       "0             91.296501  91.4004\n",
       "1             91.398079  91.5129\n",
       "2             91.508186  91.6071\n",
       "3             91.608681  91.7167\n",
       "4             91.715553  91.7925\n",
       "...                 ...      ...\n",
       "3493          95.247223  95.4196\n",
       "3494          95.233757  95.4054\n",
       "3495          95.221123  95.3908\n",
       "3496          95.208725  95.3604\n",
       "3497          95.187035  95.3237\n",
       "\n",
       "[3498 rows x 2 columns]"
      ]
     },
     "execution_count": 15,
     "metadata": {},
     "output_type": "execute_result"
    }
   ],
   "source": [
    "train_predictions = model1.predict(X_train).flatten()\n",
    "train_results = pd.DataFrame(data={'Train_Predictions':train_predictions, 'Actuals':y_train})\n",
    "train_results"
   ]
  },
  {
   "cell_type": "code",
   "execution_count": 16,
   "id": "a67ae4c5",
   "metadata": {},
   "outputs": [
    {
     "data": {
      "text/plain": [
       "[<matplotlib.lines.Line2D at 0x7f562e4c1f60>]"
      ]
     },
     "execution_count": 16,
     "metadata": {},
     "output_type": "execute_result"
    },
    {
     "data": {
      "image/png": "[encoded data removed]",
      "text/plain": [
       "<Figure size 432x288 with 1 Axes>"
      ]
     },
     "metadata": {
      "needs_background": "light"
     },
     "output_type": "display_data"
    }
   ],
   "source": [
    "# just the training\n",
    "plt.plot(train_results['Train_Predictions'][:200])\n",
    "plt.plot(train_results['Actuals'][:200])"
   ]
  },
  {
   "cell_type": "code",
   "execution_count": 17,
   "id": "fa87db88",
   "metadata": {},
   "outputs": [
    {
     "name": "stdout",
     "output_type": "stream",
     "text": [
      "16/16 [==============================] - 0s 1ms/step\n"
     ]
    },
    {
     "data": {
      "text/html": [
       "<div>\n",
       "<style scoped>\n",
       "    .dataframe tbody tr th:only-of-type {\n",
       "        vertical-align: middle;\n",
       "    }\n",
       "\n",
       "    .dataframe tbody tr th {\n",
       "        vertical-align: top;\n",
       "    }\n",
       "\n",
       "    .dataframe thead th {\n",
       "        text-align: right;\n",
       "    }\n",
       "</style>\n",
       "<table border=\"1\" class=\"dataframe\">\n",
       "  <thead>\n",
       "    <tr style=\"text-align: right;\">\n",
       "      <th></th>\n",
       "      <th>Val_Predictions</th>\n",
       "      <th>Actuals</th>\n",
       "    </tr>\n",
       "  </thead>\n",
       "  <tbody>\n",
       "    <tr>\n",
       "      <th>0</th>\n",
       "      <td>95.158600</td>\n",
       "      <td>95.3354</td>\n",
       "    </tr>\n",
       "    <tr>\n",
       "      <th>1</th>\n",
       "      <td>95.157074</td>\n",
       "      <td>95.3287</td>\n",
       "    </tr>\n",
       "    <tr>\n",
       "      <th>2</th>\n",
       "      <td>95.153297</td>\n",
       "      <td>95.3083</td>\n",
       "    </tr>\n",
       "    <tr>\n",
       "      <th>3</th>\n",
       "      <td>95.140106</td>\n",
       "      <td>95.3333</td>\n",
       "    </tr>\n",
       "    <tr>\n",
       "      <th>4</th>\n",
       "      <td>95.150963</td>\n",
       "      <td>95.3454</td>\n",
       "    </tr>\n",
       "    <tr>\n",
       "      <th>...</th>\n",
       "      <td>...</td>\n",
       "      <td>...</td>\n",
       "    </tr>\n",
       "    <tr>\n",
       "      <th>495</th>\n",
       "      <td>90.872192</td>\n",
       "      <td>91.0012</td>\n",
       "    </tr>\n",
       "    <tr>\n",
       "      <th>496</th>\n",
       "      <td>90.987251</td>\n",
       "      <td>91.1050</td>\n",
       "    </tr>\n",
       "    <tr>\n",
       "      <th>497</th>\n",
       "      <td>91.095604</td>\n",
       "      <td>91.2146</td>\n",
       "    </tr>\n",
       "    <tr>\n",
       "      <th>498</th>\n",
       "      <td>91.205803</td>\n",
       "      <td>91.3029</td>\n",
       "    </tr>\n",
       "    <tr>\n",
       "      <th>499</th>\n",
       "      <td>91.302124</td>\n",
       "      <td>91.3988</td>\n",
       "    </tr>\n",
       "  </tbody>\n",
       "</table>\n",
       "<p>500 rows × 2 columns</p>\n",
       "</div>"
      ],
      "text/plain": [
       "     Val_Predictions  Actuals\n",
       "0          95.158600  95.3354\n",
       "1          95.157074  95.3287\n",
       "2          95.153297  95.3083\n",
       "3          95.140106  95.3333\n",
       "4          95.150963  95.3454\n",
       "..               ...      ...\n",
       "495        90.872192  91.0012\n",
       "496        90.987251  91.1050\n",
       "497        91.095604  91.2146\n",
       "498        91.205803  91.3029\n",
       "499        91.302124  91.3988\n",
       "\n",
       "[500 rows x 2 columns]"
      ]
     },
     "metadata": {},
     "output_type": "display_data"
    },
    {
     "data": {
      "text/plain": [
       "[<matplotlib.lines.Line2D at 0x7f562dc15a80>]"
      ]
     },
     "execution_count": 17,
     "metadata": {},
     "output_type": "execute_result"
    },
    {
     "data": {
      "image/png": "[encoded data removed]",
      "text/plain": [
       "<Figure size 432x288 with 1 Axes>"
      ]
     },
     "metadata": {
      "needs_background": "light"
     },
     "output_type": "display_data"
    }
   ],
   "source": [
    "# how about validation\n",
    "val_predictions = model1.predict(X_val).flatten()\n",
    "val_results = pd.DataFrame(data={'Val_Predictions':val_predictions, 'Actuals':y_val})\n",
    "display(val_results)\n",
    "\n",
    "plt.plot(val_results['Val_Predictions'][:200])\n",
    "plt.plot(val_results['Actuals'][:200])"
   ]
  },
  {
   "cell_type": "code",
   "execution_count": 18,
   "id": "117eceb9",
   "metadata": {},
   "outputs": [
    {
     "data": {
      "text/plain": [
       "[<matplotlib.lines.Line2D at 0x7f562de9e080>]"
      ]
     },
     "execution_count": 18,
     "metadata": {},
     "output_type": "execute_result"
    },
    {
     "data": {
      "image/png": "[encoded data removed]",
      "text/plain": [
       "<Figure size 432x288 with 1 Axes>"
      ]
     },
     "metadata": {
      "needs_background": "light"
     },
     "output_type": "display_data"
    }
   ],
   "source": [
    "plt.plot(val_results['Val_Predictions'])\n",
    "plt.plot(val_results['Actuals'])"
   ]
  },
  {
   "cell_type": "markdown",
   "id": "cb6082bf",
   "metadata": {},
   "source": [
    "### Results of single variable model"
   ]
  },
  {
   "cell_type": "code",
   "execution_count": 19,
   "id": "299b96a0",
   "metadata": {},
   "outputs": [
    {
     "name": "stdout",
     "output_type": "stream",
     "text": [
      "16/16 [==============================] - 0s 1ms/step\n"
     ]
    },
    {
     "data": {
      "text/html": [
       "<div>\n",
       "<style scoped>\n",
       "    .dataframe tbody tr th:only-of-type {\n",
       "        vertical-align: middle;\n",
       "    }\n",
       "\n",
       "    .dataframe tbody tr th {\n",
       "        vertical-align: top;\n",
       "    }\n",
       "\n",
       "    .dataframe thead th {\n",
       "        text-align: right;\n",
       "    }\n",
       "</style>\n",
       "<table border=\"1\" class=\"dataframe\">\n",
       "  <thead>\n",
       "    <tr style=\"text-align: right;\">\n",
       "      <th></th>\n",
       "      <th>Test_Predictions</th>\n",
       "      <th>Actuals</th>\n",
       "    </tr>\n",
       "  </thead>\n",
       "  <tbody>\n",
       "    <tr>\n",
       "      <th>0</th>\n",
       "      <td>91.398308</td>\n",
       "      <td>91.4921</td>\n",
       "    </tr>\n",
       "    <tr>\n",
       "      <th>1</th>\n",
       "      <td>91.493553</td>\n",
       "      <td>91.5775</td>\n",
       "    </tr>\n",
       "    <tr>\n",
       "      <th>2</th>\n",
       "      <td>91.582642</td>\n",
       "      <td>91.6546</td>\n",
       "    </tr>\n",
       "    <tr>\n",
       "      <th>3</th>\n",
       "      <td>91.663750</td>\n",
       "      <td>91.7333</td>\n",
       "    </tr>\n",
       "    <tr>\n",
       "      <th>4</th>\n",
       "      <td>91.743294</td>\n",
       "      <td>91.7912</td>\n",
       "    </tr>\n",
       "    <tr>\n",
       "      <th>...</th>\n",
       "      <td>...</td>\n",
       "      <td>...</td>\n",
       "    </tr>\n",
       "    <tr>\n",
       "      <th>495</th>\n",
       "      <td>79.522743</td>\n",
       "      <td>79.4696</td>\n",
       "    </tr>\n",
       "    <tr>\n",
       "      <th>496</th>\n",
       "      <td>79.616829</td>\n",
       "      <td>80.0721</td>\n",
       "    </tr>\n",
       "    <tr>\n",
       "      <th>497</th>\n",
       "      <td>80.004539</td>\n",
       "      <td>80.4046</td>\n",
       "    </tr>\n",
       "    <tr>\n",
       "      <th>498</th>\n",
       "      <td>80.365456</td>\n",
       "      <td>80.6565</td>\n",
       "    </tr>\n",
       "    <tr>\n",
       "      <th>499</th>\n",
       "      <td>80.643089</td>\n",
       "      <td>80.8423</td>\n",
       "    </tr>\n",
       "  </tbody>\n",
       "</table>\n",
       "<p>500 rows × 2 columns</p>\n",
       "</div>"
      ],
      "text/plain": [
       "     Test_Predictions  Actuals\n",
       "0           91.398308  91.4921\n",
       "1           91.493553  91.5775\n",
       "2           91.582642  91.6546\n",
       "3           91.663750  91.7333\n",
       "4           91.743294  91.7912\n",
       "..                ...      ...\n",
       "495         79.522743  79.4696\n",
       "496         79.616829  80.0721\n",
       "497         80.004539  80.4046\n",
       "498         80.365456  80.6565\n",
       "499         80.643089  80.8423\n",
       "\n",
       "[500 rows x 2 columns]"
      ]
     },
     "metadata": {},
     "output_type": "display_data"
    },
    {
     "data": {
      "text/plain": [
       "[<matplotlib.lines.Line2D at 0x7f562c755ae0>]"
      ]
     },
     "execution_count": 19,
     "metadata": {},
     "output_type": "execute_result"
    },
    {
     "data": {
      "image/png": "[encoded data removed]",
      "text/plain": [
       "<Figure size 432x288 with 1 Axes>"
      ]
     },
     "metadata": {
      "needs_background": "light"
     },
     "output_type": "display_data"
    }
   ],
   "source": [
    "# how about test\n",
    "test_predictions = model1.predict(X_test).flatten()\n",
    "test_results = pd.DataFrame(data={'Test_Predictions':test_predictions, 'Actuals':y_test})\n",
    "display(test_results)\n",
    "\n",
    "plt.plot(test_results['Test_Predictions'][:200])\n",
    "plt.plot(test_results['Actuals'][:200])"
   ]
  },
  {
   "cell_type": "code",
   "execution_count": 20,
   "id": "283f7ad6",
   "metadata": {},
   "outputs": [
    {
     "data": {
      "text/plain": [
       "[<matplotlib.lines.Line2D at 0x7f562c80cb80>]"
      ]
     },
     "execution_count": 20,
     "metadata": {},
     "output_type": "execute_result"
    },
    {
     "data": {
      "image/png": "[encoded data removed]",
      "text/plain": [
       "<Figure size 432x288 with 1 Axes>"
      ]
     },
     "metadata": {
      "needs_background": "light"
     },
     "output_type": "display_data"
    }
   ],
   "source": [
    "plt.plot(test_results['Test_Predictions'])\n",
    "plt.plot(test_results['Actuals'])"
   ]
  },
  {
   "cell_type": "markdown",
   "id": "c18cd27e",
   "metadata": {},
   "source": [
    "#### A prettier graph for single variable results:"
   ]
  },
  {
   "cell_type": "code",
   "execution_count": 21,
   "id": "2783b976",
   "metadata": {},
   "outputs": [
    {
     "data": {
      "text/html": [
       "<div>\n",
       "<style scoped>\n",
       "    .dataframe tbody tr th:only-of-type {\n",
       "        vertical-align: middle;\n",
       "    }\n",
       "\n",
       "    .dataframe tbody tr th {\n",
       "        vertical-align: top;\n",
       "    }\n",
       "\n",
       "    .dataframe thead th {\n",
       "        text-align: right;\n",
       "    }\n",
       "</style>\n",
       "<table border=\"1\" class=\"dataframe\">\n",
       "  <thead>\n",
       "    <tr style=\"text-align: right;\">\n",
       "      <th></th>\n",
       "      <th>Test_Predictions</th>\n",
       "      <th>Actuals</th>\n",
       "      <th>date</th>\n",
       "    </tr>\n",
       "  </thead>\n",
       "  <tbody>\n",
       "    <tr>\n",
       "      <th>0</th>\n",
       "      <td>91.398308</td>\n",
       "      <td>91.4921</td>\n",
       "      <td>2017-01-23</td>\n",
       "    </tr>\n",
       "    <tr>\n",
       "      <th>1</th>\n",
       "      <td>91.493553</td>\n",
       "      <td>91.5775</td>\n",
       "      <td>2017-01-24</td>\n",
       "    </tr>\n",
       "    <tr>\n",
       "      <th>2</th>\n",
       "      <td>91.582642</td>\n",
       "      <td>91.6546</td>\n",
       "      <td>2017-01-25</td>\n",
       "    </tr>\n",
       "    <tr>\n",
       "      <th>3</th>\n",
       "      <td>91.663750</td>\n",
       "      <td>91.7333</td>\n",
       "      <td>2017-01-26</td>\n",
       "    </tr>\n",
       "    <tr>\n",
       "      <th>4</th>\n",
       "      <td>91.743294</td>\n",
       "      <td>91.7912</td>\n",
       "      <td>2017-01-27</td>\n",
       "    </tr>\n",
       "    <tr>\n",
       "      <th>...</th>\n",
       "      <td>...</td>\n",
       "      <td>...</td>\n",
       "      <td>...</td>\n",
       "    </tr>\n",
       "    <tr>\n",
       "      <th>495</th>\n",
       "      <td>79.522743</td>\n",
       "      <td>79.4696</td>\n",
       "      <td>2018-06-02</td>\n",
       "    </tr>\n",
       "    <tr>\n",
       "      <th>496</th>\n",
       "      <td>79.616829</td>\n",
       "      <td>80.0721</td>\n",
       "      <td>2018-06-03</td>\n",
       "    </tr>\n",
       "    <tr>\n",
       "      <th>497</th>\n",
       "      <td>80.004539</td>\n",
       "      <td>80.4046</td>\n",
       "      <td>2018-06-04</td>\n",
       "    </tr>\n",
       "    <tr>\n",
       "      <th>498</th>\n",
       "      <td>80.365456</td>\n",
       "      <td>80.6565</td>\n",
       "      <td>2018-06-05</td>\n",
       "    </tr>\n",
       "    <tr>\n",
       "      <th>499</th>\n",
       "      <td>80.643089</td>\n",
       "      <td>80.8423</td>\n",
       "      <td>2018-06-06</td>\n",
       "    </tr>\n",
       "  </tbody>\n",
       "</table>\n",
       "<p>500 rows × 3 columns</p>\n",
       "</div>"
      ],
      "text/plain": [
       "     Test_Predictions  Actuals       date\n",
       "0           91.398308  91.4921 2017-01-23\n",
       "1           91.493553  91.5775 2017-01-24\n",
       "2           91.582642  91.6546 2017-01-25\n",
       "3           91.663750  91.7333 2017-01-26\n",
       "4           91.743294  91.7912 2017-01-27\n",
       "..                ...      ...        ...\n",
       "495         79.522743  79.4696 2018-06-02\n",
       "496         79.616829  80.0721 2018-06-03\n",
       "497         80.004539  80.4046 2018-06-04\n",
       "498         80.365456  80.6565 2018-06-05\n",
       "499         80.643089  80.8423 2018-06-06\n",
       "\n",
       "[500 rows x 3 columns]"
      ]
     },
     "execution_count": 21,
     "metadata": {},
     "output_type": "execute_result"
    }
   ],
   "source": [
    "test_results['date'] = date_rng = pd.date_range(start='2017-01-23', end='2018-06-06', freq='D')\n",
    "# last 500 days from the df\n",
    "test_results"
   ]
  },
  {
   "cell_type": "code",
   "execution_count": 22,
   "id": "88d33582",
   "metadata": {},
   "outputs": [
    {
     "data": {
      "image/png": "[encoded data removed]",
      "text/plain": [
       "<Figure size 2304x720 with 1 Axes>"
      ]
     },
     "metadata": {
      "needs_background": "light"
     },
     "output_type": "display_data"
    }
   ],
   "source": [
    "y = test_results.date.values\n",
    "X = test_results.Test_Predictions.values*-1\n",
    "X1 = test_results.Actuals.values*-1\n",
    "\n",
    "\n",
    "fig, ax1 = plt.subplots(figsize=(32, 10)) #big for copy paste reasons\n",
    "plt.suptitle('Results on the test data', fontsize=16)\n",
    "\n",
    "ax1 = plt.subplot()\n",
    "plt.plot(y, X, 'r--', label = 'Predicted Water Level')\n",
    "plt.xlabel('Date', fontsize=14)\n",
    "plt.ylabel('Depth from Land Surface in feet', fontsize=14)\n",
    "\n",
    "ax2 = plt.subplot()\n",
    "ax2.plot(y,X1, 'b-', label = 'Actual Water Level')\n",
    "\n",
    "fig.legend()\n",
    "\n",
    "fig.tight_layout()\n",
    "plt.show()"
   ]
  },
  {
   "cell_type": "code",
   "execution_count": 23,
   "id": "356be42a",
   "metadata": {},
   "outputs": [],
   "source": [
    "from sklearn.metrics import mean_squared_error as mse\n",
    "\n",
    "def plot_predictions1(model, X, y):\n",
    "    predictions = model.predict(X).flatten()\n",
    "    df_plot = pd.DataFrame(data={'Predictions':predictions, 'Actuals':y})\n",
    "    \n",
    "    Pred = df_plot.Predictions.values*-1\n",
    "    Act = df_plot.Actuals.values*-1\n",
    "    \n",
    "    fig, ax1 = plt.subplots(figsize=(16, 5)) \n",
    "    plt.suptitle('Prediction', fontsize=16)\n",
    "\n",
    "    ax1 = plt.subplot()\n",
    "    plt.plot(Pred, 'r--', label = 'Predicted Water Level')\n",
    "    plt.xlabel('Date', fontsize=14)\n",
    "    plt.ylabel('Depth from Land Surface in feet', fontsize=14)\n",
    "\n",
    "    ax2 = plt.subplot()\n",
    "    ax2.plot(Act, 'b-', label = 'Actual Water Level')\n",
    "\n",
    "    fig.legend()\n",
    "\n",
    "    fig.tight_layout()\n",
    "    plt.show()\n",
    "    \n",
    "    return df_plot, mse(y, predictions)"
   ]
  },
  {
   "cell_type": "code",
   "execution_count": 24,
   "id": "01e52332",
   "metadata": {},
   "outputs": [
    {
     "name": "stdout",
     "output_type": "stream",
     "text": [
      "16/16 [==============================] - 0s 2ms/step\n"
     ]
    },
    {
     "data": {
      "image/png": "[encoded data removed]",
      "text/plain": [
       "<Figure size 1152x360 with 1 Axes>"
      ]
     },
     "metadata": {
      "needs_background": "light"
     },
     "output_type": "display_data"
    },
    {
     "data": {
      "text/plain": [
       "(     Predictions  Actuals\n",
       " 0      91.398308  91.4921\n",
       " 1      91.493553  91.5775\n",
       " 2      91.582642  91.6546\n",
       " 3      91.663750  91.7333\n",
       " 4      91.743294  91.7912\n",
       " ..           ...      ...\n",
       " 495    79.522743  79.4696\n",
       " 496    79.616829  80.0721\n",
       " 497    80.004539  80.4046\n",
       " 498    80.365456  80.6565\n",
       " 499    80.643089  80.8423\n",
       " \n",
       " [500 rows x 2 columns],\n",
       " 0.17747629999340445)"
      ]
     },
     "execution_count": 24,
     "metadata": {},
     "output_type": "execute_result"
    }
   ],
   "source": [
    "plot_predictions1(model1, X_test, y_test)"
   ]
  },
  {
   "cell_type": "code",
   "execution_count": null,
   "id": "b76c241b",
   "metadata": {},
   "outputs": [],
   "source": []
  },
  {
   "cell_type": "code",
   "execution_count": null,
   "id": "387b882f",
   "metadata": {},
   "outputs": [],
   "source": []
  },
  {
   "cell_type": "markdown",
   "id": "6036c385",
   "metadata": {},
   "source": [
    "## A convolutional NN model!"
   ]
  },
  {
   "cell_type": "code",
   "execution_count": 25,
   "id": "a0cb17de",
   "metadata": {},
   "outputs": [
    {
     "name": "stdout",
     "output_type": "stream",
     "text": [
      "Model: \"sequential_1\"\n",
      "_________________________________________________________________\n",
      " Layer (type)                Output Shape              Param #   \n",
      "=================================================================\n",
      " conv1d (Conv1D)             (None, 4, 64)             192       \n",
      "                                                                 \n",
      " flatten (Flatten)           (None, 256)               0         \n",
      "                                                                 \n",
      " dense_2 (Dense)             (None, 8)                 2056      \n",
      "                                                                 \n",
      " dense_3 (Dense)             (None, 1)                 9         \n",
      "                                                                 \n",
      "=================================================================\n",
      "Total params: 2257 (8.82 KB)\n",
      "Trainable params: 2257 (8.82 KB)\n",
      "Non-trainable params: 0 (0.00 Byte)\n",
      "_________________________________________________________________\n"
     ]
    }
   ],
   "source": [
    "model2 = Sequential()\n",
    "model2.add(InputLayer((5,1)))\n",
    "model2.add(Conv1D(64, kernel_size=2))\n",
    "model2.add(Flatten())\n",
    "model2.add(Dense(8, 'relu'))\n",
    "model2.add(Dense(1, 'linear'))\n",
    "\n",
    "model2.summary()"
   ]
  },
  {
   "cell_type": "code",
   "execution_count": 26,
   "id": "ca6885ad",
   "metadata": {},
   "outputs": [],
   "source": [
    "cp2 = ModelCheckpoint('meremodel2/', save_best_only=True)\n",
    "# the above makes a folder that our gitignore should exclude\n",
    "\n",
    "model2.compile(loss=MeanSquaredError(), optimizer=Adam(learning_rate=0.001), metrics=[RootMeanSquaredError()])"
   ]
  },
  {
   "cell_type": "code",
   "execution_count": 27,
   "id": "d8a04323",
   "metadata": {},
   "outputs": [
    {
     "name": "stdout",
     "output_type": "stream",
     "text": [
      "Epoch 1/50\n",
      " 87/110 [======================>.......] - ETA: 0s - loss: 314.4520 - root_mean_squared_error: 17.7328INFO:tensorflow:Assets written to: meremodel2/assets\n"
     ]
    },
    {
     "name": "stderr",
     "output_type": "stream",
     "text": [
      "INFO:tensorflow:Assets written to: meremodel2/assets\n"
     ]
    },
    {
     "name": "stdout",
     "output_type": "stream",
     "text": [
      "110/110 [==============================] - 1s 7ms/step - loss: 250.3273 - root_mean_squared_error: 15.8217 - val_loss: 0.1020 - val_root_mean_squared_error: 0.3193\n",
      "Epoch 2/50\n",
      "104/110 [===========================>..] - ETA: 0s - loss: 0.1408 - root_mean_squared_error: 0.3752INFO:tensorflow:Assets written to: meremodel2/assets\n"
     ]
    },
    {
     "name": "stderr",
     "output_type": "stream",
     "text": [
      "INFO:tensorflow:Assets written to: meremodel2/assets\n"
     ]
    },
    {
     "name": "stdout",
     "output_type": "stream",
     "text": [
      "110/110 [==============================] - 0s 4ms/step - loss: 0.1413 - root_mean_squared_error: 0.3760 - val_loss: 0.1012 - val_root_mean_squared_error: 0.3181\n",
      "Epoch 3/50\n",
      "100/110 [==========================>...] - ETA: 0s - loss: 0.1420 - root_mean_squared_error: 0.3768INFO:tensorflow:Assets written to: meremodel2/assets\n"
     ]
    },
    {
     "name": "stderr",
     "output_type": "stream",
     "text": [
      "INFO:tensorflow:Assets written to: meremodel2/assets\n"
     ]
    },
    {
     "name": "stdout",
     "output_type": "stream",
     "text": [
      "110/110 [==============================] - 0s 4ms/step - loss: 0.1407 - root_mean_squared_error: 0.3751 - val_loss: 0.1010 - val_root_mean_squared_error: 0.3178\n",
      "Epoch 4/50\n",
      "110/110 [==============================] - 0s 1ms/step - loss: 0.1408 - root_mean_squared_error: 0.3753 - val_loss: 0.1097 - val_root_mean_squared_error: 0.3313\n",
      "Epoch 5/50\n",
      "110/110 [==============================] - 0s 1ms/step - loss: 0.1447 - root_mean_squared_error: 0.3804 - val_loss: 0.1033 - val_root_mean_squared_error: 0.3213\n",
      "Epoch 6/50\n",
      "110/110 [==============================] - 0s 1ms/step - loss: 0.1415 - root_mean_squared_error: 0.3761 - val_loss: 0.1015 - val_root_mean_squared_error: 0.3185\n",
      "Epoch 7/50\n",
      "110/110 [==============================] - 0s 1ms/step - loss: 0.1427 - root_mean_squared_error: 0.3778 - val_loss: 0.1128 - val_root_mean_squared_error: 0.3358\n",
      "Epoch 8/50\n",
      "110/110 [==============================] - 0s 1ms/step - loss: 0.1427 - root_mean_squared_error: 0.3777 - val_loss: 0.1071 - val_root_mean_squared_error: 0.3273\n",
      "Epoch 9/50\n",
      "110/110 [==============================] - 0s 1ms/step - loss: 0.1419 - root_mean_squared_error: 0.3767 - val_loss: 0.1019 - val_root_mean_squared_error: 0.3193\n",
      "Epoch 10/50\n",
      "102/110 [==========================>...] - ETA: 0s - loss: 0.1420 - root_mean_squared_error: 0.3768INFO:tensorflow:Assets written to: meremodel2/assets\n"
     ]
    },
    {
     "name": "stderr",
     "output_type": "stream",
     "text": [
      "INFO:tensorflow:Assets written to: meremodel2/assets\n"
     ]
    },
    {
     "name": "stdout",
     "output_type": "stream",
     "text": [
      "110/110 [==============================] - 0s 4ms/step - loss: 0.1415 - root_mean_squared_error: 0.3762 - val_loss: 0.0996 - val_root_mean_squared_error: 0.3156\n",
      "Epoch 11/50\n",
      "110/110 [==============================] - 0s 1ms/step - loss: 0.1427 - root_mean_squared_error: 0.3778 - val_loss: 0.1045 - val_root_mean_squared_error: 0.3232\n",
      "Epoch 12/50\n",
      "110/110 [==============================] - 0s 1ms/step - loss: 0.1439 - root_mean_squared_error: 0.3794 - val_loss: 0.1005 - val_root_mean_squared_error: 0.3170\n",
      "Epoch 13/50\n",
      "103/110 [===========================>..] - ETA: 0s - loss: 0.1461 - root_mean_squared_error: 0.3822INFO:tensorflow:Assets written to: meremodel2/assets\n"
     ]
    },
    {
     "name": "stderr",
     "output_type": "stream",
     "text": [
      "INFO:tensorflow:Assets written to: meremodel2/assets\n"
     ]
    },
    {
     "name": "stdout",
     "output_type": "stream",
     "text": [
      "110/110 [==============================] - 0s 4ms/step - loss: 0.1454 - root_mean_squared_error: 0.3813 - val_loss: 0.0990 - val_root_mean_squared_error: 0.3146\n",
      "Epoch 14/50\n",
      "110/110 [==============================] - 0s 1ms/step - loss: 0.1424 - root_mean_squared_error: 0.3774 - val_loss: 0.1415 - val_root_mean_squared_error: 0.3762\n",
      "Epoch 15/50\n",
      "110/110 [==============================] - 0s 1ms/step - loss: 0.1450 - root_mean_squared_error: 0.3808 - val_loss: 0.1042 - val_root_mean_squared_error: 0.3228\n",
      "Epoch 16/50\n",
      "105/110 [===========================>..] - ETA: 0s - loss: 0.1400 - root_mean_squared_error: 0.3742INFO:tensorflow:Assets written to: meremodel2/assets\n"
     ]
    },
    {
     "name": "stderr",
     "output_type": "stream",
     "text": [
      "INFO:tensorflow:Assets written to: meremodel2/assets\n"
     ]
    },
    {
     "name": "stdout",
     "output_type": "stream",
     "text": [
      "110/110 [==============================] - 0s 4ms/step - loss: 0.1424 - root_mean_squared_error: 0.3773 - val_loss: 0.0982 - val_root_mean_squared_error: 0.3134\n",
      "Epoch 17/50\n",
      "110/110 [==============================] - 0s 1ms/step - loss: 0.1395 - root_mean_squared_error: 0.3735 - val_loss: 0.1060 - val_root_mean_squared_error: 0.3255\n",
      "Epoch 18/50\n",
      "110/110 [==============================] - 0s 1ms/step - loss: 0.1400 - root_mean_squared_error: 0.3742 - val_loss: 0.0989 - val_root_mean_squared_error: 0.3145\n",
      "Epoch 19/50\n",
      "110/110 [==============================] - 0s 1ms/step - loss: 0.1404 - root_mean_squared_error: 0.3747 - val_loss: 0.1014 - val_root_mean_squared_error: 0.3184\n",
      "Epoch 20/50\n",
      "110/110 [==============================] - 0s 1ms/step - loss: 0.1467 - root_mean_squared_error: 0.3830 - val_loss: 0.1247 - val_root_mean_squared_error: 0.3532\n",
      "Epoch 21/50\n",
      "110/110 [==============================] - 0s 1ms/step - loss: 0.1520 - root_mean_squared_error: 0.3898 - val_loss: 0.1058 - val_root_mean_squared_error: 0.3253\n",
      "Epoch 22/50\n",
      "110/110 [==============================] - 0s 1ms/step - loss: 0.1402 - root_mean_squared_error: 0.3745 - val_loss: 0.1141 - val_root_mean_squared_error: 0.3379\n",
      "Epoch 23/50\n",
      "106/110 [===========================>..] - ETA: 0s - loss: 0.1490 - root_mean_squared_error: 0.3860INFO:tensorflow:Assets written to: meremodel2/assets\n"
     ]
    },
    {
     "name": "stderr",
     "output_type": "stream",
     "text": [
      "INFO:tensorflow:Assets written to: meremodel2/assets\n"
     ]
    },
    {
     "name": "stdout",
     "output_type": "stream",
     "text": [
      "110/110 [==============================] - 0s 4ms/step - loss: 0.1489 - root_mean_squared_error: 0.3858 - val_loss: 0.0973 - val_root_mean_squared_error: 0.3119\n",
      "Epoch 24/50\n",
      "110/110 [==============================] - 0s 1ms/step - loss: 0.1512 - root_mean_squared_error: 0.3888 - val_loss: 0.1046 - val_root_mean_squared_error: 0.3234\n",
      "Epoch 25/50\n",
      "110/110 [==============================] - 0s 1ms/step - loss: 0.1503 - root_mean_squared_error: 0.3877 - val_loss: 0.1020 - val_root_mean_squared_error: 0.3194\n",
      "Epoch 26/50\n",
      "110/110 [==============================] - 0s 1ms/step - loss: 0.1654 - root_mean_squared_error: 0.4067 - val_loss: 0.1085 - val_root_mean_squared_error: 0.3294\n",
      "Epoch 27/50\n",
      "103/110 [===========================>..] - ETA: 0s - loss: 0.1404 - root_mean_squared_error: 0.3747INFO:tensorflow:Assets written to: meremodel2/assets\n"
     ]
    },
    {
     "name": "stderr",
     "output_type": "stream",
     "text": [
      "INFO:tensorflow:Assets written to: meremodel2/assets\n"
     ]
    },
    {
     "name": "stdout",
     "output_type": "stream",
     "text": [
      "110/110 [==============================] - 0s 4ms/step - loss: 0.1388 - root_mean_squared_error: 0.3725 - val_loss: 0.0948 - val_root_mean_squared_error: 0.3079\n",
      "Epoch 28/50\n",
      "110/110 [==============================] - 0s 1ms/step - loss: 0.1385 - root_mean_squared_error: 0.3721 - val_loss: 0.0967 - val_root_mean_squared_error: 0.3110\n",
      "Epoch 29/50\n",
      "110/110 [==============================] - 0s 1ms/step - loss: 0.1491 - root_mean_squared_error: 0.3861 - val_loss: 0.1122 - val_root_mean_squared_error: 0.3350\n",
      "Epoch 30/50\n",
      "110/110 [==============================] - 0s 1ms/step - loss: 0.1445 - root_mean_squared_error: 0.3802 - val_loss: 0.1302 - val_root_mean_squared_error: 0.3608\n",
      "Epoch 31/50\n",
      "101/110 [==========================>...] - ETA: 0s - loss: 0.1420 - root_mean_squared_error: 0.3768INFO:tensorflow:Assets written to: meremodel2/assets\n"
     ]
    },
    {
     "name": "stderr",
     "output_type": "stream",
     "text": [
      "INFO:tensorflow:Assets written to: meremodel2/assets\n"
     ]
    },
    {
     "name": "stdout",
     "output_type": "stream",
     "text": [
      "110/110 [==============================] - 0s 4ms/step - loss: 0.1419 - root_mean_squared_error: 0.3767 - val_loss: 0.0938 - val_root_mean_squared_error: 0.3063\n",
      "Epoch 32/50\n",
      "110/110 [==============================] - 0s 1ms/step - loss: 0.1398 - root_mean_squared_error: 0.3739 - val_loss: 0.1726 - val_root_mean_squared_error: 0.4154\n",
      "Epoch 33/50\n",
      "110/110 [==============================] - 0s 1ms/step - loss: 0.1397 - root_mean_squared_error: 0.3738 - val_loss: 0.2010 - val_root_mean_squared_error: 0.4484\n",
      "Epoch 34/50\n",
      "110/110 [==============================] - 0s 1ms/step - loss: 0.1433 - root_mean_squared_error: 0.3786 - val_loss: 0.1123 - val_root_mean_squared_error: 0.3351\n",
      "Epoch 35/50\n",
      "104/110 [===========================>..] - ETA: 0s - loss: 0.1671 - root_mean_squared_error: 0.4088INFO:tensorflow:Assets written to: meremodel2/assets\n"
     ]
    },
    {
     "name": "stderr",
     "output_type": "stream",
     "text": [
      "INFO:tensorflow:Assets written to: meremodel2/assets\n"
     ]
    },
    {
     "name": "stdout",
     "output_type": "stream",
     "text": [
      "110/110 [==============================] - 0s 4ms/step - loss: 0.1636 - root_mean_squared_error: 0.4045 - val_loss: 0.0892 - val_root_mean_squared_error: 0.2987\n",
      "Epoch 36/50\n",
      "110/110 [==============================] - 0s 1ms/step - loss: 0.1506 - root_mean_squared_error: 0.3881 - val_loss: 0.1274 - val_root_mean_squared_error: 0.3570\n",
      "Epoch 37/50\n",
      "110/110 [==============================] - 0s 1ms/step - loss: 0.1415 - root_mean_squared_error: 0.3761 - val_loss: 0.0897 - val_root_mean_squared_error: 0.2995\n",
      "Epoch 38/50\n",
      "110/110 [==============================] - 0s 1ms/step - loss: 0.1453 - root_mean_squared_error: 0.3812 - val_loss: 0.1600 - val_root_mean_squared_error: 0.4000\n",
      "Epoch 39/50\n",
      "110/110 [==============================] - 0s 1ms/step - loss: 0.1445 - root_mean_squared_error: 0.3801 - val_loss: 0.0932 - val_root_mean_squared_error: 0.3052\n",
      "Epoch 40/50\n",
      "107/110 [============================>.] - ETA: 0s - loss: 0.1718 - root_mean_squared_error: 0.4145INFO:tensorflow:Assets written to: meremodel2/assets\n"
     ]
    },
    {
     "name": "stderr",
     "output_type": "stream",
     "text": [
      "INFO:tensorflow:Assets written to: meremodel2/assets\n"
     ]
    },
    {
     "name": "stdout",
     "output_type": "stream",
     "text": [
      "110/110 [==============================] - 0s 4ms/step - loss: 0.1725 - root_mean_squared_error: 0.4153 - val_loss: 0.0854 - val_root_mean_squared_error: 0.2922\n",
      "Epoch 41/50\n",
      "110/110 [==============================] - 0s 1ms/step - loss: 0.1567 - root_mean_squared_error: 0.3958 - val_loss: 0.0924 - val_root_mean_squared_error: 0.3040\n",
      "Epoch 42/50\n",
      "110/110 [==============================] - 0s 1ms/step - loss: 0.1730 - root_mean_squared_error: 0.4159 - val_loss: 0.2374 - val_root_mean_squared_error: 0.4873\n",
      "Epoch 43/50\n",
      "110/110 [==============================] - 0s 1ms/step - loss: 0.1651 - root_mean_squared_error: 0.4063 - val_loss: 0.0856 - val_root_mean_squared_error: 0.2926\n",
      "Epoch 44/50\n",
      "103/110 [===========================>..] - ETA: 0s - loss: 0.1404 - root_mean_squared_error: 0.3746INFO:tensorflow:Assets written to: meremodel2/assets\n"
     ]
    },
    {
     "name": "stderr",
     "output_type": "stream",
     "text": [
      "INFO:tensorflow:Assets written to: meremodel2/assets\n"
     ]
    },
    {
     "name": "stdout",
     "output_type": "stream",
     "text": [
      "110/110 [==============================] - 0s 4ms/step - loss: 0.1396 - root_mean_squared_error: 0.3736 - val_loss: 0.0839 - val_root_mean_squared_error: 0.2896\n",
      "Epoch 45/50\n",
      "106/110 [===========================>..] - ETA: 0s - loss: 0.1683 - root_mean_squared_error: 0.4102INFO:tensorflow:Assets written to: meremodel2/assets\n"
     ]
    },
    {
     "name": "stderr",
     "output_type": "stream",
     "text": [
      "INFO:tensorflow:Assets written to: meremodel2/assets\n"
     ]
    },
    {
     "name": "stdout",
     "output_type": "stream",
     "text": [
      "110/110 [==============================] - 0s 4ms/step - loss: 0.1676 - root_mean_squared_error: 0.4094 - val_loss: 0.0804 - val_root_mean_squared_error: 0.2835\n",
      "Epoch 46/50\n",
      "103/110 [===========================>..] - ETA: 0s - loss: 0.1558 - root_mean_squared_error: 0.3947INFO:tensorflow:Assets written to: meremodel2/assets\n"
     ]
    },
    {
     "name": "stderr",
     "output_type": "stream",
     "text": [
      "INFO:tensorflow:Assets written to: meremodel2/assets\n"
     ]
    },
    {
     "name": "stdout",
     "output_type": "stream",
     "text": [
      "110/110 [==============================] - 0s 4ms/step - loss: 0.1531 - root_mean_squared_error: 0.3913 - val_loss: 0.0795 - val_root_mean_squared_error: 0.2819\n",
      "Epoch 47/50\n",
      "110/110 [==============================] - 0s 1ms/step - loss: 0.1718 - root_mean_squared_error: 0.4145 - val_loss: 0.6169 - val_root_mean_squared_error: 0.7854\n",
      "Epoch 48/50\n",
      "110/110 [==============================] - 0s 1ms/step - loss: 0.2195 - root_mean_squared_error: 0.4685 - val_loss: 0.1287 - val_root_mean_squared_error: 0.3587\n",
      "Epoch 49/50\n",
      "110/110 [==============================] - 0s 1ms/step - loss: 0.1498 - root_mean_squared_error: 0.3870 - val_loss: 0.1381 - val_root_mean_squared_error: 0.3716\n",
      "Epoch 50/50\n",
      "110/110 [==============================] - 0s 1ms/step - loss: 0.1862 - root_mean_squared_error: 0.4315 - val_loss: 0.1045 - val_root_mean_squared_error: 0.3233\n"
     ]
    },
    {
     "data": {
      "text/plain": [
       "<keras.src.callbacks.History at 0x7f56734c00a0>"
      ]
     },
     "execution_count": 27,
     "metadata": {},
     "output_type": "execute_result"
    }
   ],
   "source": [
    "model2.fit(X_train, y_train, validation_data=(X_val, y_val), epochs=50, callbacks=[cp2])"
   ]
  },
  {
   "cell_type": "code",
   "execution_count": 28,
   "id": "bef1bfe5",
   "metadata": {},
   "outputs": [
    {
     "name": "stdout",
     "output_type": "stream",
     "text": [
      "16/16 [==============================] - 0s 804us/step\n"
     ]
    },
    {
     "data": {
      "image/png": "[encoded data removed]",
      "text/plain": [
       "<Figure size 1152x360 with 1 Axes>"
      ]
     },
     "metadata": {
      "needs_background": "light"
     },
     "output_type": "display_data"
    },
    {
     "data": {
      "text/plain": [
       "(     Predictions  Actuals\n",
       " 0      91.189232  91.4921\n",
       " 1      91.290611  91.5775\n",
       " 2      91.380486  91.6546\n",
       " 3      91.471748  91.7333\n",
       " 4      91.558861  91.7912\n",
       " ..           ...      ...\n",
       " 495    79.139870  79.4696\n",
       " 496    79.276192  80.0721\n",
       " 497    79.475487  80.4046\n",
       " 498    79.591179  80.6565\n",
       " 499    79.896324  80.8423\n",
       " \n",
       " [500 rows x 2 columns],\n",
       " 0.3300333144764854)"
      ]
     },
     "execution_count": 28,
     "metadata": {},
     "output_type": "execute_result"
    }
   ],
   "source": [
    "model2 = load_model('meremodel2/')\n",
    "plot_predictions1(model2, X_test, y_test)"
   ]
  },
  {
   "cell_type": "markdown",
   "id": "dfdb11a2",
   "metadata": {},
   "source": [
    "## GRU Model"
   ]
  },
  {
   "cell_type": "code",
   "execution_count": 29,
   "id": "4d39f1d4",
   "metadata": {},
   "outputs": [
    {
     "name": "stdout",
     "output_type": "stream",
     "text": [
      "Model: \"sequential_2\"\n",
      "_________________________________________________________________\n",
      " Layer (type)                Output Shape              Param #   \n",
      "=================================================================\n",
      " gru (GRU)                   (None, 64)                12864     \n",
      "                                                                 \n",
      " flatten_1 (Flatten)         (None, 64)                0         \n",
      "                                                                 \n",
      " dense_4 (Dense)             (None, 8)                 520       \n",
      "                                                                 \n",
      " dense_5 (Dense)             (None, 1)                 9         \n",
      "                                                                 \n",
      "=================================================================\n",
      "Total params: 13393 (52.32 KB)\n",
      "Trainable params: 13393 (52.32 KB)\n",
      "Non-trainable params: 0 (0.00 Byte)\n",
      "_________________________________________________________________\n"
     ]
    }
   ],
   "source": [
    "model3 = Sequential()\n",
    "model3.add(InputLayer((5,1)))\n",
    "model3.add(GRU(64))\n",
    "model3.add(Flatten())\n",
    "model3.add(Dense(8, 'relu'))\n",
    "model3.add(Dense(1, 'linear'))\n",
    "\n",
    "model3.summary()"
   ]
  },
  {
   "cell_type": "code",
   "execution_count": 30,
   "id": "bdd45f85",
   "metadata": {},
   "outputs": [],
   "source": [
    "cp3 = ModelCheckpoint('meremodel3/', save_best_only=True)\n",
    "# the above makes a folder that our gitignore should exclude\n",
    "\n",
    "model3.compile(loss=MeanSquaredError(), optimizer=Adam(learning_rate=0.001), metrics=[RootMeanSquaredError()])"
   ]
  },
  {
   "cell_type": "code",
   "execution_count": 31,
   "id": "538a7bb2",
   "metadata": {},
   "outputs": [
    {
     "name": "stdout",
     "output_type": "stream",
     "text": [
      "Epoch 1/50\n",
      "101/110 [==========================>...] - ETA: 0s - loss: 7412.2588 - root_mean_squared_error: 86.0945INFO:tensorflow:Assets written to: meremodel3/assets\n"
     ]
    },
    {
     "name": "stderr",
     "output_type": "stream",
     "text": [
      "INFO:tensorflow:Assets written to: meremodel3/assets\n"
     ]
    },
    {
     "name": "stdout",
     "output_type": "stream",
     "text": [
      "110/110 [==============================] - 4s 20ms/step - loss: 7348.0581 - root_mean_squared_error: 85.7208 - val_loss: 6520.8770 - val_root_mean_squared_error: 80.7519\n",
      "Epoch 2/50\n",
      " 90/110 [=======================>......] - ETA: 0s - loss: 5288.9404 - root_mean_squared_error: 72.7251INFO:tensorflow:Assets written to: meremodel3/assets\n"
     ]
    },
    {
     "name": "stderr",
     "output_type": "stream",
     "text": [
      "INFO:tensorflow:Assets written to: meremodel3/assets\n"
     ]
    },
    {
     "name": "stdout",
     "output_type": "stream",
     "text": [
      "110/110 [==============================] - 2s 17ms/step - loss: 5043.8823 - root_mean_squared_error: 71.0203 - val_loss: 3659.8191 - val_root_mean_squared_error: 60.4964\n",
      "Epoch 3/50\n",
      " 90/110 [=======================>......] - ETA: 0s - loss: 2698.0020 - root_mean_squared_error: 51.9423INFO:tensorflow:Assets written to: meremodel3/assets\n"
     ]
    },
    {
     "name": "stderr",
     "output_type": "stream",
     "text": [
      "INFO:tensorflow:Assets written to: meremodel3/assets\n"
     ]
    },
    {
     "name": "stdout",
     "output_type": "stream",
     "text": [
      "110/110 [==============================] - 2s 19ms/step - loss: 2475.9434 - root_mean_squared_error: 49.7589 - val_loss: 1177.7487 - val_root_mean_squared_error: 34.3183\n",
      "Epoch 4/50\n",
      " 88/110 [=======================>......] - ETA: 0s - loss: 517.0205 - root_mean_squared_error: 22.7381INFO:tensorflow:Assets written to: meremodel3/assets\n"
     ]
    },
    {
     "name": "stderr",
     "output_type": "stream",
     "text": [
      "INFO:tensorflow:Assets written to: meremodel3/assets\n"
     ]
    },
    {
     "name": "stdout",
     "output_type": "stream",
     "text": [
      "110/110 [==============================] - 2s 17ms/step - loss: 436.3948 - root_mean_squared_error: 20.8901 - val_loss: 68.7280 - val_root_mean_squared_error: 8.2902\n",
      "Epoch 5/50\n",
      "110/110 [==============================] - ETA: 0s - loss: 25.1451 - root_mean_squared_error: 5.0145INFO:tensorflow:Assets written to: meremodel3/assets\n"
     ]
    },
    {
     "name": "stderr",
     "output_type": "stream",
     "text": [
      "INFO:tensorflow:Assets written to: meremodel3/assets\n"
     ]
    },
    {
     "name": "stdout",
     "output_type": "stream",
     "text": [
      "110/110 [==============================] - 2s 17ms/step - loss: 25.1451 - root_mean_squared_error: 5.0145 - val_loss: 8.8114 - val_root_mean_squared_error: 2.9684\n",
      "Epoch 6/50\n",
      " 94/110 [========================>.....] - ETA: 0s - loss: 12.4419 - root_mean_squared_error: 3.5273INFO:tensorflow:Assets written to: meremodel3/assets\n"
     ]
    },
    {
     "name": "stderr",
     "output_type": "stream",
     "text": [
      "INFO:tensorflow:Assets written to: meremodel3/assets\n"
     ]
    },
    {
     "name": "stdout",
     "output_type": "stream",
     "text": [
      "110/110 [==============================] - 2s 17ms/step - loss: 12.1644 - root_mean_squared_error: 3.4877 - val_loss: 7.8281 - val_root_mean_squared_error: 2.7979\n",
      "Epoch 7/50\n",
      "107/110 [============================>.] - ETA: 0s - loss: 11.4681 - root_mean_squared_error: 3.3865INFO:tensorflow:Assets written to: meremodel3/assets\n"
     ]
    },
    {
     "name": "stderr",
     "output_type": "stream",
     "text": [
      "INFO:tensorflow:Assets written to: meremodel3/assets\n"
     ]
    },
    {
     "name": "stdout",
     "output_type": "stream",
     "text": [
      "110/110 [==============================] - 2s 19ms/step - loss: 11.5025 - root_mean_squared_error: 3.3915 - val_loss: 7.1125 - val_root_mean_squared_error: 2.6669\n",
      "Epoch 8/50\n",
      " 90/110 [=======================>......] - ETA: 0s - loss: 9.8409 - root_mean_squared_error: 3.1370 INFO:tensorflow:Assets written to: meremodel3/assets\n"
     ]
    },
    {
     "name": "stderr",
     "output_type": "stream",
     "text": [
      "INFO:tensorflow:Assets written to: meremodel3/assets\n"
     ]
    },
    {
     "name": "stdout",
     "output_type": "stream",
     "text": [
      "110/110 [==============================] - 2s 17ms/step - loss: 9.4801 - root_mean_squared_error: 3.0790 - val_loss: 5.2365 - val_root_mean_squared_error: 2.2883\n",
      "Epoch 9/50\n",
      " 90/110 [=======================>......] - ETA: 0s - loss: 4.6283 - root_mean_squared_error: 2.1513INFO:tensorflow:Assets written to: meremodel3/assets\n"
     ]
    },
    {
     "name": "stderr",
     "output_type": "stream",
     "text": [
      "INFO:tensorflow:Assets written to: meremodel3/assets\n"
     ]
    },
    {
     "name": "stdout",
     "output_type": "stream",
     "text": [
      "110/110 [==============================] - 2s 17ms/step - loss: 4.1155 - root_mean_squared_error: 2.0287 - val_loss: 1.2294 - val_root_mean_squared_error: 1.1088\n",
      "Epoch 10/50\n",
      " 89/110 [=======================>......] - ETA: 0s - loss: 1.0003 - root_mean_squared_error: 1.0002INFO:tensorflow:Assets written to: meremodel3/assets\n"
     ]
    },
    {
     "name": "stderr",
     "output_type": "stream",
     "text": [
      "INFO:tensorflow:Assets written to: meremodel3/assets\n"
     ]
    },
    {
     "name": "stdout",
     "output_type": "stream",
     "text": [
      "110/110 [==============================] - 2s 19ms/step - loss: 0.9333 - root_mean_squared_error: 0.9661 - val_loss: 0.4438 - val_root_mean_squared_error: 0.6662\n",
      "Epoch 11/50\n",
      "109/110 [============================>.] - ETA: 0s - loss: 0.3968 - root_mean_squared_error: 0.6300INFO:tensorflow:Assets written to: meremodel3/assets\n"
     ]
    },
    {
     "name": "stderr",
     "output_type": "stream",
     "text": [
      "INFO:tensorflow:Assets written to: meremodel3/assets\n"
     ]
    },
    {
     "name": "stdout",
     "output_type": "stream",
     "text": [
      "110/110 [==============================] - 2s 17ms/step - loss: 0.3961 - root_mean_squared_error: 0.6294 - val_loss: 0.3294 - val_root_mean_squared_error: 0.5740\n",
      "Epoch 12/50\n",
      "106/110 [===========================>..] - ETA: 0s - loss: 0.2533 - root_mean_squared_error: 0.5033INFO:tensorflow:Assets written to: meremodel3/assets\n"
     ]
    },
    {
     "name": "stderr",
     "output_type": "stream",
     "text": [
      "INFO:tensorflow:Assets written to: meremodel3/assets\n"
     ]
    },
    {
     "name": "stdout",
     "output_type": "stream",
     "text": [
      "110/110 [==============================] - 2s 17ms/step - loss: 0.2518 - root_mean_squared_error: 0.5018 - val_loss: 0.2090 - val_root_mean_squared_error: 0.4571\n",
      "Epoch 13/50\n",
      " 89/110 [=======================>......] - ETA: 0s - loss: 0.1658 - root_mean_squared_error: 0.4072INFO:tensorflow:Assets written to: meremodel3/assets\n"
     ]
    },
    {
     "name": "stderr",
     "output_type": "stream",
     "text": [
      "INFO:tensorflow:Assets written to: meremodel3/assets\n"
     ]
    },
    {
     "name": "stdout",
     "output_type": "stream",
     "text": [
      "110/110 [==============================] - 2s 19ms/step - loss: 0.1596 - root_mean_squared_error: 0.3996 - val_loss: 0.1174 - val_root_mean_squared_error: 0.3426\n",
      "Epoch 14/50\n",
      " 91/110 [=======================>......] - ETA: 0s - loss: 0.1381 - root_mean_squared_error: 0.3716INFO:tensorflow:Assets written to: meremodel3/assets\n"
     ]
    },
    {
     "name": "stderr",
     "output_type": "stream",
     "text": [
      "INFO:tensorflow:Assets written to: meremodel3/assets\n"
     ]
    },
    {
     "name": "stdout",
     "output_type": "stream",
     "text": [
      "110/110 [==============================] - 2s 17ms/step - loss: 0.1368 - root_mean_squared_error: 0.3699 - val_loss: 0.1116 - val_root_mean_squared_error: 0.3341\n",
      "Epoch 15/50\n",
      "102/110 [==========================>...] - ETA: 0s - loss: 0.1269 - root_mean_squared_error: 0.3563INFO:tensorflow:Assets written to: meremodel3/assets\n"
     ]
    },
    {
     "name": "stderr",
     "output_type": "stream",
     "text": [
      "INFO:tensorflow:Assets written to: meremodel3/assets\n"
     ]
    },
    {
     "name": "stdout",
     "output_type": "stream",
     "text": [
      "110/110 [==============================] - 2s 18ms/step - loss: 0.1256 - root_mean_squared_error: 0.3544 - val_loss: 0.0984 - val_root_mean_squared_error: 0.3137\n",
      "Epoch 16/50\n",
      "100/110 [==========================>...] - ETA: 0s - loss: 0.0984 - root_mean_squared_error: 0.3136INFO:tensorflow:Assets written to: meremodel3/assets\n"
     ]
    },
    {
     "name": "stderr",
     "output_type": "stream",
     "text": [
      "INFO:tensorflow:Assets written to: meremodel3/assets\n"
     ]
    },
    {
     "name": "stdout",
     "output_type": "stream",
     "text": [
      "110/110 [==============================] - 2s 17ms/step - loss: 0.0969 - root_mean_squared_error: 0.3113 - val_loss: 0.0773 - val_root_mean_squared_error: 0.2780\n",
      "Epoch 17/50\n",
      "109/110 [============================>.] - ETA: 0s - loss: 0.1139 - root_mean_squared_error: 0.3376INFO:tensorflow:Assets written to: meremodel3/assets\n"
     ]
    },
    {
     "name": "stderr",
     "output_type": "stream",
     "text": [
      "INFO:tensorflow:Assets written to: meremodel3/assets\n"
     ]
    },
    {
     "name": "stdout",
     "output_type": "stream",
     "text": [
      "110/110 [==============================] - 2s 20ms/step - loss: 0.1136 - root_mean_squared_error: 0.3371 - val_loss: 0.0758 - val_root_mean_squared_error: 0.2753\n",
      "Epoch 18/50\n",
      " 92/110 [========================>.....] - ETA: 0s - loss: 0.0818 - root_mean_squared_error: 0.2861INFO:tensorflow:Assets written to: meremodel3/assets\n"
     ]
    },
    {
     "name": "stderr",
     "output_type": "stream",
     "text": [
      "INFO:tensorflow:Assets written to: meremodel3/assets\n"
     ]
    },
    {
     "name": "stdout",
     "output_type": "stream",
     "text": [
      "110/110 [==============================] - 2s 17ms/step - loss: 0.0825 - root_mean_squared_error: 0.2872 - val_loss: 0.0571 - val_root_mean_squared_error: 0.2390\n",
      "Epoch 19/50\n",
      "110/110 [==============================] - 0s 3ms/step - loss: 0.1042 - root_mean_squared_error: 0.3228 - val_loss: 0.0931 - val_root_mean_squared_error: 0.3051\n",
      "Epoch 20/50\n",
      "110/110 [==============================] - 0s 3ms/step - loss: 0.0867 - root_mean_squared_error: 0.2944 - val_loss: 0.0889 - val_root_mean_squared_error: 0.2981\n",
      "Epoch 21/50\n",
      "110/110 [==============================] - 0s 3ms/step - loss: 0.0835 - root_mean_squared_error: 0.2889 - val_loss: 0.1463 - val_root_mean_squared_error: 0.3825\n",
      "Epoch 22/50\n",
      " 92/110 [========================>.....] - ETA: 0s - loss: 0.0845 - root_mean_squared_error: 0.2906INFO:tensorflow:Assets written to: meremodel3/assets\n"
     ]
    },
    {
     "name": "stderr",
     "output_type": "stream",
     "text": [
      "INFO:tensorflow:Assets written to: meremodel3/assets\n"
     ]
    },
    {
     "name": "stdout",
     "output_type": "stream",
     "text": [
      "110/110 [==============================] - 2s 17ms/step - loss: 0.0821 - root_mean_squared_error: 0.2865 - val_loss: 0.0461 - val_root_mean_squared_error: 0.2148\n",
      "Epoch 23/50\n",
      " 90/110 [=======================>......] - ETA: 0s - loss: 0.0771 - root_mean_squared_error: 0.2777INFO:tensorflow:Assets written to: meremodel3/assets\n"
     ]
    },
    {
     "name": "stderr",
     "output_type": "stream",
     "text": [
      "INFO:tensorflow:Assets written to: meremodel3/assets\n"
     ]
    },
    {
     "name": "stdout",
     "output_type": "stream",
     "text": [
      "110/110 [==============================] - 2s 19ms/step - loss: 0.0817 - root_mean_squared_error: 0.2858 - val_loss: 0.0413 - val_root_mean_squared_error: 0.2032\n",
      "Epoch 24/50\n",
      " 89/110 [=======================>......] - ETA: 0s - loss: 0.0709 - root_mean_squared_error: 0.2662INFO:tensorflow:Assets written to: meremodel3/assets\n"
     ]
    },
    {
     "name": "stderr",
     "output_type": "stream",
     "text": [
      "INFO:tensorflow:Assets written to: meremodel3/assets\n"
     ]
    },
    {
     "name": "stdout",
     "output_type": "stream",
     "text": [
      "110/110 [==============================] - 2s 17ms/step - loss: 0.0709 - root_mean_squared_error: 0.2663 - val_loss: 0.0401 - val_root_mean_squared_error: 0.2003\n",
      "Epoch 25/50\n",
      "110/110 [==============================] - 0s 3ms/step - loss: 0.0808 - root_mean_squared_error: 0.2843 - val_loss: 0.0802 - val_root_mean_squared_error: 0.2832\n",
      "Epoch 26/50\n",
      "110/110 [==============================] - 0s 3ms/step - loss: 0.0821 - root_mean_squared_error: 0.2865 - val_loss: 0.2985 - val_root_mean_squared_error: 0.5463\n",
      "Epoch 27/50\n",
      "110/110 [==============================] - 0s 3ms/step - loss: 0.0906 - root_mean_squared_error: 0.3010 - val_loss: 0.0715 - val_root_mean_squared_error: 0.2673\n",
      "Epoch 28/50\n",
      "110/110 [==============================] - 0s 3ms/step - loss: 0.0597 - root_mean_squared_error: 0.2443 - val_loss: 0.0796 - val_root_mean_squared_error: 0.2821\n",
      "Epoch 29/50\n",
      "110/110 [==============================] - 0s 3ms/step - loss: 0.0625 - root_mean_squared_error: 0.2501 - val_loss: 0.0760 - val_root_mean_squared_error: 0.2757\n",
      "Epoch 30/50\n",
      "110/110 [==============================] - 0s 3ms/step - loss: 0.0607 - root_mean_squared_error: 0.2463 - val_loss: 0.0548 - val_root_mean_squared_error: 0.2342\n",
      "Epoch 31/50\n",
      " 88/110 [=======================>......] - ETA: 0s - loss: 0.0623 - root_mean_squared_error: 0.2497INFO:tensorflow:Assets written to: meremodel3/assets\n"
     ]
    },
    {
     "name": "stderr",
     "output_type": "stream",
     "text": [
      "INFO:tensorflow:Assets written to: meremodel3/assets\n"
     ]
    },
    {
     "name": "stdout",
     "output_type": "stream",
     "text": [
      "110/110 [==============================] - 2s 17ms/step - loss: 0.0637 - root_mean_squared_error: 0.2524 - val_loss: 0.0360 - val_root_mean_squared_error: 0.1896\n",
      "Epoch 32/50\n",
      "110/110 [==============================] - 0s 3ms/step - loss: 0.0663 - root_mean_squared_error: 0.2575 - val_loss: 0.1088 - val_root_mean_squared_error: 0.3298\n",
      "Epoch 33/50\n",
      "110/110 [==============================] - 0s 3ms/step - loss: 0.0771 - root_mean_squared_error: 0.2776 - val_loss: 0.0403 - val_root_mean_squared_error: 0.2007\n",
      "Epoch 34/50\n",
      "110/110 [==============================] - 0s 3ms/step - loss: 0.0704 - root_mean_squared_error: 0.2654 - val_loss: 0.1008 - val_root_mean_squared_error: 0.3175\n",
      "Epoch 35/50\n",
      "110/110 [==============================] - 0s 3ms/step - loss: 0.0900 - root_mean_squared_error: 0.2999 - val_loss: 0.0482 - val_root_mean_squared_error: 0.2195\n",
      "Epoch 36/50\n",
      "110/110 [==============================] - 0s 3ms/step - loss: 0.0647 - root_mean_squared_error: 0.2544 - val_loss: 0.0449 - val_root_mean_squared_error: 0.2119\n",
      "Epoch 37/50\n",
      "110/110 [==============================] - 0s 3ms/step - loss: 0.0631 - root_mean_squared_error: 0.2512 - val_loss: 0.0442 - val_root_mean_squared_error: 0.2102\n",
      "Epoch 38/50\n",
      "110/110 [==============================] - 0s 3ms/step - loss: 0.0654 - root_mean_squared_error: 0.2557 - val_loss: 0.0504 - val_root_mean_squared_error: 0.2245\n",
      "Epoch 39/50\n",
      "110/110 [==============================] - 0s 3ms/step - loss: 0.0591 - root_mean_squared_error: 0.2430 - val_loss: 0.1222 - val_root_mean_squared_error: 0.3496\n",
      "Epoch 40/50\n",
      "108/110 [============================>.] - ETA: 0s - loss: 0.0606 - root_mean_squared_error: 0.2462INFO:tensorflow:Assets written to: meremodel3/assets\n"
     ]
    },
    {
     "name": "stderr",
     "output_type": "stream",
     "text": [
      "INFO:tensorflow:Assets written to: meremodel3/assets\n"
     ]
    },
    {
     "name": "stdout",
     "output_type": "stream",
     "text": [
      "110/110 [==============================] - 2s 17ms/step - loss: 0.0609 - root_mean_squared_error: 0.2467 - val_loss: 0.0353 - val_root_mean_squared_error: 0.1879\n",
      "Epoch 41/50\n",
      "101/110 [==========================>...] - ETA: 0s - loss: 0.0562 - root_mean_squared_error: 0.2370INFO:tensorflow:Assets written to: meremodel3/assets\n"
     ]
    },
    {
     "name": "stderr",
     "output_type": "stream",
     "text": [
      "INFO:tensorflow:Assets written to: meremodel3/assets\n"
     ]
    },
    {
     "name": "stdout",
     "output_type": "stream",
     "text": [
      "110/110 [==============================] - 2s 20ms/step - loss: 0.0551 - root_mean_squared_error: 0.2348 - val_loss: 0.0318 - val_root_mean_squared_error: 0.1784\n",
      "Epoch 42/50\n",
      "110/110 [==============================] - 0s 3ms/step - loss: 0.0562 - root_mean_squared_error: 0.2371 - val_loss: 0.0364 - val_root_mean_squared_error: 0.1909\n",
      "Epoch 43/50\n",
      "110/110 [==============================] - ETA: 0s - loss: 0.0754 - root_mean_squared_error: 0.2746INFO:tensorflow:Assets written to: meremodel3/assets\n"
     ]
    },
    {
     "name": "stderr",
     "output_type": "stream",
     "text": [
      "INFO:tensorflow:Assets written to: meremodel3/assets\n"
     ]
    },
    {
     "name": "stdout",
     "output_type": "stream",
     "text": [
      "110/110 [==============================] - 2s 18ms/step - loss: 0.0754 - root_mean_squared_error: 0.2746 - val_loss: 0.0291 - val_root_mean_squared_error: 0.1705\n",
      "Epoch 44/50\n",
      "110/110 [==============================] - 0s 3ms/step - loss: 0.0426 - root_mean_squared_error: 0.2063 - val_loss: 0.0922 - val_root_mean_squared_error: 0.3036\n",
      "Epoch 45/50\n",
      "110/110 [==============================] - 0s 3ms/step - loss: 0.0506 - root_mean_squared_error: 0.2249 - val_loss: 0.0366 - val_root_mean_squared_error: 0.1914\n",
      "Epoch 46/50\n",
      "110/110 [==============================] - 0s 3ms/step - loss: 0.0578 - root_mean_squared_error: 0.2404 - val_loss: 0.1089 - val_root_mean_squared_error: 0.3301\n",
      "Epoch 47/50\n",
      "110/110 [==============================] - 0s 3ms/step - loss: 0.0307 - root_mean_squared_error: 0.1754 - val_loss: 0.0470 - val_root_mean_squared_error: 0.2168\n",
      "Epoch 48/50\n",
      "109/110 [============================>.] - ETA: 0s - loss: 0.0330 - root_mean_squared_error: 0.1817INFO:tensorflow:Assets written to: meremodel3/assets\n"
     ]
    },
    {
     "name": "stderr",
     "output_type": "stream",
     "text": [
      "INFO:tensorflow:Assets written to: meremodel3/assets\n"
     ]
    },
    {
     "name": "stdout",
     "output_type": "stream",
     "text": [
      "110/110 [==============================] - 2s 17ms/step - loss: 0.0330 - root_mean_squared_error: 0.1816 - val_loss: 0.0205 - val_root_mean_squared_error: 0.1430\n",
      "Epoch 49/50\n",
      "110/110 [==============================] - 0s 3ms/step - loss: 0.0324 - root_mean_squared_error: 0.1799 - val_loss: 0.0281 - val_root_mean_squared_error: 0.1677\n",
      "Epoch 50/50\n",
      "110/110 [==============================] - 0s 3ms/step - loss: 0.0283 - root_mean_squared_error: 0.1683 - val_loss: 0.0417 - val_root_mean_squared_error: 0.2043\n"
     ]
    },
    {
     "data": {
      "text/plain": [
       "<keras.src.callbacks.History at 0x7f5672e85f60>"
      ]
     },
     "execution_count": 31,
     "metadata": {},
     "output_type": "execute_result"
    }
   ],
   "source": [
    "model3.fit(X_train, y_train, validation_data=(X_val, y_val), epochs=50, callbacks=[cp3])"
   ]
  },
  {
   "cell_type": "code",
   "execution_count": 32,
   "id": "9d062580",
   "metadata": {},
   "outputs": [
    {
     "name": "stdout",
     "output_type": "stream",
     "text": [
      "16/16 [==============================] - 0s 1ms/step\n"
     ]
    },
    {
     "data": {
      "image/png": "[encoded data removed]",
      "text/plain": [
       "<Figure size 1152x360 with 1 Axes>"
      ]
     },
     "metadata": {
      "needs_background": "light"
     },
     "output_type": "display_data"
    },
    {
     "data": {
      "text/plain": [
       "(     Predictions  Actuals\n",
       " 0      91.373245  91.4921\n",
       " 1      91.464539  91.5775\n",
       " 2      91.552048  91.6546\n",
       " 3      91.632172  91.7333\n",
       " 4      91.708664  91.7912\n",
       " ..           ...      ...\n",
       " 495    79.400185  79.4696\n",
       " 496    79.485825  80.0721\n",
       " 497    79.966614  80.4046\n",
       " 498    80.436668  80.6565\n",
       " 499    80.721924  80.8423\n",
       " \n",
       " [500 rows x 2 columns],\n",
       " 0.08115143096094052)"
      ]
     },
     "execution_count": 32,
     "metadata": {},
     "output_type": "execute_result"
    }
   ],
   "source": [
    "model3 = load_model('meremodel3/')\n",
    "plot_predictions1(model3, X_test, y_test)"
   ]
  },
  {
   "cell_type": "markdown",
   "id": "c1bedd78",
   "metadata": {},
   "source": [
    "## Multivariate tutorial\n",
    "\n",
    "both of these tutorials skip basically all explanation; I need to go through Marcos' notebooks and whatnot, but below is following the second one listed above. [This one](https://www.youtube.com/watch?v=kGdbPnMCdOg) starting around 17 minutes in (the first 17 minutes are doing the CNN and GRU above)"
   ]
  },
  {
   "cell_type": "code",
   "execution_count": 33,
   "id": "a2e4a8e3",
   "metadata": {},
   "outputs": [
    {
     "data": {
      "text/plain": [
       "date\n",
       "2006-02-07    91.0100\n",
       "2006-02-08    91.0429\n",
       "2006-02-09    91.1096\n",
       "2006-02-10    91.1954\n",
       "2006-02-11    91.3012\n",
       "               ...   \n",
       "2018-06-02    79.4696\n",
       "2018-06-03    80.0721\n",
       "2018-06-04    80.4046\n",
       "2018-06-05    80.6565\n",
       "2018-06-06    80.8423\n",
       "Name: avg_well_depth, Length: 4503, dtype: float64"
      ]
     },
     "execution_count": 33,
     "metadata": {},
     "output_type": "execute_result"
    }
   ],
   "source": [
    "# recall the average well measurements are stored in well\n",
    "well"
   ]
  },
  {
   "cell_type": "code",
   "execution_count": 34,
   "id": "f848ba25",
   "metadata": {},
   "outputs": [
    {
     "data": {
      "text/html": [
       "<div>\n",
       "<style scoped>\n",
       "    .dataframe tbody tr th:only-of-type {\n",
       "        vertical-align: middle;\n",
       "    }\n",
       "\n",
       "    .dataframe tbody tr th {\n",
       "        vertical-align: top;\n",
       "    }\n",
       "\n",
       "    .dataframe thead th {\n",
       "        text-align: right;\n",
       "    }\n",
       "</style>\n",
       "<table border=\"1\" class=\"dataframe\">\n",
       "  <thead>\n",
       "    <tr style=\"text-align: right;\">\n",
       "      <th></th>\n",
       "      <th>avg_well_depth</th>\n",
       "      <th>Seconds</th>\n",
       "    </tr>\n",
       "    <tr>\n",
       "      <th>date</th>\n",
       "      <th></th>\n",
       "      <th></th>\n",
       "    </tr>\n",
       "  </thead>\n",
       "  <tbody>\n",
       "    <tr>\n",
       "      <th>2006-02-07</th>\n",
       "      <td>91.0100</td>\n",
       "      <td>1.139270e+09</td>\n",
       "    </tr>\n",
       "    <tr>\n",
       "      <th>2006-02-08</th>\n",
       "      <td>91.0429</td>\n",
       "      <td>1.139357e+09</td>\n",
       "    </tr>\n",
       "    <tr>\n",
       "      <th>2006-02-09</th>\n",
       "      <td>91.1096</td>\n",
       "      <td>1.139443e+09</td>\n",
       "    </tr>\n",
       "    <tr>\n",
       "      <th>2006-02-10</th>\n",
       "      <td>91.1954</td>\n",
       "      <td>1.139530e+09</td>\n",
       "    </tr>\n",
       "    <tr>\n",
       "      <th>2006-02-11</th>\n",
       "      <td>91.3012</td>\n",
       "      <td>1.139616e+09</td>\n",
       "    </tr>\n",
       "    <tr>\n",
       "      <th>...</th>\n",
       "      <td>...</td>\n",
       "      <td>...</td>\n",
       "    </tr>\n",
       "    <tr>\n",
       "      <th>2018-06-02</th>\n",
       "      <td>79.4696</td>\n",
       "      <td>1.527898e+09</td>\n",
       "    </tr>\n",
       "    <tr>\n",
       "      <th>2018-06-03</th>\n",
       "      <td>80.0721</td>\n",
       "      <td>1.527984e+09</td>\n",
       "    </tr>\n",
       "    <tr>\n",
       "      <th>2018-06-04</th>\n",
       "      <td>80.4046</td>\n",
       "      <td>1.528070e+09</td>\n",
       "    </tr>\n",
       "    <tr>\n",
       "      <th>2018-06-05</th>\n",
       "      <td>80.6565</td>\n",
       "      <td>1.528157e+09</td>\n",
       "    </tr>\n",
       "    <tr>\n",
       "      <th>2018-06-06</th>\n",
       "      <td>80.8423</td>\n",
       "      <td>1.528243e+09</td>\n",
       "    </tr>\n",
       "  </tbody>\n",
       "</table>\n",
       "<p>4503 rows × 2 columns</p>\n",
       "</div>"
      ],
      "text/plain": [
       "            avg_well_depth       Seconds\n",
       "date                                    \n",
       "2006-02-07         91.0100  1.139270e+09\n",
       "2006-02-08         91.0429  1.139357e+09\n",
       "2006-02-09         91.1096  1.139443e+09\n",
       "2006-02-10         91.1954  1.139530e+09\n",
       "2006-02-11         91.3012  1.139616e+09\n",
       "...                    ...           ...\n",
       "2018-06-02         79.4696  1.527898e+09\n",
       "2018-06-03         80.0721  1.527984e+09\n",
       "2018-06-04         80.4046  1.528070e+09\n",
       "2018-06-05         80.6565  1.528157e+09\n",
       "2018-06-06         80.8423  1.528243e+09\n",
       "\n",
       "[4503 rows x 2 columns]"
      ]
     },
     "execution_count": 34,
     "metadata": {},
     "output_type": "execute_result"
    }
   ],
   "source": [
    "well_df = pd.DataFrame({'avg_well_depth':well})\n",
    "well_df['Seconds'] = well_df.index.map(pd.Timestamp.timestamp)\n",
    "well_df"
   ]
  },
  {
   "cell_type": "code",
   "execution_count": 35,
   "id": "621e35c1",
   "metadata": {},
   "outputs": [
    {
     "data": {
      "text/html": [
       "<div>\n",
       "<style scoped>\n",
       "    .dataframe tbody tr th:only-of-type {\n",
       "        vertical-align: middle;\n",
       "    }\n",
       "\n",
       "    .dataframe tbody tr th {\n",
       "        vertical-align: top;\n",
       "    }\n",
       "\n",
       "    .dataframe thead th {\n",
       "        text-align: right;\n",
       "    }\n",
       "</style>\n",
       "<table border=\"1\" class=\"dataframe\">\n",
       "  <thead>\n",
       "    <tr style=\"text-align: right;\">\n",
       "      <th></th>\n",
       "      <th>avg_well_depth</th>\n",
       "      <th>Year sin</th>\n",
       "      <th>Year cos</th>\n",
       "    </tr>\n",
       "    <tr>\n",
       "      <th>date</th>\n",
       "      <th></th>\n",
       "      <th></th>\n",
       "      <th></th>\n",
       "    </tr>\n",
       "  </thead>\n",
       "  <tbody>\n",
       "    <tr>\n",
       "      <th>2006-02-07</th>\n",
       "      <td>91.0100</td>\n",
       "      <td>0.598115</td>\n",
       "      <td>0.801410</td>\n",
       "    </tr>\n",
       "    <tr>\n",
       "      <th>2006-02-08</th>\n",
       "      <td>91.0429</td>\n",
       "      <td>0.611813</td>\n",
       "      <td>0.791003</td>\n",
       "    </tr>\n",
       "    <tr>\n",
       "      <th>2006-02-09</th>\n",
       "      <td>91.1096</td>\n",
       "      <td>0.625329</td>\n",
       "      <td>0.780361</td>\n",
       "    </tr>\n",
       "    <tr>\n",
       "      <th>2006-02-10</th>\n",
       "      <td>91.1954</td>\n",
       "      <td>0.638660</td>\n",
       "      <td>0.769489</td>\n",
       "    </tr>\n",
       "    <tr>\n",
       "      <th>2006-02-11</th>\n",
       "      <td>91.3012</td>\n",
       "      <td>0.651802</td>\n",
       "      <td>0.758389</td>\n",
       "    </tr>\n",
       "  </tbody>\n",
       "</table>\n",
       "</div>"
      ],
      "text/plain": [
       "            avg_well_depth  Year sin  Year cos\n",
       "date                                          \n",
       "2006-02-07         91.0100  0.598115  0.801410\n",
       "2006-02-08         91.0429  0.611813  0.791003\n",
       "2006-02-09         91.1096  0.625329  0.780361\n",
       "2006-02-10         91.1954  0.638660  0.769489\n",
       "2006-02-11         91.3012  0.651802  0.758389"
      ]
     },
     "execution_count": 35,
     "metadata": {},
     "output_type": "execute_result"
    }
   ],
   "source": [
    "day = 60*60*24\n",
    "year = 365.2425*day\n",
    "\n",
    "well_df['Year sin'] = np.sin(well_df['Seconds'] * (2 * np.pi / year))\n",
    "well_df['Year cos'] = np.cos(well_df['Seconds'] * (2 * np.pi / year))\n",
    "\n",
    "well_df = well_df.drop('Seconds', axis=1)\n",
    "well_df.head()"
   ]
  },
  {
   "cell_type": "code",
   "execution_count": 36,
   "id": "74d10928",
   "metadata": {},
   "outputs": [
    {
     "data": {
      "text/html": [
       "<div>\n",
       "<style scoped>\n",
       "    .dataframe tbody tr th:only-of-type {\n",
       "        vertical-align: middle;\n",
       "    }\n",
       "\n",
       "    .dataframe tbody tr th {\n",
       "        vertical-align: top;\n",
       "    }\n",
       "\n",
       "    .dataframe thead th {\n",
       "        text-align: right;\n",
       "    }\n",
       "</style>\n",
       "<table border=\"1\" class=\"dataframe\">\n",
       "  <thead>\n",
       "    <tr style=\"text-align: right;\">\n",
       "      <th></th>\n",
       "      <th>avg_well_depth</th>\n",
       "      <th>Year sin</th>\n",
       "      <th>Year cos</th>\n",
       "      <th>gage_ht</th>\n",
       "      <th>prcp</th>\n",
       "    </tr>\n",
       "    <tr>\n",
       "      <th>date</th>\n",
       "      <th></th>\n",
       "      <th></th>\n",
       "      <th></th>\n",
       "      <th></th>\n",
       "      <th></th>\n",
       "    </tr>\n",
       "  </thead>\n",
       "  <tbody>\n",
       "    <tr>\n",
       "      <th>2006-02-07</th>\n",
       "      <td>91.0100</td>\n",
       "      <td>0.598115</td>\n",
       "      <td>0.801410</td>\n",
       "      <td>21.65</td>\n",
       "      <td>0.0</td>\n",
       "    </tr>\n",
       "    <tr>\n",
       "      <th>2006-02-08</th>\n",
       "      <td>91.0429</td>\n",
       "      <td>0.611813</td>\n",
       "      <td>0.791003</td>\n",
       "      <td>21.64</td>\n",
       "      <td>0.0</td>\n",
       "    </tr>\n",
       "    <tr>\n",
       "      <th>2006-02-09</th>\n",
       "      <td>91.1096</td>\n",
       "      <td>0.625329</td>\n",
       "      <td>0.780361</td>\n",
       "      <td>21.58</td>\n",
       "      <td>0.0</td>\n",
       "    </tr>\n",
       "    <tr>\n",
       "      <th>2006-02-10</th>\n",
       "      <td>91.1954</td>\n",
       "      <td>0.638660</td>\n",
       "      <td>0.769489</td>\n",
       "      <td>21.46</td>\n",
       "      <td>0.0</td>\n",
       "    </tr>\n",
       "    <tr>\n",
       "      <th>2006-02-11</th>\n",
       "      <td>91.3012</td>\n",
       "      <td>0.651802</td>\n",
       "      <td>0.758389</td>\n",
       "      <td>21.36</td>\n",
       "      <td>0.0</td>\n",
       "    </tr>\n",
       "  </tbody>\n",
       "</table>\n",
       "</div>"
      ],
      "text/plain": [
       "            avg_well_depth  Year sin  Year cos  gage_ht  prcp\n",
       "date                                                         \n",
       "2006-02-07         91.0100  0.598115  0.801410    21.65   0.0\n",
       "2006-02-08         91.0429  0.611813  0.791003    21.64   0.0\n",
       "2006-02-09         91.1096  0.625329  0.780361    21.58   0.0\n",
       "2006-02-10         91.1954  0.638660  0.769489    21.46   0.0\n",
       "2006-02-11         91.3012  0.651802  0.758389    21.36   0.0"
      ]
     },
     "execution_count": 36,
     "metadata": {},
     "output_type": "execute_result"
    }
   ],
   "source": [
    "well_df['gage_ht'] = df.gage_ht.values\n",
    "well_df['prcp'] = df.prcp.values\n",
    "well_df.head()"
   ]
  },
  {
   "cell_type": "code",
   "execution_count": 37,
   "id": "e50ab6fb",
   "metadata": {},
   "outputs": [],
   "source": [
    "def df_to_X_y_multi(df, window_size=6):\n",
    "    df_as_np = df.to_numpy()\n",
    "    X = []\n",
    "    y = []\n",
    "    for i in range(len(df_as_np)-window_size):\n",
    "        row = [a for a in df_as_np[i:i+window_size]]\n",
    "        X.append(row)\n",
    "        label = df_as_np[i+window_size][0]\n",
    "        y.append(label)\n",
    "    return np.array(X), np.array(y)"
   ]
  },
  {
   "cell_type": "code",
   "execution_count": 38,
   "id": "4e943c4a",
   "metadata": {},
   "outputs": [
    {
     "data": {
      "text/plain": [
       "((4497, 6, 5), (4497,))"
      ]
     },
     "execution_count": 38,
     "metadata": {},
     "output_type": "execute_result"
    }
   ],
   "source": [
    "X2, y2 = df_to_X_y_multi(well_df)\n",
    "X2.shape, y2.shape"
   ]
  },
  {
   "cell_type": "markdown",
   "id": "85599769",
   "metadata": {},
   "source": [
    "### Train Test Split"
   ]
  },
  {
   "cell_type": "code",
   "execution_count": 40,
   "id": "a807db74",
   "metadata": {},
   "outputs": [
    {
     "data": {
      "text/plain": [
       "((3497, 6, 5), (3497,), (500, 6, 5), (500,), (500, 6, 5), (500,))"
      ]
     },
     "execution_count": 40,
     "metadata": {},
     "output_type": "execute_result"
    }
   ],
   "source": [
    "X2_train, y2_train = X2[:3497], y2[:3497]\n",
    "X2_val, y2_val = X2[3497:3997], y2[3497:3997]\n",
    "X2_test, y2_test = X2[3997:], y2[3997:]\n",
    "X2_train.shape, y2_train.shape, X2_val.shape, y2_val.shape, X2_test.shape, y2_test.shape"
   ]
  },
  {
   "cell_type": "markdown",
   "id": "257868f1",
   "metadata": {},
   "source": [
    "### Scaling\n",
    "35 minutes in"
   ]
  },
  {
   "cell_type": "code",
   "execution_count": 41,
   "id": "7356d636",
   "metadata": {},
   "outputs": [],
   "source": [
    "well_training_mean = np.mean(X2_train[:, :, 0])\n",
    "well_training_std = np.std(X2_train[:, :, 0])\n",
    "\n",
    "def preprocess(X):\n",
    "    X[:, :, 0] = (X[:, :, 0] - well_training_mean) / well_training_std\n",
    "    return X"
   ]
  },
  {
   "cell_type": "code",
   "execution_count": 42,
   "id": "dabebd8d",
   "metadata": {
    "scrolled": true
   },
   "outputs": [
    {
     "data": {
      "text/plain": [
       "array([[[ 1.54167390e-01,  2.81741935e-01,  9.59490220e-01,\n",
       "          1.88700000e+01,  2.40000000e-01],\n",
       "        [ 1.85938003e-01,  2.98205330e-01,  9.54501745e-01,\n",
       "          1.88900000e+01,  4.10000000e-01],\n",
       "        [ 2.15809287e-01,  3.14580477e-01,  9.49230806e-01,\n",
       "          1.88600000e+01,  0.00000000e+00],\n",
       "        [ 2.47349679e-01,  3.30862531e-01,  9.43678963e-01,\n",
       "          1.88700000e+01,  0.00000000e+00],\n",
       "        [ 2.72760415e-01,  3.47046673e-01,  9.37847859e-01,\n",
       "          1.88900000e+01,  3.00000000e-02],\n",
       "        [ 3.00358258e-01,  3.63128115e-01,  9.31739219e-01,\n",
       "          1.88900000e+01,  2.00000000e-01]],\n",
       "\n",
       "       [[ 1.85938003e-01,  2.98205330e-01,  9.54501745e-01,\n",
       "          1.88900000e+01,  4.10000000e-01],\n",
       "        [ 2.15809287e-01,  3.14580477e-01,  9.49230806e-01,\n",
       "          1.88600000e+01,  0.00000000e+00],\n",
       "        [ 2.47349679e-01,  3.30862531e-01,  9.43678963e-01,\n",
       "          1.88700000e+01,  0.00000000e+00],\n",
       "        [ 2.72760415e-01,  3.47046673e-01,  9.37847859e-01,\n",
       "          1.88900000e+01,  3.00000000e-02],\n",
       "        [ 3.00358258e-01,  3.63128115e-01,  9.31739219e-01,\n",
       "          1.88900000e+01,  2.00000000e-01],\n",
       "        [ 3.27207880e-01,  3.79102096e-01,  9.25354851e-01,\n",
       "          1.89000000e+01,  0.00000000e+00]],\n",
       "\n",
       "       [[ 2.15809287e-01,  3.14580477e-01,  9.49230806e-01,\n",
       "          1.88600000e+01,  0.00000000e+00],\n",
       "        [ 2.47349679e-01,  3.30862531e-01,  9.43678963e-01,\n",
       "          1.88700000e+01,  0.00000000e+00],\n",
       "        [ 2.72760415e-01,  3.47046673e-01,  9.37847859e-01,\n",
       "          1.88900000e+01,  3.00000000e-02],\n",
       "        [ 3.00358258e-01,  3.63128115e-01,  9.31739219e-01,\n",
       "          1.88900000e+01,  2.00000000e-01],\n",
       "        [ 3.27207880e-01,  3.79102096e-01,  9.25354851e-01,\n",
       "          1.89000000e+01,  0.00000000e+00],\n",
       "        [ 3.51784062e-01,  3.94963891e-01,  9.18696645e-01,\n",
       "          1.88900000e+01,  2.00000000e-02]],\n",
       "\n",
       "       ...,\n",
       "\n",
       "       [[-3.27098682e+00,  5.55852920e-01, -8.31280657e-01,\n",
       "          2.44300000e+01,  0.00000000e+00],\n",
       "        [-3.21769046e+00,  5.41471043e-01, -8.40719400e-01,\n",
       "          2.42400000e+01,  0.00000000e+00],\n",
       "        [-3.15527156e+00,  5.26928930e-01, -8.49909350e-01,\n",
       "          2.37600000e+01,  0.00000000e+00],\n",
       "        [-3.19075450e+00,  5.12230884e-01, -8.58847787e-01,\n",
       "          2.29500000e+01,  0.00000000e+00],\n",
       "        [-3.13259471e+00,  4.97381253e-01, -8.67532068e-01,\n",
       "          2.18400000e+01,  0.00000000e+00],\n",
       "        [-2.95920889e+00,  4.82384434e-01, -8.75959621e-01,\n",
       "          2.15900000e+01,  0.00000000e+00]],\n",
       "\n",
       "       [[-3.21769046e+00,  5.41471043e-01, -8.40719400e-01,\n",
       "          2.42400000e+01,  0.00000000e+00],\n",
       "        [-3.15527156e+00,  5.26928930e-01, -8.49909350e-01,\n",
       "          2.37600000e+01,  0.00000000e+00],\n",
       "        [-3.19075450e+00,  5.12230884e-01, -8.58847787e-01,\n",
       "          2.29500000e+01,  0.00000000e+00],\n",
       "        [-3.13259471e+00,  4.97381253e-01, -8.67532068e-01,\n",
       "          2.18400000e+01,  0.00000000e+00],\n",
       "        [-2.95920889e+00,  4.82384434e-01, -8.75959621e-01,\n",
       "          2.15900000e+01,  0.00000000e+00],\n",
       "        [-2.86352294e+00,  4.67244864e-01, -8.84127953e-01,\n",
       "          2.15000000e+01,  0.00000000e+00]],\n",
       "\n",
       "       [[-3.15527156e+00,  5.26928930e-01, -8.49909350e-01,\n",
       "          2.37600000e+01,  0.00000000e+00],\n",
       "        [-3.19075450e+00,  5.12230884e-01, -8.58847787e-01,\n",
       "          2.29500000e+01,  0.00000000e+00],\n",
       "        [-3.13259471e+00,  4.97381253e-01, -8.67532068e-01,\n",
       "          2.18400000e+01,  0.00000000e+00],\n",
       "        [-2.95920889e+00,  4.82384434e-01, -8.75959621e-01,\n",
       "          2.15900000e+01,  0.00000000e+00],\n",
       "        [-2.86352294e+00,  4.67244864e-01, -8.84127953e-01,\n",
       "          2.15000000e+01,  0.00000000e+00],\n",
       "        [-2.79103183e+00,  4.51967022e-01, -8.92034647e-01,\n",
       "          2.14500000e+01,  0.00000000e+00]]])"
      ]
     },
     "execution_count": 42,
     "metadata": {},
     "output_type": "execute_result"
    }
   ],
   "source": [
    "preprocess(X2_train)\n",
    "preprocess(X2_val)\n",
    "preprocess(X2_test)"
   ]
  },
  {
   "cell_type": "code",
   "execution_count": 43,
   "id": "ba9c7fd9",
   "metadata": {},
   "outputs": [
    {
     "name": "stdout",
     "output_type": "stream",
     "text": [
      "Model: \"sequential_3\"\n",
      "_________________________________________________________________\n",
      " Layer (type)                Output Shape              Param #   \n",
      "=================================================================\n",
      " lstm_1 (LSTM)               (None, 64)                17920     \n",
      "                                                                 \n",
      " flatten_2 (Flatten)         (None, 64)                0         \n",
      "                                                                 \n",
      " dense_6 (Dense)             (None, 8)                 520       \n",
      "                                                                 \n",
      " dense_7 (Dense)             (None, 1)                 9         \n",
      "                                                                 \n",
      "=================================================================\n",
      "Total params: 18449 (72.07 KB)\n",
      "Trainable params: 18449 (72.07 KB)\n",
      "Non-trainable params: 0 (0.00 Byte)\n",
      "_________________________________________________________________\n"
     ]
    }
   ],
   "source": [
    "model4 = Sequential()\n",
    "model4.add(InputLayer((6,5)))\n",
    "model4.add(LSTM(64))\n",
    "model4.add(Flatten())\n",
    "model4.add(Dense(8, 'relu'))\n",
    "model4.add(Dense(1, 'linear'))\n",
    "\n",
    "model4.summary()"
   ]
  },
  {
   "cell_type": "code",
   "execution_count": 44,
   "id": "44c0a653",
   "metadata": {},
   "outputs": [],
   "source": [
    "cp4 = ModelCheckpoint('meremodel4/', save_best_only=True)\n",
    "# the above makes a folder that our gitignore should exclude\n",
    "\n",
    "model4.compile(loss=MeanSquaredError(), optimizer=Adam(learning_rate=0.001), metrics=[RootMeanSquaredError()])"
   ]
  },
  {
   "cell_type": "code",
   "execution_count": 45,
   "id": "b3ef535e",
   "metadata": {
    "scrolled": true
   },
   "outputs": [
    {
     "name": "stdout",
     "output_type": "stream",
     "text": [
      "Epoch 1/50\n",
      "100/110 [==========================>...] - ETA: 0s - loss: 6131.1108 - root_mean_squared_error: 78.3014INFO:tensorflow:Assets written to: meremodel4/assets\n"
     ]
    },
    {
     "name": "stderr",
     "output_type": "stream",
     "text": [
      "INFO:tensorflow:Assets written to: meremodel4/assets\n"
     ]
    },
    {
     "name": "stdout",
     "output_type": "stream",
     "text": [
      "110/110 [==============================] - 4s 22ms/step - loss: 5954.5771 - root_mean_squared_error: 77.1659 - val_loss: 3870.2356 - val_root_mean_squared_error: 62.2112\n",
      "Epoch 2/50\n",
      "103/110 [===========================>..] - ETA: 0s - loss: 2136.8411 - root_mean_squared_error: 46.2260INFO:tensorflow:Assets written to: meremodel4/assets\n"
     ]
    },
    {
     "name": "stderr",
     "output_type": "stream",
     "text": [
      "INFO:tensorflow:Assets written to: meremodel4/assets\n"
     ]
    },
    {
     "name": "stdout",
     "output_type": "stream",
     "text": [
      "110/110 [==============================] - 2s 19ms/step - loss: 2061.2327 - root_mean_squared_error: 45.4008 - val_loss: 770.8624 - val_root_mean_squared_error: 27.7644\n",
      "Epoch 3/50\n",
      "103/110 [===========================>..] - ETA: 0s - loss: 301.9644 - root_mean_squared_error: 17.3771INFO:tensorflow:Assets written to: meremodel4/assets\n"
     ]
    },
    {
     "name": "stderr",
     "output_type": "stream",
     "text": [
      "INFO:tensorflow:Assets written to: meremodel4/assets\n"
     ]
    },
    {
     "name": "stdout",
     "output_type": "stream",
     "text": [
      "110/110 [==============================] - 2s 21ms/step - loss: 287.9840 - root_mean_squared_error: 16.9701 - val_loss: 52.7104 - val_root_mean_squared_error: 7.2602\n",
      "Epoch 4/50\n",
      " 98/110 [=========================>....] - ETA: 0s - loss: 23.5135 - root_mean_squared_error: 4.8491INFO:tensorflow:Assets written to: meremodel4/assets\n"
     ]
    },
    {
     "name": "stderr",
     "output_type": "stream",
     "text": [
      "INFO:tensorflow:Assets written to: meremodel4/assets\n"
     ]
    },
    {
     "name": "stdout",
     "output_type": "stream",
     "text": [
      "110/110 [==============================] - 2s 19ms/step - loss: 22.2797 - root_mean_squared_error: 4.7201 - val_loss: 8.8513 - val_root_mean_squared_error: 2.9751\n",
      "Epoch 5/50\n",
      "103/110 [===========================>..] - ETA: 0s - loss: 12.1403 - root_mean_squared_error: 3.4843INFO:tensorflow:Assets written to: meremodel4/assets\n"
     ]
    },
    {
     "name": "stderr",
     "output_type": "stream",
     "text": [
      "INFO:tensorflow:Assets written to: meremodel4/assets\n"
     ]
    },
    {
     "name": "stdout",
     "output_type": "stream",
     "text": [
      "110/110 [==============================] - 2s 18ms/step - loss: 12.1891 - root_mean_squared_error: 3.4913 - val_loss: 7.8553 - val_root_mean_squared_error: 2.8027\n",
      "Epoch 6/50\n",
      " 92/110 [========================>.....] - ETA: 0s - loss: 12.4861 - root_mean_squared_error: 3.5336INFO:tensorflow:Assets written to: meremodel4/assets\n"
     ]
    },
    {
     "name": "stderr",
     "output_type": "stream",
     "text": [
      "INFO:tensorflow:Assets written to: meremodel4/assets\n"
     ]
    },
    {
     "name": "stdout",
     "output_type": "stream",
     "text": [
      "110/110 [==============================] - 2s 21ms/step - loss: 12.1046 - root_mean_squared_error: 3.4792 - val_loss: 7.8552 - val_root_mean_squared_error: 2.8027\n",
      "Epoch 7/50\n",
      "110/110 [==============================] - 0s 3ms/step - loss: 12.1066 - root_mean_squared_error: 3.4795 - val_loss: 7.8572 - val_root_mean_squared_error: 2.8031\n",
      "Epoch 8/50\n",
      " 91/110 [=======================>......] - ETA: 0s - loss: 12.3057 - root_mean_squared_error: 3.5079INFO:tensorflow:Assets written to: meremodel4/assets\n"
     ]
    },
    {
     "name": "stderr",
     "output_type": "stream",
     "text": [
      "INFO:tensorflow:Assets written to: meremodel4/assets\n"
     ]
    },
    {
     "name": "stdout",
     "output_type": "stream",
     "text": [
      "110/110 [==============================] - 2s 18ms/step - loss: 12.1025 - root_mean_squared_error: 3.4789 - val_loss: 7.8048 - val_root_mean_squared_error: 2.7937\n",
      "Epoch 9/50\n",
      "110/110 [==============================] - 0s 2ms/step - loss: 12.0905 - root_mean_squared_error: 3.4771 - val_loss: 7.8566 - val_root_mean_squared_error: 2.8030\n",
      "Epoch 10/50\n",
      "110/110 [==============================] - 0s 2ms/step - loss: 12.0842 - root_mean_squared_error: 3.4762 - val_loss: 7.8491 - val_root_mean_squared_error: 2.8016\n",
      "Epoch 11/50\n",
      " 93/110 [========================>.....] - ETA: 0s - loss: 11.8720 - root_mean_squared_error: 3.4456INFO:tensorflow:Assets written to: meremodel4/assets\n"
     ]
    },
    {
     "name": "stderr",
     "output_type": "stream",
     "text": [
      "INFO:tensorflow:Assets written to: meremodel4/assets\n"
     ]
    },
    {
     "name": "stdout",
     "output_type": "stream",
     "text": [
      "110/110 [==============================] - 2s 18ms/step - loss: 11.5801 - root_mean_squared_error: 3.4030 - val_loss: 6.0860 - val_root_mean_squared_error: 2.4670\n",
      "Epoch 12/50\n",
      " 92/110 [========================>.....] - ETA: 0s - loss: 6.2668 - root_mean_squared_error: 2.5034INFO:tensorflow:Assets written to: meremodel4/assets\n"
     ]
    },
    {
     "name": "stderr",
     "output_type": "stream",
     "text": [
      "INFO:tensorflow:Assets written to: meremodel4/assets\n"
     ]
    },
    {
     "name": "stdout",
     "output_type": "stream",
     "text": [
      "110/110 [==============================] - 2s 18ms/step - loss: 6.2400 - root_mean_squared_error: 2.4980 - val_loss: 2.6657 - val_root_mean_squared_error: 1.6327\n",
      "Epoch 13/50\n",
      "105/110 [===========================>..] - ETA: 0s - loss: 5.4426 - root_mean_squared_error: 2.3329INFO:tensorflow:Assets written to: meremodel4/assets\n"
     ]
    },
    {
     "name": "stderr",
     "output_type": "stream",
     "text": [
      "INFO:tensorflow:Assets written to: meremodel4/assets\n"
     ]
    },
    {
     "name": "stdout",
     "output_type": "stream",
     "text": [
      "110/110 [==============================] - 2s 21ms/step - loss: 5.3710 - root_mean_squared_error: 2.3175 - val_loss: 1.9337 - val_root_mean_squared_error: 1.3906\n",
      "Epoch 14/50\n",
      " 89/110 [=======================>......] - ETA: 0s - loss: 3.3185 - root_mean_squared_error: 1.8217INFO:tensorflow:Assets written to: meremodel4/assets\n"
     ]
    },
    {
     "name": "stderr",
     "output_type": "stream",
     "text": [
      "INFO:tensorflow:Assets written to: meremodel4/assets\n"
     ]
    },
    {
     "name": "stdout",
     "output_type": "stream",
     "text": [
      "110/110 [==============================] - 2s 18ms/step - loss: 2.9306 - root_mean_squared_error: 1.7119 - val_loss: 0.9983 - val_root_mean_squared_error: 0.9991\n",
      "Epoch 15/50\n",
      " 89/110 [=======================>......] - ETA: 0s - loss: 0.9089 - root_mean_squared_error: 0.9534INFO:tensorflow:Assets written to: meremodel4/assets\n"
     ]
    },
    {
     "name": "stderr",
     "output_type": "stream",
     "text": [
      "INFO:tensorflow:Assets written to: meremodel4/assets\n"
     ]
    },
    {
     "name": "stdout",
     "output_type": "stream",
     "text": [
      "110/110 [==============================] - 2s 18ms/step - loss: 0.8453 - root_mean_squared_error: 0.9194 - val_loss: 0.4632 - val_root_mean_squared_error: 0.6806\n",
      "Epoch 16/50\n",
      " 92/110 [========================>.....] - ETA: 0s - loss: 0.2869 - root_mean_squared_error: 0.5357INFO:tensorflow:Assets written to: meremodel4/assets\n"
     ]
    },
    {
     "name": "stderr",
     "output_type": "stream",
     "text": [
      "INFO:tensorflow:Assets written to: meremodel4/assets\n"
     ]
    },
    {
     "name": "stdout",
     "output_type": "stream",
     "text": [
      "110/110 [==============================] - 2s 20ms/step - loss: 0.2683 - root_mean_squared_error: 0.5179 - val_loss: 0.1603 - val_root_mean_squared_error: 0.4003\n",
      "Epoch 17/50\n",
      " 91/110 [=======================>......] - ETA: 0s - loss: 0.1359 - root_mean_squared_error: 0.3687INFO:tensorflow:Assets written to: meremodel4/assets\n"
     ]
    },
    {
     "name": "stderr",
     "output_type": "stream",
     "text": [
      "INFO:tensorflow:Assets written to: meremodel4/assets\n"
     ]
    },
    {
     "name": "stdout",
     "output_type": "stream",
     "text": [
      "110/110 [==============================] - 2s 18ms/step - loss: 0.1329 - root_mean_squared_error: 0.3645 - val_loss: 0.0910 - val_root_mean_squared_error: 0.3017\n",
      "Epoch 18/50\n",
      " 89/110 [=======================>......] - ETA: 0s - loss: 0.0897 - root_mean_squared_error: 0.2995INFO:tensorflow:Assets written to: meremodel4/assets\n"
     ]
    },
    {
     "name": "stderr",
     "output_type": "stream",
     "text": [
      "INFO:tensorflow:Assets written to: meremodel4/assets\n"
     ]
    },
    {
     "name": "stdout",
     "output_type": "stream",
     "text": [
      "110/110 [==============================] - 2s 19ms/step - loss: 0.0880 - root_mean_squared_error: 0.2966 - val_loss: 0.0576 - val_root_mean_squared_error: 0.2401\n",
      "Epoch 19/50\n",
      " 98/110 [=========================>....] - ETA: 0s - loss: 0.0684 - root_mean_squared_error: 0.2615INFO:tensorflow:Assets written to: meremodel4/assets\n"
     ]
    },
    {
     "name": "stderr",
     "output_type": "stream",
     "text": [
      "INFO:tensorflow:Assets written to: meremodel4/assets\n"
     ]
    },
    {
     "name": "stdout",
     "output_type": "stream",
     "text": [
      "110/110 [==============================] - 2s 19ms/step - loss: 0.0685 - root_mean_squared_error: 0.2617 - val_loss: 0.0433 - val_root_mean_squared_error: 0.2080\n",
      "Epoch 20/50\n",
      "110/110 [==============================] - 0s 3ms/step - loss: 0.0596 - root_mean_squared_error: 0.2441 - val_loss: 0.0439 - val_root_mean_squared_error: 0.2094\n",
      "Epoch 21/50\n",
      " 97/110 [=========================>....] - ETA: 0s - loss: 0.0536 - root_mean_squared_error: 0.2314INFO:tensorflow:Assets written to: meremodel4/assets\n"
     ]
    },
    {
     "name": "stderr",
     "output_type": "stream",
     "text": [
      "INFO:tensorflow:Assets written to: meremodel4/assets\n"
     ]
    },
    {
     "name": "stdout",
     "output_type": "stream",
     "text": [
      "110/110 [==============================] - 2s 22ms/step - loss: 0.0521 - root_mean_squared_error: 0.2283 - val_loss: 0.0291 - val_root_mean_squared_error: 0.1706\n",
      "Epoch 22/50\n",
      "110/110 [==============================] - 0s 3ms/step - loss: 0.0427 - root_mean_squared_error: 0.2067 - val_loss: 0.0293 - val_root_mean_squared_error: 0.1712\n",
      "Epoch 23/50\n",
      "110/110 [==============================] - 0s 3ms/step - loss: 0.0400 - root_mean_squared_error: 0.2000 - val_loss: 0.0313 - val_root_mean_squared_error: 0.1768\n",
      "Epoch 24/50\n",
      "110/110 [==============================] - 0s 3ms/step - loss: 0.0345 - root_mean_squared_error: 0.1857 - val_loss: 0.0306 - val_root_mean_squared_error: 0.1750\n",
      "Epoch 25/50\n",
      "105/110 [===========================>..] - ETA: 0s - loss: 0.0313 - root_mean_squared_error: 0.1770INFO:tensorflow:Assets written to: meremodel4/assets\n"
     ]
    },
    {
     "name": "stderr",
     "output_type": "stream",
     "text": [
      "INFO:tensorflow:Assets written to: meremodel4/assets\n"
     ]
    },
    {
     "name": "stdout",
     "output_type": "stream",
     "text": [
      "110/110 [==============================] - 2s 19ms/step - loss: 0.0313 - root_mean_squared_error: 0.1771 - val_loss: 0.0213 - val_root_mean_squared_error: 0.1458\n",
      "Epoch 26/50\n",
      "110/110 [==============================] - 0s 3ms/step - loss: 0.0308 - root_mean_squared_error: 0.1755 - val_loss: 0.0232 - val_root_mean_squared_error: 0.1524\n",
      "Epoch 27/50\n",
      "110/110 [==============================] - 0s 3ms/step - loss: 0.0241 - root_mean_squared_error: 0.1552 - val_loss: 0.0220 - val_root_mean_squared_error: 0.1484\n",
      "Epoch 28/50\n",
      "110/110 [==============================] - 0s 3ms/step - loss: 0.0244 - root_mean_squared_error: 0.1561 - val_loss: 0.0228 - val_root_mean_squared_error: 0.1510\n",
      "Epoch 29/50\n",
      "110/110 [==============================] - 0s 3ms/step - loss: 0.0259 - root_mean_squared_error: 0.1608 - val_loss: 0.0358 - val_root_mean_squared_error: 0.1892\n",
      "Epoch 30/50\n",
      "103/110 [===========================>..] - ETA: 0s - loss: 0.0245 - root_mean_squared_error: 0.1565INFO:tensorflow:Assets written to: meremodel4/assets\n"
     ]
    },
    {
     "name": "stderr",
     "output_type": "stream",
     "text": [
      "INFO:tensorflow:Assets written to: meremodel4/assets\n"
     ]
    },
    {
     "name": "stdout",
     "output_type": "stream",
     "text": [
      "110/110 [==============================] - 2s 20ms/step - loss: 0.0246 - root_mean_squared_error: 0.1567 - val_loss: 0.0209 - val_root_mean_squared_error: 0.1446\n",
      "Epoch 31/50\n",
      "110/110 [==============================] - 0s 3ms/step - loss: 0.0205 - root_mean_squared_error: 0.1432 - val_loss: 0.0382 - val_root_mean_squared_error: 0.1954\n",
      "Epoch 32/50\n",
      "110/110 [==============================] - 0s 3ms/step - loss: 0.0197 - root_mean_squared_error: 0.1403 - val_loss: 0.0296 - val_root_mean_squared_error: 0.1720\n",
      "Epoch 33/50\n",
      "110/110 [==============================] - 0s 3ms/step - loss: 0.0181 - root_mean_squared_error: 0.1345 - val_loss: 0.0249 - val_root_mean_squared_error: 0.1579\n",
      "Epoch 34/50\n",
      "104/110 [===========================>..] - ETA: 0s - loss: 0.0170 - root_mean_squared_error: 0.1303INFO:tensorflow:Assets written to: meremodel4/assets\n"
     ]
    },
    {
     "name": "stderr",
     "output_type": "stream",
     "text": [
      "INFO:tensorflow:Assets written to: meremodel4/assets\n"
     ]
    },
    {
     "name": "stdout",
     "output_type": "stream",
     "text": [
      "110/110 [==============================] - 2s 21ms/step - loss: 0.0172 - root_mean_squared_error: 0.1313 - val_loss: 0.0172 - val_root_mean_squared_error: 0.1313\n",
      "Epoch 35/50\n",
      "110/110 [==============================] - 0s 3ms/step - loss: 0.0178 - root_mean_squared_error: 0.1334 - val_loss: 0.0232 - val_root_mean_squared_error: 0.1523\n",
      "Epoch 36/50\n",
      " 97/110 [=========================>....] - ETA: 0s - loss: 0.0157 - root_mean_squared_error: 0.1253INFO:tensorflow:Assets written to: meremodel4/assets\n"
     ]
    },
    {
     "name": "stderr",
     "output_type": "stream",
     "text": [
      "INFO:tensorflow:Assets written to: meremodel4/assets\n"
     ]
    },
    {
     "name": "stdout",
     "output_type": "stream",
     "text": [
      "110/110 [==============================] - 2s 19ms/step - loss: 0.0159 - root_mean_squared_error: 0.1262 - val_loss: 0.0145 - val_root_mean_squared_error: 0.1202\n",
      "Epoch 37/50\n",
      "110/110 [==============================] - 0s 3ms/step - loss: 0.0172 - root_mean_squared_error: 0.1312 - val_loss: 0.0152 - val_root_mean_squared_error: 0.1233\n",
      "Epoch 38/50\n",
      "110/110 [==============================] - 0s 3ms/step - loss: 0.0148 - root_mean_squared_error: 0.1215 - val_loss: 0.0174 - val_root_mean_squared_error: 0.1317\n",
      "Epoch 39/50\n",
      "110/110 [==============================] - 0s 4ms/step - loss: 0.0147 - root_mean_squared_error: 0.1214 - val_loss: 0.0199 - val_root_mean_squared_error: 0.1410\n",
      "Epoch 40/50\n",
      "110/110 [==============================] - 0s 3ms/step - loss: 0.0149 - root_mean_squared_error: 0.1220 - val_loss: 0.0175 - val_root_mean_squared_error: 0.1325\n",
      "Epoch 41/50\n",
      "110/110 [==============================] - 0s 3ms/step - loss: 0.0147 - root_mean_squared_error: 0.1214 - val_loss: 0.0145 - val_root_mean_squared_error: 0.1204\n",
      "Epoch 42/50\n",
      "110/110 [==============================] - 0s 3ms/step - loss: 0.0137 - root_mean_squared_error: 0.1168 - val_loss: 0.0155 - val_root_mean_squared_error: 0.1247\n",
      "Epoch 43/50\n",
      "110/110 [==============================] - 0s 3ms/step - loss: 0.0142 - root_mean_squared_error: 0.1191 - val_loss: 0.0182 - val_root_mean_squared_error: 0.1350\n",
      "Epoch 44/50\n",
      " 97/110 [=========================>....] - ETA: 0s - loss: 0.0124 - root_mean_squared_error: 0.1111INFO:tensorflow:Assets written to: meremodel4/assets\n"
     ]
    },
    {
     "name": "stderr",
     "output_type": "stream",
     "text": [
      "INFO:tensorflow:Assets written to: meremodel4/assets\n"
     ]
    },
    {
     "name": "stdout",
     "output_type": "stream",
     "text": [
      "110/110 [==============================] - 2s 19ms/step - loss: 0.0125 - root_mean_squared_error: 0.1119 - val_loss: 0.0139 - val_root_mean_squared_error: 0.1177\n",
      "Epoch 45/50\n",
      "107/110 [============================>.] - ETA: 0s - loss: 0.0141 - root_mean_squared_error: 0.1186INFO:tensorflow:Assets written to: meremodel4/assets\n"
     ]
    },
    {
     "name": "stderr",
     "output_type": "stream",
     "text": [
      "INFO:tensorflow:Assets written to: meremodel4/assets\n"
     ]
    },
    {
     "name": "stdout",
     "output_type": "stream",
     "text": [
      "110/110 [==============================] - 2s 19ms/step - loss: 0.0141 - root_mean_squared_error: 0.1188 - val_loss: 0.0125 - val_root_mean_squared_error: 0.1118\n",
      "Epoch 46/50\n",
      "110/110 [==============================] - 0s 3ms/step - loss: 0.0120 - root_mean_squared_error: 0.1093 - val_loss: 0.0150 - val_root_mean_squared_error: 0.1224\n",
      "Epoch 47/50\n",
      "104/110 [===========================>..] - ETA: 0s - loss: 0.0121 - root_mean_squared_error: 0.1099INFO:tensorflow:Assets written to: meremodel4/assets\n"
     ]
    },
    {
     "name": "stderr",
     "output_type": "stream",
     "text": [
      "INFO:tensorflow:Assets written to: meremodel4/assets\n"
     ]
    },
    {
     "name": "stdout",
     "output_type": "stream",
     "text": [
      "110/110 [==============================] - 2s 22ms/step - loss: 0.0122 - root_mean_squared_error: 0.1104 - val_loss: 0.0109 - val_root_mean_squared_error: 0.1046\n",
      "Epoch 48/50\n",
      "110/110 [==============================] - 0s 3ms/step - loss: 0.0113 - root_mean_squared_error: 0.1061 - val_loss: 0.0130 - val_root_mean_squared_error: 0.1138\n",
      "Epoch 49/50\n",
      "110/110 [==============================] - 0s 3ms/step - loss: 0.0108 - root_mean_squared_error: 0.1039 - val_loss: 0.0122 - val_root_mean_squared_error: 0.1106\n",
      "Epoch 50/50\n",
      "110/110 [==============================] - 0s 3ms/step - loss: 0.0104 - root_mean_squared_error: 0.1022 - val_loss: 0.0179 - val_root_mean_squared_error: 0.1340\n"
     ]
    },
    {
     "data": {
      "text/plain": [
       "<keras.src.callbacks.History at 0x7f562dfcdc60>"
      ]
     },
     "execution_count": 45,
     "metadata": {},
     "output_type": "execute_result"
    }
   ],
   "source": [
    "model4.fit(X2_train, y2_train, validation_data=(X2_val, y2_val), epochs=50, callbacks=[cp4])"
   ]
  },
  {
   "cell_type": "code",
   "execution_count": 46,
   "id": "21a1b779",
   "metadata": {},
   "outputs": [
    {
     "name": "stdout",
     "output_type": "stream",
     "text": [
      "16/16 [==============================] - 0s 1ms/step\n"
     ]
    },
    {
     "data": {
      "image/png": "[encoded data removed]",
      "text/plain": [
       "<Figure size 1152x360 with 1 Axes>"
      ]
     },
     "metadata": {
      "needs_background": "light"
     },
     "output_type": "display_data"
    },
    {
     "data": {
      "text/plain": [
       "(     Predictions  Actuals\n",
       " 0      91.452705  91.4921\n",
       " 1      91.544189  91.5775\n",
       " 2      91.653587  91.6546\n",
       " 3      91.738457  91.7333\n",
       " 4      91.809319  91.7912\n",
       " ..           ...      ...\n",
       " 495    79.729515  79.4696\n",
       " 496    80.085945  80.0721\n",
       " 497    80.534645  80.4046\n",
       " 498    80.860817  80.6565\n",
       " 499    81.084755  80.8423\n",
       " \n",
       " [500 rows x 2 columns],\n",
       " 0.10738686922877837)"
      ]
     },
     "execution_count": 46,
     "metadata": {},
     "output_type": "execute_result"
    }
   ],
   "source": [
    "model4 = load_model('meremodel4/')\n",
    "plot_predictions1(model4, X2_test, y2_test)"
   ]
  },
  {
   "cell_type": "markdown",
   "id": "00d584bb",
   "metadata": {},
   "source": [
    "so in this simple multivariable model, I'm gettting test error for the last 500 days as "
   ]
  }
 ],
 "metadata": {
  "kernelspec": {
   "display_name": "Python 3 (ipykernel)",
   "language": "python",
   "name": "python3"
  },
  "language_info": {
   "codemirror_mode": {
    "name": "ipython",
    "version": 3
   },
   "file_extension": ".py",
   "mimetype": "text/x-python",
   "name": "python",
   "nbconvert_exporter": "python",
   "pygments_lexer": "ipython3",
   "version": "3.10.9"
  }
 },
 "nbformat": 4,
 "nbformat_minor": 5
}

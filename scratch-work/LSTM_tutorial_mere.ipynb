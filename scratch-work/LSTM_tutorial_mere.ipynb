{
 "cells": [
  {
   "cell_type": "markdown",
   "id": "a93e4381",
   "metadata": {},
   "source": [
    "# tutorials for NN\n",
    "\n",
    "Following these tutorials (in order)\n",
    "* LSTM Time Series Forecasting https://www.youtube.com/watch?v=c0k-YLQGKjY\n",
    "* Multivariate Time Series Forecasting Using LSTM, GRU & 1d CNNs https://www.youtube.com/watch?v=kGdbPnMCdOg"
   ]
  },
  {
   "cell_type": "code",
   "execution_count": 1,
   "id": "0e0289d9",
   "metadata": {},
   "outputs": [
    {
     "name": "stderr",
     "output_type": "stream",
     "text": [
      "2023-11-07 14:48:18.728509: I tensorflow/tsl/cuda/cudart_stub.cc:28] Could not find cuda drivers on your machine, GPU will not be used.\n",
      "2023-11-07 14:48:18.762321: E tensorflow/compiler/xla/stream_executor/cuda/cuda_dnn.cc:9342] Unable to register cuDNN factory: Attempting to register factory for plugin cuDNN when one has already been registered\n",
      "2023-11-07 14:48:18.762344: E tensorflow/compiler/xla/stream_executor/cuda/cuda_fft.cc:609] Unable to register cuFFT factory: Attempting to register factory for plugin cuFFT when one has already been registered\n",
      "2023-11-07 14:48:18.762378: E tensorflow/compiler/xla/stream_executor/cuda/cuda_blas.cc:1518] Unable to register cuBLAS factory: Attempting to register factory for plugin cuBLAS when one has already been registered\n",
      "2023-11-07 14:48:18.769138: I tensorflow/tsl/cuda/cudart_stub.cc:28] Could not find cuda drivers on your machine, GPU will not be used.\n",
      "2023-11-07 14:48:18.769466: I tensorflow/core/platform/cpu_feature_guard.cc:182] This TensorFlow binary is optimized to use available CPU instructions in performance-critical operations.\n",
      "To enable the following instructions: AVX2 FMA, in other operations, rebuild TensorFlow with the appropriate compiler flags.\n",
      "2023-11-07 14:48:19.845838: W tensorflow/compiler/tf2tensorrt/utils/py_utils.cc:38] TF-TRT Warning: Could not find TensorRT\n"
     ]
    }
   ],
   "source": [
    "import tensorflow as tf\n",
    "import os\n",
    "import pandas as pd\n",
    "import numpy as np\n",
    "import matplotlib.pyplot as plt"
   ]
  },
  {
   "cell_type": "code",
   "execution_count": 2,
   "id": "d511c43b",
   "metadata": {},
   "outputs": [
    {
     "data": {
      "text/html": [
       "<div>\n",
       "<style scoped>\n",
       "    .dataframe tbody tr th:only-of-type {\n",
       "        vertical-align: middle;\n",
       "    }\n",
       "\n",
       "    .dataframe tbody tr th {\n",
       "        vertical-align: top;\n",
       "    }\n",
       "\n",
       "    .dataframe thead th {\n",
       "        text-align: right;\n",
       "    }\n",
       "</style>\n",
       "<table border=\"1\" class=\"dataframe\">\n",
       "  <thead>\n",
       "    <tr style=\"text-align: right;\">\n",
       "      <th></th>\n",
       "      <th>date</th>\n",
       "      <th>avg_well_depth</th>\n",
       "      <th>gage_ht</th>\n",
       "      <th>discharge_cfs</th>\n",
       "      <th>prcp</th>\n",
       "      <th>temp_avg</th>\n",
       "      <th>temp_max</th>\n",
       "      <th>temp_min</th>\n",
       "      <th>hPa_avg</th>\n",
       "      <th>hum_avg</th>\n",
       "      <th>hum_max</th>\n",
       "      <th>hum_min</th>\n",
       "      <th>wind_avg</th>\n",
       "      <th>wind_max</th>\n",
       "      <th>wind_min</th>\n",
       "      <th>gust_avg</th>\n",
       "      <th>gust_max</th>\n",
       "      <th>gust_min</th>\n",
       "    </tr>\n",
       "  </thead>\n",
       "  <tbody>\n",
       "    <tr>\n",
       "      <th>0</th>\n",
       "      <td>2006-02-07</td>\n",
       "      <td>91.0100</td>\n",
       "      <td>21.65</td>\n",
       "      <td>9420.0</td>\n",
       "      <td>0.00</td>\n",
       "      <td>35.722500</td>\n",
       "      <td>46.31</td>\n",
       "      <td>28.26</td>\n",
       "      <td>1028.625000</td>\n",
       "      <td>76.375000</td>\n",
       "      <td>93.0</td>\n",
       "      <td>47.0</td>\n",
       "      <td>5.826667</td>\n",
       "      <td>10.29</td>\n",
       "      <td>3.36</td>\n",
       "      <td>0.0000</td>\n",
       "      <td>0.00</td>\n",
       "      <td>0.0</td>\n",
       "    </tr>\n",
       "    <tr>\n",
       "      <th>1</th>\n",
       "      <td>2006-02-08</td>\n",
       "      <td>91.0429</td>\n",
       "      <td>21.64</td>\n",
       "      <td>9380.0</td>\n",
       "      <td>0.00</td>\n",
       "      <td>35.124167</td>\n",
       "      <td>42.46</td>\n",
       "      <td>28.72</td>\n",
       "      <td>1026.625000</td>\n",
       "      <td>84.416667</td>\n",
       "      <td>100.0</td>\n",
       "      <td>69.0</td>\n",
       "      <td>6.366250</td>\n",
       "      <td>11.41</td>\n",
       "      <td>3.36</td>\n",
       "      <td>0.0000</td>\n",
       "      <td>0.00</td>\n",
       "      <td>0.0</td>\n",
       "    </tr>\n",
       "    <tr>\n",
       "      <th>2</th>\n",
       "      <td>2006-02-09</td>\n",
       "      <td>91.1096</td>\n",
       "      <td>21.58</td>\n",
       "      <td>9210.0</td>\n",
       "      <td>0.00</td>\n",
       "      <td>32.172500</td>\n",
       "      <td>43.05</td>\n",
       "      <td>24.44</td>\n",
       "      <td>1035.041667</td>\n",
       "      <td>64.541667</td>\n",
       "      <td>98.0</td>\n",
       "      <td>30.0</td>\n",
       "      <td>8.732917</td>\n",
       "      <td>13.87</td>\n",
       "      <td>5.82</td>\n",
       "      <td>0.7175</td>\n",
       "      <td>17.22</td>\n",
       "      <td>0.0</td>\n",
       "    </tr>\n",
       "    <tr>\n",
       "      <th>3</th>\n",
       "      <td>2006-02-10</td>\n",
       "      <td>91.1954</td>\n",
       "      <td>21.46</td>\n",
       "      <td>8830.0</td>\n",
       "      <td>0.00</td>\n",
       "      <td>31.252083</td>\n",
       "      <td>42.04</td>\n",
       "      <td>24.33</td>\n",
       "      <td>1038.958333</td>\n",
       "      <td>56.250000</td>\n",
       "      <td>81.0</td>\n",
       "      <td>27.0</td>\n",
       "      <td>9.655417</td>\n",
       "      <td>16.11</td>\n",
       "      <td>5.82</td>\n",
       "      <td>0.0000</td>\n",
       "      <td>0.00</td>\n",
       "      <td>0.0</td>\n",
       "    </tr>\n",
       "    <tr>\n",
       "      <th>4</th>\n",
       "      <td>2006-02-11</td>\n",
       "      <td>91.3012</td>\n",
       "      <td>21.36</td>\n",
       "      <td>8550.0</td>\n",
       "      <td>0.00</td>\n",
       "      <td>30.429583</td>\n",
       "      <td>42.46</td>\n",
       "      <td>21.51</td>\n",
       "      <td>1037.583333</td>\n",
       "      <td>61.708333</td>\n",
       "      <td>84.0</td>\n",
       "      <td>36.0</td>\n",
       "      <td>7.250417</td>\n",
       "      <td>10.29</td>\n",
       "      <td>3.36</td>\n",
       "      <td>0.0000</td>\n",
       "      <td>0.00</td>\n",
       "      <td>0.0</td>\n",
       "    </tr>\n",
       "    <tr>\n",
       "      <th>5</th>\n",
       "      <td>2006-02-12</td>\n",
       "      <td>91.4004</td>\n",
       "      <td>21.28</td>\n",
       "      <td>8330.0</td>\n",
       "      <td>0.00</td>\n",
       "      <td>31.932083</td>\n",
       "      <td>43.92</td>\n",
       "      <td>24.57</td>\n",
       "      <td>1035.333333</td>\n",
       "      <td>68.041667</td>\n",
       "      <td>87.0</td>\n",
       "      <td>44.0</td>\n",
       "      <td>6.179583</td>\n",
       "      <td>9.17</td>\n",
       "      <td>3.36</td>\n",
       "      <td>0.0000</td>\n",
       "      <td>0.00</td>\n",
       "      <td>0.0</td>\n",
       "    </tr>\n",
       "    <tr>\n",
       "      <th>6</th>\n",
       "      <td>2006-02-13</td>\n",
       "      <td>91.5129</td>\n",
       "      <td>21.10</td>\n",
       "      <td>7820.0</td>\n",
       "      <td>0.10</td>\n",
       "      <td>31.004848</td>\n",
       "      <td>35.42</td>\n",
       "      <td>26.37</td>\n",
       "      <td>1025.878788</td>\n",
       "      <td>91.121212</td>\n",
       "      <td>96.0</td>\n",
       "      <td>81.0</td>\n",
       "      <td>7.274242</td>\n",
       "      <td>19.46</td>\n",
       "      <td>0.00</td>\n",
       "      <td>0.0000</td>\n",
       "      <td>0.00</td>\n",
       "      <td>0.0</td>\n",
       "    </tr>\n",
       "    <tr>\n",
       "      <th>7</th>\n",
       "      <td>2006-02-14</td>\n",
       "      <td>91.6071</td>\n",
       "      <td>20.97</td>\n",
       "      <td>7460.0</td>\n",
       "      <td>0.00</td>\n",
       "      <td>25.755417</td>\n",
       "      <td>35.42</td>\n",
       "      <td>18.34</td>\n",
       "      <td>1021.125000</td>\n",
       "      <td>76.083333</td>\n",
       "      <td>98.0</td>\n",
       "      <td>51.0</td>\n",
       "      <td>7.147917</td>\n",
       "      <td>10.29</td>\n",
       "      <td>3.36</td>\n",
       "      <td>0.0000</td>\n",
       "      <td>0.00</td>\n",
       "      <td>0.0</td>\n",
       "    </tr>\n",
       "    <tr>\n",
       "      <th>8</th>\n",
       "      <td>2006-02-15</td>\n",
       "      <td>91.7167</td>\n",
       "      <td>20.91</td>\n",
       "      <td>7300.0</td>\n",
       "      <td>0.00</td>\n",
       "      <td>25.828750</td>\n",
       "      <td>35.62</td>\n",
       "      <td>17.37</td>\n",
       "      <td>1019.750000</td>\n",
       "      <td>66.083333</td>\n",
       "      <td>88.0</td>\n",
       "      <td>33.0</td>\n",
       "      <td>6.552083</td>\n",
       "      <td>10.29</td>\n",
       "      <td>3.36</td>\n",
       "      <td>0.0000</td>\n",
       "      <td>0.00</td>\n",
       "      <td>0.0</td>\n",
       "    </tr>\n",
       "    <tr>\n",
       "      <th>9</th>\n",
       "      <td>2006-02-16</td>\n",
       "      <td>91.7925</td>\n",
       "      <td>20.81</td>\n",
       "      <td>7040.0</td>\n",
       "      <td>0.06</td>\n",
       "      <td>22.394400</td>\n",
       "      <td>27.81</td>\n",
       "      <td>12.18</td>\n",
       "      <td>1023.360000</td>\n",
       "      <td>65.240000</td>\n",
       "      <td>85.0</td>\n",
       "      <td>31.0</td>\n",
       "      <td>13.198800</td>\n",
       "      <td>26.17</td>\n",
       "      <td>2.24</td>\n",
       "      <td>8.4468</td>\n",
       "      <td>33.11</td>\n",
       "      <td>0.0</td>\n",
       "    </tr>\n",
       "    <tr>\n",
       "      <th>10</th>\n",
       "      <td>2006-02-17</td>\n",
       "      <td>91.9404</td>\n",
       "      <td>20.65</td>\n",
       "      <td>6630.0</td>\n",
       "      <td>0.00</td>\n",
       "      <td>13.117917</td>\n",
       "      <td>20.70</td>\n",
       "      <td>6.04</td>\n",
       "      <td>1031.625000</td>\n",
       "      <td>29.458333</td>\n",
       "      <td>39.0</td>\n",
       "      <td>23.0</td>\n",
       "      <td>20.635833</td>\n",
       "      <td>27.74</td>\n",
       "      <td>10.29</td>\n",
       "      <td>19.7600</td>\n",
       "      <td>39.15</td>\n",
       "      <td>0.0</td>\n",
       "    </tr>\n",
       "    <tr>\n",
       "      <th>11</th>\n",
       "      <td>2006-02-18</td>\n",
       "      <td>92.0808</td>\n",
       "      <td>20.51</td>\n",
       "      <td>6260.0</td>\n",
       "      <td>0.00</td>\n",
       "      <td>19.715417</td>\n",
       "      <td>32.07</td>\n",
       "      <td>9.03</td>\n",
       "      <td>1026.333333</td>\n",
       "      <td>43.375000</td>\n",
       "      <td>63.0</td>\n",
       "      <td>24.0</td>\n",
       "      <td>10.075417</td>\n",
       "      <td>17.22</td>\n",
       "      <td>3.36</td>\n",
       "      <td>0.0000</td>\n",
       "      <td>0.00</td>\n",
       "      <td>0.0</td>\n",
       "    </tr>\n",
       "    <tr>\n",
       "      <th>12</th>\n",
       "      <td>2006-02-19</td>\n",
       "      <td>92.2000</td>\n",
       "      <td>20.42</td>\n",
       "      <td>6050.0</td>\n",
       "      <td>0.00</td>\n",
       "      <td>23.388750</td>\n",
       "      <td>31.15</td>\n",
       "      <td>12.18</td>\n",
       "      <td>1023.833333</td>\n",
       "      <td>53.125000</td>\n",
       "      <td>77.0</td>\n",
       "      <td>38.0</td>\n",
       "      <td>7.875833</td>\n",
       "      <td>12.75</td>\n",
       "      <td>0.00</td>\n",
       "      <td>0.0000</td>\n",
       "      <td>0.00</td>\n",
       "      <td>0.0</td>\n",
       "    </tr>\n",
       "    <tr>\n",
       "      <th>13</th>\n",
       "      <td>2006-02-20</td>\n",
       "      <td>92.3475</td>\n",
       "      <td>20.34</td>\n",
       "      <td>5860.0</td>\n",
       "      <td>0.00</td>\n",
       "      <td>27.841667</td>\n",
       "      <td>34.05</td>\n",
       "      <td>21.09</td>\n",
       "      <td>1021.291667</td>\n",
       "      <td>50.750000</td>\n",
       "      <td>63.0</td>\n",
       "      <td>36.0</td>\n",
       "      <td>8.433750</td>\n",
       "      <td>12.75</td>\n",
       "      <td>4.70</td>\n",
       "      <td>0.0000</td>\n",
       "      <td>0.00</td>\n",
       "      <td>0.0</td>\n",
       "    </tr>\n",
       "    <tr>\n",
       "      <th>14</th>\n",
       "      <td>2006-02-21</td>\n",
       "      <td>92.5071</td>\n",
       "      <td>20.26</td>\n",
       "      <td>5660.0</td>\n",
       "      <td>0.00</td>\n",
       "      <td>34.277083</td>\n",
       "      <td>42.06</td>\n",
       "      <td>28.31</td>\n",
       "      <td>1016.541667</td>\n",
       "      <td>63.750000</td>\n",
       "      <td>83.0</td>\n",
       "      <td>46.0</td>\n",
       "      <td>12.116250</td>\n",
       "      <td>20.58</td>\n",
       "      <td>4.47</td>\n",
       "      <td>0.0000</td>\n",
       "      <td>0.00</td>\n",
       "      <td>0.0</td>\n",
       "    </tr>\n",
       "  </tbody>\n",
       "</table>\n",
       "</div>"
      ],
      "text/plain": [
       "         date  avg_well_depth  gage_ht  discharge_cfs  prcp   temp_avg  \\\n",
       "0  2006-02-07         91.0100    21.65         9420.0  0.00  35.722500   \n",
       "1  2006-02-08         91.0429    21.64         9380.0  0.00  35.124167   \n",
       "2  2006-02-09         91.1096    21.58         9210.0  0.00  32.172500   \n",
       "3  2006-02-10         91.1954    21.46         8830.0  0.00  31.252083   \n",
       "4  2006-02-11         91.3012    21.36         8550.0  0.00  30.429583   \n",
       "5  2006-02-12         91.4004    21.28         8330.0  0.00  31.932083   \n",
       "6  2006-02-13         91.5129    21.10         7820.0  0.10  31.004848   \n",
       "7  2006-02-14         91.6071    20.97         7460.0  0.00  25.755417   \n",
       "8  2006-02-15         91.7167    20.91         7300.0  0.00  25.828750   \n",
       "9  2006-02-16         91.7925    20.81         7040.0  0.06  22.394400   \n",
       "10 2006-02-17         91.9404    20.65         6630.0  0.00  13.117917   \n",
       "11 2006-02-18         92.0808    20.51         6260.0  0.00  19.715417   \n",
       "12 2006-02-19         92.2000    20.42         6050.0  0.00  23.388750   \n",
       "13 2006-02-20         92.3475    20.34         5860.0  0.00  27.841667   \n",
       "14 2006-02-21         92.5071    20.26         5660.0  0.00  34.277083   \n",
       "\n",
       "    temp_max  temp_min      hPa_avg    hum_avg  hum_max  hum_min   wind_avg  \\\n",
       "0      46.31     28.26  1028.625000  76.375000     93.0     47.0   5.826667   \n",
       "1      42.46     28.72  1026.625000  84.416667    100.0     69.0   6.366250   \n",
       "2      43.05     24.44  1035.041667  64.541667     98.0     30.0   8.732917   \n",
       "3      42.04     24.33  1038.958333  56.250000     81.0     27.0   9.655417   \n",
       "4      42.46     21.51  1037.583333  61.708333     84.0     36.0   7.250417   \n",
       "5      43.92     24.57  1035.333333  68.041667     87.0     44.0   6.179583   \n",
       "6      35.42     26.37  1025.878788  91.121212     96.0     81.0   7.274242   \n",
       "7      35.42     18.34  1021.125000  76.083333     98.0     51.0   7.147917   \n",
       "8      35.62     17.37  1019.750000  66.083333     88.0     33.0   6.552083   \n",
       "9      27.81     12.18  1023.360000  65.240000     85.0     31.0  13.198800   \n",
       "10     20.70      6.04  1031.625000  29.458333     39.0     23.0  20.635833   \n",
       "11     32.07      9.03  1026.333333  43.375000     63.0     24.0  10.075417   \n",
       "12     31.15     12.18  1023.833333  53.125000     77.0     38.0   7.875833   \n",
       "13     34.05     21.09  1021.291667  50.750000     63.0     36.0   8.433750   \n",
       "14     42.06     28.31  1016.541667  63.750000     83.0     46.0  12.116250   \n",
       "\n",
       "    wind_max  wind_min  gust_avg  gust_max  gust_min  \n",
       "0      10.29      3.36    0.0000      0.00       0.0  \n",
       "1      11.41      3.36    0.0000      0.00       0.0  \n",
       "2      13.87      5.82    0.7175     17.22       0.0  \n",
       "3      16.11      5.82    0.0000      0.00       0.0  \n",
       "4      10.29      3.36    0.0000      0.00       0.0  \n",
       "5       9.17      3.36    0.0000      0.00       0.0  \n",
       "6      19.46      0.00    0.0000      0.00       0.0  \n",
       "7      10.29      3.36    0.0000      0.00       0.0  \n",
       "8      10.29      3.36    0.0000      0.00       0.0  \n",
       "9      26.17      2.24    8.4468     33.11       0.0  \n",
       "10     27.74     10.29   19.7600     39.15       0.0  \n",
       "11     17.22      3.36    0.0000      0.00       0.0  \n",
       "12     12.75      0.00    0.0000      0.00       0.0  \n",
       "13     12.75      4.70    0.0000      0.00       0.0  \n",
       "14     20.58      4.47    0.0000      0.00       0.0  "
      ]
     },
     "execution_count": 2,
     "metadata": {},
     "output_type": "execute_result"
    }
   ],
   "source": [
    "df = pd.read_pickle('../data/pickled_data/AFL259_short.pkl')\n",
    "df.reset_index(inplace=True,drop=True)\n",
    "df.head(15)"
   ]
  },
  {
   "cell_type": "code",
   "execution_count": 3,
   "id": "ef6b56b9",
   "metadata": {},
   "outputs": [
    {
     "data": {
      "text/html": [
       "<div>\n",
       "<style scoped>\n",
       "    .dataframe tbody tr th:only-of-type {\n",
       "        vertical-align: middle;\n",
       "    }\n",
       "\n",
       "    .dataframe tbody tr th {\n",
       "        vertical-align: top;\n",
       "    }\n",
       "\n",
       "    .dataframe thead th {\n",
       "        text-align: right;\n",
       "    }\n",
       "</style>\n",
       "<table border=\"1\" class=\"dataframe\">\n",
       "  <thead>\n",
       "    <tr style=\"text-align: right;\">\n",
       "      <th></th>\n",
       "      <th>date</th>\n",
       "      <th>avg_well_depth</th>\n",
       "      <th>gage_ht</th>\n",
       "      <th>discharge_cfs</th>\n",
       "      <th>prcp</th>\n",
       "      <th>temp_avg</th>\n",
       "      <th>temp_max</th>\n",
       "      <th>temp_min</th>\n",
       "      <th>hPa_avg</th>\n",
       "      <th>hum_avg</th>\n",
       "      <th>hum_max</th>\n",
       "      <th>hum_min</th>\n",
       "      <th>wind_avg</th>\n",
       "      <th>wind_max</th>\n",
       "      <th>wind_min</th>\n",
       "      <th>gust_avg</th>\n",
       "      <th>gust_max</th>\n",
       "      <th>gust_min</th>\n",
       "    </tr>\n",
       "    <tr>\n",
       "      <th>date</th>\n",
       "      <th></th>\n",
       "      <th></th>\n",
       "      <th></th>\n",
       "      <th></th>\n",
       "      <th></th>\n",
       "      <th></th>\n",
       "      <th></th>\n",
       "      <th></th>\n",
       "      <th></th>\n",
       "      <th></th>\n",
       "      <th></th>\n",
       "      <th></th>\n",
       "      <th></th>\n",
       "      <th></th>\n",
       "      <th></th>\n",
       "      <th></th>\n",
       "      <th></th>\n",
       "      <th></th>\n",
       "    </tr>\n",
       "  </thead>\n",
       "  <tbody>\n",
       "    <tr>\n",
       "      <th>2006-02-07</th>\n",
       "      <td>2006-02-07</td>\n",
       "      <td>91.0100</td>\n",
       "      <td>21.65</td>\n",
       "      <td>9420.0</td>\n",
       "      <td>0.0</td>\n",
       "      <td>35.722500</td>\n",
       "      <td>46.31</td>\n",
       "      <td>28.26</td>\n",
       "      <td>1028.625000</td>\n",
       "      <td>76.375000</td>\n",
       "      <td>93.0</td>\n",
       "      <td>47.0</td>\n",
       "      <td>5.826667</td>\n",
       "      <td>10.29</td>\n",
       "      <td>3.36</td>\n",
       "      <td>0.000000</td>\n",
       "      <td>0.00</td>\n",
       "      <td>0.0</td>\n",
       "    </tr>\n",
       "    <tr>\n",
       "      <th>2006-02-08</th>\n",
       "      <td>2006-02-08</td>\n",
       "      <td>91.0429</td>\n",
       "      <td>21.64</td>\n",
       "      <td>9380.0</td>\n",
       "      <td>0.0</td>\n",
       "      <td>35.124167</td>\n",
       "      <td>42.46</td>\n",
       "      <td>28.72</td>\n",
       "      <td>1026.625000</td>\n",
       "      <td>84.416667</td>\n",
       "      <td>100.0</td>\n",
       "      <td>69.0</td>\n",
       "      <td>6.366250</td>\n",
       "      <td>11.41</td>\n",
       "      <td>3.36</td>\n",
       "      <td>0.000000</td>\n",
       "      <td>0.00</td>\n",
       "      <td>0.0</td>\n",
       "    </tr>\n",
       "    <tr>\n",
       "      <th>2006-02-09</th>\n",
       "      <td>2006-02-09</td>\n",
       "      <td>91.1096</td>\n",
       "      <td>21.58</td>\n",
       "      <td>9210.0</td>\n",
       "      <td>0.0</td>\n",
       "      <td>32.172500</td>\n",
       "      <td>43.05</td>\n",
       "      <td>24.44</td>\n",
       "      <td>1035.041667</td>\n",
       "      <td>64.541667</td>\n",
       "      <td>98.0</td>\n",
       "      <td>30.0</td>\n",
       "      <td>8.732917</td>\n",
       "      <td>13.87</td>\n",
       "      <td>5.82</td>\n",
       "      <td>0.717500</td>\n",
       "      <td>17.22</td>\n",
       "      <td>0.0</td>\n",
       "    </tr>\n",
       "    <tr>\n",
       "      <th>2006-02-10</th>\n",
       "      <td>2006-02-10</td>\n",
       "      <td>91.1954</td>\n",
       "      <td>21.46</td>\n",
       "      <td>8830.0</td>\n",
       "      <td>0.0</td>\n",
       "      <td>31.252083</td>\n",
       "      <td>42.04</td>\n",
       "      <td>24.33</td>\n",
       "      <td>1038.958333</td>\n",
       "      <td>56.250000</td>\n",
       "      <td>81.0</td>\n",
       "      <td>27.0</td>\n",
       "      <td>9.655417</td>\n",
       "      <td>16.11</td>\n",
       "      <td>5.82</td>\n",
       "      <td>0.000000</td>\n",
       "      <td>0.00</td>\n",
       "      <td>0.0</td>\n",
       "    </tr>\n",
       "    <tr>\n",
       "      <th>2006-02-11</th>\n",
       "      <td>2006-02-11</td>\n",
       "      <td>91.3012</td>\n",
       "      <td>21.36</td>\n",
       "      <td>8550.0</td>\n",
       "      <td>0.0</td>\n",
       "      <td>30.429583</td>\n",
       "      <td>42.46</td>\n",
       "      <td>21.51</td>\n",
       "      <td>1037.583333</td>\n",
       "      <td>61.708333</td>\n",
       "      <td>84.0</td>\n",
       "      <td>36.0</td>\n",
       "      <td>7.250417</td>\n",
       "      <td>10.29</td>\n",
       "      <td>3.36</td>\n",
       "      <td>0.000000</td>\n",
       "      <td>0.00</td>\n",
       "      <td>0.0</td>\n",
       "    </tr>\n",
       "    <tr>\n",
       "      <th>...</th>\n",
       "      <td>...</td>\n",
       "      <td>...</td>\n",
       "      <td>...</td>\n",
       "      <td>...</td>\n",
       "      <td>...</td>\n",
       "      <td>...</td>\n",
       "      <td>...</td>\n",
       "      <td>...</td>\n",
       "      <td>...</td>\n",
       "      <td>...</td>\n",
       "      <td>...</td>\n",
       "      <td>...</td>\n",
       "      <td>...</td>\n",
       "      <td>...</td>\n",
       "      <td>...</td>\n",
       "      <td>...</td>\n",
       "      <td>...</td>\n",
       "      <td>...</td>\n",
       "    </tr>\n",
       "    <tr>\n",
       "      <th>2018-06-02</th>\n",
       "      <td>2018-06-02</td>\n",
       "      <td>79.4696</td>\n",
       "      <td>21.84</td>\n",
       "      <td>10000.0</td>\n",
       "      <td>0.0</td>\n",
       "      <td>62.812083</td>\n",
       "      <td>77.25</td>\n",
       "      <td>46.35</td>\n",
       "      <td>1022.750000</td>\n",
       "      <td>48.333333</td>\n",
       "      <td>83.0</td>\n",
       "      <td>24.0</td>\n",
       "      <td>6.976250</td>\n",
       "      <td>11.50</td>\n",
       "      <td>3.44</td>\n",
       "      <td>0.000000</td>\n",
       "      <td>0.00</td>\n",
       "      <td>0.0</td>\n",
       "    </tr>\n",
       "    <tr>\n",
       "      <th>2018-06-03</th>\n",
       "      <td>2018-06-03</td>\n",
       "      <td>80.0721</td>\n",
       "      <td>21.59</td>\n",
       "      <td>9240.0</td>\n",
       "      <td>0.0</td>\n",
       "      <td>69.826250</td>\n",
       "      <td>86.25</td>\n",
       "      <td>52.66</td>\n",
       "      <td>1013.875000</td>\n",
       "      <td>46.416667</td>\n",
       "      <td>79.0</td>\n",
       "      <td>23.0</td>\n",
       "      <td>10.141667</td>\n",
       "      <td>21.92</td>\n",
       "      <td>3.44</td>\n",
       "      <td>3.165833</td>\n",
       "      <td>29.97</td>\n",
       "      <td>0.0</td>\n",
       "    </tr>\n",
       "    <tr>\n",
       "      <th>2018-06-04</th>\n",
       "      <td>2018-06-04</td>\n",
       "      <td>80.4046</td>\n",
       "      <td>21.50</td>\n",
       "      <td>8970.0</td>\n",
       "      <td>0.0</td>\n",
       "      <td>62.956250</td>\n",
       "      <td>71.67</td>\n",
       "      <td>56.35</td>\n",
       "      <td>1012.833333</td>\n",
       "      <td>41.666667</td>\n",
       "      <td>65.0</td>\n",
       "      <td>18.0</td>\n",
       "      <td>14.850000</td>\n",
       "      <td>23.04</td>\n",
       "      <td>8.05</td>\n",
       "      <td>4.030417</td>\n",
       "      <td>28.77</td>\n",
       "      <td>0.0</td>\n",
       "    </tr>\n",
       "    <tr>\n",
       "      <th>2018-06-05</th>\n",
       "      <td>2018-06-05</td>\n",
       "      <td>80.6565</td>\n",
       "      <td>21.45</td>\n",
       "      <td>8800.0</td>\n",
       "      <td>0.0</td>\n",
       "      <td>60.617500</td>\n",
       "      <td>71.04</td>\n",
       "      <td>47.41</td>\n",
       "      <td>1013.958333</td>\n",
       "      <td>39.166667</td>\n",
       "      <td>68.0</td>\n",
       "      <td>20.0</td>\n",
       "      <td>10.478333</td>\n",
       "      <td>17.27</td>\n",
       "      <td>4.70</td>\n",
       "      <td>2.880000</td>\n",
       "      <td>24.16</td>\n",
       "      <td>0.0</td>\n",
       "    </tr>\n",
       "    <tr>\n",
       "      <th>2018-06-06</th>\n",
       "      <td>2018-06-06</td>\n",
       "      <td>80.8423</td>\n",
       "      <td>21.42</td>\n",
       "      <td>8710.0</td>\n",
       "      <td>0.0</td>\n",
       "      <td>64.216250</td>\n",
       "      <td>78.35</td>\n",
       "      <td>47.19</td>\n",
       "      <td>1013.083333</td>\n",
       "      <td>39.000000</td>\n",
       "      <td>68.0</td>\n",
       "      <td>19.0</td>\n",
       "      <td>5.888750</td>\n",
       "      <td>9.22</td>\n",
       "      <td>3.44</td>\n",
       "      <td>0.000000</td>\n",
       "      <td>0.00</td>\n",
       "      <td>0.0</td>\n",
       "    </tr>\n",
       "  </tbody>\n",
       "</table>\n",
       "<p>4503 rows × 18 columns</p>\n",
       "</div>"
      ],
      "text/plain": [
       "                 date  avg_well_depth  gage_ht  discharge_cfs  prcp  \\\n",
       "date                                                                  \n",
       "2006-02-07 2006-02-07         91.0100    21.65         9420.0   0.0   \n",
       "2006-02-08 2006-02-08         91.0429    21.64         9380.0   0.0   \n",
       "2006-02-09 2006-02-09         91.1096    21.58         9210.0   0.0   \n",
       "2006-02-10 2006-02-10         91.1954    21.46         8830.0   0.0   \n",
       "2006-02-11 2006-02-11         91.3012    21.36         8550.0   0.0   \n",
       "...               ...             ...      ...            ...   ...   \n",
       "2018-06-02 2018-06-02         79.4696    21.84        10000.0   0.0   \n",
       "2018-06-03 2018-06-03         80.0721    21.59         9240.0   0.0   \n",
       "2018-06-04 2018-06-04         80.4046    21.50         8970.0   0.0   \n",
       "2018-06-05 2018-06-05         80.6565    21.45         8800.0   0.0   \n",
       "2018-06-06 2018-06-06         80.8423    21.42         8710.0   0.0   \n",
       "\n",
       "             temp_avg  temp_max  temp_min      hPa_avg    hum_avg  hum_max  \\\n",
       "date                                                                         \n",
       "2006-02-07  35.722500     46.31     28.26  1028.625000  76.375000     93.0   \n",
       "2006-02-08  35.124167     42.46     28.72  1026.625000  84.416667    100.0   \n",
       "2006-02-09  32.172500     43.05     24.44  1035.041667  64.541667     98.0   \n",
       "2006-02-10  31.252083     42.04     24.33  1038.958333  56.250000     81.0   \n",
       "2006-02-11  30.429583     42.46     21.51  1037.583333  61.708333     84.0   \n",
       "...               ...       ...       ...          ...        ...      ...   \n",
       "2018-06-02  62.812083     77.25     46.35  1022.750000  48.333333     83.0   \n",
       "2018-06-03  69.826250     86.25     52.66  1013.875000  46.416667     79.0   \n",
       "2018-06-04  62.956250     71.67     56.35  1012.833333  41.666667     65.0   \n",
       "2018-06-05  60.617500     71.04     47.41  1013.958333  39.166667     68.0   \n",
       "2018-06-06  64.216250     78.35     47.19  1013.083333  39.000000     68.0   \n",
       "\n",
       "            hum_min   wind_avg  wind_max  wind_min  gust_avg  gust_max  \\\n",
       "date                                                                     \n",
       "2006-02-07     47.0   5.826667     10.29      3.36  0.000000      0.00   \n",
       "2006-02-08     69.0   6.366250     11.41      3.36  0.000000      0.00   \n",
       "2006-02-09     30.0   8.732917     13.87      5.82  0.717500     17.22   \n",
       "2006-02-10     27.0   9.655417     16.11      5.82  0.000000      0.00   \n",
       "2006-02-11     36.0   7.250417     10.29      3.36  0.000000      0.00   \n",
       "...             ...        ...       ...       ...       ...       ...   \n",
       "2018-06-02     24.0   6.976250     11.50      3.44  0.000000      0.00   \n",
       "2018-06-03     23.0  10.141667     21.92      3.44  3.165833     29.97   \n",
       "2018-06-04     18.0  14.850000     23.04      8.05  4.030417     28.77   \n",
       "2018-06-05     20.0  10.478333     17.27      4.70  2.880000     24.16   \n",
       "2018-06-06     19.0   5.888750      9.22      3.44  0.000000      0.00   \n",
       "\n",
       "            gust_min  \n",
       "date                  \n",
       "2006-02-07       0.0  \n",
       "2006-02-08       0.0  \n",
       "2006-02-09       0.0  \n",
       "2006-02-10       0.0  \n",
       "2006-02-11       0.0  \n",
       "...              ...  \n",
       "2018-06-02       0.0  \n",
       "2018-06-03       0.0  \n",
       "2018-06-04       0.0  \n",
       "2018-06-05       0.0  \n",
       "2018-06-06       0.0  \n",
       "\n",
       "[4503 rows x 18 columns]"
      ]
     },
     "execution_count": 3,
     "metadata": {},
     "output_type": "execute_result"
    }
   ],
   "source": [
    "df.index = df.date\n",
    "df"
   ]
  },
  {
   "cell_type": "code",
   "execution_count": 4,
   "id": "b8bd7cf4",
   "metadata": {},
   "outputs": [
    {
     "data": {
      "text/plain": [
       "DatetimeIndex(['2006-02-07', '2006-02-08', '2006-02-09', '2006-02-10',\n",
       "               '2006-02-11', '2006-02-12', '2006-02-13', '2006-02-14',\n",
       "               '2006-02-15', '2006-02-16',\n",
       "               ...\n",
       "               '2018-05-28', '2018-05-29', '2018-05-30', '2018-05-31',\n",
       "               '2018-06-01', '2018-06-02', '2018-06-03', '2018-06-04',\n",
       "               '2018-06-05', '2018-06-06'],\n",
       "              dtype='datetime64[ns]', name='date', length=4503, freq=None)"
      ]
     },
     "execution_count": 4,
     "metadata": {},
     "output_type": "execute_result"
    }
   ],
   "source": [
    "df.index"
   ]
  },
  {
   "cell_type": "code",
   "execution_count": 5,
   "id": "c9df68a7",
   "metadata": {},
   "outputs": [
    {
     "data": {
      "text/plain": [
       "<Axes: xlabel='date'>"
      ]
     },
     "execution_count": 5,
     "metadata": {},
     "output_type": "execute_result"
    },
    {
     "data": {
      "image/png": "[encoded data removed]",
      "text/plain": [
       "<Figure size 432x288 with 1 Axes>"
      ]
     },
     "metadata": {
      "needs_background": "light"
     },
     "output_type": "display_data"
    }
   ],
   "source": [
    "well = df.avg_well_depth\n",
    "well.plot()"
   ]
  },
  {
   "cell_type": "code",
   "execution_count": 6,
   "id": "f82803f2",
   "metadata": {},
   "outputs": [],
   "source": [
    "def df_to_X_y(df, window_size=5):\n",
    "    df_as_np = df.to_numpy()\n",
    "    X = []\n",
    "    y = []\n",
    "    for i in range(len(df_as_np)-window_size):\n",
    "        row = [[a] for a in df_as_np[i:i+window_size]]\n",
    "        X.append(row)\n",
    "        label = df_as_np[i+window_size]\n",
    "        y.append(label)\n",
    "    return np.array(X), np.array(y)"
   ]
  },
  {
   "cell_type": "code",
   "execution_count": 7,
   "id": "8586027c",
   "metadata": {},
   "outputs": [
    {
     "data": {
      "text/plain": [
       "((4498, 5, 1), (4498,))"
      ]
     },
     "execution_count": 7,
     "metadata": {},
     "output_type": "execute_result"
    }
   ],
   "source": [
    "WINDOW_SIZE = 5\n",
    "X, y = df_to_X_y(well, WINDOW_SIZE)\n",
    "X.shape, y.shape"
   ]
  },
  {
   "cell_type": "markdown",
   "id": "0a89b151",
   "metadata": {},
   "source": [
    "### Train Test Split"
   ]
  },
  {
   "cell_type": "code",
   "execution_count": 8,
   "id": "b95c58bf",
   "metadata": {},
   "outputs": [
    {
     "data": {
      "text/plain": [
       "((3498, 5, 1), (3498,), (500, 5, 1), (500,), (500, 5, 1), (500,))"
      ]
     },
     "execution_count": 8,
     "metadata": {},
     "output_type": "execute_result"
    }
   ],
   "source": [
    "X_train, y_train = X[:3498], y[:3498]\n",
    "X_val, y_val = X[3498:3998], y[3498:3998]\n",
    "X_test, y_test = X[3998:], y[3998:]\n",
    "X_train.shape, y_train.shape, X_val.shape, y_val.shape, X_test.shape, y_test.shape"
   ]
  },
  {
   "cell_type": "code",
   "execution_count": 9,
   "id": "fd200b6a",
   "metadata": {},
   "outputs": [
    {
     "data": {
      "text/plain": [
       "(array([[[91.01  ],\n",
       "         [91.0429],\n",
       "         [91.1096],\n",
       "         [91.1954],\n",
       "         [91.3012]],\n",
       " \n",
       "        [[91.0429],\n",
       "         [91.1096],\n",
       "         [91.1954],\n",
       "         [91.3012],\n",
       "         [91.4004]],\n",
       " \n",
       "        [[91.1096],\n",
       "         [91.1954],\n",
       "         [91.3012],\n",
       "         [91.4004],\n",
       "         [91.5129]],\n",
       " \n",
       "        ...,\n",
       " \n",
       "        [[95.4479],\n",
       "         [95.4433],\n",
       "         [95.4413],\n",
       "         [95.4196],\n",
       "         [95.4054]],\n",
       " \n",
       "        [[95.4433],\n",
       "         [95.4413],\n",
       "         [95.4196],\n",
       "         [95.4054],\n",
       "         [95.3908]],\n",
       " \n",
       "        [[95.4413],\n",
       "         [95.4196],\n",
       "         [95.4054],\n",
       "         [95.3908],\n",
       "         [95.3604]]]),\n",
       " array([91.4004, 91.5129, 91.6071, ..., 95.3908, 95.3604, 95.3237]))"
      ]
     },
     "execution_count": 9,
     "metadata": {},
     "output_type": "execute_result"
    }
   ],
   "source": [
    "X_train, y_train"
   ]
  },
  {
   "cell_type": "markdown",
   "id": "cdbb1082",
   "metadata": {},
   "source": [
    "### Tensorflow things"
   ]
  },
  {
   "cell_type": "code",
   "execution_count": 10,
   "id": "2dcb64f0",
   "metadata": {},
   "outputs": [],
   "source": [
    "from tensorflow.keras.models import Sequential\n",
    "from tensorflow.keras.layers import *\n",
    "from tensorflow.keras.callbacks import ModelCheckpoint\n",
    "from tensorflow.keras.losses import MeanSquaredError\n",
    "from tensorflow.keras.metrics import RootMeanSquaredError\n",
    "from tensorflow.keras.optimizers import Adam\n",
    "\n",
    "from tensorflow.keras.models import load_model"
   ]
  },
  {
   "cell_type": "markdown",
   "id": "bed17834",
   "metadata": {},
   "source": [
    "## Build single variable model"
   ]
  },
  {
   "cell_type": "code",
   "execution_count": 11,
   "id": "0cb5d365",
   "metadata": {},
   "outputs": [
    {
     "name": "stdout",
     "output_type": "stream",
     "text": [
      "Model: \"sequential\"\n",
      "_________________________________________________________________\n",
      " Layer (type)                Output Shape              Param #   \n",
      "=================================================================\n",
      " lstm (LSTM)                 (None, 64)                16896     \n",
      "                                                                 \n",
      " dense (Dense)               (None, 8)                 520       \n",
      "                                                                 \n",
      " dense_1 (Dense)             (None, 1)                 9         \n",
      "                                                                 \n",
      "=================================================================\n",
      "Total params: 17425 (68.07 KB)\n",
      "Trainable params: 17425 (68.07 KB)\n",
      "Non-trainable params: 0 (0.00 Byte)\n",
      "_________________________________________________________________\n"
     ]
    },
    {
     "name": "stderr",
     "output_type": "stream",
     "text": [
      "2023-11-07 14:48:44.883400: I tensorflow/compiler/xla/stream_executor/cuda/cuda_gpu_executor.cc:894] successful NUMA node read from SysFS had negative value (-1), but there must be at least one NUMA node, so returning NUMA node zero. See more at https://github.com/torvalds/linux/blob/v6.0/Documentation/ABI/testing/sysfs-bus-pci#L344-L355\n",
      "2023-11-07 14:48:44.885536: W tensorflow/core/common_runtime/gpu/gpu_device.cc:2211] Cannot dlopen some GPU libraries. Please make sure the missing libraries mentioned above are installed properly if you would like to use GPU. Follow the guide at https://www.tensorflow.org/install/gpu for how to download and setup the required libraries for your platform.\n",
      "Skipping registering GPU devices...\n"
     ]
    }
   ],
   "source": [
    "model1 = Sequential()\n",
    "model1.add(InputLayer((5,1)))\n",
    "model1.add(LSTM(64))\n",
    "model1.add(Dense(8, 'relu'))\n",
    "model1.add(Dense(1, 'linear'))\n",
    "\n",
    "model1.summary()"
   ]
  },
  {
   "cell_type": "code",
   "execution_count": 12,
   "id": "1658d04a",
   "metadata": {},
   "outputs": [],
   "source": [
    "cp = ModelCheckpoint('meremodel1/', save_best_only=True)\n",
    "# the above makes a folder that our gitignore should exclude\n",
    "\n",
    "model1.compile(loss=MeanSquaredError(), optimizer=Adam(learning_rate=0.001), metrics=[RootMeanSquaredError()])"
   ]
  },
  {
   "cell_type": "code",
   "execution_count": 13,
   "id": "30209113",
   "metadata": {},
   "outputs": [
    {
     "name": "stdout",
     "output_type": "stream",
     "text": [
      "Epoch 1/50\n",
      "100/110 [==========================>...] - ETA: 0s - loss: 6891.6743 - root_mean_squared_error: 83.0161INFO:tensorflow:Assets written to: meremodel1/assets\n"
     ]
    },
    {
     "name": "stderr",
     "output_type": "stream",
     "text": [
      "INFO:tensorflow:Assets written to: meremodel1/assets\n"
     ]
    },
    {
     "name": "stdout",
     "output_type": "stream",
     "text": [
      "110/110 [==============================] - 4s 22ms/step - loss: 6729.4316 - root_mean_squared_error: 82.0331 - val_loss: 4812.7148 - val_root_mean_squared_error: 69.3737\n",
      "Epoch 2/50\n",
      "100/110 [==========================>...] - ETA: 0s - loss: 2884.1689 - root_mean_squared_error: 53.7045INFO:tensorflow:Assets written to: meremodel1/assets\n"
     ]
    },
    {
     "name": "stderr",
     "output_type": "stream",
     "text": [
      "INFO:tensorflow:Assets written to: meremodel1/assets\n"
     ]
    },
    {
     "name": "stdout",
     "output_type": "stream",
     "text": [
      "110/110 [==============================] - 2s 18ms/step - loss: 2744.7920 - root_mean_squared_error: 52.3908 - val_loss: 1142.4561 - val_root_mean_squared_error: 33.8002\n",
      "Epoch 3/50\n",
      "100/110 [==========================>...] - ETA: 0s - loss: 511.9675 - root_mean_squared_error: 22.6267INFO:tensorflow:Assets written to: meremodel1/assets\n"
     ]
    },
    {
     "name": "stderr",
     "output_type": "stream",
     "text": [
      "INFO:tensorflow:Assets written to: meremodel1/assets\n"
     ]
    },
    {
     "name": "stdout",
     "output_type": "stream",
     "text": [
      "110/110 [==============================] - 2s 19ms/step - loss: 478.5016 - root_mean_squared_error: 21.8747 - val_loss: 104.9965 - val_root_mean_squared_error: 10.2468\n",
      "Epoch 4/50\n",
      " 98/110 [=========================>....] - ETA: 0s - loss: 39.9934 - root_mean_squared_error: 6.3240INFO:tensorflow:Assets written to: meremodel1/assets\n"
     ]
    },
    {
     "name": "stderr",
     "output_type": "stream",
     "text": [
      "INFO:tensorflow:Assets written to: meremodel1/assets\n"
     ]
    },
    {
     "name": "stdout",
     "output_type": "stream",
     "text": [
      "110/110 [==============================] - 2s 18ms/step - loss: 37.4833 - root_mean_squared_error: 6.1224 - val_loss: 10.5780 - val_root_mean_squared_error: 3.2524\n",
      "Epoch 5/50\n",
      " 98/110 [=========================>....] - ETA: 0s - loss: 12.6141 - root_mean_squared_error: 3.5516INFO:tensorflow:Assets written to: meremodel1/assets\n"
     ]
    },
    {
     "name": "stderr",
     "output_type": "stream",
     "text": [
      "INFO:tensorflow:Assets written to: meremodel1/assets\n"
     ]
    },
    {
     "name": "stdout",
     "output_type": "stream",
     "text": [
      "110/110 [==============================] - 2s 18ms/step - loss: 12.4397 - root_mean_squared_error: 3.5270 - val_loss: 7.8031 - val_root_mean_squared_error: 2.7934\n",
      "Epoch 6/50\n",
      " 95/110 [========================>.....] - ETA: 0s - loss: 9.9068 - root_mean_squared_error: 3.1475 INFO:tensorflow:Assets written to: meremodel1/assets\n"
     ]
    },
    {
     "name": "stderr",
     "output_type": "stream",
     "text": [
      "INFO:tensorflow:Assets written to: meremodel1/assets\n"
     ]
    },
    {
     "name": "stdout",
     "output_type": "stream",
     "text": [
      "110/110 [==============================] - 2s 20ms/step - loss: 9.8112 - root_mean_squared_error: 3.1323 - val_loss: 5.8108 - val_root_mean_squared_error: 2.4106\n",
      "Epoch 7/50\n",
      " 95/110 [========================>.....] - ETA: 0s - loss: 7.3644 - root_mean_squared_error: 2.7137INFO:tensorflow:Assets written to: meremodel1/assets\n"
     ]
    },
    {
     "name": "stderr",
     "output_type": "stream",
     "text": [
      "INFO:tensorflow:Assets written to: meremodel1/assets\n"
     ]
    },
    {
     "name": "stdout",
     "output_type": "stream",
     "text": [
      "110/110 [==============================] - 2s 17ms/step - loss: 7.0409 - root_mean_squared_error: 2.6535 - val_loss: 3.5571 - val_root_mean_squared_error: 1.8860\n",
      "Epoch 8/50\n",
      "100/110 [==========================>...] - ETA: 0s - loss: 3.8500 - root_mean_squared_error: 1.9621INFO:tensorflow:Assets written to: meremodel1/assets\n"
     ]
    },
    {
     "name": "stderr",
     "output_type": "stream",
     "text": [
      "INFO:tensorflow:Assets written to: meremodel1/assets\n"
     ]
    },
    {
     "name": "stdout",
     "output_type": "stream",
     "text": [
      "110/110 [==============================] - 2s 19ms/step - loss: 3.6996 - root_mean_squared_error: 1.9234 - val_loss: 1.4927 - val_root_mean_squared_error: 1.2218\n",
      "Epoch 9/50\n",
      " 96/110 [=========================>....] - ETA: 0s - loss: 1.1913 - root_mean_squared_error: 1.0915INFO:tensorflow:Assets written to: meremodel1/assets\n"
     ]
    },
    {
     "name": "stderr",
     "output_type": "stream",
     "text": [
      "INFO:tensorflow:Assets written to: meremodel1/assets\n"
     ]
    },
    {
     "name": "stdout",
     "output_type": "stream",
     "text": [
      "110/110 [==============================] - 2s 18ms/step - loss: 1.1008 - root_mean_squared_error: 1.0492 - val_loss: 0.4534 - val_root_mean_squared_error: 0.6734\n",
      "Epoch 10/50\n",
      " 95/110 [========================>.....] - ETA: 0s - loss: 0.3304 - root_mean_squared_error: 0.5748INFO:tensorflow:Assets written to: meremodel1/assets\n"
     ]
    },
    {
     "name": "stderr",
     "output_type": "stream",
     "text": [
      "INFO:tensorflow:Assets written to: meremodel1/assets\n"
     ]
    },
    {
     "name": "stdout",
     "output_type": "stream",
     "text": [
      "110/110 [==============================] - 2s 18ms/step - loss: 0.3144 - root_mean_squared_error: 0.5607 - val_loss: 0.1663 - val_root_mean_squared_error: 0.4078\n",
      "Epoch 11/50\n",
      " 98/110 [=========================>....] - ETA: 0s - loss: 0.1818 - root_mean_squared_error: 0.4264INFO:tensorflow:Assets written to: meremodel1/assets\n"
     ]
    },
    {
     "name": "stderr",
     "output_type": "stream",
     "text": [
      "INFO:tensorflow:Assets written to: meremodel1/assets\n"
     ]
    },
    {
     "name": "stdout",
     "output_type": "stream",
     "text": [
      "110/110 [==============================] - 2s 20ms/step - loss: 0.1822 - root_mean_squared_error: 0.4268 - val_loss: 0.1354 - val_root_mean_squared_error: 0.3680\n",
      "Epoch 12/50\n",
      "110/110 [==============================] - 0s 2ms/step - loss: 0.1421 - root_mean_squared_error: 0.3770 - val_loss: 0.1830 - val_root_mean_squared_error: 0.4277\n",
      "Epoch 13/50\n",
      "100/110 [==========================>...] - ETA: 0s - loss: 0.1328 - root_mean_squared_error: 0.3644INFO:tensorflow:Assets written to: meremodel1/assets\n"
     ]
    },
    {
     "name": "stderr",
     "output_type": "stream",
     "text": [
      "INFO:tensorflow:Assets written to: meremodel1/assets\n"
     ]
    },
    {
     "name": "stdout",
     "output_type": "stream",
     "text": [
      "110/110 [==============================] - 2s 18ms/step - loss: 0.1322 - root_mean_squared_error: 0.3636 - val_loss: 0.0816 - val_root_mean_squared_error: 0.2857\n",
      "Epoch 14/50\n",
      "110/110 [==============================] - 0s 2ms/step - loss: 0.1178 - root_mean_squared_error: 0.3432 - val_loss: 0.0988 - val_root_mean_squared_error: 0.3143\n",
      "Epoch 15/50\n",
      "100/110 [==========================>...] - ETA: 0s - loss: 0.1165 - root_mean_squared_error: 0.3413INFO:tensorflow:Assets written to: meremodel1/assets\n"
     ]
    },
    {
     "name": "stderr",
     "output_type": "stream",
     "text": [
      "INFO:tensorflow:Assets written to: meremodel1/assets\n"
     ]
    },
    {
     "name": "stdout",
     "output_type": "stream",
     "text": [
      "110/110 [==============================] - 2s 19ms/step - loss: 0.1165 - root_mean_squared_error: 0.3414 - val_loss: 0.0726 - val_root_mean_squared_error: 0.2694\n",
      "Epoch 16/50\n",
      "100/110 [==========================>...] - ETA: 0s - loss: 0.0926 - root_mean_squared_error: 0.3042INFO:tensorflow:Assets written to: meremodel1/assets\n"
     ]
    },
    {
     "name": "stderr",
     "output_type": "stream",
     "text": [
      "INFO:tensorflow:Assets written to: meremodel1/assets\n"
     ]
    },
    {
     "name": "stdout",
     "output_type": "stream",
     "text": [
      "110/110 [==============================] - 2s 18ms/step - loss: 0.0922 - root_mean_squared_error: 0.3037 - val_loss: 0.0624 - val_root_mean_squared_error: 0.2499\n",
      "Epoch 17/50\n",
      "100/110 [==========================>...] - ETA: 0s - loss: 0.0931 - root_mean_squared_error: 0.3051INFO:tensorflow:Assets written to: meremodel1/assets\n"
     ]
    },
    {
     "name": "stderr",
     "output_type": "stream",
     "text": [
      "INFO:tensorflow:Assets written to: meremodel1/assets\n"
     ]
    },
    {
     "name": "stdout",
     "output_type": "stream",
     "text": [
      "110/110 [==============================] - 2s 18ms/step - loss: 0.0920 - root_mean_squared_error: 0.3033 - val_loss: 0.0568 - val_root_mean_squared_error: 0.2383\n",
      "Epoch 18/50\n",
      "110/110 [==============================] - 0s 2ms/step - loss: 0.0887 - root_mean_squared_error: 0.2978 - val_loss: 0.0615 - val_root_mean_squared_error: 0.2480\n",
      "Epoch 19/50\n",
      "110/110 [==============================] - 0s 2ms/step - loss: 0.0862 - root_mean_squared_error: 0.2936 - val_loss: 0.1223 - val_root_mean_squared_error: 0.3497\n",
      "Epoch 20/50\n",
      " 96/110 [=========================>....] - ETA: 0s - loss: 0.0873 - root_mean_squared_error: 0.2955INFO:tensorflow:Assets written to: meremodel1/assets\n"
     ]
    },
    {
     "name": "stderr",
     "output_type": "stream",
     "text": [
      "INFO:tensorflow:Assets written to: meremodel1/assets\n"
     ]
    },
    {
     "name": "stdout",
     "output_type": "stream",
     "text": [
      "110/110 [==============================] - 2s 20ms/step - loss: 0.0878 - root_mean_squared_error: 0.2963 - val_loss: 0.0553 - val_root_mean_squared_error: 0.2352\n",
      "Epoch 21/50\n",
      " 99/110 [==========================>...] - ETA: 0s - loss: 0.0786 - root_mean_squared_error: 0.2804INFO:tensorflow:Assets written to: meremodel1/assets\n"
     ]
    },
    {
     "name": "stderr",
     "output_type": "stream",
     "text": [
      "INFO:tensorflow:Assets written to: meremodel1/assets\n"
     ]
    },
    {
     "name": "stdout",
     "output_type": "stream",
     "text": [
      "110/110 [==============================] - 2s 17ms/step - loss: 0.0778 - root_mean_squared_error: 0.2789 - val_loss: 0.0527 - val_root_mean_squared_error: 0.2295\n",
      "Epoch 22/50\n",
      "110/110 [==============================] - 0s 2ms/step - loss: 0.0916 - root_mean_squared_error: 0.3026 - val_loss: 0.1078 - val_root_mean_squared_error: 0.3283\n",
      "Epoch 23/50\n",
      "110/110 [==============================] - 0s 2ms/step - loss: 0.0807 - root_mean_squared_error: 0.2842 - val_loss: 0.0690 - val_root_mean_squared_error: 0.2626\n",
      "Epoch 24/50\n",
      "100/110 [==========================>...] - ETA: 0s - loss: 0.0752 - root_mean_squared_error: 0.2743INFO:tensorflow:Assets written to: meremodel1/assets\n"
     ]
    },
    {
     "name": "stderr",
     "output_type": "stream",
     "text": [
      "INFO:tensorflow:Assets written to: meremodel1/assets\n"
     ]
    },
    {
     "name": "stdout",
     "output_type": "stream",
     "text": [
      "110/110 [==============================] - 2s 19ms/step - loss: 0.0735 - root_mean_squared_error: 0.2712 - val_loss: 0.0524 - val_root_mean_squared_error: 0.2289\n",
      "Epoch 25/50\n",
      "110/110 [==============================] - 0s 2ms/step - loss: 0.0732 - root_mean_squared_error: 0.2706 - val_loss: 0.0689 - val_root_mean_squared_error: 0.2625\n",
      "Epoch 26/50\n",
      "110/110 [==============================] - 0s 2ms/step - loss: 0.0723 - root_mean_squared_error: 0.2689 - val_loss: 0.0588 - val_root_mean_squared_error: 0.2424\n",
      "Epoch 27/50\n",
      "110/110 [==============================] - 0s 2ms/step - loss: 0.0886 - root_mean_squared_error: 0.2976 - val_loss: 0.0770 - val_root_mean_squared_error: 0.2776\n",
      "Epoch 28/50\n",
      "110/110 [==============================] - 0s 2ms/step - loss: 0.0682 - root_mean_squared_error: 0.2612 - val_loss: 0.0966 - val_root_mean_squared_error: 0.3109\n",
      "Epoch 29/50\n",
      "110/110 [==============================] - 0s 2ms/step - loss: 0.0769 - root_mean_squared_error: 0.2773 - val_loss: 0.1070 - val_root_mean_squared_error: 0.3271\n",
      "Epoch 30/50\n",
      "110/110 [==============================] - 0s 3ms/step - loss: 0.0749 - root_mean_squared_error: 0.2736 - val_loss: 0.1036 - val_root_mean_squared_error: 0.3218\n",
      "Epoch 31/50\n",
      " 98/110 [=========================>....] - ETA: 0s - loss: 0.0632 - root_mean_squared_error: 0.2515INFO:tensorflow:Assets written to: meremodel1/assets\n"
     ]
    },
    {
     "name": "stderr",
     "output_type": "stream",
     "text": [
      "INFO:tensorflow:Assets written to: meremodel1/assets\n"
     ]
    },
    {
     "name": "stdout",
     "output_type": "stream",
     "text": [
      "110/110 [==============================] - 2s 18ms/step - loss: 0.0638 - root_mean_squared_error: 0.2525 - val_loss: 0.0472 - val_root_mean_squared_error: 0.2172\n",
      "Epoch 32/50\n",
      "110/110 [==============================] - 0s 2ms/step - loss: 0.0672 - root_mean_squared_error: 0.2593 - val_loss: 0.0900 - val_root_mean_squared_error: 0.2999\n",
      "Epoch 33/50\n",
      "110/110 [==============================] - 0s 2ms/step - loss: 0.0960 - root_mean_squared_error: 0.3099 - val_loss: 0.0663 - val_root_mean_squared_error: 0.2575\n",
      "Epoch 34/50\n",
      "110/110 [==============================] - 0s 2ms/step - loss: 0.0947 - root_mean_squared_error: 0.3078 - val_loss: 0.1993 - val_root_mean_squared_error: 0.4465\n",
      "Epoch 35/50\n",
      "110/110 [==============================] - 0s 2ms/step - loss: 0.0771 - root_mean_squared_error: 0.2777 - val_loss: 0.0480 - val_root_mean_squared_error: 0.2191\n",
      "Epoch 36/50\n",
      "110/110 [==============================] - 0s 2ms/step - loss: 0.0693 - root_mean_squared_error: 0.2632 - val_loss: 0.1087 - val_root_mean_squared_error: 0.3298\n",
      "Epoch 37/50\n",
      "110/110 [==============================] - 0s 2ms/step - loss: 0.0623 - root_mean_squared_error: 0.2495 - val_loss: 0.0915 - val_root_mean_squared_error: 0.3025\n",
      "Epoch 38/50\n",
      "110/110 [==============================] - 0s 2ms/step - loss: 0.0715 - root_mean_squared_error: 0.2673 - val_loss: 0.0518 - val_root_mean_squared_error: 0.2275\n",
      "Epoch 39/50\n",
      "102/110 [==========================>...] - ETA: 0s - loss: 0.0673 - root_mean_squared_error: 0.2594INFO:tensorflow:Assets written to: meremodel1/assets\n"
     ]
    },
    {
     "name": "stderr",
     "output_type": "stream",
     "text": [
      "INFO:tensorflow:Assets written to: meremodel1/assets\n"
     ]
    },
    {
     "name": "stdout",
     "output_type": "stream",
     "text": [
      "110/110 [==============================] - 2s 18ms/step - loss: 0.0697 - root_mean_squared_error: 0.2641 - val_loss: 0.0417 - val_root_mean_squared_error: 0.2043\n",
      "Epoch 40/50\n",
      "110/110 [==============================] - 0s 3ms/step - loss: 0.0658 - root_mean_squared_error: 0.2565 - val_loss: 0.0458 - val_root_mean_squared_error: 0.2140\n",
      "Epoch 41/50\n",
      "110/110 [==============================] - 0s 3ms/step - loss: 0.0598 - root_mean_squared_error: 0.2444 - val_loss: 0.0694 - val_root_mean_squared_error: 0.2635\n",
      "Epoch 42/50\n",
      "110/110 [==============================] - 0s 3ms/step - loss: 0.0751 - root_mean_squared_error: 0.2741 - val_loss: 0.0803 - val_root_mean_squared_error: 0.2834\n",
      "Epoch 43/50\n",
      "110/110 [==============================] - 0s 3ms/step - loss: 0.0673 - root_mean_squared_error: 0.2595 - val_loss: 0.0709 - val_root_mean_squared_error: 0.2662\n",
      "Epoch 44/50\n",
      "110/110 [==============================] - 0s 3ms/step - loss: 0.0672 - root_mean_squared_error: 0.2592 - val_loss: 0.2291 - val_root_mean_squared_error: 0.4786\n",
      "Epoch 45/50\n",
      "110/110 [==============================] - 0s 3ms/step - loss: 0.0684 - root_mean_squared_error: 0.2615 - val_loss: 0.0590 - val_root_mean_squared_error: 0.2429\n",
      "Epoch 46/50\n",
      "110/110 [==============================] - 0s 2ms/step - loss: 0.0645 - root_mean_squared_error: 0.2540 - val_loss: 0.0595 - val_root_mean_squared_error: 0.2440\n",
      "Epoch 47/50\n",
      "110/110 [==============================] - 0s 2ms/step - loss: 0.0721 - root_mean_squared_error: 0.2685 - val_loss: 0.0889 - val_root_mean_squared_error: 0.2981\n",
      "Epoch 48/50\n",
      " 99/110 [==========================>...] - ETA: 0s - loss: 0.0803 - root_mean_squared_error: 0.2834INFO:tensorflow:Assets written to: meremodel1/assets\n"
     ]
    },
    {
     "name": "stderr",
     "output_type": "stream",
     "text": [
      "INFO:tensorflow:Assets written to: meremodel1/assets\n"
     ]
    },
    {
     "name": "stdout",
     "output_type": "stream",
     "text": [
      "110/110 [==============================] - 2s 20ms/step - loss: 0.0802 - root_mean_squared_error: 0.2832 - val_loss: 0.0346 - val_root_mean_squared_error: 0.1861\n",
      "Epoch 49/50\n",
      "110/110 [==============================] - 0s 2ms/step - loss: 0.0629 - root_mean_squared_error: 0.2508 - val_loss: 0.0397 - val_root_mean_squared_error: 0.1994\n",
      "Epoch 50/50\n",
      "110/110 [==============================] - 0s 2ms/step - loss: 0.0488 - root_mean_squared_error: 0.2208 - val_loss: 0.0375 - val_root_mean_squared_error: 0.1936\n"
     ]
    },
    {
     "data": {
      "text/plain": [
       "<keras.src.callbacks.History at 0x7fedbd592bc0>"
      ]
     },
     "execution_count": 13,
     "metadata": {},
     "output_type": "execute_result"
    }
   ],
   "source": [
    "model1.fit(X_train, y_train, validation_data=(X_val, y_val), epochs=50, callbacks=[cp])"
   ]
  },
  {
   "cell_type": "code",
   "execution_count": 14,
   "id": "cd0a0aa3",
   "metadata": {},
   "outputs": [],
   "source": [
    "model1 = load_model('meremodel1/')"
   ]
  },
  {
   "cell_type": "code",
   "execution_count": 15,
   "id": "588818f9",
   "metadata": {},
   "outputs": [
    {
     "name": "stdout",
     "output_type": "stream",
     "text": [
      "110/110 [==============================] - 0s 1ms/step\n"
     ]
    },
    {
     "data": {
      "text/html": [
       "<div>\n",
       "<style scoped>\n",
       "    .dataframe tbody tr th:only-of-type {\n",
       "        vertical-align: middle;\n",
       "    }\n",
       "\n",
       "    .dataframe tbody tr th {\n",
       "        vertical-align: top;\n",
       "    }\n",
       "\n",
       "    .dataframe thead th {\n",
       "        text-align: right;\n",
       "    }\n",
       "</style>\n",
       "<table border=\"1\" class=\"dataframe\">\n",
       "  <thead>\n",
       "    <tr style=\"text-align: right;\">\n",
       "      <th></th>\n",
       "      <th>Train_Predictions</th>\n",
       "      <th>Actuals</th>\n",
       "    </tr>\n",
       "  </thead>\n",
       "  <tbody>\n",
       "    <tr>\n",
       "      <th>0</th>\n",
       "      <td>91.225502</td>\n",
       "      <td>91.4004</td>\n",
       "    </tr>\n",
       "    <tr>\n",
       "      <th>1</th>\n",
       "      <td>91.325638</td>\n",
       "      <td>91.5129</td>\n",
       "    </tr>\n",
       "    <tr>\n",
       "      <th>2</th>\n",
       "      <td>91.434555</td>\n",
       "      <td>91.6071</td>\n",
       "    </tr>\n",
       "    <tr>\n",
       "      <th>3</th>\n",
       "      <td>91.539764</td>\n",
       "      <td>91.7167</td>\n",
       "    </tr>\n",
       "    <tr>\n",
       "      <th>4</th>\n",
       "      <td>91.648064</td>\n",
       "      <td>91.7925</td>\n",
       "    </tr>\n",
       "    <tr>\n",
       "      <th>...</th>\n",
       "      <td>...</td>\n",
       "      <td>...</td>\n",
       "    </tr>\n",
       "    <tr>\n",
       "      <th>3493</th>\n",
       "      <td>95.375092</td>\n",
       "      <td>95.4196</td>\n",
       "    </tr>\n",
       "    <tr>\n",
       "      <th>3494</th>\n",
       "      <td>95.366539</td>\n",
       "      <td>95.4054</td>\n",
       "    </tr>\n",
       "    <tr>\n",
       "      <th>3495</th>\n",
       "      <td>95.355209</td>\n",
       "      <td>95.3908</td>\n",
       "    </tr>\n",
       "    <tr>\n",
       "      <th>3496</th>\n",
       "      <td>95.341919</td>\n",
       "      <td>95.3604</td>\n",
       "    </tr>\n",
       "    <tr>\n",
       "      <th>3497</th>\n",
       "      <td>95.324509</td>\n",
       "      <td>95.3237</td>\n",
       "    </tr>\n",
       "  </tbody>\n",
       "</table>\n",
       "<p>3498 rows × 2 columns</p>\n",
       "</div>"
      ],
      "text/plain": [
       "      Train_Predictions  Actuals\n",
       "0             91.225502  91.4004\n",
       "1             91.325638  91.5129\n",
       "2             91.434555  91.6071\n",
       "3             91.539764  91.7167\n",
       "4             91.648064  91.7925\n",
       "...                 ...      ...\n",
       "3493          95.375092  95.4196\n",
       "3494          95.366539  95.4054\n",
       "3495          95.355209  95.3908\n",
       "3496          95.341919  95.3604\n",
       "3497          95.324509  95.3237\n",
       "\n",
       "[3498 rows x 2 columns]"
      ]
     },
     "execution_count": 15,
     "metadata": {},
     "output_type": "execute_result"
    }
   ],
   "source": [
    "train_predictions = model1.predict(X_train).flatten()\n",
    "train_results = pd.DataFrame(data={'Train_Predictions':train_predictions, 'Actuals':y_train})\n",
    "train_results"
   ]
  },
  {
   "cell_type": "code",
   "execution_count": 18,
   "id": "a67ae4c5",
   "metadata": {},
   "outputs": [
    {
     "data": {
      "text/plain": [
       "[<matplotlib.lines.Line2D at 0x7fed747b2b00>]"
      ]
     },
     "execution_count": 18,
     "metadata": {},
     "output_type": "execute_result"
    },
    {
     "data": {
      "image/png": "[encoded data removed]",
      "text/plain": [
       "<Figure size 432x288 with 1 Axes>"
      ]
     },
     "metadata": {
      "needs_background": "light"
     },
     "output_type": "display_data"
    }
   ],
   "source": [
    "# just the training\n",
    "plt.plot(train_results['Train_Predictions'][:200])\n",
    "plt.plot(train_results['Actuals'][:200])"
   ]
  },
  {
   "cell_type": "code",
   "execution_count": 20,
   "id": "fa87db88",
   "metadata": {},
   "outputs": [
    {
     "name": "stdout",
     "output_type": "stream",
     "text": [
      "16/16 [==============================] - 0s 1ms/step\n"
     ]
    },
    {
     "data": {
      "text/html": [
       "<div>\n",
       "<style scoped>\n",
       "    .dataframe tbody tr th:only-of-type {\n",
       "        vertical-align: middle;\n",
       "    }\n",
       "\n",
       "    .dataframe tbody tr th {\n",
       "        vertical-align: top;\n",
       "    }\n",
       "\n",
       "    .dataframe thead th {\n",
       "        text-align: right;\n",
       "    }\n",
       "</style>\n",
       "<table border=\"1\" class=\"dataframe\">\n",
       "  <thead>\n",
       "    <tr style=\"text-align: right;\">\n",
       "      <th></th>\n",
       "      <th>Val_Predictions</th>\n",
       "      <th>Actuals</th>\n",
       "    </tr>\n",
       "  </thead>\n",
       "  <tbody>\n",
       "    <tr>\n",
       "      <th>0</th>\n",
       "      <td>95.300476</td>\n",
       "      <td>95.3354</td>\n",
       "    </tr>\n",
       "    <tr>\n",
       "      <th>1</th>\n",
       "      <td>95.287216</td>\n",
       "      <td>95.3287</td>\n",
       "    </tr>\n",
       "    <tr>\n",
       "      <th>2</th>\n",
       "      <td>95.280350</td>\n",
       "      <td>95.3083</td>\n",
       "    </tr>\n",
       "    <tr>\n",
       "      <th>3</th>\n",
       "      <td>95.273529</td>\n",
       "      <td>95.3333</td>\n",
       "    </tr>\n",
       "    <tr>\n",
       "      <th>4</th>\n",
       "      <td>95.274734</td>\n",
       "      <td>95.3454</td>\n",
       "    </tr>\n",
       "    <tr>\n",
       "      <th>...</th>\n",
       "      <td>...</td>\n",
       "      <td>...</td>\n",
       "    </tr>\n",
       "    <tr>\n",
       "      <th>495</th>\n",
       "      <td>90.787079</td>\n",
       "      <td>91.0012</td>\n",
       "    </tr>\n",
       "    <tr>\n",
       "      <th>496</th>\n",
       "      <td>90.905350</td>\n",
       "      <td>91.1050</td>\n",
       "    </tr>\n",
       "    <tr>\n",
       "      <th>497</th>\n",
       "      <td>91.017654</td>\n",
       "      <td>91.2146</td>\n",
       "    </tr>\n",
       "    <tr>\n",
       "      <th>498</th>\n",
       "      <td>91.128326</td>\n",
       "      <td>91.3029</td>\n",
       "    </tr>\n",
       "    <tr>\n",
       "      <th>499</th>\n",
       "      <td>91.230949</td>\n",
       "      <td>91.3988</td>\n",
       "    </tr>\n",
       "  </tbody>\n",
       "</table>\n",
       "<p>500 rows × 2 columns</p>\n",
       "</div>"
      ],
      "text/plain": [
       "     Val_Predictions  Actuals\n",
       "0          95.300476  95.3354\n",
       "1          95.287216  95.3287\n",
       "2          95.280350  95.3083\n",
       "3          95.273529  95.3333\n",
       "4          95.274734  95.3454\n",
       "..               ...      ...\n",
       "495        90.787079  91.0012\n",
       "496        90.905350  91.1050\n",
       "497        91.017654  91.2146\n",
       "498        91.128326  91.3029\n",
       "499        91.230949  91.3988\n",
       "\n",
       "[500 rows x 2 columns]"
      ]
     },
     "metadata": {},
     "output_type": "display_data"
    },
    {
     "data": {
      "text/plain": [
       "[<matplotlib.lines.Line2D at 0x7fed74c2be20>]"
      ]
     },
     "execution_count": 20,
     "metadata": {},
     "output_type": "execute_result"
    },
    {
     "data": {
      "image/png": "[encoded data removed]",
      "text/plain": [
       "<Figure size 432x288 with 1 Axes>"
      ]
     },
     "metadata": {
      "needs_background": "light"
     },
     "output_type": "display_data"
    }
   ],
   "source": [
    "# how about validation\n",
    "val_predictions = model1.predict(X_val).flatten()\n",
    "val_results = pd.DataFrame(data={'Val_Predictions':val_predictions, 'Actuals':y_val})\n",
    "display(val_results)\n",
    "\n",
    "plt.plot(val_results['Val_Predictions'][:200])\n",
    "plt.plot(val_results['Actuals'][:200])"
   ]
  },
  {
   "cell_type": "code",
   "execution_count": 21,
   "id": "117eceb9",
   "metadata": {},
   "outputs": [
    {
     "data": {
      "text/plain": [
       "[<matplotlib.lines.Line2D at 0x7fed6fe8c430>]"
      ]
     },
     "execution_count": 21,
     "metadata": {},
     "output_type": "execute_result"
    },
    {
     "data": {
      "image/png": "[encoded data removed]",
      "text/plain": [
       "<Figure size 432x288 with 1 Axes>"
      ]
     },
     "metadata": {
      "needs_background": "light"
     },
     "output_type": "display_data"
    }
   ],
   "source": [
    "plt.plot(val_results['Val_Predictions'])\n",
    "plt.plot(val_results['Actuals'])"
   ]
  },
  {
   "cell_type": "markdown",
   "id": "cb6082bf",
   "metadata": {},
   "source": [
    "### Results of single variable model"
   ]
  },
  {
   "cell_type": "code",
   "execution_count": 23,
   "id": "299b96a0",
   "metadata": {},
   "outputs": [
    {
     "name": "stdout",
     "output_type": "stream",
     "text": [
      "16/16 [==============================] - 0s 1ms/step\n"
     ]
    },
    {
     "data": {
      "text/html": [
       "<div>\n",
       "<style scoped>\n",
       "    .dataframe tbody tr th:only-of-type {\n",
       "        vertical-align: middle;\n",
       "    }\n",
       "\n",
       "    .dataframe tbody tr th {\n",
       "        vertical-align: top;\n",
       "    }\n",
       "\n",
       "    .dataframe thead th {\n",
       "        text-align: right;\n",
       "    }\n",
       "</style>\n",
       "<table border=\"1\" class=\"dataframe\">\n",
       "  <thead>\n",
       "    <tr style=\"text-align: right;\">\n",
       "      <th></th>\n",
       "      <th>Test_Predictions</th>\n",
       "      <th>Actuals</th>\n",
       "    </tr>\n",
       "  </thead>\n",
       "  <tbody>\n",
       "    <tr>\n",
       "      <th>0</th>\n",
       "      <td>91.330711</td>\n",
       "      <td>91.4921</td>\n",
       "    </tr>\n",
       "    <tr>\n",
       "      <th>1</th>\n",
       "      <td>91.426788</td>\n",
       "      <td>91.5775</td>\n",
       "    </tr>\n",
       "    <tr>\n",
       "      <th>2</th>\n",
       "      <td>91.520386</td>\n",
       "      <td>91.6546</td>\n",
       "    </tr>\n",
       "    <tr>\n",
       "      <th>3</th>\n",
       "      <td>91.607635</td>\n",
       "      <td>91.7333</td>\n",
       "    </tr>\n",
       "    <tr>\n",
       "      <th>4</th>\n",
       "      <td>91.690491</td>\n",
       "      <td>91.7912</td>\n",
       "    </tr>\n",
       "    <tr>\n",
       "      <th>...</th>\n",
       "      <td>...</td>\n",
       "      <td>...</td>\n",
       "    </tr>\n",
       "    <tr>\n",
       "      <th>495</th>\n",
       "      <td>79.456085</td>\n",
       "      <td>79.4696</td>\n",
       "    </tr>\n",
       "    <tr>\n",
       "      <th>496</th>\n",
       "      <td>79.540070</td>\n",
       "      <td>80.0721</td>\n",
       "    </tr>\n",
       "    <tr>\n",
       "      <th>497</th>\n",
       "      <td>79.846184</td>\n",
       "      <td>80.4046</td>\n",
       "    </tr>\n",
       "    <tr>\n",
       "      <th>498</th>\n",
       "      <td>80.206093</td>\n",
       "      <td>80.6565</td>\n",
       "    </tr>\n",
       "    <tr>\n",
       "      <th>499</th>\n",
       "      <td>80.526138</td>\n",
       "      <td>80.8423</td>\n",
       "    </tr>\n",
       "  </tbody>\n",
       "</table>\n",
       "<p>500 rows × 2 columns</p>\n",
       "</div>"
      ],
      "text/plain": [
       "     Test_Predictions  Actuals\n",
       "0           91.330711  91.4921\n",
       "1           91.426788  91.5775\n",
       "2           91.520386  91.6546\n",
       "3           91.607635  91.7333\n",
       "4           91.690491  91.7912\n",
       "..                ...      ...\n",
       "495         79.456085  79.4696\n",
       "496         79.540070  80.0721\n",
       "497         79.846184  80.4046\n",
       "498         80.206093  80.6565\n",
       "499         80.526138  80.8423\n",
       "\n",
       "[500 rows x 2 columns]"
      ]
     },
     "metadata": {},
     "output_type": "display_data"
    },
    {
     "data": {
      "text/plain": [
       "[<matplotlib.lines.Line2D at 0x7fed74690280>]"
      ]
     },
     "execution_count": 23,
     "metadata": {},
     "output_type": "execute_result"
    },
    {
     "data": {
      "image/png": "[encoded data removed]",
      "text/plain": [
       "<Figure size 432x288 with 1 Axes>"
      ]
     },
     "metadata": {
      "needs_background": "light"
     },
     "output_type": "display_data"
    }
   ],
   "source": [
    "# how about test\n",
    "test_predictions = model1.predict(X_test).flatten()\n",
    "test_results = pd.DataFrame(data={'Test_Predictions':test_predictions, 'Actuals':y_test})\n",
    "display(test_results)\n",
    "\n",
    "plt.plot(test_results['Test_Predictions'][:200])\n",
    "plt.plot(test_results['Actuals'][:200])"
   ]
  },
  {
   "cell_type": "code",
   "execution_count": 24,
   "id": "283f7ad6",
   "metadata": {},
   "outputs": [
    {
     "data": {
      "text/plain": [
       "[<matplotlib.lines.Line2D at 0x7fed745d8730>]"
      ]
     },
     "execution_count": 24,
     "metadata": {},
     "output_type": "execute_result"
    },
    {
     "data": {
      "image/png": "[encoded data removed]",
      "text/plain": [
       "<Figure size 432x288 with 1 Axes>"
      ]
     },
     "metadata": {
      "needs_background": "light"
     },
     "output_type": "display_data"
    }
   ],
   "source": [
    "plt.plot(test_results['Test_Predictions'])\n",
    "plt.plot(test_results['Actuals'])"
   ]
  },
  {
   "cell_type": "markdown",
   "id": "c18cd27e",
   "metadata": {},
   "source": [
    "#### A prettier graph for single variable results:"
   ]
  },
  {
   "cell_type": "code",
   "execution_count": 41,
   "id": "2783b976",
   "metadata": {},
   "outputs": [
    {
     "data": {
      "text/html": [
       "<div>\n",
       "<style scoped>\n",
       "    .dataframe tbody tr th:only-of-type {\n",
       "        vertical-align: middle;\n",
       "    }\n",
       "\n",
       "    .dataframe tbody tr th {\n",
       "        vertical-align: top;\n",
       "    }\n",
       "\n",
       "    .dataframe thead th {\n",
       "        text-align: right;\n",
       "    }\n",
       "</style>\n",
       "<table border=\"1\" class=\"dataframe\">\n",
       "  <thead>\n",
       "    <tr style=\"text-align: right;\">\n",
       "      <th></th>\n",
       "      <th>Test_Predictions</th>\n",
       "      <th>Actuals</th>\n",
       "      <th>date</th>\n",
       "    </tr>\n",
       "  </thead>\n",
       "  <tbody>\n",
       "    <tr>\n",
       "      <th>0</th>\n",
       "      <td>91.330711</td>\n",
       "      <td>91.4921</td>\n",
       "      <td>2017-01-23</td>\n",
       "    </tr>\n",
       "    <tr>\n",
       "      <th>1</th>\n",
       "      <td>91.426788</td>\n",
       "      <td>91.5775</td>\n",
       "      <td>2017-01-24</td>\n",
       "    </tr>\n",
       "    <tr>\n",
       "      <th>2</th>\n",
       "      <td>91.520386</td>\n",
       "      <td>91.6546</td>\n",
       "      <td>2017-01-25</td>\n",
       "    </tr>\n",
       "    <tr>\n",
       "      <th>3</th>\n",
       "      <td>91.607635</td>\n",
       "      <td>91.7333</td>\n",
       "      <td>2017-01-26</td>\n",
       "    </tr>\n",
       "    <tr>\n",
       "      <th>4</th>\n",
       "      <td>91.690491</td>\n",
       "      <td>91.7912</td>\n",
       "      <td>2017-01-27</td>\n",
       "    </tr>\n",
       "    <tr>\n",
       "      <th>...</th>\n",
       "      <td>...</td>\n",
       "      <td>...</td>\n",
       "      <td>...</td>\n",
       "    </tr>\n",
       "    <tr>\n",
       "      <th>495</th>\n",
       "      <td>79.456085</td>\n",
       "      <td>79.4696</td>\n",
       "      <td>2018-06-02</td>\n",
       "    </tr>\n",
       "    <tr>\n",
       "      <th>496</th>\n",
       "      <td>79.540070</td>\n",
       "      <td>80.0721</td>\n",
       "      <td>2018-06-03</td>\n",
       "    </tr>\n",
       "    <tr>\n",
       "      <th>497</th>\n",
       "      <td>79.846184</td>\n",
       "      <td>80.4046</td>\n",
       "      <td>2018-06-04</td>\n",
       "    </tr>\n",
       "    <tr>\n",
       "      <th>498</th>\n",
       "      <td>80.206093</td>\n",
       "      <td>80.6565</td>\n",
       "      <td>2018-06-05</td>\n",
       "    </tr>\n",
       "    <tr>\n",
       "      <th>499</th>\n",
       "      <td>80.526138</td>\n",
       "      <td>80.8423</td>\n",
       "      <td>2018-06-06</td>\n",
       "    </tr>\n",
       "  </tbody>\n",
       "</table>\n",
       "<p>500 rows × 3 columns</p>\n",
       "</div>"
      ],
      "text/plain": [
       "     Test_Predictions  Actuals       date\n",
       "0           91.330711  91.4921 2017-01-23\n",
       "1           91.426788  91.5775 2017-01-24\n",
       "2           91.520386  91.6546 2017-01-25\n",
       "3           91.607635  91.7333 2017-01-26\n",
       "4           91.690491  91.7912 2017-01-27\n",
       "..                ...      ...        ...\n",
       "495         79.456085  79.4696 2018-06-02\n",
       "496         79.540070  80.0721 2018-06-03\n",
       "497         79.846184  80.4046 2018-06-04\n",
       "498         80.206093  80.6565 2018-06-05\n",
       "499         80.526138  80.8423 2018-06-06\n",
       "\n",
       "[500 rows x 3 columns]"
      ]
     },
     "execution_count": 41,
     "metadata": {},
     "output_type": "execute_result"
    }
   ],
   "source": [
    "test_results['date'] = date_rng = pd.date_range(start='2017-01-23', end='2018-06-06', freq='D')\n",
    "# last 500 days from the df\n",
    "test_results"
   ]
  },
  {
   "cell_type": "code",
   "execution_count": 45,
   "id": "88d33582",
   "metadata": {},
   "outputs": [
    {
     "data": {
      "image/png": "[encoded data removed]",
      "text/plain": [
       "<Figure size 2304x720 with 1 Axes>"
      ]
     },
     "metadata": {
      "needs_background": "light"
     },
     "output_type": "display_data"
    }
   ],
   "source": [
    "y = test_results.date.values\n",
    "X = test_results.Test_Predictions.values*-1\n",
    "X1 = test_results.Actuals.values*-1\n",
    "\n",
    "\n",
    "fig, ax1 = plt.subplots(figsize=(32, 10)) #big for copy paste reasons\n",
    "plt.suptitle('Results on the test data', fontsize=16)\n",
    "\n",
    "ax1 = plt.subplot()\n",
    "plt.plot(y, X, 'r--', label = 'Predicted Water Level')\n",
    "plt.xlabel('Date', fontsize=14)\n",
    "plt.ylabel('Depth from Land Surface in feet', fontsize=14)\n",
    "\n",
    "ax2 = plt.subplot()\n",
    "ax2.plot(y,X1, 'b-', label = 'Actual Water Level')\n",
    "\n",
    "fig.legend()\n",
    "\n",
    "fig.tight_layout()\n",
    "plt.show()"
   ]
  },
  {
   "cell_type": "markdown",
   "id": "6036c385",
   "metadata": {},
   "source": [
    "## Multivariate tutorial\n",
    "\n",
    "both of these tutorials skip basically all explanation; I need to go through Marcos' notebooks and whatnot, but below is following the second one listed above. [This one](https://www.youtube.com/watch?v=kGdbPnMCdOg)"
   ]
  },
  {
   "cell_type": "code",
   "execution_count": null,
   "id": "a0cb17de",
   "metadata": {},
   "outputs": [],
   "source": []
  }
 ],
 "metadata": {
  "kernelspec": {
   "display_name": "Python 3 (ipykernel)",
   "language": "python",
   "name": "python3"
  },
  "language_info": {
   "codemirror_mode": {
    "name": "ipython",
    "version": 3
   },
   "file_extension": ".py",
   "mimetype": "text/x-python",
   "name": "python",
   "nbconvert_exporter": "python",
   "pygments_lexer": "ipython3",
   "version": "3.10.9"
  }
 },
 "nbformat": 4,
 "nbformat_minor": 5
}

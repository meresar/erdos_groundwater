{
 "cells": [
  {
   "cell_type": "markdown",
   "id": "a93e4381",
   "metadata": {},
   "source": [
    "# tutorials for NN\n",
    "\n",
    "Following these tutorials (in order)\n",
    "* LSTM Time Series Forecasting https://www.youtube.com/watch?v=c0k-YLQGKjY\n",
    "* Multivariate Time Series Forecasting Using LSTM, GRU & 1d CNNs https://www.youtube.com/watch?v=kGdbPnMCdOg\n",
    "\n",
    "**Upon further review, I am CONCERNED about this. I'm not sure it actually separates out the outputs from the inputs.** It's possible I've misunderstood quite badly, so I'm going to go do a bunch more reading"
   ]
  },
  {
   "cell_type": "code",
   "execution_count": 1,
   "id": "0e0289d9",
   "metadata": {},
   "outputs": [
    {
     "name": "stderr",
     "output_type": "stream",
     "text": [
      "2023-11-14 13:07:43.120008: I tensorflow/tsl/cuda/cudart_stub.cc:28] Could not find cuda drivers on your machine, GPU will not be used.\n",
      "2023-11-14 13:07:44.478517: E tensorflow/compiler/xla/stream_executor/cuda/cuda_dnn.cc:9342] Unable to register cuDNN factory: Attempting to register factory for plugin cuDNN when one has already been registered\n",
      "2023-11-14 13:07:44.478600: E tensorflow/compiler/xla/stream_executor/cuda/cuda_fft.cc:609] Unable to register cuFFT factory: Attempting to register factory for plugin cuFFT when one has already been registered\n",
      "2023-11-14 13:07:44.482820: E tensorflow/compiler/xla/stream_executor/cuda/cuda_blas.cc:1518] Unable to register cuBLAS factory: Attempting to register factory for plugin cuBLAS when one has already been registered\n",
      "2023-11-14 13:07:45.505421: I tensorflow/tsl/cuda/cudart_stub.cc:28] Could not find cuda drivers on your machine, GPU will not be used.\n",
      "2023-11-14 13:07:45.508498: I tensorflow/core/platform/cpu_feature_guard.cc:182] This TensorFlow binary is optimized to use available CPU instructions in performance-critical operations.\n",
      "To enable the following instructions: AVX2 FMA, in other operations, rebuild TensorFlow with the appropriate compiler flags.\n",
      "2023-11-14 13:07:51.883710: W tensorflow/compiler/tf2tensorrt/utils/py_utils.cc:38] TF-TRT Warning: Could not find TensorRT\n"
     ]
    }
   ],
   "source": [
    "import tensorflow as tf\n",
    "import os\n",
    "import pandas as pd\n",
    "import numpy as np\n",
    "import matplotlib.pyplot as plt"
   ]
  },
  {
   "cell_type": "code",
   "execution_count": 2,
   "id": "d511c43b",
   "metadata": {},
   "outputs": [
    {
     "data": {
      "text/html": [
       "<div>\n",
       "<style scoped>\n",
       "    .dataframe tbody tr th:only-of-type {\n",
       "        vertical-align: middle;\n",
       "    }\n",
       "\n",
       "    .dataframe tbody tr th {\n",
       "        vertical-align: top;\n",
       "    }\n",
       "\n",
       "    .dataframe thead th {\n",
       "        text-align: right;\n",
       "    }\n",
       "</style>\n",
       "<table border=\"1\" class=\"dataframe\">\n",
       "  <thead>\n",
       "    <tr style=\"text-align: right;\">\n",
       "      <th></th>\n",
       "      <th>date</th>\n",
       "      <th>avg_well_depth</th>\n",
       "      <th>gage_ht</th>\n",
       "      <th>discharge_cfs</th>\n",
       "      <th>prcp</th>\n",
       "      <th>temp_avg</th>\n",
       "      <th>temp_max</th>\n",
       "      <th>temp_min</th>\n",
       "      <th>hPa_avg</th>\n",
       "      <th>hum_avg</th>\n",
       "      <th>hum_max</th>\n",
       "      <th>hum_min</th>\n",
       "      <th>wind_avg</th>\n",
       "      <th>wind_max</th>\n",
       "      <th>wind_min</th>\n",
       "      <th>gust_avg</th>\n",
       "      <th>gust_max</th>\n",
       "      <th>gust_min</th>\n",
       "    </tr>\n",
       "  </thead>\n",
       "  <tbody>\n",
       "    <tr>\n",
       "      <th>0</th>\n",
       "      <td>2006-02-07</td>\n",
       "      <td>91.0100</td>\n",
       "      <td>21.65</td>\n",
       "      <td>9420.0</td>\n",
       "      <td>0.00</td>\n",
       "      <td>35.722500</td>\n",
       "      <td>46.31</td>\n",
       "      <td>28.26</td>\n",
       "      <td>1028.625000</td>\n",
       "      <td>76.375000</td>\n",
       "      <td>93.0</td>\n",
       "      <td>47.0</td>\n",
       "      <td>5.826667</td>\n",
       "      <td>10.29</td>\n",
       "      <td>3.36</td>\n",
       "      <td>0.0000</td>\n",
       "      <td>0.00</td>\n",
       "      <td>0.0</td>\n",
       "    </tr>\n",
       "    <tr>\n",
       "      <th>1</th>\n",
       "      <td>2006-02-08</td>\n",
       "      <td>91.0429</td>\n",
       "      <td>21.64</td>\n",
       "      <td>9380.0</td>\n",
       "      <td>0.00</td>\n",
       "      <td>35.124167</td>\n",
       "      <td>42.46</td>\n",
       "      <td>28.72</td>\n",
       "      <td>1026.625000</td>\n",
       "      <td>84.416667</td>\n",
       "      <td>100.0</td>\n",
       "      <td>69.0</td>\n",
       "      <td>6.366250</td>\n",
       "      <td>11.41</td>\n",
       "      <td>3.36</td>\n",
       "      <td>0.0000</td>\n",
       "      <td>0.00</td>\n",
       "      <td>0.0</td>\n",
       "    </tr>\n",
       "    <tr>\n",
       "      <th>2</th>\n",
       "      <td>2006-02-09</td>\n",
       "      <td>91.1096</td>\n",
       "      <td>21.58</td>\n",
       "      <td>9210.0</td>\n",
       "      <td>0.00</td>\n",
       "      <td>32.172500</td>\n",
       "      <td>43.05</td>\n",
       "      <td>24.44</td>\n",
       "      <td>1035.041667</td>\n",
       "      <td>64.541667</td>\n",
       "      <td>98.0</td>\n",
       "      <td>30.0</td>\n",
       "      <td>8.732917</td>\n",
       "      <td>13.87</td>\n",
       "      <td>5.82</td>\n",
       "      <td>0.7175</td>\n",
       "      <td>17.22</td>\n",
       "      <td>0.0</td>\n",
       "    </tr>\n",
       "    <tr>\n",
       "      <th>3</th>\n",
       "      <td>2006-02-10</td>\n",
       "      <td>91.1954</td>\n",
       "      <td>21.46</td>\n",
       "      <td>8830.0</td>\n",
       "      <td>0.00</td>\n",
       "      <td>31.252083</td>\n",
       "      <td>42.04</td>\n",
       "      <td>24.33</td>\n",
       "      <td>1038.958333</td>\n",
       "      <td>56.250000</td>\n",
       "      <td>81.0</td>\n",
       "      <td>27.0</td>\n",
       "      <td>9.655417</td>\n",
       "      <td>16.11</td>\n",
       "      <td>5.82</td>\n",
       "      <td>0.0000</td>\n",
       "      <td>0.00</td>\n",
       "      <td>0.0</td>\n",
       "    </tr>\n",
       "    <tr>\n",
       "      <th>4</th>\n",
       "      <td>2006-02-11</td>\n",
       "      <td>91.3012</td>\n",
       "      <td>21.36</td>\n",
       "      <td>8550.0</td>\n",
       "      <td>0.00</td>\n",
       "      <td>30.429583</td>\n",
       "      <td>42.46</td>\n",
       "      <td>21.51</td>\n",
       "      <td>1037.583333</td>\n",
       "      <td>61.708333</td>\n",
       "      <td>84.0</td>\n",
       "      <td>36.0</td>\n",
       "      <td>7.250417</td>\n",
       "      <td>10.29</td>\n",
       "      <td>3.36</td>\n",
       "      <td>0.0000</td>\n",
       "      <td>0.00</td>\n",
       "      <td>0.0</td>\n",
       "    </tr>\n",
       "    <tr>\n",
       "      <th>5</th>\n",
       "      <td>2006-02-12</td>\n",
       "      <td>91.4004</td>\n",
       "      <td>21.28</td>\n",
       "      <td>8330.0</td>\n",
       "      <td>0.00</td>\n",
       "      <td>31.932083</td>\n",
       "      <td>43.92</td>\n",
       "      <td>24.57</td>\n",
       "      <td>1035.333333</td>\n",
       "      <td>68.041667</td>\n",
       "      <td>87.0</td>\n",
       "      <td>44.0</td>\n",
       "      <td>6.179583</td>\n",
       "      <td>9.17</td>\n",
       "      <td>3.36</td>\n",
       "      <td>0.0000</td>\n",
       "      <td>0.00</td>\n",
       "      <td>0.0</td>\n",
       "    </tr>\n",
       "    <tr>\n",
       "      <th>6</th>\n",
       "      <td>2006-02-13</td>\n",
       "      <td>91.5129</td>\n",
       "      <td>21.10</td>\n",
       "      <td>7820.0</td>\n",
       "      <td>0.10</td>\n",
       "      <td>31.004848</td>\n",
       "      <td>35.42</td>\n",
       "      <td>26.37</td>\n",
       "      <td>1025.878788</td>\n",
       "      <td>91.121212</td>\n",
       "      <td>96.0</td>\n",
       "      <td>81.0</td>\n",
       "      <td>7.274242</td>\n",
       "      <td>19.46</td>\n",
       "      <td>0.00</td>\n",
       "      <td>0.0000</td>\n",
       "      <td>0.00</td>\n",
       "      <td>0.0</td>\n",
       "    </tr>\n",
       "    <tr>\n",
       "      <th>7</th>\n",
       "      <td>2006-02-14</td>\n",
       "      <td>91.6071</td>\n",
       "      <td>20.97</td>\n",
       "      <td>7460.0</td>\n",
       "      <td>0.00</td>\n",
       "      <td>25.755417</td>\n",
       "      <td>35.42</td>\n",
       "      <td>18.34</td>\n",
       "      <td>1021.125000</td>\n",
       "      <td>76.083333</td>\n",
       "      <td>98.0</td>\n",
       "      <td>51.0</td>\n",
       "      <td>7.147917</td>\n",
       "      <td>10.29</td>\n",
       "      <td>3.36</td>\n",
       "      <td>0.0000</td>\n",
       "      <td>0.00</td>\n",
       "      <td>0.0</td>\n",
       "    </tr>\n",
       "    <tr>\n",
       "      <th>8</th>\n",
       "      <td>2006-02-15</td>\n",
       "      <td>91.7167</td>\n",
       "      <td>20.91</td>\n",
       "      <td>7300.0</td>\n",
       "      <td>0.00</td>\n",
       "      <td>25.828750</td>\n",
       "      <td>35.62</td>\n",
       "      <td>17.37</td>\n",
       "      <td>1019.750000</td>\n",
       "      <td>66.083333</td>\n",
       "      <td>88.0</td>\n",
       "      <td>33.0</td>\n",
       "      <td>6.552083</td>\n",
       "      <td>10.29</td>\n",
       "      <td>3.36</td>\n",
       "      <td>0.0000</td>\n",
       "      <td>0.00</td>\n",
       "      <td>0.0</td>\n",
       "    </tr>\n",
       "    <tr>\n",
       "      <th>9</th>\n",
       "      <td>2006-02-16</td>\n",
       "      <td>91.7925</td>\n",
       "      <td>20.81</td>\n",
       "      <td>7040.0</td>\n",
       "      <td>0.06</td>\n",
       "      <td>22.394400</td>\n",
       "      <td>27.81</td>\n",
       "      <td>12.18</td>\n",
       "      <td>1023.360000</td>\n",
       "      <td>65.240000</td>\n",
       "      <td>85.0</td>\n",
       "      <td>31.0</td>\n",
       "      <td>13.198800</td>\n",
       "      <td>26.17</td>\n",
       "      <td>2.24</td>\n",
       "      <td>8.4468</td>\n",
       "      <td>33.11</td>\n",
       "      <td>0.0</td>\n",
       "    </tr>\n",
       "    <tr>\n",
       "      <th>10</th>\n",
       "      <td>2006-02-17</td>\n",
       "      <td>91.9404</td>\n",
       "      <td>20.65</td>\n",
       "      <td>6630.0</td>\n",
       "      <td>0.00</td>\n",
       "      <td>13.117917</td>\n",
       "      <td>20.70</td>\n",
       "      <td>6.04</td>\n",
       "      <td>1031.625000</td>\n",
       "      <td>29.458333</td>\n",
       "      <td>39.0</td>\n",
       "      <td>23.0</td>\n",
       "      <td>20.635833</td>\n",
       "      <td>27.74</td>\n",
       "      <td>10.29</td>\n",
       "      <td>19.7600</td>\n",
       "      <td>39.15</td>\n",
       "      <td>0.0</td>\n",
       "    </tr>\n",
       "    <tr>\n",
       "      <th>11</th>\n",
       "      <td>2006-02-18</td>\n",
       "      <td>92.0808</td>\n",
       "      <td>20.51</td>\n",
       "      <td>6260.0</td>\n",
       "      <td>0.00</td>\n",
       "      <td>19.715417</td>\n",
       "      <td>32.07</td>\n",
       "      <td>9.03</td>\n",
       "      <td>1026.333333</td>\n",
       "      <td>43.375000</td>\n",
       "      <td>63.0</td>\n",
       "      <td>24.0</td>\n",
       "      <td>10.075417</td>\n",
       "      <td>17.22</td>\n",
       "      <td>3.36</td>\n",
       "      <td>0.0000</td>\n",
       "      <td>0.00</td>\n",
       "      <td>0.0</td>\n",
       "    </tr>\n",
       "    <tr>\n",
       "      <th>12</th>\n",
       "      <td>2006-02-19</td>\n",
       "      <td>92.2000</td>\n",
       "      <td>20.42</td>\n",
       "      <td>6050.0</td>\n",
       "      <td>0.00</td>\n",
       "      <td>23.388750</td>\n",
       "      <td>31.15</td>\n",
       "      <td>12.18</td>\n",
       "      <td>1023.833333</td>\n",
       "      <td>53.125000</td>\n",
       "      <td>77.0</td>\n",
       "      <td>38.0</td>\n",
       "      <td>7.875833</td>\n",
       "      <td>12.75</td>\n",
       "      <td>0.00</td>\n",
       "      <td>0.0000</td>\n",
       "      <td>0.00</td>\n",
       "      <td>0.0</td>\n",
       "    </tr>\n",
       "    <tr>\n",
       "      <th>13</th>\n",
       "      <td>2006-02-20</td>\n",
       "      <td>92.3475</td>\n",
       "      <td>20.34</td>\n",
       "      <td>5860.0</td>\n",
       "      <td>0.00</td>\n",
       "      <td>27.841667</td>\n",
       "      <td>34.05</td>\n",
       "      <td>21.09</td>\n",
       "      <td>1021.291667</td>\n",
       "      <td>50.750000</td>\n",
       "      <td>63.0</td>\n",
       "      <td>36.0</td>\n",
       "      <td>8.433750</td>\n",
       "      <td>12.75</td>\n",
       "      <td>4.70</td>\n",
       "      <td>0.0000</td>\n",
       "      <td>0.00</td>\n",
       "      <td>0.0</td>\n",
       "    </tr>\n",
       "    <tr>\n",
       "      <th>14</th>\n",
       "      <td>2006-02-21</td>\n",
       "      <td>92.5071</td>\n",
       "      <td>20.26</td>\n",
       "      <td>5660.0</td>\n",
       "      <td>0.00</td>\n",
       "      <td>34.277083</td>\n",
       "      <td>42.06</td>\n",
       "      <td>28.31</td>\n",
       "      <td>1016.541667</td>\n",
       "      <td>63.750000</td>\n",
       "      <td>83.0</td>\n",
       "      <td>46.0</td>\n",
       "      <td>12.116250</td>\n",
       "      <td>20.58</td>\n",
       "      <td>4.47</td>\n",
       "      <td>0.0000</td>\n",
       "      <td>0.00</td>\n",
       "      <td>0.0</td>\n",
       "    </tr>\n",
       "  </tbody>\n",
       "</table>\n",
       "</div>"
      ],
      "text/plain": [
       "         date  avg_well_depth  gage_ht  discharge_cfs  prcp   temp_avg  \\\n",
       "0  2006-02-07         91.0100    21.65         9420.0  0.00  35.722500   \n",
       "1  2006-02-08         91.0429    21.64         9380.0  0.00  35.124167   \n",
       "2  2006-02-09         91.1096    21.58         9210.0  0.00  32.172500   \n",
       "3  2006-02-10         91.1954    21.46         8830.0  0.00  31.252083   \n",
       "4  2006-02-11         91.3012    21.36         8550.0  0.00  30.429583   \n",
       "5  2006-02-12         91.4004    21.28         8330.0  0.00  31.932083   \n",
       "6  2006-02-13         91.5129    21.10         7820.0  0.10  31.004848   \n",
       "7  2006-02-14         91.6071    20.97         7460.0  0.00  25.755417   \n",
       "8  2006-02-15         91.7167    20.91         7300.0  0.00  25.828750   \n",
       "9  2006-02-16         91.7925    20.81         7040.0  0.06  22.394400   \n",
       "10 2006-02-17         91.9404    20.65         6630.0  0.00  13.117917   \n",
       "11 2006-02-18         92.0808    20.51         6260.0  0.00  19.715417   \n",
       "12 2006-02-19         92.2000    20.42         6050.0  0.00  23.388750   \n",
       "13 2006-02-20         92.3475    20.34         5860.0  0.00  27.841667   \n",
       "14 2006-02-21         92.5071    20.26         5660.0  0.00  34.277083   \n",
       "\n",
       "    temp_max  temp_min      hPa_avg    hum_avg  hum_max  hum_min   wind_avg  \\\n",
       "0      46.31     28.26  1028.625000  76.375000     93.0     47.0   5.826667   \n",
       "1      42.46     28.72  1026.625000  84.416667    100.0     69.0   6.366250   \n",
       "2      43.05     24.44  1035.041667  64.541667     98.0     30.0   8.732917   \n",
       "3      42.04     24.33  1038.958333  56.250000     81.0     27.0   9.655417   \n",
       "4      42.46     21.51  1037.583333  61.708333     84.0     36.0   7.250417   \n",
       "5      43.92     24.57  1035.333333  68.041667     87.0     44.0   6.179583   \n",
       "6      35.42     26.37  1025.878788  91.121212     96.0     81.0   7.274242   \n",
       "7      35.42     18.34  1021.125000  76.083333     98.0     51.0   7.147917   \n",
       "8      35.62     17.37  1019.750000  66.083333     88.0     33.0   6.552083   \n",
       "9      27.81     12.18  1023.360000  65.240000     85.0     31.0  13.198800   \n",
       "10     20.70      6.04  1031.625000  29.458333     39.0     23.0  20.635833   \n",
       "11     32.07      9.03  1026.333333  43.375000     63.0     24.0  10.075417   \n",
       "12     31.15     12.18  1023.833333  53.125000     77.0     38.0   7.875833   \n",
       "13     34.05     21.09  1021.291667  50.750000     63.0     36.0   8.433750   \n",
       "14     42.06     28.31  1016.541667  63.750000     83.0     46.0  12.116250   \n",
       "\n",
       "    wind_max  wind_min  gust_avg  gust_max  gust_min  \n",
       "0      10.29      3.36    0.0000      0.00       0.0  \n",
       "1      11.41      3.36    0.0000      0.00       0.0  \n",
       "2      13.87      5.82    0.7175     17.22       0.0  \n",
       "3      16.11      5.82    0.0000      0.00       0.0  \n",
       "4      10.29      3.36    0.0000      0.00       0.0  \n",
       "5       9.17      3.36    0.0000      0.00       0.0  \n",
       "6      19.46      0.00    0.0000      0.00       0.0  \n",
       "7      10.29      3.36    0.0000      0.00       0.0  \n",
       "8      10.29      3.36    0.0000      0.00       0.0  \n",
       "9      26.17      2.24    8.4468     33.11       0.0  \n",
       "10     27.74     10.29   19.7600     39.15       0.0  \n",
       "11     17.22      3.36    0.0000      0.00       0.0  \n",
       "12     12.75      0.00    0.0000      0.00       0.0  \n",
       "13     12.75      4.70    0.0000      0.00       0.0  \n",
       "14     20.58      4.47    0.0000      0.00       0.0  "
      ]
     },
     "execution_count": 2,
     "metadata": {},
     "output_type": "execute_result"
    }
   ],
   "source": [
    "df = pd.read_pickle('../data/pickled_data/AFL259_short.pkl')\n",
    "df.reset_index(inplace=True,drop=True)\n",
    "df.head(15)"
   ]
  },
  {
   "cell_type": "code",
   "execution_count": 3,
   "id": "ef6b56b9",
   "metadata": {},
   "outputs": [
    {
     "data": {
      "text/html": [
       "<div>\n",
       "<style scoped>\n",
       "    .dataframe tbody tr th:only-of-type {\n",
       "        vertical-align: middle;\n",
       "    }\n",
       "\n",
       "    .dataframe tbody tr th {\n",
       "        vertical-align: top;\n",
       "    }\n",
       "\n",
       "    .dataframe thead th {\n",
       "        text-align: right;\n",
       "    }\n",
       "</style>\n",
       "<table border=\"1\" class=\"dataframe\">\n",
       "  <thead>\n",
       "    <tr style=\"text-align: right;\">\n",
       "      <th></th>\n",
       "      <th>date</th>\n",
       "      <th>avg_well_depth</th>\n",
       "      <th>gage_ht</th>\n",
       "      <th>discharge_cfs</th>\n",
       "      <th>prcp</th>\n",
       "      <th>temp_avg</th>\n",
       "      <th>temp_max</th>\n",
       "      <th>temp_min</th>\n",
       "      <th>hPa_avg</th>\n",
       "      <th>hum_avg</th>\n",
       "      <th>hum_max</th>\n",
       "      <th>hum_min</th>\n",
       "      <th>wind_avg</th>\n",
       "      <th>wind_max</th>\n",
       "      <th>wind_min</th>\n",
       "      <th>gust_avg</th>\n",
       "      <th>gust_max</th>\n",
       "      <th>gust_min</th>\n",
       "    </tr>\n",
       "    <tr>\n",
       "      <th>date</th>\n",
       "      <th></th>\n",
       "      <th></th>\n",
       "      <th></th>\n",
       "      <th></th>\n",
       "      <th></th>\n",
       "      <th></th>\n",
       "      <th></th>\n",
       "      <th></th>\n",
       "      <th></th>\n",
       "      <th></th>\n",
       "      <th></th>\n",
       "      <th></th>\n",
       "      <th></th>\n",
       "      <th></th>\n",
       "      <th></th>\n",
       "      <th></th>\n",
       "      <th></th>\n",
       "      <th></th>\n",
       "    </tr>\n",
       "  </thead>\n",
       "  <tbody>\n",
       "    <tr>\n",
       "      <th>2006-02-07</th>\n",
       "      <td>2006-02-07</td>\n",
       "      <td>91.0100</td>\n",
       "      <td>21.65</td>\n",
       "      <td>9420.0</td>\n",
       "      <td>0.0</td>\n",
       "      <td>35.722500</td>\n",
       "      <td>46.31</td>\n",
       "      <td>28.26</td>\n",
       "      <td>1028.625000</td>\n",
       "      <td>76.375000</td>\n",
       "      <td>93.0</td>\n",
       "      <td>47.0</td>\n",
       "      <td>5.826667</td>\n",
       "      <td>10.29</td>\n",
       "      <td>3.36</td>\n",
       "      <td>0.000000</td>\n",
       "      <td>0.00</td>\n",
       "      <td>0.0</td>\n",
       "    </tr>\n",
       "    <tr>\n",
       "      <th>2006-02-08</th>\n",
       "      <td>2006-02-08</td>\n",
       "      <td>91.0429</td>\n",
       "      <td>21.64</td>\n",
       "      <td>9380.0</td>\n",
       "      <td>0.0</td>\n",
       "      <td>35.124167</td>\n",
       "      <td>42.46</td>\n",
       "      <td>28.72</td>\n",
       "      <td>1026.625000</td>\n",
       "      <td>84.416667</td>\n",
       "      <td>100.0</td>\n",
       "      <td>69.0</td>\n",
       "      <td>6.366250</td>\n",
       "      <td>11.41</td>\n",
       "      <td>3.36</td>\n",
       "      <td>0.000000</td>\n",
       "      <td>0.00</td>\n",
       "      <td>0.0</td>\n",
       "    </tr>\n",
       "    <tr>\n",
       "      <th>2006-02-09</th>\n",
       "      <td>2006-02-09</td>\n",
       "      <td>91.1096</td>\n",
       "      <td>21.58</td>\n",
       "      <td>9210.0</td>\n",
       "      <td>0.0</td>\n",
       "      <td>32.172500</td>\n",
       "      <td>43.05</td>\n",
       "      <td>24.44</td>\n",
       "      <td>1035.041667</td>\n",
       "      <td>64.541667</td>\n",
       "      <td>98.0</td>\n",
       "      <td>30.0</td>\n",
       "      <td>8.732917</td>\n",
       "      <td>13.87</td>\n",
       "      <td>5.82</td>\n",
       "      <td>0.717500</td>\n",
       "      <td>17.22</td>\n",
       "      <td>0.0</td>\n",
       "    </tr>\n",
       "    <tr>\n",
       "      <th>2006-02-10</th>\n",
       "      <td>2006-02-10</td>\n",
       "      <td>91.1954</td>\n",
       "      <td>21.46</td>\n",
       "      <td>8830.0</td>\n",
       "      <td>0.0</td>\n",
       "      <td>31.252083</td>\n",
       "      <td>42.04</td>\n",
       "      <td>24.33</td>\n",
       "      <td>1038.958333</td>\n",
       "      <td>56.250000</td>\n",
       "      <td>81.0</td>\n",
       "      <td>27.0</td>\n",
       "      <td>9.655417</td>\n",
       "      <td>16.11</td>\n",
       "      <td>5.82</td>\n",
       "      <td>0.000000</td>\n",
       "      <td>0.00</td>\n",
       "      <td>0.0</td>\n",
       "    </tr>\n",
       "    <tr>\n",
       "      <th>2006-02-11</th>\n",
       "      <td>2006-02-11</td>\n",
       "      <td>91.3012</td>\n",
       "      <td>21.36</td>\n",
       "      <td>8550.0</td>\n",
       "      <td>0.0</td>\n",
       "      <td>30.429583</td>\n",
       "      <td>42.46</td>\n",
       "      <td>21.51</td>\n",
       "      <td>1037.583333</td>\n",
       "      <td>61.708333</td>\n",
       "      <td>84.0</td>\n",
       "      <td>36.0</td>\n",
       "      <td>7.250417</td>\n",
       "      <td>10.29</td>\n",
       "      <td>3.36</td>\n",
       "      <td>0.000000</td>\n",
       "      <td>0.00</td>\n",
       "      <td>0.0</td>\n",
       "    </tr>\n",
       "    <tr>\n",
       "      <th>...</th>\n",
       "      <td>...</td>\n",
       "      <td>...</td>\n",
       "      <td>...</td>\n",
       "      <td>...</td>\n",
       "      <td>...</td>\n",
       "      <td>...</td>\n",
       "      <td>...</td>\n",
       "      <td>...</td>\n",
       "      <td>...</td>\n",
       "      <td>...</td>\n",
       "      <td>...</td>\n",
       "      <td>...</td>\n",
       "      <td>...</td>\n",
       "      <td>...</td>\n",
       "      <td>...</td>\n",
       "      <td>...</td>\n",
       "      <td>...</td>\n",
       "      <td>...</td>\n",
       "    </tr>\n",
       "    <tr>\n",
       "      <th>2018-06-02</th>\n",
       "      <td>2018-06-02</td>\n",
       "      <td>79.4696</td>\n",
       "      <td>21.84</td>\n",
       "      <td>10000.0</td>\n",
       "      <td>0.0</td>\n",
       "      <td>62.812083</td>\n",
       "      <td>77.25</td>\n",
       "      <td>46.35</td>\n",
       "      <td>1022.750000</td>\n",
       "      <td>48.333333</td>\n",
       "      <td>83.0</td>\n",
       "      <td>24.0</td>\n",
       "      <td>6.976250</td>\n",
       "      <td>11.50</td>\n",
       "      <td>3.44</td>\n",
       "      <td>0.000000</td>\n",
       "      <td>0.00</td>\n",
       "      <td>0.0</td>\n",
       "    </tr>\n",
       "    <tr>\n",
       "      <th>2018-06-03</th>\n",
       "      <td>2018-06-03</td>\n",
       "      <td>80.0721</td>\n",
       "      <td>21.59</td>\n",
       "      <td>9240.0</td>\n",
       "      <td>0.0</td>\n",
       "      <td>69.826250</td>\n",
       "      <td>86.25</td>\n",
       "      <td>52.66</td>\n",
       "      <td>1013.875000</td>\n",
       "      <td>46.416667</td>\n",
       "      <td>79.0</td>\n",
       "      <td>23.0</td>\n",
       "      <td>10.141667</td>\n",
       "      <td>21.92</td>\n",
       "      <td>3.44</td>\n",
       "      <td>3.165833</td>\n",
       "      <td>29.97</td>\n",
       "      <td>0.0</td>\n",
       "    </tr>\n",
       "    <tr>\n",
       "      <th>2018-06-04</th>\n",
       "      <td>2018-06-04</td>\n",
       "      <td>80.4046</td>\n",
       "      <td>21.50</td>\n",
       "      <td>8970.0</td>\n",
       "      <td>0.0</td>\n",
       "      <td>62.956250</td>\n",
       "      <td>71.67</td>\n",
       "      <td>56.35</td>\n",
       "      <td>1012.833333</td>\n",
       "      <td>41.666667</td>\n",
       "      <td>65.0</td>\n",
       "      <td>18.0</td>\n",
       "      <td>14.850000</td>\n",
       "      <td>23.04</td>\n",
       "      <td>8.05</td>\n",
       "      <td>4.030417</td>\n",
       "      <td>28.77</td>\n",
       "      <td>0.0</td>\n",
       "    </tr>\n",
       "    <tr>\n",
       "      <th>2018-06-05</th>\n",
       "      <td>2018-06-05</td>\n",
       "      <td>80.6565</td>\n",
       "      <td>21.45</td>\n",
       "      <td>8800.0</td>\n",
       "      <td>0.0</td>\n",
       "      <td>60.617500</td>\n",
       "      <td>71.04</td>\n",
       "      <td>47.41</td>\n",
       "      <td>1013.958333</td>\n",
       "      <td>39.166667</td>\n",
       "      <td>68.0</td>\n",
       "      <td>20.0</td>\n",
       "      <td>10.478333</td>\n",
       "      <td>17.27</td>\n",
       "      <td>4.70</td>\n",
       "      <td>2.880000</td>\n",
       "      <td>24.16</td>\n",
       "      <td>0.0</td>\n",
       "    </tr>\n",
       "    <tr>\n",
       "      <th>2018-06-06</th>\n",
       "      <td>2018-06-06</td>\n",
       "      <td>80.8423</td>\n",
       "      <td>21.42</td>\n",
       "      <td>8710.0</td>\n",
       "      <td>0.0</td>\n",
       "      <td>64.216250</td>\n",
       "      <td>78.35</td>\n",
       "      <td>47.19</td>\n",
       "      <td>1013.083333</td>\n",
       "      <td>39.000000</td>\n",
       "      <td>68.0</td>\n",
       "      <td>19.0</td>\n",
       "      <td>5.888750</td>\n",
       "      <td>9.22</td>\n",
       "      <td>3.44</td>\n",
       "      <td>0.000000</td>\n",
       "      <td>0.00</td>\n",
       "      <td>0.0</td>\n",
       "    </tr>\n",
       "  </tbody>\n",
       "</table>\n",
       "<p>4503 rows × 18 columns</p>\n",
       "</div>"
      ],
      "text/plain": [
       "                 date  avg_well_depth  gage_ht  discharge_cfs  prcp  \\\n",
       "date                                                                  \n",
       "2006-02-07 2006-02-07         91.0100    21.65         9420.0   0.0   \n",
       "2006-02-08 2006-02-08         91.0429    21.64         9380.0   0.0   \n",
       "2006-02-09 2006-02-09         91.1096    21.58         9210.0   0.0   \n",
       "2006-02-10 2006-02-10         91.1954    21.46         8830.0   0.0   \n",
       "2006-02-11 2006-02-11         91.3012    21.36         8550.0   0.0   \n",
       "...               ...             ...      ...            ...   ...   \n",
       "2018-06-02 2018-06-02         79.4696    21.84        10000.0   0.0   \n",
       "2018-06-03 2018-06-03         80.0721    21.59         9240.0   0.0   \n",
       "2018-06-04 2018-06-04         80.4046    21.50         8970.0   0.0   \n",
       "2018-06-05 2018-06-05         80.6565    21.45         8800.0   0.0   \n",
       "2018-06-06 2018-06-06         80.8423    21.42         8710.0   0.0   \n",
       "\n",
       "             temp_avg  temp_max  temp_min      hPa_avg    hum_avg  hum_max  \\\n",
       "date                                                                         \n",
       "2006-02-07  35.722500     46.31     28.26  1028.625000  76.375000     93.0   \n",
       "2006-02-08  35.124167     42.46     28.72  1026.625000  84.416667    100.0   \n",
       "2006-02-09  32.172500     43.05     24.44  1035.041667  64.541667     98.0   \n",
       "2006-02-10  31.252083     42.04     24.33  1038.958333  56.250000     81.0   \n",
       "2006-02-11  30.429583     42.46     21.51  1037.583333  61.708333     84.0   \n",
       "...               ...       ...       ...          ...        ...      ...   \n",
       "2018-06-02  62.812083     77.25     46.35  1022.750000  48.333333     83.0   \n",
       "2018-06-03  69.826250     86.25     52.66  1013.875000  46.416667     79.0   \n",
       "2018-06-04  62.956250     71.67     56.35  1012.833333  41.666667     65.0   \n",
       "2018-06-05  60.617500     71.04     47.41  1013.958333  39.166667     68.0   \n",
       "2018-06-06  64.216250     78.35     47.19  1013.083333  39.000000     68.0   \n",
       "\n",
       "            hum_min   wind_avg  wind_max  wind_min  gust_avg  gust_max  \\\n",
       "date                                                                     \n",
       "2006-02-07     47.0   5.826667     10.29      3.36  0.000000      0.00   \n",
       "2006-02-08     69.0   6.366250     11.41      3.36  0.000000      0.00   \n",
       "2006-02-09     30.0   8.732917     13.87      5.82  0.717500     17.22   \n",
       "2006-02-10     27.0   9.655417     16.11      5.82  0.000000      0.00   \n",
       "2006-02-11     36.0   7.250417     10.29      3.36  0.000000      0.00   \n",
       "...             ...        ...       ...       ...       ...       ...   \n",
       "2018-06-02     24.0   6.976250     11.50      3.44  0.000000      0.00   \n",
       "2018-06-03     23.0  10.141667     21.92      3.44  3.165833     29.97   \n",
       "2018-06-04     18.0  14.850000     23.04      8.05  4.030417     28.77   \n",
       "2018-06-05     20.0  10.478333     17.27      4.70  2.880000     24.16   \n",
       "2018-06-06     19.0   5.888750      9.22      3.44  0.000000      0.00   \n",
       "\n",
       "            gust_min  \n",
       "date                  \n",
       "2006-02-07       0.0  \n",
       "2006-02-08       0.0  \n",
       "2006-02-09       0.0  \n",
       "2006-02-10       0.0  \n",
       "2006-02-11       0.0  \n",
       "...              ...  \n",
       "2018-06-02       0.0  \n",
       "2018-06-03       0.0  \n",
       "2018-06-04       0.0  \n",
       "2018-06-05       0.0  \n",
       "2018-06-06       0.0  \n",
       "\n",
       "[4503 rows x 18 columns]"
      ]
     },
     "execution_count": 3,
     "metadata": {},
     "output_type": "execute_result"
    }
   ],
   "source": [
    "df.index = df.date\n",
    "df"
   ]
  },
  {
   "cell_type": "code",
   "execution_count": 4,
   "id": "b8bd7cf4",
   "metadata": {},
   "outputs": [
    {
     "data": {
      "text/plain": [
       "DatetimeIndex(['2006-02-07', '2006-02-08', '2006-02-09', '2006-02-10',\n",
       "               '2006-02-11', '2006-02-12', '2006-02-13', '2006-02-14',\n",
       "               '2006-02-15', '2006-02-16',\n",
       "               ...\n",
       "               '2018-05-28', '2018-05-29', '2018-05-30', '2018-05-31',\n",
       "               '2018-06-01', '2018-06-02', '2018-06-03', '2018-06-04',\n",
       "               '2018-06-05', '2018-06-06'],\n",
       "              dtype='datetime64[ns]', name='date', length=4503, freq=None)"
      ]
     },
     "execution_count": 4,
     "metadata": {},
     "output_type": "execute_result"
    }
   ],
   "source": [
    "df.index"
   ]
  },
  {
   "cell_type": "code",
   "execution_count": 5,
   "id": "c9df68a7",
   "metadata": {},
   "outputs": [
    {
     "data": {
      "text/plain": [
       "date\n",
       "2006-02-07    91.0100\n",
       "2006-02-08    91.0429\n",
       "2006-02-09    91.1096\n",
       "2006-02-10    91.1954\n",
       "2006-02-11    91.3012\n",
       "               ...   \n",
       "2018-06-02    79.4696\n",
       "2018-06-03    80.0721\n",
       "2018-06-04    80.4046\n",
       "2018-06-05    80.6565\n",
       "2018-06-06    80.8423\n",
       "Name: avg_well_depth, Length: 4503, dtype: float64"
      ]
     },
     "metadata": {},
     "output_type": "display_data"
    },
    {
     "data": {
      "text/plain": [
       "<Axes: xlabel='date'>"
      ]
     },
     "execution_count": 5,
     "metadata": {},
     "output_type": "execute_result"
    },
    {
     "data": {
      "image/png": "[encoded data removed]",
      "text/plain": [
       "<Figure size 432x288 with 1 Axes>"
      ]
     },
     "metadata": {
      "needs_background": "light"
     },
     "output_type": "display_data"
    }
   ],
   "source": [
    "well = df.avg_well_depth\n",
    "display(well)\n",
    "well.plot()"
   ]
  },
  {
   "cell_type": "code",
   "execution_count": 6,
   "id": "f82803f2",
   "metadata": {},
   "outputs": [],
   "source": [
    "def df_to_X_y(df, window_size=5):\n",
    "    df_as_np = df.to_numpy()\n",
    "    X = []\n",
    "    y = []\n",
    "    for i in range(len(df_as_np)-window_size):\n",
    "        row = [[a] for a in df_as_np[i:i+window_size]]\n",
    "        X.append(row)\n",
    "        label = df_as_np[i+window_size]\n",
    "        y.append(label)\n",
    "    return np.array(X), np.array(y)"
   ]
  },
  {
   "cell_type": "code",
   "execution_count": 7,
   "id": "8586027c",
   "metadata": {},
   "outputs": [
    {
     "data": {
      "text/plain": [
       "((4498, 5, 1), (4498,))"
      ]
     },
     "execution_count": 7,
     "metadata": {},
     "output_type": "execute_result"
    }
   ],
   "source": [
    "WINDOW_SIZE = 5\n",
    "X, y = df_to_X_y(well, WINDOW_SIZE)\n",
    "X.shape, y.shape"
   ]
  },
  {
   "cell_type": "code",
   "execution_count": 8,
   "id": "ba5e72ad",
   "metadata": {},
   "outputs": [
    {
     "data": {
      "text/plain": [
       "(array([[[91.01  ],\n",
       "         [91.0429],\n",
       "         [91.1096],\n",
       "         [91.1954],\n",
       "         [91.3012]],\n",
       " \n",
       "        [[91.0429],\n",
       "         [91.1096],\n",
       "         [91.1954],\n",
       "         [91.3012],\n",
       "         [91.4004]],\n",
       " \n",
       "        [[91.1096],\n",
       "         [91.1954],\n",
       "         [91.3012],\n",
       "         [91.4004],\n",
       "         [91.5129]],\n",
       " \n",
       "        ...,\n",
       " \n",
       "        [[79.1739],\n",
       "         [79.3908],\n",
       "         [79.2675],\n",
       "         [79.4696],\n",
       "         [80.0721]],\n",
       " \n",
       "        [[79.3908],\n",
       "         [79.2675],\n",
       "         [79.4696],\n",
       "         [80.0721],\n",
       "         [80.4046]],\n",
       " \n",
       "        [[79.2675],\n",
       "         [79.4696],\n",
       "         [80.0721],\n",
       "         [80.4046],\n",
       "         [80.6565]]]),\n",
       " array([91.4004, 91.5129, 91.6071, ..., 80.4046, 80.6565, 80.8423]))"
      ]
     },
     "execution_count": 8,
     "metadata": {},
     "output_type": "execute_result"
    }
   ],
   "source": [
    "X ,y"
   ]
  },
  {
   "cell_type": "markdown",
   "id": "0a89b151",
   "metadata": {},
   "source": [
    "### Train Test Split"
   ]
  },
  {
   "cell_type": "code",
   "execution_count": 9,
   "id": "b95c58bf",
   "metadata": {},
   "outputs": [
    {
     "data": {
      "text/plain": [
       "((3498, 5, 1), (3498,), (500, 5, 1), (500,), (500, 5, 1), (500,))"
      ]
     },
     "execution_count": 9,
     "metadata": {},
     "output_type": "execute_result"
    }
   ],
   "source": [
    "X_train, y_train = X[:3498], y[:3498]\n",
    "X_val, y_val = X[3498:3998], y[3498:3998]\n",
    "X_test, y_test = X[3998:], y[3998:]\n",
    "X_train.shape, y_train.shape, X_val.shape, y_val.shape, X_test.shape, y_test.shape"
   ]
  },
  {
   "cell_type": "code",
   "execution_count": 10,
   "id": "fd200b6a",
   "metadata": {},
   "outputs": [
    {
     "data": {
      "text/plain": [
       "(array([[[91.0012],\n",
       "         [91.105 ],\n",
       "         [91.2146],\n",
       "         [91.3029],\n",
       "         [91.3988]],\n",
       " \n",
       "        [[91.105 ],\n",
       "         [91.2146],\n",
       "         [91.3029],\n",
       "         [91.3988],\n",
       "         [91.4921]],\n",
       " \n",
       "        [[91.2146],\n",
       "         [91.3029],\n",
       "         [91.3988],\n",
       "         [91.4921],\n",
       "         [91.5775]],\n",
       " \n",
       "        ...,\n",
       " \n",
       "        [[79.1739],\n",
       "         [79.3908],\n",
       "         [79.2675],\n",
       "         [79.4696],\n",
       "         [80.0721]],\n",
       " \n",
       "        [[79.3908],\n",
       "         [79.2675],\n",
       "         [79.4696],\n",
       "         [80.0721],\n",
       "         [80.4046]],\n",
       " \n",
       "        [[79.2675],\n",
       "         [79.4696],\n",
       "         [80.0721],\n",
       "         [80.4046],\n",
       "         [80.6565]]]),\n",
       " array([91.4921, 91.5775, 91.6546, 91.7333, 91.7912, 91.8383, 91.8842,\n",
       "        91.9296, 91.9733, 92.0188, 92.0717, 92.1329, 92.1896, 92.2638,\n",
       "        92.305 , 92.3433, 92.3467, 92.3033, 92.2133, 92.06  , 91.7813,\n",
       "        91.4367, 91.1142, 90.8208, 90.5392, 90.2346, 89.8329, 89.3754,\n",
       "        88.9079, 88.4587, 88.0108, 87.5787, 87.1775, 86.8167, 86.49  ,\n",
       "        86.2283, 86.0208, 85.85  , 85.7267, 85.62  , 85.5525, 85.5167,\n",
       "        85.5142, 85.5333, 85.57  , 85.6146, 85.655 , 85.6875, 85.6763,\n",
       "        85.6221, 85.5237, 85.3571, 85.0529, 84.4987, 83.6975, 82.8321,\n",
       "        81.8896, 80.8958, 79.9858, 79.1913, 78.5012, 77.9125, 77.3892,\n",
       "        76.9558, 76.5937, 76.2646, 76.0004, 75.7833, 75.555 , 75.3758,\n",
       "        75.2442, 75.1642, 75.1425, 75.1796, 75.2487, 75.3804, 75.5054,\n",
       "        75.6108, 75.7271, 75.825 , 75.9517, 76.0992, 76.2587, 76.4158,\n",
       "        76.5587, 76.7321, 76.9054, 77.0733, 77.2537, 77.3867, 77.5171,\n",
       "        77.6358, 77.7667, 77.8767, 77.9892, 78.1062, 78.2054, 78.2825,\n",
       "        78.3708, 78.4558, 78.5425, 78.5896, 78.7375, 78.645 , 78.6196,\n",
       "        78.5971, 78.7361, 78.8475, 78.9154, 78.8439, 78.8854, 78.8348,\n",
       "        78.9179, 79.1629, 78.8913, 78.7238, 78.7909, 78.8125, 78.7583,\n",
       "        78.8717, 79.1808, 79.4291, 79.3846, 79.3083, 79.1691, 79.2021,\n",
       "        79.3961, 79.7113, 79.9125, 79.9909, 79.9221, 80.1263, 80.1322,\n",
       "        80.025 , 80.2461, 80.635 , 80.8658, 80.9139, 81.0671, 81.0948,\n",
       "        81.4267, 81.5179, 81.543 , 81.7833, 81.9761, 81.9896, 82.1246,\n",
       "        82.3361, 82.5933, 82.6448, 82.6525, 82.7608, 82.9248, 83.2188,\n",
       "        83.5604, 83.6971, 83.8046, 83.697 , 83.8629, 84.1248, 84.2325,\n",
       "        84.2879, 84.4035, 84.5025, 84.5329, 84.6791, 84.8267, 85.0339,\n",
       "        85.2129, 85.2621, 85.4052, 85.5146, 85.5522, 85.7283, 85.7483,\n",
       "        85.8957, 86.0125, 86.1243, 86.2025, 86.2208, 86.2835, 86.5908,\n",
       "        86.6987, 86.7487, 86.8367, 86.9687, 87.0625, 87.0913, 87.0675,\n",
       "        87.1079, 87.27  , 87.4083, 87.595 , 87.8717, 87.89  , 87.8796,\n",
       "        87.9413, 88.0354, 88.1065, 88.1696, 88.3039, 88.4158, 88.4317,\n",
       "        88.4743, 88.5175, 88.4943, 88.4708, 88.5504, 88.5739, 88.5712,\n",
       "        88.5509, 88.6867, 88.7933, 88.897 , 88.8096, 88.6887, 88.7813,\n",
       "        88.9554, 89.1157, 89.2046, 89.0983, 89.0487, 89.1571, 89.1743,\n",
       "        89.0987, 89.1587, 89.2443, 89.3558, 89.3387, 89.2437, 89.0158,\n",
       "        89.0561, 89.3029, 89.4161, 89.3187, 89.1196, 89.1113, 89.3567,\n",
       "        89.5261, 89.4788, 89.3867, 88.9887, 88.7396, 88.5326, 88.4204,\n",
       "        88.355 , 88.1739, 88.0896, 88.1378, 88.2854, 88.3308, 88.3935,\n",
       "        88.3104, 88.1392, 88.2574, 88.2175, 88.4291, 88.5908, 88.2688,\n",
       "        88.0857, 88.4567, 88.41  , 88.2683, 88.1967, 87.8113, 87.8779,\n",
       "        88.0435, 88.3004, 88.3517, 88.6261, 88.5058, 88.1204, 87.9471,\n",
       "        87.2471, 87.3326, 87.8358, 87.6635, 87.6358, 87.8496, 87.9109,\n",
       "        87.7971, 88.0926, 88.3175, 88.1929, 88.0652, 88.0129, 88.0679,\n",
       "        87.6735, 87.5729, 87.8583, 88.1167, 88.0633, 87.8609, 87.9471,\n",
       "        88.1409, 87.9833, 88.3788, 88.5939, 88.3012, 87.9904, 88.3904,\n",
       "        88.6013, 88.1848, 88.1979, 88.4609, 88.1733, 88.1142, 88.5096,\n",
       "        88.2175, 88.1013, 87.8171, 87.9421, 87.9661, 87.9846, 87.8675,\n",
       "        87.2865, 86.9883, 86.7678, 86.7333, 86.76  , 86.76  , 86.7429,\n",
       "        86.7813, 86.8167, 86.8646, 86.887 , 87.1975, 87.1126, 87.2179,\n",
       "        87.3375, 87.5248, 87.1975, 86.8361, 86.9171, 86.6067, 86.6374,\n",
       "        86.7613, 86.6726, 86.8458, 87.0875, 87.3648, 87.3487, 87.1035,\n",
       "        87.0321, 87.0213, 87.2978, 87.4967, 87.6242, 87.6848, 87.7662,\n",
       "        88.0887, 88.39  , 88.0933, 87.9887, 87.5962, 87.2848, 87.1529,\n",
       "        87.1483, 86.9874, 86.9529, 87.1383, 86.9429, 86.6308, 86.4357,\n",
       "        86.155 , 86.0374, 86.2754, 86.2192, 85.7817, 85.6554, 85.2609,\n",
       "        85.5058, 85.6012, 85.3965, 85.3275, 85.41  , 85.4317, 85.5121,\n",
       "        85.4061, 85.0246, 84.6792, 84.6122, 84.1567, 83.7839, 83.845 ,\n",
       "        83.33  , 83.1826, 83.35  , 82.8974, 83.0442, 83.4463, 83.5048,\n",
       "        83.2113, 83.1183, 83.2012, 83.4088, 83.4691, 83.9637, 84.3509,\n",
       "        84.2933, 84.4429, 84.7491, 85.2142, 85.4026, 85.3325, 85.3171,\n",
       "        85.3487, 85.4933, 85.87  , 86.3535, 86.4867, 86.3009, 86.3383,\n",
       "        86.4679, 86.8917, 87.085 , 87.1609, 87.2104, 87.3017, 87.0809,\n",
       "        86.9883, 87.147 , 87.3737, 87.5388, 87.3035, 87.4221, 87.2035,\n",
       "        86.9521, 86.9646, 86.8991, 86.8346, 87.0074, 86.8583, 87.1737,\n",
       "        87.1235, 86.9212, 86.9083, 86.9887, 87.0687, 87.4174, 87.0675,\n",
       "        86.6287, 86.8117, 86.8008, 86.653 , 85.865 , 85.6958, 85.8222,\n",
       "        85.6508, 84.9961, 84.4771, 84.2092, 83.8535, 83.5558, 83.2165,\n",
       "        82.9054, 82.745 , 82.7683, 82.6346, 82.7987, 82.6446, 82.4892,\n",
       "        82.2426, 82.1   , 81.8557, 81.6267, 81.4596, 81.3613, 81.37  ,\n",
       "        81.0892, 81.0017, 80.8725, 80.5696, 80.1608, 79.8904, 79.6604,\n",
       "        79.3962, 79.2965, 79.125 , 78.9146, 78.6865, 78.5917, 78.6152,\n",
       "        78.5704, 78.6158, 78.7326, 78.6242, 78.7304, 78.7079, 78.6183,\n",
       "        78.8   , 78.9887, 79.1739, 79.3908, 79.2675, 79.4696, 80.0721,\n",
       "        80.4046, 80.6565, 80.8423]))"
      ]
     },
     "execution_count": 10,
     "metadata": {},
     "output_type": "execute_result"
    }
   ],
   "source": [
    "X_test, y_test"
   ]
  },
  {
   "cell_type": "markdown",
   "id": "cdbb1082",
   "metadata": {},
   "source": [
    "### Tensorflow things"
   ]
  },
  {
   "cell_type": "code",
   "execution_count": 11,
   "id": "2dcb64f0",
   "metadata": {},
   "outputs": [],
   "source": [
    "from tensorflow.keras.models import Sequential\n",
    "from tensorflow.keras.layers import *\n",
    "from tensorflow.keras.callbacks import ModelCheckpoint\n",
    "from tensorflow.keras.losses import MeanSquaredError\n",
    "from tensorflow.keras.metrics import RootMeanSquaredError\n",
    "from tensorflow.keras.optimizers import Adam\n",
    "\n",
    "from tensorflow.keras.models import load_model"
   ]
  },
  {
   "cell_type": "markdown",
   "id": "bed17834",
   "metadata": {},
   "source": [
    "## Build LSTM single variable model"
   ]
  },
  {
   "cell_type": "code",
   "execution_count": 12,
   "id": "0cb5d365",
   "metadata": {},
   "outputs": [
    {
     "name": "stderr",
     "output_type": "stream",
     "text": [
      "2023-11-14 13:08:02.859405: I tensorflow/compiler/xla/stream_executor/cuda/cuda_gpu_executor.cc:894] successful NUMA node read from SysFS had negative value (-1), but there must be at least one NUMA node, so returning NUMA node zero. See more at https://github.com/torvalds/linux/blob/v6.0/Documentation/ABI/testing/sysfs-bus-pci#L344-L355\n",
      "2023-11-14 13:08:02.861198: W tensorflow/core/common_runtime/gpu/gpu_device.cc:2211] Cannot dlopen some GPU libraries. Please make sure the missing libraries mentioned above are installed properly if you would like to use GPU. Follow the guide at https://www.tensorflow.org/install/gpu for how to download and setup the required libraries for your platform.\n",
      "Skipping registering GPU devices...\n"
     ]
    },
    {
     "name": "stdout",
     "output_type": "stream",
     "text": [
      "Model: \"sequential\"\n",
      "_________________________________________________________________\n",
      " Layer (type)                Output Shape              Param #   \n",
      "=================================================================\n",
      " lstm (LSTM)                 (None, 64)                16896     \n",
      "                                                                 \n",
      " dense (Dense)               (None, 8)                 520       \n",
      "                                                                 \n",
      " dense_1 (Dense)             (None, 1)                 9         \n",
      "                                                                 \n",
      "=================================================================\n",
      "Total params: 17425 (68.07 KB)\n",
      "Trainable params: 17425 (68.07 KB)\n",
      "Non-trainable params: 0 (0.00 Byte)\n",
      "_________________________________________________________________\n"
     ]
    }
   ],
   "source": [
    "model1 = Sequential()\n",
    "model1.add(InputLayer((5,1)))\n",
    "model1.add(LSTM(64))\n",
    "model1.add(Dense(8, 'relu'))\n",
    "model1.add(Dense(1, 'linear'))\n",
    "\n",
    "model1.summary()"
   ]
  },
  {
   "cell_type": "code",
   "execution_count": 13,
   "id": "1658d04a",
   "metadata": {},
   "outputs": [],
   "source": [
    "cp = ModelCheckpoint('meremodel1/', save_best_only=True)\n",
    "# the above makes a folder that our gitignore should exclude\n",
    "\n",
    "model1.compile(loss=MeanSquaredError(), optimizer=Adam(learning_rate=0.001), metrics=[RootMeanSquaredError()])"
   ]
  },
  {
   "cell_type": "code",
   "execution_count": 14,
   "id": "30209113",
   "metadata": {},
   "outputs": [
    {
     "name": "stdout",
     "output_type": "stream",
     "text": [
      "Epoch 1/50\n",
      "101/110 [==========================>...] - ETA: 0s - loss: 6861.6367 - root_mean_squared_error: 82.8350INFO:tensorflow:Assets written to: meremodel1/assets\n"
     ]
    },
    {
     "name": "stderr",
     "output_type": "stream",
     "text": [
      "INFO:tensorflow:Assets written to: meremodel1/assets\n"
     ]
    },
    {
     "name": "stdout",
     "output_type": "stream",
     "text": [
      "110/110 [==============================] - 4s 24ms/step - loss: 6734.9087 - root_mean_squared_error: 82.0665 - val_loss: 5082.1763 - val_root_mean_squared_error: 71.2894\n",
      "Epoch 2/50\n",
      " 99/110 [==========================>...] - ETA: 0s - loss: 3597.9641 - root_mean_squared_error: 59.9830INFO:tensorflow:Assets written to: meremodel1/assets\n"
     ]
    },
    {
     "name": "stderr",
     "output_type": "stream",
     "text": [
      "INFO:tensorflow:Assets written to: meremodel1/assets\n"
     ]
    },
    {
     "name": "stdout",
     "output_type": "stream",
     "text": [
      "110/110 [==============================] - 2s 18ms/step - loss: 3463.3840 - root_mean_squared_error: 58.8505 - val_loss: 2054.6555 - val_root_mean_squared_error: 45.3283\n",
      "Epoch 3/50\n",
      " 95/110 [========================>.....] - ETA: 0s - loss: 1245.6736 - root_mean_squared_error: 35.2941INFO:tensorflow:Assets written to: meremodel1/assets\n"
     ]
    },
    {
     "name": "stderr",
     "output_type": "stream",
     "text": [
      "INFO:tensorflow:Assets written to: meremodel1/assets\n"
     ]
    },
    {
     "name": "stdout",
     "output_type": "stream",
     "text": [
      "110/110 [==============================] - 2s 19ms/step - loss: 1159.8573 - root_mean_squared_error: 34.0567 - val_loss: 527.4201 - val_root_mean_squared_error: 22.9656\n",
      "Epoch 4/50\n",
      "101/110 [==========================>...] - ETA: 0s - loss: 258.0944 - root_mean_squared_error: 16.0653INFO:tensorflow:Assets written to: meremodel1/assets\n"
     ]
    },
    {
     "name": "stderr",
     "output_type": "stream",
     "text": [
      "INFO:tensorflow:Assets written to: meremodel1/assets\n"
     ]
    },
    {
     "name": "stdout",
     "output_type": "stream",
     "text": [
      "110/110 [==============================] - 2s 17ms/step - loss: 245.3430 - root_mean_squared_error: 15.6634 - val_loss: 82.3528 - val_root_mean_squared_error: 9.0748\n",
      "Epoch 5/50\n",
      "101/110 [==========================>...] - ETA: 0s - loss: 39.4778 - root_mean_squared_error: 6.2831INFO:tensorflow:Assets written to: meremodel1/assets\n"
     ]
    },
    {
     "name": "stderr",
     "output_type": "stream",
     "text": [
      "INFO:tensorflow:Assets written to: meremodel1/assets\n"
     ]
    },
    {
     "name": "stdout",
     "output_type": "stream",
     "text": [
      "110/110 [==============================] - 2s 18ms/step - loss: 37.7754 - root_mean_squared_error: 6.1462 - val_loss: 14.2322 - val_root_mean_squared_error: 3.7726\n",
      "Epoch 6/50\n",
      "101/110 [==========================>...] - ETA: 0s - loss: 13.6899 - root_mean_squared_error: 3.7000INFO:tensorflow:Assets written to: meremodel1/assets\n"
     ]
    },
    {
     "name": "stderr",
     "output_type": "stream",
     "text": [
      "INFO:tensorflow:Assets written to: meremodel1/assets\n"
     ]
    },
    {
     "name": "stdout",
     "output_type": "stream",
     "text": [
      "110/110 [==============================] - 2s 19ms/step - loss: 13.6839 - root_mean_squared_error: 3.6992 - val_loss: 8.3653 - val_root_mean_squared_error: 2.8923\n",
      "Epoch 7/50\n",
      " 98/110 [=========================>....] - ETA: 0s - loss: 11.8690 - root_mean_squared_error: 3.4451INFO:tensorflow:Assets written to: meremodel1/assets\n"
     ]
    },
    {
     "name": "stderr",
     "output_type": "stream",
     "text": [
      "INFO:tensorflow:Assets written to: meremodel1/assets\n"
     ]
    },
    {
     "name": "stdout",
     "output_type": "stream",
     "text": [
      "110/110 [==============================] - 2s 18ms/step - loss: 12.1246 - root_mean_squared_error: 3.4820 - val_loss: 7.8335 - val_root_mean_squared_error: 2.7988\n",
      "Epoch 8/50\n",
      " 98/110 [=========================>....] - ETA: 0s - loss: 11.2385 - root_mean_squared_error: 3.3524INFO:tensorflow:Assets written to: meremodel1/assets\n"
     ]
    },
    {
     "name": "stderr",
     "output_type": "stream",
     "text": [
      "INFO:tensorflow:Assets written to: meremodel1/assets\n"
     ]
    },
    {
     "name": "stdout",
     "output_type": "stream",
     "text": [
      "110/110 [==============================] - 2s 19ms/step - loss: 11.2869 - root_mean_squared_error: 3.3596 - val_loss: 7.0996 - val_root_mean_squared_error: 2.6645\n",
      "Epoch 9/50\n",
      "100/110 [==========================>...] - ETA: 0s - loss: 9.8330 - root_mean_squared_error: 3.1358INFO:tensorflow:Assets written to: meremodel1/assets\n"
     ]
    },
    {
     "name": "stderr",
     "output_type": "stream",
     "text": [
      "INFO:tensorflow:Assets written to: meremodel1/assets\n"
     ]
    },
    {
     "name": "stdout",
     "output_type": "stream",
     "text": [
      "110/110 [==============================] - 2s 18ms/step - loss: 9.8566 - root_mean_squared_error: 3.1395 - val_loss: 6.7238 - val_root_mean_squared_error: 2.5930\n",
      "Epoch 10/50\n",
      " 99/110 [==========================>...] - ETA: 0s - loss: 8.1839 - root_mean_squared_error: 2.8608INFO:tensorflow:Assets written to: meremodel1/assets\n"
     ]
    },
    {
     "name": "stderr",
     "output_type": "stream",
     "text": [
      "INFO:tensorflow:Assets written to: meremodel1/assets\n"
     ]
    },
    {
     "name": "stdout",
     "output_type": "stream",
     "text": [
      "110/110 [==============================] - 2s 18ms/step - loss: 8.1606 - root_mean_squared_error: 2.8567 - val_loss: 5.4964 - val_root_mean_squared_error: 2.3444\n",
      "Epoch 11/50\n",
      " 98/110 [=========================>....] - ETA: 0s - loss: 6.7850 - root_mean_squared_error: 2.6048INFO:tensorflow:Assets written to: meremodel1/assets\n"
     ]
    },
    {
     "name": "stderr",
     "output_type": "stream",
     "text": [
      "INFO:tensorflow:Assets written to: meremodel1/assets\n"
     ]
    },
    {
     "name": "stdout",
     "output_type": "stream",
     "text": [
      "110/110 [==============================] - 2s 20ms/step - loss: 6.7093 - root_mean_squared_error: 2.5902 - val_loss: 4.2155 - val_root_mean_squared_error: 2.0532\n",
      "Epoch 12/50\n",
      " 97/110 [=========================>....] - ETA: 0s - loss: 5.1044 - root_mean_squared_error: 2.2593INFO:tensorflow:Assets written to: meremodel1/assets\n"
     ]
    },
    {
     "name": "stderr",
     "output_type": "stream",
     "text": [
      "INFO:tensorflow:Assets written to: meremodel1/assets\n"
     ]
    },
    {
     "name": "stdout",
     "output_type": "stream",
     "text": [
      "110/110 [==============================] - 2s 18ms/step - loss: 5.0301 - root_mean_squared_error: 2.2428 - val_loss: 3.0419 - val_root_mean_squared_error: 1.7441\n",
      "Epoch 13/50\n",
      "100/110 [==========================>...] - ETA: 0s - loss: 3.5267 - root_mean_squared_error: 1.8780INFO:tensorflow:Assets written to: meremodel1/assets\n"
     ]
    },
    {
     "name": "stderr",
     "output_type": "stream",
     "text": [
      "INFO:tensorflow:Assets written to: meremodel1/assets\n"
     ]
    },
    {
     "name": "stdout",
     "output_type": "stream",
     "text": [
      "110/110 [==============================] - 2s 17ms/step - loss: 3.4702 - root_mean_squared_error: 1.8628 - val_loss: 1.9440 - val_root_mean_squared_error: 1.3943\n",
      "Epoch 14/50\n",
      "100/110 [==========================>...] - ETA: 0s - loss: 1.8315 - root_mean_squared_error: 1.3533INFO:tensorflow:Assets written to: meremodel1/assets\n"
     ]
    },
    {
     "name": "stderr",
     "output_type": "stream",
     "text": [
      "INFO:tensorflow:Assets written to: meremodel1/assets\n"
     ]
    },
    {
     "name": "stdout",
     "output_type": "stream",
     "text": [
      "110/110 [==============================] - 2s 19ms/step - loss: 1.7558 - root_mean_squared_error: 1.3251 - val_loss: 0.9600 - val_root_mean_squared_error: 0.9798\n",
      "Epoch 15/50\n",
      " 99/110 [==========================>...] - ETA: 0s - loss: 0.6823 - root_mean_squared_error: 0.8260INFO:tensorflow:Assets written to: meremodel1/assets\n"
     ]
    },
    {
     "name": "stderr",
     "output_type": "stream",
     "text": [
      "INFO:tensorflow:Assets written to: meremodel1/assets\n"
     ]
    },
    {
     "name": "stdout",
     "output_type": "stream",
     "text": [
      "110/110 [==============================] - 2s 17ms/step - loss: 0.6581 - root_mean_squared_error: 0.8113 - val_loss: 0.3519 - val_root_mean_squared_error: 0.5932\n",
      "Epoch 16/50\n",
      " 99/110 [==========================>...] - ETA: 0s - loss: 0.4006 - root_mean_squared_error: 0.6329INFO:tensorflow:Assets written to: meremodel1/assets\n"
     ]
    },
    {
     "name": "stderr",
     "output_type": "stream",
     "text": [
      "INFO:tensorflow:Assets written to: meremodel1/assets\n"
     ]
    },
    {
     "name": "stdout",
     "output_type": "stream",
     "text": [
      "110/110 [==============================] - 2s 19ms/step - loss: 0.3995 - root_mean_squared_error: 0.6320 - val_loss: 0.2122 - val_root_mean_squared_error: 0.4606\n",
      "Epoch 17/50\n",
      " 99/110 [==========================>...] - ETA: 0s - loss: 0.2947 - root_mean_squared_error: 0.5428INFO:tensorflow:Assets written to: meremodel1/assets\n"
     ]
    },
    {
     "name": "stderr",
     "output_type": "stream",
     "text": [
      "INFO:tensorflow:Assets written to: meremodel1/assets\n"
     ]
    },
    {
     "name": "stdout",
     "output_type": "stream",
     "text": [
      "110/110 [==============================] - 2s 18ms/step - loss: 0.2935 - root_mean_squared_error: 0.5418 - val_loss: 0.1708 - val_root_mean_squared_error: 0.4133\n",
      "Epoch 18/50\n",
      "101/110 [==========================>...] - ETA: 0s - loss: 0.2439 - root_mean_squared_error: 0.4939INFO:tensorflow:Assets written to: meremodel1/assets\n"
     ]
    },
    {
     "name": "stderr",
     "output_type": "stream",
     "text": [
      "INFO:tensorflow:Assets written to: meremodel1/assets\n"
     ]
    },
    {
     "name": "stdout",
     "output_type": "stream",
     "text": [
      "110/110 [==============================] - 2s 19ms/step - loss: 0.2388 - root_mean_squared_error: 0.4887 - val_loss: 0.1429 - val_root_mean_squared_error: 0.3780\n",
      "Epoch 19/50\n",
      "110/110 [==============================] - 0s 2ms/step - loss: 0.2147 - root_mean_squared_error: 0.4634 - val_loss: 0.2277 - val_root_mean_squared_error: 0.4772\n",
      "Epoch 20/50\n",
      " 99/110 [==========================>...] - ETA: 0s - loss: 0.1729 - root_mean_squared_error: 0.4158INFO:tensorflow:Assets written to: meremodel1/assets\n"
     ]
    },
    {
     "name": "stderr",
     "output_type": "stream",
     "text": [
      "INFO:tensorflow:Assets written to: meremodel1/assets\n"
     ]
    },
    {
     "name": "stdout",
     "output_type": "stream",
     "text": [
      "110/110 [==============================] - 2s 18ms/step - loss: 0.1791 - root_mean_squared_error: 0.4232 - val_loss: 0.1181 - val_root_mean_squared_error: 0.3437\n",
      "Epoch 21/50\n",
      " 99/110 [==========================>...] - ETA: 0s - loss: 0.1680 - root_mean_squared_error: 0.4098INFO:tensorflow:Assets written to: meremodel1/assets\n"
     ]
    },
    {
     "name": "stderr",
     "output_type": "stream",
     "text": [
      "INFO:tensorflow:Assets written to: meremodel1/assets\n"
     ]
    },
    {
     "name": "stdout",
     "output_type": "stream",
     "text": [
      "110/110 [==============================] - 2s 18ms/step - loss: 0.1686 - root_mean_squared_error: 0.4106 - val_loss: 0.1149 - val_root_mean_squared_error: 0.3389\n",
      "Epoch 22/50\n",
      " 99/110 [==========================>...] - ETA: 0s - loss: 0.1425 - root_mean_squared_error: 0.3775INFO:tensorflow:Assets written to: meremodel1/assets\n"
     ]
    },
    {
     "name": "stderr",
     "output_type": "stream",
     "text": [
      "INFO:tensorflow:Assets written to: meremodel1/assets\n"
     ]
    },
    {
     "name": "stdout",
     "output_type": "stream",
     "text": [
      "110/110 [==============================] - 2s 20ms/step - loss: 0.1396 - root_mean_squared_error: 0.3736 - val_loss: 0.0920 - val_root_mean_squared_error: 0.3033\n",
      "Epoch 23/50\n",
      " 99/110 [==========================>...] - ETA: 0s - loss: 0.1208 - root_mean_squared_error: 0.3476INFO:tensorflow:Assets written to: meremodel1/assets\n"
     ]
    },
    {
     "name": "stderr",
     "output_type": "stream",
     "text": [
      "INFO:tensorflow:Assets written to: meremodel1/assets\n"
     ]
    },
    {
     "name": "stdout",
     "output_type": "stream",
     "text": [
      "110/110 [==============================] - 2s 18ms/step - loss: 0.1285 - root_mean_squared_error: 0.3585 - val_loss: 0.0866 - val_root_mean_squared_error: 0.2943\n",
      "Epoch 24/50\n",
      "101/110 [==========================>...] - ETA: 0s - loss: 0.1194 - root_mean_squared_error: 0.3455INFO:tensorflow:Assets written to: meremodel1/assets\n"
     ]
    },
    {
     "name": "stderr",
     "output_type": "stream",
     "text": [
      "INFO:tensorflow:Assets written to: meremodel1/assets\n"
     ]
    },
    {
     "name": "stdout",
     "output_type": "stream",
     "text": [
      "110/110 [==============================] - 2s 18ms/step - loss: 0.1171 - root_mean_squared_error: 0.3423 - val_loss: 0.0824 - val_root_mean_squared_error: 0.2870\n",
      "Epoch 25/50\n",
      " 99/110 [==========================>...] - ETA: 0s - loss: 0.1138 - root_mean_squared_error: 0.3374INFO:tensorflow:Assets written to: meremodel1/assets\n"
     ]
    },
    {
     "name": "stderr",
     "output_type": "stream",
     "text": [
      "INFO:tensorflow:Assets written to: meremodel1/assets\n"
     ]
    },
    {
     "name": "stdout",
     "output_type": "stream",
     "text": [
      "110/110 [==============================] - 2s 20ms/step - loss: 0.1118 - root_mean_squared_error: 0.3344 - val_loss: 0.0768 - val_root_mean_squared_error: 0.2771\n",
      "Epoch 26/50\n",
      " 97/110 [=========================>....] - ETA: 0s - loss: 0.1148 - root_mean_squared_error: 0.3388INFO:tensorflow:Assets written to: meremodel1/assets\n"
     ]
    },
    {
     "name": "stderr",
     "output_type": "stream",
     "text": [
      "INFO:tensorflow:Assets written to: meremodel1/assets\n"
     ]
    },
    {
     "name": "stdout",
     "output_type": "stream",
     "text": [
      "110/110 [==============================] - 2s 18ms/step - loss: 0.1128 - root_mean_squared_error: 0.3358 - val_loss: 0.0705 - val_root_mean_squared_error: 0.2655\n",
      "Epoch 27/50\n",
      "102/110 [==========================>...] - ETA: 0s - loss: 0.0999 - root_mean_squared_error: 0.3161INFO:tensorflow:Assets written to: meremodel1/assets\n"
     ]
    },
    {
     "name": "stderr",
     "output_type": "stream",
     "text": [
      "INFO:tensorflow:Assets written to: meremodel1/assets\n"
     ]
    },
    {
     "name": "stdout",
     "output_type": "stream",
     "text": [
      "110/110 [==============================] - 2s 19ms/step - loss: 0.0979 - root_mean_squared_error: 0.3128 - val_loss: 0.0664 - val_root_mean_squared_error: 0.2577\n",
      "Epoch 28/50\n",
      "100/110 [==========================>...] - ETA: 0s - loss: 0.0901 - root_mean_squared_error: 0.3002INFO:tensorflow:Assets written to: meremodel1/assets\n"
     ]
    },
    {
     "name": "stderr",
     "output_type": "stream",
     "text": [
      "INFO:tensorflow:Assets written to: meremodel1/assets\n"
     ]
    },
    {
     "name": "stdout",
     "output_type": "stream",
     "text": [
      "110/110 [==============================] - 2s 18ms/step - loss: 0.0890 - root_mean_squared_error: 0.2983 - val_loss: 0.0527 - val_root_mean_squared_error: 0.2296\n",
      "Epoch 29/50\n",
      " 94/110 [========================>.....] - ETA: 0s - loss: 0.0942 - root_mean_squared_error: 0.3069INFO:tensorflow:Assets written to: meremodel1/assets\n"
     ]
    },
    {
     "name": "stderr",
     "output_type": "stream",
     "text": [
      "INFO:tensorflow:Assets written to: meremodel1/assets\n"
     ]
    },
    {
     "name": "stdout",
     "output_type": "stream",
     "text": [
      "110/110 [==============================] - 2s 18ms/step - loss: 0.0912 - root_mean_squared_error: 0.3020 - val_loss: 0.0525 - val_root_mean_squared_error: 0.2292\n",
      "Epoch 30/50\n",
      "110/110 [==============================] - 0s 2ms/step - loss: 0.0820 - root_mean_squared_error: 0.2863 - val_loss: 0.0549 - val_root_mean_squared_error: 0.2343\n",
      "Epoch 31/50\n",
      " 92/110 [========================>.....] - ETA: 0s - loss: 0.0772 - root_mean_squared_error: 0.2779INFO:tensorflow:Assets written to: meremodel1/assets\n"
     ]
    },
    {
     "name": "stderr",
     "output_type": "stream",
     "text": [
      "INFO:tensorflow:Assets written to: meremodel1/assets\n"
     ]
    },
    {
     "name": "stdout",
     "output_type": "stream",
     "text": [
      "110/110 [==============================] - 2s 20ms/step - loss: 0.0771 - root_mean_squared_error: 0.2777 - val_loss: 0.0497 - val_root_mean_squared_error: 0.2230\n",
      "Epoch 32/50\n",
      "100/110 [==========================>...] - ETA: 0s - loss: 0.0690 - root_mean_squared_error: 0.2628INFO:tensorflow:Assets written to: meremodel1/assets\n"
     ]
    },
    {
     "name": "stderr",
     "output_type": "stream",
     "text": [
      "INFO:tensorflow:Assets written to: meremodel1/assets\n"
     ]
    },
    {
     "name": "stdout",
     "output_type": "stream",
     "text": [
      "110/110 [==============================] - 2s 17ms/step - loss: 0.0684 - root_mean_squared_error: 0.2616 - val_loss: 0.0451 - val_root_mean_squared_error: 0.2125\n",
      "Epoch 33/50\n",
      "100/110 [==========================>...] - ETA: 0s - loss: 0.0733 - root_mean_squared_error: 0.2707INFO:tensorflow:Assets written to: meremodel1/assets\n"
     ]
    },
    {
     "name": "stderr",
     "output_type": "stream",
     "text": [
      "INFO:tensorflow:Assets written to: meremodel1/assets\n"
     ]
    },
    {
     "name": "stdout",
     "output_type": "stream",
     "text": [
      "110/110 [==============================] - 2s 19ms/step - loss: 0.0727 - root_mean_squared_error: 0.2696 - val_loss: 0.0448 - val_root_mean_squared_error: 0.2116\n",
      "Epoch 34/50\n",
      "110/110 [==============================] - 0s 2ms/step - loss: 0.0723 - root_mean_squared_error: 0.2689 - val_loss: 0.0457 - val_root_mean_squared_error: 0.2138\n",
      "Epoch 35/50\n",
      " 99/110 [==========================>...] - ETA: 0s - loss: 0.0714 - root_mean_squared_error: 0.2672INFO:tensorflow:Assets written to: meremodel1/assets\n"
     ]
    },
    {
     "name": "stderr",
     "output_type": "stream",
     "text": [
      "INFO:tensorflow:Assets written to: meremodel1/assets\n"
     ]
    },
    {
     "name": "stdout",
     "output_type": "stream",
     "text": [
      "110/110 [==============================] - 2s 17ms/step - loss: 0.0692 - root_mean_squared_error: 0.2631 - val_loss: 0.0363 - val_root_mean_squared_error: 0.1906\n",
      "Epoch 36/50\n",
      "110/110 [==============================] - 0s 2ms/step - loss: 0.0630 - root_mean_squared_error: 0.2510 - val_loss: 0.0388 - val_root_mean_squared_error: 0.1969\n",
      "Epoch 37/50\n",
      "110/110 [==============================] - 0s 2ms/step - loss: 0.0666 - root_mean_squared_error: 0.2580 - val_loss: 0.0378 - val_root_mean_squared_error: 0.1944\n",
      "Epoch 38/50\n",
      "110/110 [==============================] - 0s 2ms/step - loss: 0.0546 - root_mean_squared_error: 0.2337 - val_loss: 0.0436 - val_root_mean_squared_error: 0.2089\n",
      "Epoch 39/50\n",
      "110/110 [==============================] - 0s 2ms/step - loss: 0.0493 - root_mean_squared_error: 0.2219 - val_loss: 0.0423 - val_root_mean_squared_error: 0.2057\n",
      "Epoch 40/50\n",
      "110/110 [==============================] - 0s 2ms/step - loss: 0.0542 - root_mean_squared_error: 0.2329 - val_loss: 0.0591 - val_root_mean_squared_error: 0.2431\n",
      "Epoch 41/50\n",
      " 99/110 [==========================>...] - ETA: 0s - loss: 0.0574 - root_mean_squared_error: 0.2397INFO:tensorflow:Assets written to: meremodel1/assets\n"
     ]
    },
    {
     "name": "stderr",
     "output_type": "stream",
     "text": [
      "INFO:tensorflow:Assets written to: meremodel1/assets\n"
     ]
    },
    {
     "name": "stdout",
     "output_type": "stream",
     "text": [
      "110/110 [==============================] - 2s 17ms/step - loss: 0.0567 - root_mean_squared_error: 0.2382 - val_loss: 0.0344 - val_root_mean_squared_error: 0.1855\n",
      "Epoch 42/50\n",
      "100/110 [==========================>...] - ETA: 0s - loss: 0.0483 - root_mean_squared_error: 0.2199INFO:tensorflow:Assets written to: meremodel1/assets\n"
     ]
    },
    {
     "name": "stderr",
     "output_type": "stream",
     "text": [
      "INFO:tensorflow:Assets written to: meremodel1/assets\n"
     ]
    },
    {
     "name": "stdout",
     "output_type": "stream",
     "text": [
      "110/110 [==============================] - 2s 20ms/step - loss: 0.0489 - root_mean_squared_error: 0.2210 - val_loss: 0.0320 - val_root_mean_squared_error: 0.1788\n",
      "Epoch 43/50\n",
      "110/110 [==============================] - 0s 2ms/step - loss: 0.0479 - root_mean_squared_error: 0.2188 - val_loss: 0.0576 - val_root_mean_squared_error: 0.2399\n",
      "Epoch 44/50\n",
      "110/110 [==============================] - 0s 2ms/step - loss: 0.0463 - root_mean_squared_error: 0.2151 - val_loss: 0.0330 - val_root_mean_squared_error: 0.1818\n",
      "Epoch 45/50\n",
      "110/110 [==============================] - 0s 3ms/step - loss: 0.0439 - root_mean_squared_error: 0.2095 - val_loss: 0.0389 - val_root_mean_squared_error: 0.1971\n",
      "Epoch 46/50\n",
      " 93/110 [========================>.....] - ETA: 0s - loss: 0.0472 - root_mean_squared_error: 0.2173INFO:tensorflow:Assets written to: meremodel1/assets\n"
     ]
    },
    {
     "name": "stderr",
     "output_type": "stream",
     "text": [
      "INFO:tensorflow:Assets written to: meremodel1/assets\n"
     ]
    },
    {
     "name": "stdout",
     "output_type": "stream",
     "text": [
      "110/110 [==============================] - 2s 18ms/step - loss: 0.0467 - root_mean_squared_error: 0.2162 - val_loss: 0.0283 - val_root_mean_squared_error: 0.1683\n",
      "Epoch 47/50\n",
      " 90/110 [=======================>......] - ETA: 0s - loss: 0.0471 - root_mean_squared_error: 0.2171INFO:tensorflow:Assets written to: meremodel1/assets\n"
     ]
    },
    {
     "name": "stderr",
     "output_type": "stream",
     "text": [
      "INFO:tensorflow:Assets written to: meremodel1/assets\n"
     ]
    },
    {
     "name": "stdout",
     "output_type": "stream",
     "text": [
      "110/110 [==============================] - 2s 18ms/step - loss: 0.0487 - root_mean_squared_error: 0.2206 - val_loss: 0.0279 - val_root_mean_squared_error: 0.1670\n",
      "Epoch 48/50\n",
      "110/110 [==============================] - 0s 2ms/step - loss: 0.0445 - root_mean_squared_error: 0.2109 - val_loss: 0.0286 - val_root_mean_squared_error: 0.1691\n",
      "Epoch 49/50\n",
      "110/110 [==============================] - 0s 2ms/step - loss: 0.0513 - root_mean_squared_error: 0.2264 - val_loss: 0.0387 - val_root_mean_squared_error: 0.1968\n",
      "Epoch 50/50\n",
      "110/110 [==============================] - 0s 2ms/step - loss: 0.0429 - root_mean_squared_error: 0.2072 - val_loss: 0.0322 - val_root_mean_squared_error: 0.1795\n"
     ]
    },
    {
     "data": {
      "text/plain": [
       "<keras.src.callbacks.History at 0x7fe7e9f14bb0>"
      ]
     },
     "execution_count": 14,
     "metadata": {},
     "output_type": "execute_result"
    }
   ],
   "source": [
    "model1.fit(X_train, y_train, validation_data=(X_val, y_val), epochs=50, callbacks=[cp])"
   ]
  },
  {
   "cell_type": "code",
   "execution_count": 15,
   "id": "cd0a0aa3",
   "metadata": {},
   "outputs": [],
   "source": [
    "model1 = load_model('meremodel1/')"
   ]
  },
  {
   "cell_type": "code",
   "execution_count": 16,
   "id": "588818f9",
   "metadata": {},
   "outputs": [
    {
     "name": "stdout",
     "output_type": "stream",
     "text": [
      "110/110 [==============================] - 0s 1ms/step\n"
     ]
    },
    {
     "data": {
      "text/html": [
       "<div>\n",
       "<style scoped>\n",
       "    .dataframe tbody tr th:only-of-type {\n",
       "        vertical-align: middle;\n",
       "    }\n",
       "\n",
       "    .dataframe tbody tr th {\n",
       "        vertical-align: top;\n",
       "    }\n",
       "\n",
       "    .dataframe thead th {\n",
       "        text-align: right;\n",
       "    }\n",
       "</style>\n",
       "<table border=\"1\" class=\"dataframe\">\n",
       "  <thead>\n",
       "    <tr style=\"text-align: right;\">\n",
       "      <th></th>\n",
       "      <th>Train_Predictions</th>\n",
       "      <th>Actuals</th>\n",
       "    </tr>\n",
       "  </thead>\n",
       "  <tbody>\n",
       "    <tr>\n",
       "      <th>0</th>\n",
       "      <td>91.236870</td>\n",
       "      <td>91.4004</td>\n",
       "    </tr>\n",
       "    <tr>\n",
       "      <th>1</th>\n",
       "      <td>91.340248</td>\n",
       "      <td>91.5129</td>\n",
       "    </tr>\n",
       "    <tr>\n",
       "      <th>2</th>\n",
       "      <td>91.450607</td>\n",
       "      <td>91.6071</td>\n",
       "    </tr>\n",
       "    <tr>\n",
       "      <th>3</th>\n",
       "      <td>91.554939</td>\n",
       "      <td>91.7167</td>\n",
       "    </tr>\n",
       "    <tr>\n",
       "      <th>4</th>\n",
       "      <td>91.662224</td>\n",
       "      <td>91.7925</td>\n",
       "    </tr>\n",
       "    <tr>\n",
       "      <th>...</th>\n",
       "      <td>...</td>\n",
       "      <td>...</td>\n",
       "    </tr>\n",
       "    <tr>\n",
       "      <th>3493</th>\n",
       "      <td>95.216301</td>\n",
       "      <td>95.4196</td>\n",
       "    </tr>\n",
       "    <tr>\n",
       "      <th>3494</th>\n",
       "      <td>95.204552</td>\n",
       "      <td>95.4054</td>\n",
       "    </tr>\n",
       "    <tr>\n",
       "      <th>3495</th>\n",
       "      <td>95.191887</td>\n",
       "      <td>95.3908</td>\n",
       "    </tr>\n",
       "    <tr>\n",
       "      <th>3496</th>\n",
       "      <td>95.179993</td>\n",
       "      <td>95.3604</td>\n",
       "    </tr>\n",
       "    <tr>\n",
       "      <th>3497</th>\n",
       "      <td>95.159935</td>\n",
       "      <td>95.3237</td>\n",
       "    </tr>\n",
       "  </tbody>\n",
       "</table>\n",
       "<p>3498 rows × 2 columns</p>\n",
       "</div>"
      ],
      "text/plain": [
       "      Train_Predictions  Actuals\n",
       "0             91.236870  91.4004\n",
       "1             91.340248  91.5129\n",
       "2             91.450607  91.6071\n",
       "3             91.554939  91.7167\n",
       "4             91.662224  91.7925\n",
       "...                 ...      ...\n",
       "3493          95.216301  95.4196\n",
       "3494          95.204552  95.4054\n",
       "3495          95.191887  95.3908\n",
       "3496          95.179993  95.3604\n",
       "3497          95.159935  95.3237\n",
       "\n",
       "[3498 rows x 2 columns]"
      ]
     },
     "execution_count": 16,
     "metadata": {},
     "output_type": "execute_result"
    }
   ],
   "source": [
    "train_predictions = model1.predict(X_train).flatten()\n",
    "train_results = pd.DataFrame(data={'Train_Predictions':train_predictions, 'Actuals':y_train})\n",
    "train_results"
   ]
  },
  {
   "cell_type": "code",
   "execution_count": 17,
   "id": "a67ae4c5",
   "metadata": {},
   "outputs": [
    {
     "data": {
      "text/plain": [
       "[<matplotlib.lines.Line2D at 0x7fe7a0f73d90>]"
      ]
     },
     "execution_count": 17,
     "metadata": {},
     "output_type": "execute_result"
    },
    {
     "data": {
      "image/png": "[encoded data removed]",
      "text/plain": [
       "<Figure size 432x288 with 1 Axes>"
      ]
     },
     "metadata": {
      "needs_background": "light"
     },
     "output_type": "display_data"
    }
   ],
   "source": [
    "# just the training\n",
    "plt.plot(train_results['Train_Predictions'][:200])\n",
    "plt.plot(train_results['Actuals'][:200])"
   ]
  },
  {
   "cell_type": "code",
   "execution_count": 18,
   "id": "fa87db88",
   "metadata": {},
   "outputs": [
    {
     "name": "stdout",
     "output_type": "stream",
     "text": [
      "16/16 [==============================] - 0s 1ms/step\n"
     ]
    },
    {
     "data": {
      "text/html": [
       "<div>\n",
       "<style scoped>\n",
       "    .dataframe tbody tr th:only-of-type {\n",
       "        vertical-align: middle;\n",
       "    }\n",
       "\n",
       "    .dataframe tbody tr th {\n",
       "        vertical-align: top;\n",
       "    }\n",
       "\n",
       "    .dataframe thead th {\n",
       "        text-align: right;\n",
       "    }\n",
       "</style>\n",
       "<table border=\"1\" class=\"dataframe\">\n",
       "  <thead>\n",
       "    <tr style=\"text-align: right;\">\n",
       "      <th></th>\n",
       "      <th>Val_Predictions</th>\n",
       "      <th>Actuals</th>\n",
       "    </tr>\n",
       "  </thead>\n",
       "  <tbody>\n",
       "    <tr>\n",
       "      <th>0</th>\n",
       "      <td>95.132797</td>\n",
       "      <td>95.3354</td>\n",
       "    </tr>\n",
       "    <tr>\n",
       "      <th>1</th>\n",
       "      <td>95.128273</td>\n",
       "      <td>95.3287</td>\n",
       "    </tr>\n",
       "    <tr>\n",
       "      <th>2</th>\n",
       "      <td>95.125664</td>\n",
       "      <td>95.3083</td>\n",
       "    </tr>\n",
       "    <tr>\n",
       "      <th>3</th>\n",
       "      <td>95.113464</td>\n",
       "      <td>95.3333</td>\n",
       "    </tr>\n",
       "    <tr>\n",
       "      <th>4</th>\n",
       "      <td>95.121185</td>\n",
       "      <td>95.3454</td>\n",
       "    </tr>\n",
       "    <tr>\n",
       "      <th>...</th>\n",
       "      <td>...</td>\n",
       "      <td>...</td>\n",
       "    </tr>\n",
       "    <tr>\n",
       "      <th>495</th>\n",
       "      <td>90.801872</td>\n",
       "      <td>91.0012</td>\n",
       "    </tr>\n",
       "    <tr>\n",
       "      <th>496</th>\n",
       "      <td>90.919930</td>\n",
       "      <td>91.1050</td>\n",
       "    </tr>\n",
       "    <tr>\n",
       "      <th>497</th>\n",
       "      <td>91.031288</td>\n",
       "      <td>91.2146</td>\n",
       "    </tr>\n",
       "    <tr>\n",
       "      <th>498</th>\n",
       "      <td>91.142937</td>\n",
       "      <td>91.3029</td>\n",
       "    </tr>\n",
       "    <tr>\n",
       "      <th>499</th>\n",
       "      <td>91.243629</td>\n",
       "      <td>91.3988</td>\n",
       "    </tr>\n",
       "  </tbody>\n",
       "</table>\n",
       "<p>500 rows × 2 columns</p>\n",
       "</div>"
      ],
      "text/plain": [
       "     Val_Predictions  Actuals\n",
       "0          95.132797  95.3354\n",
       "1          95.128273  95.3287\n",
       "2          95.125664  95.3083\n",
       "3          95.113464  95.3333\n",
       "4          95.121185  95.3454\n",
       "..               ...      ...\n",
       "495        90.801872  91.0012\n",
       "496        90.919930  91.1050\n",
       "497        91.031288  91.2146\n",
       "498        91.142937  91.3029\n",
       "499        91.243629  91.3988\n",
       "\n",
       "[500 rows x 2 columns]"
      ]
     },
     "metadata": {},
     "output_type": "display_data"
    },
    {
     "data": {
      "text/plain": [
       "[<matplotlib.lines.Line2D at 0x7fe77b37e920>]"
      ]
     },
     "execution_count": 18,
     "metadata": {},
     "output_type": "execute_result"
    },
    {
     "data": {
      "image/png": "[encoded data removed]",
      "text/plain": [
       "<Figure size 432x288 with 1 Axes>"
      ]
     },
     "metadata": {
      "needs_background": "light"
     },
     "output_type": "display_data"
    }
   ],
   "source": [
    "# how about validation\n",
    "val_predictions = model1.predict(X_val).flatten()\n",
    "val_results = pd.DataFrame(data={'Val_Predictions':val_predictions, 'Actuals':y_val})\n",
    "display(val_results)\n",
    "\n",
    "plt.plot(val_results['Val_Predictions'][:200])\n",
    "plt.plot(val_results['Actuals'][:200])"
   ]
  },
  {
   "cell_type": "code",
   "execution_count": 19,
   "id": "117eceb9",
   "metadata": {},
   "outputs": [
    {
     "data": {
      "text/plain": [
       "[<matplotlib.lines.Line2D at 0x7fe77b70c4f0>]"
      ]
     },
     "execution_count": 19,
     "metadata": {},
     "output_type": "execute_result"
    },
    {
     "data": {
      "image/png": "[encoded data removed]",
      "text/plain": [
       "<Figure size 432x288 with 1 Axes>"
      ]
     },
     "metadata": {
      "needs_background": "light"
     },
     "output_type": "display_data"
    }
   ],
   "source": [
    "plt.plot(val_results['Val_Predictions'])\n",
    "plt.plot(val_results['Actuals'])"
   ]
  },
  {
   "cell_type": "markdown",
   "id": "cb6082bf",
   "metadata": {},
   "source": [
    "### Results of single variable model"
   ]
  },
  {
   "cell_type": "code",
   "execution_count": 20,
   "id": "299b96a0",
   "metadata": {},
   "outputs": [
    {
     "name": "stdout",
     "output_type": "stream",
     "text": [
      "16/16 [==============================] - 0s 1ms/step\n"
     ]
    },
    {
     "data": {
      "text/html": [
       "<div>\n",
       "<style scoped>\n",
       "    .dataframe tbody tr th:only-of-type {\n",
       "        vertical-align: middle;\n",
       "    }\n",
       "\n",
       "    .dataframe tbody tr th {\n",
       "        vertical-align: top;\n",
       "    }\n",
       "\n",
       "    .dataframe thead th {\n",
       "        text-align: right;\n",
       "    }\n",
       "</style>\n",
       "<table border=\"1\" class=\"dataframe\">\n",
       "  <thead>\n",
       "    <tr style=\"text-align: right;\">\n",
       "      <th></th>\n",
       "      <th>Test_Predictions</th>\n",
       "      <th>Actuals</th>\n",
       "    </tr>\n",
       "  </thead>\n",
       "  <tbody>\n",
       "    <tr>\n",
       "      <th>0</th>\n",
       "      <td>91.341133</td>\n",
       "      <td>91.4921</td>\n",
       "    </tr>\n",
       "    <tr>\n",
       "      <th>1</th>\n",
       "      <td>91.438438</td>\n",
       "      <td>91.5775</td>\n",
       "    </tr>\n",
       "    <tr>\n",
       "      <th>2</th>\n",
       "      <td>91.530144</td>\n",
       "      <td>91.6546</td>\n",
       "    </tr>\n",
       "    <tr>\n",
       "      <th>3</th>\n",
       "      <td>91.614006</td>\n",
       "      <td>91.7333</td>\n",
       "    </tr>\n",
       "    <tr>\n",
       "      <th>4</th>\n",
       "      <td>91.695107</td>\n",
       "      <td>91.7912</td>\n",
       "    </tr>\n",
       "    <tr>\n",
       "      <th>...</th>\n",
       "      <td>...</td>\n",
       "      <td>...</td>\n",
       "    </tr>\n",
       "    <tr>\n",
       "      <th>495</th>\n",
       "      <td>79.364670</td>\n",
       "      <td>79.4696</td>\n",
       "    </tr>\n",
       "    <tr>\n",
       "      <th>496</th>\n",
       "      <td>79.464905</td>\n",
       "      <td>80.0721</td>\n",
       "    </tr>\n",
       "    <tr>\n",
       "      <th>497</th>\n",
       "      <td>79.794434</td>\n",
       "      <td>80.4046</td>\n",
       "    </tr>\n",
       "    <tr>\n",
       "      <th>498</th>\n",
       "      <td>80.122688</td>\n",
       "      <td>80.6565</td>\n",
       "    </tr>\n",
       "    <tr>\n",
       "      <th>499</th>\n",
       "      <td>80.415703</td>\n",
       "      <td>80.8423</td>\n",
       "    </tr>\n",
       "  </tbody>\n",
       "</table>\n",
       "<p>500 rows × 2 columns</p>\n",
       "</div>"
      ],
      "text/plain": [
       "     Test_Predictions  Actuals\n",
       "0           91.341133  91.4921\n",
       "1           91.438438  91.5775\n",
       "2           91.530144  91.6546\n",
       "3           91.614006  91.7333\n",
       "4           91.695107  91.7912\n",
       "..                ...      ...\n",
       "495         79.364670  79.4696\n",
       "496         79.464905  80.0721\n",
       "497         79.794434  80.4046\n",
       "498         80.122688  80.6565\n",
       "499         80.415703  80.8423\n",
       "\n",
       "[500 rows x 2 columns]"
      ]
     },
     "metadata": {},
     "output_type": "display_data"
    },
    {
     "data": {
      "text/plain": [
       "[<matplotlib.lines.Line2D at 0x7fe7a1189210>]"
      ]
     },
     "execution_count": 20,
     "metadata": {},
     "output_type": "execute_result"
    },
    {
     "data": {
      "image/png": "[encoded data removed]",
      "text/plain": [
       "<Figure size 432x288 with 1 Axes>"
      ]
     },
     "metadata": {
      "needs_background": "light"
     },
     "output_type": "display_data"
    }
   ],
   "source": [
    "# how about test\n",
    "test_predictions = model1.predict(X_test).flatten()\n",
    "test_results = pd.DataFrame(data={'Test_Predictions':test_predictions, 'Actuals':y_test})\n",
    "display(test_results)\n",
    "\n",
    "plt.plot(test_results['Test_Predictions'][:200])\n",
    "plt.plot(test_results['Actuals'][:200])"
   ]
  },
  {
   "cell_type": "code",
   "execution_count": 21,
   "id": "283f7ad6",
   "metadata": {},
   "outputs": [
    {
     "data": {
      "text/plain": [
       "[<matplotlib.lines.Line2D at 0x7fe77b3258d0>]"
      ]
     },
     "execution_count": 21,
     "metadata": {},
     "output_type": "execute_result"
    },
    {
     "data": {
      "image/png": "[encoded data removed]",
      "text/plain": [
       "<Figure size 432x288 with 1 Axes>"
      ]
     },
     "metadata": {
      "needs_background": "light"
     },
     "output_type": "display_data"
    }
   ],
   "source": [
    "plt.plot(test_results['Test_Predictions'])\n",
    "plt.plot(test_results['Actuals'])"
   ]
  },
  {
   "cell_type": "markdown",
   "id": "c18cd27e",
   "metadata": {},
   "source": [
    "#### A prettier graph for single variable results:"
   ]
  },
  {
   "cell_type": "code",
   "execution_count": 22,
   "id": "2783b976",
   "metadata": {},
   "outputs": [
    {
     "data": {
      "text/html": [
       "<div>\n",
       "<style scoped>\n",
       "    .dataframe tbody tr th:only-of-type {\n",
       "        vertical-align: middle;\n",
       "    }\n",
       "\n",
       "    .dataframe tbody tr th {\n",
       "        vertical-align: top;\n",
       "    }\n",
       "\n",
       "    .dataframe thead th {\n",
       "        text-align: right;\n",
       "    }\n",
       "</style>\n",
       "<table border=\"1\" class=\"dataframe\">\n",
       "  <thead>\n",
       "    <tr style=\"text-align: right;\">\n",
       "      <th></th>\n",
       "      <th>Test_Predictions</th>\n",
       "      <th>Actuals</th>\n",
       "      <th>date</th>\n",
       "    </tr>\n",
       "  </thead>\n",
       "  <tbody>\n",
       "    <tr>\n",
       "      <th>0</th>\n",
       "      <td>91.341133</td>\n",
       "      <td>91.4921</td>\n",
       "      <td>2017-01-23</td>\n",
       "    </tr>\n",
       "    <tr>\n",
       "      <th>1</th>\n",
       "      <td>91.438438</td>\n",
       "      <td>91.5775</td>\n",
       "      <td>2017-01-24</td>\n",
       "    </tr>\n",
       "    <tr>\n",
       "      <th>2</th>\n",
       "      <td>91.530144</td>\n",
       "      <td>91.6546</td>\n",
       "      <td>2017-01-25</td>\n",
       "    </tr>\n",
       "    <tr>\n",
       "      <th>3</th>\n",
       "      <td>91.614006</td>\n",
       "      <td>91.7333</td>\n",
       "      <td>2017-01-26</td>\n",
       "    </tr>\n",
       "    <tr>\n",
       "      <th>4</th>\n",
       "      <td>91.695107</td>\n",
       "      <td>91.7912</td>\n",
       "      <td>2017-01-27</td>\n",
       "    </tr>\n",
       "    <tr>\n",
       "      <th>...</th>\n",
       "      <td>...</td>\n",
       "      <td>...</td>\n",
       "      <td>...</td>\n",
       "    </tr>\n",
       "    <tr>\n",
       "      <th>495</th>\n",
       "      <td>79.364670</td>\n",
       "      <td>79.4696</td>\n",
       "      <td>2018-06-02</td>\n",
       "    </tr>\n",
       "    <tr>\n",
       "      <th>496</th>\n",
       "      <td>79.464905</td>\n",
       "      <td>80.0721</td>\n",
       "      <td>2018-06-03</td>\n",
       "    </tr>\n",
       "    <tr>\n",
       "      <th>497</th>\n",
       "      <td>79.794434</td>\n",
       "      <td>80.4046</td>\n",
       "      <td>2018-06-04</td>\n",
       "    </tr>\n",
       "    <tr>\n",
       "      <th>498</th>\n",
       "      <td>80.122688</td>\n",
       "      <td>80.6565</td>\n",
       "      <td>2018-06-05</td>\n",
       "    </tr>\n",
       "    <tr>\n",
       "      <th>499</th>\n",
       "      <td>80.415703</td>\n",
       "      <td>80.8423</td>\n",
       "      <td>2018-06-06</td>\n",
       "    </tr>\n",
       "  </tbody>\n",
       "</table>\n",
       "<p>500 rows × 3 columns</p>\n",
       "</div>"
      ],
      "text/plain": [
       "     Test_Predictions  Actuals       date\n",
       "0           91.341133  91.4921 2017-01-23\n",
       "1           91.438438  91.5775 2017-01-24\n",
       "2           91.530144  91.6546 2017-01-25\n",
       "3           91.614006  91.7333 2017-01-26\n",
       "4           91.695107  91.7912 2017-01-27\n",
       "..                ...      ...        ...\n",
       "495         79.364670  79.4696 2018-06-02\n",
       "496         79.464905  80.0721 2018-06-03\n",
       "497         79.794434  80.4046 2018-06-04\n",
       "498         80.122688  80.6565 2018-06-05\n",
       "499         80.415703  80.8423 2018-06-06\n",
       "\n",
       "[500 rows x 3 columns]"
      ]
     },
     "execution_count": 22,
     "metadata": {},
     "output_type": "execute_result"
    }
   ],
   "source": [
    "test_results['date'] = date_rng = pd.date_range(start='2017-01-23', end='2018-06-06', freq='D')\n",
    "# last 500 days from the df\n",
    "test_results"
   ]
  },
  {
   "cell_type": "code",
   "execution_count": 23,
   "id": "88d33582",
   "metadata": {},
   "outputs": [
    {
     "data": {
      "image/png": "[encoded data removed]",
      "text/plain": [
       "<Figure size 2304x720 with 1 Axes>"
      ]
     },
     "metadata": {
      "needs_background": "light"
     },
     "output_type": "display_data"
    }
   ],
   "source": [
    "y = test_results.date.values\n",
    "X = test_results.Test_Predictions.values*-1\n",
    "X1 = test_results.Actuals.values*-1\n",
    "\n",
    "\n",
    "fig, ax1 = plt.subplots(figsize=(32, 10)) #big for copy paste reasons\n",
    "plt.suptitle('Results on the test data', fontsize=16)\n",
    "\n",
    "ax1 = plt.subplot()\n",
    "plt.plot(y, X, 'r--', label = 'Predicted Water Level')\n",
    "plt.xlabel('Date', fontsize=14)\n",
    "plt.ylabel('Depth from Land Surface in feet', fontsize=14)\n",
    "\n",
    "ax2 = plt.subplot()\n",
    "ax2.plot(y,X1, 'b-', label = 'Actual Water Level')\n",
    "\n",
    "fig.legend()\n",
    "\n",
    "fig.tight_layout()\n",
    "plt.show()"
   ]
  },
  {
   "cell_type": "code",
   "execution_count": 24,
   "id": "356be42a",
   "metadata": {},
   "outputs": [],
   "source": [
    "from sklearn.metrics import mean_squared_error as mse\n",
    "\n",
    "def plot_predictions1(model, X, y):\n",
    "    predictions = model.predict(X).flatten()\n",
    "    df_plot = pd.DataFrame(data={'Predictions':predictions, 'Actuals':y})\n",
    "    \n",
    "    Pred = df_plot.Predictions.values*-1\n",
    "    Act = df_plot.Actuals.values*-1\n",
    "    \n",
    "    fig, ax1 = plt.subplots(figsize=(16, 5)) \n",
    "    plt.suptitle('Prediction', fontsize=16)\n",
    "\n",
    "    ax1 = plt.subplot()\n",
    "    plt.plot(Pred, 'r--', label = 'Predicted Water Level')\n",
    "    plt.xlabel('Date', fontsize=14)\n",
    "    plt.ylabel('Depth from Land Surface in feet', fontsize=14)\n",
    "\n",
    "    ax2 = plt.subplot()\n",
    "    ax2.plot(Act, 'b-', label = 'Actual Water Level')\n",
    "\n",
    "    fig.legend()\n",
    "\n",
    "    fig.tight_layout()\n",
    "    plt.show()\n",
    "    \n",
    "    return df_plot, mse(y, predictions)"
   ]
  },
  {
   "cell_type": "code",
   "execution_count": 25,
   "id": "01e52332",
   "metadata": {},
   "outputs": [
    {
     "name": "stdout",
     "output_type": "stream",
     "text": [
      "16/16 [==============================] - 0s 1ms/step\n"
     ]
    },
    {
     "data": {
      "image/png": "[encoded data removed]",
      "text/plain": [
       "<Figure size 1152x360 with 1 Axes>"
      ]
     },
     "metadata": {
      "needs_background": "light"
     },
     "output_type": "display_data"
    },
    {
     "data": {
      "text/plain": [
       "(     Predictions  Actuals\n",
       " 0      91.341133  91.4921\n",
       " 1      91.438438  91.5775\n",
       " 2      91.530144  91.6546\n",
       " 3      91.614006  91.7333\n",
       " 4      91.695107  91.7912\n",
       " ..           ...      ...\n",
       " 495    79.364670  79.4696\n",
       " 496    79.464905  80.0721\n",
       " 497    79.794434  80.4046\n",
       " 498    80.122688  80.6565\n",
       " 499    80.415703  80.8423\n",
       " \n",
       " [500 rows x 2 columns],\n",
       " 0.16944805108720068)"
      ]
     },
     "execution_count": 25,
     "metadata": {},
     "output_type": "execute_result"
    }
   ],
   "source": [
    "plot_predictions1(model1, X_test, y_test)"
   ]
  },
  {
   "cell_type": "code",
   "execution_count": null,
   "id": "b76c241b",
   "metadata": {},
   "outputs": [],
   "source": []
  },
  {
   "cell_type": "code",
   "execution_count": null,
   "id": "387b882f",
   "metadata": {},
   "outputs": [],
   "source": []
  },
  {
   "cell_type": "markdown",
   "id": "6036c385",
   "metadata": {},
   "source": [
    "## A convolutional NN model!"
   ]
  },
  {
   "cell_type": "code",
   "execution_count": 26,
   "id": "a0cb17de",
   "metadata": {},
   "outputs": [
    {
     "name": "stdout",
     "output_type": "stream",
     "text": [
      "Model: \"sequential_1\"\n",
      "_________________________________________________________________\n",
      " Layer (type)                Output Shape              Param #   \n",
      "=================================================================\n",
      " conv1d (Conv1D)             (None, 4, 64)             192       \n",
      "                                                                 \n",
      " flatten (Flatten)           (None, 256)               0         \n",
      "                                                                 \n",
      " dense_2 (Dense)             (None, 8)                 2056      \n",
      "                                                                 \n",
      " dense_3 (Dense)             (None, 1)                 9         \n",
      "                                                                 \n",
      "=================================================================\n",
      "Total params: 2257 (8.82 KB)\n",
      "Trainable params: 2257 (8.82 KB)\n",
      "Non-trainable params: 0 (0.00 Byte)\n",
      "_________________________________________________________________\n"
     ]
    }
   ],
   "source": [
    "model2 = Sequential()\n",
    "model2.add(InputLayer((5,1)))\n",
    "model2.add(Conv1D(64, kernel_size=2))\n",
    "model2.add(Flatten())\n",
    "model2.add(Dense(8, 'relu'))\n",
    "model2.add(Dense(1, 'linear'))\n",
    "\n",
    "model2.summary()"
   ]
  },
  {
   "cell_type": "code",
   "execution_count": 27,
   "id": "ca6885ad",
   "metadata": {},
   "outputs": [],
   "source": [
    "cp2 = ModelCheckpoint('meremodel2/', save_best_only=True)\n",
    "# the above makes a folder that our gitignore should exclude\n",
    "\n",
    "model2.compile(loss=MeanSquaredError(), optimizer=Adam(learning_rate=0.001), metrics=[RootMeanSquaredError()])"
   ]
  },
  {
   "cell_type": "code",
   "execution_count": 28,
   "id": "d8a04323",
   "metadata": {},
   "outputs": [
    {
     "name": "stdout",
     "output_type": "stream",
     "text": [
      "Epoch 1/50\n",
      "100/110 [==========================>...] - ETA: 0s - loss: 8165.4287 - root_mean_squared_error: 90.3628INFO:tensorflow:Assets written to: meremodel2/assets\n"
     ]
    },
    {
     "name": "stderr",
     "output_type": "stream",
     "text": [
      "INFO:tensorflow:Assets written to: meremodel2/assets\n"
     ]
    },
    {
     "name": "stdout",
     "output_type": "stream",
     "text": [
      "110/110 [==============================] - 1s 5ms/step - loss: 8170.4844 - root_mean_squared_error: 90.3907 - val_loss: 8213.9941 - val_root_mean_squared_error: 90.6311\n",
      "Epoch 2/50\n",
      " 55/110 [==============>...............] - ETA: 0s - loss: 8161.1274 - root_mean_squared_error: 90.3390INFO:tensorflow:Assets written to: meremodel2/assets\n"
     ]
    },
    {
     "name": "stderr",
     "output_type": "stream",
     "text": [
      "INFO:tensorflow:Assets written to: meremodel2/assets\n"
     ]
    },
    {
     "name": "stdout",
     "output_type": "stream",
     "text": [
      "110/110 [==============================] - 0s 4ms/step - loss: 8147.3149 - root_mean_squared_error: 90.2625 - val_loss: 8194.0986 - val_root_mean_squared_error: 90.5213\n",
      "Epoch 3/50\n",
      " 56/110 [==============>...............] - ETA: 0s - loss: 8131.3555 - root_mean_squared_error: 90.1740INFO:tensorflow:Assets written to: meremodel2/assets\n"
     ]
    },
    {
     "name": "stderr",
     "output_type": "stream",
     "text": [
      "INFO:tensorflow:Assets written to: meremodel2/assets\n"
     ]
    },
    {
     "name": "stdout",
     "output_type": "stream",
     "text": [
      "110/110 [==============================] - 1s 5ms/step - loss: 8127.5093 - root_mean_squared_error: 90.1527 - val_loss: 8174.2319 - val_root_mean_squared_error: 90.4115\n",
      "Epoch 4/50\n",
      "110/110 [==============================] - ETA: 0s - loss: 8107.7305 - root_mean_squared_error: 90.0429INFO:tensorflow:Assets written to: meremodel2/assets\n"
     ]
    },
    {
     "name": "stderr",
     "output_type": "stream",
     "text": [
      "INFO:tensorflow:Assets written to: meremodel2/assets\n"
     ]
    },
    {
     "name": "stdout",
     "output_type": "stream",
     "text": [
      "110/110 [==============================] - 0s 4ms/step - loss: 8107.7305 - root_mean_squared_error: 90.0429 - val_loss: 8154.4019 - val_root_mean_squared_error: 90.3017\n",
      "Epoch 5/50\n",
      " 56/110 [==============>...............] - ETA: 0s - loss: 8105.2412 - root_mean_squared_error: 90.0291INFO:tensorflow:Assets written to: meremodel2/assets\n"
     ]
    },
    {
     "name": "stderr",
     "output_type": "stream",
     "text": [
      "INFO:tensorflow:Assets written to: meremodel2/assets\n"
     ]
    },
    {
     "name": "stdout",
     "output_type": "stream",
     "text": [
      "110/110 [==============================] - 0s 4ms/step - loss: 8087.9946 - root_mean_squared_error: 89.9333 - val_loss: 8134.6060 - val_root_mean_squared_error: 90.1920\n",
      "Epoch 6/50\n",
      "109/110 [============================>.] - ETA: 0s - loss: 8067.5073 - root_mean_squared_error: 89.8193INFO:tensorflow:Assets written to: meremodel2/assets\n"
     ]
    },
    {
     "name": "stderr",
     "output_type": "stream",
     "text": [
      "INFO:tensorflow:Assets written to: meremodel2/assets\n"
     ]
    },
    {
     "name": "stdout",
     "output_type": "stream",
     "text": [
      "110/110 [==============================] - 0s 4ms/step - loss: 8068.2905 - root_mean_squared_error: 89.8237 - val_loss: 8114.8452 - val_root_mean_squared_error: 90.0824\n",
      "Epoch 7/50\n",
      " 56/110 [==============>...............] - ETA: 0s - loss: 8044.8701 - root_mean_squared_error: 89.6932INFO:tensorflow:Assets written to: meremodel2/assets\n"
     ]
    },
    {
     "name": "stderr",
     "output_type": "stream",
     "text": [
      "INFO:tensorflow:Assets written to: meremodel2/assets\n"
     ]
    },
    {
     "name": "stdout",
     "output_type": "stream",
     "text": [
      "110/110 [==============================] - 0s 4ms/step - loss: 8048.6167 - root_mean_squared_error: 89.7141 - val_loss: 8095.1167 - val_root_mean_squared_error: 89.9729\n",
      "Epoch 8/50\n",
      "108/110 [============================>.] - ETA: 0s - loss: 8030.6978 - root_mean_squared_error: 89.6142INFO:tensorflow:Assets written to: meremodel2/assets\n"
     ]
    },
    {
     "name": "stderr",
     "output_type": "stream",
     "text": [
      "INFO:tensorflow:Assets written to: meremodel2/assets\n"
     ]
    },
    {
     "name": "stdout",
     "output_type": "stream",
     "text": [
      "110/110 [==============================] - 0s 4ms/step - loss: 8028.9854 - root_mean_squared_error: 89.6046 - val_loss: 8075.4214 - val_root_mean_squared_error: 89.8633\n",
      "Epoch 9/50\n",
      " 56/110 [==============>...............] - ETA: 0s - loss: 8006.3433 - root_mean_squared_error: 89.4782INFO:tensorflow:Assets written to: meremodel2/assets\n"
     ]
    },
    {
     "name": "stderr",
     "output_type": "stream",
     "text": [
      "INFO:tensorflow:Assets written to: meremodel2/assets\n"
     ]
    },
    {
     "name": "stdout",
     "output_type": "stream",
     "text": [
      "110/110 [==============================] - 0s 4ms/step - loss: 8009.3809 - root_mean_squared_error: 89.4951 - val_loss: 8055.7573 - val_root_mean_squared_error: 89.7539\n",
      "Epoch 10/50\n",
      " 57/110 [==============>...............] - ETA: 0s - loss: 7977.3457 - root_mean_squared_error: 89.3160INFO:tensorflow:Assets written to: meremodel2/assets\n"
     ]
    },
    {
     "name": "stderr",
     "output_type": "stream",
     "text": [
      "INFO:tensorflow:Assets written to: meremodel2/assets\n"
     ]
    },
    {
     "name": "stdout",
     "output_type": "stream",
     "text": [
      "110/110 [==============================] - 0s 4ms/step - loss: 7989.8022 - root_mean_squared_error: 89.3857 - val_loss: 8036.1323 - val_root_mean_squared_error: 89.6445\n",
      "Epoch 11/50\n",
      "106/110 [===========================>..] - ETA: 0s - loss: 7965.9507 - root_mean_squared_error: 89.2522INFO:tensorflow:Assets written to: meremodel2/assets\n"
     ]
    },
    {
     "name": "stderr",
     "output_type": "stream",
     "text": [
      "INFO:tensorflow:Assets written to: meremodel2/assets\n"
     ]
    },
    {
     "name": "stdout",
     "output_type": "stream",
     "text": [
      "110/110 [==============================] - 0s 4ms/step - loss: 7970.2622 - root_mean_squared_error: 89.2763 - val_loss: 8016.5298 - val_root_mean_squared_error: 89.5351\n",
      "Epoch 12/50\n",
      " 57/110 [==============>...............] - ETA: 0s - loss: 7943.2109 - root_mean_squared_error: 89.1247INFO:tensorflow:Assets written to: meremodel2/assets\n"
     ]
    },
    {
     "name": "stderr",
     "output_type": "stream",
     "text": [
      "INFO:tensorflow:Assets written to: meremodel2/assets\n"
     ]
    },
    {
     "name": "stdout",
     "output_type": "stream",
     "text": [
      "110/110 [==============================] - 0s 4ms/step - loss: 7950.7534 - root_mean_squared_error: 89.1670 - val_loss: 7996.9595 - val_root_mean_squared_error: 89.4257\n",
      "Epoch 13/50\n",
      "110/110 [==============================] - ETA: 0s - loss: 7931.2754 - root_mean_squared_error: 89.0577INFO:tensorflow:Assets written to: meremodel2/assets\n"
     ]
    },
    {
     "name": "stderr",
     "output_type": "stream",
     "text": [
      "INFO:tensorflow:Assets written to: meremodel2/assets\n"
     ]
    },
    {
     "name": "stdout",
     "output_type": "stream",
     "text": [
      "110/110 [==============================] - 0s 4ms/step - loss: 7931.2754 - root_mean_squared_error: 89.0577 - val_loss: 7977.4180 - val_root_mean_squared_error: 89.3164\n",
      "Epoch 14/50\n",
      "110/110 [==============================] - ETA: 0s - loss: 7911.8257 - root_mean_squared_error: 88.9484INFO:tensorflow:Assets written to: meremodel2/assets\n"
     ]
    },
    {
     "name": "stderr",
     "output_type": "stream",
     "text": [
      "INFO:tensorflow:Assets written to: meremodel2/assets\n"
     ]
    },
    {
     "name": "stdout",
     "output_type": "stream",
     "text": [
      "110/110 [==============================] - 0s 4ms/step - loss: 7911.8257 - root_mean_squared_error: 88.9484 - val_loss: 7957.9219 - val_root_mean_squared_error: 89.2072\n",
      "Epoch 15/50\n",
      "103/110 [===========================>..] - ETA: 0s - loss: 7893.5518 - root_mean_squared_error: 88.8457INFO:tensorflow:Assets written to: meremodel2/assets\n"
     ]
    },
    {
     "name": "stderr",
     "output_type": "stream",
     "text": [
      "INFO:tensorflow:Assets written to: meremodel2/assets\n"
     ]
    },
    {
     "name": "stdout",
     "output_type": "stream",
     "text": [
      "110/110 [==============================] - 0s 4ms/step - loss: 7892.4136 - root_mean_squared_error: 88.8393 - val_loss: 7938.4424 - val_root_mean_squared_error: 89.0979\n",
      "Epoch 16/50\n",
      "104/110 [===========================>..] - ETA: 0s - loss: 7873.9253 - root_mean_squared_error: 88.7351INFO:tensorflow:Assets written to: meremodel2/assets\n"
     ]
    },
    {
     "name": "stderr",
     "output_type": "stream",
     "text": [
      "INFO:tensorflow:Assets written to: meremodel2/assets\n"
     ]
    },
    {
     "name": "stdout",
     "output_type": "stream",
     "text": [
      "110/110 [==============================] - 0s 4ms/step - loss: 7873.0234 - root_mean_squared_error: 88.7301 - val_loss: 7918.9961 - val_root_mean_squared_error: 88.9887\n",
      "Epoch 17/50\n",
      " 55/110 [==============>...............] - ETA: 0s - loss: 7845.1675 - root_mean_squared_error: 88.5730INFO:tensorflow:Assets written to: meremodel2/assets\n"
     ]
    },
    {
     "name": "stderr",
     "output_type": "stream",
     "text": [
      "INFO:tensorflow:Assets written to: meremodel2/assets\n"
     ]
    },
    {
     "name": "stdout",
     "output_type": "stream",
     "text": [
      "110/110 [==============================] - 1s 5ms/step - loss: 7853.6646 - root_mean_squared_error: 88.6209 - val_loss: 7899.5811 - val_root_mean_squared_error: 88.8796\n",
      "Epoch 18/50\n",
      "108/110 [============================>.] - ETA: 0s - loss: 7835.2896 - root_mean_squared_error: 88.5172INFO:tensorflow:Assets written to: meremodel2/assets\n"
     ]
    },
    {
     "name": "stderr",
     "output_type": "stream",
     "text": [
      "INFO:tensorflow:Assets written to: meremodel2/assets\n"
     ]
    },
    {
     "name": "stdout",
     "output_type": "stream",
     "text": [
      "110/110 [==============================] - 0s 4ms/step - loss: 7834.3345 - root_mean_squared_error: 88.5118 - val_loss: 7880.1865 - val_root_mean_squared_error: 88.7704\n",
      "Epoch 19/50\n",
      " 56/110 [==============>...............] - ETA: 0s - loss: 7813.9478 - root_mean_squared_error: 88.3965INFO:tensorflow:Assets written to: meremodel2/assets\n"
     ]
    },
    {
     "name": "stderr",
     "output_type": "stream",
     "text": [
      "INFO:tensorflow:Assets written to: meremodel2/assets\n"
     ]
    },
    {
     "name": "stdout",
     "output_type": "stream",
     "text": [
      "110/110 [==============================] - 0s 4ms/step - loss: 7815.0366 - root_mean_squared_error: 88.4027 - val_loss: 7860.8291 - val_root_mean_squared_error: 88.6613\n",
      "Epoch 20/50\n",
      "109/110 [============================>.] - ETA: 0s - loss: 7795.3491 - root_mean_squared_error: 88.2913INFO:tensorflow:Assets written to: meremodel2/assets\n"
     ]
    },
    {
     "name": "stderr",
     "output_type": "stream",
     "text": [
      "INFO:tensorflow:Assets written to: meremodel2/assets\n"
     ]
    },
    {
     "name": "stdout",
     "output_type": "stream",
     "text": [
      "110/110 [==============================] - 0s 4ms/step - loss: 7795.7681 - root_mean_squared_error: 88.2936 - val_loss: 7841.4995 - val_root_mean_squared_error: 88.5522\n",
      "Epoch 21/50\n",
      " 56/110 [==============>...............] - ETA: 0s - loss: 7769.0103 - root_mean_squared_error: 88.1420INFO:tensorflow:Assets written to: meremodel2/assets\n"
     ]
    },
    {
     "name": "stderr",
     "output_type": "stream",
     "text": [
      "INFO:tensorflow:Assets written to: meremodel2/assets\n"
     ]
    },
    {
     "name": "stdout",
     "output_type": "stream",
     "text": [
      "110/110 [==============================] - 0s 4ms/step - loss: 7776.5244 - root_mean_squared_error: 88.1846 - val_loss: 7822.2026 - val_root_mean_squared_error: 88.4432\n",
      "Epoch 22/50\n",
      "109/110 [============================>.] - ETA: 0s - loss: 7757.5303 - root_mean_squared_error: 88.0768INFO:tensorflow:Assets written to: meremodel2/assets\n"
     ]
    },
    {
     "name": "stderr",
     "output_type": "stream",
     "text": [
      "INFO:tensorflow:Assets written to: meremodel2/assets\n"
     ]
    },
    {
     "name": "stdout",
     "output_type": "stream",
     "text": [
      "110/110 [==============================] - 0s 4ms/step - loss: 7757.3105 - root_mean_squared_error: 88.0756 - val_loss: 7802.9292 - val_root_mean_squared_error: 88.3342\n",
      "Epoch 23/50\n",
      " 56/110 [==============>...............] - ETA: 0s - loss: 7741.2227 - root_mean_squared_error: 87.9842INFO:tensorflow:Assets written to: meremodel2/assets\n"
     ]
    },
    {
     "name": "stderr",
     "output_type": "stream",
     "text": [
      "INFO:tensorflow:Assets written to: meremodel2/assets\n"
     ]
    },
    {
     "name": "stdout",
     "output_type": "stream",
     "text": [
      "110/110 [==============================] - 0s 4ms/step - loss: 7738.1304 - root_mean_squared_error: 87.9666 - val_loss: 7783.6846 - val_root_mean_squared_error: 88.2252\n",
      "Epoch 24/50\n",
      "110/110 [==============================] - ETA: 0s - loss: 7718.9712 - root_mean_squared_error: 87.8577INFO:tensorflow:Assets written to: meremodel2/assets\n"
     ]
    },
    {
     "name": "stderr",
     "output_type": "stream",
     "text": [
      "INFO:tensorflow:Assets written to: meremodel2/assets\n"
     ]
    },
    {
     "name": "stdout",
     "output_type": "stream",
     "text": [
      "110/110 [==============================] - 0s 4ms/step - loss: 7718.9712 - root_mean_squared_error: 87.8577 - val_loss: 7764.4658 - val_root_mean_squared_error: 88.1162\n",
      "Epoch 25/50\n",
      "109/110 [============================>.] - ETA: 0s - loss: 7699.2397 - root_mean_squared_error: 87.7453INFO:tensorflow:Assets written to: meremodel2/assets\n"
     ]
    },
    {
     "name": "stderr",
     "output_type": "stream",
     "text": [
      "INFO:tensorflow:Assets written to: meremodel2/assets\n"
     ]
    },
    {
     "name": "stdout",
     "output_type": "stream",
     "text": [
      "110/110 [==============================] - 0s 4ms/step - loss: 7699.8423 - root_mean_squared_error: 87.7487 - val_loss: 7745.2822 - val_root_mean_squared_error: 88.0073\n",
      "Epoch 26/50\n",
      "108/110 [============================>.] - ETA: 0s - loss: 7682.8657 - root_mean_squared_error: 87.6520INFO:tensorflow:Assets written to: meremodel2/assets\n"
     ]
    },
    {
     "name": "stderr",
     "output_type": "stream",
     "text": [
      "INFO:tensorflow:Assets written to: meremodel2/assets\n"
     ]
    },
    {
     "name": "stdout",
     "output_type": "stream",
     "text": [
      "110/110 [==============================] - 0s 4ms/step - loss: 7680.7417 - root_mean_squared_error: 87.6398 - val_loss: 7726.1138 - val_root_mean_squared_error: 87.8983\n",
      "Epoch 27/50\n",
      "110/110 [==============================] - ETA: 0s - loss: 7661.6646 - root_mean_squared_error: 87.5309INFO:tensorflow:Assets written to: meremodel2/assets\n"
     ]
    },
    {
     "name": "stderr",
     "output_type": "stream",
     "text": [
      "INFO:tensorflow:Assets written to: meremodel2/assets\n"
     ]
    },
    {
     "name": "stdout",
     "output_type": "stream",
     "text": [
      "110/110 [==============================] - 0s 4ms/step - loss: 7661.6646 - root_mean_squared_error: 87.5309 - val_loss: 7706.9834 - val_root_mean_squared_error: 87.7894\n",
      "Epoch 28/50\n",
      " 57/110 [==============>...............] - ETA: 0s - loss: 7649.2085 - root_mean_squared_error: 87.4598INFO:tensorflow:Assets written to: meremodel2/assets\n"
     ]
    },
    {
     "name": "stderr",
     "output_type": "stream",
     "text": [
      "INFO:tensorflow:Assets written to: meremodel2/assets\n"
     ]
    },
    {
     "name": "stdout",
     "output_type": "stream",
     "text": [
      "110/110 [==============================] - 0s 4ms/step - loss: 7642.6152 - root_mean_squared_error: 87.4221 - val_loss: 7687.8662 - val_root_mean_squared_error: 87.6805\n",
      "Epoch 29/50\n",
      " 57/110 [==============>...............] - ETA: 0s - loss: 7645.7827 - root_mean_squared_error: 87.4402INFO:tensorflow:Assets written to: meremodel2/assets\n"
     ]
    },
    {
     "name": "stderr",
     "output_type": "stream",
     "text": [
      "INFO:tensorflow:Assets written to: meremodel2/assets\n"
     ]
    },
    {
     "name": "stdout",
     "output_type": "stream",
     "text": [
      "110/110 [==============================] - 0s 4ms/step - loss: 7623.5952 - root_mean_squared_error: 87.3132 - val_loss: 7668.7861 - val_root_mean_squared_error: 87.5716\n",
      "Epoch 30/50\n",
      " 57/110 [==============>...............] - ETA: 0s - loss: 7611.5806 - root_mean_squared_error: 87.2444INFO:tensorflow:Assets written to: meremodel2/assets\n"
     ]
    },
    {
     "name": "stderr",
     "output_type": "stream",
     "text": [
      "INFO:tensorflow:Assets written to: meremodel2/assets\n"
     ]
    },
    {
     "name": "stdout",
     "output_type": "stream",
     "text": [
      "110/110 [==============================] - 0s 4ms/step - loss: 7604.5962 - root_mean_squared_error: 87.2043 - val_loss: 7649.7300 - val_root_mean_squared_error: 87.4627\n",
      "Epoch 31/50\n",
      "109/110 [============================>.] - ETA: 0s - loss: 7585.6855 - root_mean_squared_error: 87.0958INFO:tensorflow:Assets written to: meremodel2/assets\n"
     ]
    },
    {
     "name": "stderr",
     "output_type": "stream",
     "text": [
      "INFO:tensorflow:Assets written to: meremodel2/assets\n"
     ]
    },
    {
     "name": "stdout",
     "output_type": "stream",
     "text": [
      "110/110 [==============================] - 0s 4ms/step - loss: 7585.6240 - root_mean_squared_error: 87.0955 - val_loss: 7630.7007 - val_root_mean_squared_error: 87.3539\n",
      "Epoch 32/50\n",
      "105/110 [===========================>..] - ETA: 0s - loss: 7569.8228 - root_mean_squared_error: 87.0047INFO:tensorflow:Assets written to: meremodel2/assets\n"
     ]
    },
    {
     "name": "stderr",
     "output_type": "stream",
     "text": [
      "INFO:tensorflow:Assets written to: meremodel2/assets\n"
     ]
    },
    {
     "name": "stdout",
     "output_type": "stream",
     "text": [
      "110/110 [==============================] - 1s 5ms/step - loss: 7566.6836 - root_mean_squared_error: 86.9867 - val_loss: 7611.6924 - val_root_mean_squared_error: 87.2450\n",
      "Epoch 33/50\n",
      " 57/110 [==============>...............] - ETA: 0s - loss: 7548.1021 - root_mean_squared_error: 86.8798INFO:tensorflow:Assets written to: meremodel2/assets\n"
     ]
    },
    {
     "name": "stderr",
     "output_type": "stream",
     "text": [
      "INFO:tensorflow:Assets written to: meremodel2/assets\n"
     ]
    },
    {
     "name": "stdout",
     "output_type": "stream",
     "text": [
      "110/110 [==============================] - 0s 4ms/step - loss: 7547.7646 - root_mean_squared_error: 86.8779 - val_loss: 7592.7212 - val_root_mean_squared_error: 87.1362\n",
      "Epoch 34/50\n",
      " 58/110 [==============>...............] - ETA: 0s - loss: 7513.9888 - root_mean_squared_error: 86.6833INFO:tensorflow:Assets written to: meremodel2/assets\n"
     ]
    },
    {
     "name": "stderr",
     "output_type": "stream",
     "text": [
      "INFO:tensorflow:Assets written to: meremodel2/assets\n"
     ]
    },
    {
     "name": "stdout",
     "output_type": "stream",
     "text": [
      "110/110 [==============================] - 0s 4ms/step - loss: 7528.8730 - root_mean_squared_error: 86.7691 - val_loss: 7573.7661 - val_root_mean_squared_error: 87.0274\n",
      "Epoch 35/50\n",
      " 55/110 [==============>...............] - ETA: 0s - loss: 7541.1084 - root_mean_squared_error: 86.8396INFO:tensorflow:Assets written to: meremodel2/assets\n"
     ]
    },
    {
     "name": "stderr",
     "output_type": "stream",
     "text": [
      "INFO:tensorflow:Assets written to: meremodel2/assets\n"
     ]
    },
    {
     "name": "stdout",
     "output_type": "stream",
     "text": [
      "110/110 [==============================] - 0s 4ms/step - loss: 7510.0107 - root_mean_squared_error: 86.6603 - val_loss: 7554.8350 - val_root_mean_squared_error: 86.9186\n",
      "Epoch 36/50\n",
      " 57/110 [==============>...............] - ETA: 0s - loss: 7491.5366 - root_mean_squared_error: 86.5537INFO:tensorflow:Assets written to: meremodel2/assets\n"
     ]
    },
    {
     "name": "stderr",
     "output_type": "stream",
     "text": [
      "INFO:tensorflow:Assets written to: meremodel2/assets\n"
     ]
    },
    {
     "name": "stdout",
     "output_type": "stream",
     "text": [
      "110/110 [==============================] - 0s 4ms/step - loss: 7491.1694 - root_mean_squared_error: 86.5515 - val_loss: 7535.9360 - val_root_mean_squared_error: 86.8098\n",
      "Epoch 37/50\n",
      "110/110 [==============================] - ETA: 0s - loss: 7472.3516 - root_mean_squared_error: 86.4428INFO:tensorflow:Assets written to: meremodel2/assets\n"
     ]
    },
    {
     "name": "stderr",
     "output_type": "stream",
     "text": [
      "INFO:tensorflow:Assets written to: meremodel2/assets\n"
     ]
    },
    {
     "name": "stdout",
     "output_type": "stream",
     "text": [
      "110/110 [==============================] - 0s 4ms/step - loss: 7472.3516 - root_mean_squared_error: 86.4428 - val_loss: 7517.0620 - val_root_mean_squared_error: 86.7010\n",
      "Epoch 38/50\n",
      " 57/110 [==============>...............] - ETA: 0s - loss: 7481.1304 - root_mean_squared_error: 86.4935INFO:tensorflow:Assets written to: meremodel2/assets\n"
     ]
    },
    {
     "name": "stderr",
     "output_type": "stream",
     "text": [
      "INFO:tensorflow:Assets written to: meremodel2/assets\n"
     ]
    },
    {
     "name": "stdout",
     "output_type": "stream",
     "text": [
      "110/110 [==============================] - 0s 4ms/step - loss: 7453.5605 - root_mean_squared_error: 86.3340 - val_loss: 7498.2051 - val_root_mean_squared_error: 86.5922\n",
      "Epoch 39/50\n",
      " 57/110 [==============>...............] - ETA: 0s - loss: 7440.4644 - root_mean_squared_error: 86.2581INFO:tensorflow:Assets written to: meremodel2/assets\n"
     ]
    },
    {
     "name": "stderr",
     "output_type": "stream",
     "text": [
      "INFO:tensorflow:Assets written to: meremodel2/assets\n"
     ]
    },
    {
     "name": "stdout",
     "output_type": "stream",
     "text": [
      "110/110 [==============================] - 0s 4ms/step - loss: 7434.7964 - root_mean_squared_error: 86.2253 - val_loss: 7479.3828 - val_root_mean_squared_error: 86.4834\n",
      "Epoch 40/50\n",
      " 57/110 [==============>...............] - ETA: 0s - loss: 7416.3330 - root_mean_squared_error: 86.1181INFO:tensorflow:Assets written to: meremodel2/assets\n"
     ]
    },
    {
     "name": "stderr",
     "output_type": "stream",
     "text": [
      "INFO:tensorflow:Assets written to: meremodel2/assets\n"
     ]
    },
    {
     "name": "stdout",
     "output_type": "stream",
     "text": [
      "110/110 [==============================] - 0s 4ms/step - loss: 7416.0571 - root_mean_squared_error: 86.1165 - val_loss: 7460.5864 - val_root_mean_squared_error: 86.3747\n",
      "Epoch 41/50\n",
      " 55/110 [==============>...............] - ETA: 0s - loss: 7395.8574 - root_mean_squared_error: 85.9992INFO:tensorflow:Assets written to: meremodel2/assets\n"
     ]
    },
    {
     "name": "stderr",
     "output_type": "stream",
     "text": [
      "INFO:tensorflow:Assets written to: meremodel2/assets\n"
     ]
    },
    {
     "name": "stdout",
     "output_type": "stream",
     "text": [
      "110/110 [==============================] - 0s 4ms/step - loss: 7397.3408 - root_mean_squared_error: 86.0078 - val_loss: 7441.8052 - val_root_mean_squared_error: 86.2659\n",
      "Epoch 42/50\n",
      " 55/110 [==============>...............] - ETA: 0s - loss: 7389.5522 - root_mean_squared_error: 85.9625INFO:tensorflow:Assets written to: meremodel2/assets\n"
     ]
    },
    {
     "name": "stderr",
     "output_type": "stream",
     "text": [
      "INFO:tensorflow:Assets written to: meremodel2/assets\n"
     ]
    },
    {
     "name": "stdout",
     "output_type": "stream",
     "text": [
      "110/110 [==============================] - 0s 4ms/step - loss: 7378.6489 - root_mean_squared_error: 85.8991 - val_loss: 7423.0586 - val_root_mean_squared_error: 86.1572\n",
      "Epoch 43/50\n",
      "108/110 [============================>.] - ETA: 0s - loss: 7358.7520 - root_mean_squared_error: 85.7832INFO:tensorflow:Assets written to: meremodel2/assets\n"
     ]
    },
    {
     "name": "stderr",
     "output_type": "stream",
     "text": [
      "INFO:tensorflow:Assets written to: meremodel2/assets\n"
     ]
    },
    {
     "name": "stdout",
     "output_type": "stream",
     "text": [
      "110/110 [==============================] - 0s 4ms/step - loss: 7359.9839 - root_mean_squared_error: 85.7904 - val_loss: 7404.3301 - val_root_mean_squared_error: 86.0484\n",
      "Epoch 44/50\n",
      "108/110 [============================>.] - ETA: 0s - loss: 7342.0630 - root_mean_squared_error: 85.6858INFO:tensorflow:Assets written to: meremodel2/assets\n"
     ]
    },
    {
     "name": "stderr",
     "output_type": "stream",
     "text": [
      "INFO:tensorflow:Assets written to: meremodel2/assets\n"
     ]
    },
    {
     "name": "stdout",
     "output_type": "stream",
     "text": [
      "110/110 [==============================] - 0s 4ms/step - loss: 7341.3477 - root_mean_squared_error: 85.6817 - val_loss: 7385.6260 - val_root_mean_squared_error: 85.9397\n",
      "Epoch 45/50\n",
      "110/110 [==============================] - ETA: 0s - loss: 7322.7305 - root_mean_squared_error: 85.5730INFO:tensorflow:Assets written to: meremodel2/assets\n"
     ]
    },
    {
     "name": "stderr",
     "output_type": "stream",
     "text": [
      "INFO:tensorflow:Assets written to: meremodel2/assets\n"
     ]
    },
    {
     "name": "stdout",
     "output_type": "stream",
     "text": [
      "110/110 [==============================] - 0s 4ms/step - loss: 7322.7305 - root_mean_squared_error: 85.5730 - val_loss: 7366.9517 - val_root_mean_squared_error: 85.8309\n",
      "Epoch 46/50\n",
      "110/110 [==============================] - ETA: 0s - loss: 7304.1357 - root_mean_squared_error: 85.4642INFO:tensorflow:Assets written to: meremodel2/assets\n"
     ]
    },
    {
     "name": "stderr",
     "output_type": "stream",
     "text": [
      "INFO:tensorflow:Assets written to: meremodel2/assets\n"
     ]
    },
    {
     "name": "stdout",
     "output_type": "stream",
     "text": [
      "110/110 [==============================] - 0s 4ms/step - loss: 7304.1357 - root_mean_squared_error: 85.4642 - val_loss: 7348.2930 - val_root_mean_squared_error: 85.7222\n",
      "Epoch 47/50\n",
      " 55/110 [==============>...............] - ETA: 0s - loss: 7299.9365 - root_mean_squared_error: 85.4397INFO:tensorflow:Assets written to: meremodel2/assets\n"
     ]
    },
    {
     "name": "stderr",
     "output_type": "stream",
     "text": [
      "INFO:tensorflow:Assets written to: meremodel2/assets\n"
     ]
    },
    {
     "name": "stdout",
     "output_type": "stream",
     "text": [
      "110/110 [==============================] - 1s 5ms/step - loss: 7285.5684 - root_mean_squared_error: 85.3555 - val_loss: 7329.6685 - val_root_mean_squared_error: 85.6135\n",
      "Epoch 48/50\n",
      "110/110 [==============================] - ETA: 0s - loss: 7267.0288 - root_mean_squared_error: 85.2469INFO:tensorflow:Assets written to: meremodel2/assets\n"
     ]
    },
    {
     "name": "stderr",
     "output_type": "stream",
     "text": [
      "INFO:tensorflow:Assets written to: meremodel2/assets\n"
     ]
    },
    {
     "name": "stdout",
     "output_type": "stream",
     "text": [
      "110/110 [==============================] - 0s 4ms/step - loss: 7267.0288 - root_mean_squared_error: 85.2469 - val_loss: 7311.0640 - val_root_mean_squared_error: 85.5048\n",
      "Epoch 49/50\n",
      " 57/110 [==============>...............] - ETA: 0s - loss: 7237.4028 - root_mean_squared_error: 85.0729INFO:tensorflow:Assets written to: meremodel2/assets\n"
     ]
    },
    {
     "name": "stderr",
     "output_type": "stream",
     "text": [
      "INFO:tensorflow:Assets written to: meremodel2/assets\n"
     ]
    },
    {
     "name": "stdout",
     "output_type": "stream",
     "text": [
      "110/110 [==============================] - 0s 4ms/step - loss: 7248.5117 - root_mean_squared_error: 85.1382 - val_loss: 7292.4878 - val_root_mean_squared_error: 85.3961\n",
      "Epoch 50/50\n",
      " 56/110 [==============>...............] - ETA: 0s - loss: 7233.1592 - root_mean_squared_error: 85.0480INFO:tensorflow:Assets written to: meremodel2/assets\n"
     ]
    },
    {
     "name": "stderr",
     "output_type": "stream",
     "text": [
      "INFO:tensorflow:Assets written to: meremodel2/assets\n"
     ]
    },
    {
     "name": "stdout",
     "output_type": "stream",
     "text": [
      "\b\b\b\b\b\b\b\b\b\b\b\b\b\b\b\b\b\b\b\b\b\b\b\b\b\b\b\b\b\b\b\b\b\b\b\b\b\b\b\b\b\b\b\b\b\b\b\b\b\b\b\b\b\b\b\b\b\b\b\b\b\b\b\b\b\b\b\b\b\b\b\b\b\b\b\b\b\b\b\b\b\b\b\b\b\b\b\b\b\b\b\b\b\b\b\b\b\b\b\b\b\b\b\r",
      "110/110 [==============================] - 0s 4ms/step - loss: 7230.0205 - root_mean_squared_error: 85.0295 - val_loss: 7273.9341 - val_root_mean_squared_error: 85.2874\n"
     ]
    },
    {
     "data": {
      "text/plain": [
       "<keras.src.callbacks.History at 0x7fe77b177130>"
      ]
     },
     "execution_count": 28,
     "metadata": {},
     "output_type": "execute_result"
    }
   ],
   "source": [
    "model2.fit(X_train, y_train, validation_data=(X_val, y_val), epochs=50, callbacks=[cp2])"
   ]
  },
  {
   "cell_type": "code",
   "execution_count": 29,
   "id": "bef1bfe5",
   "metadata": {},
   "outputs": [
    {
     "name": "stdout",
     "output_type": "stream",
     "text": [
      "16/16 [==============================] - 0s 827us/step\n"
     ]
    },
    {
     "data": {
      "image/png": "[encoded data removed]",
      "text/plain": [
       "<Figure size 1152x360 with 1 Axes>"
      ]
     },
     "metadata": {
      "needs_background": "light"
     },
     "output_type": "display_data"
    },
    {
     "data": {
      "text/plain": [
       "(     Predictions  Actuals\n",
       " 0       5.456367  91.4921\n",
       " 1       5.456367  91.5775\n",
       " 2       5.456367  91.6546\n",
       " 3       5.456367  91.7333\n",
       " 4       5.456367  91.7912\n",
       " ..           ...      ...\n",
       " 495     5.456367  79.4696\n",
       " 496     5.456367  80.0721\n",
       " 497     5.456367  80.4046\n",
       " 498     5.456367  80.6565\n",
       " 499     5.456367  80.8423\n",
       " \n",
       " [500 rows x 2 columns],\n",
       " 6339.52676698675)"
      ]
     },
     "execution_count": 29,
     "metadata": {},
     "output_type": "execute_result"
    }
   ],
   "source": [
    "model2 = load_model('meremodel2/')\n",
    "plot_predictions1(model2, X_test, y_test)"
   ]
  },
  {
   "cell_type": "markdown",
   "id": "dfdb11a2",
   "metadata": {},
   "source": [
    "## GRU Model"
   ]
  },
  {
   "cell_type": "code",
   "execution_count": 30,
   "id": "4d39f1d4",
   "metadata": {},
   "outputs": [
    {
     "name": "stdout",
     "output_type": "stream",
     "text": [
      "Model: \"sequential_2\"\n",
      "_________________________________________________________________\n",
      " Layer (type)                Output Shape              Param #   \n",
      "=================================================================\n",
      " gru (GRU)                   (None, 64)                12864     \n",
      "                                                                 \n",
      " flatten_1 (Flatten)         (None, 64)                0         \n",
      "                                                                 \n",
      " dense_4 (Dense)             (None, 8)                 520       \n",
      "                                                                 \n",
      " dense_5 (Dense)             (None, 1)                 9         \n",
      "                                                                 \n",
      "=================================================================\n",
      "Total params: 13393 (52.32 KB)\n",
      "Trainable params: 13393 (52.32 KB)\n",
      "Non-trainable params: 0 (0.00 Byte)\n",
      "_________________________________________________________________\n"
     ]
    }
   ],
   "source": [
    "model3 = Sequential()\n",
    "model3.add(InputLayer((5,1)))\n",
    "model3.add(GRU(64))\n",
    "model3.add(Flatten())\n",
    "model3.add(Dense(8, 'relu'))\n",
    "model3.add(Dense(1, 'linear'))\n",
    "\n",
    "model3.summary()"
   ]
  },
  {
   "cell_type": "code",
   "execution_count": 31,
   "id": "bdd45f85",
   "metadata": {},
   "outputs": [],
   "source": [
    "cp3 = ModelCheckpoint('meremodel3/', save_best_only=True)\n",
    "# the above makes a folder that our gitignore should exclude\n",
    "\n",
    "model3.compile(loss=MeanSquaredError(), optimizer=Adam(learning_rate=0.001), metrics=[RootMeanSquaredError()])"
   ]
  },
  {
   "cell_type": "code",
   "execution_count": 32,
   "id": "538a7bb2",
   "metadata": {},
   "outputs": [
    {
     "name": "stdout",
     "output_type": "stream",
     "text": [
      "Epoch 1/50\n",
      " 95/110 [========================>.....] - ETA: 0s - loss: 6693.8940 - root_mean_squared_error: 81.8162INFO:tensorflow:Assets written to: meremodel3/assets\n"
     ]
    },
    {
     "name": "stderr",
     "output_type": "stream",
     "text": [
      "INFO:tensorflow:Assets written to: meremodel3/assets\n"
     ]
    },
    {
     "name": "stdout",
     "output_type": "stream",
     "text": [
      "110/110 [==============================] - 3s 19ms/step - loss: 6516.8765 - root_mean_squared_error: 80.7272 - val_loss: 5176.0034 - val_root_mean_squared_error: 71.9445\n",
      "Epoch 2/50\n",
      " 99/110 [==========================>...] - ETA: 0s - loss: 3668.8965 - root_mean_squared_error: 60.5714INFO:tensorflow:Assets written to: meremodel3/assets\n"
     ]
    },
    {
     "name": "stderr",
     "output_type": "stream",
     "text": [
      "INFO:tensorflow:Assets written to: meremodel3/assets\n"
     ]
    },
    {
     "name": "stdout",
     "output_type": "stream",
     "text": [
      "110/110 [==============================] - 2s 18ms/step - loss: 3526.0020 - root_mean_squared_error: 59.3801 - val_loss: 2022.4973 - val_root_mean_squared_error: 44.9722\n",
      "Epoch 3/50\n",
      " 96/110 [=========================>....] - ETA: 0s - loss: 1154.2699 - root_mean_squared_error: 33.9745INFO:tensorflow:Assets written to: meremodel3/assets\n"
     ]
    },
    {
     "name": "stderr",
     "output_type": "stream",
     "text": [
      "INFO:tensorflow:Assets written to: meremodel3/assets\n"
     ]
    },
    {
     "name": "stdout",
     "output_type": "stream",
     "text": [
      "110/110 [==============================] - 2s 16ms/step - loss: 1069.1213 - root_mean_squared_error: 32.6974 - val_loss: 409.2879 - val_root_mean_squared_error: 20.2309\n",
      "Epoch 4/50\n",
      "109/110 [============================>.] - ETA: 0s - loss: 165.9508 - root_mean_squared_error: 12.8822INFO:tensorflow:Assets written to: meremodel3/assets\n"
     ]
    },
    {
     "name": "stderr",
     "output_type": "stream",
     "text": [
      "INFO:tensorflow:Assets written to: meremodel3/assets\n"
     ]
    },
    {
     "name": "stdout",
     "output_type": "stream",
     "text": [
      "110/110 [==============================] - 2s 17ms/step - loss: 165.5795 - root_mean_squared_error: 12.8678 - val_loss: 41.9264 - val_root_mean_squared_error: 6.4751\n",
      "Epoch 5/50\n",
      " 99/110 [==========================>...] - ETA: 0s - loss: 22.2311 - root_mean_squared_error: 4.7150INFO:tensorflow:Assets written to: meremodel3/assets\n"
     ]
    },
    {
     "name": "stderr",
     "output_type": "stream",
     "text": [
      "INFO:tensorflow:Assets written to: meremodel3/assets\n"
     ]
    },
    {
     "name": "stdout",
     "output_type": "stream",
     "text": [
      "110/110 [==============================] - 2s 18ms/step - loss: 21.3659 - root_mean_squared_error: 4.6223 - val_loss: 9.5007 - val_root_mean_squared_error: 3.0823\n",
      "Epoch 6/50\n",
      " 96/110 [=========================>....] - ETA: 0s - loss: 12.4990 - root_mean_squared_error: 3.5354INFO:tensorflow:Assets written to: meremodel3/assets\n"
     ]
    },
    {
     "name": "stderr",
     "output_type": "stream",
     "text": [
      "INFO:tensorflow:Assets written to: meremodel3/assets\n"
     ]
    },
    {
     "name": "stdout",
     "output_type": "stream",
     "text": [
      "110/110 [==============================] - 2s 16ms/step - loss: 12.3238 - root_mean_squared_error: 3.5105 - val_loss: 7.9241 - val_root_mean_squared_error: 2.8150\n",
      "Epoch 7/50\n",
      " 97/110 [=========================>....] - ETA: 0s - loss: 11.8589 - root_mean_squared_error: 3.4437INFO:tensorflow:Assets written to: meremodel3/assets\n"
     ]
    },
    {
     "name": "stderr",
     "output_type": "stream",
     "text": [
      "INFO:tensorflow:Assets written to: meremodel3/assets\n"
     ]
    },
    {
     "name": "stdout",
     "output_type": "stream",
     "text": [
      "110/110 [==============================] - 2s 16ms/step - loss: 12.0989 - root_mean_squared_error: 3.4783 - val_loss: 7.8279 - val_root_mean_squared_error: 2.7978\n",
      "Epoch 8/50\n",
      " 98/110 [=========================>....] - ETA: 0s - loss: 9.7393 - root_mean_squared_error: 3.1208 INFO:tensorflow:Assets written to: meremodel3/assets\n"
     ]
    },
    {
     "name": "stderr",
     "output_type": "stream",
     "text": [
      "INFO:tensorflow:Assets written to: meremodel3/assets\n"
     ]
    },
    {
     "name": "stdout",
     "output_type": "stream",
     "text": [
      "110/110 [==============================] - 2s 16ms/step - loss: 9.3540 - root_mean_squared_error: 3.0584 - val_loss: 4.8407 - val_root_mean_squared_error: 2.2002\n",
      "Epoch 9/50\n",
      " 98/110 [=========================>....] - ETA: 0s - loss: 3.9456 - root_mean_squared_error: 1.9864INFO:tensorflow:Assets written to: meremodel3/assets\n"
     ]
    },
    {
     "name": "stderr",
     "output_type": "stream",
     "text": [
      "INFO:tensorflow:Assets written to: meremodel3/assets\n"
     ]
    },
    {
     "name": "stdout",
     "output_type": "stream",
     "text": [
      "110/110 [==============================] - 2s 19ms/step - loss: 3.7204 - root_mean_squared_error: 1.9288 - val_loss: 1.3315 - val_root_mean_squared_error: 1.1539\n",
      "Epoch 10/50\n",
      " 96/110 [=========================>....] - ETA: 0s - loss: 1.1641 - root_mean_squared_error: 1.0789INFO:tensorflow:Assets written to: meremodel3/assets\n"
     ]
    },
    {
     "name": "stderr",
     "output_type": "stream",
     "text": [
      "INFO:tensorflow:Assets written to: meremodel3/assets\n"
     ]
    },
    {
     "name": "stdout",
     "output_type": "stream",
     "text": [
      "110/110 [==============================] - 2s 16ms/step - loss: 1.1095 - root_mean_squared_error: 1.0533 - val_loss: 0.5354 - val_root_mean_squared_error: 0.7317\n",
      "Epoch 11/50\n",
      " 95/110 [========================>.....] - ETA: 0s - loss: 0.3974 - root_mean_squared_error: 0.6304INFO:tensorflow:Assets written to: meremodel3/assets\n"
     ]
    },
    {
     "name": "stderr",
     "output_type": "stream",
     "text": [
      "INFO:tensorflow:Assets written to: meremodel3/assets\n"
     ]
    },
    {
     "name": "stdout",
     "output_type": "stream",
     "text": [
      "110/110 [==============================] - 2s 16ms/step - loss: 0.3765 - root_mean_squared_error: 0.6136 - val_loss: 0.2546 - val_root_mean_squared_error: 0.5046\n",
      "Epoch 12/50\n",
      "110/110 [==============================] - 0s 3ms/step - loss: 0.2235 - root_mean_squared_error: 0.4728 - val_loss: 0.2584 - val_root_mean_squared_error: 0.5083\n",
      "Epoch 13/50\n",
      " 95/110 [========================>.....] - ETA: 0s - loss: 0.1532 - root_mean_squared_error: 0.3914INFO:tensorflow:Assets written to: meremodel3/assets\n"
     ]
    },
    {
     "name": "stderr",
     "output_type": "stream",
     "text": [
      "INFO:tensorflow:Assets written to: meremodel3/assets\n"
     ]
    },
    {
     "name": "stdout",
     "output_type": "stream",
     "text": [
      "110/110 [==============================] - 2s 19ms/step - loss: 0.1485 - root_mean_squared_error: 0.3854 - val_loss: 0.1231 - val_root_mean_squared_error: 0.3508\n",
      "Epoch 14/50\n",
      " 98/110 [=========================>....] - ETA: 0s - loss: 0.1415 - root_mean_squared_error: 0.3761INFO:tensorflow:Assets written to: meremodel3/assets\n"
     ]
    },
    {
     "name": "stderr",
     "output_type": "stream",
     "text": [
      "INFO:tensorflow:Assets written to: meremodel3/assets\n"
     ]
    },
    {
     "name": "stdout",
     "output_type": "stream",
     "text": [
      "110/110 [==============================] - 2s 16ms/step - loss: 0.1380 - root_mean_squared_error: 0.3715 - val_loss: 0.1150 - val_root_mean_squared_error: 0.3391\n",
      "Epoch 15/50\n",
      "110/110 [==============================] - 0s 2ms/step - loss: 0.1224 - root_mean_squared_error: 0.3499 - val_loss: 0.1499 - val_root_mean_squared_error: 0.3872\n",
      "Epoch 16/50\n",
      "110/110 [==============================] - 0s 2ms/step - loss: 0.1205 - root_mean_squared_error: 0.3471 - val_loss: 0.1183 - val_root_mean_squared_error: 0.3439\n",
      "Epoch 17/50\n",
      " 96/110 [=========================>....] - ETA: 0s - loss: 0.1051 - root_mean_squared_error: 0.3242INFO:tensorflow:Assets written to: meremodel3/assets\n"
     ]
    },
    {
     "name": "stderr",
     "output_type": "stream",
     "text": [
      "INFO:tensorflow:Assets written to: meremodel3/assets\n"
     ]
    },
    {
     "name": "stdout",
     "output_type": "stream",
     "text": [
      "110/110 [==============================] - 2s 16ms/step - loss: 0.1044 - root_mean_squared_error: 0.3231 - val_loss: 0.1071 - val_root_mean_squared_error: 0.3273\n",
      "Epoch 18/50\n",
      " 97/110 [=========================>....] - ETA: 0s - loss: 0.0982 - root_mean_squared_error: 0.3134INFO:tensorflow:Assets written to: meremodel3/assets\n"
     ]
    },
    {
     "name": "stderr",
     "output_type": "stream",
     "text": [
      "INFO:tensorflow:Assets written to: meremodel3/assets\n"
     ]
    },
    {
     "name": "stdout",
     "output_type": "stream",
     "text": [
      "110/110 [==============================] - 2s 16ms/step - loss: 0.0964 - root_mean_squared_error: 0.3105 - val_loss: 0.0596 - val_root_mean_squared_error: 0.2441\n",
      "Epoch 19/50\n",
      " 97/110 [=========================>....] - ETA: 0s - loss: 0.0888 - root_mean_squared_error: 0.2981INFO:tensorflow:Assets written to: meremodel3/assets\n"
     ]
    },
    {
     "name": "stderr",
     "output_type": "stream",
     "text": [
      "INFO:tensorflow:Assets written to: meremodel3/assets\n"
     ]
    },
    {
     "name": "stdout",
     "output_type": "stream",
     "text": [
      "110/110 [==============================] - 2s 19ms/step - loss: 0.0850 - root_mean_squared_error: 0.2916 - val_loss: 0.0408 - val_root_mean_squared_error: 0.2020\n",
      "Epoch 20/50\n",
      "110/110 [==============================] - 0s 2ms/step - loss: 0.0869 - root_mean_squared_error: 0.2949 - val_loss: 0.1815 - val_root_mean_squared_error: 0.4260\n",
      "Epoch 21/50\n",
      "110/110 [==============================] - 0s 2ms/step - loss: 0.0755 - root_mean_squared_error: 0.2747 - val_loss: 0.0470 - val_root_mean_squared_error: 0.2167\n",
      "Epoch 22/50\n",
      "110/110 [==============================] - 0s 2ms/step - loss: 0.0719 - root_mean_squared_error: 0.2681 - val_loss: 0.0449 - val_root_mean_squared_error: 0.2120\n",
      "Epoch 23/50\n",
      "110/110 [==============================] - 0s 2ms/step - loss: 0.0944 - root_mean_squared_error: 0.3072 - val_loss: 0.1399 - val_root_mean_squared_error: 0.3740\n",
      "Epoch 24/50\n",
      "110/110 [==============================] - 0s 2ms/step - loss: 0.0766 - root_mean_squared_error: 0.2768 - val_loss: 0.0563 - val_root_mean_squared_error: 0.2373\n",
      "Epoch 25/50\n",
      "110/110 [==============================] - 0s 2ms/step - loss: 0.0720 - root_mean_squared_error: 0.2684 - val_loss: 0.1029 - val_root_mean_squared_error: 0.3208\n",
      "Epoch 26/50\n",
      "110/110 [==============================] - 0s 2ms/step - loss: 0.0830 - root_mean_squared_error: 0.2881 - val_loss: 0.0505 - val_root_mean_squared_error: 0.2247\n",
      "Epoch 27/50\n",
      "110/110 [==============================] - 0s 2ms/step - loss: 0.0736 - root_mean_squared_error: 0.2713 - val_loss: 0.1260 - val_root_mean_squared_error: 0.3549\n",
      "Epoch 28/50\n",
      "110/110 [==============================] - 0s 2ms/step - loss: 0.0778 - root_mean_squared_error: 0.2789 - val_loss: 0.1204 - val_root_mean_squared_error: 0.3469\n",
      "Epoch 29/50\n",
      "110/110 [==============================] - 0s 2ms/step - loss: 0.0736 - root_mean_squared_error: 0.2713 - val_loss: 0.0702 - val_root_mean_squared_error: 0.2649\n",
      "Epoch 30/50\n",
      " 98/110 [=========================>....] - ETA: 0s - loss: 0.0798 - root_mean_squared_error: 0.2825INFO:tensorflow:Assets written to: meremodel3/assets\n"
     ]
    },
    {
     "name": "stderr",
     "output_type": "stream",
     "text": [
      "INFO:tensorflow:Assets written to: meremodel3/assets\n"
     ]
    },
    {
     "name": "stdout",
     "output_type": "stream",
     "text": [
      "110/110 [==============================] - 2s 16ms/step - loss: 0.0797 - root_mean_squared_error: 0.2823 - val_loss: 0.0401 - val_root_mean_squared_error: 0.2001\n",
      "Epoch 31/50\n",
      "110/110 [==============================] - 0s 2ms/step - loss: 0.0853 - root_mean_squared_error: 0.2921 - val_loss: 0.0491 - val_root_mean_squared_error: 0.2217\n",
      "Epoch 32/50\n",
      "110/110 [==============================] - 0s 2ms/step - loss: 0.0711 - root_mean_squared_error: 0.2667 - val_loss: 0.0410 - val_root_mean_squared_error: 0.2024\n",
      "Epoch 33/50\n",
      "110/110 [==============================] - 0s 2ms/step - loss: 0.0832 - root_mean_squared_error: 0.2885 - val_loss: 0.0837 - val_root_mean_squared_error: 0.2894\n",
      "Epoch 34/50\n",
      "110/110 [==============================] - 0s 2ms/step - loss: 0.0770 - root_mean_squared_error: 0.2775 - val_loss: 0.0528 - val_root_mean_squared_error: 0.2299\n",
      "Epoch 35/50\n",
      " 96/110 [=========================>....] - ETA: 0s - loss: 0.0639 - root_mean_squared_error: 0.2529INFO:tensorflow:Assets written to: meremodel3/assets\n"
     ]
    },
    {
     "name": "stderr",
     "output_type": "stream",
     "text": [
      "INFO:tensorflow:Assets written to: meremodel3/assets\n"
     ]
    },
    {
     "name": "stdout",
     "output_type": "stream",
     "text": [
      "110/110 [==============================] - 2s 17ms/step - loss: 0.0635 - root_mean_squared_error: 0.2520 - val_loss: 0.0389 - val_root_mean_squared_error: 0.1974\n",
      "Epoch 36/50\n",
      " 93/110 [========================>.....] - ETA: 0s - loss: 0.0697 - root_mean_squared_error: 0.2640INFO:tensorflow:Assets written to: meremodel3/assets\n"
     ]
    },
    {
     "name": "stderr",
     "output_type": "stream",
     "text": [
      "INFO:tensorflow:Assets written to: meremodel3/assets\n"
     ]
    },
    {
     "name": "stdout",
     "output_type": "stream",
     "text": [
      "110/110 [==============================] - 2s 19ms/step - loss: 0.0710 - root_mean_squared_error: 0.2664 - val_loss: 0.0358 - val_root_mean_squared_error: 0.1892\n",
      "Epoch 37/50\n",
      "110/110 [==============================] - 0s 2ms/step - loss: 0.0662 - root_mean_squared_error: 0.2573 - val_loss: 0.0380 - val_root_mean_squared_error: 0.1950\n",
      "Epoch 38/50\n",
      "110/110 [==============================] - 0s 2ms/step - loss: 0.0597 - root_mean_squared_error: 0.2444 - val_loss: 0.0369 - val_root_mean_squared_error: 0.1921\n",
      "Epoch 39/50\n",
      " 98/110 [=========================>....] - ETA: 0s - loss: 0.0607 - root_mean_squared_error: 0.2464INFO:tensorflow:Assets written to: meremodel3/assets\n"
     ]
    },
    {
     "name": "stderr",
     "output_type": "stream",
     "text": [
      "INFO:tensorflow:Assets written to: meremodel3/assets\n"
     ]
    },
    {
     "name": "stdout",
     "output_type": "stream",
     "text": [
      "110/110 [==============================] - 2s 16ms/step - loss: 0.0621 - root_mean_squared_error: 0.2492 - val_loss: 0.0330 - val_root_mean_squared_error: 0.1817\n",
      "Epoch 40/50\n",
      "110/110 [==============================] - 0s 2ms/step - loss: 0.0695 - root_mean_squared_error: 0.2637 - val_loss: 0.1016 - val_root_mean_squared_error: 0.3188\n",
      "Epoch 41/50\n",
      "110/110 [==============================] - 0s 2ms/step - loss: 0.0568 - root_mean_squared_error: 0.2383 - val_loss: 0.0479 - val_root_mean_squared_error: 0.2188\n",
      "Epoch 42/50\n",
      "110/110 [==============================] - 0s 2ms/step - loss: 0.0605 - root_mean_squared_error: 0.2460 - val_loss: 0.0565 - val_root_mean_squared_error: 0.2377\n",
      "Epoch 43/50\n",
      "110/110 [==============================] - 0s 2ms/step - loss: 0.0553 - root_mean_squared_error: 0.2352 - val_loss: 0.1048 - val_root_mean_squared_error: 0.3237\n",
      "Epoch 44/50\n",
      "110/110 [==============================] - 0s 2ms/step - loss: 0.0625 - root_mean_squared_error: 0.2501 - val_loss: 0.0436 - val_root_mean_squared_error: 0.2087\n",
      "Epoch 45/50\n",
      "110/110 [==============================] - 0s 2ms/step - loss: 0.0541 - root_mean_squared_error: 0.2326 - val_loss: 0.0489 - val_root_mean_squared_error: 0.2211\n",
      "Epoch 46/50\n",
      "110/110 [==============================] - 0s 2ms/step - loss: 0.0679 - root_mean_squared_error: 0.2605 - val_loss: 0.2293 - val_root_mean_squared_error: 0.4789\n",
      "Epoch 47/50\n",
      "110/110 [==============================] - 0s 2ms/step - loss: 0.0687 - root_mean_squared_error: 0.2621 - val_loss: 0.0456 - val_root_mean_squared_error: 0.2136\n",
      "Epoch 48/50\n",
      "110/110 [==============================] - 0s 2ms/step - loss: 0.0579 - root_mean_squared_error: 0.2406 - val_loss: 0.0422 - val_root_mean_squared_error: 0.2053\n",
      "Epoch 49/50\n",
      "110/110 [==============================] - 0s 2ms/step - loss: 0.0770 - root_mean_squared_error: 0.2775 - val_loss: 0.0441 - val_root_mean_squared_error: 0.2100\n",
      "Epoch 50/50\n",
      "110/110 [==============================] - 0s 3ms/step - loss: 0.0598 - root_mean_squared_error: 0.2445 - val_loss: 0.0453 - val_root_mean_squared_error: 0.2127\n"
     ]
    },
    {
     "data": {
      "text/plain": [
       "<keras.src.callbacks.History at 0x7fe7ec127280>"
      ]
     },
     "execution_count": 32,
     "metadata": {},
     "output_type": "execute_result"
    }
   ],
   "source": [
    "model3.fit(X_train, y_train, validation_data=(X_val, y_val), epochs=50, callbacks=[cp3])"
   ]
  },
  {
   "cell_type": "code",
   "execution_count": 33,
   "id": "9d062580",
   "metadata": {},
   "outputs": [
    {
     "name": "stdout",
     "output_type": "stream",
     "text": [
      "16/16 [==============================] - 0s 1ms/step\n"
     ]
    },
    {
     "data": {
      "image/png": "[encoded data removed]",
      "text/plain": [
       "<Figure size 1152x360 with 1 Axes>"
      ]
     },
     "metadata": {
      "needs_background": "light"
     },
     "output_type": "display_data"
    },
    {
     "data": {
      "text/plain": [
       "(     Predictions  Actuals\n",
       " 0      91.376183  91.4921\n",
       " 1      91.466194  91.5775\n",
       " 2      91.552818  91.6546\n",
       " 3      91.632378  91.7333\n",
       " 4      91.707375  91.7912\n",
       " ..           ...      ...\n",
       " 495    79.413773  79.4696\n",
       " 496    79.478348  80.0721\n",
       " 497    79.811234  80.4046\n",
       " 498    80.221191  80.6565\n",
       " 499    80.541809  80.8423\n",
       " \n",
       " [500 rows x 2 columns],\n",
       " 0.15978925470413202)"
      ]
     },
     "execution_count": 33,
     "metadata": {},
     "output_type": "execute_result"
    }
   ],
   "source": [
    "model3 = load_model('meremodel3/')\n",
    "plot_predictions1(model3, X_test, y_test)"
   ]
  },
  {
   "cell_type": "markdown",
   "id": "c1bedd78",
   "metadata": {},
   "source": [
    "## Multivariate tutorial\n",
    "\n",
    "both of these tutorials skip basically all explanation; I need to go through Marcos' notebooks and whatnot, but below is following the second one listed above. [This one](https://www.youtube.com/watch?v=kGdbPnMCdOg) starting around 17 minutes in (the first 17 minutes are doing the CNN and GRU above)"
   ]
  },
  {
   "cell_type": "code",
   "execution_count": 34,
   "id": "a2e4a8e3",
   "metadata": {},
   "outputs": [
    {
     "data": {
      "text/plain": [
       "date\n",
       "2006-02-07    91.0100\n",
       "2006-02-08    91.0429\n",
       "2006-02-09    91.1096\n",
       "2006-02-10    91.1954\n",
       "2006-02-11    91.3012\n",
       "               ...   \n",
       "2018-06-02    79.4696\n",
       "2018-06-03    80.0721\n",
       "2018-06-04    80.4046\n",
       "2018-06-05    80.6565\n",
       "2018-06-06    80.8423\n",
       "Name: avg_well_depth, Length: 4503, dtype: float64"
      ]
     },
     "execution_count": 34,
     "metadata": {},
     "output_type": "execute_result"
    }
   ],
   "source": [
    "# recall the average well measurements are stored in well\n",
    "well"
   ]
  },
  {
   "cell_type": "code",
   "execution_count": 35,
   "id": "f848ba25",
   "metadata": {},
   "outputs": [
    {
     "data": {
      "text/html": [
       "<div>\n",
       "<style scoped>\n",
       "    .dataframe tbody tr th:only-of-type {\n",
       "        vertical-align: middle;\n",
       "    }\n",
       "\n",
       "    .dataframe tbody tr th {\n",
       "        vertical-align: top;\n",
       "    }\n",
       "\n",
       "    .dataframe thead th {\n",
       "        text-align: right;\n",
       "    }\n",
       "</style>\n",
       "<table border=\"1\" class=\"dataframe\">\n",
       "  <thead>\n",
       "    <tr style=\"text-align: right;\">\n",
       "      <th></th>\n",
       "      <th>avg_well_depth</th>\n",
       "      <th>Seconds</th>\n",
       "    </tr>\n",
       "    <tr>\n",
       "      <th>date</th>\n",
       "      <th></th>\n",
       "      <th></th>\n",
       "    </tr>\n",
       "  </thead>\n",
       "  <tbody>\n",
       "    <tr>\n",
       "      <th>2006-02-07</th>\n",
       "      <td>91.0100</td>\n",
       "      <td>1.139270e+09</td>\n",
       "    </tr>\n",
       "    <tr>\n",
       "      <th>2006-02-08</th>\n",
       "      <td>91.0429</td>\n",
       "      <td>1.139357e+09</td>\n",
       "    </tr>\n",
       "    <tr>\n",
       "      <th>2006-02-09</th>\n",
       "      <td>91.1096</td>\n",
       "      <td>1.139443e+09</td>\n",
       "    </tr>\n",
       "    <tr>\n",
       "      <th>2006-02-10</th>\n",
       "      <td>91.1954</td>\n",
       "      <td>1.139530e+09</td>\n",
       "    </tr>\n",
       "    <tr>\n",
       "      <th>2006-02-11</th>\n",
       "      <td>91.3012</td>\n",
       "      <td>1.139616e+09</td>\n",
       "    </tr>\n",
       "    <tr>\n",
       "      <th>...</th>\n",
       "      <td>...</td>\n",
       "      <td>...</td>\n",
       "    </tr>\n",
       "    <tr>\n",
       "      <th>2018-06-02</th>\n",
       "      <td>79.4696</td>\n",
       "      <td>1.527898e+09</td>\n",
       "    </tr>\n",
       "    <tr>\n",
       "      <th>2018-06-03</th>\n",
       "      <td>80.0721</td>\n",
       "      <td>1.527984e+09</td>\n",
       "    </tr>\n",
       "    <tr>\n",
       "      <th>2018-06-04</th>\n",
       "      <td>80.4046</td>\n",
       "      <td>1.528070e+09</td>\n",
       "    </tr>\n",
       "    <tr>\n",
       "      <th>2018-06-05</th>\n",
       "      <td>80.6565</td>\n",
       "      <td>1.528157e+09</td>\n",
       "    </tr>\n",
       "    <tr>\n",
       "      <th>2018-06-06</th>\n",
       "      <td>80.8423</td>\n",
       "      <td>1.528243e+09</td>\n",
       "    </tr>\n",
       "  </tbody>\n",
       "</table>\n",
       "<p>4503 rows × 2 columns</p>\n",
       "</div>"
      ],
      "text/plain": [
       "            avg_well_depth       Seconds\n",
       "date                                    \n",
       "2006-02-07         91.0100  1.139270e+09\n",
       "2006-02-08         91.0429  1.139357e+09\n",
       "2006-02-09         91.1096  1.139443e+09\n",
       "2006-02-10         91.1954  1.139530e+09\n",
       "2006-02-11         91.3012  1.139616e+09\n",
       "...                    ...           ...\n",
       "2018-06-02         79.4696  1.527898e+09\n",
       "2018-06-03         80.0721  1.527984e+09\n",
       "2018-06-04         80.4046  1.528070e+09\n",
       "2018-06-05         80.6565  1.528157e+09\n",
       "2018-06-06         80.8423  1.528243e+09\n",
       "\n",
       "[4503 rows x 2 columns]"
      ]
     },
     "execution_count": 35,
     "metadata": {},
     "output_type": "execute_result"
    }
   ],
   "source": [
    "well_df = pd.DataFrame({'avg_well_depth':well})\n",
    "well_df['Seconds'] = well_df.index.map(pd.Timestamp.timestamp)\n",
    "well_df"
   ]
  },
  {
   "cell_type": "code",
   "execution_count": 36,
   "id": "621e35c1",
   "metadata": {},
   "outputs": [
    {
     "data": {
      "text/html": [
       "<div>\n",
       "<style scoped>\n",
       "    .dataframe tbody tr th:only-of-type {\n",
       "        vertical-align: middle;\n",
       "    }\n",
       "\n",
       "    .dataframe tbody tr th {\n",
       "        vertical-align: top;\n",
       "    }\n",
       "\n",
       "    .dataframe thead th {\n",
       "        text-align: right;\n",
       "    }\n",
       "</style>\n",
       "<table border=\"1\" class=\"dataframe\">\n",
       "  <thead>\n",
       "    <tr style=\"text-align: right;\">\n",
       "      <th></th>\n",
       "      <th>avg_well_depth</th>\n",
       "      <th>Year sin</th>\n",
       "      <th>Year cos</th>\n",
       "    </tr>\n",
       "    <tr>\n",
       "      <th>date</th>\n",
       "      <th></th>\n",
       "      <th></th>\n",
       "      <th></th>\n",
       "    </tr>\n",
       "  </thead>\n",
       "  <tbody>\n",
       "    <tr>\n",
       "      <th>2006-02-07</th>\n",
       "      <td>91.0100</td>\n",
       "      <td>0.598115</td>\n",
       "      <td>0.801410</td>\n",
       "    </tr>\n",
       "    <tr>\n",
       "      <th>2006-02-08</th>\n",
       "      <td>91.0429</td>\n",
       "      <td>0.611813</td>\n",
       "      <td>0.791003</td>\n",
       "    </tr>\n",
       "    <tr>\n",
       "      <th>2006-02-09</th>\n",
       "      <td>91.1096</td>\n",
       "      <td>0.625329</td>\n",
       "      <td>0.780361</td>\n",
       "    </tr>\n",
       "    <tr>\n",
       "      <th>2006-02-10</th>\n",
       "      <td>91.1954</td>\n",
       "      <td>0.638660</td>\n",
       "      <td>0.769489</td>\n",
       "    </tr>\n",
       "    <tr>\n",
       "      <th>2006-02-11</th>\n",
       "      <td>91.3012</td>\n",
       "      <td>0.651802</td>\n",
       "      <td>0.758389</td>\n",
       "    </tr>\n",
       "  </tbody>\n",
       "</table>\n",
       "</div>"
      ],
      "text/plain": [
       "            avg_well_depth  Year sin  Year cos\n",
       "date                                          \n",
       "2006-02-07         91.0100  0.598115  0.801410\n",
       "2006-02-08         91.0429  0.611813  0.791003\n",
       "2006-02-09         91.1096  0.625329  0.780361\n",
       "2006-02-10         91.1954  0.638660  0.769489\n",
       "2006-02-11         91.3012  0.651802  0.758389"
      ]
     },
     "execution_count": 36,
     "metadata": {},
     "output_type": "execute_result"
    }
   ],
   "source": [
    "day = 60*60*24\n",
    "year = 365.2425*day\n",
    "\n",
    "well_df['Year sin'] = np.sin(well_df['Seconds'] * (2 * np.pi / year))\n",
    "well_df['Year cos'] = np.cos(well_df['Seconds'] * (2 * np.pi / year))\n",
    "\n",
    "well_df = well_df.drop('Seconds', axis=1)\n",
    "well_df.head()"
   ]
  },
  {
   "cell_type": "code",
   "execution_count": 37,
   "id": "74d10928",
   "metadata": {},
   "outputs": [
    {
     "data": {
      "text/html": [
       "<div>\n",
       "<style scoped>\n",
       "    .dataframe tbody tr th:only-of-type {\n",
       "        vertical-align: middle;\n",
       "    }\n",
       "\n",
       "    .dataframe tbody tr th {\n",
       "        vertical-align: top;\n",
       "    }\n",
       "\n",
       "    .dataframe thead th {\n",
       "        text-align: right;\n",
       "    }\n",
       "</style>\n",
       "<table border=\"1\" class=\"dataframe\">\n",
       "  <thead>\n",
       "    <tr style=\"text-align: right;\">\n",
       "      <th></th>\n",
       "      <th>avg_well_depth</th>\n",
       "      <th>Year sin</th>\n",
       "      <th>Year cos</th>\n",
       "      <th>gage_ht</th>\n",
       "      <th>prcp</th>\n",
       "    </tr>\n",
       "    <tr>\n",
       "      <th>date</th>\n",
       "      <th></th>\n",
       "      <th></th>\n",
       "      <th></th>\n",
       "      <th></th>\n",
       "      <th></th>\n",
       "    </tr>\n",
       "  </thead>\n",
       "  <tbody>\n",
       "    <tr>\n",
       "      <th>2006-02-07</th>\n",
       "      <td>91.0100</td>\n",
       "      <td>0.598115</td>\n",
       "      <td>0.801410</td>\n",
       "      <td>21.65</td>\n",
       "      <td>0.0</td>\n",
       "    </tr>\n",
       "    <tr>\n",
       "      <th>2006-02-08</th>\n",
       "      <td>91.0429</td>\n",
       "      <td>0.611813</td>\n",
       "      <td>0.791003</td>\n",
       "      <td>21.64</td>\n",
       "      <td>0.0</td>\n",
       "    </tr>\n",
       "    <tr>\n",
       "      <th>2006-02-09</th>\n",
       "      <td>91.1096</td>\n",
       "      <td>0.625329</td>\n",
       "      <td>0.780361</td>\n",
       "      <td>21.58</td>\n",
       "      <td>0.0</td>\n",
       "    </tr>\n",
       "    <tr>\n",
       "      <th>2006-02-10</th>\n",
       "      <td>91.1954</td>\n",
       "      <td>0.638660</td>\n",
       "      <td>0.769489</td>\n",
       "      <td>21.46</td>\n",
       "      <td>0.0</td>\n",
       "    </tr>\n",
       "    <tr>\n",
       "      <th>2006-02-11</th>\n",
       "      <td>91.3012</td>\n",
       "      <td>0.651802</td>\n",
       "      <td>0.758389</td>\n",
       "      <td>21.36</td>\n",
       "      <td>0.0</td>\n",
       "    </tr>\n",
       "  </tbody>\n",
       "</table>\n",
       "</div>"
      ],
      "text/plain": [
       "            avg_well_depth  Year sin  Year cos  gage_ht  prcp\n",
       "date                                                         \n",
       "2006-02-07         91.0100  0.598115  0.801410    21.65   0.0\n",
       "2006-02-08         91.0429  0.611813  0.791003    21.64   0.0\n",
       "2006-02-09         91.1096  0.625329  0.780361    21.58   0.0\n",
       "2006-02-10         91.1954  0.638660  0.769489    21.46   0.0\n",
       "2006-02-11         91.3012  0.651802  0.758389    21.36   0.0"
      ]
     },
     "execution_count": 37,
     "metadata": {},
     "output_type": "execute_result"
    }
   ],
   "source": [
    "well_df['gage_ht'] = df.gage_ht.values\n",
    "well_df['prcp'] = df.prcp.values\n",
    "well_df.head()"
   ]
  },
  {
   "cell_type": "code",
   "execution_count": 38,
   "id": "e50ab6fb",
   "metadata": {},
   "outputs": [],
   "source": [
    "def df_to_X_y_multi(df, window_size=6):\n",
    "    df_as_np = df.to_numpy()\n",
    "    X = []\n",
    "    y = []\n",
    "    for i in range(len(df_as_np)-window_size):\n",
    "        row = [a for a in df_as_np[i:i+window_size]]\n",
    "        X.append(row)\n",
    "        label = df_as_np[i+window_size][0]\n",
    "        y.append(label)\n",
    "    return np.array(X), np.array(y)"
   ]
  },
  {
   "cell_type": "code",
   "execution_count": 50,
   "id": "4e943c4a",
   "metadata": {},
   "outputs": [
    {
     "data": {
      "text/plain": [
       "((4497, 6, 5), (4497,))"
      ]
     },
     "execution_count": 50,
     "metadata": {},
     "output_type": "execute_result"
    }
   ],
   "source": [
    "X2, y2 = df_to_X_y_multi(well_df)\n",
    "X2.shape, y2.shape"
   ]
  },
  {
   "cell_type": "markdown",
   "id": "85599769",
   "metadata": {},
   "source": [
    "### Train Test Split"
   ]
  },
  {
   "cell_type": "code",
   "execution_count": 52,
   "id": "a807db74",
   "metadata": {},
   "outputs": [
    {
     "data": {
      "text/plain": [
       "((3497, 6, 5), (3497,), (500, 6, 5), (500,), (500, 6, 5), (500,))"
      ]
     },
     "execution_count": 52,
     "metadata": {},
     "output_type": "execute_result"
    }
   ],
   "source": [
    "X2_train, y2_train = X2[:3497], y2[:3497]\n",
    "X2_val, y2_val = X2[3497:3997], y2[3497:3997]\n",
    "X2_test, y2_test = X2[3997:], y2[3997:]\n",
    "X2_train.shape, y2_train.shape, X2_val.shape, y2_val.shape, X2_test.shape, y2_test.shape"
   ]
  },
  {
   "cell_type": "markdown",
   "id": "257868f1",
   "metadata": {},
   "source": [
    "### Scaling\n",
    "35 minutes in"
   ]
  },
  {
   "cell_type": "code",
   "execution_count": 41,
   "id": "7356d636",
   "metadata": {},
   "outputs": [],
   "source": [
    "well_training_mean = np.mean(X2_train[:, :, 0])\n",
    "well_training_std = np.std(X2_train[:, :, 0])\n",
    "\n",
    "def preprocess(X):\n",
    "    X[:, :, 0] = (X[:, :, 0] - well_training_mean) / well_training_std\n",
    "    return X"
   ]
  },
  {
   "cell_type": "code",
   "execution_count": 42,
   "id": "dabebd8d",
   "metadata": {
    "scrolled": true
   },
   "outputs": [
    {
     "data": {
      "text/plain": [
       "array([[[ 1.54167390e-01,  2.81741935e-01,  9.59490220e-01,\n",
       "          1.88700000e+01,  2.40000000e-01],\n",
       "        [ 1.85938003e-01,  2.98205330e-01,  9.54501745e-01,\n",
       "          1.88900000e+01,  4.10000000e-01],\n",
       "        [ 2.15809287e-01,  3.14580477e-01,  9.49230806e-01,\n",
       "          1.88600000e+01,  0.00000000e+00],\n",
       "        [ 2.47349679e-01,  3.30862531e-01,  9.43678963e-01,\n",
       "          1.88700000e+01,  0.00000000e+00],\n",
       "        [ 2.72760415e-01,  3.47046673e-01,  9.37847859e-01,\n",
       "          1.88900000e+01,  3.00000000e-02],\n",
       "        [ 3.00358258e-01,  3.63128115e-01,  9.31739219e-01,\n",
       "          1.88900000e+01,  2.00000000e-01]],\n",
       "\n",
       "       [[ 1.85938003e-01,  2.98205330e-01,  9.54501745e-01,\n",
       "          1.88900000e+01,  4.10000000e-01],\n",
       "        [ 2.15809287e-01,  3.14580477e-01,  9.49230806e-01,\n",
       "          1.88600000e+01,  0.00000000e+00],\n",
       "        [ 2.47349679e-01,  3.30862531e-01,  9.43678963e-01,\n",
       "          1.88700000e+01,  0.00000000e+00],\n",
       "        [ 2.72760415e-01,  3.47046673e-01,  9.37847859e-01,\n",
       "          1.88900000e+01,  3.00000000e-02],\n",
       "        [ 3.00358258e-01,  3.63128115e-01,  9.31739219e-01,\n",
       "          1.88900000e+01,  2.00000000e-01],\n",
       "        [ 3.27207880e-01,  3.79102096e-01,  9.25354851e-01,\n",
       "          1.89000000e+01,  0.00000000e+00]],\n",
       "\n",
       "       [[ 2.15809287e-01,  3.14580477e-01,  9.49230806e-01,\n",
       "          1.88600000e+01,  0.00000000e+00],\n",
       "        [ 2.47349679e-01,  3.30862531e-01,  9.43678963e-01,\n",
       "          1.88700000e+01,  0.00000000e+00],\n",
       "        [ 2.72760415e-01,  3.47046673e-01,  9.37847859e-01,\n",
       "          1.88900000e+01,  3.00000000e-02],\n",
       "        [ 3.00358258e-01,  3.63128115e-01,  9.31739219e-01,\n",
       "          1.88900000e+01,  2.00000000e-01],\n",
       "        [ 3.27207880e-01,  3.79102096e-01,  9.25354851e-01,\n",
       "          1.89000000e+01,  0.00000000e+00],\n",
       "        [ 3.51784062e-01,  3.94963891e-01,  9.18696645e-01,\n",
       "          1.88900000e+01,  2.00000000e-02]],\n",
       "\n",
       "       ...,\n",
       "\n",
       "       [[-3.27098682e+00,  5.55852920e-01, -8.31280657e-01,\n",
       "          2.44300000e+01,  0.00000000e+00],\n",
       "        [-3.21769046e+00,  5.41471043e-01, -8.40719400e-01,\n",
       "          2.42400000e+01,  0.00000000e+00],\n",
       "        [-3.15527156e+00,  5.26928930e-01, -8.49909350e-01,\n",
       "          2.37600000e+01,  0.00000000e+00],\n",
       "        [-3.19075450e+00,  5.12230884e-01, -8.58847787e-01,\n",
       "          2.29500000e+01,  0.00000000e+00],\n",
       "        [-3.13259471e+00,  4.97381253e-01, -8.67532068e-01,\n",
       "          2.18400000e+01,  0.00000000e+00],\n",
       "        [-2.95920889e+00,  4.82384434e-01, -8.75959621e-01,\n",
       "          2.15900000e+01,  0.00000000e+00]],\n",
       "\n",
       "       [[-3.21769046e+00,  5.41471043e-01, -8.40719400e-01,\n",
       "          2.42400000e+01,  0.00000000e+00],\n",
       "        [-3.15527156e+00,  5.26928930e-01, -8.49909350e-01,\n",
       "          2.37600000e+01,  0.00000000e+00],\n",
       "        [-3.19075450e+00,  5.12230884e-01, -8.58847787e-01,\n",
       "          2.29500000e+01,  0.00000000e+00],\n",
       "        [-3.13259471e+00,  4.97381253e-01, -8.67532068e-01,\n",
       "          2.18400000e+01,  0.00000000e+00],\n",
       "        [-2.95920889e+00,  4.82384434e-01, -8.75959621e-01,\n",
       "          2.15900000e+01,  0.00000000e+00],\n",
       "        [-2.86352294e+00,  4.67244864e-01, -8.84127953e-01,\n",
       "          2.15000000e+01,  0.00000000e+00]],\n",
       "\n",
       "       [[-3.15527156e+00,  5.26928930e-01, -8.49909350e-01,\n",
       "          2.37600000e+01,  0.00000000e+00],\n",
       "        [-3.19075450e+00,  5.12230884e-01, -8.58847787e-01,\n",
       "          2.29500000e+01,  0.00000000e+00],\n",
       "        [-3.13259471e+00,  4.97381253e-01, -8.67532068e-01,\n",
       "          2.18400000e+01,  0.00000000e+00],\n",
       "        [-2.95920889e+00,  4.82384434e-01, -8.75959621e-01,\n",
       "          2.15900000e+01,  0.00000000e+00],\n",
       "        [-2.86352294e+00,  4.67244864e-01, -8.84127953e-01,\n",
       "          2.15000000e+01,  0.00000000e+00],\n",
       "        [-2.79103183e+00,  4.51967022e-01, -8.92034647e-01,\n",
       "          2.14500000e+01,  0.00000000e+00]]])"
      ]
     },
     "execution_count": 42,
     "metadata": {},
     "output_type": "execute_result"
    }
   ],
   "source": [
    "preprocess(X2_train)\n",
    "preprocess(X2_val)\n",
    "preprocess(X2_test)"
   ]
  },
  {
   "cell_type": "code",
   "execution_count": 43,
   "id": "ba9c7fd9",
   "metadata": {},
   "outputs": [
    {
     "name": "stdout",
     "output_type": "stream",
     "text": [
      "Model: \"sequential_3\"\n",
      "_________________________________________________________________\n",
      " Layer (type)                Output Shape              Param #   \n",
      "=================================================================\n",
      " lstm_1 (LSTM)               (None, 64)                17920     \n",
      "                                                                 \n",
      " flatten_2 (Flatten)         (None, 64)                0         \n",
      "                                                                 \n",
      " dense_6 (Dense)             (None, 8)                 520       \n",
      "                                                                 \n",
      " dense_7 (Dense)             (None, 1)                 9         \n",
      "                                                                 \n",
      "=================================================================\n",
      "Total params: 18449 (72.07 KB)\n",
      "Trainable params: 18449 (72.07 KB)\n",
      "Non-trainable params: 0 (0.00 Byte)\n",
      "_________________________________________________________________\n"
     ]
    }
   ],
   "source": [
    "model4 = Sequential()\n",
    "model4.add(InputLayer((6,5)))\n",
    "model4.add(LSTM(64))\n",
    "model4.add(Flatten())\n",
    "model4.add(Dense(8, 'relu'))\n",
    "model4.add(Dense(1, 'linear'))\n",
    "\n",
    "model4.summary()"
   ]
  },
  {
   "cell_type": "code",
   "execution_count": 44,
   "id": "f96ad6cb",
   "metadata": {},
   "outputs": [],
   "source": [
    "cp4 = ModelCheckpoint('meremodel4/', save_best_only=True)\n",
    "# the above makes a folder that our gitignore should exclude\n",
    "\n",
    "model4.compile(loss=MeanSquaredError(), optimizer=Adam(learning_rate=0.001), metrics=[RootMeanSquaredError()])"
   ]
  },
  {
   "cell_type": "code",
   "execution_count": 45,
   "id": "8ae4a5b2",
   "metadata": {
    "scrolled": true
   },
   "outputs": [
    {
     "name": "stdout",
     "output_type": "stream",
     "text": [
      "Epoch 1/50\n",
      "109/110 [============================>.] - ETA: 0s - loss: 6144.4336 - root_mean_squared_error: 78.3864INFO:tensorflow:Assets written to: meremodel4/assets\n"
     ]
    },
    {
     "name": "stderr",
     "output_type": "stream",
     "text": [
      "INFO:tensorflow:Assets written to: meremodel4/assets\n"
     ]
    },
    {
     "name": "stdout",
     "output_type": "stream",
     "text": [
      "110/110 [==============================] - 4s 23ms/step - loss: 6138.4360 - root_mean_squared_error: 78.3482 - val_loss: 3808.0078 - val_root_mean_squared_error: 61.7091\n",
      "Epoch 2/50\n",
      "110/110 [==============================] - ETA: 0s - loss: 2060.0840 - root_mean_squared_error: 45.3881INFO:tensorflow:Assets written to: meremodel4/assets\n"
     ]
    },
    {
     "name": "stderr",
     "output_type": "stream",
     "text": [
      "INFO:tensorflow:Assets written to: meremodel4/assets\n"
     ]
    },
    {
     "name": "stdout",
     "output_type": "stream",
     "text": [
      "110/110 [==============================] - 2s 19ms/step - loss: 2060.0840 - root_mean_squared_error: 45.3881 - val_loss: 795.2999 - val_root_mean_squared_error: 28.2011\n",
      "Epoch 3/50\n",
      " 91/110 [=======================>......] - ETA: 0s - loss: 348.1722 - root_mean_squared_error: 18.6594INFO:tensorflow:Assets written to: meremodel4/assets\n"
     ]
    },
    {
     "name": "stderr",
     "output_type": "stream",
     "text": [
      "INFO:tensorflow:Assets written to: meremodel4/assets\n"
     ]
    },
    {
     "name": "stdout",
     "output_type": "stream",
     "text": [
      "110/110 [==============================] - 2s 18ms/step - loss: 303.2771 - root_mean_squared_error: 17.4149 - val_loss: 59.0394 - val_root_mean_squared_error: 7.6837\n",
      "Epoch 4/50\n",
      " 90/110 [=======================>......] - ETA: 0s - loss: 26.9022 - root_mean_squared_error: 5.1867INFO:tensorflow:Assets written to: meremodel4/assets\n"
     ]
    },
    {
     "name": "stderr",
     "output_type": "stream",
     "text": [
      "INFO:tensorflow:Assets written to: meremodel4/assets\n"
     ]
    },
    {
     "name": "stdout",
     "output_type": "stream",
     "text": [
      "110/110 [==============================] - 2s 21ms/step - loss: 24.3987 - root_mean_squared_error: 4.9395 - val_loss: 9.1828 - val_root_mean_squared_error: 3.0303\n",
      "Epoch 5/50\n",
      " 92/110 [========================>.....] - ETA: 0s - loss: 12.2970 - root_mean_squared_error: 3.5067INFO:tensorflow:Assets written to: meremodel4/assets\n"
     ]
    },
    {
     "name": "stderr",
     "output_type": "stream",
     "text": [
      "INFO:tensorflow:Assets written to: meremodel4/assets\n"
     ]
    },
    {
     "name": "stdout",
     "output_type": "stream",
     "text": [
      "110/110 [==============================] - 2s 18ms/step - loss: 12.2765 - root_mean_squared_error: 3.5038 - val_loss: 7.9005 - val_root_mean_squared_error: 2.8108\n",
      "Epoch 6/50\n",
      " 93/110 [========================>.....] - ETA: 0s - loss: 11.9625 - root_mean_squared_error: 3.4587INFO:tensorflow:Assets written to: meremodel4/assets\n"
     ]
    },
    {
     "name": "stderr",
     "output_type": "stream",
     "text": [
      "INFO:tensorflow:Assets written to: meremodel4/assets\n"
     ]
    },
    {
     "name": "stdout",
     "output_type": "stream",
     "text": [
      "110/110 [==============================] - 2s 18ms/step - loss: 12.1026 - root_mean_squared_error: 3.4789 - val_loss: 7.8827 - val_root_mean_squared_error: 2.8076\n",
      "Epoch 7/50\n",
      " 92/110 [========================>.....] - ETA: 0s - loss: 11.9700 - root_mean_squared_error: 3.4598INFO:tensorflow:Assets written to: meremodel4/assets\n"
     ]
    },
    {
     "name": "stderr",
     "output_type": "stream",
     "text": [
      "INFO:tensorflow:Assets written to: meremodel4/assets\n"
     ]
    },
    {
     "name": "stdout",
     "output_type": "stream",
     "text": [
      "110/110 [==============================] - 2s 18ms/step - loss: 12.1024 - root_mean_squared_error: 3.4788 - val_loss: 7.8649 - val_root_mean_squared_error: 2.8045\n",
      "Epoch 8/50\n",
      " 91/110 [=======================>......] - ETA: 0s - loss: 12.1889 - root_mean_squared_error: 3.4913INFO:tensorflow:Assets written to: meremodel4/assets\n"
     ]
    },
    {
     "name": "stderr",
     "output_type": "stream",
     "text": [
      "INFO:tensorflow:Assets written to: meremodel4/assets\n"
     ]
    },
    {
     "name": "stdout",
     "output_type": "stream",
     "text": [
      "110/110 [==============================] - 2s 21ms/step - loss: 12.0917 - root_mean_squared_error: 3.4773 - val_loss: 7.8364 - val_root_mean_squared_error: 2.7994\n",
      "Epoch 9/50\n",
      " 93/110 [========================>.....] - ETA: 0s - loss: 11.9840 - root_mean_squared_error: 3.4618INFO:tensorflow:Assets written to: meremodel4/assets\n"
     ]
    },
    {
     "name": "stderr",
     "output_type": "stream",
     "text": [
      "INFO:tensorflow:Assets written to: meremodel4/assets\n"
     ]
    },
    {
     "name": "stdout",
     "output_type": "stream",
     "text": [
      "110/110 [==============================] - 2s 18ms/step - loss: 12.0881 - root_mean_squared_error: 3.4768 - val_loss: 7.8093 - val_root_mean_squared_error: 2.7945\n",
      "Epoch 10/50\n",
      "110/110 [==============================] - 0s 2ms/step - loss: 12.0880 - root_mean_squared_error: 3.4768 - val_loss: 7.8965 - val_root_mean_squared_error: 2.8101\n",
      "Epoch 11/50\n",
      " 92/110 [========================>.....] - ETA: 0s - loss: 12.2744 - root_mean_squared_error: 3.5035INFO:tensorflow:Assets written to: meremodel4/assets\n"
     ]
    },
    {
     "name": "stderr",
     "output_type": "stream",
     "text": [
      "INFO:tensorflow:Assets written to: meremodel4/assets\n"
     ]
    },
    {
     "name": "stdout",
     "output_type": "stream",
     "text": [
      "110/110 [==============================] - 2s 18ms/step - loss: 12.0875 - root_mean_squared_error: 3.4767 - val_loss: 7.8073 - val_root_mean_squared_error: 2.7942\n",
      "Epoch 12/50\n",
      " 91/110 [=======================>......] - ETA: 0s - loss: 12.1174 - root_mean_squared_error: 3.4810INFO:tensorflow:Assets written to: meremodel4/assets\n"
     ]
    },
    {
     "name": "stderr",
     "output_type": "stream",
     "text": [
      "INFO:tensorflow:Assets written to: meremodel4/assets\n"
     ]
    },
    {
     "name": "stdout",
     "output_type": "stream",
     "text": [
      "110/110 [==============================] - 2s 21ms/step - loss: 11.9013 - root_mean_squared_error: 3.4498 - val_loss: 5.1146 - val_root_mean_squared_error: 2.2615\n",
      "Epoch 13/50\n",
      " 92/110 [========================>.....] - ETA: 0s - loss: 6.6302 - root_mean_squared_error: 2.5749INFO:tensorflow:Assets written to: meremodel4/assets\n"
     ]
    },
    {
     "name": "stderr",
     "output_type": "stream",
     "text": [
      "INFO:tensorflow:Assets written to: meremodel4/assets\n"
     ]
    },
    {
     "name": "stdout",
     "output_type": "stream",
     "text": [
      "110/110 [==============================] - 2s 18ms/step - loss: 6.3208 - root_mean_squared_error: 2.5141 - val_loss: 2.2186 - val_root_mean_squared_error: 1.4895\n",
      "Epoch 14/50\n",
      " 92/110 [========================>.....] - ETA: 0s - loss: 3.2683 - root_mean_squared_error: 1.8079INFO:tensorflow:Assets written to: meremodel4/assets\n"
     ]
    },
    {
     "name": "stderr",
     "output_type": "stream",
     "text": [
      "INFO:tensorflow:Assets written to: meremodel4/assets\n"
     ]
    },
    {
     "name": "stdout",
     "output_type": "stream",
     "text": [
      "110/110 [==============================] - 2s 18ms/step - loss: 3.1376 - root_mean_squared_error: 1.7713 - val_loss: 0.6370 - val_root_mean_squared_error: 0.7981\n",
      "Epoch 15/50\n",
      " 93/110 [========================>.....] - ETA: 0s - loss: 1.1051 - root_mean_squared_error: 1.0512INFO:tensorflow:Assets written to: meremodel4/assets\n"
     ]
    },
    {
     "name": "stderr",
     "output_type": "stream",
     "text": [
      "INFO:tensorflow:Assets written to: meremodel4/assets\n"
     ]
    },
    {
     "name": "stdout",
     "output_type": "stream",
     "text": [
      "110/110 [==============================] - 2s 18ms/step - loss: 0.9975 - root_mean_squared_error: 0.9987 - val_loss: 0.2630 - val_root_mean_squared_error: 0.5128\n",
      "Epoch 16/50\n",
      " 92/110 [========================>.....] - ETA: 0s - loss: 0.2531 - root_mean_squared_error: 0.5030INFO:tensorflow:Assets written to: meremodel4/assets\n"
     ]
    },
    {
     "name": "stderr",
     "output_type": "stream",
     "text": [
      "INFO:tensorflow:Assets written to: meremodel4/assets\n"
     ]
    },
    {
     "name": "stdout",
     "output_type": "stream",
     "text": [
      "110/110 [==============================] - 2s 21ms/step - loss: 0.2322 - root_mean_squared_error: 0.4818 - val_loss: 0.1496 - val_root_mean_squared_error: 0.3868\n",
      "Epoch 17/50\n",
      " 92/110 [========================>.....] - ETA: 0s - loss: 0.1054 - root_mean_squared_error: 0.3247INFO:tensorflow:Assets written to: meremodel4/assets\n"
     ]
    },
    {
     "name": "stderr",
     "output_type": "stream",
     "text": [
      "INFO:tensorflow:Assets written to: meremodel4/assets\n"
     ]
    },
    {
     "name": "stdout",
     "output_type": "stream",
     "text": [
      "110/110 [==============================] - 2s 18ms/step - loss: 0.1059 - root_mean_squared_error: 0.3255 - val_loss: 0.0613 - val_root_mean_squared_error: 0.2475\n",
      "Epoch 18/50\n",
      " 92/110 [========================>.....] - ETA: 0s - loss: 0.0786 - root_mean_squared_error: 0.2803INFO:tensorflow:Assets written to: meremodel4/assets\n"
     ]
    },
    {
     "name": "stderr",
     "output_type": "stream",
     "text": [
      "INFO:tensorflow:Assets written to: meremodel4/assets\n"
     ]
    },
    {
     "name": "stdout",
     "output_type": "stream",
     "text": [
      "110/110 [==============================] - 2s 18ms/step - loss: 0.0787 - root_mean_squared_error: 0.2806 - val_loss: 0.0507 - val_root_mean_squared_error: 0.2251\n",
      "Epoch 19/50\n",
      "110/110 [==============================] - 0s 3ms/step - loss: 0.0778 - root_mean_squared_error: 0.2789 - val_loss: 0.0515 - val_root_mean_squared_error: 0.2269\n",
      "Epoch 20/50\n",
      " 93/110 [========================>.....] - ETA: 0s - loss: 0.0669 - root_mean_squared_error: 0.2586INFO:tensorflow:Assets written to: meremodel4/assets\n"
     ]
    },
    {
     "name": "stderr",
     "output_type": "stream",
     "text": [
      "INFO:tensorflow:Assets written to: meremodel4/assets\n"
     ]
    },
    {
     "name": "stdout",
     "output_type": "stream",
     "text": [
      "110/110 [==============================] - 2s 20ms/step - loss: 0.0668 - root_mean_squared_error: 0.2585 - val_loss: 0.0451 - val_root_mean_squared_error: 0.2125\n",
      "Epoch 21/50\n",
      "110/110 [==============================] - 0s 2ms/step - loss: 0.0593 - root_mean_squared_error: 0.2435 - val_loss: 0.0481 - val_root_mean_squared_error: 0.2192\n",
      "Epoch 22/50\n",
      " 92/110 [========================>.....] - ETA: 0s - loss: 0.0593 - root_mean_squared_error: 0.2434INFO:tensorflow:Assets written to: meremodel4/assets\n"
     ]
    },
    {
     "name": "stderr",
     "output_type": "stream",
     "text": [
      "INFO:tensorflow:Assets written to: meremodel4/assets\n"
     ]
    },
    {
     "name": "stdout",
     "output_type": "stream",
     "text": [
      "110/110 [==============================] - 2s 18ms/step - loss: 0.0583 - root_mean_squared_error: 0.2415 - val_loss: 0.0386 - val_root_mean_squared_error: 0.1965\n",
      "Epoch 23/50\n",
      "110/110 [==============================] - 0s 3ms/step - loss: 0.0562 - root_mean_squared_error: 0.2370 - val_loss: 0.0401 - val_root_mean_squared_error: 0.2001\n",
      "Epoch 24/50\n",
      "110/110 [==============================] - 0s 3ms/step - loss: 0.0566 - root_mean_squared_error: 0.2380 - val_loss: 0.0418 - val_root_mean_squared_error: 0.2045\n",
      "Epoch 25/50\n",
      "110/110 [==============================] - 0s 3ms/step - loss: 0.0508 - root_mean_squared_error: 0.2253 - val_loss: 0.0428 - val_root_mean_squared_error: 0.2068\n",
      "Epoch 26/50\n",
      "110/110 [==============================] - 0s 3ms/step - loss: 0.0528 - root_mean_squared_error: 0.2297 - val_loss: 0.0643 - val_root_mean_squared_error: 0.2535\n",
      "Epoch 27/50\n",
      "110/110 [==============================] - 0s 3ms/step - loss: 0.0431 - root_mean_squared_error: 0.2075 - val_loss: 0.0675 - val_root_mean_squared_error: 0.2599\n",
      "Epoch 28/50\n",
      " 91/110 [=======================>......] - ETA: 0s - loss: 0.0414 - root_mean_squared_error: 0.2034INFO:tensorflow:Assets written to: meremodel4/assets\n"
     ]
    },
    {
     "name": "stderr",
     "output_type": "stream",
     "text": [
      "INFO:tensorflow:Assets written to: meremodel4/assets\n"
     ]
    },
    {
     "name": "stdout",
     "output_type": "stream",
     "text": [
      "110/110 [==============================] - 2s 18ms/step - loss: 0.0417 - root_mean_squared_error: 0.2041 - val_loss: 0.0319 - val_root_mean_squared_error: 0.1786\n",
      "Epoch 29/50\n",
      "110/110 [==============================] - 0s 3ms/step - loss: 0.0403 - root_mean_squared_error: 0.2006 - val_loss: 0.0398 - val_root_mean_squared_error: 0.1995\n",
      "Epoch 30/50\n",
      "110/110 [==============================] - 0s 3ms/step - loss: 0.0370 - root_mean_squared_error: 0.1922 - val_loss: 0.0353 - val_root_mean_squared_error: 0.1880\n",
      "Epoch 31/50\n",
      " 92/110 [========================>.....] - ETA: 0s - loss: 0.0366 - root_mean_squared_error: 0.1914INFO:tensorflow:Assets written to: meremodel4/assets\n"
     ]
    },
    {
     "name": "stderr",
     "output_type": "stream",
     "text": [
      "INFO:tensorflow:Assets written to: meremodel4/assets\n"
     ]
    },
    {
     "name": "stdout",
     "output_type": "stream",
     "text": [
      "110/110 [==============================] - 2s 18ms/step - loss: 0.0362 - root_mean_squared_error: 0.1903 - val_loss: 0.0296 - val_root_mean_squared_error: 0.1721\n",
      "Epoch 32/50\n",
      " 95/110 [========================>.....] - ETA: 0s - loss: 0.0324 - root_mean_squared_error: 0.1800INFO:tensorflow:Assets written to: meremodel4/assets\n"
     ]
    },
    {
     "name": "stderr",
     "output_type": "stream",
     "text": [
      "INFO:tensorflow:Assets written to: meremodel4/assets\n"
     ]
    },
    {
     "name": "stdout",
     "output_type": "stream",
     "text": [
      "110/110 [==============================] - 2s 21ms/step - loss: 0.0323 - root_mean_squared_error: 0.1798 - val_loss: 0.0282 - val_root_mean_squared_error: 0.1678\n",
      "Epoch 33/50\n",
      "110/110 [==============================] - 0s 3ms/step - loss: 0.0340 - root_mean_squared_error: 0.1845 - val_loss: 0.0397 - val_root_mean_squared_error: 0.1994\n",
      "Epoch 34/50\n",
      "110/110 [==============================] - 0s 3ms/step - loss: 0.0307 - root_mean_squared_error: 0.1751 - val_loss: 0.0306 - val_root_mean_squared_error: 0.1749\n",
      "Epoch 35/50\n",
      " 92/110 [========================>.....] - ETA: 0s - loss: 0.0258 - root_mean_squared_error: 0.1605INFO:tensorflow:Assets written to: meremodel4/assets\n"
     ]
    },
    {
     "name": "stderr",
     "output_type": "stream",
     "text": [
      "INFO:tensorflow:Assets written to: meremodel4/assets\n"
     ]
    },
    {
     "name": "stdout",
     "output_type": "stream",
     "text": [
      "110/110 [==============================] - 2s 18ms/step - loss: 0.0256 - root_mean_squared_error: 0.1600 - val_loss: 0.0215 - val_root_mean_squared_error: 0.1465\n",
      "Epoch 36/50\n",
      " 91/110 [=======================>......] - ETA: 0s - loss: 0.0275 - root_mean_squared_error: 0.1659INFO:tensorflow:Assets written to: meremodel4/assets\n"
     ]
    },
    {
     "name": "stderr",
     "output_type": "stream",
     "text": [
      "INFO:tensorflow:Assets written to: meremodel4/assets\n"
     ]
    },
    {
     "name": "stdout",
     "output_type": "stream",
     "text": [
      "110/110 [==============================] - 2s 18ms/step - loss: 0.0272 - root_mean_squared_error: 0.1648 - val_loss: 0.0196 - val_root_mean_squared_error: 0.1401\n",
      "Epoch 37/50\n",
      "110/110 [==============================] - 0s 3ms/step - loss: 0.0298 - root_mean_squared_error: 0.1725 - val_loss: 0.0282 - val_root_mean_squared_error: 0.1679\n",
      "Epoch 38/50\n",
      "110/110 [==============================] - 0s 3ms/step - loss: 0.0240 - root_mean_squared_error: 0.1550 - val_loss: 0.0264 - val_root_mean_squared_error: 0.1623\n",
      "Epoch 39/50\n",
      " 91/110 [=======================>......] - ETA: 0s - loss: 0.0229 - root_mean_squared_error: 0.1513INFO:tensorflow:Assets written to: meremodel4/assets\n"
     ]
    },
    {
     "name": "stderr",
     "output_type": "stream",
     "text": [
      "INFO:tensorflow:Assets written to: meremodel4/assets\n"
     ]
    },
    {
     "name": "stdout",
     "output_type": "stream",
     "text": [
      "110/110 [==============================] - 2s 21ms/step - loss: 0.0231 - root_mean_squared_error: 0.1520 - val_loss: 0.0187 - val_root_mean_squared_error: 0.1367\n",
      "Epoch 40/50\n",
      "110/110 [==============================] - 0s 3ms/step - loss: 0.0228 - root_mean_squared_error: 0.1509 - val_loss: 0.0229 - val_root_mean_squared_error: 0.1512\n",
      "Epoch 41/50\n",
      "110/110 [==============================] - 0s 3ms/step - loss: 0.0257 - root_mean_squared_error: 0.1603 - val_loss: 0.0192 - val_root_mean_squared_error: 0.1387\n",
      "Epoch 42/50\n",
      "110/110 [==============================] - 0s 3ms/step - loss: 0.0226 - root_mean_squared_error: 0.1505 - val_loss: 0.0363 - val_root_mean_squared_error: 0.1905\n",
      "Epoch 43/50\n",
      "110/110 [==============================] - 0s 3ms/step - loss: 0.0186 - root_mean_squared_error: 0.1365 - val_loss: 0.0189 - val_root_mean_squared_error: 0.1375\n",
      "Epoch 44/50\n",
      "110/110 [==============================] - 0s 3ms/step - loss: 0.0156 - root_mean_squared_error: 0.1250 - val_loss: 0.0203 - val_root_mean_squared_error: 0.1425\n",
      "Epoch 45/50\n",
      " 91/110 [=======================>......] - ETA: 0s - loss: 0.0154 - root_mean_squared_error: 0.1240INFO:tensorflow:Assets written to: meremodel4/assets\n"
     ]
    },
    {
     "name": "stderr",
     "output_type": "stream",
     "text": [
      "INFO:tensorflow:Assets written to: meremodel4/assets\n"
     ]
    },
    {
     "name": "stdout",
     "output_type": "stream",
     "text": [
      "110/110 [==============================] - 2s 18ms/step - loss: 0.0155 - root_mean_squared_error: 0.1247 - val_loss: 0.0122 - val_root_mean_squared_error: 0.1105\n",
      "Epoch 46/50\n",
      "110/110 [==============================] - 0s 3ms/step - loss: 0.0176 - root_mean_squared_error: 0.1325 - val_loss: 0.0144 - val_root_mean_squared_error: 0.1201\n",
      "Epoch 47/50\n",
      "110/110 [==============================] - 0s 3ms/step - loss: 0.0147 - root_mean_squared_error: 0.1212 - val_loss: 0.0168 - val_root_mean_squared_error: 0.1298\n",
      "Epoch 48/50\n",
      "110/110 [==============================] - 0s 3ms/step - loss: 0.0145 - root_mean_squared_error: 0.1206 - val_loss: 0.0206 - val_root_mean_squared_error: 0.1434\n",
      "Epoch 49/50\n",
      "110/110 [==============================] - 0s 3ms/step - loss: 0.0140 - root_mean_squared_error: 0.1185 - val_loss: 0.0329 - val_root_mean_squared_error: 0.1814\n",
      "Epoch 50/50\n",
      " 91/110 [=======================>......] - ETA: 0s - loss: 0.0144 - root_mean_squared_error: 0.1198INFO:tensorflow:Assets written to: meremodel4/assets\n"
     ]
    },
    {
     "name": "stderr",
     "output_type": "stream",
     "text": [
      "INFO:tensorflow:Assets written to: meremodel4/assets\n"
     ]
    },
    {
     "name": "stdout",
     "output_type": "stream",
     "text": [
      "\b\b\b\b\b\b\b\b\b\b\b\b\b\b\b\b\b\b\b\b\b\b\b\b\b\b\b\b\b\b\b\b\b\b\b\b\b\b\b\b\b\b\b\b\b\b\b\b\b\b\b\b\b\b\b\b\b\b\b\b\b\b\b\b\b\b\b\b\b\b\b\b\b\b\b\b\b\b\b\b\b\b\b\b\b\b\b\b\b\b\b\b\b\b\b\b\b\b\b\r",
      "110/110 [==============================] - 2s 18ms/step - loss: 0.0143 - root_mean_squared_error: 0.1195 - val_loss: 0.0120 - val_root_mean_squared_error: 0.1094\n"
     ]
    },
    {
     "data": {
      "text/plain": [
       "<keras.src.callbacks.History at 0x7fe7a28d7ee0>"
      ]
     },
     "execution_count": 45,
     "metadata": {},
     "output_type": "execute_result"
    }
   ],
   "source": [
    "model4.fit(X2_train, y2_train, validation_data=(X2_val, y2_val), epochs=50, callbacks=[cp4])"
   ]
  },
  {
   "cell_type": "code",
   "execution_count": 46,
   "id": "3fb12be6",
   "metadata": {},
   "outputs": [
    {
     "name": "stdout",
     "output_type": "stream",
     "text": [
      "16/16 [==============================] - 0s 1ms/step\n"
     ]
    },
    {
     "data": {
      "image/png": "[encoded data removed]",
      "text/plain": [
       "<Figure size 1152x360 with 1 Axes>"
      ]
     },
     "metadata": {
      "needs_background": "light"
     },
     "output_type": "display_data"
    },
    {
     "data": {
      "text/plain": [
       "(     Predictions  Actuals\n",
       " 0      91.410591  91.4921\n",
       " 1      91.501526  91.5775\n",
       " 2      91.612381  91.6546\n",
       " 3      91.692955  91.7333\n",
       " 4      91.763718  91.7912\n",
       " ..           ...      ...\n",
       " 495    79.635811  79.4696\n",
       " 496    80.021965  80.0721\n",
       " 497    80.469780  80.4046\n",
       " 498    80.787804  80.6565\n",
       " 499    80.967079  80.8423\n",
       " \n",
       " [500 rows x 2 columns],\n",
       " 0.15811325883790314)"
      ]
     },
     "execution_count": 46,
     "metadata": {},
     "output_type": "execute_result"
    }
   ],
   "source": [
    "model4 = load_model('meremodel4/')\n",
    "plot_predictions1(model4, X2_test, y2_test)"
   ]
  },
  {
   "cell_type": "markdown",
   "id": "fb92e415",
   "metadata": {},
   "source": [
    "so in this simple multivariable model, I'm gettting test error for the last 500 days as .1\n",
    "\n",
    "I DO think something is wrong with how this tutorial does the windows, I think it's using the test data to predict the test data which is a no no, so I'm going to try a recursive fix. This is going to be very hacked together; I'll actually beat my face against the official tensorflow tutorial later, but for now am going to use a fixed version of the recursive thing from here https://colab.research.google.com/drive/1Bk4zPQwAfzoSHZokKUefKL1s6lqmam6S?usp=sharing\n",
    "\n",
    "# Recursive fix?\n",
    "\n",
    "I think the big issue is with how the windows are created. I think they're fine for the training (and maybe even for the validation?? that feels sketchy too) but very bad for the test. Broadly, I think the windows for the training should be\n",
    "\n",
    "```\n",
    " inputs (real data)                                                            labels (real data)\n",
    "[[[w1, ys1, yc1, g1, p1], [w2, ys2, yc2, g2, p2], [w3, ys3, yc3, g3, p3]],     [w4]\n",
    "[[[w2, ys2, yc2, g2, p2], [w3, ys3, yc3, g3, p3], [w4, ys4, yc4, g4, p4]],     [w5]\n",
    "[[[w3, ys3, yc3, g3, p3], [w4, ys4, yc4, g4, p4], [w5, ys5, yc5, g5, p5]]]     [w6]\n",
    "```\n",
    "\n",
    "and testing should be similar, but should start using the predictions\n",
    "```\n",
    " inputs (real data)                                                            labels (predicted)\n",
    "[[[w1, ys1, yc1, g1, p1], [w2, ys2, yc2, g2, p2], [w3, ys3, yc3, g3, p3]],            [pred4]\n",
    "[[[w2, ys2, yc2, g2, p2], [w3, ys3, yc3, g3, p3], [pred4, ys4, yc4, g4, p4]],         [pred5]\n",
    "[[[w3, ys3, yc3, g3, p3], [pred4, ys4, yc4, g4, p4], [pred5, ys5, yc5, g5, p5]]]      [pred6]\n",
    "```\n",
    "\n",
    "I think this means I can use the trained model 4 above, but need to build the predictions for the testing recursively, starting by trying to predict the first value in `y2_test` from the last 6 (since that's the window size) in `y2_val` and the relevant other factors\n",
    "\n",
    "oh, and I'm going to have to scale predictions when I put them in as features\n",
    "\n",
    "Let's start by rebuilding some things so I have them down here"
   ]
  },
  {
   "cell_type": "code",
   "execution_count": 57,
   "id": "6292f7db",
   "metadata": {},
   "outputs": [
    {
     "data": {
      "text/html": [
       "<div>\n",
       "<style scoped>\n",
       "    .dataframe tbody tr th:only-of-type {\n",
       "        vertical-align: middle;\n",
       "    }\n",
       "\n",
       "    .dataframe tbody tr th {\n",
       "        vertical-align: top;\n",
       "    }\n",
       "\n",
       "    .dataframe thead th {\n",
       "        text-align: right;\n",
       "    }\n",
       "</style>\n",
       "<table border=\"1\" class=\"dataframe\">\n",
       "  <thead>\n",
       "    <tr style=\"text-align: right;\">\n",
       "      <th></th>\n",
       "      <th>avg_well_depth</th>\n",
       "      <th>Year sin</th>\n",
       "      <th>Year cos</th>\n",
       "      <th>gage_ht</th>\n",
       "      <th>prcp</th>\n",
       "    </tr>\n",
       "    <tr>\n",
       "      <th>date</th>\n",
       "      <th></th>\n",
       "      <th></th>\n",
       "      <th></th>\n",
       "      <th></th>\n",
       "      <th></th>\n",
       "    </tr>\n",
       "  </thead>\n",
       "  <tbody>\n",
       "    <tr>\n",
       "      <th>2006-02-07</th>\n",
       "      <td>91.0100</td>\n",
       "      <td>0.598115</td>\n",
       "      <td>0.801410</td>\n",
       "      <td>21.65</td>\n",
       "      <td>0.0</td>\n",
       "    </tr>\n",
       "    <tr>\n",
       "      <th>2006-02-08</th>\n",
       "      <td>91.0429</td>\n",
       "      <td>0.611813</td>\n",
       "      <td>0.791003</td>\n",
       "      <td>21.64</td>\n",
       "      <td>0.0</td>\n",
       "    </tr>\n",
       "    <tr>\n",
       "      <th>2006-02-09</th>\n",
       "      <td>91.1096</td>\n",
       "      <td>0.625329</td>\n",
       "      <td>0.780361</td>\n",
       "      <td>21.58</td>\n",
       "      <td>0.0</td>\n",
       "    </tr>\n",
       "    <tr>\n",
       "      <th>2006-02-10</th>\n",
       "      <td>91.1954</td>\n",
       "      <td>0.638660</td>\n",
       "      <td>0.769489</td>\n",
       "      <td>21.46</td>\n",
       "      <td>0.0</td>\n",
       "    </tr>\n",
       "    <tr>\n",
       "      <th>2006-02-11</th>\n",
       "      <td>91.3012</td>\n",
       "      <td>0.651802</td>\n",
       "      <td>0.758389</td>\n",
       "      <td>21.36</td>\n",
       "      <td>0.0</td>\n",
       "    </tr>\n",
       "  </tbody>\n",
       "</table>\n",
       "</div>"
      ],
      "text/plain": [
       "            avg_well_depth  Year sin  Year cos  gage_ht  prcp\n",
       "date                                                         \n",
       "2006-02-07         91.0100  0.598115  0.801410    21.65   0.0\n",
       "2006-02-08         91.0429  0.611813  0.791003    21.64   0.0\n",
       "2006-02-09         91.1096  0.625329  0.780361    21.58   0.0\n",
       "2006-02-10         91.1954  0.638660  0.769489    21.46   0.0\n",
       "2006-02-11         91.3012  0.651802  0.758389    21.36   0.0"
      ]
     },
     "metadata": {},
     "output_type": "display_data"
    },
    {
     "data": {
      "text/plain": [
       "((4497, 6, 5), (4497,))"
      ]
     },
     "execution_count": 57,
     "metadata": {},
     "output_type": "execute_result"
    }
   ],
   "source": [
    "# defined above, just as a reminder\n",
    "def df_to_X_y_multi(df, window_size=6):\n",
    "    df_as_np = df.to_numpy()\n",
    "    X = []\n",
    "    y = []\n",
    "    for i in range(len(df_as_np)-window_size):\n",
    "        row = [a for a in df_as_np[i:i+window_size]]\n",
    "        X.append(row)\n",
    "        label = df_as_np[i+window_size][0]\n",
    "        y.append(label)\n",
    "    return np.array(X), np.array(y)\n",
    "\n",
    "def preprocess(X):\n",
    "    X[:, :, 0] = (X[:, :, 0] - well_training_mean) / well_training_std\n",
    "    return X\n",
    "\n",
    "display(well_df.head())\n",
    "\n",
    "X2, y2 = df_to_X_y_multi(well_df)\n",
    "X2.shape, y2.shape"
   ]
  },
  {
   "cell_type": "code",
   "execution_count": 58,
   "id": "4c4ef9c8",
   "metadata": {},
   "outputs": [
    {
     "data": {
      "text/plain": [
       "((3497, 6, 5), (3497,), (500, 6, 5), (500,), (500, 6, 5), (500,))"
      ]
     },
     "execution_count": 58,
     "metadata": {},
     "output_type": "execute_result"
    }
   ],
   "source": [
    "X2_train, y2_train = X2[:3497], y2[:3497]\n",
    "X2_val, y2_val = X2[3497:3997], y2[3497:3997]\n",
    "X2_test, y2_test = X2[3997:], y2[3997:]\n",
    "X2_train.shape, y2_train.shape, X2_val.shape, y2_val.shape, X2_test.shape, y2_test.shape"
   ]
  },
  {
   "cell_type": "code",
   "execution_count": 62,
   "id": "6d18b04e",
   "metadata": {},
   "outputs": [
    {
     "name": "stdout",
     "output_type": "stream",
     "text": [
      "[[[9.07738000e+01 2.65195165e-01 9.64194754e-01 1.89200000e+01\n",
      "   0.00000000e+00]\n",
      "  [9.08908000e+01 2.81741935e-01 9.59490220e-01 1.88700000e+01\n",
      "   2.40000000e-01]\n",
      "  [9.10012000e+01 2.98205330e-01 9.54501745e-01 1.88900000e+01\n",
      "   4.10000000e-01]\n",
      "  [9.11050000e+01 3.14580477e-01 9.49230806e-01 1.88600000e+01\n",
      "   0.00000000e+00]\n",
      "  [9.12146000e+01 3.30862531e-01 9.43678963e-01 1.88700000e+01\n",
      "   0.00000000e+00]\n",
      "  [9.13029000e+01 3.47046673e-01 9.37847859e-01 1.88900000e+01\n",
      "   3.00000000e-02]]] \n",
      " [91.3988]\n",
      "\n",
      "\n",
      "\n",
      "\n",
      "[[[9.08908000e+01 2.81741935e-01 9.59490220e-01 1.88700000e+01\n",
      "   2.40000000e-01]\n",
      "  [9.10012000e+01 2.98205330e-01 9.54501745e-01 1.88900000e+01\n",
      "   4.10000000e-01]\n",
      "  [9.11050000e+01 3.14580477e-01 9.49230806e-01 1.88600000e+01\n",
      "   0.00000000e+00]\n",
      "  [9.12146000e+01 3.30862531e-01 9.43678963e-01 1.88700000e+01\n",
      "   0.00000000e+00]\n",
      "  [9.13029000e+01 3.47046673e-01 9.37847859e-01 1.88900000e+01\n",
      "   3.00000000e-02]\n",
      "  [9.13988000e+01 3.63128115e-01 9.31739219e-01 1.88900000e+01\n",
      "   2.00000000e-01]]] \n",
      " [91.4921]\n"
     ]
    }
   ],
   "source": [
    "# what does the end of the val set and the beginning of the test set look like\n",
    "print(X2_val[-1:],'\\n', y2_val[-1:])\n",
    "print('\\n\\n\\n')\n",
    "print(X2_test[:1],'\\n', y2_test[:1])"
   ]
  },
  {
   "cell_type": "code",
   "execution_count": 65,
   "id": "43bef3c8",
   "metadata": {},
   "outputs": [
    {
     "data": {
      "text/plain": [
       "(91.3988, 91.3988)"
      ]
     },
     "execution_count": 65,
     "metadata": {},
     "output_type": "execute_result"
    }
   ],
   "source": [
    "X2_test[0,-1,0], X2_test[0][-1,0]"
   ]
  },
  {
   "cell_type": "markdown",
   "id": "cd330147",
   "metadata": {},
   "source": [
    "ok, so it looks like, given the way this is built, I actually don't need the val set at all, just the first row of the test set, so I'll scale the whole test set, then I'll \n",
    "\n",
    "* predict the first target of the test set from the first row of the test set\n",
    "    - store that\n",
    "* scale the prediction, make a new row from `X2_test[1]` but changing the last entry to have the prediction\n",
    "\n",
    "for actual predictions, I'll have to make a slight change to how the rows are built because I won't be replacing things, but putting them in in the first place. (maybe I can just fill some NaNs with zeros for the well data in the df and then just replace them??)"
   ]
  },
  {
   "cell_type": "code",
   "execution_count": 67,
   "id": "73e7b108",
   "metadata": {
    "scrolled": true
   },
   "outputs": [
    {
     "data": {
      "text/plain": [
       "array([[[ 1.54167390e-01,  2.81741935e-01,  9.59490220e-01,\n",
       "          1.88700000e+01,  2.40000000e-01],\n",
       "        [ 1.85938003e-01,  2.98205330e-01,  9.54501745e-01,\n",
       "          1.88900000e+01,  4.10000000e-01],\n",
       "        [ 2.15809287e-01,  3.14580477e-01,  9.49230806e-01,\n",
       "          1.88600000e+01,  0.00000000e+00],\n",
       "        [ 2.47349679e-01,  3.30862531e-01,  9.43678963e-01,\n",
       "          1.88700000e+01,  0.00000000e+00],\n",
       "        [ 2.72760415e-01,  3.47046673e-01,  9.37847859e-01,\n",
       "          1.88900000e+01,  3.00000000e-02],\n",
       "        [ 3.00358258e-01,  3.63128115e-01,  9.31739219e-01,\n",
       "          1.88900000e+01,  2.00000000e-01]],\n",
       "\n",
       "       [[ 1.85938003e-01,  2.98205330e-01,  9.54501745e-01,\n",
       "          1.88900000e+01,  4.10000000e-01],\n",
       "        [ 2.15809287e-01,  3.14580477e-01,  9.49230806e-01,\n",
       "          1.88600000e+01,  0.00000000e+00],\n",
       "        [ 2.47349679e-01,  3.30862531e-01,  9.43678963e-01,\n",
       "          1.88700000e+01,  0.00000000e+00],\n",
       "        [ 2.72760415e-01,  3.47046673e-01,  9.37847859e-01,\n",
       "          1.88900000e+01,  3.00000000e-02],\n",
       "        [ 3.00358258e-01,  3.63128115e-01,  9.31739219e-01,\n",
       "          1.88900000e+01,  2.00000000e-01],\n",
       "        [ 3.27207880e-01,  3.79102096e-01,  9.25354851e-01,\n",
       "          1.89000000e+01,  0.00000000e+00]],\n",
       "\n",
       "       [[ 2.15809287e-01,  3.14580477e-01,  9.49230806e-01,\n",
       "          1.88600000e+01,  0.00000000e+00],\n",
       "        [ 2.47349679e-01,  3.30862531e-01,  9.43678963e-01,\n",
       "          1.88700000e+01,  0.00000000e+00],\n",
       "        [ 2.72760415e-01,  3.47046673e-01,  9.37847859e-01,\n",
       "          1.88900000e+01,  3.00000000e-02],\n",
       "        [ 3.00358258e-01,  3.63128115e-01,  9.31739219e-01,\n",
       "          1.88900000e+01,  2.00000000e-01],\n",
       "        [ 3.27207880e-01,  3.79102096e-01,  9.25354851e-01,\n",
       "          1.89000000e+01,  0.00000000e+00],\n",
       "        [ 3.51784062e-01,  3.94963891e-01,  9.18696645e-01,\n",
       "          1.88900000e+01,  2.00000000e-02]],\n",
       "\n",
       "       ...,\n",
       "\n",
       "       [[-3.27098682e+00,  5.55852920e-01, -8.31280657e-01,\n",
       "          2.44300000e+01,  0.00000000e+00],\n",
       "        [-3.21769046e+00,  5.41471043e-01, -8.40719400e-01,\n",
       "          2.42400000e+01,  0.00000000e+00],\n",
       "        [-3.15527156e+00,  5.26928930e-01, -8.49909350e-01,\n",
       "          2.37600000e+01,  0.00000000e+00],\n",
       "        [-3.19075450e+00,  5.12230884e-01, -8.58847787e-01,\n",
       "          2.29500000e+01,  0.00000000e+00],\n",
       "        [-3.13259471e+00,  4.97381253e-01, -8.67532068e-01,\n",
       "          2.18400000e+01,  0.00000000e+00],\n",
       "        [-2.95920889e+00,  4.82384434e-01, -8.75959621e-01,\n",
       "          2.15900000e+01,  0.00000000e+00]],\n",
       "\n",
       "       [[-3.21769046e+00,  5.41471043e-01, -8.40719400e-01,\n",
       "          2.42400000e+01,  0.00000000e+00],\n",
       "        [-3.15527156e+00,  5.26928930e-01, -8.49909350e-01,\n",
       "          2.37600000e+01,  0.00000000e+00],\n",
       "        [-3.19075450e+00,  5.12230884e-01, -8.58847787e-01,\n",
       "          2.29500000e+01,  0.00000000e+00],\n",
       "        [-3.13259471e+00,  4.97381253e-01, -8.67532068e-01,\n",
       "          2.18400000e+01,  0.00000000e+00],\n",
       "        [-2.95920889e+00,  4.82384434e-01, -8.75959621e-01,\n",
       "          2.15900000e+01,  0.00000000e+00],\n",
       "        [-2.86352294e+00,  4.67244864e-01, -8.84127953e-01,\n",
       "          2.15000000e+01,  0.00000000e+00]],\n",
       "\n",
       "       [[-3.15527156e+00,  5.26928930e-01, -8.49909350e-01,\n",
       "          2.37600000e+01,  0.00000000e+00],\n",
       "        [-3.19075450e+00,  5.12230884e-01, -8.58847787e-01,\n",
       "          2.29500000e+01,  0.00000000e+00],\n",
       "        [-3.13259471e+00,  4.97381253e-01, -8.67532068e-01,\n",
       "          2.18400000e+01,  0.00000000e+00],\n",
       "        [-2.95920889e+00,  4.82384434e-01, -8.75959621e-01,\n",
       "          2.15900000e+01,  0.00000000e+00],\n",
       "        [-2.86352294e+00,  4.67244864e-01, -8.84127953e-01,\n",
       "          2.15000000e+01,  0.00000000e+00],\n",
       "        [-2.79103183e+00,  4.51967022e-01, -8.92034647e-01,\n",
       "          2.14500000e+01,  0.00000000e+00]]])"
      ]
     },
     "execution_count": 67,
     "metadata": {},
     "output_type": "execute_result"
    }
   ],
   "source": [
    "well_training_mean = np.mean(X2_train[:, :, 0])\n",
    "well_training_std = np.std(X2_train[:, :, 0])\n",
    "\n",
    "# again defined above, but keeping it close\n",
    "# does a whole df, not just one val\n",
    "def preprocess(X):\n",
    "    X[:, :, 0] = (X[:, :, 0] - well_training_mean) / well_training_std\n",
    "    return X\n",
    "\n",
    "preprocess(X2_train)\n",
    "preprocess(X2_val)\n",
    "preprocess(X2_test)"
   ]
  },
  {
   "cell_type": "code",
   "execution_count": 71,
   "id": "cefb9e75",
   "metadata": {},
   "outputs": [
    {
     "name": "stdout",
     "output_type": "stream",
     "text": [
      "1/1 [==============================] - 0s 12ms/step\n"
     ]
    },
    {
     "data": {
      "text/plain": [
       "array([80.967094], dtype=float32)"
      ]
     },
     "execution_count": 71,
     "metadata": {},
     "output_type": "execute_result"
    }
   ],
   "source": [
    "justone = X2_test[-1].reshape(1,6,5)\n",
    "model4.predict(justone).flatten()"
   ]
  },
  {
   "cell_type": "code",
   "execution_count": 72,
   "id": "ff226bdb",
   "metadata": {},
   "outputs": [],
   "source": [
    "def plot_predictions2(predictions, y):\n",
    "    #predictions = model.predict(X).flatten()\n",
    "    # now it just plots\n",
    "    df_plot = pd.DataFrame(data={'Predictions':predictions, 'Actuals':y})\n",
    "    \n",
    "    Pred = df_plot.Predictions.values*-1\n",
    "    Act = df_plot.Actuals.values*-1\n",
    "    \n",
    "    fig, ax1 = plt.subplots(figsize=(16, 5)) \n",
    "    plt.suptitle('Prediction', fontsize=16)\n",
    "\n",
    "    ax1 = plt.subplot()\n",
    "    plt.plot(Pred, 'r--', label = 'Predicted Water Level')\n",
    "    plt.xlabel('Date', fontsize=14)\n",
    "    plt.ylabel('Depth from Land Surface in feet', fontsize=14)\n",
    "\n",
    "    ax2 = plt.subplot()\n",
    "    ax2.plot(Act, 'b-', label = 'Actual Water Level')\n",
    "\n",
    "    fig.legend()\n",
    "\n",
    "    fig.tight_layout()\n",
    "    plt.show()\n",
    "    \n",
    "    return df_plot, mse(y, predictions)"
   ]
  },
  {
   "cell_type": "code",
   "execution_count": 66,
   "id": "3cc72c29",
   "metadata": {},
   "outputs": [],
   "source": [
    "def newrow(row, pred):\n",
    "    row[-1,0] = (pred - well_training_mean) / well_training_std\n",
    "    return row"
   ]
  },
  {
   "cell_type": "code",
   "execution_count": 82,
   "id": "406ac90f",
   "metadata": {
    "scrolled": true
   },
   "outputs": [
    {
     "name": "stdout",
     "output_type": "stream",
     "text": [
      "1/1 [==============================] - 0s 12ms/step\n",
      "1/1 [==============================] - 0s 12ms/step\n",
      "1/1 [==============================] - 0s 12ms/step\n",
      "1/1 [==============================] - 0s 12ms/step\n",
      "1/1 [==============================] - 0s 12ms/step\n",
      "1/1 [==============================] - 0s 12ms/step\n",
      "1/1 [==============================] - 0s 12ms/step\n",
      "1/1 [==============================] - 0s 13ms/step\n",
      "1/1 [==============================] - 0s 12ms/step\n",
      "1/1 [==============================] - 0s 11ms/step\n",
      "1/1 [==============================] - 0s 12ms/step\n",
      "1/1 [==============================] - 0s 12ms/step\n",
      "1/1 [==============================] - 0s 13ms/step\n",
      "1/1 [==============================] - 0s 12ms/step\n",
      "1/1 [==============================] - 0s 12ms/step\n",
      "1/1 [==============================] - 0s 12ms/step\n",
      "1/1 [==============================] - 0s 12ms/step\n",
      "1/1 [==============================] - 0s 12ms/step\n",
      "1/1 [==============================] - 0s 11ms/step\n",
      "1/1 [==============================] - 0s 12ms/step\n",
      "1/1 [==============================] - 0s 12ms/step\n",
      "1/1 [==============================] - 0s 12ms/step\n",
      "1/1 [==============================] - 0s 12ms/step\n",
      "1/1 [==============================] - 0s 12ms/step\n",
      "1/1 [==============================] - 0s 12ms/step\n",
      "1/1 [==============================] - 0s 12ms/step\n",
      "1/1 [==============================] - 0s 12ms/step\n",
      "1/1 [==============================] - 0s 12ms/step\n",
      "1/1 [==============================] - 0s 12ms/step\n",
      "1/1 [==============================] - 0s 12ms/step\n",
      "1/1 [==============================] - 0s 12ms/step\n",
      "1/1 [==============================] - 0s 12ms/step\n",
      "1/1 [==============================] - 0s 12ms/step\n",
      "1/1 [==============================] - 0s 12ms/step\n",
      "1/1 [==============================] - 0s 12ms/step\n",
      "1/1 [==============================] - 0s 12ms/step\n",
      "1/1 [==============================] - 0s 12ms/step\n",
      "1/1 [==============================] - 0s 12ms/step\n",
      "1/1 [==============================] - 0s 12ms/step\n",
      "1/1 [==============================] - 0s 13ms/step\n",
      "1/1 [==============================] - 0s 12ms/step\n",
      "1/1 [==============================] - 0s 12ms/step\n",
      "1/1 [==============================] - 0s 12ms/step\n",
      "1/1 [==============================] - 0s 12ms/step\n",
      "1/1 [==============================] - 0s 12ms/step\n",
      "1/1 [==============================] - 0s 12ms/step\n",
      "1/1 [==============================] - 0s 12ms/step\n",
      "1/1 [==============================] - 0s 12ms/step\n",
      "1/1 [==============================] - 0s 12ms/step\n",
      "1/1 [==============================] - 0s 12ms/step\n",
      "1/1 [==============================] - 0s 12ms/step\n",
      "1/1 [==============================] - 0s 12ms/step\n",
      "1/1 [==============================] - 0s 12ms/step\n",
      "1/1 [==============================] - 0s 12ms/step\n",
      "1/1 [==============================] - 0s 12ms/step\n",
      "1/1 [==============================] - 0s 12ms/step\n",
      "1/1 [==============================] - 0s 12ms/step\n",
      "1/1 [==============================] - 0s 12ms/step\n",
      "1/1 [==============================] - 0s 12ms/step\n",
      "1/1 [==============================] - 0s 12ms/step\n",
      "1/1 [==============================] - 0s 12ms/step\n",
      "1/1 [==============================] - 0s 12ms/step\n",
      "1/1 [==============================] - 0s 12ms/step\n",
      "1/1 [==============================] - 0s 13ms/step\n",
      "1/1 [==============================] - 0s 12ms/step\n",
      "1/1 [==============================] - 0s 12ms/step\n",
      "1/1 [==============================] - 0s 12ms/step\n",
      "1/1 [==============================] - 0s 12ms/step\n",
      "1/1 [==============================] - 0s 12ms/step\n",
      "1/1 [==============================] - 0s 12ms/step\n",
      "1/1 [==============================] - 0s 12ms/step\n",
      "1/1 [==============================] - 0s 12ms/step\n",
      "1/1 [==============================] - 0s 12ms/step\n",
      "1/1 [==============================] - 0s 12ms/step\n",
      "1/1 [==============================] - 0s 13ms/step\n",
      "1/1 [==============================] - 0s 13ms/step\n",
      "1/1 [==============================] - 0s 12ms/step\n",
      "1/1 [==============================] - 0s 12ms/step\n",
      "1/1 [==============================] - 0s 12ms/step\n",
      "1/1 [==============================] - 0s 13ms/step\n",
      "1/1 [==============================] - 0s 12ms/step\n",
      "1/1 [==============================] - 0s 12ms/step\n",
      "1/1 [==============================] - 0s 13ms/step\n",
      "1/1 [==============================] - 0s 12ms/step\n",
      "1/1 [==============================] - 0s 12ms/step\n",
      "1/1 [==============================] - 0s 12ms/step\n",
      "1/1 [==============================] - 0s 12ms/step\n",
      "1/1 [==============================] - 0s 12ms/step\n",
      "1/1 [==============================] - 0s 12ms/step\n",
      "1/1 [==============================] - 0s 12ms/step\n",
      "1/1 [==============================] - 0s 12ms/step\n",
      "1/1 [==============================] - 0s 12ms/step\n",
      "1/1 [==============================] - 0s 12ms/step\n",
      "1/1 [==============================] - 0s 12ms/step\n",
      "1/1 [==============================] - 0s 12ms/step\n",
      "1/1 [==============================] - 0s 12ms/step\n",
      "1/1 [==============================] - 0s 13ms/step\n",
      "1/1 [==============================] - 0s 12ms/step\n",
      "1/1 [==============================] - 0s 12ms/step\n",
      "1/1 [==============================] - 0s 13ms/step\n",
      "1/1 [==============================] - 0s 14ms/step\n",
      "1/1 [==============================] - 0s 13ms/step\n",
      "1/1 [==============================] - 0s 12ms/step\n",
      "1/1 [==============================] - 0s 12ms/step\n",
      "1/1 [==============================] - 0s 12ms/step\n",
      "1/1 [==============================] - 0s 12ms/step\n",
      "1/1 [==============================] - 0s 12ms/step\n",
      "1/1 [==============================] - 0s 13ms/step\n",
      "1/1 [==============================] - 0s 12ms/step\n",
      "1/1 [==============================] - 0s 12ms/step\n",
      "1/1 [==============================] - 0s 12ms/step\n",
      "1/1 [==============================] - 0s 12ms/step\n",
      "1/1 [==============================] - 0s 12ms/step\n",
      "1/1 [==============================] - 0s 12ms/step\n",
      "1/1 [==============================] - 0s 12ms/step\n",
      "1/1 [==============================] - 0s 12ms/step\n",
      "1/1 [==============================] - 0s 13ms/step\n",
      "1/1 [==============================] - 0s 12ms/step\n",
      "1/1 [==============================] - 0s 12ms/step\n",
      "1/1 [==============================] - 0s 12ms/step\n",
      "1/1 [==============================] - 0s 12ms/step\n",
      "1/1 [==============================] - 0s 12ms/step\n",
      "1/1 [==============================] - 0s 13ms/step\n",
      "1/1 [==============================] - 0s 13ms/step\n",
      "1/1 [==============================] - 0s 13ms/step\n",
      "1/1 [==============================] - 0s 13ms/step\n",
      "1/1 [==============================] - 0s 12ms/step\n",
      "1/1 [==============================] - 0s 12ms/step\n",
      "1/1 [==============================] - 0s 12ms/step\n",
      "1/1 [==============================] - 0s 12ms/step\n",
      "1/1 [==============================] - 0s 12ms/step\n",
      "1/1 [==============================] - 0s 12ms/step\n",
      "1/1 [==============================] - 0s 12ms/step\n",
      "1/1 [==============================] - 0s 13ms/step\n",
      "1/1 [==============================] - 0s 12ms/step\n",
      "1/1 [==============================] - 0s 12ms/step\n",
      "1/1 [==============================] - 0s 12ms/step\n",
      "1/1 [==============================] - 0s 12ms/step\n",
      "1/1 [==============================] - 0s 12ms/step\n",
      "1/1 [==============================] - 0s 12ms/step\n",
      "1/1 [==============================] - 0s 12ms/step\n",
      "1/1 [==============================] - 0s 12ms/step\n",
      "1/1 [==============================] - 0s 12ms/step\n",
      "1/1 [==============================] - 0s 12ms/step\n",
      "1/1 [==============================] - 0s 12ms/step\n",
      "1/1 [==============================] - 0s 12ms/step\n",
      "1/1 [==============================] - 0s 12ms/step\n",
      "1/1 [==============================] - 0s 13ms/step\n",
      "1/1 [==============================] - 0s 12ms/step\n",
      "1/1 [==============================] - 0s 12ms/step\n",
      "1/1 [==============================] - 0s 12ms/step\n",
      "1/1 [==============================] - 0s 12ms/step\n",
      "1/1 [==============================] - 0s 12ms/step\n",
      "1/1 [==============================] - 0s 12ms/step\n",
      "1/1 [==============================] - 0s 12ms/step\n",
      "1/1 [==============================] - 0s 12ms/step\n",
      "1/1 [==============================] - 0s 13ms/step\n"
     ]
    },
    {
     "name": "stdout",
     "output_type": "stream",
     "text": [
      "1/1 [==============================] - 0s 12ms/step\n",
      "1/1 [==============================] - 0s 14ms/step\n",
      "1/1 [==============================] - 0s 12ms/step\n",
      "1/1 [==============================] - 0s 12ms/step\n",
      "1/1 [==============================] - 0s 12ms/step\n",
      "1/1 [==============================] - 0s 12ms/step\n",
      "1/1 [==============================] - 0s 12ms/step\n",
      "1/1 [==============================] - 0s 12ms/step\n",
      "1/1 [==============================] - 0s 12ms/step\n",
      "1/1 [==============================] - 0s 12ms/step\n",
      "1/1 [==============================] - 0s 13ms/step\n",
      "1/1 [==============================] - 0s 13ms/step\n",
      "1/1 [==============================] - 0s 12ms/step\n",
      "1/1 [==============================] - 0s 14ms/step\n",
      "1/1 [==============================] - 0s 12ms/step\n",
      "1/1 [==============================] - 0s 12ms/step\n",
      "1/1 [==============================] - 0s 12ms/step\n",
      "1/1 [==============================] - 0s 12ms/step\n",
      "1/1 [==============================] - 0s 12ms/step\n",
      "1/1 [==============================] - 0s 12ms/step\n",
      "1/1 [==============================] - 0s 12ms/step\n",
      "1/1 [==============================] - 0s 12ms/step\n",
      "1/1 [==============================] - 0s 12ms/step\n",
      "1/1 [==============================] - 0s 12ms/step\n",
      "1/1 [==============================] - 0s 12ms/step\n",
      "1/1 [==============================] - 0s 12ms/step\n",
      "1/1 [==============================] - 0s 12ms/step\n",
      "1/1 [==============================] - 0s 12ms/step\n",
      "1/1 [==============================] - 0s 13ms/step\n",
      "1/1 [==============================] - 0s 13ms/step\n",
      "1/1 [==============================] - 0s 12ms/step\n",
      "1/1 [==============================] - 0s 12ms/step\n",
      "1/1 [==============================] - 0s 13ms/step\n",
      "1/1 [==============================] - 0s 12ms/step\n",
      "1/1 [==============================] - 0s 12ms/step\n",
      "1/1 [==============================] - 0s 12ms/step\n",
      "1/1 [==============================] - 0s 13ms/step\n",
      "1/1 [==============================] - 0s 13ms/step\n",
      "1/1 [==============================] - 0s 12ms/step\n",
      "1/1 [==============================] - 0s 13ms/step\n",
      "1/1 [==============================] - 0s 12ms/step\n",
      "1/1 [==============================] - 0s 13ms/step\n",
      "1/1 [==============================] - 0s 13ms/step\n",
      "1/1 [==============================] - 0s 13ms/step\n",
      "1/1 [==============================] - 0s 12ms/step\n",
      "1/1 [==============================] - 0s 12ms/step\n",
      "1/1 [==============================] - 0s 12ms/step\n",
      "1/1 [==============================] - 0s 12ms/step\n",
      "1/1 [==============================] - 0s 12ms/step\n",
      "1/1 [==============================] - 0s 12ms/step\n",
      "1/1 [==============================] - 0s 12ms/step\n",
      "1/1 [==============================] - 0s 12ms/step\n",
      "1/1 [==============================] - 0s 12ms/step\n",
      "1/1 [==============================] - 0s 12ms/step\n",
      "1/1 [==============================] - 0s 12ms/step\n",
      "1/1 [==============================] - 0s 13ms/step\n",
      "1/1 [==============================] - 0s 12ms/step\n",
      "1/1 [==============================] - 0s 13ms/step\n",
      "1/1 [==============================] - 0s 13ms/step\n",
      "1/1 [==============================] - 0s 12ms/step\n",
      "1/1 [==============================] - 0s 12ms/step\n",
      "1/1 [==============================] - 0s 13ms/step\n",
      "1/1 [==============================] - 0s 12ms/step\n",
      "1/1 [==============================] - 0s 12ms/step\n",
      "1/1 [==============================] - 0s 12ms/step\n",
      "1/1 [==============================] - 0s 12ms/step\n",
      "1/1 [==============================] - 0s 13ms/step\n",
      "1/1 [==============================] - 0s 12ms/step\n",
      "1/1 [==============================] - 0s 12ms/step\n",
      "1/1 [==============================] - 0s 12ms/step\n",
      "1/1 [==============================] - 0s 12ms/step\n",
      "1/1 [==============================] - 0s 12ms/step\n",
      "1/1 [==============================] - 0s 12ms/step\n",
      "1/1 [==============================] - 0s 12ms/step\n",
      "1/1 [==============================] - 0s 12ms/step\n",
      "1/1 [==============================] - 0s 12ms/step\n",
      "1/1 [==============================] - 0s 12ms/step\n",
      "1/1 [==============================] - 0s 12ms/step\n",
      "1/1 [==============================] - 0s 12ms/step\n",
      "1/1 [==============================] - 0s 13ms/step\n",
      "1/1 [==============================] - 0s 12ms/step\n",
      "1/1 [==============================] - 0s 13ms/step\n",
      "1/1 [==============================] - 0s 12ms/step\n",
      "1/1 [==============================] - 0s 12ms/step\n",
      "1/1 [==============================] - 0s 12ms/step\n",
      "1/1 [==============================] - 0s 12ms/step\n",
      "1/1 [==============================] - 0s 12ms/step\n",
      "1/1 [==============================] - 0s 12ms/step\n",
      "1/1 [==============================] - 0s 12ms/step\n",
      "1/1 [==============================] - 0s 12ms/step\n",
      "1/1 [==============================] - 0s 12ms/step\n",
      "1/1 [==============================] - 0s 12ms/step\n",
      "1/1 [==============================] - 0s 13ms/step\n",
      "1/1 [==============================] - 0s 12ms/step\n",
      "1/1 [==============================] - 0s 13ms/step\n",
      "1/1 [==============================] - 0s 12ms/step\n",
      "1/1 [==============================] - 0s 12ms/step\n",
      "1/1 [==============================] - 0s 13ms/step\n",
      "1/1 [==============================] - 0s 12ms/step\n",
      "1/1 [==============================] - 0s 12ms/step\n",
      "1/1 [==============================] - 0s 12ms/step\n",
      "1/1 [==============================] - 0s 12ms/step\n",
      "1/1 [==============================] - 0s 12ms/step\n",
      "1/1 [==============================] - 0s 12ms/step\n",
      "1/1 [==============================] - 0s 13ms/step\n",
      "1/1 [==============================] - 0s 12ms/step\n",
      "1/1 [==============================] - 0s 12ms/step\n",
      "1/1 [==============================] - 0s 12ms/step\n",
      "1/1 [==============================] - 0s 12ms/step\n",
      "1/1 [==============================] - 0s 12ms/step\n",
      "1/1 [==============================] - 0s 13ms/step\n",
      "1/1 [==============================] - 0s 12ms/step\n",
      "1/1 [==============================] - 0s 13ms/step\n",
      "1/1 [==============================] - 0s 13ms/step\n",
      "1/1 [==============================] - 0s 13ms/step\n",
      "1/1 [==============================] - 0s 12ms/step\n",
      "1/1 [==============================] - 0s 12ms/step\n",
      "1/1 [==============================] - 0s 12ms/step\n",
      "1/1 [==============================] - 0s 12ms/step\n",
      "1/1 [==============================] - 0s 12ms/step\n",
      "1/1 [==============================] - 0s 12ms/step\n",
      "1/1 [==============================] - 0s 12ms/step\n",
      "1/1 [==============================] - 0s 12ms/step\n",
      "1/1 [==============================] - 0s 12ms/step\n",
      "1/1 [==============================] - 0s 12ms/step\n",
      "1/1 [==============================] - 0s 13ms/step\n",
      "1/1 [==============================] - 0s 12ms/step\n",
      "1/1 [==============================] - 0s 11ms/step\n",
      "1/1 [==============================] - 0s 12ms/step\n",
      "1/1 [==============================] - 0s 12ms/step\n",
      "1/1 [==============================] - 0s 12ms/step\n",
      "1/1 [==============================] - 0s 12ms/step\n",
      "1/1 [==============================] - 0s 12ms/step\n",
      "1/1 [==============================] - 0s 12ms/step\n",
      "1/1 [==============================] - 0s 12ms/step\n",
      "1/1 [==============================] - 0s 12ms/step\n",
      "1/1 [==============================] - 0s 12ms/step\n",
      "1/1 [==============================] - 0s 12ms/step\n",
      "1/1 [==============================] - 0s 12ms/step\n",
      "1/1 [==============================] - 0s 12ms/step\n",
      "1/1 [==============================] - 0s 12ms/step\n",
      "1/1 [==============================] - 0s 12ms/step\n",
      "1/1 [==============================] - 0s 12ms/step\n",
      "1/1 [==============================] - 0s 12ms/step\n",
      "1/1 [==============================] - 0s 12ms/step\n",
      "1/1 [==============================] - 0s 12ms/step\n",
      "1/1 [==============================] - 0s 12ms/step\n",
      "1/1 [==============================] - 0s 12ms/step\n",
      "1/1 [==============================] - 0s 12ms/step\n",
      "1/1 [==============================] - 0s 12ms/step\n",
      "1/1 [==============================] - 0s 13ms/step\n",
      "1/1 [==============================] - 0s 13ms/step\n",
      "1/1 [==============================] - 0s 14ms/step\n",
      "1/1 [==============================] - 0s 13ms/step\n",
      "1/1 [==============================] - 0s 12ms/step\n",
      "1/1 [==============================] - 0s 13ms/step\n",
      "1/1 [==============================] - 0s 12ms/step\n"
     ]
    },
    {
     "name": "stdout",
     "output_type": "stream",
     "text": [
      "1/1 [==============================] - 0s 13ms/step\n",
      "1/1 [==============================] - 0s 12ms/step\n",
      "1/1 [==============================] - 0s 12ms/step\n",
      "1/1 [==============================] - 0s 13ms/step\n",
      "1/1 [==============================] - 0s 13ms/step\n",
      "1/1 [==============================] - 0s 13ms/step\n",
      "1/1 [==============================] - 0s 12ms/step\n",
      "1/1 [==============================] - 0s 12ms/step\n",
      "1/1 [==============================] - 0s 12ms/step\n",
      "1/1 [==============================] - 0s 12ms/step\n",
      "1/1 [==============================] - 0s 13ms/step\n",
      "1/1 [==============================] - 0s 12ms/step\n",
      "1/1 [==============================] - 0s 13ms/step\n",
      "1/1 [==============================] - 0s 13ms/step\n",
      "1/1 [==============================] - 0s 12ms/step\n",
      "1/1 [==============================] - 0s 12ms/step\n",
      "1/1 [==============================] - 0s 13ms/step\n",
      "1/1 [==============================] - 0s 12ms/step\n",
      "1/1 [==============================] - 0s 12ms/step\n",
      "1/1 [==============================] - 0s 12ms/step\n",
      "1/1 [==============================] - 0s 12ms/step\n",
      "1/1 [==============================] - 0s 13ms/step\n",
      "1/1 [==============================] - 0s 13ms/step\n",
      "1/1 [==============================] - 0s 13ms/step\n",
      "1/1 [==============================] - 0s 12ms/step\n",
      "1/1 [==============================] - 0s 12ms/step\n",
      "1/1 [==============================] - 0s 12ms/step\n",
      "1/1 [==============================] - 0s 12ms/step\n",
      "1/1 [==============================] - 0s 12ms/step\n",
      "1/1 [==============================] - 0s 12ms/step\n",
      "1/1 [==============================] - 0s 12ms/step\n",
      "1/1 [==============================] - 0s 12ms/step\n",
      "1/1 [==============================] - 0s 12ms/step\n",
      "1/1 [==============================] - 0s 12ms/step\n",
      "1/1 [==============================] - 0s 12ms/step\n",
      "1/1 [==============================] - 0s 12ms/step\n",
      "1/1 [==============================] - 0s 12ms/step\n",
      "1/1 [==============================] - 0s 12ms/step\n",
      "1/1 [==============================] - 0s 13ms/step\n",
      "1/1 [==============================] - 0s 12ms/step\n",
      "1/1 [==============================] - 0s 12ms/step\n",
      "1/1 [==============================] - 0s 12ms/step\n",
      "1/1 [==============================] - 0s 12ms/step\n",
      "1/1 [==============================] - 0s 12ms/step\n",
      "1/1 [==============================] - 0s 12ms/step\n",
      "1/1 [==============================] - 0s 12ms/step\n",
      "1/1 [==============================] - 0s 12ms/step\n",
      "1/1 [==============================] - 0s 12ms/step\n",
      "1/1 [==============================] - 0s 12ms/step\n",
      "1/1 [==============================] - 0s 12ms/step\n",
      "1/1 [==============================] - 0s 12ms/step\n",
      "1/1 [==============================] - 0s 12ms/step\n",
      "1/1 [==============================] - 0s 12ms/step\n",
      "1/1 [==============================] - 0s 12ms/step\n",
      "1/1 [==============================] - 0s 13ms/step\n",
      "1/1 [==============================] - 0s 12ms/step\n",
      "1/1 [==============================] - 0s 12ms/step\n",
      "1/1 [==============================] - 0s 12ms/step\n",
      "1/1 [==============================] - 0s 12ms/step\n",
      "1/1 [==============================] - 0s 12ms/step\n",
      "1/1 [==============================] - 0s 12ms/step\n",
      "1/1 [==============================] - 0s 12ms/step\n",
      "1/1 [==============================] - 0s 12ms/step\n",
      "1/1 [==============================] - 0s 12ms/step\n",
      "1/1 [==============================] - 0s 12ms/step\n",
      "1/1 [==============================] - 0s 12ms/step\n",
      "1/1 [==============================] - 0s 12ms/step\n",
      "1/1 [==============================] - 0s 12ms/step\n",
      "1/1 [==============================] - 0s 12ms/step\n",
      "1/1 [==============================] - 0s 12ms/step\n",
      "1/1 [==============================] - 0s 12ms/step\n",
      "1/1 [==============================] - 0s 12ms/step\n",
      "1/1 [==============================] - 0s 12ms/step\n",
      "1/1 [==============================] - 0s 12ms/step\n",
      "1/1 [==============================] - 0s 13ms/step\n",
      "1/1 [==============================] - 0s 12ms/step\n",
      "1/1 [==============================] - 0s 12ms/step\n",
      "1/1 [==============================] - 0s 14ms/step\n",
      "1/1 [==============================] - 0s 12ms/step\n",
      "1/1 [==============================] - 0s 13ms/step\n",
      "1/1 [==============================] - 0s 13ms/step\n",
      "1/1 [==============================] - 0s 12ms/step\n",
      "1/1 [==============================] - 0s 12ms/step\n",
      "1/1 [==============================] - 0s 12ms/step\n",
      "1/1 [==============================] - 0s 12ms/step\n",
      "1/1 [==============================] - 0s 14ms/step\n",
      "1/1 [==============================] - 0s 12ms/step\n",
      "1/1 [==============================] - 0s 12ms/step\n",
      "1/1 [==============================] - 0s 12ms/step\n",
      "1/1 [==============================] - 0s 12ms/step\n",
      "1/1 [==============================] - 0s 12ms/step\n",
      "1/1 [==============================] - 0s 12ms/step\n",
      "1/1 [==============================] - 0s 12ms/step\n",
      "1/1 [==============================] - 0s 12ms/step\n",
      "1/1 [==============================] - 0s 13ms/step\n",
      "1/1 [==============================] - 0s 12ms/step\n",
      "1/1 [==============================] - 0s 12ms/step\n",
      "1/1 [==============================] - 0s 12ms/step\n",
      "1/1 [==============================] - 0s 12ms/step\n",
      "1/1 [==============================] - 0s 12ms/step\n",
      "1/1 [==============================] - 0s 12ms/step\n",
      "1/1 [==============================] - 0s 12ms/step\n",
      "1/1 [==============================] - 0s 12ms/step\n",
      "1/1 [==============================] - 0s 13ms/step\n",
      "1/1 [==============================] - 0s 12ms/step\n",
      "1/1 [==============================] - 0s 12ms/step\n",
      "1/1 [==============================] - 0s 12ms/step\n",
      "1/1 [==============================] - 0s 12ms/step\n",
      "1/1 [==============================] - 0s 13ms/step\n",
      "1/1 [==============================] - 0s 12ms/step\n",
      "1/1 [==============================] - 0s 12ms/step\n",
      "1/1 [==============================] - 0s 12ms/step\n",
      "1/1 [==============================] - 0s 12ms/step\n",
      "1/1 [==============================] - 0s 13ms/step\n",
      "1/1 [==============================] - 0s 12ms/step\n",
      "1/1 [==============================] - 0s 12ms/step\n",
      "1/1 [==============================] - 0s 12ms/step\n",
      "1/1 [==============================] - 0s 12ms/step\n",
      "1/1 [==============================] - 0s 12ms/step\n",
      "1/1 [==============================] - 0s 12ms/step\n",
      "1/1 [==============================] - 0s 12ms/step\n",
      "1/1 [==============================] - 0s 12ms/step\n",
      "1/1 [==============================] - 0s 12ms/step\n",
      "1/1 [==============================] - 0s 12ms/step\n",
      "1/1 [==============================] - 0s 12ms/step\n",
      "1/1 [==============================] - 0s 13ms/step\n",
      "1/1 [==============================] - 0s 13ms/step\n",
      "1/1 [==============================] - 0s 12ms/step\n",
      "1/1 [==============================] - 0s 12ms/step\n",
      "1/1 [==============================] - 0s 12ms/step\n",
      "1/1 [==============================] - 0s 12ms/step\n",
      "1/1 [==============================] - 0s 12ms/step\n",
      "1/1 [==============================] - 0s 12ms/step\n",
      "1/1 [==============================] - 0s 13ms/step\n",
      "1/1 [==============================] - 0s 12ms/step\n",
      "1/1 [==============================] - 0s 12ms/step\n",
      "1/1 [==============================] - 0s 12ms/step\n",
      "1/1 [==============================] - 0s 12ms/step\n",
      "1/1 [==============================] - 0s 12ms/step\n",
      "1/1 [==============================] - 0s 12ms/step\n",
      "1/1 [==============================] - 0s 12ms/step\n",
      "1/1 [==============================] - 0s 12ms/step\n",
      "1/1 [==============================] - 0s 12ms/step\n",
      "1/1 [==============================] - 0s 12ms/step\n",
      "1/1 [==============================] - 0s 12ms/step\n",
      "1/1 [==============================] - 0s 12ms/step\n",
      "1/1 [==============================] - 0s 12ms/step\n",
      "1/1 [==============================] - 0s 12ms/step\n",
      "1/1 [==============================] - 0s 12ms/step\n",
      "1/1 [==============================] - 0s 12ms/step\n",
      "1/1 [==============================] - 0s 12ms/step\n",
      "1/1 [==============================] - 0s 12ms/step\n",
      "1/1 [==============================] - 0s 12ms/step\n",
      "1/1 [==============================] - 0s 12ms/step\n",
      "1/1 [==============================] - 0s 12ms/step\n",
      "1/1 [==============================] - 0s 12ms/step\n",
      "1/1 [==============================] - 0s 12ms/step\n"
     ]
    },
    {
     "name": "stdout",
     "output_type": "stream",
     "text": [
      "1/1 [==============================] - 0s 12ms/step\n",
      "1/1 [==============================] - 0s 12ms/step\n",
      "1/1 [==============================] - 0s 12ms/step\n",
      "1/1 [==============================] - 0s 12ms/step\n",
      "1/1 [==============================] - 0s 12ms/step\n",
      "1/1 [==============================] - 0s 12ms/step\n",
      "1/1 [==============================] - 0s 12ms/step\n",
      "1/1 [==============================] - 0s 12ms/step\n",
      "1/1 [==============================] - 0s 13ms/step\n",
      "1/1 [==============================] - 0s 12ms/step\n",
      "1/1 [==============================] - 0s 12ms/step\n",
      "1/1 [==============================] - 0s 12ms/step\n",
      "1/1 [==============================] - 0s 12ms/step\n",
      "1/1 [==============================] - 0s 12ms/step\n",
      "1/1 [==============================] - 0s 12ms/step\n",
      "1/1 [==============================] - 0s 12ms/step\n",
      "1/1 [==============================] - 0s 12ms/step\n",
      "1/1 [==============================] - 0s 12ms/step\n",
      "1/1 [==============================] - 0s 12ms/step\n",
      "1/1 [==============================] - 0s 12ms/step\n",
      "1/1 [==============================] - 0s 12ms/step\n",
      "1/1 [==============================] - 0s 12ms/step\n",
      "1/1 [==============================] - 0s 12ms/step\n",
      "1/1 [==============================] - 0s 12ms/step\n",
      "1/1 [==============================] - 0s 12ms/step\n",
      "1/1 [==============================] - 0s 12ms/step\n",
      "1/1 [==============================] - 0s 12ms/step\n",
      "1/1 [==============================] - 0s 12ms/step\n"
     ]
    }
   ],
   "source": [
    "row = X2_test[0]\n",
    "recur_preds = []\n",
    "\n",
    "for i in range(1,500): #since the size of the test set\n",
    "    row = row.reshape(1,6,5)\n",
    "    \n",
    "    # make and store prediction\n",
    "    pred = model4.predict(row).flatten()[0]\n",
    "    recur_preds.append(pred)\n",
    "    \n",
    "    # scale prediction and insert into the next row\n",
    "    row = newrow(X2_test[i], pred)"
   ]
  },
  {
   "cell_type": "code",
   "execution_count": 83,
   "id": "da7c0403",
   "metadata": {},
   "outputs": [
    {
     "data": {
      "text/plain": [
       "(499, 500)"
      ]
     },
     "execution_count": 83,
     "metadata": {},
     "output_type": "execute_result"
    }
   ],
   "source": [
    "len(recur_preds), len(y2_test) #one extra in y2_test because of the way the windows work"
   ]
  },
  {
   "cell_type": "code",
   "execution_count": 84,
   "id": "d8317e9d",
   "metadata": {},
   "outputs": [
    {
     "data": {
      "image/png": "[encoded data removed]",
      "text/plain": [
       "<Figure size 1152x360 with 1 Axes>"
      ]
     },
     "metadata": {
      "needs_background": "light"
     },
     "output_type": "display_data"
    },
    {
     "data": {
      "text/plain": [
       "(     Predictions  Actuals\n",
       " 0      91.410591  91.4921\n",
       " 1      91.460915  91.5775\n",
       " 2      91.553894  91.6546\n",
       " 3      91.642227  91.7333\n",
       " 4      91.717621  91.7912\n",
       " ..           ...      ...\n",
       " 494    79.309341  79.2675\n",
       " 495    79.651772  79.4696\n",
       " 496    80.092949  80.0721\n",
       " 497    80.478004  80.4046\n",
       " 498    80.816704  80.6565\n",
       " \n",
       " [499 rows x 2 columns],\n",
       " 0.3132503732900564)"
      ]
     },
     "execution_count": 84,
     "metadata": {},
     "output_type": "execute_result"
    }
   ],
   "source": [
    "plot_predictions2(recur_preds, y2_test[:-1])"
   ]
  },
  {
   "cell_type": "code",
   "execution_count": null,
   "id": "f1985aeb",
   "metadata": {},
   "outputs": [],
   "source": []
  }
 ],
 "metadata": {
  "kernelspec": {
   "display_name": "Python 3 (ipykernel)",
   "language": "python",
   "name": "python3"
  },
  "language_info": {
   "codemirror_mode": {
    "name": "ipython",
    "version": 3
   },
   "file_extension": ".py",
   "mimetype": "text/x-python",
   "name": "python",
   "nbconvert_exporter": "python",
   "pygments_lexer": "ipython3",
   "version": "3.10.9"
  }
 },
 "nbformat": 4,
 "nbformat_minor": 5
}

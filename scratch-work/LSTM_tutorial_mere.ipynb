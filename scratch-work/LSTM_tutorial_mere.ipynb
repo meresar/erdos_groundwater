{
 "cells": [
  {
   "cell_type": "markdown",
   "id": "a93e4381",
   "metadata": {},
   "source": [
    "# tutorials for NN\n",
    "\n",
    "Following these tutorials (in order)\n",
    "* LSTM Time Series Forecasting https://www.youtube.com/watch?v=c0k-YLQGKjY\n",
    "* Multivariate Time Series Forecasting Using LSTM, GRU & 1d CNNs https://www.youtube.com/watch?v=kGdbPnMCdOg"
   ]
  },
  {
   "cell_type": "code",
   "execution_count": 1,
   "id": "0e0289d9",
   "metadata": {},
   "outputs": [
    {
     "name": "stderr",
     "output_type": "stream",
     "text": [
      "2023-11-08 13:27:14.160914: I tensorflow/tsl/cuda/cudart_stub.cc:28] Could not find cuda drivers on your machine, GPU will not be used.\n",
      "2023-11-08 13:27:15.542689: E tensorflow/compiler/xla/stream_executor/cuda/cuda_dnn.cc:9342] Unable to register cuDNN factory: Attempting to register factory for plugin cuDNN when one has already been registered\n",
      "2023-11-08 13:27:15.542776: E tensorflow/compiler/xla/stream_executor/cuda/cuda_fft.cc:609] Unable to register cuFFT factory: Attempting to register factory for plugin cuFFT when one has already been registered\n",
      "2023-11-08 13:27:15.546981: E tensorflow/compiler/xla/stream_executor/cuda/cuda_blas.cc:1518] Unable to register cuBLAS factory: Attempting to register factory for plugin cuBLAS when one has already been registered\n",
      "2023-11-08 13:27:16.136063: I tensorflow/tsl/cuda/cudart_stub.cc:28] Could not find cuda drivers on your machine, GPU will not be used.\n",
      "2023-11-08 13:27:16.138527: I tensorflow/core/platform/cpu_feature_guard.cc:182] This TensorFlow binary is optimized to use available CPU instructions in performance-critical operations.\n",
      "To enable the following instructions: AVX2 FMA, in other operations, rebuild TensorFlow with the appropriate compiler flags.\n",
      "2023-11-08 13:27:21.118351: W tensorflow/compiler/tf2tensorrt/utils/py_utils.cc:38] TF-TRT Warning: Could not find TensorRT\n"
     ]
    }
   ],
   "source": [
    "import tensorflow as tf\n",
    "import os\n",
    "import pandas as pd\n",
    "import numpy as np\n",
    "import matplotlib.pyplot as plt"
   ]
  },
  {
   "cell_type": "code",
   "execution_count": 48,
   "id": "d511c43b",
   "metadata": {},
   "outputs": [
    {
     "data": {
      "text/html": [
       "<div>\n",
       "<style scoped>\n",
       "    .dataframe tbody tr th:only-of-type {\n",
       "        vertical-align: middle;\n",
       "    }\n",
       "\n",
       "    .dataframe tbody tr th {\n",
       "        vertical-align: top;\n",
       "    }\n",
       "\n",
       "    .dataframe thead th {\n",
       "        text-align: right;\n",
       "    }\n",
       "</style>\n",
       "<table border=\"1\" class=\"dataframe\">\n",
       "  <thead>\n",
       "    <tr style=\"text-align: right;\">\n",
       "      <th></th>\n",
       "      <th>date</th>\n",
       "      <th>avg_well_depth</th>\n",
       "      <th>gage_ht</th>\n",
       "      <th>discharge_cfs</th>\n",
       "      <th>prcp</th>\n",
       "      <th>temp_avg</th>\n",
       "      <th>temp_max</th>\n",
       "      <th>temp_min</th>\n",
       "      <th>hPa_avg</th>\n",
       "      <th>hum_avg</th>\n",
       "      <th>hum_max</th>\n",
       "      <th>hum_min</th>\n",
       "      <th>wind_avg</th>\n",
       "      <th>wind_max</th>\n",
       "      <th>wind_min</th>\n",
       "      <th>gust_avg</th>\n",
       "      <th>gust_max</th>\n",
       "      <th>gust_min</th>\n",
       "    </tr>\n",
       "  </thead>\n",
       "  <tbody>\n",
       "    <tr>\n",
       "      <th>0</th>\n",
       "      <td>2006-02-07</td>\n",
       "      <td>91.0100</td>\n",
       "      <td>21.65</td>\n",
       "      <td>9420.0</td>\n",
       "      <td>0.00</td>\n",
       "      <td>35.722500</td>\n",
       "      <td>46.31</td>\n",
       "      <td>28.26</td>\n",
       "      <td>1028.625000</td>\n",
       "      <td>76.375000</td>\n",
       "      <td>93.0</td>\n",
       "      <td>47.0</td>\n",
       "      <td>5.826667</td>\n",
       "      <td>10.29</td>\n",
       "      <td>3.36</td>\n",
       "      <td>0.0000</td>\n",
       "      <td>0.00</td>\n",
       "      <td>0.0</td>\n",
       "    </tr>\n",
       "    <tr>\n",
       "      <th>1</th>\n",
       "      <td>2006-02-08</td>\n",
       "      <td>91.0429</td>\n",
       "      <td>21.64</td>\n",
       "      <td>9380.0</td>\n",
       "      <td>0.00</td>\n",
       "      <td>35.124167</td>\n",
       "      <td>42.46</td>\n",
       "      <td>28.72</td>\n",
       "      <td>1026.625000</td>\n",
       "      <td>84.416667</td>\n",
       "      <td>100.0</td>\n",
       "      <td>69.0</td>\n",
       "      <td>6.366250</td>\n",
       "      <td>11.41</td>\n",
       "      <td>3.36</td>\n",
       "      <td>0.0000</td>\n",
       "      <td>0.00</td>\n",
       "      <td>0.0</td>\n",
       "    </tr>\n",
       "    <tr>\n",
       "      <th>2</th>\n",
       "      <td>2006-02-09</td>\n",
       "      <td>91.1096</td>\n",
       "      <td>21.58</td>\n",
       "      <td>9210.0</td>\n",
       "      <td>0.00</td>\n",
       "      <td>32.172500</td>\n",
       "      <td>43.05</td>\n",
       "      <td>24.44</td>\n",
       "      <td>1035.041667</td>\n",
       "      <td>64.541667</td>\n",
       "      <td>98.0</td>\n",
       "      <td>30.0</td>\n",
       "      <td>8.732917</td>\n",
       "      <td>13.87</td>\n",
       "      <td>5.82</td>\n",
       "      <td>0.7175</td>\n",
       "      <td>17.22</td>\n",
       "      <td>0.0</td>\n",
       "    </tr>\n",
       "    <tr>\n",
       "      <th>3</th>\n",
       "      <td>2006-02-10</td>\n",
       "      <td>91.1954</td>\n",
       "      <td>21.46</td>\n",
       "      <td>8830.0</td>\n",
       "      <td>0.00</td>\n",
       "      <td>31.252083</td>\n",
       "      <td>42.04</td>\n",
       "      <td>24.33</td>\n",
       "      <td>1038.958333</td>\n",
       "      <td>56.250000</td>\n",
       "      <td>81.0</td>\n",
       "      <td>27.0</td>\n",
       "      <td>9.655417</td>\n",
       "      <td>16.11</td>\n",
       "      <td>5.82</td>\n",
       "      <td>0.0000</td>\n",
       "      <td>0.00</td>\n",
       "      <td>0.0</td>\n",
       "    </tr>\n",
       "    <tr>\n",
       "      <th>4</th>\n",
       "      <td>2006-02-11</td>\n",
       "      <td>91.3012</td>\n",
       "      <td>21.36</td>\n",
       "      <td>8550.0</td>\n",
       "      <td>0.00</td>\n",
       "      <td>30.429583</td>\n",
       "      <td>42.46</td>\n",
       "      <td>21.51</td>\n",
       "      <td>1037.583333</td>\n",
       "      <td>61.708333</td>\n",
       "      <td>84.0</td>\n",
       "      <td>36.0</td>\n",
       "      <td>7.250417</td>\n",
       "      <td>10.29</td>\n",
       "      <td>3.36</td>\n",
       "      <td>0.0000</td>\n",
       "      <td>0.00</td>\n",
       "      <td>0.0</td>\n",
       "    </tr>\n",
       "    <tr>\n",
       "      <th>5</th>\n",
       "      <td>2006-02-12</td>\n",
       "      <td>91.4004</td>\n",
       "      <td>21.28</td>\n",
       "      <td>8330.0</td>\n",
       "      <td>0.00</td>\n",
       "      <td>31.932083</td>\n",
       "      <td>43.92</td>\n",
       "      <td>24.57</td>\n",
       "      <td>1035.333333</td>\n",
       "      <td>68.041667</td>\n",
       "      <td>87.0</td>\n",
       "      <td>44.0</td>\n",
       "      <td>6.179583</td>\n",
       "      <td>9.17</td>\n",
       "      <td>3.36</td>\n",
       "      <td>0.0000</td>\n",
       "      <td>0.00</td>\n",
       "      <td>0.0</td>\n",
       "    </tr>\n",
       "    <tr>\n",
       "      <th>6</th>\n",
       "      <td>2006-02-13</td>\n",
       "      <td>91.5129</td>\n",
       "      <td>21.10</td>\n",
       "      <td>7820.0</td>\n",
       "      <td>0.10</td>\n",
       "      <td>31.004848</td>\n",
       "      <td>35.42</td>\n",
       "      <td>26.37</td>\n",
       "      <td>1025.878788</td>\n",
       "      <td>91.121212</td>\n",
       "      <td>96.0</td>\n",
       "      <td>81.0</td>\n",
       "      <td>7.274242</td>\n",
       "      <td>19.46</td>\n",
       "      <td>0.00</td>\n",
       "      <td>0.0000</td>\n",
       "      <td>0.00</td>\n",
       "      <td>0.0</td>\n",
       "    </tr>\n",
       "    <tr>\n",
       "      <th>7</th>\n",
       "      <td>2006-02-14</td>\n",
       "      <td>91.6071</td>\n",
       "      <td>20.97</td>\n",
       "      <td>7460.0</td>\n",
       "      <td>0.00</td>\n",
       "      <td>25.755417</td>\n",
       "      <td>35.42</td>\n",
       "      <td>18.34</td>\n",
       "      <td>1021.125000</td>\n",
       "      <td>76.083333</td>\n",
       "      <td>98.0</td>\n",
       "      <td>51.0</td>\n",
       "      <td>7.147917</td>\n",
       "      <td>10.29</td>\n",
       "      <td>3.36</td>\n",
       "      <td>0.0000</td>\n",
       "      <td>0.00</td>\n",
       "      <td>0.0</td>\n",
       "    </tr>\n",
       "    <tr>\n",
       "      <th>8</th>\n",
       "      <td>2006-02-15</td>\n",
       "      <td>91.7167</td>\n",
       "      <td>20.91</td>\n",
       "      <td>7300.0</td>\n",
       "      <td>0.00</td>\n",
       "      <td>25.828750</td>\n",
       "      <td>35.62</td>\n",
       "      <td>17.37</td>\n",
       "      <td>1019.750000</td>\n",
       "      <td>66.083333</td>\n",
       "      <td>88.0</td>\n",
       "      <td>33.0</td>\n",
       "      <td>6.552083</td>\n",
       "      <td>10.29</td>\n",
       "      <td>3.36</td>\n",
       "      <td>0.0000</td>\n",
       "      <td>0.00</td>\n",
       "      <td>0.0</td>\n",
       "    </tr>\n",
       "    <tr>\n",
       "      <th>9</th>\n",
       "      <td>2006-02-16</td>\n",
       "      <td>91.7925</td>\n",
       "      <td>20.81</td>\n",
       "      <td>7040.0</td>\n",
       "      <td>0.06</td>\n",
       "      <td>22.394400</td>\n",
       "      <td>27.81</td>\n",
       "      <td>12.18</td>\n",
       "      <td>1023.360000</td>\n",
       "      <td>65.240000</td>\n",
       "      <td>85.0</td>\n",
       "      <td>31.0</td>\n",
       "      <td>13.198800</td>\n",
       "      <td>26.17</td>\n",
       "      <td>2.24</td>\n",
       "      <td>8.4468</td>\n",
       "      <td>33.11</td>\n",
       "      <td>0.0</td>\n",
       "    </tr>\n",
       "    <tr>\n",
       "      <th>10</th>\n",
       "      <td>2006-02-17</td>\n",
       "      <td>91.9404</td>\n",
       "      <td>20.65</td>\n",
       "      <td>6630.0</td>\n",
       "      <td>0.00</td>\n",
       "      <td>13.117917</td>\n",
       "      <td>20.70</td>\n",
       "      <td>6.04</td>\n",
       "      <td>1031.625000</td>\n",
       "      <td>29.458333</td>\n",
       "      <td>39.0</td>\n",
       "      <td>23.0</td>\n",
       "      <td>20.635833</td>\n",
       "      <td>27.74</td>\n",
       "      <td>10.29</td>\n",
       "      <td>19.7600</td>\n",
       "      <td>39.15</td>\n",
       "      <td>0.0</td>\n",
       "    </tr>\n",
       "    <tr>\n",
       "      <th>11</th>\n",
       "      <td>2006-02-18</td>\n",
       "      <td>92.0808</td>\n",
       "      <td>20.51</td>\n",
       "      <td>6260.0</td>\n",
       "      <td>0.00</td>\n",
       "      <td>19.715417</td>\n",
       "      <td>32.07</td>\n",
       "      <td>9.03</td>\n",
       "      <td>1026.333333</td>\n",
       "      <td>43.375000</td>\n",
       "      <td>63.0</td>\n",
       "      <td>24.0</td>\n",
       "      <td>10.075417</td>\n",
       "      <td>17.22</td>\n",
       "      <td>3.36</td>\n",
       "      <td>0.0000</td>\n",
       "      <td>0.00</td>\n",
       "      <td>0.0</td>\n",
       "    </tr>\n",
       "    <tr>\n",
       "      <th>12</th>\n",
       "      <td>2006-02-19</td>\n",
       "      <td>92.2000</td>\n",
       "      <td>20.42</td>\n",
       "      <td>6050.0</td>\n",
       "      <td>0.00</td>\n",
       "      <td>23.388750</td>\n",
       "      <td>31.15</td>\n",
       "      <td>12.18</td>\n",
       "      <td>1023.833333</td>\n",
       "      <td>53.125000</td>\n",
       "      <td>77.0</td>\n",
       "      <td>38.0</td>\n",
       "      <td>7.875833</td>\n",
       "      <td>12.75</td>\n",
       "      <td>0.00</td>\n",
       "      <td>0.0000</td>\n",
       "      <td>0.00</td>\n",
       "      <td>0.0</td>\n",
       "    </tr>\n",
       "    <tr>\n",
       "      <th>13</th>\n",
       "      <td>2006-02-20</td>\n",
       "      <td>92.3475</td>\n",
       "      <td>20.34</td>\n",
       "      <td>5860.0</td>\n",
       "      <td>0.00</td>\n",
       "      <td>27.841667</td>\n",
       "      <td>34.05</td>\n",
       "      <td>21.09</td>\n",
       "      <td>1021.291667</td>\n",
       "      <td>50.750000</td>\n",
       "      <td>63.0</td>\n",
       "      <td>36.0</td>\n",
       "      <td>8.433750</td>\n",
       "      <td>12.75</td>\n",
       "      <td>4.70</td>\n",
       "      <td>0.0000</td>\n",
       "      <td>0.00</td>\n",
       "      <td>0.0</td>\n",
       "    </tr>\n",
       "    <tr>\n",
       "      <th>14</th>\n",
       "      <td>2006-02-21</td>\n",
       "      <td>92.5071</td>\n",
       "      <td>20.26</td>\n",
       "      <td>5660.0</td>\n",
       "      <td>0.00</td>\n",
       "      <td>34.277083</td>\n",
       "      <td>42.06</td>\n",
       "      <td>28.31</td>\n",
       "      <td>1016.541667</td>\n",
       "      <td>63.750000</td>\n",
       "      <td>83.0</td>\n",
       "      <td>46.0</td>\n",
       "      <td>12.116250</td>\n",
       "      <td>20.58</td>\n",
       "      <td>4.47</td>\n",
       "      <td>0.0000</td>\n",
       "      <td>0.00</td>\n",
       "      <td>0.0</td>\n",
       "    </tr>\n",
       "  </tbody>\n",
       "</table>\n",
       "</div>"
      ],
      "text/plain": [
       "         date  avg_well_depth  gage_ht  discharge_cfs  prcp   temp_avg  \\\n",
       "0  2006-02-07         91.0100    21.65         9420.0  0.00  35.722500   \n",
       "1  2006-02-08         91.0429    21.64         9380.0  0.00  35.124167   \n",
       "2  2006-02-09         91.1096    21.58         9210.0  0.00  32.172500   \n",
       "3  2006-02-10         91.1954    21.46         8830.0  0.00  31.252083   \n",
       "4  2006-02-11         91.3012    21.36         8550.0  0.00  30.429583   \n",
       "5  2006-02-12         91.4004    21.28         8330.0  0.00  31.932083   \n",
       "6  2006-02-13         91.5129    21.10         7820.0  0.10  31.004848   \n",
       "7  2006-02-14         91.6071    20.97         7460.0  0.00  25.755417   \n",
       "8  2006-02-15         91.7167    20.91         7300.0  0.00  25.828750   \n",
       "9  2006-02-16         91.7925    20.81         7040.0  0.06  22.394400   \n",
       "10 2006-02-17         91.9404    20.65         6630.0  0.00  13.117917   \n",
       "11 2006-02-18         92.0808    20.51         6260.0  0.00  19.715417   \n",
       "12 2006-02-19         92.2000    20.42         6050.0  0.00  23.388750   \n",
       "13 2006-02-20         92.3475    20.34         5860.0  0.00  27.841667   \n",
       "14 2006-02-21         92.5071    20.26         5660.0  0.00  34.277083   \n",
       "\n",
       "    temp_max  temp_min      hPa_avg    hum_avg  hum_max  hum_min   wind_avg  \\\n",
       "0      46.31     28.26  1028.625000  76.375000     93.0     47.0   5.826667   \n",
       "1      42.46     28.72  1026.625000  84.416667    100.0     69.0   6.366250   \n",
       "2      43.05     24.44  1035.041667  64.541667     98.0     30.0   8.732917   \n",
       "3      42.04     24.33  1038.958333  56.250000     81.0     27.0   9.655417   \n",
       "4      42.46     21.51  1037.583333  61.708333     84.0     36.0   7.250417   \n",
       "5      43.92     24.57  1035.333333  68.041667     87.0     44.0   6.179583   \n",
       "6      35.42     26.37  1025.878788  91.121212     96.0     81.0   7.274242   \n",
       "7      35.42     18.34  1021.125000  76.083333     98.0     51.0   7.147917   \n",
       "8      35.62     17.37  1019.750000  66.083333     88.0     33.0   6.552083   \n",
       "9      27.81     12.18  1023.360000  65.240000     85.0     31.0  13.198800   \n",
       "10     20.70      6.04  1031.625000  29.458333     39.0     23.0  20.635833   \n",
       "11     32.07      9.03  1026.333333  43.375000     63.0     24.0  10.075417   \n",
       "12     31.15     12.18  1023.833333  53.125000     77.0     38.0   7.875833   \n",
       "13     34.05     21.09  1021.291667  50.750000     63.0     36.0   8.433750   \n",
       "14     42.06     28.31  1016.541667  63.750000     83.0     46.0  12.116250   \n",
       "\n",
       "    wind_max  wind_min  gust_avg  gust_max  gust_min  \n",
       "0      10.29      3.36    0.0000      0.00       0.0  \n",
       "1      11.41      3.36    0.0000      0.00       0.0  \n",
       "2      13.87      5.82    0.7175     17.22       0.0  \n",
       "3      16.11      5.82    0.0000      0.00       0.0  \n",
       "4      10.29      3.36    0.0000      0.00       0.0  \n",
       "5       9.17      3.36    0.0000      0.00       0.0  \n",
       "6      19.46      0.00    0.0000      0.00       0.0  \n",
       "7      10.29      3.36    0.0000      0.00       0.0  \n",
       "8      10.29      3.36    0.0000      0.00       0.0  \n",
       "9      26.17      2.24    8.4468     33.11       0.0  \n",
       "10     27.74     10.29   19.7600     39.15       0.0  \n",
       "11     17.22      3.36    0.0000      0.00       0.0  \n",
       "12     12.75      0.00    0.0000      0.00       0.0  \n",
       "13     12.75      4.70    0.0000      0.00       0.0  \n",
       "14     20.58      4.47    0.0000      0.00       0.0  "
      ]
     },
     "execution_count": 48,
     "metadata": {},
     "output_type": "execute_result"
    }
   ],
   "source": [
    "df = pd.read_pickle('../data/pickled_data/AFL259_short.pkl')\n",
    "df.reset_index(inplace=True,drop=True)\n",
    "df.head(15)"
   ]
  },
  {
   "cell_type": "code",
   "execution_count": 3,
   "id": "ef6b56b9",
   "metadata": {},
   "outputs": [
    {
     "data": {
      "text/html": [
       "<div>\n",
       "<style scoped>\n",
       "    .dataframe tbody tr th:only-of-type {\n",
       "        vertical-align: middle;\n",
       "    }\n",
       "\n",
       "    .dataframe tbody tr th {\n",
       "        vertical-align: top;\n",
       "    }\n",
       "\n",
       "    .dataframe thead th {\n",
       "        text-align: right;\n",
       "    }\n",
       "</style>\n",
       "<table border=\"1\" class=\"dataframe\">\n",
       "  <thead>\n",
       "    <tr style=\"text-align: right;\">\n",
       "      <th></th>\n",
       "      <th>date</th>\n",
       "      <th>avg_well_depth</th>\n",
       "      <th>gage_ht</th>\n",
       "      <th>discharge_cfs</th>\n",
       "      <th>prcp</th>\n",
       "      <th>temp_avg</th>\n",
       "      <th>temp_max</th>\n",
       "      <th>temp_min</th>\n",
       "      <th>hPa_avg</th>\n",
       "      <th>hum_avg</th>\n",
       "      <th>hum_max</th>\n",
       "      <th>hum_min</th>\n",
       "      <th>wind_avg</th>\n",
       "      <th>wind_max</th>\n",
       "      <th>wind_min</th>\n",
       "      <th>gust_avg</th>\n",
       "      <th>gust_max</th>\n",
       "      <th>gust_min</th>\n",
       "    </tr>\n",
       "    <tr>\n",
       "      <th>date</th>\n",
       "      <th></th>\n",
       "      <th></th>\n",
       "      <th></th>\n",
       "      <th></th>\n",
       "      <th></th>\n",
       "      <th></th>\n",
       "      <th></th>\n",
       "      <th></th>\n",
       "      <th></th>\n",
       "      <th></th>\n",
       "      <th></th>\n",
       "      <th></th>\n",
       "      <th></th>\n",
       "      <th></th>\n",
       "      <th></th>\n",
       "      <th></th>\n",
       "      <th></th>\n",
       "      <th></th>\n",
       "    </tr>\n",
       "  </thead>\n",
       "  <tbody>\n",
       "    <tr>\n",
       "      <th>2006-02-07</th>\n",
       "      <td>2006-02-07</td>\n",
       "      <td>91.0100</td>\n",
       "      <td>21.65</td>\n",
       "      <td>9420.0</td>\n",
       "      <td>0.0</td>\n",
       "      <td>35.722500</td>\n",
       "      <td>46.31</td>\n",
       "      <td>28.26</td>\n",
       "      <td>1028.625000</td>\n",
       "      <td>76.375000</td>\n",
       "      <td>93.0</td>\n",
       "      <td>47.0</td>\n",
       "      <td>5.826667</td>\n",
       "      <td>10.29</td>\n",
       "      <td>3.36</td>\n",
       "      <td>0.000000</td>\n",
       "      <td>0.00</td>\n",
       "      <td>0.0</td>\n",
       "    </tr>\n",
       "    <tr>\n",
       "      <th>2006-02-08</th>\n",
       "      <td>2006-02-08</td>\n",
       "      <td>91.0429</td>\n",
       "      <td>21.64</td>\n",
       "      <td>9380.0</td>\n",
       "      <td>0.0</td>\n",
       "      <td>35.124167</td>\n",
       "      <td>42.46</td>\n",
       "      <td>28.72</td>\n",
       "      <td>1026.625000</td>\n",
       "      <td>84.416667</td>\n",
       "      <td>100.0</td>\n",
       "      <td>69.0</td>\n",
       "      <td>6.366250</td>\n",
       "      <td>11.41</td>\n",
       "      <td>3.36</td>\n",
       "      <td>0.000000</td>\n",
       "      <td>0.00</td>\n",
       "      <td>0.0</td>\n",
       "    </tr>\n",
       "    <tr>\n",
       "      <th>2006-02-09</th>\n",
       "      <td>2006-02-09</td>\n",
       "      <td>91.1096</td>\n",
       "      <td>21.58</td>\n",
       "      <td>9210.0</td>\n",
       "      <td>0.0</td>\n",
       "      <td>32.172500</td>\n",
       "      <td>43.05</td>\n",
       "      <td>24.44</td>\n",
       "      <td>1035.041667</td>\n",
       "      <td>64.541667</td>\n",
       "      <td>98.0</td>\n",
       "      <td>30.0</td>\n",
       "      <td>8.732917</td>\n",
       "      <td>13.87</td>\n",
       "      <td>5.82</td>\n",
       "      <td>0.717500</td>\n",
       "      <td>17.22</td>\n",
       "      <td>0.0</td>\n",
       "    </tr>\n",
       "    <tr>\n",
       "      <th>2006-02-10</th>\n",
       "      <td>2006-02-10</td>\n",
       "      <td>91.1954</td>\n",
       "      <td>21.46</td>\n",
       "      <td>8830.0</td>\n",
       "      <td>0.0</td>\n",
       "      <td>31.252083</td>\n",
       "      <td>42.04</td>\n",
       "      <td>24.33</td>\n",
       "      <td>1038.958333</td>\n",
       "      <td>56.250000</td>\n",
       "      <td>81.0</td>\n",
       "      <td>27.0</td>\n",
       "      <td>9.655417</td>\n",
       "      <td>16.11</td>\n",
       "      <td>5.82</td>\n",
       "      <td>0.000000</td>\n",
       "      <td>0.00</td>\n",
       "      <td>0.0</td>\n",
       "    </tr>\n",
       "    <tr>\n",
       "      <th>2006-02-11</th>\n",
       "      <td>2006-02-11</td>\n",
       "      <td>91.3012</td>\n",
       "      <td>21.36</td>\n",
       "      <td>8550.0</td>\n",
       "      <td>0.0</td>\n",
       "      <td>30.429583</td>\n",
       "      <td>42.46</td>\n",
       "      <td>21.51</td>\n",
       "      <td>1037.583333</td>\n",
       "      <td>61.708333</td>\n",
       "      <td>84.0</td>\n",
       "      <td>36.0</td>\n",
       "      <td>7.250417</td>\n",
       "      <td>10.29</td>\n",
       "      <td>3.36</td>\n",
       "      <td>0.000000</td>\n",
       "      <td>0.00</td>\n",
       "      <td>0.0</td>\n",
       "    </tr>\n",
       "    <tr>\n",
       "      <th>...</th>\n",
       "      <td>...</td>\n",
       "      <td>...</td>\n",
       "      <td>...</td>\n",
       "      <td>...</td>\n",
       "      <td>...</td>\n",
       "      <td>...</td>\n",
       "      <td>...</td>\n",
       "      <td>...</td>\n",
       "      <td>...</td>\n",
       "      <td>...</td>\n",
       "      <td>...</td>\n",
       "      <td>...</td>\n",
       "      <td>...</td>\n",
       "      <td>...</td>\n",
       "      <td>...</td>\n",
       "      <td>...</td>\n",
       "      <td>...</td>\n",
       "      <td>...</td>\n",
       "    </tr>\n",
       "    <tr>\n",
       "      <th>2018-06-02</th>\n",
       "      <td>2018-06-02</td>\n",
       "      <td>79.4696</td>\n",
       "      <td>21.84</td>\n",
       "      <td>10000.0</td>\n",
       "      <td>0.0</td>\n",
       "      <td>62.812083</td>\n",
       "      <td>77.25</td>\n",
       "      <td>46.35</td>\n",
       "      <td>1022.750000</td>\n",
       "      <td>48.333333</td>\n",
       "      <td>83.0</td>\n",
       "      <td>24.0</td>\n",
       "      <td>6.976250</td>\n",
       "      <td>11.50</td>\n",
       "      <td>3.44</td>\n",
       "      <td>0.000000</td>\n",
       "      <td>0.00</td>\n",
       "      <td>0.0</td>\n",
       "    </tr>\n",
       "    <tr>\n",
       "      <th>2018-06-03</th>\n",
       "      <td>2018-06-03</td>\n",
       "      <td>80.0721</td>\n",
       "      <td>21.59</td>\n",
       "      <td>9240.0</td>\n",
       "      <td>0.0</td>\n",
       "      <td>69.826250</td>\n",
       "      <td>86.25</td>\n",
       "      <td>52.66</td>\n",
       "      <td>1013.875000</td>\n",
       "      <td>46.416667</td>\n",
       "      <td>79.0</td>\n",
       "      <td>23.0</td>\n",
       "      <td>10.141667</td>\n",
       "      <td>21.92</td>\n",
       "      <td>3.44</td>\n",
       "      <td>3.165833</td>\n",
       "      <td>29.97</td>\n",
       "      <td>0.0</td>\n",
       "    </tr>\n",
       "    <tr>\n",
       "      <th>2018-06-04</th>\n",
       "      <td>2018-06-04</td>\n",
       "      <td>80.4046</td>\n",
       "      <td>21.50</td>\n",
       "      <td>8970.0</td>\n",
       "      <td>0.0</td>\n",
       "      <td>62.956250</td>\n",
       "      <td>71.67</td>\n",
       "      <td>56.35</td>\n",
       "      <td>1012.833333</td>\n",
       "      <td>41.666667</td>\n",
       "      <td>65.0</td>\n",
       "      <td>18.0</td>\n",
       "      <td>14.850000</td>\n",
       "      <td>23.04</td>\n",
       "      <td>8.05</td>\n",
       "      <td>4.030417</td>\n",
       "      <td>28.77</td>\n",
       "      <td>0.0</td>\n",
       "    </tr>\n",
       "    <tr>\n",
       "      <th>2018-06-05</th>\n",
       "      <td>2018-06-05</td>\n",
       "      <td>80.6565</td>\n",
       "      <td>21.45</td>\n",
       "      <td>8800.0</td>\n",
       "      <td>0.0</td>\n",
       "      <td>60.617500</td>\n",
       "      <td>71.04</td>\n",
       "      <td>47.41</td>\n",
       "      <td>1013.958333</td>\n",
       "      <td>39.166667</td>\n",
       "      <td>68.0</td>\n",
       "      <td>20.0</td>\n",
       "      <td>10.478333</td>\n",
       "      <td>17.27</td>\n",
       "      <td>4.70</td>\n",
       "      <td>2.880000</td>\n",
       "      <td>24.16</td>\n",
       "      <td>0.0</td>\n",
       "    </tr>\n",
       "    <tr>\n",
       "      <th>2018-06-06</th>\n",
       "      <td>2018-06-06</td>\n",
       "      <td>80.8423</td>\n",
       "      <td>21.42</td>\n",
       "      <td>8710.0</td>\n",
       "      <td>0.0</td>\n",
       "      <td>64.216250</td>\n",
       "      <td>78.35</td>\n",
       "      <td>47.19</td>\n",
       "      <td>1013.083333</td>\n",
       "      <td>39.000000</td>\n",
       "      <td>68.0</td>\n",
       "      <td>19.0</td>\n",
       "      <td>5.888750</td>\n",
       "      <td>9.22</td>\n",
       "      <td>3.44</td>\n",
       "      <td>0.000000</td>\n",
       "      <td>0.00</td>\n",
       "      <td>0.0</td>\n",
       "    </tr>\n",
       "  </tbody>\n",
       "</table>\n",
       "<p>4503 rows × 18 columns</p>\n",
       "</div>"
      ],
      "text/plain": [
       "                 date  avg_well_depth  gage_ht  discharge_cfs  prcp  \\\n",
       "date                                                                  \n",
       "2006-02-07 2006-02-07         91.0100    21.65         9420.0   0.0   \n",
       "2006-02-08 2006-02-08         91.0429    21.64         9380.0   0.0   \n",
       "2006-02-09 2006-02-09         91.1096    21.58         9210.0   0.0   \n",
       "2006-02-10 2006-02-10         91.1954    21.46         8830.0   0.0   \n",
       "2006-02-11 2006-02-11         91.3012    21.36         8550.0   0.0   \n",
       "...               ...             ...      ...            ...   ...   \n",
       "2018-06-02 2018-06-02         79.4696    21.84        10000.0   0.0   \n",
       "2018-06-03 2018-06-03         80.0721    21.59         9240.0   0.0   \n",
       "2018-06-04 2018-06-04         80.4046    21.50         8970.0   0.0   \n",
       "2018-06-05 2018-06-05         80.6565    21.45         8800.0   0.0   \n",
       "2018-06-06 2018-06-06         80.8423    21.42         8710.0   0.0   \n",
       "\n",
       "             temp_avg  temp_max  temp_min      hPa_avg    hum_avg  hum_max  \\\n",
       "date                                                                         \n",
       "2006-02-07  35.722500     46.31     28.26  1028.625000  76.375000     93.0   \n",
       "2006-02-08  35.124167     42.46     28.72  1026.625000  84.416667    100.0   \n",
       "2006-02-09  32.172500     43.05     24.44  1035.041667  64.541667     98.0   \n",
       "2006-02-10  31.252083     42.04     24.33  1038.958333  56.250000     81.0   \n",
       "2006-02-11  30.429583     42.46     21.51  1037.583333  61.708333     84.0   \n",
       "...               ...       ...       ...          ...        ...      ...   \n",
       "2018-06-02  62.812083     77.25     46.35  1022.750000  48.333333     83.0   \n",
       "2018-06-03  69.826250     86.25     52.66  1013.875000  46.416667     79.0   \n",
       "2018-06-04  62.956250     71.67     56.35  1012.833333  41.666667     65.0   \n",
       "2018-06-05  60.617500     71.04     47.41  1013.958333  39.166667     68.0   \n",
       "2018-06-06  64.216250     78.35     47.19  1013.083333  39.000000     68.0   \n",
       "\n",
       "            hum_min   wind_avg  wind_max  wind_min  gust_avg  gust_max  \\\n",
       "date                                                                     \n",
       "2006-02-07     47.0   5.826667     10.29      3.36  0.000000      0.00   \n",
       "2006-02-08     69.0   6.366250     11.41      3.36  0.000000      0.00   \n",
       "2006-02-09     30.0   8.732917     13.87      5.82  0.717500     17.22   \n",
       "2006-02-10     27.0   9.655417     16.11      5.82  0.000000      0.00   \n",
       "2006-02-11     36.0   7.250417     10.29      3.36  0.000000      0.00   \n",
       "...             ...        ...       ...       ...       ...       ...   \n",
       "2018-06-02     24.0   6.976250     11.50      3.44  0.000000      0.00   \n",
       "2018-06-03     23.0  10.141667     21.92      3.44  3.165833     29.97   \n",
       "2018-06-04     18.0  14.850000     23.04      8.05  4.030417     28.77   \n",
       "2018-06-05     20.0  10.478333     17.27      4.70  2.880000     24.16   \n",
       "2018-06-06     19.0   5.888750      9.22      3.44  0.000000      0.00   \n",
       "\n",
       "            gust_min  \n",
       "date                  \n",
       "2006-02-07       0.0  \n",
       "2006-02-08       0.0  \n",
       "2006-02-09       0.0  \n",
       "2006-02-10       0.0  \n",
       "2006-02-11       0.0  \n",
       "...              ...  \n",
       "2018-06-02       0.0  \n",
       "2018-06-03       0.0  \n",
       "2018-06-04       0.0  \n",
       "2018-06-05       0.0  \n",
       "2018-06-06       0.0  \n",
       "\n",
       "[4503 rows x 18 columns]"
      ]
     },
     "execution_count": 3,
     "metadata": {},
     "output_type": "execute_result"
    }
   ],
   "source": [
    "df.index = df.date\n",
    "df"
   ]
  },
  {
   "cell_type": "code",
   "execution_count": 4,
   "id": "b8bd7cf4",
   "metadata": {},
   "outputs": [
    {
     "data": {
      "text/plain": [
       "DatetimeIndex(['2006-02-07', '2006-02-08', '2006-02-09', '2006-02-10',\n",
       "               '2006-02-11', '2006-02-12', '2006-02-13', '2006-02-14',\n",
       "               '2006-02-15', '2006-02-16',\n",
       "               ...\n",
       "               '2018-05-28', '2018-05-29', '2018-05-30', '2018-05-31',\n",
       "               '2018-06-01', '2018-06-02', '2018-06-03', '2018-06-04',\n",
       "               '2018-06-05', '2018-06-06'],\n",
       "              dtype='datetime64[ns]', name='date', length=4503, freq=None)"
      ]
     },
     "execution_count": 4,
     "metadata": {},
     "output_type": "execute_result"
    }
   ],
   "source": [
    "df.index"
   ]
  },
  {
   "cell_type": "code",
   "execution_count": 5,
   "id": "c9df68a7",
   "metadata": {},
   "outputs": [
    {
     "data": {
      "text/plain": [
       "<Axes: xlabel='date'>"
      ]
     },
     "execution_count": 5,
     "metadata": {},
     "output_type": "execute_result"
    },
    {
     "data": {
      "image/png": "[encoded data removed]",
      "text/plain": [
       "<Figure size 432x288 with 1 Axes>"
      ]
     },
     "metadata": {
      "needs_background": "light"
     },
     "output_type": "display_data"
    }
   ],
   "source": [
    "well = df.avg_well_depth\n",
    "well.plot()"
   ]
  },
  {
   "cell_type": "code",
   "execution_count": 6,
   "id": "f82803f2",
   "metadata": {},
   "outputs": [],
   "source": [
    "def df_to_X_y(df, window_size=5):\n",
    "    df_as_np = df.to_numpy()\n",
    "    X = []\n",
    "    y = []\n",
    "    for i in range(len(df_as_np)-window_size):\n",
    "        row = [[a] for a in df_as_np[i:i+window_size]]\n",
    "        X.append(row)\n",
    "        label = df_as_np[i+window_size]\n",
    "        y.append(label)\n",
    "    return np.array(X), np.array(y)"
   ]
  },
  {
   "cell_type": "code",
   "execution_count": 7,
   "id": "8586027c",
   "metadata": {},
   "outputs": [
    {
     "data": {
      "text/plain": [
       "((4498, 5, 1), (4498,))"
      ]
     },
     "execution_count": 7,
     "metadata": {},
     "output_type": "execute_result"
    }
   ],
   "source": [
    "WINDOW_SIZE = 5\n",
    "X, y = df_to_X_y(well, WINDOW_SIZE)\n",
    "X.shape, y.shape"
   ]
  },
  {
   "cell_type": "markdown",
   "id": "0a89b151",
   "metadata": {},
   "source": [
    "### Train Test Split"
   ]
  },
  {
   "cell_type": "code",
   "execution_count": 8,
   "id": "b95c58bf",
   "metadata": {},
   "outputs": [
    {
     "data": {
      "text/plain": [
       "((3498, 5, 1), (3498,), (500, 5, 1), (500,), (500, 5, 1), (500,))"
      ]
     },
     "execution_count": 8,
     "metadata": {},
     "output_type": "execute_result"
    }
   ],
   "source": [
    "X_train, y_train = X[:3498], y[:3498]\n",
    "X_val, y_val = X[3498:3998], y[3498:3998]\n",
    "X_test, y_test = X[3998:], y[3998:]\n",
    "X_train.shape, y_train.shape, X_val.shape, y_val.shape, X_test.shape, y_test.shape"
   ]
  },
  {
   "cell_type": "code",
   "execution_count": 9,
   "id": "fd200b6a",
   "metadata": {},
   "outputs": [
    {
     "data": {
      "text/plain": [
       "(array([[[91.01  ],\n",
       "         [91.0429],\n",
       "         [91.1096],\n",
       "         [91.1954],\n",
       "         [91.3012]],\n",
       " \n",
       "        [[91.0429],\n",
       "         [91.1096],\n",
       "         [91.1954],\n",
       "         [91.3012],\n",
       "         [91.4004]],\n",
       " \n",
       "        [[91.1096],\n",
       "         [91.1954],\n",
       "         [91.3012],\n",
       "         [91.4004],\n",
       "         [91.5129]],\n",
       " \n",
       "        ...,\n",
       " \n",
       "        [[95.4479],\n",
       "         [95.4433],\n",
       "         [95.4413],\n",
       "         [95.4196],\n",
       "         [95.4054]],\n",
       " \n",
       "        [[95.4433],\n",
       "         [95.4413],\n",
       "         [95.4196],\n",
       "         [95.4054],\n",
       "         [95.3908]],\n",
       " \n",
       "        [[95.4413],\n",
       "         [95.4196],\n",
       "         [95.4054],\n",
       "         [95.3908],\n",
       "         [95.3604]]]),\n",
       " array([91.4004, 91.5129, 91.6071, ..., 95.3908, 95.3604, 95.3237]))"
      ]
     },
     "execution_count": 9,
     "metadata": {},
     "output_type": "execute_result"
    }
   ],
   "source": [
    "X_train, y_train"
   ]
  },
  {
   "cell_type": "markdown",
   "id": "cdbb1082",
   "metadata": {},
   "source": [
    "### Tensorflow things"
   ]
  },
  {
   "cell_type": "code",
   "execution_count": 10,
   "id": "2dcb64f0",
   "metadata": {},
   "outputs": [],
   "source": [
    "from tensorflow.keras.models import Sequential\n",
    "from tensorflow.keras.layers import *\n",
    "from tensorflow.keras.callbacks import ModelCheckpoint\n",
    "from tensorflow.keras.losses import MeanSquaredError\n",
    "from tensorflow.keras.metrics import RootMeanSquaredError\n",
    "from tensorflow.keras.optimizers import Adam\n",
    "\n",
    "from tensorflow.keras.models import load_model"
   ]
  },
  {
   "cell_type": "markdown",
   "id": "bed17834",
   "metadata": {},
   "source": [
    "## Build LSTM single variable model"
   ]
  },
  {
   "cell_type": "code",
   "execution_count": 11,
   "id": "0cb5d365",
   "metadata": {},
   "outputs": [
    {
     "name": "stderr",
     "output_type": "stream",
     "text": [
      "2023-11-08 13:27:30.387895: I tensorflow/compiler/xla/stream_executor/cuda/cuda_gpu_executor.cc:894] successful NUMA node read from SysFS had negative value (-1), but there must be at least one NUMA node, so returning NUMA node zero. See more at https://github.com/torvalds/linux/blob/v6.0/Documentation/ABI/testing/sysfs-bus-pci#L344-L355\n",
      "2023-11-08 13:27:30.390436: W tensorflow/core/common_runtime/gpu/gpu_device.cc:2211] Cannot dlopen some GPU libraries. Please make sure the missing libraries mentioned above are installed properly if you would like to use GPU. Follow the guide at https://www.tensorflow.org/install/gpu for how to download and setup the required libraries for your platform.\n",
      "Skipping registering GPU devices...\n"
     ]
    },
    {
     "name": "stdout",
     "output_type": "stream",
     "text": [
      "Model: \"sequential\"\n",
      "_________________________________________________________________\n",
      " Layer (type)                Output Shape              Param #   \n",
      "=================================================================\n",
      " lstm (LSTM)                 (None, 64)                16896     \n",
      "                                                                 \n",
      " dense (Dense)               (None, 8)                 520       \n",
      "                                                                 \n",
      " dense_1 (Dense)             (None, 1)                 9         \n",
      "                                                                 \n",
      "=================================================================\n",
      "Total params: 17425 (68.07 KB)\n",
      "Trainable params: 17425 (68.07 KB)\n",
      "Non-trainable params: 0 (0.00 Byte)\n",
      "_________________________________________________________________\n"
     ]
    }
   ],
   "source": [
    "model1 = Sequential()\n",
    "model1.add(InputLayer((5,1)))\n",
    "model1.add(LSTM(64))\n",
    "model1.add(Dense(8, 'relu'))\n",
    "model1.add(Dense(1, 'linear'))\n",
    "\n",
    "model1.summary()"
   ]
  },
  {
   "cell_type": "code",
   "execution_count": 12,
   "id": "1658d04a",
   "metadata": {},
   "outputs": [],
   "source": [
    "cp = ModelCheckpoint('meremodel1/', save_best_only=True)\n",
    "# the above makes a folder that our gitignore should exclude\n",
    "\n",
    "model1.compile(loss=MeanSquaredError(), optimizer=Adam(learning_rate=0.001), metrics=[RootMeanSquaredError()])"
   ]
  },
  {
   "cell_type": "code",
   "execution_count": 13,
   "id": "30209113",
   "metadata": {},
   "outputs": [
    {
     "name": "stdout",
     "output_type": "stream",
     "text": [
      "Epoch 1/50\n",
      " 97/110 [=========================>....] - ETA: 0s - loss: 7367.6738 - root_mean_squared_error: 85.8352INFO:tensorflow:Assets written to: meremodel1/assets\n"
     ]
    },
    {
     "name": "stderr",
     "output_type": "stream",
     "text": [
      "INFO:tensorflow:Assets written to: meremodel1/assets\n"
     ]
    },
    {
     "name": "stdout",
     "output_type": "stream",
     "text": [
      "110/110 [==============================] - 4s 23ms/step - loss: 7214.2896 - root_mean_squared_error: 84.9370 - val_loss: 5794.7920 - val_root_mean_squared_error: 76.1235\n",
      "Epoch 2/50\n",
      "100/110 [==========================>...] - ETA: 0s - loss: 4472.8755 - root_mean_squared_error: 66.8796INFO:tensorflow:Assets written to: meremodel1/assets\n"
     ]
    },
    {
     "name": "stderr",
     "output_type": "stream",
     "text": [
      "INFO:tensorflow:Assets written to: meremodel1/assets\n"
     ]
    },
    {
     "name": "stdout",
     "output_type": "stream",
     "text": [
      "110/110 [==============================] - 2s 18ms/step - loss: 4374.0522 - root_mean_squared_error: 66.1366 - val_loss: 3253.6709 - val_root_mean_squared_error: 57.0410\n",
      "Epoch 3/50\n",
      "100/110 [==========================>...] - ETA: 0s - loss: 2414.4004 - root_mean_squared_error: 49.1365INFO:tensorflow:Assets written to: meremodel1/assets\n"
     ]
    },
    {
     "name": "stderr",
     "output_type": "stream",
     "text": [
      "INFO:tensorflow:Assets written to: meremodel1/assets\n"
     ]
    },
    {
     "name": "stdout",
     "output_type": "stream",
     "text": [
      "110/110 [==============================] - 2s 19ms/step - loss: 2346.5864 - root_mean_squared_error: 48.4416 - val_loss: 1561.4913 - val_root_mean_squared_error: 39.5157\n",
      "Epoch 4/50\n",
      "100/110 [==========================>...] - ETA: 0s - loss: 1022.6260 - root_mean_squared_error: 31.9785INFO:tensorflow:Assets written to: meremodel1/assets\n"
     ]
    },
    {
     "name": "stderr",
     "output_type": "stream",
     "text": [
      "INFO:tensorflow:Assets written to: meremodel1/assets\n"
     ]
    },
    {
     "name": "stdout",
     "output_type": "stream",
     "text": [
      "110/110 [==============================] - 2s 18ms/step - loss: 985.0059 - root_mean_squared_error: 31.3848 - val_loss: 554.4768 - val_root_mean_squared_error: 23.5473\n",
      "Epoch 5/50\n",
      " 95/110 [========================>.....] - ETA: 0s - loss: 331.7774 - root_mean_squared_error: 18.2148INFO:tensorflow:Assets written to: meremodel1/assets\n"
     ]
    },
    {
     "name": "stderr",
     "output_type": "stream",
     "text": [
      "INFO:tensorflow:Assets written to: meremodel1/assets\n"
     ]
    },
    {
     "name": "stdout",
     "output_type": "stream",
     "text": [
      "110/110 [==============================] - 2s 18ms/step - loss: 309.6896 - root_mean_squared_error: 17.5980 - val_loss: 147.2255 - val_root_mean_squared_error: 12.1337\n",
      "Epoch 6/50\n",
      " 94/110 [========================>.....] - ETA: 0s - loss: 82.9076 - root_mean_squared_error: 9.1054INFO:tensorflow:Assets written to: meremodel1/assets\n"
     ]
    },
    {
     "name": "stderr",
     "output_type": "stream",
     "text": [
      "INFO:tensorflow:Assets written to: meremodel1/assets\n"
     ]
    },
    {
     "name": "stdout",
     "output_type": "stream",
     "text": [
      "110/110 [==============================] - 2s 20ms/step - loss: 76.4180 - root_mean_squared_error: 8.7417 - val_loss: 33.5141 - val_root_mean_squared_error: 5.7891\n",
      "Epoch 7/50\n",
      "100/110 [==========================>...] - ETA: 0s - loss: 22.7200 - root_mean_squared_error: 4.7666INFO:tensorflow:Assets written to: meremodel1/assets\n"
     ]
    },
    {
     "name": "stderr",
     "output_type": "stream",
     "text": [
      "INFO:tensorflow:Assets written to: meremodel1/assets\n"
     ]
    },
    {
     "name": "stdout",
     "output_type": "stream",
     "text": [
      "110/110 [==============================] - 2s 17ms/step - loss: 21.9599 - root_mean_squared_error: 4.6861 - val_loss: 11.7635 - val_root_mean_squared_error: 3.4298\n",
      "Epoch 8/50\n",
      " 96/110 [=========================>....] - ETA: 0s - loss: 13.3778 - root_mean_squared_error: 3.6576INFO:tensorflow:Assets written to: meremodel1/assets\n"
     ]
    },
    {
     "name": "stderr",
     "output_type": "stream",
     "text": [
      "INFO:tensorflow:Assets written to: meremodel1/assets\n"
     ]
    },
    {
     "name": "stdout",
     "output_type": "stream",
     "text": [
      "110/110 [==============================] - 2s 19ms/step - loss: 13.1764 - root_mean_squared_error: 3.6299 - val_loss: 8.4140 - val_root_mean_squared_error: 2.9007\n",
      "Epoch 9/50\n",
      " 98/110 [=========================>....] - ETA: 0s - loss: 12.1192 - root_mean_squared_error: 3.4813INFO:tensorflow:Assets written to: meremodel1/assets\n"
     ]
    },
    {
     "name": "stderr",
     "output_type": "stream",
     "text": [
      "INFO:tensorflow:Assets written to: meremodel1/assets\n"
     ]
    },
    {
     "name": "stdout",
     "output_type": "stream",
     "text": [
      "110/110 [==============================] - 2s 18ms/step - loss: 12.1859 - root_mean_squared_error: 3.4908 - val_loss: 7.9590 - val_root_mean_squared_error: 2.8212\n",
      "Epoch 10/50\n",
      " 98/110 [=========================>....] - ETA: 0s - loss: 11.7057 - root_mean_squared_error: 3.4214INFO:tensorflow:Assets written to: meremodel1/assets\n"
     ]
    },
    {
     "name": "stderr",
     "output_type": "stream",
     "text": [
      "INFO:tensorflow:Assets written to: meremodel1/assets\n"
     ]
    },
    {
     "name": "stdout",
     "output_type": "stream",
     "text": [
      "110/110 [==============================] - 2s 18ms/step - loss: 11.5550 - root_mean_squared_error: 3.3993 - val_loss: 7.3662 - val_root_mean_squared_error: 2.7141\n",
      "Epoch 11/50\n",
      " 99/110 [==========================>...] - ETA: 0s - loss: 9.7888 - root_mean_squared_error: 3.1287INFO:tensorflow:Assets written to: meremodel1/assets\n"
     ]
    },
    {
     "name": "stderr",
     "output_type": "stream",
     "text": [
      "INFO:tensorflow:Assets written to: meremodel1/assets\n"
     ]
    },
    {
     "name": "stdout",
     "output_type": "stream",
     "text": [
      "110/110 [==============================] - 2s 19ms/step - loss: 9.7364 - root_mean_squared_error: 3.1203 - val_loss: 6.1942 - val_root_mean_squared_error: 2.4888\n",
      "Epoch 12/50\n",
      "110/110 [==============================] - 0s 2ms/step - loss: 8.0175 - root_mean_squared_error: 2.8315 - val_loss: 6.3710 - val_root_mean_squared_error: 2.5241\n",
      "Epoch 13/50\n",
      " 99/110 [==========================>...] - ETA: 0s - loss: 6.5684 - root_mean_squared_error: 2.5629INFO:tensorflow:Assets written to: meremodel1/assets\n"
     ]
    },
    {
     "name": "stderr",
     "output_type": "stream",
     "text": [
      "INFO:tensorflow:Assets written to: meremodel1/assets\n"
     ]
    },
    {
     "name": "stdout",
     "output_type": "stream",
     "text": [
      "110/110 [==============================] - 2s 18ms/step - loss: 6.4737 - root_mean_squared_error: 2.5443 - val_loss: 4.5520 - val_root_mean_squared_error: 2.1335\n",
      "Epoch 14/50\n",
      "100/110 [==========================>...] - ETA: 0s - loss: 4.6701 - root_mean_squared_error: 2.1610INFO:tensorflow:Assets written to: meremodel1/assets\n"
     ]
    },
    {
     "name": "stderr",
     "output_type": "stream",
     "text": [
      "INFO:tensorflow:Assets written to: meremodel1/assets\n"
     ]
    },
    {
     "name": "stdout",
     "output_type": "stream",
     "text": [
      "110/110 [==============================] - 2s 19ms/step - loss: 4.6048 - root_mean_squared_error: 2.1459 - val_loss: 2.9168 - val_root_mean_squared_error: 1.7079\n",
      "Epoch 15/50\n",
      "100/110 [==========================>...] - ETA: 0s - loss: 2.8115 - root_mean_squared_error: 1.6768INFO:tensorflow:Assets written to: meremodel1/assets\n"
     ]
    },
    {
     "name": "stderr",
     "output_type": "stream",
     "text": [
      "INFO:tensorflow:Assets written to: meremodel1/assets\n"
     ]
    },
    {
     "name": "stdout",
     "output_type": "stream",
     "text": [
      "110/110 [==============================] - 2s 18ms/step - loss: 2.7610 - root_mean_squared_error: 1.6616 - val_loss: 1.7887 - val_root_mean_squared_error: 1.3374\n",
      "Epoch 16/50\n",
      "100/110 [==========================>...] - ETA: 0s - loss: 1.2204 - root_mean_squared_error: 1.1047INFO:tensorflow:Assets written to: meremodel1/assets\n"
     ]
    },
    {
     "name": "stderr",
     "output_type": "stream",
     "text": [
      "INFO:tensorflow:Assets written to: meremodel1/assets\n"
     ]
    },
    {
     "name": "stdout",
     "output_type": "stream",
     "text": [
      "110/110 [==============================] - 2s 17ms/step - loss: 1.1797 - root_mean_squared_error: 1.0862 - val_loss: 0.6450 - val_root_mean_squared_error: 0.8031\n",
      "Epoch 17/50\n",
      "101/110 [==========================>...] - ETA: 0s - loss: 0.5211 - root_mean_squared_error: 0.7218INFO:tensorflow:Assets written to: meremodel1/assets\n"
     ]
    },
    {
     "name": "stderr",
     "output_type": "stream",
     "text": [
      "INFO:tensorflow:Assets written to: meremodel1/assets\n"
     ]
    },
    {
     "name": "stdout",
     "output_type": "stream",
     "text": [
      "110/110 [==============================] - 2s 20ms/step - loss: 0.5090 - root_mean_squared_error: 0.7134 - val_loss: 0.3455 - val_root_mean_squared_error: 0.5878\n",
      "Epoch 18/50\n",
      " 97/110 [=========================>....] - ETA: 0s - loss: 0.3258 - root_mean_squared_error: 0.5708INFO:tensorflow:Assets written to: meremodel1/assets\n"
     ]
    },
    {
     "name": "stderr",
     "output_type": "stream",
     "text": [
      "INFO:tensorflow:Assets written to: meremodel1/assets\n"
     ]
    },
    {
     "name": "stdout",
     "output_type": "stream",
     "text": [
      "110/110 [==============================] - 2s 18ms/step - loss: 0.3241 - root_mean_squared_error: 0.5693 - val_loss: 0.2255 - val_root_mean_squared_error: 0.4748\n",
      "Epoch 19/50\n",
      " 96/110 [=========================>....] - ETA: 0s - loss: 0.2385 - root_mean_squared_error: 0.4883INFO:tensorflow:Assets written to: meremodel1/assets\n"
     ]
    },
    {
     "name": "stderr",
     "output_type": "stream",
     "text": [
      "INFO:tensorflow:Assets written to: meremodel1/assets\n"
     ]
    },
    {
     "name": "stdout",
     "output_type": "stream",
     "text": [
      "110/110 [==============================] - 2s 17ms/step - loss: 0.2350 - root_mean_squared_error: 0.4848 - val_loss: 0.1708 - val_root_mean_squared_error: 0.4133\n",
      "Epoch 20/50\n",
      "100/110 [==========================>...] - ETA: 0s - loss: 0.1851 - root_mean_squared_error: 0.4303INFO:tensorflow:Assets written to: meremodel1/assets\n"
     ]
    },
    {
     "name": "stderr",
     "output_type": "stream",
     "text": [
      "INFO:tensorflow:Assets written to: meremodel1/assets\n"
     ]
    },
    {
     "name": "stdout",
     "output_type": "stream",
     "text": [
      "110/110 [==============================] - 2s 19ms/step - loss: 0.1857 - root_mean_squared_error: 0.4309 - val_loss: 0.1359 - val_root_mean_squared_error: 0.3686\n",
      "Epoch 21/50\n",
      "101/110 [==========================>...] - ETA: 0s - loss: 0.1527 - root_mean_squared_error: 0.3907INFO:tensorflow:Assets written to: meremodel1/assets\n"
     ]
    },
    {
     "name": "stderr",
     "output_type": "stream",
     "text": [
      "INFO:tensorflow:Assets written to: meremodel1/assets\n"
     ]
    },
    {
     "name": "stdout",
     "output_type": "stream",
     "text": [
      "110/110 [==============================] - 2s 17ms/step - loss: 0.1506 - root_mean_squared_error: 0.3880 - val_loss: 0.1250 - val_root_mean_squared_error: 0.3536\n",
      "Epoch 22/50\n",
      "101/110 [==========================>...] - ETA: 0s - loss: 0.1304 - root_mean_squared_error: 0.3611INFO:tensorflow:Assets written to: meremodel1/assets\n"
     ]
    },
    {
     "name": "stderr",
     "output_type": "stream",
     "text": [
      "INFO:tensorflow:Assets written to: meremodel1/assets\n"
     ]
    },
    {
     "name": "stdout",
     "output_type": "stream",
     "text": [
      "110/110 [==============================] - 2s 19ms/step - loss: 0.1302 - root_mean_squared_error: 0.3608 - val_loss: 0.1133 - val_root_mean_squared_error: 0.3367\n",
      "Epoch 23/50\n",
      "110/110 [==============================] - 0s 2ms/step - loss: 0.1229 - root_mean_squared_error: 0.3506 - val_loss: 0.1370 - val_root_mean_squared_error: 0.3701\n",
      "Epoch 24/50\n",
      "100/110 [==========================>...] - ETA: 0s - loss: 0.1094 - root_mean_squared_error: 0.3308INFO:tensorflow:Assets written to: meremodel1/assets\n"
     ]
    },
    {
     "name": "stderr",
     "output_type": "stream",
     "text": [
      "INFO:tensorflow:Assets written to: meremodel1/assets\n"
     ]
    },
    {
     "name": "stdout",
     "output_type": "stream",
     "text": [
      "110/110 [==============================] - 2s 17ms/step - loss: 0.1084 - root_mean_squared_error: 0.3292 - val_loss: 0.0771 - val_root_mean_squared_error: 0.2776\n",
      "Epoch 25/50\n",
      " 93/110 [========================>.....] - ETA: 0s - loss: 0.0849 - root_mean_squared_error: 0.2914INFO:tensorflow:Assets written to: meremodel1/assets\n"
     ]
    },
    {
     "name": "stderr",
     "output_type": "stream",
     "text": [
      "INFO:tensorflow:Assets written to: meremodel1/assets\n"
     ]
    },
    {
     "name": "stdout",
     "output_type": "stream",
     "text": [
      "110/110 [==============================] - 2s 18ms/step - loss: 0.0855 - root_mean_squared_error: 0.2925 - val_loss: 0.0662 - val_root_mean_squared_error: 0.2574\n",
      "Epoch 26/50\n",
      "110/110 [==============================] - 0s 2ms/step - loss: 0.0835 - root_mean_squared_error: 0.2890 - val_loss: 0.0736 - val_root_mean_squared_error: 0.2713\n",
      "Epoch 27/50\n",
      "110/110 [==============================] - 0s 2ms/step - loss: 0.0719 - root_mean_squared_error: 0.2681 - val_loss: 0.0739 - val_root_mean_squared_error: 0.2719\n",
      "Epoch 28/50\n",
      "110/110 [==============================] - 0s 2ms/step - loss: 0.0660 - root_mean_squared_error: 0.2569 - val_loss: 0.0972 - val_root_mean_squared_error: 0.3118\n",
      "Epoch 29/50\n",
      "101/110 [==========================>...] - ETA: 0s - loss: 0.0575 - root_mean_squared_error: 0.2398INFO:tensorflow:Assets written to: meremodel1/assets\n"
     ]
    },
    {
     "name": "stderr",
     "output_type": "stream",
     "text": [
      "INFO:tensorflow:Assets written to: meremodel1/assets\n"
     ]
    },
    {
     "name": "stdout",
     "output_type": "stream",
     "text": [
      "110/110 [==============================] - 2s 19ms/step - loss: 0.0583 - root_mean_squared_error: 0.2414 - val_loss: 0.0563 - val_root_mean_squared_error: 0.2372\n",
      "Epoch 30/50\n",
      "101/110 [==========================>...] - ETA: 0s - loss: 0.0544 - root_mean_squared_error: 0.2333INFO:tensorflow:Assets written to: meremodel1/assets\n"
     ]
    },
    {
     "name": "stderr",
     "output_type": "stream",
     "text": [
      "INFO:tensorflow:Assets written to: meremodel1/assets\n"
     ]
    },
    {
     "name": "stdout",
     "output_type": "stream",
     "text": [
      "110/110 [==============================] - 2s 17ms/step - loss: 0.0531 - root_mean_squared_error: 0.2304 - val_loss: 0.0433 - val_root_mean_squared_error: 0.2081\n",
      "Epoch 31/50\n",
      "101/110 [==========================>...] - ETA: 0s - loss: 0.0444 - root_mean_squared_error: 0.2106INFO:tensorflow:Assets written to: meremodel1/assets\n"
     ]
    },
    {
     "name": "stderr",
     "output_type": "stream",
     "text": [
      "INFO:tensorflow:Assets written to: meremodel1/assets\n"
     ]
    },
    {
     "name": "stdout",
     "output_type": "stream",
     "text": [
      "110/110 [==============================] - 2s 19ms/step - loss: 0.0439 - root_mean_squared_error: 0.2095 - val_loss: 0.0393 - val_root_mean_squared_error: 0.1983\n",
      "Epoch 32/50\n",
      "101/110 [==========================>...] - ETA: 0s - loss: 0.0475 - root_mean_squared_error: 0.2178INFO:tensorflow:Assets written to: meremodel1/assets\n"
     ]
    },
    {
     "name": "stderr",
     "output_type": "stream",
     "text": [
      "INFO:tensorflow:Assets written to: meremodel1/assets\n"
     ]
    },
    {
     "name": "stdout",
     "output_type": "stream",
     "text": [
      "110/110 [==============================] - 2s 17ms/step - loss: 0.0465 - root_mean_squared_error: 0.2155 - val_loss: 0.0352 - val_root_mean_squared_error: 0.1875\n",
      "Epoch 33/50\n",
      "110/110 [==============================] - 0s 2ms/step - loss: 0.0436 - root_mean_squared_error: 0.2087 - val_loss: 0.0446 - val_root_mean_squared_error: 0.2111\n",
      "Epoch 34/50\n",
      "110/110 [==============================] - 0s 2ms/step - loss: 0.0412 - root_mean_squared_error: 0.2030 - val_loss: 0.0409 - val_root_mean_squared_error: 0.2021\n",
      "Epoch 35/50\n",
      "110/110 [==============================] - 0s 2ms/step - loss: 0.0422 - root_mean_squared_error: 0.2055 - val_loss: 0.0538 - val_root_mean_squared_error: 0.2319\n",
      "Epoch 36/50\n",
      "110/110 [==============================] - 0s 2ms/step - loss: 0.0397 - root_mean_squared_error: 0.1994 - val_loss: 0.0415 - val_root_mean_squared_error: 0.2037\n",
      "Epoch 37/50\n",
      "101/110 [==========================>...] - ETA: 0s - loss: 0.0342 - root_mean_squared_error: 0.1849INFO:tensorflow:Assets written to: meremodel1/assets\n"
     ]
    },
    {
     "name": "stderr",
     "output_type": "stream",
     "text": [
      "INFO:tensorflow:Assets written to: meremodel1/assets\n"
     ]
    },
    {
     "name": "stdout",
     "output_type": "stream",
     "text": [
      "110/110 [==============================] - 2s 17ms/step - loss: 0.0344 - root_mean_squared_error: 0.1854 - val_loss: 0.0290 - val_root_mean_squared_error: 0.1704\n",
      "Epoch 38/50\n",
      "110/110 [==============================] - 0s 2ms/step - loss: 0.0331 - root_mean_squared_error: 0.1820 - val_loss: 0.0461 - val_root_mean_squared_error: 0.2148\n",
      "Epoch 39/50\n",
      "110/110 [==============================] - 0s 2ms/step - loss: 0.0355 - root_mean_squared_error: 0.1883 - val_loss: 0.0378 - val_root_mean_squared_error: 0.1943\n",
      "Epoch 40/50\n",
      "100/110 [==========================>...] - ETA: 0s - loss: 0.0406 - root_mean_squared_error: 0.2015INFO:tensorflow:Assets written to: meremodel1/assets\n"
     ]
    },
    {
     "name": "stderr",
     "output_type": "stream",
     "text": [
      "INFO:tensorflow:Assets written to: meremodel1/assets\n"
     ]
    },
    {
     "name": "stdout",
     "output_type": "stream",
     "text": [
      "110/110 [==============================] - 2s 19ms/step - loss: 0.0399 - root_mean_squared_error: 0.1998 - val_loss: 0.0243 - val_root_mean_squared_error: 0.1560\n",
      "Epoch 41/50\n",
      "110/110 [==============================] - 0s 2ms/step - loss: 0.0314 - root_mean_squared_error: 0.1773 - val_loss: 0.0246 - val_root_mean_squared_error: 0.1568\n",
      "Epoch 42/50\n",
      "102/110 [==========================>...] - ETA: 0s - loss: 0.0341 - root_mean_squared_error: 0.1846INFO:tensorflow:Assets written to: meremodel1/assets\n"
     ]
    },
    {
     "name": "stderr",
     "output_type": "stream",
     "text": [
      "INFO:tensorflow:Assets written to: meremodel1/assets\n"
     ]
    },
    {
     "name": "stdout",
     "output_type": "stream",
     "text": [
      "110/110 [==============================] - 2s 17ms/step - loss: 0.0338 - root_mean_squared_error: 0.1837 - val_loss: 0.0231 - val_root_mean_squared_error: 0.1521\n",
      "Epoch 43/50\n",
      "110/110 [==============================] - 0s 2ms/step - loss: 0.0288 - root_mean_squared_error: 0.1696 - val_loss: 0.0310 - val_root_mean_squared_error: 0.1760\n",
      "Epoch 44/50\n",
      "110/110 [==============================] - 0s 2ms/step - loss: 0.0286 - root_mean_squared_error: 0.1692 - val_loss: 0.0698 - val_root_mean_squared_error: 0.2642\n",
      "Epoch 45/50\n",
      "100/110 [==========================>...] - ETA: 0s - loss: 0.0285 - root_mean_squared_error: 0.1687INFO:tensorflow:Assets written to: meremodel1/assets\n"
     ]
    },
    {
     "name": "stderr",
     "output_type": "stream",
     "text": [
      "INFO:tensorflow:Assets written to: meremodel1/assets\n"
     ]
    },
    {
     "name": "stdout",
     "output_type": "stream",
     "text": [
      "110/110 [==============================] - 2s 17ms/step - loss: 0.0284 - root_mean_squared_error: 0.1684 - val_loss: 0.0222 - val_root_mean_squared_error: 0.1488\n",
      "Epoch 46/50\n",
      "102/110 [==========================>...] - ETA: 0s - loss: 0.0265 - root_mean_squared_error: 0.1626INFO:tensorflow:Assets written to: meremodel1/assets\n"
     ]
    },
    {
     "name": "stderr",
     "output_type": "stream",
     "text": [
      "INFO:tensorflow:Assets written to: meremodel1/assets\n"
     ]
    },
    {
     "name": "stdout",
     "output_type": "stream",
     "text": [
      "110/110 [==============================] - 2s 19ms/step - loss: 0.0265 - root_mean_squared_error: 0.1627 - val_loss: 0.0203 - val_root_mean_squared_error: 0.1426\n",
      "Epoch 47/50\n",
      "100/110 [==========================>...] - ETA: 0s - loss: 0.0264 - root_mean_squared_error: 0.1626INFO:tensorflow:Assets written to: meremodel1/assets\n"
     ]
    },
    {
     "name": "stderr",
     "output_type": "stream",
     "text": [
      "INFO:tensorflow:Assets written to: meremodel1/assets\n"
     ]
    },
    {
     "name": "stdout",
     "output_type": "stream",
     "text": [
      "110/110 [==============================] - 2s 17ms/step - loss: 0.0266 - root_mean_squared_error: 0.1631 - val_loss: 0.0194 - val_root_mean_squared_error: 0.1392\n",
      "Epoch 48/50\n",
      "110/110 [==============================] - 0s 2ms/step - loss: 0.0280 - root_mean_squared_error: 0.1673 - val_loss: 0.0227 - val_root_mean_squared_error: 0.1505\n",
      "Epoch 49/50\n",
      "110/110 [==============================] - 0s 2ms/step - loss: 0.0257 - root_mean_squared_error: 0.1603 - val_loss: 0.0458 - val_root_mean_squared_error: 0.2141\n",
      "Epoch 50/50\n",
      "110/110 [==============================] - 0s 2ms/step - loss: 0.0273 - root_mean_squared_error: 0.1653 - val_loss: 0.0542 - val_root_mean_squared_error: 0.2328\n"
     ]
    },
    {
     "data": {
      "text/plain": [
       "<keras.src.callbacks.History at 0x7f3d226abdc0>"
      ]
     },
     "execution_count": 13,
     "metadata": {},
     "output_type": "execute_result"
    }
   ],
   "source": [
    "model1.fit(X_train, y_train, validation_data=(X_val, y_val), epochs=50, callbacks=[cp])"
   ]
  },
  {
   "cell_type": "code",
   "execution_count": 14,
   "id": "cd0a0aa3",
   "metadata": {},
   "outputs": [],
   "source": [
    "model1 = load_model('meremodel1/')"
   ]
  },
  {
   "cell_type": "code",
   "execution_count": 15,
   "id": "588818f9",
   "metadata": {},
   "outputs": [
    {
     "name": "stdout",
     "output_type": "stream",
     "text": [
      "110/110 [==============================] - 0s 1ms/step\n"
     ]
    },
    {
     "data": {
      "text/html": [
       "<div>\n",
       "<style scoped>\n",
       "    .dataframe tbody tr th:only-of-type {\n",
       "        vertical-align: middle;\n",
       "    }\n",
       "\n",
       "    .dataframe tbody tr th {\n",
       "        vertical-align: top;\n",
       "    }\n",
       "\n",
       "    .dataframe thead th {\n",
       "        text-align: right;\n",
       "    }\n",
       "</style>\n",
       "<table border=\"1\" class=\"dataframe\">\n",
       "  <thead>\n",
       "    <tr style=\"text-align: right;\">\n",
       "      <th></th>\n",
       "      <th>Train_Predictions</th>\n",
       "      <th>Actuals</th>\n",
       "    </tr>\n",
       "  </thead>\n",
       "  <tbody>\n",
       "    <tr>\n",
       "      <th>0</th>\n",
       "      <td>91.251945</td>\n",
       "      <td>91.4004</td>\n",
       "    </tr>\n",
       "    <tr>\n",
       "      <th>1</th>\n",
       "      <td>91.358276</td>\n",
       "      <td>91.5129</td>\n",
       "    </tr>\n",
       "    <tr>\n",
       "      <th>2</th>\n",
       "      <td>91.469597</td>\n",
       "      <td>91.6071</td>\n",
       "    </tr>\n",
       "    <tr>\n",
       "      <th>3</th>\n",
       "      <td>91.574715</td>\n",
       "      <td>91.7167</td>\n",
       "    </tr>\n",
       "    <tr>\n",
       "      <th>4</th>\n",
       "      <td>91.681526</td>\n",
       "      <td>91.7925</td>\n",
       "    </tr>\n",
       "    <tr>\n",
       "      <th>...</th>\n",
       "      <td>...</td>\n",
       "      <td>...</td>\n",
       "    </tr>\n",
       "    <tr>\n",
       "      <th>3493</th>\n",
       "      <td>95.226547</td>\n",
       "      <td>95.4196</td>\n",
       "    </tr>\n",
       "    <tr>\n",
       "      <th>3494</th>\n",
       "      <td>95.215279</td>\n",
       "      <td>95.4054</td>\n",
       "    </tr>\n",
       "    <tr>\n",
       "      <th>3495</th>\n",
       "      <td>95.201813</td>\n",
       "      <td>95.3908</td>\n",
       "    </tr>\n",
       "    <tr>\n",
       "      <th>3496</th>\n",
       "      <td>95.190346</td>\n",
       "      <td>95.3604</td>\n",
       "    </tr>\n",
       "    <tr>\n",
       "      <th>3497</th>\n",
       "      <td>95.170921</td>\n",
       "      <td>95.3237</td>\n",
       "    </tr>\n",
       "  </tbody>\n",
       "</table>\n",
       "<p>3498 rows × 2 columns</p>\n",
       "</div>"
      ],
      "text/plain": [
       "      Train_Predictions  Actuals\n",
       "0             91.251945  91.4004\n",
       "1             91.358276  91.5129\n",
       "2             91.469597  91.6071\n",
       "3             91.574715  91.7167\n",
       "4             91.681526  91.7925\n",
       "...                 ...      ...\n",
       "3493          95.226547  95.4196\n",
       "3494          95.215279  95.4054\n",
       "3495          95.201813  95.3908\n",
       "3496          95.190346  95.3604\n",
       "3497          95.170921  95.3237\n",
       "\n",
       "[3498 rows x 2 columns]"
      ]
     },
     "execution_count": 15,
     "metadata": {},
     "output_type": "execute_result"
    }
   ],
   "source": [
    "train_predictions = model1.predict(X_train).flatten()\n",
    "train_results = pd.DataFrame(data={'Train_Predictions':train_predictions, 'Actuals':y_train})\n",
    "train_results"
   ]
  },
  {
   "cell_type": "code",
   "execution_count": 16,
   "id": "a67ae4c5",
   "metadata": {},
   "outputs": [
    {
     "data": {
      "text/plain": [
       "[<matplotlib.lines.Line2D at 0x7f3ccde0aec0>]"
      ]
     },
     "execution_count": 16,
     "metadata": {},
     "output_type": "execute_result"
    },
    {
     "data": {
      "image/png": "[encoded data removed]",
      "text/plain": [
       "<Figure size 432x288 with 1 Axes>"
      ]
     },
     "metadata": {
      "needs_background": "light"
     },
     "output_type": "display_data"
    }
   ],
   "source": [
    "# just the training\n",
    "plt.plot(train_results['Train_Predictions'][:200])\n",
    "plt.plot(train_results['Actuals'][:200])"
   ]
  },
  {
   "cell_type": "code",
   "execution_count": 17,
   "id": "fa87db88",
   "metadata": {},
   "outputs": [
    {
     "name": "stdout",
     "output_type": "stream",
     "text": [
      "16/16 [==============================] - 0s 1ms/step\n"
     ]
    },
    {
     "data": {
      "text/html": [
       "<div>\n",
       "<style scoped>\n",
       "    .dataframe tbody tr th:only-of-type {\n",
       "        vertical-align: middle;\n",
       "    }\n",
       "\n",
       "    .dataframe tbody tr th {\n",
       "        vertical-align: top;\n",
       "    }\n",
       "\n",
       "    .dataframe thead th {\n",
       "        text-align: right;\n",
       "    }\n",
       "</style>\n",
       "<table border=\"1\" class=\"dataframe\">\n",
       "  <thead>\n",
       "    <tr style=\"text-align: right;\">\n",
       "      <th></th>\n",
       "      <th>Val_Predictions</th>\n",
       "      <th>Actuals</th>\n",
       "    </tr>\n",
       "  </thead>\n",
       "  <tbody>\n",
       "    <tr>\n",
       "      <th>0</th>\n",
       "      <td>95.143547</td>\n",
       "      <td>95.3354</td>\n",
       "    </tr>\n",
       "    <tr>\n",
       "      <th>1</th>\n",
       "      <td>95.138222</td>\n",
       "      <td>95.3287</td>\n",
       "    </tr>\n",
       "    <tr>\n",
       "      <th>2</th>\n",
       "      <td>95.138405</td>\n",
       "      <td>95.3083</td>\n",
       "    </tr>\n",
       "    <tr>\n",
       "      <th>3</th>\n",
       "      <td>95.126251</td>\n",
       "      <td>95.3333</td>\n",
       "    </tr>\n",
       "    <tr>\n",
       "      <th>4</th>\n",
       "      <td>95.132484</td>\n",
       "      <td>95.3454</td>\n",
       "    </tr>\n",
       "    <tr>\n",
       "      <th>...</th>\n",
       "      <td>...</td>\n",
       "      <td>...</td>\n",
       "    </tr>\n",
       "    <tr>\n",
       "      <th>495</th>\n",
       "      <td>90.824471</td>\n",
       "      <td>91.0012</td>\n",
       "    </tr>\n",
       "    <tr>\n",
       "      <th>496</th>\n",
       "      <td>90.940849</td>\n",
       "      <td>91.1050</td>\n",
       "    </tr>\n",
       "    <tr>\n",
       "      <th>497</th>\n",
       "      <td>91.050491</td>\n",
       "      <td>91.2146</td>\n",
       "    </tr>\n",
       "    <tr>\n",
       "      <th>498</th>\n",
       "      <td>91.161636</td>\n",
       "      <td>91.3029</td>\n",
       "    </tr>\n",
       "    <tr>\n",
       "      <th>499</th>\n",
       "      <td>91.261436</td>\n",
       "      <td>91.3988</td>\n",
       "    </tr>\n",
       "  </tbody>\n",
       "</table>\n",
       "<p>500 rows × 2 columns</p>\n",
       "</div>"
      ],
      "text/plain": [
       "     Val_Predictions  Actuals\n",
       "0          95.143547  95.3354\n",
       "1          95.138222  95.3287\n",
       "2          95.138405  95.3083\n",
       "3          95.126251  95.3333\n",
       "4          95.132484  95.3454\n",
       "..               ...      ...\n",
       "495        90.824471  91.0012\n",
       "496        90.940849  91.1050\n",
       "497        91.050491  91.2146\n",
       "498        91.161636  91.3029\n",
       "499        91.261436  91.3988\n",
       "\n",
       "[500 rows x 2 columns]"
      ]
     },
     "metadata": {},
     "output_type": "display_data"
    },
    {
     "data": {
      "text/plain": [
       "[<matplotlib.lines.Line2D at 0x7f3d22600f70>]"
      ]
     },
     "execution_count": 17,
     "metadata": {},
     "output_type": "execute_result"
    },
    {
     "data": {
      "image/png": "[encoded data removed]",
      "text/plain": [
       "<Figure size 432x288 with 1 Axes>"
      ]
     },
     "metadata": {
      "needs_background": "light"
     },
     "output_type": "display_data"
    }
   ],
   "source": [
    "# how about validation\n",
    "val_predictions = model1.predict(X_val).flatten()\n",
    "val_results = pd.DataFrame(data={'Val_Predictions':val_predictions, 'Actuals':y_val})\n",
    "display(val_results)\n",
    "\n",
    "plt.plot(val_results['Val_Predictions'][:200])\n",
    "plt.plot(val_results['Actuals'][:200])"
   ]
  },
  {
   "cell_type": "code",
   "execution_count": 18,
   "id": "117eceb9",
   "metadata": {},
   "outputs": [
    {
     "data": {
      "text/plain": [
       "[<matplotlib.lines.Line2D at 0x7f3cb3aa2740>]"
      ]
     },
     "execution_count": 18,
     "metadata": {},
     "output_type": "execute_result"
    },
    {
     "data": {
      "image/png": "[encoded data removed]",
      "text/plain": [
       "<Figure size 432x288 with 1 Axes>"
      ]
     },
     "metadata": {
      "needs_background": "light"
     },
     "output_type": "display_data"
    }
   ],
   "source": [
    "plt.plot(val_results['Val_Predictions'])\n",
    "plt.plot(val_results['Actuals'])"
   ]
  },
  {
   "cell_type": "markdown",
   "id": "cb6082bf",
   "metadata": {},
   "source": [
    "### Results of single variable model"
   ]
  },
  {
   "cell_type": "code",
   "execution_count": 19,
   "id": "299b96a0",
   "metadata": {},
   "outputs": [
    {
     "name": "stdout",
     "output_type": "stream",
     "text": [
      "16/16 [==============================] - 0s 1ms/step\n"
     ]
    },
    {
     "data": {
      "text/html": [
       "<div>\n",
       "<style scoped>\n",
       "    .dataframe tbody tr th:only-of-type {\n",
       "        vertical-align: middle;\n",
       "    }\n",
       "\n",
       "    .dataframe tbody tr th {\n",
       "        vertical-align: top;\n",
       "    }\n",
       "\n",
       "    .dataframe thead th {\n",
       "        text-align: right;\n",
       "    }\n",
       "</style>\n",
       "<table border=\"1\" class=\"dataframe\">\n",
       "  <thead>\n",
       "    <tr style=\"text-align: right;\">\n",
       "      <th></th>\n",
       "      <th>Test_Predictions</th>\n",
       "      <th>Actuals</th>\n",
       "    </tr>\n",
       "  </thead>\n",
       "  <tbody>\n",
       "    <tr>\n",
       "      <th>0</th>\n",
       "      <td>91.357109</td>\n",
       "      <td>91.4921</td>\n",
       "    </tr>\n",
       "    <tr>\n",
       "      <th>1</th>\n",
       "      <td>91.455177</td>\n",
       "      <td>91.5775</td>\n",
       "    </tr>\n",
       "    <tr>\n",
       "      <th>2</th>\n",
       "      <td>91.546608</td>\n",
       "      <td>91.6546</td>\n",
       "    </tr>\n",
       "    <tr>\n",
       "      <th>3</th>\n",
       "      <td>91.629387</td>\n",
       "      <td>91.7333</td>\n",
       "    </tr>\n",
       "    <tr>\n",
       "      <th>4</th>\n",
       "      <td>91.709946</td>\n",
       "      <td>91.7912</td>\n",
       "    </tr>\n",
       "    <tr>\n",
       "      <th>...</th>\n",
       "      <td>...</td>\n",
       "      <td>...</td>\n",
       "    </tr>\n",
       "    <tr>\n",
       "      <th>495</th>\n",
       "      <td>79.341209</td>\n",
       "      <td>79.4696</td>\n",
       "    </tr>\n",
       "    <tr>\n",
       "      <th>496</th>\n",
       "      <td>79.473595</td>\n",
       "      <td>80.0721</td>\n",
       "    </tr>\n",
       "    <tr>\n",
       "      <th>497</th>\n",
       "      <td>80.028641</td>\n",
       "      <td>80.4046</td>\n",
       "    </tr>\n",
       "    <tr>\n",
       "      <th>498</th>\n",
       "      <td>80.420288</td>\n",
       "      <td>80.6565</td>\n",
       "    </tr>\n",
       "    <tr>\n",
       "      <th>499</th>\n",
       "      <td>80.664558</td>\n",
       "      <td>80.8423</td>\n",
       "    </tr>\n",
       "  </tbody>\n",
       "</table>\n",
       "<p>500 rows × 2 columns</p>\n",
       "</div>"
      ],
      "text/plain": [
       "     Test_Predictions  Actuals\n",
       "0           91.357109  91.4921\n",
       "1           91.455177  91.5775\n",
       "2           91.546608  91.6546\n",
       "3           91.629387  91.7333\n",
       "4           91.709946  91.7912\n",
       "..                ...      ...\n",
       "495         79.341209  79.4696\n",
       "496         79.473595  80.0721\n",
       "497         80.028641  80.4046\n",
       "498         80.420288  80.6565\n",
       "499         80.664558  80.8423\n",
       "\n",
       "[500 rows x 2 columns]"
      ]
     },
     "metadata": {},
     "output_type": "display_data"
    },
    {
     "data": {
      "text/plain": [
       "[<matplotlib.lines.Line2D at 0x7f3d100b3d00>]"
      ]
     },
     "execution_count": 19,
     "metadata": {},
     "output_type": "execute_result"
    },
    {
     "data": {
      "image/png": "[encoded data removed]",
      "text/plain": [
       "<Figure size 432x288 with 1 Axes>"
      ]
     },
     "metadata": {
      "needs_background": "light"
     },
     "output_type": "display_data"
    }
   ],
   "source": [
    "# how about test\n",
    "test_predictions = model1.predict(X_test).flatten()\n",
    "test_results = pd.DataFrame(data={'Test_Predictions':test_predictions, 'Actuals':y_test})\n",
    "display(test_results)\n",
    "\n",
    "plt.plot(test_results['Test_Predictions'][:200])\n",
    "plt.plot(test_results['Actuals'][:200])"
   ]
  },
  {
   "cell_type": "code",
   "execution_count": 20,
   "id": "283f7ad6",
   "metadata": {},
   "outputs": [
    {
     "data": {
      "text/plain": [
       "[<matplotlib.lines.Line2D at 0x7f3d2265c970>]"
      ]
     },
     "execution_count": 20,
     "metadata": {},
     "output_type": "execute_result"
    },
    {
     "data": {
      "image/png": "[encoded data removed]",
      "text/plain": [
       "<Figure size 432x288 with 1 Axes>"
      ]
     },
     "metadata": {
      "needs_background": "light"
     },
     "output_type": "display_data"
    }
   ],
   "source": [
    "plt.plot(test_results['Test_Predictions'])\n",
    "plt.plot(test_results['Actuals'])"
   ]
  },
  {
   "cell_type": "markdown",
   "id": "c18cd27e",
   "metadata": {},
   "source": [
    "#### A prettier graph for single variable results:"
   ]
  },
  {
   "cell_type": "code",
   "execution_count": 21,
   "id": "2783b976",
   "metadata": {},
   "outputs": [
    {
     "data": {
      "text/html": [
       "<div>\n",
       "<style scoped>\n",
       "    .dataframe tbody tr th:only-of-type {\n",
       "        vertical-align: middle;\n",
       "    }\n",
       "\n",
       "    .dataframe tbody tr th {\n",
       "        vertical-align: top;\n",
       "    }\n",
       "\n",
       "    .dataframe thead th {\n",
       "        text-align: right;\n",
       "    }\n",
       "</style>\n",
       "<table border=\"1\" class=\"dataframe\">\n",
       "  <thead>\n",
       "    <tr style=\"text-align: right;\">\n",
       "      <th></th>\n",
       "      <th>Test_Predictions</th>\n",
       "      <th>Actuals</th>\n",
       "      <th>date</th>\n",
       "    </tr>\n",
       "  </thead>\n",
       "  <tbody>\n",
       "    <tr>\n",
       "      <th>0</th>\n",
       "      <td>91.357109</td>\n",
       "      <td>91.4921</td>\n",
       "      <td>2017-01-23</td>\n",
       "    </tr>\n",
       "    <tr>\n",
       "      <th>1</th>\n",
       "      <td>91.455177</td>\n",
       "      <td>91.5775</td>\n",
       "      <td>2017-01-24</td>\n",
       "    </tr>\n",
       "    <tr>\n",
       "      <th>2</th>\n",
       "      <td>91.546608</td>\n",
       "      <td>91.6546</td>\n",
       "      <td>2017-01-25</td>\n",
       "    </tr>\n",
       "    <tr>\n",
       "      <th>3</th>\n",
       "      <td>91.629387</td>\n",
       "      <td>91.7333</td>\n",
       "      <td>2017-01-26</td>\n",
       "    </tr>\n",
       "    <tr>\n",
       "      <th>4</th>\n",
       "      <td>91.709946</td>\n",
       "      <td>91.7912</td>\n",
       "      <td>2017-01-27</td>\n",
       "    </tr>\n",
       "    <tr>\n",
       "      <th>...</th>\n",
       "      <td>...</td>\n",
       "      <td>...</td>\n",
       "      <td>...</td>\n",
       "    </tr>\n",
       "    <tr>\n",
       "      <th>495</th>\n",
       "      <td>79.341209</td>\n",
       "      <td>79.4696</td>\n",
       "      <td>2018-06-02</td>\n",
       "    </tr>\n",
       "    <tr>\n",
       "      <th>496</th>\n",
       "      <td>79.473595</td>\n",
       "      <td>80.0721</td>\n",
       "      <td>2018-06-03</td>\n",
       "    </tr>\n",
       "    <tr>\n",
       "      <th>497</th>\n",
       "      <td>80.028641</td>\n",
       "      <td>80.4046</td>\n",
       "      <td>2018-06-04</td>\n",
       "    </tr>\n",
       "    <tr>\n",
       "      <th>498</th>\n",
       "      <td>80.420288</td>\n",
       "      <td>80.6565</td>\n",
       "      <td>2018-06-05</td>\n",
       "    </tr>\n",
       "    <tr>\n",
       "      <th>499</th>\n",
       "      <td>80.664558</td>\n",
       "      <td>80.8423</td>\n",
       "      <td>2018-06-06</td>\n",
       "    </tr>\n",
       "  </tbody>\n",
       "</table>\n",
       "<p>500 rows × 3 columns</p>\n",
       "</div>"
      ],
      "text/plain": [
       "     Test_Predictions  Actuals       date\n",
       "0           91.357109  91.4921 2017-01-23\n",
       "1           91.455177  91.5775 2017-01-24\n",
       "2           91.546608  91.6546 2017-01-25\n",
       "3           91.629387  91.7333 2017-01-26\n",
       "4           91.709946  91.7912 2017-01-27\n",
       "..                ...      ...        ...\n",
       "495         79.341209  79.4696 2018-06-02\n",
       "496         79.473595  80.0721 2018-06-03\n",
       "497         80.028641  80.4046 2018-06-04\n",
       "498         80.420288  80.6565 2018-06-05\n",
       "499         80.664558  80.8423 2018-06-06\n",
       "\n",
       "[500 rows x 3 columns]"
      ]
     },
     "execution_count": 21,
     "metadata": {},
     "output_type": "execute_result"
    }
   ],
   "source": [
    "test_results['date'] = date_rng = pd.date_range(start='2017-01-23', end='2018-06-06', freq='D')\n",
    "# last 500 days from the df\n",
    "test_results"
   ]
  },
  {
   "cell_type": "code",
   "execution_count": 22,
   "id": "88d33582",
   "metadata": {},
   "outputs": [
    {
     "data": {
      "image/png": "[encoded data removed]",
      "text/plain": [
       "<Figure size 2304x720 with 1 Axes>"
      ]
     },
     "metadata": {
      "needs_background": "light"
     },
     "output_type": "display_data"
    }
   ],
   "source": [
    "y = test_results.date.values\n",
    "X = test_results.Test_Predictions.values*-1\n",
    "X1 = test_results.Actuals.values*-1\n",
    "\n",
    "\n",
    "fig, ax1 = plt.subplots(figsize=(32, 10)) #big for copy paste reasons\n",
    "plt.suptitle('Results on the test data', fontsize=16)\n",
    "\n",
    "ax1 = plt.subplot()\n",
    "plt.plot(y, X, 'r--', label = 'Predicted Water Level')\n",
    "plt.xlabel('Date', fontsize=14)\n",
    "plt.ylabel('Depth from Land Surface in feet', fontsize=14)\n",
    "\n",
    "ax2 = plt.subplot()\n",
    "ax2.plot(y,X1, 'b-', label = 'Actual Water Level')\n",
    "\n",
    "fig.legend()\n",
    "\n",
    "fig.tight_layout()\n",
    "plt.show()"
   ]
  },
  {
   "cell_type": "code",
   "execution_count": 49,
   "id": "356be42a",
   "metadata": {},
   "outputs": [],
   "source": [
    "from sklearn.metrics import mean_squared_error as mse\n",
    "\n",
    "def plot_predictions1(model, X, y):\n",
    "    predictions = model.predict(X).flatten()\n",
    "    df_plot = pd.DataFrame(data={'Predictions':predictions, 'Actuals':y})\n",
    "    \n",
    "    Pred = df_plot.Predictions.values*-1\n",
    "    Act = df_plot.Actuals.values*-1\n",
    "    \n",
    "    fig, ax1 = plt.subplots(figsize=(16, 5)) #big for copy paste reasons\n",
    "    plt.suptitle('Prediction', fontsize=16)\n",
    "\n",
    "    ax1 = plt.subplot()\n",
    "    plt.plot(Pred, 'r--', label = 'Predicted Water Level')\n",
    "    plt.xlabel('Date', fontsize=14)\n",
    "    plt.ylabel('Depth from Land Surface in feet', fontsize=14)\n",
    "\n",
    "    ax2 = plt.subplot()\n",
    "    ax2.plot(Act, 'b-', label = 'Actual Water Level')\n",
    "\n",
    "    fig.legend()\n",
    "\n",
    "    fig.tight_layout()\n",
    "    plt.show()\n",
    "    \n",
    "    return df, mse(y, predictions)"
   ]
  },
  {
   "cell_type": "code",
   "execution_count": 27,
   "id": "01e52332",
   "metadata": {},
   "outputs": [
    {
     "name": "stdout",
     "output_type": "stream",
     "text": [
      "16/16 [==============================] - 0s 2ms/step\n"
     ]
    },
    {
     "data": {
      "image/png": "[encoded data removed]",
      "text/plain": [
       "<Figure size 1152x360 with 1 Axes>"
      ]
     },
     "metadata": {
      "needs_background": "light"
     },
     "output_type": "display_data"
    },
    {
     "data": {
      "text/plain": [
       "(     Predictions  Actuals\n",
       " 0      91.357109  91.4921\n",
       " 1      91.455177  91.5775\n",
       " 2      91.546608  91.6546\n",
       " 3      91.629387  91.7333\n",
       " 4      91.709946  91.7912\n",
       " ..           ...      ...\n",
       " 495    79.341209  79.4696\n",
       " 496    79.473595  80.0721\n",
       " 497    80.028641  80.4046\n",
       " 498    80.420288  80.6565\n",
       " 499    80.664558  80.8423\n",
       " \n",
       " [500 rows x 2 columns],\n",
       " 0.07311024514531803)"
      ]
     },
     "execution_count": 27,
     "metadata": {},
     "output_type": "execute_result"
    }
   ],
   "source": [
    "plot_predictions1(model1, X_test, y_test)"
   ]
  },
  {
   "cell_type": "code",
   "execution_count": null,
   "id": "b76c241b",
   "metadata": {},
   "outputs": [],
   "source": []
  },
  {
   "cell_type": "code",
   "execution_count": null,
   "id": "387b882f",
   "metadata": {},
   "outputs": [],
   "source": []
  },
  {
   "cell_type": "markdown",
   "id": "6036c385",
   "metadata": {},
   "source": [
    "## A convolutional NN model!"
   ]
  },
  {
   "cell_type": "code",
   "execution_count": 34,
   "id": "a0cb17de",
   "metadata": {},
   "outputs": [
    {
     "name": "stdout",
     "output_type": "stream",
     "text": [
      "Model: \"sequential_2\"\n",
      "_________________________________________________________________\n",
      " Layer (type)                Output Shape              Param #   \n",
      "=================================================================\n",
      " conv1d_1 (Conv1D)           (None, 4, 64)             192       \n",
      "                                                                 \n",
      " flatten_1 (Flatten)         (None, 256)               0         \n",
      "                                                                 \n",
      " dense_4 (Dense)             (None, 8)                 2056      \n",
      "                                                                 \n",
      " dense_5 (Dense)             (None, 1)                 9         \n",
      "                                                                 \n",
      "=================================================================\n",
      "Total params: 2257 (8.82 KB)\n",
      "Trainable params: 2257 (8.82 KB)\n",
      "Non-trainable params: 0 (0.00 Byte)\n",
      "_________________________________________________________________\n"
     ]
    }
   ],
   "source": [
    "model2 = Sequential()\n",
    "model2.add(InputLayer((5,1)))\n",
    "model2.add(Conv1D(64, kernel_size=2))\n",
    "model2.add(Flatten())\n",
    "model2.add(Dense(8, 'relu'))\n",
    "model2.add(Dense(1, 'linear'))\n",
    "\n",
    "model2.summary()"
   ]
  },
  {
   "cell_type": "code",
   "execution_count": 35,
   "id": "ca6885ad",
   "metadata": {},
   "outputs": [],
   "source": [
    "cp2 = ModelCheckpoint('meremodel2/', save_best_only=True)\n",
    "# the above makes a folder that our gitignore should exclude\n",
    "\n",
    "model2.compile(loss=MeanSquaredError(), optimizer=Adam(learning_rate=0.001), metrics=[RootMeanSquaredError()])"
   ]
  },
  {
   "cell_type": "code",
   "execution_count": 36,
   "id": "d8a04323",
   "metadata": {},
   "outputs": [
    {
     "name": "stdout",
     "output_type": "stream",
     "text": [
      "Epoch 1/50\n",
      " 91/110 [=======================>......] - ETA: 0s - loss: 2007.9121 - root_mean_squared_error: 44.8097 INFO:tensorflow:Assets written to: meremodel2/assets\n"
     ]
    },
    {
     "name": "stderr",
     "output_type": "stream",
     "text": [
      "INFO:tensorflow:Assets written to: meremodel2/assets\n"
     ]
    },
    {
     "name": "stdout",
     "output_type": "stream",
     "text": [
      "110/110 [==============================] - 1s 5ms/step - loss: 1671.7163 - root_mean_squared_error: 40.8866 - val_loss: 0.6208 - val_root_mean_squared_error: 0.7879\n",
      "Epoch 2/50\n",
      "105/110 [===========================>..] - ETA: 0s - loss: 0.1251 - root_mean_squared_error: 0.3537INFO:tensorflow:Assets written to: meremodel2/assets\n"
     ]
    },
    {
     "name": "stderr",
     "output_type": "stream",
     "text": [
      "INFO:tensorflow:Assets written to: meremodel2/assets\n"
     ]
    },
    {
     "name": "stdout",
     "output_type": "stream",
     "text": [
      "110/110 [==============================] - 0s 4ms/step - loss: 0.1247 - root_mean_squared_error: 0.3532 - val_loss: 0.0687 - val_root_mean_squared_error: 0.2621\n",
      "Epoch 3/50\n",
      "108/110 [============================>.] - ETA: 0s - loss: 0.0956 - root_mean_squared_error: 0.3092INFO:tensorflow:Assets written to: meremodel2/assets\n"
     ]
    },
    {
     "name": "stderr",
     "output_type": "stream",
     "text": [
      "INFO:tensorflow:Assets written to: meremodel2/assets\n"
     ]
    },
    {
     "name": "stdout",
     "output_type": "stream",
     "text": [
      "110/110 [==============================] - 0s 4ms/step - loss: 0.0954 - root_mean_squared_error: 0.3089 - val_loss: 0.0686 - val_root_mean_squared_error: 0.2619\n",
      "Epoch 4/50\n",
      "110/110 [==============================] - 0s 1ms/step - loss: 0.0955 - root_mean_squared_error: 0.3091 - val_loss: 0.0689 - val_root_mean_squared_error: 0.2624\n",
      "Epoch 5/50\n",
      "110/110 [==============================] - 0s 1ms/step - loss: 0.0954 - root_mean_squared_error: 0.3089 - val_loss: 0.0694 - val_root_mean_squared_error: 0.2634\n",
      "Epoch 6/50\n",
      "110/110 [==============================] - 0s 1ms/step - loss: 0.0956 - root_mean_squared_error: 0.3092 - val_loss: 0.0741 - val_root_mean_squared_error: 0.2723\n",
      "Epoch 7/50\n",
      "110/110 [==============================] - 0s 1ms/step - loss: 0.0955 - root_mean_squared_error: 0.3090 - val_loss: 0.0693 - val_root_mean_squared_error: 0.2632\n",
      "Epoch 8/50\n",
      "106/110 [===========================>..] - ETA: 0s - loss: 0.0957 - root_mean_squared_error: 0.3094INFO:tensorflow:Assets written to: meremodel2/assets\n"
     ]
    },
    {
     "name": "stderr",
     "output_type": "stream",
     "text": [
      "INFO:tensorflow:Assets written to: meremodel2/assets\n"
     ]
    },
    {
     "name": "stdout",
     "output_type": "stream",
     "text": [
      "110/110 [==============================] - 0s 4ms/step - loss: 0.0957 - root_mean_squared_error: 0.3093 - val_loss: 0.0684 - val_root_mean_squared_error: 0.2616\n",
      "Epoch 9/50\n",
      "110/110 [==============================] - 0s 1ms/step - loss: 0.0958 - root_mean_squared_error: 0.3096 - val_loss: 0.0705 - val_root_mean_squared_error: 0.2654\n",
      "Epoch 10/50\n",
      "107/110 [============================>.] - ETA: 0s - loss: 0.0957 - root_mean_squared_error: 0.3093INFO:tensorflow:Assets written to: meremodel2/assets\n"
     ]
    },
    {
     "name": "stderr",
     "output_type": "stream",
     "text": [
      "INFO:tensorflow:Assets written to: meremodel2/assets\n"
     ]
    },
    {
     "name": "stdout",
     "output_type": "stream",
     "text": [
      "110/110 [==============================] - 0s 4ms/step - loss: 0.0957 - root_mean_squared_error: 0.3094 - val_loss: 0.0684 - val_root_mean_squared_error: 0.2615\n",
      "Epoch 11/50\n",
      "110/110 [==============================] - 0s 1ms/step - loss: 0.0958 - root_mean_squared_error: 0.3096 - val_loss: 0.0707 - val_root_mean_squared_error: 0.2658\n",
      "Epoch 12/50\n",
      "110/110 [==============================] - 0s 1ms/step - loss: 0.0961 - root_mean_squared_error: 0.3099 - val_loss: 0.0687 - val_root_mean_squared_error: 0.2622\n",
      "Epoch 13/50\n",
      "110/110 [==============================] - 0s 1ms/step - loss: 0.0968 - root_mean_squared_error: 0.3111 - val_loss: 0.0687 - val_root_mean_squared_error: 0.2622\n",
      "Epoch 14/50\n",
      "110/110 [==============================] - 0s 1ms/step - loss: 0.0965 - root_mean_squared_error: 0.3106 - val_loss: 0.0686 - val_root_mean_squared_error: 0.2619\n",
      "Epoch 15/50\n",
      "110/110 [==============================] - 0s 1ms/step - loss: 0.0963 - root_mean_squared_error: 0.3103 - val_loss: 0.0710 - val_root_mean_squared_error: 0.2664\n",
      "Epoch 16/50\n",
      "110/110 [==============================] - 0s 1ms/step - loss: 0.0959 - root_mean_squared_error: 0.3097 - val_loss: 0.0684 - val_root_mean_squared_error: 0.2615\n",
      "Epoch 17/50\n",
      "109/110 [============================>.] - ETA: 0s - loss: 0.0957 - root_mean_squared_error: 0.3094INFO:tensorflow:Assets written to: meremodel2/assets\n"
     ]
    },
    {
     "name": "stderr",
     "output_type": "stream",
     "text": [
      "INFO:tensorflow:Assets written to: meremodel2/assets\n"
     ]
    },
    {
     "name": "stdout",
     "output_type": "stream",
     "text": [
      "110/110 [==============================] - 0s 4ms/step - loss: 0.0955 - root_mean_squared_error: 0.3091 - val_loss: 0.0683 - val_root_mean_squared_error: 0.2613\n",
      "Epoch 18/50\n",
      "110/110 [==============================] - 0s 1ms/step - loss: 0.0976 - root_mean_squared_error: 0.3123 - val_loss: 0.0684 - val_root_mean_squared_error: 0.2615\n",
      "Epoch 19/50\n",
      "110/110 [==============================] - 0s 1ms/step - loss: 0.0966 - root_mean_squared_error: 0.3107 - val_loss: 0.0693 - val_root_mean_squared_error: 0.2632\n",
      "Epoch 20/50\n",
      "110/110 [==============================] - 0s 1ms/step - loss: 0.0961 - root_mean_squared_error: 0.3100 - val_loss: 0.0703 - val_root_mean_squared_error: 0.2652\n",
      "Epoch 21/50\n",
      "110/110 [==============================] - 0s 2ms/step - loss: 0.0965 - root_mean_squared_error: 0.3107 - val_loss: 0.0714 - val_root_mean_squared_error: 0.2672\n",
      "Epoch 22/50\n",
      "110/110 [==============================] - 0s 1ms/step - loss: 0.0963 - root_mean_squared_error: 0.3104 - val_loss: 0.0692 - val_root_mean_squared_error: 0.2631\n",
      "Epoch 23/50\n",
      "110/110 [==============================] - 0s 1ms/step - loss: 0.0970 - root_mean_squared_error: 0.3114 - val_loss: 0.0692 - val_root_mean_squared_error: 0.2630\n",
      "Epoch 24/50\n",
      "110/110 [==============================] - 0s 1ms/step - loss: 0.0971 - root_mean_squared_error: 0.3115 - val_loss: 0.0685 - val_root_mean_squared_error: 0.2618\n",
      "Epoch 25/50\n",
      "110/110 [==============================] - 0s 1ms/step - loss: 0.0969 - root_mean_squared_error: 0.3113 - val_loss: 0.0770 - val_root_mean_squared_error: 0.2775\n",
      "Epoch 26/50\n",
      "110/110 [==============================] - 0s 1ms/step - loss: 0.0964 - root_mean_squared_error: 0.3105 - val_loss: 0.0686 - val_root_mean_squared_error: 0.2619\n",
      "Epoch 27/50\n",
      "110/110 [==============================] - 0s 1ms/step - loss: 0.0980 - root_mean_squared_error: 0.3131 - val_loss: 0.0737 - val_root_mean_squared_error: 0.2715\n",
      "Epoch 28/50\n",
      "110/110 [==============================] - 0s 1ms/step - loss: 0.0964 - root_mean_squared_error: 0.3105 - val_loss: 0.0696 - val_root_mean_squared_error: 0.2639\n",
      "Epoch 29/50\n",
      "110/110 [==============================] - 0s 1ms/step - loss: 0.0960 - root_mean_squared_error: 0.3098 - val_loss: 0.0735 - val_root_mean_squared_error: 0.2711\n",
      "Epoch 30/50\n",
      "110/110 [==============================] - 0s 1ms/step - loss: 0.0983 - root_mean_squared_error: 0.3135 - val_loss: 0.0687 - val_root_mean_squared_error: 0.2621\n",
      "Epoch 31/50\n",
      "106/110 [===========================>..] - ETA: 0s - loss: 0.0950 - root_mean_squared_error: 0.3082INFO:tensorflow:Assets written to: meremodel2/assets\n"
     ]
    },
    {
     "name": "stderr",
     "output_type": "stream",
     "text": [
      "INFO:tensorflow:Assets written to: meremodel2/assets\n"
     ]
    },
    {
     "name": "stdout",
     "output_type": "stream",
     "text": [
      "110/110 [==============================] - 1s 7ms/step - loss: 0.0966 - root_mean_squared_error: 0.3108 - val_loss: 0.0678 - val_root_mean_squared_error: 0.2603\n",
      "Epoch 32/50\n",
      "110/110 [==============================] - 0s 1ms/step - loss: 0.0963 - root_mean_squared_error: 0.3103 - val_loss: 0.0739 - val_root_mean_squared_error: 0.2718\n",
      "Epoch 33/50\n",
      "110/110 [==============================] - 0s 1ms/step - loss: 0.0967 - root_mean_squared_error: 0.3110 - val_loss: 0.0709 - val_root_mean_squared_error: 0.2663\n",
      "Epoch 34/50\n",
      "110/110 [==============================] - 0s 1ms/step - loss: 0.0963 - root_mean_squared_error: 0.3103 - val_loss: 0.0698 - val_root_mean_squared_error: 0.2642\n",
      "Epoch 35/50\n",
      "110/110 [==============================] - 0s 1ms/step - loss: 0.0973 - root_mean_squared_error: 0.3120 - val_loss: 0.0697 - val_root_mean_squared_error: 0.2639\n",
      "Epoch 36/50\n",
      "110/110 [==============================] - 0s 1ms/step - loss: 0.0972 - root_mean_squared_error: 0.3118 - val_loss: 0.0705 - val_root_mean_squared_error: 0.2655\n",
      "Epoch 37/50\n",
      "103/110 [===========================>..] - ETA: 0s - loss: 0.0994 - root_mean_squared_error: 0.3153INFO:tensorflow:Assets written to: meremodel2/assets\n"
     ]
    },
    {
     "name": "stderr",
     "output_type": "stream",
     "text": [
      "INFO:tensorflow:Assets written to: meremodel2/assets\n"
     ]
    },
    {
     "name": "stdout",
     "output_type": "stream",
     "text": [
      "110/110 [==============================] - 0s 4ms/step - loss: 0.0987 - root_mean_squared_error: 0.3142 - val_loss: 0.0674 - val_root_mean_squared_error: 0.2596\n",
      "Epoch 38/50\n",
      "110/110 [==============================] - 0s 1ms/step - loss: 0.0987 - root_mean_squared_error: 0.3142 - val_loss: 0.0835 - val_root_mean_squared_error: 0.2889\n",
      "Epoch 39/50\n",
      "110/110 [==============================] - 0s 1ms/step - loss: 0.0971 - root_mean_squared_error: 0.3116 - val_loss: 0.0809 - val_root_mean_squared_error: 0.2844\n",
      "Epoch 40/50\n",
      "110/110 [==============================] - 0s 1ms/step - loss: 0.0967 - root_mean_squared_error: 0.3110 - val_loss: 0.0827 - val_root_mean_squared_error: 0.2876\n",
      "Epoch 41/50\n",
      "110/110 [==============================] - 0s 1ms/step - loss: 0.0964 - root_mean_squared_error: 0.3105 - val_loss: 0.0717 - val_root_mean_squared_error: 0.2677\n",
      "Epoch 42/50\n",
      "110/110 [==============================] - 0s 1ms/step - loss: 0.0985 - root_mean_squared_error: 0.3139 - val_loss: 0.0780 - val_root_mean_squared_error: 0.2793\n",
      "Epoch 43/50\n",
      "110/110 [==============================] - 0s 1ms/step - loss: 0.0969 - root_mean_squared_error: 0.3112 - val_loss: 0.0866 - val_root_mean_squared_error: 0.2942\n",
      "Epoch 44/50\n",
      "110/110 [==============================] - 0s 1ms/step - loss: 0.0970 - root_mean_squared_error: 0.3114 - val_loss: 0.0693 - val_root_mean_squared_error: 0.2633\n",
      "Epoch 45/50\n",
      " 56/110 [==============>...............] - ETA: 0s - loss: 0.0880 - root_mean_squared_error: 0.2967INFO:tensorflow:Assets written to: meremodel2/assets\n"
     ]
    },
    {
     "name": "stderr",
     "output_type": "stream",
     "text": [
      "INFO:tensorflow:Assets written to: meremodel2/assets\n"
     ]
    },
    {
     "name": "stdout",
     "output_type": "stream",
     "text": [
      "110/110 [==============================] - 0s 4ms/step - loss: 0.1009 - root_mean_squared_error: 0.3176 - val_loss: 0.0671 - val_root_mean_squared_error: 0.2590\n",
      "Epoch 46/50\n",
      "110/110 [==============================] - 0s 1ms/step - loss: 0.0967 - root_mean_squared_error: 0.3110 - val_loss: 0.0755 - val_root_mean_squared_error: 0.2747\n",
      "Epoch 47/50\n",
      "110/110 [==============================] - 0s 1ms/step - loss: 0.0999 - root_mean_squared_error: 0.3161 - val_loss: 0.0860 - val_root_mean_squared_error: 0.2932\n",
      "Epoch 48/50\n",
      "110/110 [==============================] - 0s 1ms/step - loss: 0.0991 - root_mean_squared_error: 0.3148 - val_loss: 0.0807 - val_root_mean_squared_error: 0.2842\n",
      "Epoch 49/50\n",
      "110/110 [==============================] - 0s 1ms/step - loss: 0.1004 - root_mean_squared_error: 0.3169 - val_loss: 0.0691 - val_root_mean_squared_error: 0.2630\n",
      "Epoch 50/50\n",
      " 55/110 [==============>...............] - ETA: 0s - loss: 0.1174 - root_mean_squared_error: 0.3426INFO:tensorflow:Assets written to: meremodel2/assets\n"
     ]
    },
    {
     "name": "stderr",
     "output_type": "stream",
     "text": [
      "INFO:tensorflow:Assets written to: meremodel2/assets\n"
     ]
    },
    {
     "name": "stdout",
     "output_type": "stream",
     "text": [
      "\b\b\b\b\b\b\b\b\b\b\b\b\b\b\b\b\b\b\b\b\b\b\b\b\b\b\b\b\b\b\b\b\b\b\b\b\b\b\b\b\b\b\b\b\b\b\b\b\b\b\b\b\b\b\b\b\b\b\b\b\b\b\b\b\b\b\b\b\b\b\b\b\b\b\b\b\b\b\b\b\b\b\b\b\b\b\b\b\b\b\b\b\b\b\b\b\b\b\b\r",
      "110/110 [==============================] - 0s 4ms/step - loss: 0.1086 - root_mean_squared_error: 0.3296 - val_loss: 0.0667 - val_root_mean_squared_error: 0.2582\n"
     ]
    },
    {
     "data": {
      "text/plain": [
       "<keras.src.callbacks.History at 0x7f3ca986b370>"
      ]
     },
     "execution_count": 36,
     "metadata": {},
     "output_type": "execute_result"
    }
   ],
   "source": [
    "model2.fit(X_train, y_train, validation_data=(X_val, y_val), epochs=50, callbacks=[cp2])"
   ]
  },
  {
   "cell_type": "code",
   "execution_count": 37,
   "id": "bef1bfe5",
   "metadata": {},
   "outputs": [
    {
     "name": "stdout",
     "output_type": "stream",
     "text": [
      "16/16 [==============================] - 0s 881us/step\n"
     ]
    },
    {
     "data": {
      "image/png": "[encoded data removed]",
      "text/plain": [
       "<Figure size 1152x360 with 1 Axes>"
      ]
     },
     "metadata": {
      "needs_background": "light"
     },
     "output_type": "display_data"
    },
    {
     "data": {
      "text/plain": [
       "(     Predictions  Actuals\n",
       " 0      91.171928  91.4921\n",
       " 1      91.268417  91.5775\n",
       " 2      91.362457  91.6546\n",
       " 3      91.450722  91.7333\n",
       " 4      91.534836  91.7912\n",
       " ..           ...      ...\n",
       " 495    79.170906  79.4696\n",
       " 496    79.260162  80.0721\n",
       " 497    79.422615  80.4046\n",
       " 498    79.726410  80.6565\n",
       " 499    80.040787  80.8423\n",
       " \n",
       " [500 rows x 2 columns],\n",
       " 0.27526525813472974)"
      ]
     },
     "execution_count": 37,
     "metadata": {},
     "output_type": "execute_result"
    }
   ],
   "source": [
    "model2 = load_model('meremodel2/')\n",
    "plot_predictions1(model2, X_test, y_test)"
   ]
  },
  {
   "cell_type": "markdown",
   "id": "dfdb11a2",
   "metadata": {},
   "source": [
    "## GRU Model"
   ]
  },
  {
   "cell_type": "code",
   "execution_count": 38,
   "id": "4d39f1d4",
   "metadata": {},
   "outputs": [
    {
     "name": "stdout",
     "output_type": "stream",
     "text": [
      "Model: \"sequential_3\"\n",
      "_________________________________________________________________\n",
      " Layer (type)                Output Shape              Param #   \n",
      "=================================================================\n",
      " gru (GRU)                   (None, 64)                12864     \n",
      "                                                                 \n",
      " flatten_2 (Flatten)         (None, 64)                0         \n",
      "                                                                 \n",
      " dense_6 (Dense)             (None, 8)                 520       \n",
      "                                                                 \n",
      " dense_7 (Dense)             (None, 1)                 9         \n",
      "                                                                 \n",
      "=================================================================\n",
      "Total params: 13393 (52.32 KB)\n",
      "Trainable params: 13393 (52.32 KB)\n",
      "Non-trainable params: 0 (0.00 Byte)\n",
      "_________________________________________________________________\n"
     ]
    }
   ],
   "source": [
    "model3 = Sequential()\n",
    "model3.add(InputLayer((5,1)))\n",
    "model3.add(GRU(64))\n",
    "model3.add(Flatten())\n",
    "model3.add(Dense(8, 'relu'))\n",
    "model3.add(Dense(1, 'linear'))\n",
    "\n",
    "model3.summary()"
   ]
  },
  {
   "cell_type": "code",
   "execution_count": 39,
   "id": "bdd45f85",
   "metadata": {},
   "outputs": [],
   "source": [
    "cp3 = ModelCheckpoint('meremodel3/', save_best_only=True)\n",
    "# the above makes a folder that our gitignore should exclude\n",
    "\n",
    "model3.compile(loss=MeanSquaredError(), optimizer=Adam(learning_rate=0.001), metrics=[RootMeanSquaredError()])"
   ]
  },
  {
   "cell_type": "code",
   "execution_count": 40,
   "id": "538a7bb2",
   "metadata": {},
   "outputs": [
    {
     "name": "stdout",
     "output_type": "stream",
     "text": [
      "Epoch 1/50\n",
      "106/110 [===========================>..] - ETA: 0s - loss: 7263.2876 - root_mean_squared_error: 85.2249INFO:tensorflow:Assets written to: meremodel3/assets\n"
     ]
    },
    {
     "name": "stderr",
     "output_type": "stream",
     "text": [
      "INFO:tensorflow:Assets written to: meremodel3/assets\n"
     ]
    },
    {
     "name": "stdout",
     "output_type": "stream",
     "text": [
      "110/110 [==============================] - 3s 20ms/step - loss: 7228.6953 - root_mean_squared_error: 85.0217 - val_loss: 6155.3193 - val_root_mean_squared_error: 78.4558\n",
      "Epoch 2/50\n",
      "104/110 [===========================>..] - ETA: 0s - loss: 5090.2183 - root_mean_squared_error: 71.3458INFO:tensorflow:Assets written to: meremodel3/assets\n"
     ]
    },
    {
     "name": "stderr",
     "output_type": "stream",
     "text": [
      "INFO:tensorflow:Assets written to: meremodel3/assets\n"
     ]
    },
    {
     "name": "stdout",
     "output_type": "stream",
     "text": [
      "110/110 [==============================] - 2s 18ms/step - loss: 5035.7954 - root_mean_squared_error: 70.9633 - val_loss: 3973.0583 - val_root_mean_squared_error: 63.0322\n",
      "Epoch 3/50\n",
      "109/110 [============================>.] - ETA: 0s - loss: 2965.1270 - root_mean_squared_error: 54.4530INFO:tensorflow:Assets written to: meremodel3/assets\n"
     ]
    },
    {
     "name": "stderr",
     "output_type": "stream",
     "text": [
      "INFO:tensorflow:Assets written to: meremodel3/assets\n"
     ]
    },
    {
     "name": "stdout",
     "output_type": "stream",
     "text": [
      "110/110 [==============================] - 2s 19ms/step - loss: 2962.4929 - root_mean_squared_error: 54.4288 - val_loss: 2053.3367 - val_root_mean_squared_error: 45.3138\n",
      "Epoch 4/50\n",
      "108/110 [============================>.] - ETA: 0s - loss: 1363.1053 - root_mean_squared_error: 36.9203INFO:tensorflow:Assets written to: meremodel3/assets\n"
     ]
    },
    {
     "name": "stderr",
     "output_type": "stream",
     "text": [
      "INFO:tensorflow:Assets written to: meremodel3/assets\n"
     ]
    },
    {
     "name": "stdout",
     "output_type": "stream",
     "text": [
      "110/110 [==============================] - 2s 17ms/step - loss: 1356.5282 - root_mean_squared_error: 36.8311 - val_loss: 807.4677 - val_root_mean_squared_error: 28.4160\n",
      "Epoch 5/50\n",
      "105/110 [===========================>..] - ETA: 0s - loss: 477.5946 - root_mean_squared_error: 21.8539INFO:tensorflow:Assets written to: meremodel3/assets\n"
     ]
    },
    {
     "name": "stderr",
     "output_type": "stream",
     "text": [
      "INFO:tensorflow:Assets written to: meremodel3/assets\n"
     ]
    },
    {
     "name": "stdout",
     "output_type": "stream",
     "text": [
      "110/110 [==============================] - 2s 17ms/step - loss: 467.8486 - root_mean_squared_error: 21.6298 - val_loss: 232.2673 - val_root_mean_squared_error: 15.2403\n",
      "Epoch 6/50\n",
      "102/110 [==========================>...] - ETA: 0s - loss: 125.8828 - root_mean_squared_error: 11.2197INFO:tensorflow:Assets written to: meremodel3/assets\n"
     ]
    },
    {
     "name": "stderr",
     "output_type": "stream",
     "text": [
      "INFO:tensorflow:Assets written to: meremodel3/assets\n"
     ]
    },
    {
     "name": "stdout",
     "output_type": "stream",
     "text": [
      "110/110 [==============================] - 2s 17ms/step - loss: 121.1268 - root_mean_squared_error: 11.0058 - val_loss: 52.9124 - val_root_mean_squared_error: 7.2741\n",
      "Epoch 7/50\n",
      "104/110 [===========================>..] - ETA: 0s - loss: 30.8740 - root_mean_squared_error: 5.5564INFO:tensorflow:Assets written to: meremodel3/assets\n"
     ]
    },
    {
     "name": "stderr",
     "output_type": "stream",
     "text": [
      "INFO:tensorflow:Assets written to: meremodel3/assets\n"
     ]
    },
    {
     "name": "stdout",
     "output_type": "stream",
     "text": [
      "110/110 [==============================] - 2s 20ms/step - loss: 30.3480 - root_mean_squared_error: 5.5089 - val_loss: 14.8776 - val_root_mean_squared_error: 3.8571\n",
      "Epoch 8/50\n",
      "108/110 [============================>.] - ETA: 0s - loss: 14.3217 - root_mean_squared_error: 3.7844INFO:tensorflow:Assets written to: meremodel3/assets\n"
     ]
    },
    {
     "name": "stderr",
     "output_type": "stream",
     "text": [
      "INFO:tensorflow:Assets written to: meremodel3/assets\n"
     ]
    },
    {
     "name": "stdout",
     "output_type": "stream",
     "text": [
      "110/110 [==============================] - 2s 17ms/step - loss: 14.3168 - root_mean_squared_error: 3.7838 - val_loss: 8.8903 - val_root_mean_squared_error: 2.9817\n",
      "Epoch 9/50\n",
      "108/110 [============================>.] - ETA: 0s - loss: 12.3240 - root_mean_squared_error: 3.5106INFO:tensorflow:Assets written to: meremodel3/assets\n"
     ]
    },
    {
     "name": "stderr",
     "output_type": "stream",
     "text": [
      "INFO:tensorflow:Assets written to: meremodel3/assets\n"
     ]
    },
    {
     "name": "stdout",
     "output_type": "stream",
     "text": [
      "110/110 [==============================] - 2s 17ms/step - loss: 12.3028 - root_mean_squared_error: 3.5075 - val_loss: 8.0419 - val_root_mean_squared_error: 2.8358\n",
      "Epoch 10/50\n",
      "109/110 [============================>.] - ETA: 0s - loss: 12.0951 - root_mean_squared_error: 3.4778INFO:tensorflow:Assets written to: meremodel3/assets\n"
     ]
    },
    {
     "name": "stderr",
     "output_type": "stream",
     "text": [
      "INFO:tensorflow:Assets written to: meremodel3/assets\n"
     ]
    },
    {
     "name": "stdout",
     "output_type": "stream",
     "text": [
      "110/110 [==============================] - 2s 17ms/step - loss: 12.1102 - root_mean_squared_error: 3.4800 - val_loss: 7.8901 - val_root_mean_squared_error: 2.8089\n",
      "Epoch 11/50\n",
      "107/110 [============================>.] - ETA: 0s - loss: 12.1315 - root_mean_squared_error: 3.4830INFO:tensorflow:Assets written to: meremodel3/assets\n"
     ]
    },
    {
     "name": "stderr",
     "output_type": "stream",
     "text": [
      "INFO:tensorflow:Assets written to: meremodel3/assets\n"
     ]
    },
    {
     "name": "stdout",
     "output_type": "stream",
     "text": [
      "110/110 [==============================] - 2s 17ms/step - loss: 12.1026 - root_mean_squared_error: 3.4789 - val_loss: 7.8880 - val_root_mean_squared_error: 2.8086\n",
      "Epoch 12/50\n",
      "108/110 [============================>.] - ETA: 0s - loss: 12.1427 - root_mean_squared_error: 3.4846INFO:tensorflow:Assets written to: meremodel3/assets\n"
     ]
    },
    {
     "name": "stderr",
     "output_type": "stream",
     "text": [
      "INFO:tensorflow:Assets written to: meremodel3/assets\n"
     ]
    },
    {
     "name": "stdout",
     "output_type": "stream",
     "text": [
      "110/110 [==============================] - 2s 21ms/step - loss: 12.0985 - root_mean_squared_error: 3.4783 - val_loss: 7.8569 - val_root_mean_squared_error: 2.8030\n",
      "Epoch 13/50\n",
      " 98/110 [=========================>....] - ETA: 0s - loss: 11.4986 - root_mean_squared_error: 3.3910INFO:tensorflow:Assets written to: meremodel3/assets\n"
     ]
    },
    {
     "name": "stderr",
     "output_type": "stream",
     "text": [
      "INFO:tensorflow:Assets written to: meremodel3/assets\n"
     ]
    },
    {
     "name": "stdout",
     "output_type": "stream",
     "text": [
      "110/110 [==============================] - 2s 17ms/step - loss: 11.5471 - root_mean_squared_error: 3.3981 - val_loss: 7.4233 - val_root_mean_squared_error: 2.7246\n",
      "Epoch 14/50\n",
      "109/110 [============================>.] - ETA: 0s - loss: 9.2807 - root_mean_squared_error: 3.0464INFO:tensorflow:Assets written to: meremodel3/assets\n"
     ]
    },
    {
     "name": "stderr",
     "output_type": "stream",
     "text": [
      "INFO:tensorflow:Assets written to: meremodel3/assets\n"
     ]
    },
    {
     "name": "stdout",
     "output_type": "stream",
     "text": [
      "110/110 [==============================] - 2s 17ms/step - loss: 9.2781 - root_mean_squared_error: 3.0460 - val_loss: 5.1228 - val_root_mean_squared_error: 2.2634\n",
      "Epoch 15/50\n",
      "107/110 [============================>.] - ETA: 0s - loss: 4.2712 - root_mean_squared_error: 2.0667INFO:tensorflow:Assets written to: meremodel3/assets\n"
     ]
    },
    {
     "name": "stderr",
     "output_type": "stream",
     "text": [
      "INFO:tensorflow:Assets written to: meremodel3/assets\n"
     ]
    },
    {
     "name": "stdout",
     "output_type": "stream",
     "text": [
      "110/110 [==============================] - 2s 17ms/step - loss: 4.2480 - root_mean_squared_error: 2.0611 - val_loss: 2.2943 - val_root_mean_squared_error: 1.5147\n",
      "Epoch 16/50\n",
      "106/110 [===========================>..] - ETA: 0s - loss: 1.6623 - root_mean_squared_error: 1.2893INFO:tensorflow:Assets written to: meremodel3/assets\n"
     ]
    },
    {
     "name": "stderr",
     "output_type": "stream",
     "text": [
      "INFO:tensorflow:Assets written to: meremodel3/assets\n"
     ]
    },
    {
     "name": "stdout",
     "output_type": "stream",
     "text": [
      "110/110 [==============================] - 2s 20ms/step - loss: 1.6449 - root_mean_squared_error: 1.2826 - val_loss: 0.9821 - val_root_mean_squared_error: 0.9910\n",
      "Epoch 17/50\n",
      "104/110 [===========================>..] - ETA: 0s - loss: 0.8726 - root_mean_squared_error: 0.9341INFO:tensorflow:Assets written to: meremodel3/assets\n"
     ]
    },
    {
     "name": "stderr",
     "output_type": "stream",
     "text": [
      "INFO:tensorflow:Assets written to: meremodel3/assets\n"
     ]
    },
    {
     "name": "stdout",
     "output_type": "stream",
     "text": [
      "110/110 [==============================] - 2s 18ms/step - loss: 0.8563 - root_mean_squared_error: 0.9254 - val_loss: 0.5665 - val_root_mean_squared_error: 0.7526\n",
      "Epoch 18/50\n",
      "100/110 [==========================>...] - ETA: 0s - loss: 0.5715 - root_mean_squared_error: 0.7560INFO:tensorflow:Assets written to: meremodel3/assets\n"
     ]
    },
    {
     "name": "stderr",
     "output_type": "stream",
     "text": [
      "INFO:tensorflow:Assets written to: meremodel3/assets\n"
     ]
    },
    {
     "name": "stdout",
     "output_type": "stream",
     "text": [
      "110/110 [==============================] - 2s 18ms/step - loss: 0.5627 - root_mean_squared_error: 0.7502 - val_loss: 0.4217 - val_root_mean_squared_error: 0.6494\n",
      "Epoch 19/50\n",
      " 98/110 [=========================>....] - ETA: 0s - loss: 0.4165 - root_mean_squared_error: 0.6453INFO:tensorflow:Assets written to: meremodel3/assets\n"
     ]
    },
    {
     "name": "stderr",
     "output_type": "stream",
     "text": [
      "INFO:tensorflow:Assets written to: meremodel3/assets\n"
     ]
    },
    {
     "name": "stdout",
     "output_type": "stream",
     "text": [
      "110/110 [==============================] - 2s 18ms/step - loss: 0.4088 - root_mean_squared_error: 0.6394 - val_loss: 0.2772 - val_root_mean_squared_error: 0.5265\n",
      "Epoch 20/50\n",
      "106/110 [===========================>..] - ETA: 0s - loss: 0.2941 - root_mean_squared_error: 0.5423INFO:tensorflow:Assets written to: meremodel3/assets\n"
     ]
    },
    {
     "name": "stderr",
     "output_type": "stream",
     "text": [
      "INFO:tensorflow:Assets written to: meremodel3/assets\n"
     ]
    },
    {
     "name": "stdout",
     "output_type": "stream",
     "text": [
      "110/110 [==============================] - 2s 17ms/step - loss: 0.2905 - root_mean_squared_error: 0.5390 - val_loss: 0.1984 - val_root_mean_squared_error: 0.4454\n",
      "Epoch 21/50\n",
      "104/110 [===========================>..] - ETA: 0s - loss: 0.1854 - root_mean_squared_error: 0.4306INFO:tensorflow:Assets written to: meremodel3/assets\n"
     ]
    },
    {
     "name": "stderr",
     "output_type": "stream",
     "text": [
      "INFO:tensorflow:Assets written to: meremodel3/assets\n"
     ]
    },
    {
     "name": "stdout",
     "output_type": "stream",
     "text": [
      "110/110 [==============================] - 2s 21ms/step - loss: 0.1838 - root_mean_squared_error: 0.4288 - val_loss: 0.1520 - val_root_mean_squared_error: 0.3899\n",
      "Epoch 22/50\n",
      "106/110 [===========================>..] - ETA: 0s - loss: 0.1406 - root_mean_squared_error: 0.3750INFO:tensorflow:Assets written to: meremodel3/assets\n"
     ]
    },
    {
     "name": "stderr",
     "output_type": "stream",
     "text": [
      "INFO:tensorflow:Assets written to: meremodel3/assets\n"
     ]
    },
    {
     "name": "stdout",
     "output_type": "stream",
     "text": [
      "110/110 [==============================] - 2s 17ms/step - loss: 0.1416 - root_mean_squared_error: 0.3763 - val_loss: 0.1388 - val_root_mean_squared_error: 0.3726\n",
      "Epoch 23/50\n",
      "107/110 [============================>.] - ETA: 0s - loss: 0.1175 - root_mean_squared_error: 0.3428INFO:tensorflow:Assets written to: meremodel3/assets\n"
     ]
    },
    {
     "name": "stderr",
     "output_type": "stream",
     "text": [
      "INFO:tensorflow:Assets written to: meremodel3/assets\n"
     ]
    },
    {
     "name": "stdout",
     "output_type": "stream",
     "text": [
      "110/110 [==============================] - 2s 17ms/step - loss: 0.1172 - root_mean_squared_error: 0.3424 - val_loss: 0.0817 - val_root_mean_squared_error: 0.2858\n",
      "Epoch 24/50\n",
      "103/110 [===========================>..] - ETA: 0s - loss: 0.1124 - root_mean_squared_error: 0.3352INFO:tensorflow:Assets written to: meremodel3/assets\n"
     ]
    },
    {
     "name": "stderr",
     "output_type": "stream",
     "text": [
      "INFO:tensorflow:Assets written to: meremodel3/assets\n"
     ]
    },
    {
     "name": "stdout",
     "output_type": "stream",
     "text": [
      "110/110 [==============================] - 2s 17ms/step - loss: 0.1110 - root_mean_squared_error: 0.3332 - val_loss: 0.0681 - val_root_mean_squared_error: 0.2609\n",
      "Epoch 25/50\n",
      "110/110 [==============================] - 0s 3ms/step - loss: 0.0906 - root_mean_squared_error: 0.3010 - val_loss: 0.0837 - val_root_mean_squared_error: 0.2893\n",
      "Epoch 26/50\n",
      "108/110 [============================>.] - ETA: 0s - loss: 0.0875 - root_mean_squared_error: 0.2958INFO:tensorflow:Assets written to: meremodel3/assets\n"
     ]
    },
    {
     "name": "stderr",
     "output_type": "stream",
     "text": [
      "INFO:tensorflow:Assets written to: meremodel3/assets\n"
     ]
    },
    {
     "name": "stdout",
     "output_type": "stream",
     "text": [
      "110/110 [==============================] - 2s 20ms/step - loss: 0.0873 - root_mean_squared_error: 0.2955 - val_loss: 0.0597 - val_root_mean_squared_error: 0.2444\n",
      "Epoch 27/50\n",
      "110/110 [==============================] - 0s 3ms/step - loss: 0.0905 - root_mean_squared_error: 0.3008 - val_loss: 0.0756 - val_root_mean_squared_error: 0.2750\n",
      "Epoch 28/50\n",
      "110/110 [==============================] - 0s 3ms/step - loss: 0.0788 - root_mean_squared_error: 0.2807 - val_loss: 0.1019 - val_root_mean_squared_error: 0.3192\n",
      "Epoch 29/50\n",
      "109/110 [============================>.] - ETA: 0s - loss: 0.0789 - root_mean_squared_error: 0.2808INFO:tensorflow:Assets written to: meremodel3/assets\n"
     ]
    },
    {
     "name": "stderr",
     "output_type": "stream",
     "text": [
      "INFO:tensorflow:Assets written to: meremodel3/assets\n"
     ]
    },
    {
     "name": "stdout",
     "output_type": "stream",
     "text": [
      "110/110 [==============================] - 2s 17ms/step - loss: 0.0787 - root_mean_squared_error: 0.2806 - val_loss: 0.0486 - val_root_mean_squared_error: 0.2204\n",
      "Epoch 30/50\n",
      "110/110 [==============================] - 0s 3ms/step - loss: 0.0741 - root_mean_squared_error: 0.2722 - val_loss: 0.0745 - val_root_mean_squared_error: 0.2730\n",
      "Epoch 31/50\n",
      "110/110 [==============================] - 0s 3ms/step - loss: 0.0728 - root_mean_squared_error: 0.2698 - val_loss: 0.0552 - val_root_mean_squared_error: 0.2348\n",
      "Epoch 32/50\n",
      "110/110 [==============================] - ETA: 0s - loss: 0.0725 - root_mean_squared_error: 0.2692INFO:tensorflow:Assets written to: meremodel3/assets\n"
     ]
    },
    {
     "name": "stderr",
     "output_type": "stream",
     "text": [
      "INFO:tensorflow:Assets written to: meremodel3/assets\n"
     ]
    },
    {
     "name": "stdout",
     "output_type": "stream",
     "text": [
      "110/110 [==============================] - 2s 18ms/step - loss: 0.0725 - root_mean_squared_error: 0.2692 - val_loss: 0.0466 - val_root_mean_squared_error: 0.2158\n",
      "Epoch 33/50\n",
      "108/110 [============================>.] - ETA: 0s - loss: 0.0680 - root_mean_squared_error: 0.2608INFO:tensorflow:Assets written to: meremodel3/assets\n"
     ]
    },
    {
     "name": "stderr",
     "output_type": "stream",
     "text": [
      "INFO:tensorflow:Assets written to: meremodel3/assets\n"
     ]
    },
    {
     "name": "stdout",
     "output_type": "stream",
     "text": [
      "110/110 [==============================] - 2s 17ms/step - loss: 0.0679 - root_mean_squared_error: 0.2605 - val_loss: 0.0449 - val_root_mean_squared_error: 0.2119\n",
      "Epoch 34/50\n",
      "110/110 [==============================] - 0s 3ms/step - loss: 0.0732 - root_mean_squared_error: 0.2706 - val_loss: 0.0472 - val_root_mean_squared_error: 0.2173\n",
      "Epoch 35/50\n",
      "110/110 [==============================] - 0s 3ms/step - loss: 0.0671 - root_mean_squared_error: 0.2590 - val_loss: 0.0541 - val_root_mean_squared_error: 0.2327\n",
      "Epoch 36/50\n",
      "110/110 [==============================] - 0s 3ms/step - loss: 0.0729 - root_mean_squared_error: 0.2701 - val_loss: 0.0677 - val_root_mean_squared_error: 0.2602\n",
      "Epoch 37/50\n",
      "110/110 [==============================] - 0s 3ms/step - loss: 0.0721 - root_mean_squared_error: 0.2685 - val_loss: 0.0533 - val_root_mean_squared_error: 0.2309\n",
      "Epoch 38/50\n",
      "101/110 [==========================>...] - ETA: 0s - loss: 0.0763 - root_mean_squared_error: 0.2761INFO:tensorflow:Assets written to: meremodel3/assets\n"
     ]
    },
    {
     "name": "stderr",
     "output_type": "stream",
     "text": [
      "INFO:tensorflow:Assets written to: meremodel3/assets\n"
     ]
    },
    {
     "name": "stdout",
     "output_type": "stream",
     "text": [
      "110/110 [==============================] - 2s 20ms/step - loss: 0.0759 - root_mean_squared_error: 0.2756 - val_loss: 0.0438 - val_root_mean_squared_error: 0.2093\n",
      "Epoch 39/50\n",
      "110/110 [==============================] - 0s 3ms/step - loss: 0.0688 - root_mean_squared_error: 0.2623 - val_loss: 0.0920 - val_root_mean_squared_error: 0.3033\n",
      "Epoch 40/50\n",
      "110/110 [==============================] - 0s 3ms/step - loss: 0.0771 - root_mean_squared_error: 0.2776 - val_loss: 0.0567 - val_root_mean_squared_error: 0.2381\n",
      "Epoch 41/50\n",
      "110/110 [==============================] - 0s 3ms/step - loss: 0.0683 - root_mean_squared_error: 0.2613 - val_loss: 0.0516 - val_root_mean_squared_error: 0.2271\n",
      "Epoch 42/50\n",
      "100/110 [==========================>...] - ETA: 0s - loss: 0.0672 - root_mean_squared_error: 0.2591INFO:tensorflow:Assets written to: meremodel3/assets\n"
     ]
    },
    {
     "name": "stderr",
     "output_type": "stream",
     "text": [
      "INFO:tensorflow:Assets written to: meremodel3/assets\n"
     ]
    },
    {
     "name": "stdout",
     "output_type": "stream",
     "text": [
      "110/110 [==============================] - 2s 18ms/step - loss: 0.0654 - root_mean_squared_error: 0.2558 - val_loss: 0.0391 - val_root_mean_squared_error: 0.1977\n",
      "Epoch 43/50\n",
      "110/110 [==============================] - 0s 3ms/step - loss: 0.0609 - root_mean_squared_error: 0.2467 - val_loss: 0.0449 - val_root_mean_squared_error: 0.2118\n",
      "Epoch 44/50\n",
      "110/110 [==============================] - 0s 3ms/step - loss: 0.0712 - root_mean_squared_error: 0.2668 - val_loss: 0.0463 - val_root_mean_squared_error: 0.2152\n",
      "Epoch 45/50\n",
      "110/110 [==============================] - 0s 3ms/step - loss: 0.0792 - root_mean_squared_error: 0.2815 - val_loss: 0.0735 - val_root_mean_squared_error: 0.2711\n",
      "Epoch 46/50\n",
      "110/110 [==============================] - 0s 3ms/step - loss: 0.0681 - root_mean_squared_error: 0.2610 - val_loss: 0.0412 - val_root_mean_squared_error: 0.2030\n",
      "Epoch 47/50\n",
      "110/110 [==============================] - 0s 3ms/step - loss: 0.0843 - root_mean_squared_error: 0.2904 - val_loss: 0.0436 - val_root_mean_squared_error: 0.2088\n",
      "Epoch 48/50\n",
      "110/110 [==============================] - 0s 3ms/step - loss: 0.0660 - root_mean_squared_error: 0.2568 - val_loss: 0.0439 - val_root_mean_squared_error: 0.2096\n",
      "Epoch 49/50\n",
      "110/110 [==============================] - 0s 3ms/step - loss: 0.0739 - root_mean_squared_error: 0.2719 - val_loss: 0.0674 - val_root_mean_squared_error: 0.2596\n",
      "Epoch 50/50\n",
      "110/110 [==============================] - 0s 3ms/step - loss: 0.0720 - root_mean_squared_error: 0.2683 - val_loss: 0.0416 - val_root_mean_squared_error: 0.2040\n"
     ]
    },
    {
     "data": {
      "text/plain": [
       "<keras.src.callbacks.History at 0x7f3ca87a5bd0>"
      ]
     },
     "execution_count": 40,
     "metadata": {},
     "output_type": "execute_result"
    }
   ],
   "source": [
    "model3.fit(X_train, y_train, validation_data=(X_val, y_val), epochs=50, callbacks=[cp3])"
   ]
  },
  {
   "cell_type": "code",
   "execution_count": 41,
   "id": "9d062580",
   "metadata": {},
   "outputs": [
    {
     "name": "stdout",
     "output_type": "stream",
     "text": [
      "16/16 [==============================] - 0s 1ms/step\n"
     ]
    },
    {
     "data": {
      "image/png": "[encoded data removed]",
      "text/plain": [
       "<Figure size 1152x360 with 1 Axes>"
      ]
     },
     "metadata": {
      "needs_background": "light"
     },
     "output_type": "display_data"
    },
    {
     "data": {
      "text/plain": [
       "(     Predictions  Actuals\n",
       " 0      91.281036  91.4921\n",
       " 1      91.377777  91.5775\n",
       " 2      91.472801  91.6546\n",
       " 3      91.561340  91.7333\n",
       " 4      91.644936  91.7912\n",
       " ..           ...      ...\n",
       " 495    79.252167  79.4696\n",
       " 496    79.359177  80.0721\n",
       " 497    79.566071  80.4046\n",
       " 498    79.886284  80.6565\n",
       " 499    80.264435  80.8423\n",
       " \n",
       " [500 rows x 2 columns],\n",
       " 0.1997691113039774)"
      ]
     },
     "execution_count": 41,
     "metadata": {},
     "output_type": "execute_result"
    }
   ],
   "source": [
    "model3 = load_model('meremodel3/')\n",
    "plot_predictions1(model3, X_test, y_test)"
   ]
  },
  {
   "cell_type": "markdown",
   "id": "c1bedd78",
   "metadata": {},
   "source": [
    "## Multivariate tutorial\n",
    "\n",
    "both of these tutorials skip basically all explanation; I need to go through Marcos' notebooks and whatnot, but below is following the second one listed above. [This one](https://www.youtube.com/watch?v=kGdbPnMCdOg) starting around 17 minutes in (the first 17 minutes are doing the CNN and GRU above)"
   ]
  },
  {
   "cell_type": "code",
   "execution_count": 44,
   "id": "a2e4a8e3",
   "metadata": {},
   "outputs": [
    {
     "data": {
      "text/plain": [
       "date\n",
       "2006-02-07    91.0100\n",
       "2006-02-08    91.0429\n",
       "2006-02-09    91.1096\n",
       "2006-02-10    91.1954\n",
       "2006-02-11    91.3012\n",
       "               ...   \n",
       "2018-06-02    79.4696\n",
       "2018-06-03    80.0721\n",
       "2018-06-04    80.4046\n",
       "2018-06-05    80.6565\n",
       "2018-06-06    80.8423\n",
       "Name: avg_well_depth, Length: 4503, dtype: float64"
      ]
     },
     "execution_count": 44,
     "metadata": {},
     "output_type": "execute_result"
    }
   ],
   "source": [
    "# recall the average well measurements are stored in well\n",
    "well"
   ]
  },
  {
   "cell_type": "code",
   "execution_count": 46,
   "id": "f848ba25",
   "metadata": {},
   "outputs": [
    {
     "data": {
      "text/html": [
       "<div>\n",
       "<style scoped>\n",
       "    .dataframe tbody tr th:only-of-type {\n",
       "        vertical-align: middle;\n",
       "    }\n",
       "\n",
       "    .dataframe tbody tr th {\n",
       "        vertical-align: top;\n",
       "    }\n",
       "\n",
       "    .dataframe thead th {\n",
       "        text-align: right;\n",
       "    }\n",
       "</style>\n",
       "<table border=\"1\" class=\"dataframe\">\n",
       "  <thead>\n",
       "    <tr style=\"text-align: right;\">\n",
       "      <th></th>\n",
       "      <th>avg_well_depth</th>\n",
       "      <th>Seconds</th>\n",
       "    </tr>\n",
       "    <tr>\n",
       "      <th>date</th>\n",
       "      <th></th>\n",
       "      <th></th>\n",
       "    </tr>\n",
       "  </thead>\n",
       "  <tbody>\n",
       "    <tr>\n",
       "      <th>2006-02-07</th>\n",
       "      <td>91.0100</td>\n",
       "      <td>1.139270e+09</td>\n",
       "    </tr>\n",
       "    <tr>\n",
       "      <th>2006-02-08</th>\n",
       "      <td>91.0429</td>\n",
       "      <td>1.139357e+09</td>\n",
       "    </tr>\n",
       "    <tr>\n",
       "      <th>2006-02-09</th>\n",
       "      <td>91.1096</td>\n",
       "      <td>1.139443e+09</td>\n",
       "    </tr>\n",
       "    <tr>\n",
       "      <th>2006-02-10</th>\n",
       "      <td>91.1954</td>\n",
       "      <td>1.139530e+09</td>\n",
       "    </tr>\n",
       "    <tr>\n",
       "      <th>2006-02-11</th>\n",
       "      <td>91.3012</td>\n",
       "      <td>1.139616e+09</td>\n",
       "    </tr>\n",
       "    <tr>\n",
       "      <th>...</th>\n",
       "      <td>...</td>\n",
       "      <td>...</td>\n",
       "    </tr>\n",
       "    <tr>\n",
       "      <th>2018-06-02</th>\n",
       "      <td>79.4696</td>\n",
       "      <td>1.527898e+09</td>\n",
       "    </tr>\n",
       "    <tr>\n",
       "      <th>2018-06-03</th>\n",
       "      <td>80.0721</td>\n",
       "      <td>1.527984e+09</td>\n",
       "    </tr>\n",
       "    <tr>\n",
       "      <th>2018-06-04</th>\n",
       "      <td>80.4046</td>\n",
       "      <td>1.528070e+09</td>\n",
       "    </tr>\n",
       "    <tr>\n",
       "      <th>2018-06-05</th>\n",
       "      <td>80.6565</td>\n",
       "      <td>1.528157e+09</td>\n",
       "    </tr>\n",
       "    <tr>\n",
       "      <th>2018-06-06</th>\n",
       "      <td>80.8423</td>\n",
       "      <td>1.528243e+09</td>\n",
       "    </tr>\n",
       "  </tbody>\n",
       "</table>\n",
       "<p>4503 rows × 2 columns</p>\n",
       "</div>"
      ],
      "text/plain": [
       "            avg_well_depth       Seconds\n",
       "date                                    \n",
       "2006-02-07         91.0100  1.139270e+09\n",
       "2006-02-08         91.0429  1.139357e+09\n",
       "2006-02-09         91.1096  1.139443e+09\n",
       "2006-02-10         91.1954  1.139530e+09\n",
       "2006-02-11         91.3012  1.139616e+09\n",
       "...                    ...           ...\n",
       "2018-06-02         79.4696  1.527898e+09\n",
       "2018-06-03         80.0721  1.527984e+09\n",
       "2018-06-04         80.4046  1.528070e+09\n",
       "2018-06-05         80.6565  1.528157e+09\n",
       "2018-06-06         80.8423  1.528243e+09\n",
       "\n",
       "[4503 rows x 2 columns]"
      ]
     },
     "execution_count": 46,
     "metadata": {},
     "output_type": "execute_result"
    }
   ],
   "source": [
    "well_df = pd.DataFrame({'avg_well_depth':well})\n",
    "well_df['Seconds'] = well_df.index.map(pd.Timestamp.timestamp)\n",
    "well_df"
   ]
  },
  {
   "cell_type": "code",
   "execution_count": 47,
   "id": "621e35c1",
   "metadata": {},
   "outputs": [
    {
     "data": {
      "text/html": [
       "<div>\n",
       "<style scoped>\n",
       "    .dataframe tbody tr th:only-of-type {\n",
       "        vertical-align: middle;\n",
       "    }\n",
       "\n",
       "    .dataframe tbody tr th {\n",
       "        vertical-align: top;\n",
       "    }\n",
       "\n",
       "    .dataframe thead th {\n",
       "        text-align: right;\n",
       "    }\n",
       "</style>\n",
       "<table border=\"1\" class=\"dataframe\">\n",
       "  <thead>\n",
       "    <tr style=\"text-align: right;\">\n",
       "      <th></th>\n",
       "      <th>avg_well_depth</th>\n",
       "      <th>Year sin</th>\n",
       "      <th>Year cos</th>\n",
       "    </tr>\n",
       "    <tr>\n",
       "      <th>date</th>\n",
       "      <th></th>\n",
       "      <th></th>\n",
       "      <th></th>\n",
       "    </tr>\n",
       "  </thead>\n",
       "  <tbody>\n",
       "    <tr>\n",
       "      <th>2006-02-07</th>\n",
       "      <td>91.0100</td>\n",
       "      <td>0.598115</td>\n",
       "      <td>0.801410</td>\n",
       "    </tr>\n",
       "    <tr>\n",
       "      <th>2006-02-08</th>\n",
       "      <td>91.0429</td>\n",
       "      <td>0.611813</td>\n",
       "      <td>0.791003</td>\n",
       "    </tr>\n",
       "    <tr>\n",
       "      <th>2006-02-09</th>\n",
       "      <td>91.1096</td>\n",
       "      <td>0.625329</td>\n",
       "      <td>0.780361</td>\n",
       "    </tr>\n",
       "    <tr>\n",
       "      <th>2006-02-10</th>\n",
       "      <td>91.1954</td>\n",
       "      <td>0.638660</td>\n",
       "      <td>0.769489</td>\n",
       "    </tr>\n",
       "    <tr>\n",
       "      <th>2006-02-11</th>\n",
       "      <td>91.3012</td>\n",
       "      <td>0.651802</td>\n",
       "      <td>0.758389</td>\n",
       "    </tr>\n",
       "  </tbody>\n",
       "</table>\n",
       "</div>"
      ],
      "text/plain": [
       "            avg_well_depth  Year sin  Year cos\n",
       "date                                          \n",
       "2006-02-07         91.0100  0.598115  0.801410\n",
       "2006-02-08         91.0429  0.611813  0.791003\n",
       "2006-02-09         91.1096  0.625329  0.780361\n",
       "2006-02-10         91.1954  0.638660  0.769489\n",
       "2006-02-11         91.3012  0.651802  0.758389"
      ]
     },
     "execution_count": 47,
     "metadata": {},
     "output_type": "execute_result"
    }
   ],
   "source": [
    "day = 60*60*24\n",
    "year = 365.2425*day\n",
    "\n",
    "well_df['Year sin'] = np.sin(well_df['Seconds'] * (2 * np.pi / year))\n",
    "well_df['Year cos'] = np.cos(well_df['Seconds'] * (2 * np.pi / year))\n",
    "\n",
    "well_df = well_df.drop('Seconds', axis=1)\n",
    "well_df.head()"
   ]
  },
  {
   "cell_type": "code",
   "execution_count": 54,
   "id": "74d10928",
   "metadata": {},
   "outputs": [
    {
     "data": {
      "text/html": [
       "<div>\n",
       "<style scoped>\n",
       "    .dataframe tbody tr th:only-of-type {\n",
       "        vertical-align: middle;\n",
       "    }\n",
       "\n",
       "    .dataframe tbody tr th {\n",
       "        vertical-align: top;\n",
       "    }\n",
       "\n",
       "    .dataframe thead th {\n",
       "        text-align: right;\n",
       "    }\n",
       "</style>\n",
       "<table border=\"1\" class=\"dataframe\">\n",
       "  <thead>\n",
       "    <tr style=\"text-align: right;\">\n",
       "      <th></th>\n",
       "      <th>avg_well_depth</th>\n",
       "      <th>Year sin</th>\n",
       "      <th>Year cos</th>\n",
       "      <th>gage_ht</th>\n",
       "      <th>prcp</th>\n",
       "    </tr>\n",
       "    <tr>\n",
       "      <th>date</th>\n",
       "      <th></th>\n",
       "      <th></th>\n",
       "      <th></th>\n",
       "      <th></th>\n",
       "      <th></th>\n",
       "    </tr>\n",
       "  </thead>\n",
       "  <tbody>\n",
       "    <tr>\n",
       "      <th>2006-02-07</th>\n",
       "      <td>91.0100</td>\n",
       "      <td>0.598115</td>\n",
       "      <td>0.801410</td>\n",
       "      <td>21.65</td>\n",
       "      <td>0.0</td>\n",
       "    </tr>\n",
       "    <tr>\n",
       "      <th>2006-02-08</th>\n",
       "      <td>91.0429</td>\n",
       "      <td>0.611813</td>\n",
       "      <td>0.791003</td>\n",
       "      <td>21.64</td>\n",
       "      <td>0.0</td>\n",
       "    </tr>\n",
       "    <tr>\n",
       "      <th>2006-02-09</th>\n",
       "      <td>91.1096</td>\n",
       "      <td>0.625329</td>\n",
       "      <td>0.780361</td>\n",
       "      <td>21.58</td>\n",
       "      <td>0.0</td>\n",
       "    </tr>\n",
       "    <tr>\n",
       "      <th>2006-02-10</th>\n",
       "      <td>91.1954</td>\n",
       "      <td>0.638660</td>\n",
       "      <td>0.769489</td>\n",
       "      <td>21.46</td>\n",
       "      <td>0.0</td>\n",
       "    </tr>\n",
       "    <tr>\n",
       "      <th>2006-02-11</th>\n",
       "      <td>91.3012</td>\n",
       "      <td>0.651802</td>\n",
       "      <td>0.758389</td>\n",
       "      <td>21.36</td>\n",
       "      <td>0.0</td>\n",
       "    </tr>\n",
       "  </tbody>\n",
       "</table>\n",
       "</div>"
      ],
      "text/plain": [
       "            avg_well_depth  Year sin  Year cos  gage_ht  prcp\n",
       "date                                                         \n",
       "2006-02-07         91.0100  0.598115  0.801410    21.65   0.0\n",
       "2006-02-08         91.0429  0.611813  0.791003    21.64   0.0\n",
       "2006-02-09         91.1096  0.625329  0.780361    21.58   0.0\n",
       "2006-02-10         91.1954  0.638660  0.769489    21.46   0.0\n",
       "2006-02-11         91.3012  0.651802  0.758389    21.36   0.0"
      ]
     },
     "execution_count": 54,
     "metadata": {},
     "output_type": "execute_result"
    }
   ],
   "source": [
    "well_df['gage_ht'] = df.gage_ht.values\n",
    "well_df['prcp'] = df.prcp.values\n",
    "well_df.head()"
   ]
  },
  {
   "cell_type": "code",
   "execution_count": 65,
   "id": "e50ab6fb",
   "metadata": {},
   "outputs": [],
   "source": [
    "def df_to_X_y_multi(df, window_size=6):\n",
    "    df_as_np = df.to_numpy()\n",
    "    X = []\n",
    "    y = []\n",
    "    for i in range(len(df_as_np)-window_size):\n",
    "        row = [a for a in df_as_np[i:i+window_size]]\n",
    "        X.append(row)\n",
    "        label = df_as_np[i+window_size][0]\n",
    "        y.append(label)\n",
    "    return np.array(X), np.array(y)"
   ]
  },
  {
   "cell_type": "code",
   "execution_count": 66,
   "id": "4e943c4a",
   "metadata": {},
   "outputs": [
    {
     "data": {
      "text/plain": [
       "((4497, 6, 5), (4497,))"
      ]
     },
     "execution_count": 66,
     "metadata": {},
     "output_type": "execute_result"
    }
   ],
   "source": [
    "X2, y2 = df_to_X_y_multi(well_df)\n",
    "X2.shape, y2.shape"
   ]
  },
  {
   "cell_type": "markdown",
   "id": "85599769",
   "metadata": {},
   "source": [
    "### Train Test Split"
   ]
  },
  {
   "cell_type": "code",
   "execution_count": 68,
   "id": "a807db74",
   "metadata": {},
   "outputs": [
    {
     "data": {
      "text/plain": [
       "((3497, 6, 5), (3497,), (500, 6, 5), (500,), (500, 6, 5), (500,))"
      ]
     },
     "execution_count": 68,
     "metadata": {},
     "output_type": "execute_result"
    }
   ],
   "source": [
    "X2_train, y2_train = X2[:3497], y2[:3497]\n",
    "X2_val, y2_val = X2[3497:3997], y2[3497:3997]\n",
    "X2_test, y2_test = X2[3997:], y2[3997:]\n",
    "X2_train.shape, y2_train.shape, X2_val.shape, y2_val.shape, X2_test.shape, y2_test.shape"
   ]
  },
  {
   "cell_type": "markdown",
   "id": "257868f1",
   "metadata": {},
   "source": [
    "### Scaling"
   ]
  },
  {
   "cell_type": "code",
   "execution_count": null,
   "id": "7356d636",
   "metadata": {},
   "outputs": [],
   "source": []
  }
 ],
 "metadata": {
  "kernelspec": {
   "display_name": "Python 3 (ipykernel)",
   "language": "python",
   "name": "python3"
  },
  "language_info": {
   "codemirror_mode": {
    "name": "ipython",
    "version": 3
   },
   "file_extension": ".py",
   "mimetype": "text/x-python",
   "name": "python",
   "nbconvert_exporter": "python",
   "pygments_lexer": "ipython3",
   "version": "3.10.9"
  }
 },
 "nbformat": 4,
 "nbformat_minor": 5
}

{
 "cells": [
  {
   "cell_type": "code",
   "execution_count": 1,
   "id": "a9cee0ea-d711-4b64-9fa2-4617788ab74a",
   "metadata": {},
   "outputs": [],
   "source": [
    "import sys\n",
    "sys.path.insert(0, '../')\n",
    "from gw_tools.gw_plot import gw_plot\n",
    "from gw_tools import data_prep\n",
    "from gw_tools.gw_cnn import gw_cnn\n",
    "import datetime\n",
    "import IPython\n",
    "import IPython.display\n",
    "import numpy as np\n",
    "import pandas as pd\n",
    "from sklearn.model_selection import TimeSeriesSplit\n",
    "from sklearn.model_selection import GridSearchCV\n",
    "from sklearn.pipeline import Pipeline\n",
    "from sklearn.preprocessing import StandardScaler"
   ]
  },
  {
   "cell_type": "code",
   "execution_count": 2,
   "id": "3db6df31-d817-4d7c-bcb9-9b983c4ac394",
   "metadata": {},
   "outputs": [],
   "source": [
    "df = data_prep.load_data('AEK201')\n",
    "df = data_prep.select_features(df)\n",
    "df = data_prep.add_toy_signal(df)\n",
    "X_train, X_holdout, y_train, y_holdout, dt_train, dt_holdout = data_prep.prep_data_for_training(df)"
   ]
  },
  {
   "cell_type": "code",
   "execution_count": 3,
   "id": "ba3284df-62f9-4e63-955a-55cb4f8a24b4",
   "metadata": {},
   "outputs": [],
   "source": [
    "## Prepare the pipeline\n",
    "scaler =  StandardScaler(copy=True)\n",
    "gw_cnn = gw_cnn()\n",
    "\n",
    "pipe = Pipeline([('scaler', scaler), \n",
    "                     ('gw_cnn', gw_cnn)])"
   ]
  },
  {
   "cell_type": "code",
   "execution_count": 4,
   "id": "cfa3a942-d474-4b69-8f80-f99ef9c6a165",
   "metadata": {},
   "outputs": [],
   "source": [
    "## Set hyperparameter grid\n",
    "parameters = {'gw_cnn__BATCH_SIZE': [32],\n",
    "                 'gw_cnn__C1_FILTERS': [16, 32, 64],\n",
    "                 'gw_cnn__C1_KERNEL': [3, 6, 9],\n",
    "                 'gw_cnn__C1_LAYER': [True],\n",
    "                 'gw_cnn__C2_FILTERS': [32, 64, 128],\n",
    "                 'gw_cnn__C2_KERNEL': [6, 9, 12],\n",
    "                 'gw_cnn__C2_LAYER': [True, False],\n",
    "                 'gw_cnn__C3_FILTERS': [64, 128, 256],\n",
    "                 'gw_cnn__C3_KERNEL': [6, 9, 12],\n",
    "                 'gw_cnn__C3_LAYER': [True, False],\n",
    "                 'gw_cnn__D_MAX_LAYERS': [3, 10],\n",
    "                 'gw_cnn__D_MIN_UNITS': [5],\n",
    "                 'gw_cnn__D_TOP_UNITS': [50, 300, 2000],\n",
    "                 'gw_cnn__D_UNIT_SCALE': [0.2, .4, .6, 0.8],\n",
    "                 'gw_cnn__EPOCHS': [15],\n",
    "                 'gw_cnn__LEARNING_RATE': [0.001, 0.0005],\n",
    "                 'gw_cnn__STOP_DELTA': [0.5]}"
   ]
  },
  {
   "cell_type": "code",
   "execution_count": null,
   "id": "64e9c478-af46-4570-ab17-34a1798ae682",
   "metadata": {},
   "outputs": [
    {
     "name": "stdout",
     "output_type": "stream",
     "text": [
      "Epoch 1/15\n"
     ]
    },
    {
     "name": "stderr",
     "output_type": "stream",
     "text": [
      "2023-11-12 12:28:31.193594: I metal_plugin/src/device/metal_device.cc:1154] Metal device set to: Apple M2 Max\n",
      "2023-11-12 12:28:31.193615: I metal_plugin/src/device/metal_device.cc:296] systemMemory: 64.00 GB\n",
      "2023-11-12 12:28:31.193622: I metal_plugin/src/device/metal_device.cc:313] maxCacheSize: 24.00 GB\n",
      "2023-11-12 12:28:31.193657: I tensorflow/core/common_runtime/pluggable_device/pluggable_device_factory.cc:303] Could not identify NUMA node of platform GPU ID 0, defaulting to 0. Your kernel may not have been built with NUMA support.\n",
      "2023-11-12 12:28:31.193671: I tensorflow/core/common_runtime/pluggable_device/pluggable_device_factory.cc:269] Created TensorFlow device (/job:localhost/replica:0/task:0/device:GPU:0 with 0 MB memory) -> physical PluggableDevice (device: 0, name: METAL, pci bus id: <undefined>)\n"
     ]
    },
    {
     "name": "stdout",
     "output_type": "stream",
     "text": [
      " 1/90 [..............................] - ETA: 28s - loss: 4547.5220"
     ]
    },
    {
     "name": "stderr",
     "output_type": "stream",
     "text": [
      "2023-11-12 12:28:31.503986: I tensorflow/core/grappler/optimizers/custom_graph_optimizer_registry.cc:114] Plugin optimizer for device_type GPU is enabled.\n"
     ]
    },
    {
     "name": "stdout",
     "output_type": "stream",
     "text": [
      "90/90 [==============================] - 1s 5ms/step - loss: 1109.6342\n",
      "Epoch 2/15\n",
      "90/90 [==============================] - 0s 4ms/step - loss: 93.8252\n",
      "Epoch 3/15\n",
      "90/90 [==============================] - 0s 4ms/step - loss: 43.6420\n",
      "Epoch 4/15\n",
      "90/90 [==============================] - 0s 5ms/step - loss: 13.8858\n",
      "Epoch 5/15\n",
      "90/90 [==============================] - 0s 4ms/step - loss: 4.2384\n",
      "Epoch 6/15\n",
      "90/90 [==============================] - 0s 4ms/step - loss: 1.8594\n",
      "Epoch 7/15\n",
      "90/90 [==============================] - 0s 4ms/step - loss: 1.2837\n",
      "Epoch 8/15\n",
      "90/90 [==============================] - 0s 4ms/step - loss: 0.9718\n",
      "Epoch 9/15\n",
      "90/90 [==============================] - 0s 4ms/step - loss: 0.8285\n",
      "Epoch 10/15\n",
      "90/90 [==============================] - 0s 4ms/step - loss: 0.7381\n",
      "Epoch 11/15\n",
      "90/90 [==============================] - 0s 4ms/step - loss: 0.6619\n",
      "Epoch 12/15\n",
      "90/90 [==============================] - 0s 5ms/step - loss: 0.5814\n",
      "Epoch 13/15\n",
      "90/90 [==============================] - 0s 4ms/step - loss: 0.6660\n",
      "Epoch 14/15\n",
      "90/90 [==============================] - 0s 4ms/step - loss: 0.5383\n",
      "12/12 [==============================] - 0s 3ms/step\n",
      "Epoch 1/15\n"
     ]
    },
    {
     "name": "stderr",
     "output_type": "stream",
     "text": [
      "2023-11-12 12:28:37.389028: I tensorflow/core/grappler/optimizers/custom_graph_optimizer_registry.cc:114] Plugin optimizer for device_type GPU is enabled.\n"
     ]
    },
    {
     "name": "stdout",
     "output_type": "stream",
     "text": [
      " 10/101 [=>............................] - ETA: 0s - loss: 4263.0469 "
     ]
    },
    {
     "name": "stderr",
     "output_type": "stream",
     "text": [
      "2023-11-12 12:28:37.675684: I tensorflow/core/grappler/optimizers/custom_graph_optimizer_registry.cc:114] Plugin optimizer for device_type GPU is enabled.\n"
     ]
    },
    {
     "name": "stdout",
     "output_type": "stream",
     "text": [
      "101/101 [==============================] - 1s 5ms/step - loss: 980.8738\n",
      "Epoch 2/15\n",
      "101/101 [==============================] - 0s 4ms/step - loss: 74.6653\n",
      "Epoch 3/15\n",
      "101/101 [==============================] - 0s 4ms/step - loss: 26.3598\n",
      "Epoch 4/15\n",
      "101/101 [==============================] - 0s 4ms/step - loss: 5.9063\n",
      "Epoch 5/15\n",
      "101/101 [==============================] - 0s 4ms/step - loss: 2.1651\n",
      "Epoch 6/15\n",
      "101/101 [==============================] - 0s 4ms/step - loss: 1.4367\n",
      "Epoch 7/15\n",
      "101/101 [==============================] - 0s 5ms/step - loss: 1.1180\n",
      "Epoch 8/15\n",
      "101/101 [==============================] - 0s 5ms/step - loss: 0.9752\n",
      "Epoch 9/15\n",
      "101/101 [==============================] - 0s 4ms/step - loss: 0.7814\n",
      "Epoch 10/15\n",
      "101/101 [==============================] - 0s 4ms/step - loss: 0.7242\n",
      "Epoch 11/15\n",
      "101/101 [==============================] - 0s 4ms/step - loss: 0.7373\n",
      "Epoch 12/15\n",
      "101/101 [==============================] - 0s 4ms/step - loss: 0.6188\n",
      "Epoch 13/15\n",
      "101/101 [==============================] - 0s 4ms/step - loss: 0.5832\n",
      "12/12 [==============================] - 0s 3ms/step\n",
      "Epoch 1/15\n"
     ]
    },
    {
     "name": "stderr",
     "output_type": "stream",
     "text": [
      "2023-11-12 12:28:43.718069: I tensorflow/core/grappler/optimizers/custom_graph_optimizer_registry.cc:114] Plugin optimizer for device_type GPU is enabled.\n"
     ]
    },
    {
     "name": "stdout",
     "output_type": "stream",
     "text": [
      " 11/112 [=>............................] - ETA: 0s - loss: 4221.4180 "
     ]
    },
    {
     "name": "stderr",
     "output_type": "stream",
     "text": [
      "2023-11-12 12:28:44.034631: I tensorflow/core/grappler/optimizers/custom_graph_optimizer_registry.cc:114] Plugin optimizer for device_type GPU is enabled.\n"
     ]
    },
    {
     "name": "stdout",
     "output_type": "stream",
     "text": [
      "112/112 [==============================] - 1s 5ms/step - loss: 905.5750\n",
      "Epoch 2/15\n",
      "112/112 [==============================] - 0s 4ms/step - loss: 67.2498\n",
      "Epoch 3/15\n",
      "112/112 [==============================] - 0s 4ms/step - loss: 21.3928\n",
      "Epoch 4/15\n",
      "112/112 [==============================] - 0s 4ms/step - loss: 5.8600\n",
      "Epoch 5/15\n",
      "112/112 [==============================] - 1s 5ms/step - loss: 2.4132\n",
      "Epoch 6/15\n",
      "112/112 [==============================] - 1s 4ms/step - loss: 1.6022\n",
      "Epoch 7/15\n",
      "112/112 [==============================] - 0s 4ms/step - loss: 1.2091\n",
      "Epoch 8/15\n",
      "112/112 [==============================] - 0s 4ms/step - loss: 0.9458\n",
      "Epoch 9/15\n",
      "112/112 [==============================] - 0s 4ms/step - loss: 0.8671\n",
      "Epoch 10/15\n",
      "112/112 [==============================] - 0s 4ms/step - loss: 0.7073\n",
      "Epoch 11/15\n",
      "112/112 [==============================] - 0s 4ms/step - loss: 0.7544\n",
      "Epoch 12/15\n",
      "112/112 [==============================] - 0s 4ms/step - loss: 0.6227\n",
      "12/12 [==============================] - 0s 3ms/step\n",
      "Epoch 1/15\n"
     ]
    },
    {
     "name": "stderr",
     "output_type": "stream",
     "text": [
      "2023-11-12 12:28:50.240868: I tensorflow/core/grappler/optimizers/custom_graph_optimizer_registry.cc:114] Plugin optimizer for device_type GPU is enabled.\n"
     ]
    },
    {
     "name": "stdout",
     "output_type": "stream",
     "text": [
      "10/90 [==>...........................] - ETA: 0s - loss: 4353.2905 "
     ]
    },
    {
     "name": "stderr",
     "output_type": "stream",
     "text": [
      "2023-11-12 12:28:50.524163: I tensorflow/core/grappler/optimizers/custom_graph_optimizer_registry.cc:114] Plugin optimizer for device_type GPU is enabled.\n"
     ]
    },
    {
     "name": "stdout",
     "output_type": "stream",
     "text": [
      "90/90 [==============================] - 1s 5ms/step - loss: 1760.6934\n",
      "Epoch 2/15\n",
      "90/90 [==============================] - 0s 4ms/step - loss: 133.7334\n",
      "Epoch 3/15\n",
      "90/90 [==============================] - 0s 4ms/step - loss: 80.1459\n",
      "Epoch 4/15\n",
      "90/90 [==============================] - 0s 4ms/step - loss: 45.5894\n",
      "Epoch 5/15\n",
      "90/90 [==============================] - 0s 5ms/step - loss: 23.7740\n",
      "Epoch 6/15\n",
      "90/90 [==============================] - 0s 4ms/step - loss: 12.1520\n",
      "Epoch 7/15\n",
      "90/90 [==============================] - 0s 4ms/step - loss: 5.8517\n",
      "Epoch 8/15\n",
      "90/90 [==============================] - 0s 4ms/step - loss: 3.2959\n",
      "Epoch 9/15\n",
      "90/90 [==============================] - 0s 4ms/step - loss: 2.3199\n",
      "Epoch 10/15\n",
      "90/90 [==============================] - 0s 4ms/step - loss: 1.6755\n",
      "Epoch 11/15\n",
      "90/90 [==============================] - 0s 4ms/step - loss: 1.3571\n",
      "Epoch 12/15\n",
      "90/90 [==============================] - 0s 4ms/step - loss: 1.0493\n",
      "Epoch 13/15\n",
      "90/90 [==============================] - 0s 4ms/step - loss: 0.9168\n",
      "Epoch 14/15\n",
      "90/90 [==============================] - 0s 4ms/step - loss: 0.7771\n",
      "Epoch 15/15\n",
      "90/90 [==============================] - 0s 4ms/step - loss: 0.7169\n",
      "12/12 [==============================] - 0s 3ms/step\n",
      "Epoch 1/15\n"
     ]
    },
    {
     "name": "stderr",
     "output_type": "stream",
     "text": [
      "2023-11-12 12:28:56.709845: I tensorflow/core/grappler/optimizers/custom_graph_optimizer_registry.cc:114] Plugin optimizer for device_type GPU is enabled.\n"
     ]
    },
    {
     "name": "stdout",
     "output_type": "stream",
     "text": [
      " 10/101 [=>............................] - ETA: 0s - loss: 4384.9155 "
     ]
    },
    {
     "name": "stderr",
     "output_type": "stream",
     "text": [
      "2023-11-12 12:28:57.006740: I tensorflow/core/grappler/optimizers/custom_graph_optimizer_registry.cc:114] Plugin optimizer for device_type GPU is enabled.\n"
     ]
    },
    {
     "name": "stdout",
     "output_type": "stream",
     "text": [
      "101/101 [==============================] - 1s 5ms/step - loss: 1585.7094\n",
      "Epoch 2/15\n",
      "101/101 [==============================] - 0s 4ms/step - loss: 120.5380\n",
      "Epoch 3/15\n",
      "101/101 [==============================] - 0s 4ms/step - loss: 71.1724\n",
      "Epoch 4/15\n",
      "101/101 [==============================] - 0s 4ms/step - loss: 35.1713\n",
      "Epoch 5/15\n",
      "101/101 [==============================] - 0s 4ms/step - loss: 14.5468\n",
      "Epoch 6/15\n",
      "101/101 [==============================] - 0s 4ms/step - loss: 5.7267\n",
      "Epoch 7/15\n",
      "101/101 [==============================] - 0s 4ms/step - loss: 2.5858\n",
      "Epoch 8/15\n",
      "101/101 [==============================] - 0s 4ms/step - loss: 1.7395\n",
      "Epoch 9/15\n",
      "101/101 [==============================] - 0s 4ms/step - loss: 1.3276\n",
      "Epoch 10/15\n",
      "101/101 [==============================] - 0s 4ms/step - loss: 1.1039\n",
      "Epoch 11/15\n",
      "101/101 [==============================] - 0s 4ms/step - loss: 0.9474\n",
      "Epoch 12/15\n",
      "101/101 [==============================] - 0s 4ms/step - loss: 0.8120\n",
      "Epoch 13/15\n",
      "101/101 [==============================] - 0s 4ms/step - loss: 0.6896\n",
      "Epoch 14/15\n",
      "101/101 [==============================] - 0s 4ms/step - loss: 0.6568\n",
      "12/12 [==============================] - 0s 3ms/step\n",
      "Epoch 1/15\n"
     ]
    },
    {
     "name": "stderr",
     "output_type": "stream",
     "text": [
      "2023-11-12 12:29:03.421774: I tensorflow/core/grappler/optimizers/custom_graph_optimizer_registry.cc:114] Plugin optimizer for device_type GPU is enabled.\n"
     ]
    },
    {
     "name": "stdout",
     "output_type": "stream",
     "text": [
      " 10/112 [=>............................] - ETA: 0s - loss: 4373.1768 "
     ]
    },
    {
     "name": "stderr",
     "output_type": "stream",
     "text": [
      "2023-11-12 12:29:03.716240: I tensorflow/core/grappler/optimizers/custom_graph_optimizer_registry.cc:114] Plugin optimizer for device_type GPU is enabled.\n"
     ]
    },
    {
     "name": "stdout",
     "output_type": "stream",
     "text": [
      "112/112 [==============================] - 1s 5ms/step - loss: 1473.9651\n",
      "Epoch 2/15\n",
      "112/112 [==============================] - 0s 4ms/step - loss: 108.5192\n",
      "Epoch 3/15\n",
      "112/112 [==============================] - 0s 4ms/step - loss: 58.6893\n",
      "Epoch 4/15\n",
      "112/112 [==============================] - 0s 4ms/step - loss: 24.4728\n",
      "Epoch 5/15\n",
      "112/112 [==============================] - 0s 4ms/step - loss: 8.4315\n",
      "Epoch 6/15\n",
      "112/112 [==============================] - 0s 4ms/step - loss: 3.2029\n",
      "Epoch 7/15\n",
      "112/112 [==============================] - 0s 4ms/step - loss: 1.7672\n",
      "Epoch 8/15\n",
      "112/112 [==============================] - 0s 4ms/step - loss: 1.2692\n",
      "Epoch 9/15\n",
      "112/112 [==============================] - 0s 4ms/step - loss: 1.0245\n",
      "Epoch 10/15\n",
      "112/112 [==============================] - 0s 4ms/step - loss: 0.9120\n",
      "Epoch 11/15\n",
      "112/112 [==============================] - 0s 4ms/step - loss: 0.7868\n",
      "Epoch 12/15\n",
      "112/112 [==============================] - 0s 4ms/step - loss: 0.6675\n",
      "Epoch 13/15\n",
      "112/112 [==============================] - 0s 4ms/step - loss: 0.6189\n",
      "12/12 [==============================] - 0s 2ms/step\n",
      "Epoch 1/15\n"
     ]
    },
    {
     "name": "stderr",
     "output_type": "stream",
     "text": [
      "2023-11-12 12:29:10.337558: I tensorflow/core/grappler/optimizers/custom_graph_optimizer_registry.cc:114] Plugin optimizer for device_type GPU is enabled.\n"
     ]
    },
    {
     "name": "stdout",
     "output_type": "stream",
     "text": [
      " 9/90 [==>...........................] - ETA: 0s - loss: 4330.3081 "
     ]
    },
    {
     "name": "stderr",
     "output_type": "stream",
     "text": [
      "2023-11-12 12:29:10.653798: I tensorflow/core/grappler/optimizers/custom_graph_optimizer_registry.cc:114] Plugin optimizer for device_type GPU is enabled.\n"
     ]
    },
    {
     "name": "stdout",
     "output_type": "stream",
     "text": [
      "90/90 [==============================] - 1s 7ms/step - loss: 1156.2837\n",
      "Epoch 2/15\n",
      "90/90 [==============================] - 0s 5ms/step - loss: 79.4380\n",
      "Epoch 3/15\n",
      "90/90 [==============================] - 0s 5ms/step - loss: 30.7093\n",
      "Epoch 4/15\n",
      "90/90 [==============================] - 0s 5ms/step - loss: 11.2115\n",
      "Epoch 5/15\n",
      "90/90 [==============================] - 0s 5ms/step - loss: 5.3464\n",
      "Epoch 6/15\n",
      "90/90 [==============================] - 0s 5ms/step - loss: 2.9766\n",
      "Epoch 7/15\n",
      "90/90 [==============================] - 0s 5ms/step - loss: 1.7914\n",
      "Epoch 8/15\n",
      "90/90 [==============================] - 0s 5ms/step - loss: 1.2469\n",
      "Epoch 9/15\n",
      "90/90 [==============================] - 0s 5ms/step - loss: 1.0794\n",
      "Epoch 10/15\n",
      "90/90 [==============================] - 0s 5ms/step - loss: 0.8496\n",
      "Epoch 11/15\n",
      "90/90 [==============================] - 0s 5ms/step - loss: 0.7204\n",
      "Epoch 12/15\n",
      "90/90 [==============================] - 0s 5ms/step - loss: 0.6944\n",
      "Epoch 13/15\n",
      "90/90 [==============================] - 0s 5ms/step - loss: 0.6213\n",
      "Epoch 14/15\n",
      "90/90 [==============================] - 0s 5ms/step - loss: 0.6114\n",
      "Epoch 15/15\n",
      "90/90 [==============================] - 0s 5ms/step - loss: 0.5658\n",
      "12/12 [==============================] - 0s 4ms/step\n"
     ]
    },
    {
     "name": "stderr",
     "output_type": "stream",
     "text": [
      "2023-11-12 12:29:17.648342: I tensorflow/core/grappler/optimizers/custom_graph_optimizer_registry.cc:114] Plugin optimizer for device_type GPU is enabled.\n"
     ]
    },
    {
     "name": "stdout",
     "output_type": "stream",
     "text": [
      "Epoch 1/15\n",
      "  9/101 [=>............................] - ETA: 0s - loss: 4372.1196 "
     ]
    },
    {
     "name": "stderr",
     "output_type": "stream",
     "text": [
      "2023-11-12 12:29:17.987205: I tensorflow/core/grappler/optimizers/custom_graph_optimizer_registry.cc:114] Plugin optimizer for device_type GPU is enabled.\n"
     ]
    },
    {
     "name": "stdout",
     "output_type": "stream",
     "text": [
      "101/101 [==============================] - 1s 7ms/step - loss: 1054.7346\n",
      "Epoch 2/15\n",
      "101/101 [==============================] - 0s 5ms/step - loss: 71.6471\n",
      "Epoch 3/15\n",
      "101/101 [==============================] - 0s 5ms/step - loss: 26.2562\n",
      "Epoch 4/15\n",
      "101/101 [==============================] - 0s 5ms/step - loss: 8.5818\n",
      "Epoch 5/15\n",
      "101/101 [==============================] - 1s 5ms/step - loss: 3.5608\n",
      "Epoch 6/15\n",
      "101/101 [==============================] - 0s 5ms/step - loss: 2.0162\n",
      "Epoch 7/15\n",
      "101/101 [==============================] - 0s 5ms/step - loss: 1.3251\n",
      "Epoch 8/15\n",
      "101/101 [==============================] - 0s 5ms/step - loss: 1.0891\n",
      "Epoch 9/15\n",
      "101/101 [==============================] - 0s 5ms/step - loss: 0.8305\n",
      "Epoch 10/15\n",
      "101/101 [==============================] - 0s 5ms/step - loss: 0.7035\n",
      "Epoch 11/15\n",
      "101/101 [==============================] - 0s 5ms/step - loss: 0.7619\n",
      "Epoch 12/15\n",
      "101/101 [==============================] - 0s 5ms/step - loss: 0.5800\n",
      "Epoch 13/15\n",
      "101/101 [==============================] - 0s 5ms/step - loss: 0.5732\n",
      "Epoch 14/15\n",
      "101/101 [==============================] - 0s 5ms/step - loss: 0.5176\n",
      "12/12 [==============================] - 0s 3ms/step\n",
      "Epoch 1/15\n"
     ]
    },
    {
     "name": "stderr",
     "output_type": "stream",
     "text": [
      "2023-11-12 12:29:25.203065: I tensorflow/core/grappler/optimizers/custom_graph_optimizer_registry.cc:114] Plugin optimizer for device_type GPU is enabled.\n"
     ]
    },
    {
     "name": "stdout",
     "output_type": "stream",
     "text": [
      "  9/112 [=>............................] - ETA: 0s - loss: 4366.8071 "
     ]
    },
    {
     "name": "stderr",
     "output_type": "stream",
     "text": [
      "2023-11-12 12:29:25.524534: I tensorflow/core/grappler/optimizers/custom_graph_optimizer_registry.cc:114] Plugin optimizer for device_type GPU is enabled.\n"
     ]
    },
    {
     "name": "stdout",
     "output_type": "stream",
     "text": [
      "112/112 [==============================] - 1s 6ms/step - loss: 972.0460\n",
      "Epoch 2/15\n",
      "112/112 [==============================] - 1s 5ms/step - loss: 63.4716\n",
      "Epoch 3/15\n",
      "112/112 [==============================] - 1s 5ms/step - loss: 16.1558\n",
      "Epoch 4/15\n",
      "112/112 [==============================] - 1s 5ms/step - loss: 3.7342\n",
      "Epoch 5/15\n",
      "112/112 [==============================] - 1s 5ms/step - loss: 1.8219\n",
      "Epoch 6/15\n",
      "112/112 [==============================] - 1s 5ms/step - loss: 1.1701\n",
      "Epoch 7/15\n",
      "112/112 [==============================] - 1s 5ms/step - loss: 0.8674\n",
      "Epoch 8/15\n",
      "112/112 [==============================] - 1s 5ms/step - loss: 0.7433\n",
      "Epoch 9/15\n",
      "112/112 [==============================] - 1s 5ms/step - loss: 0.7355\n",
      "Epoch 10/15\n",
      "112/112 [==============================] - 1s 5ms/step - loss: 0.6492\n",
      "Epoch 11/15\n",
      "112/112 [==============================] - 1s 5ms/step - loss: 0.6446\n",
      "Epoch 12/15\n",
      "112/112 [==============================] - 1s 5ms/step - loss: 0.5297\n",
      "Epoch 13/15\n",
      "112/112 [==============================] - 1s 5ms/step - loss: 0.5134\n",
      "Epoch 14/15\n",
      "112/112 [==============================] - 1s 5ms/step - loss: 0.5191\n",
      "12/12 [==============================] - 0s 3ms/step\n",
      "Epoch 1/15\n"
     ]
    },
    {
     "name": "stderr",
     "output_type": "stream",
     "text": [
      "2023-11-12 12:29:33.395024: I tensorflow/core/grappler/optimizers/custom_graph_optimizer_registry.cc:114] Plugin optimizer for device_type GPU is enabled.\n"
     ]
    },
    {
     "name": "stdout",
     "output_type": "stream",
     "text": [
      " 9/90 [==>...........................] - ETA: 0s - loss: 4396.3794 "
     ]
    },
    {
     "name": "stderr",
     "output_type": "stream",
     "text": [
      "2023-11-12 12:29:33.713092: I tensorflow/core/grappler/optimizers/custom_graph_optimizer_registry.cc:114] Plugin optimizer for device_type GPU is enabled.\n"
     ]
    },
    {
     "name": "stdout",
     "output_type": "stream",
     "text": [
      "90/90 [==============================] - 1s 6ms/step - loss: 1811.2057\n",
      "Epoch 2/15\n",
      "90/90 [==============================] - 0s 5ms/step - loss: 118.5538\n",
      "Epoch 3/15\n",
      "90/90 [==============================] - 0s 5ms/step - loss: 63.8429\n",
      "Epoch 4/15\n",
      "90/90 [==============================] - 0s 5ms/step - loss: 33.3689\n",
      "Epoch 5/15\n",
      "90/90 [==============================] - 0s 5ms/step - loss: 17.8047\n",
      "Epoch 6/15\n",
      "90/90 [==============================] - 0s 5ms/step - loss: 9.5694\n",
      "Epoch 7/15\n",
      "90/90 [==============================] - 0s 5ms/step - loss: 5.6301\n",
      "Epoch 8/15\n",
      "90/90 [==============================] - 0s 5ms/step - loss: 3.9630\n",
      "Epoch 9/15\n",
      "90/90 [==============================] - 0s 5ms/step - loss: 3.0234\n",
      "Epoch 10/15\n",
      "90/90 [==============================] - 0s 5ms/step - loss: 2.1203\n",
      "Epoch 11/15\n",
      "90/90 [==============================] - 0s 5ms/step - loss: 1.7186\n",
      "Epoch 12/15\n",
      "90/90 [==============================] - 0s 5ms/step - loss: 1.4130\n",
      "Epoch 13/15\n",
      "90/90 [==============================] - 0s 5ms/step - loss: 1.2103\n",
      "Epoch 14/15\n",
      "90/90 [==============================] - 0s 5ms/step - loss: 1.0118\n",
      "Epoch 15/15\n",
      "90/90 [==============================] - 0s 5ms/step - loss: 0.9096\n",
      "12/12 [==============================] - 0s 3ms/step\n",
      "Epoch 1/15\n"
     ]
    },
    {
     "name": "stderr",
     "output_type": "stream",
     "text": [
      "2023-11-12 12:29:40.435774: I tensorflow/core/grappler/optimizers/custom_graph_optimizer_registry.cc:114] Plugin optimizer for device_type GPU is enabled.\n"
     ]
    },
    {
     "name": "stdout",
     "output_type": "stream",
     "text": [
      "  1/101 [..............................] - ETA: 38s - loss: 4513.0117"
     ]
    },
    {
     "name": "stderr",
     "output_type": "stream",
     "text": [
      "2023-11-12 12:29:40.841570: I tensorflow/core/grappler/optimizers/custom_graph_optimizer_registry.cc:114] Plugin optimizer for device_type GPU is enabled.\n"
     ]
    },
    {
     "name": "stdout",
     "output_type": "stream",
     "text": [
      "101/101 [==============================] - 1s 5ms/step - loss: 1652.2980\n",
      "Epoch 2/15\n",
      "101/101 [==============================] - 0s 5ms/step - loss: 108.6784\n",
      "Epoch 3/15\n",
      "101/101 [==============================] - 0s 5ms/step - loss: 57.9846\n",
      "Epoch 4/15\n",
      "101/101 [==============================] - 1s 5ms/step - loss: 27.6209\n",
      "Epoch 5/15\n",
      "101/101 [==============================] - 0s 5ms/step - loss: 12.4224\n",
      "Epoch 6/15\n",
      "101/101 [==============================] - 0s 5ms/step - loss: 5.8445\n",
      "Epoch 7/15\n",
      "101/101 [==============================] - 0s 5ms/step - loss: 3.5910\n",
      "Epoch 8/15\n",
      "101/101 [==============================] - 0s 5ms/step - loss: 2.5095\n",
      "Epoch 9/15\n",
      "101/101 [==============================] - 0s 5ms/step - loss: 1.8233\n",
      "Epoch 10/15\n",
      "101/101 [==============================] - 0s 5ms/step - loss: 1.4548\n",
      "Epoch 11/15\n",
      "101/101 [==============================] - 1s 5ms/step - loss: 1.1727\n",
      "Epoch 12/15\n",
      "101/101 [==============================] - 0s 5ms/step - loss: 0.9712\n",
      "Epoch 13/15\n",
      "101/101 [==============================] - 0s 5ms/step - loss: 0.8993\n",
      "Epoch 14/15\n",
      "101/101 [==============================] - 1s 5ms/step - loss: 0.8011\n",
      "Epoch 15/15\n",
      "101/101 [==============================] - 0s 5ms/step - loss: 0.7619\n",
      "12/12 [==============================] - 0s 3ms/step\n"
     ]
    },
    {
     "name": "stderr",
     "output_type": "stream",
     "text": [
      "2023-11-12 12:29:48.471147: I tensorflow/core/grappler/optimizers/custom_graph_optimizer_registry.cc:114] Plugin optimizer for device_type GPU is enabled.\n"
     ]
    },
    {
     "name": "stdout",
     "output_type": "stream",
     "text": [
      "Epoch 1/15\n",
      "  1/112 [..............................] - ETA: 31s - loss: 4565.1445"
     ]
    },
    {
     "name": "stderr",
     "output_type": "stream",
     "text": [
      "2023-11-12 12:29:48.801930: I tensorflow/core/grappler/optimizers/custom_graph_optimizer_registry.cc:114] Plugin optimizer for device_type GPU is enabled.\n"
     ]
    },
    {
     "name": "stdout",
     "output_type": "stream",
     "text": [
      "112/112 [==============================] - 1s 6ms/step - loss: 1527.7780\n",
      "Epoch 2/15\n",
      "112/112 [==============================] - 1s 5ms/step - loss: 100.4242\n",
      "Epoch 3/15\n",
      "112/112 [==============================] - 1s 5ms/step - loss: 49.5797\n",
      "Epoch 4/15\n",
      "112/112 [==============================] - 1s 5ms/step - loss: 21.8174\n",
      "Epoch 5/15\n",
      "112/112 [==============================] - 1s 5ms/step - loss: 8.8770\n",
      "Epoch 6/15\n",
      "112/112 [==============================] - 1s 5ms/step - loss: 3.9542\n",
      "Epoch 7/15\n",
      "112/112 [==============================] - 1s 5ms/step - loss: 2.4580\n",
      "Epoch 8/15\n",
      "112/112 [==============================] - 1s 5ms/step - loss: 1.7168\n",
      "Epoch 9/15\n",
      "112/112 [==============================] - 1s 5ms/step - loss: 1.4042\n",
      "Epoch 10/15\n",
      "112/112 [==============================] - 1s 5ms/step - loss: 1.1205\n",
      "Epoch 11/15\n",
      "112/112 [==============================] - 1s 5ms/step - loss: 1.0478\n",
      "Epoch 12/15\n",
      "112/112 [==============================] - 1s 5ms/step - loss: 0.8121\n",
      "Epoch 13/15\n",
      "112/112 [==============================] - 1s 5ms/step - loss: 0.7840\n",
      "Epoch 14/15\n",
      "112/112 [==============================] - 1s 5ms/step - loss: 0.7727\n",
      "12/12 [==============================] - 0s 3ms/step\n"
     ]
    },
    {
     "name": "stderr",
     "output_type": "stream",
     "text": [
      "2023-11-12 12:29:56.656121: I tensorflow/core/grappler/optimizers/custom_graph_optimizer_registry.cc:114] Plugin optimizer for device_type GPU is enabled.\n"
     ]
    },
    {
     "name": "stdout",
     "output_type": "stream",
     "text": [
      "Epoch 1/15\n",
      " 1/90 [..............................] - ETA: 28s - loss: 4516.2539"
     ]
    },
    {
     "name": "stderr",
     "output_type": "stream",
     "text": [
      "2023-11-12 12:29:57.003171: I tensorflow/core/grappler/optimizers/custom_graph_optimizer_registry.cc:114] Plugin optimizer for device_type GPU is enabled.\n"
     ]
    },
    {
     "name": "stdout",
     "output_type": "stream",
     "text": [
      "90/90 [==============================] - 1s 6ms/step - loss: 1060.7479\n",
      "Epoch 2/15\n",
      "90/90 [==============================] - 0s 5ms/step - loss: 83.4475\n",
      "Epoch 3/15\n",
      "90/90 [==============================] - 0s 5ms/step - loss: 30.3355\n",
      "Epoch 4/15\n",
      "90/90 [==============================] - 0s 5ms/step - loss: 9.1233\n",
      "Epoch 5/15\n",
      "90/90 [==============================] - 0s 5ms/step - loss: 4.1162\n",
      "Epoch 6/15\n",
      "90/90 [==============================] - 0s 5ms/step - loss: 2.0776\n",
      "Epoch 7/15\n",
      "90/90 [==============================] - 0s 5ms/step - loss: 1.3760\n",
      "Epoch 8/15\n",
      "90/90 [==============================] - 0s 5ms/step - loss: 1.0377\n",
      "Epoch 9/15\n",
      "90/90 [==============================] - 0s 5ms/step - loss: 0.8990\n",
      "Epoch 10/15\n",
      "90/90 [==============================] - 0s 5ms/step - loss: 0.8054\n",
      "Epoch 11/15\n",
      "90/90 [==============================] - 0s 5ms/step - loss: 0.6692\n",
      "Epoch 12/15\n",
      "90/90 [==============================] - 0s 5ms/step - loss: 0.6364\n",
      "Epoch 13/15\n",
      "90/90 [==============================] - 0s 5ms/step - loss: 0.6405\n",
      "Epoch 14/15\n",
      "90/90 [==============================] - 0s 5ms/step - loss: 0.5137\n",
      "12/12 [==============================] - 0s 4ms/step\n"
     ]
    },
    {
     "name": "stderr",
     "output_type": "stream",
     "text": [
      "2023-11-12 12:30:03.439035: I tensorflow/core/grappler/optimizers/custom_graph_optimizer_registry.cc:114] Plugin optimizer for device_type GPU is enabled.\n"
     ]
    },
    {
     "name": "stdout",
     "output_type": "stream",
     "text": [
      "Epoch 1/15\n",
      "  1/101 [..............................] - ETA: 32s - loss: 4474.2339"
     ]
    },
    {
     "name": "stderr",
     "output_type": "stream",
     "text": [
      "2023-11-12 12:30:03.828984: I tensorflow/core/grappler/optimizers/custom_graph_optimizer_registry.cc:114] Plugin optimizer for device_type GPU is enabled.\n"
     ]
    },
    {
     "name": "stdout",
     "output_type": "stream",
     "text": [
      "101/101 [==============================] - 1s 7ms/step - loss: 896.2875\n",
      "Epoch 2/15\n",
      "101/101 [==============================] - 1s 5ms/step - loss: 57.9345\n",
      "Epoch 3/15\n",
      "101/101 [==============================] - 1s 5ms/step - loss: 15.8247\n",
      "Epoch 4/15\n",
      "101/101 [==============================] - 1s 7ms/step - loss: 4.2688\n",
      "Epoch 5/15\n",
      "101/101 [==============================] - 1s 5ms/step - loss: 2.0030\n",
      "Epoch 6/15\n",
      "101/101 [==============================] - 0s 5ms/step - loss: 1.2295\n",
      "Epoch 7/15\n",
      "101/101 [==============================] - 0s 5ms/step - loss: 0.9264\n",
      "Epoch 8/15\n",
      "101/101 [==============================] - 0s 5ms/step - loss: 0.7580\n",
      "Epoch 9/15\n",
      "101/101 [==============================] - 0s 5ms/step - loss: 0.6778\n",
      "Epoch 10/15\n",
      "101/101 [==============================] - 1s 5ms/step - loss: 0.6361\n",
      "Epoch 11/15\n",
      "101/101 [==============================] - 0s 5ms/step - loss: 0.6139\n",
      "Epoch 12/15\n",
      "101/101 [==============================] - 0s 5ms/step - loss: 0.5701\n",
      "Epoch 13/15\n",
      "101/101 [==============================] - 1s 5ms/step - loss: 0.5014\n",
      "12/12 [==============================] - 0s 4ms/step\n"
     ]
    },
    {
     "name": "stderr",
     "output_type": "stream",
     "text": [
      "2023-11-12 12:30:10.923409: I tensorflow/core/grappler/optimizers/custom_graph_optimizer_registry.cc:114] Plugin optimizer for device_type GPU is enabled.\n"
     ]
    },
    {
     "name": "stdout",
     "output_type": "stream",
     "text": [
      "Epoch 1/15\n",
      "  1/112 [..............................] - ETA: 31s - loss: 4527.3521"
     ]
    },
    {
     "name": "stderr",
     "output_type": "stream",
     "text": [
      "2023-11-12 12:30:11.268747: I tensorflow/core/grappler/optimizers/custom_graph_optimizer_registry.cc:114] Plugin optimizer for device_type GPU is enabled.\n"
     ]
    },
    {
     "name": "stdout",
     "output_type": "stream",
     "text": [
      "112/112 [==============================] - 1s 6ms/step - loss: 876.4519\n",
      "Epoch 2/15\n",
      "112/112 [==============================] - 1s 5ms/step - loss: 62.7744\n",
      "Epoch 3/15\n",
      "112/112 [==============================] - 1s 5ms/step - loss: 17.2093\n",
      "Epoch 4/15\n",
      "112/112 [==============================] - 1s 5ms/step - loss: 4.5506\n",
      "Epoch 5/15\n",
      "112/112 [==============================] - 1s 5ms/step - loss: 2.1213\n",
      "Epoch 6/15\n",
      "112/112 [==============================] - 1s 5ms/step - loss: 1.3842\n",
      "Epoch 7/15\n",
      "112/112 [==============================] - 1s 5ms/step - loss: 1.1056\n",
      "Epoch 8/15\n",
      "112/112 [==============================] - 1s 5ms/step - loss: 0.8785\n",
      "Epoch 9/15\n",
      "112/112 [==============================] - 1s 5ms/step - loss: 0.7899\n",
      "Epoch 10/15\n",
      "112/112 [==============================] - 1s 5ms/step - loss: 0.6795\n",
      "Epoch 11/15\n",
      "112/112 [==============================] - 1s 5ms/step - loss: 0.7272\n",
      "Epoch 12/15\n",
      "112/112 [==============================] - 1s 5ms/step - loss: 0.5217\n",
      "12/12 [==============================] - 0s 3ms/step\n"
     ]
    },
    {
     "name": "stderr",
     "output_type": "stream",
     "text": [
      "2023-11-12 12:30:18.360997: I tensorflow/core/grappler/optimizers/custom_graph_optimizer_registry.cc:114] Plugin optimizer for device_type GPU is enabled.\n"
     ]
    },
    {
     "name": "stdout",
     "output_type": "stream",
     "text": [
      "Epoch 1/15\n",
      " 1/90 [..............................] - ETA: 26s - loss: 4516.2539"
     ]
    },
    {
     "name": "stderr",
     "output_type": "stream",
     "text": [
      "2023-11-12 12:30:18.703920: I tensorflow/core/grappler/optimizers/custom_graph_optimizer_registry.cc:114] Plugin optimizer for device_type GPU is enabled.\n"
     ]
    },
    {
     "name": "stdout",
     "output_type": "stream",
     "text": [
      "90/90 [==============================] - 1s 6ms/step - loss: 1673.5865\n",
      "Epoch 2/15\n",
      "90/90 [==============================] - 1s 6ms/step - loss: 118.2776\n",
      "Epoch 3/15\n",
      "90/90 [==============================] - 0s 5ms/step - loss: 65.1910\n",
      "Epoch 4/15\n",
      "90/90 [==============================] - 0s 5ms/step - loss: 31.0989\n",
      "Epoch 5/15\n",
      "90/90 [==============================] - 0s 5ms/step - loss: 13.7754\n",
      "Epoch 6/15\n",
      "90/90 [==============================] - 0s 5ms/step - loss: 6.4351\n",
      "Epoch 7/15\n",
      "90/90 [==============================] - 0s 5ms/step - loss: 3.6963\n",
      "Epoch 8/15\n",
      "90/90 [==============================] - 0s 5ms/step - loss: 2.7177\n",
      "Epoch 9/15\n",
      "90/90 [==============================] - 0s 5ms/step - loss: 2.1560\n",
      "Epoch 10/15\n",
      "90/90 [==============================] - 0s 5ms/step - loss: 1.6977\n",
      "Epoch 11/15\n",
      "90/90 [==============================] - 0s 5ms/step - loss: 1.4510\n",
      "Epoch 12/15\n",
      "90/90 [==============================] - 0s 5ms/step - loss: 1.1594\n",
      "Epoch 13/15\n",
      "90/90 [==============================] - 0s 5ms/step - loss: 0.9695\n",
      "Epoch 14/15\n",
      "90/90 [==============================] - 0s 5ms/step - loss: 0.8306\n",
      "Epoch 15/15\n",
      "90/90 [==============================] - 0s 5ms/step - loss: 0.7568\n",
      "12/12 [==============================] - 0s 4ms/step\n"
     ]
    },
    {
     "name": "stderr",
     "output_type": "stream",
     "text": [
      "2023-11-12 12:30:25.671962: I tensorflow/core/grappler/optimizers/custom_graph_optimizer_registry.cc:114] Plugin optimizer for device_type GPU is enabled.\n"
     ]
    },
    {
     "name": "stdout",
     "output_type": "stream",
     "text": [
      "Epoch 1/15\n",
      "  1/101 [..............................] - ETA: 30s - loss: 4474.2339"
     ]
    },
    {
     "name": "stderr",
     "output_type": "stream",
     "text": [
      "2023-11-12 12:30:26.008758: I tensorflow/core/grappler/optimizers/custom_graph_optimizer_registry.cc:114] Plugin optimizer for device_type GPU is enabled.\n"
     ]
    },
    {
     "name": "stdout",
     "output_type": "stream",
     "text": [
      "101/101 [==============================] - 1s 6ms/step - loss: 1481.8147\n",
      "Epoch 2/15\n",
      "101/101 [==============================] - 0s 5ms/step - loss: 103.1533\n",
      "Epoch 3/15\n",
      "101/101 [==============================] - 0s 5ms/step - loss: 52.4421\n",
      "Epoch 4/15\n",
      "101/101 [==============================] - 0s 5ms/step - loss: 20.6643\n",
      "Epoch 5/15\n",
      "101/101 [==============================] - 0s 5ms/step - loss: 7.9718\n",
      "Epoch 6/15\n",
      "101/101 [==============================] - 0s 5ms/step - loss: 3.9116\n",
      "Epoch 7/15\n",
      "101/101 [==============================] - 0s 5ms/step - loss: 2.6471\n",
      "Epoch 8/15\n",
      "101/101 [==============================] - 0s 5ms/step - loss: 2.1071\n",
      "Epoch 9/15\n",
      "101/101 [==============================] - 0s 5ms/step - loss: 1.5663\n",
      "Epoch 10/15\n",
      "101/101 [==============================] - 1s 5ms/step - loss: 1.2916\n",
      "Epoch 11/15\n",
      "101/101 [==============================] - 0s 5ms/step - loss: 1.1058\n",
      "Epoch 12/15\n",
      "101/101 [==============================] - 0s 5ms/step - loss: 0.9539\n",
      "Epoch 13/15\n",
      "101/101 [==============================] - 0s 5ms/step - loss: 0.7936\n",
      "Epoch 14/15\n",
      "101/101 [==============================] - 0s 5ms/step - loss: 0.7155\n",
      "Epoch 15/15\n",
      "101/101 [==============================] - 0s 5ms/step - loss: 0.6545\n",
      "12/12 [==============================] - 0s 4ms/step\n"
     ]
    },
    {
     "name": "stderr",
     "output_type": "stream",
     "text": [
      "2023-11-12 12:30:33.646613: I tensorflow/core/grappler/optimizers/custom_graph_optimizer_registry.cc:114] Plugin optimizer for device_type GPU is enabled.\n"
     ]
    },
    {
     "name": "stdout",
     "output_type": "stream",
     "text": [
      "Epoch 1/15\n",
      "  1/112 [..............................] - ETA: 31s - loss: 4527.3521"
     ]
    },
    {
     "name": "stderr",
     "output_type": "stream",
     "text": [
      "2023-11-12 12:30:33.983977: I tensorflow/core/grappler/optimizers/custom_graph_optimizer_registry.cc:114] Plugin optimizer for device_type GPU is enabled.\n"
     ]
    },
    {
     "name": "stdout",
     "output_type": "stream",
     "text": [
      "112/112 [==============================] - 1s 6ms/step - loss: 1416.8311\n",
      "Epoch 2/15\n",
      "112/112 [==============================] - 1s 5ms/step - loss: 99.3934\n",
      "Epoch 3/15\n",
      "112/112 [==============================] - 1s 5ms/step - loss: 49.4545\n",
      "Epoch 4/15\n",
      "112/112 [==============================] - 1s 5ms/step - loss: 17.8621\n",
      "Epoch 5/15\n",
      "112/112 [==============================] - 1s 5ms/step - loss: 6.1679\n",
      "Epoch 6/15\n",
      "112/112 [==============================] - 1s 5ms/step - loss: 3.0696\n",
      "Epoch 7/15\n",
      "112/112 [==============================] - 1s 5ms/step - loss: 2.0050\n",
      "Epoch 8/15\n",
      "112/112 [==============================] - 1s 5ms/step - loss: 1.4126\n",
      "Epoch 9/15\n",
      "112/112 [==============================] - 1s 5ms/step - loss: 1.1231\n",
      "Epoch 10/15\n",
      "112/112 [==============================] - 1s 5ms/step - loss: 0.8751\n",
      "Epoch 11/15\n",
      "112/112 [==============================] - 1s 5ms/step - loss: 0.7819\n",
      "Epoch 12/15\n",
      "112/112 [==============================] - 1s 5ms/step - loss: 0.6515\n",
      "Epoch 13/15\n",
      "112/112 [==============================] - 1s 5ms/step - loss: 0.6464\n",
      "Epoch 14/15\n",
      "112/112 [==============================] - 1s 5ms/step - loss: 0.6815\n",
      "12/12 [==============================] - 0s 4ms/step\n"
     ]
    },
    {
     "name": "stderr",
     "output_type": "stream",
     "text": [
      "2023-11-12 12:30:41.812160: I tensorflow/core/grappler/optimizers/custom_graph_optimizer_registry.cc:114] Plugin optimizer for device_type GPU is enabled.\n"
     ]
    },
    {
     "name": "stdout",
     "output_type": "stream",
     "text": [
      "Epoch 1/15\n",
      " 1/90 [..............................] - ETA: 29s - loss: 4537.1465"
     ]
    },
    {
     "name": "stderr",
     "output_type": "stream",
     "text": [
      "2023-11-12 12:30:42.158411: I tensorflow/core/grappler/optimizers/custom_graph_optimizer_registry.cc:114] Plugin optimizer for device_type GPU is enabled.\n"
     ]
    },
    {
     "name": "stdout",
     "output_type": "stream",
     "text": [
      "90/90 [==============================] - 1s 7ms/step - loss: 1062.2896\n",
      "Epoch 2/15\n",
      "90/90 [==============================] - 0s 5ms/step - loss: 81.4949\n",
      "Epoch 3/15\n",
      "90/90 [==============================] - 0s 5ms/step - loss: 32.7277\n",
      "Epoch 4/15\n",
      "90/90 [==============================] - 0s 5ms/step - loss: 9.8567\n",
      "Epoch 5/15\n",
      "90/90 [==============================] - 0s 5ms/step - loss: 3.3997\n",
      "Epoch 6/15\n",
      "90/90 [==============================] - 0s 5ms/step - loss: 2.0693\n",
      "Epoch 7/15\n",
      "90/90 [==============================] - 0s 5ms/step - loss: 1.4808\n",
      "Epoch 8/15\n",
      "90/90 [==============================] - 0s 5ms/step - loss: 1.2086\n",
      "Epoch 9/15\n",
      "90/90 [==============================] - 0s 5ms/step - loss: 0.9532\n",
      "Epoch 10/15\n",
      "90/90 [==============================] - 0s 5ms/step - loss: 0.8844\n",
      "Epoch 11/15\n",
      "90/90 [==============================] - 0s 5ms/step - loss: 0.8070\n",
      "Epoch 12/15\n",
      "90/90 [==============================] - 0s 5ms/step - loss: 0.7600\n",
      "Epoch 13/15\n",
      "90/90 [==============================] - 0s 5ms/step - loss: 0.7074\n",
      "12/12 [==============================] - 0s 4ms/step\n"
     ]
    },
    {
     "name": "stderr",
     "output_type": "stream",
     "text": [
      "2023-11-12 12:30:48.368624: I tensorflow/core/grappler/optimizers/custom_graph_optimizer_registry.cc:114] Plugin optimizer for device_type GPU is enabled.\n"
     ]
    },
    {
     "name": "stdout",
     "output_type": "stream",
     "text": [
      "Epoch 1/15\n",
      "  1/101 [..............................] - ETA: 31s - loss: 4502.1357"
     ]
    },
    {
     "name": "stderr",
     "output_type": "stream",
     "text": [
      "2023-11-12 12:30:48.717221: I tensorflow/core/grappler/optimizers/custom_graph_optimizer_registry.cc:114] Plugin optimizer for device_type GPU is enabled.\n"
     ]
    },
    {
     "name": "stdout",
     "output_type": "stream",
     "text": [
      "101/101 [==============================] - 1s 7ms/step - loss: 922.9733\n",
      "Epoch 2/15\n",
      "101/101 [==============================] - 0s 5ms/step - loss: 54.4528\n",
      "Epoch 3/15\n",
      "101/101 [==============================] - 1s 5ms/step - loss: 14.3912\n",
      "Epoch 4/15\n",
      "101/101 [==============================] - 1s 5ms/step - loss: 3.8771\n",
      "Epoch 5/15\n",
      "101/101 [==============================] - 1s 5ms/step - loss: 1.9808\n",
      "Epoch 6/15\n",
      "101/101 [==============================] - 1s 5ms/step - loss: 1.2830\n",
      "Epoch 7/15\n",
      "101/101 [==============================] - 1s 5ms/step - loss: 1.0553\n",
      "Epoch 8/15\n",
      "101/101 [==============================] - 1s 6ms/step - loss: 0.8531\n",
      "Epoch 9/15\n",
      "101/101 [==============================] - 1s 6ms/step - loss: 0.7272\n",
      "Epoch 10/15\n",
      "101/101 [==============================] - 1s 5ms/step - loss: 0.7200\n",
      "Epoch 11/15\n",
      "101/101 [==============================] - 1s 5ms/step - loss: 0.6016\n",
      "Epoch 12/15\n",
      "101/101 [==============================] - 0s 5ms/step - loss: 0.5252\n",
      "Epoch 13/15\n",
      "101/101 [==============================] - 0s 5ms/step - loss: 0.5479\n",
      "12/12 [==============================] - 0s 4ms/step\n"
     ]
    },
    {
     "name": "stderr",
     "output_type": "stream",
     "text": [
      "2023-11-12 12:30:55.868849: I tensorflow/core/grappler/optimizers/custom_graph_optimizer_registry.cc:114] Plugin optimizer for device_type GPU is enabled.\n"
     ]
    },
    {
     "name": "stdout",
     "output_type": "stream",
     "text": [
      "Epoch 1/15\n",
      "  1/112 [..............................] - ETA: 33s - loss: 4547.0190"
     ]
    },
    {
     "name": "stderr",
     "output_type": "stream",
     "text": [
      "2023-11-12 12:30:56.207664: I tensorflow/core/grappler/optimizers/custom_graph_optimizer_registry.cc:114] Plugin optimizer for device_type GPU is enabled.\n"
     ]
    },
    {
     "name": "stdout",
     "output_type": "stream",
     "text": [
      "112/112 [==============================] - 1s 6ms/step - loss: 846.4203\n",
      "Epoch 2/15\n",
      "112/112 [==============================] - 1s 5ms/step - loss: 55.7081\n",
      "Epoch 3/15\n",
      "112/112 [==============================] - 1s 5ms/step - loss: 15.0331\n",
      "Epoch 4/15\n",
      "112/112 [==============================] - 1s 5ms/step - loss: 4.1227\n",
      "Epoch 5/15\n",
      "112/112 [==============================] - 1s 5ms/step - loss: 1.8438\n",
      "Epoch 6/15\n",
      "112/112 [==============================] - 1s 5ms/step - loss: 1.1845\n",
      "Epoch 7/15\n",
      "112/112 [==============================] - 1s 5ms/step - loss: 0.9307\n",
      "Epoch 8/15\n",
      "112/112 [==============================] - 1s 5ms/step - loss: 0.7875\n",
      "Epoch 9/15\n",
      "112/112 [==============================] - 1s 5ms/step - loss: 0.7658\n",
      "Epoch 10/15\n",
      "112/112 [==============================] - 1s 5ms/step - loss: 0.6248\n",
      "Epoch 11/15\n",
      "112/112 [==============================] - 1s 5ms/step - loss: 0.7107\n",
      "Epoch 12/15\n",
      "112/112 [==============================] - 1s 5ms/step - loss: 0.5795\n",
      "Epoch 13/15\n",
      "112/112 [==============================] - 1s 5ms/step - loss: 0.5051\n",
      "Epoch 14/15\n",
      "112/112 [==============================] - 1s 5ms/step - loss: 0.5125\n",
      "12/12 [==============================] - 0s 4ms/step\n"
     ]
    },
    {
     "name": "stderr",
     "output_type": "stream",
     "text": [
      "2023-11-12 12:31:04.218579: I tensorflow/core/grappler/optimizers/custom_graph_optimizer_registry.cc:114] Plugin optimizer for device_type GPU is enabled.\n"
     ]
    },
    {
     "name": "stdout",
     "output_type": "stream",
     "text": [
      "Epoch 1/15\n",
      " 1/90 [..............................] - ETA: 27s - loss: 4537.1465"
     ]
    },
    {
     "name": "stderr",
     "output_type": "stream",
     "text": [
      "2023-11-12 12:31:04.554489: I tensorflow/core/grappler/optimizers/custom_graph_optimizer_registry.cc:114] Plugin optimizer for device_type GPU is enabled.\n"
     ]
    },
    {
     "name": "stdout",
     "output_type": "stream",
     "text": [
      "90/90 [==============================] - 1s 6ms/step - loss: 1679.5349\n",
      "Epoch 2/15\n",
      "90/90 [==============================] - 0s 5ms/step - loss: 114.7944\n",
      "Epoch 3/15\n",
      "90/90 [==============================] - 0s 5ms/step - loss: 64.4354\n",
      "Epoch 4/15\n",
      "90/90 [==============================] - 0s 5ms/step - loss: 33.0282\n",
      "Epoch 5/15\n",
      "90/90 [==============================] - 0s 5ms/step - loss: 14.8446\n",
      "Epoch 6/15\n",
      "90/90 [==============================] - 0s 5ms/step - loss: 6.4932\n",
      "Epoch 7/15\n",
      "90/90 [==============================] - 0s 5ms/step - loss: 3.6062\n",
      "Epoch 8/15\n",
      "90/90 [==============================] - 0s 5ms/step - loss: 2.5016\n",
      "Epoch 9/15\n",
      "90/90 [==============================] - 0s 5ms/step - loss: 1.9130\n",
      "Epoch 10/15\n",
      "90/90 [==============================] - 0s 5ms/step - loss: 1.4612\n",
      "Epoch 11/15\n",
      "90/90 [==============================] - 0s 5ms/step - loss: 1.2921\n",
      "Epoch 12/15\n",
      "90/90 [==============================] - 0s 5ms/step - loss: 1.0373\n",
      "Epoch 13/15\n",
      "90/90 [==============================] - 0s 5ms/step - loss: 0.9293\n",
      "Epoch 14/15\n",
      "90/90 [==============================] - 0s 5ms/step - loss: 0.8207\n",
      "Epoch 15/15\n",
      "90/90 [==============================] - 0s 5ms/step - loss: 0.7675\n",
      "12/12 [==============================] - 0s 4ms/step\n"
     ]
    },
    {
     "name": "stderr",
     "output_type": "stream",
     "text": [
      "2023-11-12 12:31:11.438493: I tensorflow/core/grappler/optimizers/custom_graph_optimizer_registry.cc:114] Plugin optimizer for device_type GPU is enabled.\n"
     ]
    },
    {
     "name": "stdout",
     "output_type": "stream",
     "text": [
      "Epoch 1/15\n",
      "  1/101 [..............................] - ETA: 31s - loss: 4502.1357"
     ]
    },
    {
     "name": "stderr",
     "output_type": "stream",
     "text": [
      "2023-11-12 12:31:11.785084: I tensorflow/core/grappler/optimizers/custom_graph_optimizer_registry.cc:114] Plugin optimizer for device_type GPU is enabled.\n"
     ]
    },
    {
     "name": "stdout",
     "output_type": "stream",
     "text": [
      "101/101 [==============================] - 1s 6ms/step - loss: 1528.3176\n",
      "Epoch 2/15\n",
      "101/101 [==============================] - 0s 5ms/step - loss: 101.1712\n",
      "Epoch 3/15\n",
      "101/101 [==============================] - 0s 5ms/step - loss: 52.5233\n",
      "Epoch 4/15\n",
      "101/101 [==============================] - 0s 5ms/step - loss: 21.5765\n",
      "Epoch 5/15\n",
      "101/101 [==============================] - 0s 5ms/step - loss: 8.3208\n",
      "Epoch 6/15\n",
      "101/101 [==============================] - 1s 5ms/step - loss: 3.7384\n",
      "Epoch 7/15\n",
      "101/101 [==============================] - 1s 5ms/step - loss: 2.3956\n",
      "Epoch 8/15\n",
      "101/101 [==============================] - 0s 5ms/step - loss: 1.7751\n",
      "Epoch 9/15\n",
      "101/101 [==============================] - 0s 5ms/step - loss: 1.3492\n",
      "Epoch 10/15\n",
      "101/101 [==============================] - 0s 5ms/step - loss: 1.0998\n",
      "Epoch 11/15\n",
      "101/101 [==============================] - 0s 5ms/step - loss: 1.0079\n",
      "Epoch 12/15\n",
      "101/101 [==============================] - 0s 5ms/step - loss: 0.8289\n",
      "Epoch 13/15\n",
      "101/101 [==============================] - 0s 5ms/step - loss: 0.7319\n",
      "Epoch 14/15\n",
      "101/101 [==============================] - 0s 5ms/step - loss: 0.6828\n",
      "12/12 [==============================] - 0s 3ms/step\n"
     ]
    },
    {
     "name": "stderr",
     "output_type": "stream",
     "text": [
      "2023-11-12 12:31:18.999490: I tensorflow/core/grappler/optimizers/custom_graph_optimizer_registry.cc:114] Plugin optimizer for device_type GPU is enabled.\n"
     ]
    },
    {
     "name": "stdout",
     "output_type": "stream",
     "text": [
      "Epoch 1/15\n",
      "  1/112 [..............................] - ETA: 35s - loss: 4547.0190"
     ]
    },
    {
     "name": "stderr",
     "output_type": "stream",
     "text": [
      "2023-11-12 12:31:19.350564: I tensorflow/core/grappler/optimizers/custom_graph_optimizer_registry.cc:114] Plugin optimizer for device_type GPU is enabled.\n"
     ]
    },
    {
     "name": "stdout",
     "output_type": "stream",
     "text": [
      "112/112 [==============================] - 1s 7ms/step - loss: 1365.7535\n",
      "Epoch 2/15\n",
      "112/112 [==============================] - 1s 5ms/step - loss: 89.9207\n",
      "Epoch 3/15\n",
      "112/112 [==============================] - 1s 6ms/step - loss: 40.3309\n",
      "Epoch 4/15\n",
      "112/112 [==============================] - 1s 6ms/step - loss: 13.7724\n",
      "Epoch 5/15\n",
      "112/112 [==============================] - 1s 5ms/step - loss: 4.6027\n",
      "Epoch 6/15\n",
      "112/112 [==============================] - 1s 5ms/step - loss: 2.5393\n",
      "Epoch 7/15\n",
      "112/112 [==============================] - 1s 5ms/step - loss: 1.8711\n",
      "Epoch 8/15\n",
      "112/112 [==============================] - 1s 5ms/step - loss: 1.3713\n",
      "Epoch 9/15\n",
      "112/112 [==============================] - 1s 5ms/step - loss: 1.1920\n",
      "Epoch 10/15\n",
      "112/112 [==============================] - 1s 5ms/step - loss: 0.9570\n",
      "Epoch 11/15\n",
      "112/112 [==============================] - 1s 5ms/step - loss: 0.8632\n",
      "Epoch 12/15\n",
      "112/112 [==============================] - 1s 5ms/step - loss: 0.7842\n",
      "Epoch 13/15\n",
      "112/112 [==============================] - 1s 5ms/step - loss: 0.7186\n",
      "12/12 [==============================] - 0s 4ms/step\n"
     ]
    },
    {
     "name": "stderr",
     "output_type": "stream",
     "text": [
      "2023-11-12 12:31:27.260672: I tensorflow/core/grappler/optimizers/custom_graph_optimizer_registry.cc:114] Plugin optimizer for device_type GPU is enabled.\n"
     ]
    },
    {
     "name": "stdout",
     "output_type": "stream",
     "text": [
      "Epoch 1/15\n"
     ]
    },
    {
     "name": "stderr",
     "output_type": "stream",
     "text": [
      "2023-11-12 12:31:27.633854: I tensorflow/core/grappler/optimizers/custom_graph_optimizer_registry.cc:114] Plugin optimizer for device_type GPU is enabled.\n"
     ]
    },
    {
     "name": "stdout",
     "output_type": "stream",
     "text": [
      "90/90 [==============================] - 1s 7ms/step - loss: 696.6807\n",
      "Epoch 2/15\n",
      "90/90 [==============================] - 0s 5ms/step - loss: 50.8776\n",
      "Epoch 3/15\n",
      "90/90 [==============================] - 0s 5ms/step - loss: 10.7290\n",
      "Epoch 4/15\n",
      "90/90 [==============================] - 0s 5ms/step - loss: 3.4198\n",
      "Epoch 5/15\n",
      "90/90 [==============================] - 0s 6ms/step - loss: 1.7107\n",
      "Epoch 6/15\n",
      "90/90 [==============================] - 1s 6ms/step - loss: 1.4643\n",
      "Epoch 7/15\n",
      "90/90 [==============================] - 0s 5ms/step - loss: 0.8947\n",
      "Epoch 8/15\n",
      "90/90 [==============================] - 0s 5ms/step - loss: 0.8086\n",
      "Epoch 9/15\n",
      "90/90 [==============================] - 1s 6ms/step - loss: 0.6701\n",
      "Epoch 10/15\n",
      "90/90 [==============================] - 0s 5ms/step - loss: 0.8951\n",
      "Epoch 11/15\n",
      "90/90 [==============================] - 0s 5ms/step - loss: 0.5828\n",
      "12/12 [==============================] - 0s 4ms/step\n"
     ]
    },
    {
     "name": "stderr",
     "output_type": "stream",
     "text": [
      "2023-11-12 12:31:33.451235: I tensorflow/core/grappler/optimizers/custom_graph_optimizer_registry.cc:114] Plugin optimizer for device_type GPU is enabled.\n"
     ]
    },
    {
     "name": "stdout",
     "output_type": "stream",
     "text": [
      "Epoch 1/15\n",
      "  1/101 [..............................] - ETA: 31s - loss: 4472.8262"
     ]
    },
    {
     "name": "stderr",
     "output_type": "stream",
     "text": [
      "2023-11-12 12:31:33.822901: I tensorflow/core/grappler/optimizers/custom_graph_optimizer_registry.cc:114] Plugin optimizer for device_type GPU is enabled.\n"
     ]
    },
    {
     "name": "stdout",
     "output_type": "stream",
     "text": [
      "101/101 [==============================] - 1s 7ms/step - loss: 622.7030\n",
      "Epoch 2/15\n",
      "101/101 [==============================] - 1s 5ms/step - loss: 35.2026\n",
      "Epoch 3/15\n",
      "101/101 [==============================] - 0s 5ms/step - loss: 7.9791\n",
      "Epoch 4/15\n",
      "101/101 [==============================] - 0s 5ms/step - loss: 2.7462\n",
      "Epoch 5/15\n",
      "101/101 [==============================] - 1s 5ms/step - loss: 1.4922\n",
      "Epoch 6/15\n",
      "101/101 [==============================] - 1s 5ms/step - loss: 1.0184\n",
      "Epoch 7/15\n",
      "101/101 [==============================] - 0s 5ms/step - loss: 0.8554\n",
      "Epoch 8/15\n",
      "101/101 [==============================] - 1s 5ms/step - loss: 0.7773\n",
      "Epoch 9/15\n",
      "101/101 [==============================] - 0s 5ms/step - loss: 0.6621\n",
      "Epoch 10/15\n",
      "101/101 [==============================] - 0s 5ms/step - loss: 0.7405\n",
      "Epoch 11/15\n",
      "101/101 [==============================] - 0s 5ms/step - loss: 0.5702\n",
      "12/12 [==============================] - 0s 5ms/step\n"
     ]
    },
    {
     "name": "stderr",
     "output_type": "stream",
     "text": [
      "2023-11-12 12:31:39.752808: I tensorflow/core/grappler/optimizers/custom_graph_optimizer_registry.cc:114] Plugin optimizer for device_type GPU is enabled.\n"
     ]
    },
    {
     "name": "stdout",
     "output_type": "stream",
     "text": [
      "Epoch 1/15\n",
      "  1/112 [..............................] - ETA: 33s - loss: 4526.3071"
     ]
    },
    {
     "name": "stderr",
     "output_type": "stream",
     "text": [
      "2023-11-12 12:31:40.119977: I tensorflow/core/grappler/optimizers/custom_graph_optimizer_registry.cc:114] Plugin optimizer for device_type GPU is enabled.\n"
     ]
    },
    {
     "name": "stdout",
     "output_type": "stream",
     "text": [
      "112/112 [==============================] - 1s 6ms/step - loss: 611.4588\n",
      "Epoch 2/15\n",
      "112/112 [==============================] - 1s 5ms/step - loss: 38.3454\n",
      "Epoch 3/15\n",
      "112/112 [==============================] - 1s 5ms/step - loss: 8.1909\n",
      "Epoch 4/15\n",
      "112/112 [==============================] - 1s 5ms/step - loss: 2.6884\n",
      "Epoch 5/15\n",
      "112/112 [==============================] - 1s 6ms/step - loss: 1.6075\n",
      "Epoch 6/15\n",
      "112/112 [==============================] - 1s 5ms/step - loss: 1.0985\n",
      "Epoch 7/15\n",
      "112/112 [==============================] - 1s 5ms/step - loss: 0.9443\n",
      "Epoch 8/15\n",
      "112/112 [==============================] - 1s 5ms/step - loss: 0.7848\n",
      "Epoch 9/15\n",
      "112/112 [==============================] - 1s 5ms/step - loss: 0.7117\n",
      "Epoch 10/15\n",
      "112/112 [==============================] - 1s 5ms/step - loss: 0.6725\n",
      "12/12 [==============================] - 0s 5ms/step\n"
     ]
    },
    {
     "name": "stderr",
     "output_type": "stream",
     "text": [
      "2023-11-12 12:31:46.216024: I tensorflow/core/grappler/optimizers/custom_graph_optimizer_registry.cc:114] Plugin optimizer for device_type GPU is enabled.\n"
     ]
    },
    {
     "name": "stdout",
     "output_type": "stream",
     "text": [
      "Epoch 1/15\n"
     ]
    },
    {
     "name": "stderr",
     "output_type": "stream",
     "text": [
      "2023-11-12 12:31:46.595291: I tensorflow/core/grappler/optimizers/custom_graph_optimizer_registry.cc:114] Plugin optimizer for device_type GPU is enabled.\n"
     ]
    },
    {
     "name": "stdout",
     "output_type": "stream",
     "text": [
      "90/90 [==============================] - 1s 8ms/step - loss: 1126.9197\n",
      "Epoch 2/15\n",
      "90/90 [==============================] - 0s 5ms/step - loss: 97.2620\n",
      "Epoch 3/15\n",
      "90/90 [==============================] - 0s 5ms/step - loss: 43.4137\n",
      "Epoch 4/15\n",
      "90/90 [==============================] - 0s 5ms/step - loss: 17.0190\n",
      "Epoch 5/15\n",
      "90/90 [==============================] - 0s 5ms/step - loss: 7.1499\n",
      "Epoch 6/15\n",
      "90/90 [==============================] - 0s 5ms/step - loss: 3.6876\n",
      "Epoch 7/15\n",
      "90/90 [==============================] - 0s 5ms/step - loss: 2.2957\n",
      "Epoch 8/15\n",
      "90/90 [==============================] - 0s 5ms/step - loss: 1.6709\n",
      "Epoch 9/15\n",
      "90/90 [==============================] - 0s 5ms/step - loss: 1.3314\n",
      "Epoch 10/15\n",
      "90/90 [==============================] - 0s 5ms/step - loss: 1.0980\n",
      "Epoch 11/15\n",
      "90/90 [==============================] - 1s 6ms/step - loss: 0.9563\n",
      "Epoch 12/15\n",
      "90/90 [==============================] - 0s 5ms/step - loss: 0.8482\n",
      "Epoch 13/15\n",
      "90/90 [==============================] - 0s 5ms/step - loss: 0.7215\n",
      "Epoch 14/15\n",
      "90/90 [==============================] - 0s 5ms/step - loss: 0.7068\n",
      "12/12 [==============================] - 0s 4ms/step\n"
     ]
    },
    {
     "name": "stderr",
     "output_type": "stream",
     "text": [
      "2023-11-12 12:31:53.521349: I tensorflow/core/grappler/optimizers/custom_graph_optimizer_registry.cc:114] Plugin optimizer for device_type GPU is enabled.\n"
     ]
    },
    {
     "name": "stdout",
     "output_type": "stream",
     "text": [
      "Epoch 1/15\n"
     ]
    },
    {
     "name": "stderr",
     "output_type": "stream",
     "text": [
      "2023-11-12 12:31:53.874560: I tensorflow/core/grappler/optimizers/custom_graph_optimizer_registry.cc:114] Plugin optimizer for device_type GPU is enabled.\n"
     ]
    },
    {
     "name": "stdout",
     "output_type": "stream",
     "text": [
      "101/101 [==============================] - 1s 6ms/step - loss: 1036.7570\n",
      "Epoch 2/15\n",
      "101/101 [==============================] - 0s 5ms/step - loss: 87.8998\n",
      "Epoch 3/15\n",
      "101/101 [==============================] - 0s 5ms/step - loss: 36.8198\n",
      "Epoch 4/15\n",
      "101/101 [==============================] - 1s 5ms/step - loss: 12.3026\n",
      "Epoch 5/15\n",
      "101/101 [==============================] - 0s 5ms/step - loss: 5.6108\n",
      "Epoch 6/15\n",
      "101/101 [==============================] - 1s 5ms/step - loss: 3.4197\n",
      "Epoch 7/15\n",
      "101/101 [==============================] - 1s 5ms/step - loss: 2.2573\n",
      "Epoch 8/15\n",
      "101/101 [==============================] - 1s 5ms/step - loss: 1.7034\n",
      "Epoch 9/15\n",
      "101/101 [==============================] - 1s 5ms/step - loss: 1.2844\n",
      "Epoch 10/15\n",
      "101/101 [==============================] - 1s 5ms/step - loss: 1.0525\n",
      "Epoch 11/15\n",
      "101/101 [==============================] - 1s 5ms/step - loss: 0.9801\n",
      "Epoch 12/15\n",
      "101/101 [==============================] - 0s 5ms/step - loss: 0.8311\n",
      "Epoch 13/15\n",
      "101/101 [==============================] - 0s 5ms/step - loss: 0.7124\n",
      "Epoch 14/15\n",
      "101/101 [==============================] - 1s 5ms/step - loss: 0.6708\n",
      "12/12 [==============================] - 0s 5ms/step\n"
     ]
    },
    {
     "name": "stderr",
     "output_type": "stream",
     "text": [
      "2023-11-12 12:32:01.318626: I tensorflow/core/grappler/optimizers/custom_graph_optimizer_registry.cc:114] Plugin optimizer for device_type GPU is enabled.\n"
     ]
    },
    {
     "name": "stdout",
     "output_type": "stream",
     "text": [
      "Epoch 1/15\n"
     ]
    },
    {
     "name": "stderr",
     "output_type": "stream",
     "text": [
      "2023-11-12 12:32:01.705511: I tensorflow/core/grappler/optimizers/custom_graph_optimizer_registry.cc:114] Plugin optimizer for device_type GPU is enabled.\n"
     ]
    },
    {
     "name": "stdout",
     "output_type": "stream",
     "text": [
      "112/112 [==============================] - 1s 7ms/step - loss: 928.3624\n",
      "Epoch 2/15\n",
      "112/112 [==============================] - 1s 5ms/step - loss: 71.2288\n",
      "Epoch 3/15\n",
      "112/112 [==============================] - 1s 5ms/step - loss: 23.6628\n",
      "Epoch 4/15\n",
      "112/112 [==============================] - 1s 5ms/step - loss: 7.9488\n",
      "Epoch 5/15\n",
      "112/112 [==============================] - 1s 6ms/step - loss: 3.7109\n",
      "Epoch 6/15\n",
      "112/112 [==============================] - 1s 5ms/step - loss: 2.3455\n",
      "Epoch 7/15\n",
      "112/112 [==============================] - 1s 5ms/step - loss: 1.7200\n",
      "Epoch 8/15\n",
      "112/112 [==============================] - 1s 5ms/step - loss: 1.2850\n",
      "Epoch 9/15\n",
      "112/112 [==============================] - 1s 5ms/step - loss: 1.0441\n",
      "Epoch 10/15\n",
      "112/112 [==============================] - 1s 5ms/step - loss: 0.9265\n",
      "Epoch 11/15\n",
      "112/112 [==============================] - 1s 5ms/step - loss: 0.8437\n",
      "Epoch 12/15\n",
      "112/112 [==============================] - 1s 5ms/step - loss: 0.7511\n",
      "Epoch 13/15\n",
      "112/112 [==============================] - 1s 5ms/step - loss: 0.6686\n",
      "12/12 [==============================] - 0s 5ms/step\n"
     ]
    },
    {
     "name": "stderr",
     "output_type": "stream",
     "text": [
      "2023-11-12 12:32:09.684785: I tensorflow/core/grappler/optimizers/custom_graph_optimizer_registry.cc:114] Plugin optimizer for device_type GPU is enabled.\n"
     ]
    },
    {
     "name": "stdout",
     "output_type": "stream",
     "text": [
      "Epoch 1/15\n"
     ]
    },
    {
     "name": "stderr",
     "output_type": "stream",
     "text": [
      "2023-11-12 12:32:10.074803: I tensorflow/core/grappler/optimizers/custom_graph_optimizer_registry.cc:114] Plugin optimizer for device_type GPU is enabled.\n"
     ]
    },
    {
     "name": "stdout",
     "output_type": "stream",
     "text": [
      "90/90 [==============================] - 1s 8ms/step - loss: 641.6624\n",
      "Epoch 2/15\n",
      "90/90 [==============================] - 0s 5ms/step - loss: 39.7206\n",
      "Epoch 3/15\n",
      "90/90 [==============================] - 0s 5ms/step - loss: 7.0485\n",
      "Epoch 4/15\n",
      "90/90 [==============================] - 0s 5ms/step - loss: 2.5392\n",
      "Epoch 5/15\n",
      "90/90 [==============================] - 0s 5ms/step - loss: 1.5864\n",
      "Epoch 6/15\n",
      "90/90 [==============================] - 0s 5ms/step - loss: 1.2726\n",
      "Epoch 7/15\n",
      "90/90 [==============================] - 0s 5ms/step - loss: 1.2025\n",
      "Epoch 8/15\n",
      "90/90 [==============================] - 0s 5ms/step - loss: 0.8904\n",
      "Epoch 9/15\n",
      "90/90 [==============================] - 0s 5ms/step - loss: 0.7072\n",
      "Epoch 10/15\n",
      "90/90 [==============================] - 0s 5ms/step - loss: 0.6346\n",
      "Epoch 11/15\n",
      "90/90 [==============================] - 0s 5ms/step - loss: 0.6399\n",
      "Epoch 12/15\n",
      "90/90 [==============================] - 0s 5ms/step - loss: 0.5943\n",
      "12/12 [==============================] - 0s 6ms/step\n"
     ]
    },
    {
     "name": "stderr",
     "output_type": "stream",
     "text": [
      "2023-11-12 12:32:15.926846: I tensorflow/core/grappler/optimizers/custom_graph_optimizer_registry.cc:114] Plugin optimizer for device_type GPU is enabled.\n"
     ]
    },
    {
     "name": "stdout",
     "output_type": "stream",
     "text": [
      "Epoch 1/15\n"
     ]
    },
    {
     "name": "stderr",
     "output_type": "stream",
     "text": [
      "2023-11-12 12:32:16.307608: I tensorflow/core/grappler/optimizers/custom_graph_optimizer_registry.cc:114] Plugin optimizer for device_type GPU is enabled.\n"
     ]
    },
    {
     "name": "stdout",
     "output_type": "stream",
     "text": [
      "101/101 [==============================] - 1s 7ms/step - loss: 593.6195\n",
      "Epoch 2/15\n",
      "101/101 [==============================] - 1s 5ms/step - loss: 33.2327\n",
      "Epoch 3/15\n",
      "101/101 [==============================] - 0s 5ms/step - loss: 5.5366\n",
      "Epoch 4/15\n",
      "101/101 [==============================] - 1s 5ms/step - loss: 2.1462\n",
      "Epoch 5/15\n",
      "101/101 [==============================] - 1s 5ms/step - loss: 1.2655\n",
      "Epoch 6/15\n",
      "101/101 [==============================] - 1s 5ms/step - loss: 0.9332\n",
      "Epoch 7/15\n",
      "101/101 [==============================] - 0s 5ms/step - loss: 0.8448\n",
      "Epoch 8/15\n",
      "101/101 [==============================] - 0s 5ms/step - loss: 0.7116\n",
      "Epoch 9/15\n",
      "101/101 [==============================] - 0s 5ms/step - loss: 0.6540\n",
      "Epoch 10/15\n",
      "101/101 [==============================] - 0s 5ms/step - loss: 0.7436\n",
      "Epoch 11/15\n",
      "101/101 [==============================] - 0s 5ms/step - loss: 0.5276\n",
      "Epoch 12/15\n",
      "101/101 [==============================] - 0s 5ms/step - loss: 0.6414\n",
      "12/12 [==============================] - 0s 5ms/step\n"
     ]
    },
    {
     "name": "stderr",
     "output_type": "stream",
     "text": [
      "2023-11-12 12:32:22.837749: I tensorflow/core/grappler/optimizers/custom_graph_optimizer_registry.cc:114] Plugin optimizer for device_type GPU is enabled.\n"
     ]
    },
    {
     "name": "stdout",
     "output_type": "stream",
     "text": [
      "Epoch 1/15\n"
     ]
    },
    {
     "name": "stderr",
     "output_type": "stream",
     "text": [
      "2023-11-12 12:32:23.220000: I tensorflow/core/grappler/optimizers/custom_graph_optimizer_registry.cc:114] Plugin optimizer for device_type GPU is enabled.\n"
     ]
    },
    {
     "name": "stdout",
     "output_type": "stream",
     "text": [
      "112/112 [==============================] - 1s 7ms/step - loss: 547.5291\n",
      "Epoch 2/15\n",
      "112/112 [==============================] - 1s 5ms/step - loss: 26.4523\n",
      "Epoch 3/15\n",
      "112/112 [==============================] - 1s 5ms/step - loss: 4.2822\n",
      "Epoch 4/15\n",
      "112/112 [==============================] - 1s 5ms/step - loss: 1.6585\n",
      "Epoch 5/15\n",
      "112/112 [==============================] - 1s 5ms/step - loss: 1.1461\n",
      "Epoch 6/15\n",
      "112/112 [==============================] - 1s 5ms/step - loss: 1.0205\n",
      "Epoch 7/15\n",
      "112/112 [==============================] - 1s 5ms/step - loss: 0.9081\n",
      "Epoch 8/15\n",
      "112/112 [==============================] - 1s 5ms/step - loss: 0.8121\n",
      "Epoch 9/15\n",
      "112/112 [==============================] - 1s 5ms/step - loss: 0.6513\n",
      "12/12 [==============================] - 0s 5ms/step\n"
     ]
    },
    {
     "name": "stderr",
     "output_type": "stream",
     "text": [
      "2023-11-12 12:32:28.737165: I tensorflow/core/grappler/optimizers/custom_graph_optimizer_registry.cc:114] Plugin optimizer for device_type GPU is enabled.\n"
     ]
    },
    {
     "name": "stdout",
     "output_type": "stream",
     "text": [
      "Epoch 1/15\n"
     ]
    },
    {
     "name": "stderr",
     "output_type": "stream",
     "text": [
      "2023-11-12 12:32:29.116930: I tensorflow/core/grappler/optimizers/custom_graph_optimizer_registry.cc:114] Plugin optimizer for device_type GPU is enabled.\n"
     ]
    },
    {
     "name": "stdout",
     "output_type": "stream",
     "text": [
      "90/90 [==============================] - 1s 7ms/step - loss: 1026.3000\n",
      "Epoch 2/15\n",
      "90/90 [==============================] - 0s 5ms/step - loss: 86.0620\n",
      "Epoch 3/15\n",
      "90/90 [==============================] - 0s 5ms/step - loss: 28.7373\n",
      "Epoch 4/15\n",
      "90/90 [==============================] - 0s 5ms/step - loss: 8.2390\n",
      "Epoch 5/15\n",
      "90/90 [==============================] - 0s 5ms/step - loss: 3.6674\n",
      "Epoch 6/15\n",
      "90/90 [==============================] - 0s 5ms/step - loss: 2.2718\n",
      "Epoch 7/15\n",
      "90/90 [==============================] - 0s 5ms/step - loss: 1.4542\n",
      "Epoch 8/15\n",
      "90/90 [==============================] - 0s 5ms/step - loss: 1.2090\n",
      "Epoch 9/15\n",
      "90/90 [==============================] - 0s 5ms/step - loss: 1.0289\n",
      "Epoch 10/15\n",
      "90/90 [==============================] - 0s 5ms/step - loss: 0.9450\n",
      "Epoch 11/15\n",
      "90/90 [==============================] - 0s 5ms/step - loss: 0.7867\n",
      "Epoch 12/15\n",
      "90/90 [==============================] - 0s 5ms/step - loss: 0.7594\n",
      "Epoch 13/15\n",
      "90/90 [==============================] - 0s 5ms/step - loss: 0.7522\n",
      "Epoch 14/15\n",
      "90/90 [==============================] - 0s 5ms/step - loss: 0.6287\n",
      "12/12 [==============================] - 0s 5ms/step\n"
     ]
    },
    {
     "name": "stderr",
     "output_type": "stream",
     "text": [
      "2023-11-12 12:32:35.930238: I tensorflow/core/grappler/optimizers/custom_graph_optimizer_registry.cc:114] Plugin optimizer for device_type GPU is enabled.\n"
     ]
    },
    {
     "name": "stdout",
     "output_type": "stream",
     "text": [
      "Epoch 1/15\n"
     ]
    },
    {
     "name": "stderr",
     "output_type": "stream",
     "text": [
      "2023-11-12 12:32:36.305547: I tensorflow/core/grappler/optimizers/custom_graph_optimizer_registry.cc:114] Plugin optimizer for device_type GPU is enabled.\n"
     ]
    },
    {
     "name": "stdout",
     "output_type": "stream",
     "text": [
      "101/101 [==============================] - 1s 7ms/step - loss: 884.5699\n",
      "Epoch 2/15\n",
      "101/101 [==============================] - 1s 5ms/step - loss: 55.2908\n",
      "Epoch 3/15\n",
      "101/101 [==============================] - 0s 5ms/step - loss: 12.5016\n",
      "Epoch 4/15\n",
      "101/101 [==============================] - 1s 6ms/step - loss: 3.9468\n",
      "Epoch 5/15\n",
      "101/101 [==============================] - 1s 5ms/step - loss: 1.9969\n",
      "Epoch 6/15\n",
      "101/101 [==============================] - 1s 5ms/step - loss: 1.4142\n",
      "Epoch 7/15\n",
      "101/101 [==============================] - 1s 5ms/step - loss: 1.0862\n",
      "Epoch 8/15\n",
      "101/101 [==============================] - 0s 5ms/step - loss: 0.8850\n",
      "Epoch 9/15\n",
      "101/101 [==============================] - 1s 5ms/step - loss: 0.8060\n",
      "Epoch 10/15\n",
      "101/101 [==============================] - 0s 5ms/step - loss: 0.7991\n",
      "Epoch 11/15\n",
      "101/101 [==============================] - 0s 5ms/step - loss: 0.7364\n",
      "Epoch 12/15\n",
      "101/101 [==============================] - 0s 5ms/step - loss: 0.6260\n",
      "12/12 [==============================] - 0s 5ms/step\n"
     ]
    },
    {
     "name": "stderr",
     "output_type": "stream",
     "text": [
      "2023-11-12 12:32:42.917812: I tensorflow/core/grappler/optimizers/custom_graph_optimizer_registry.cc:114] Plugin optimizer for device_type GPU is enabled.\n"
     ]
    },
    {
     "name": "stdout",
     "output_type": "stream",
     "text": [
      "Epoch 1/15\n"
     ]
    },
    {
     "name": "stderr",
     "output_type": "stream",
     "text": [
      "2023-11-12 12:32:43.297348: I tensorflow/core/grappler/optimizers/custom_graph_optimizer_registry.cc:114] Plugin optimizer for device_type GPU is enabled.\n"
     ]
    },
    {
     "name": "stdout",
     "output_type": "stream",
     "text": [
      "112/112 [==============================] - 1s 7ms/step - loss: 828.8683\n",
      "Epoch 2/15\n",
      "112/112 [==============================] - 1s 5ms/step - loss: 52.1296\n",
      "Epoch 3/15\n",
      "112/112 [==============================] - 1s 5ms/step - loss: 11.4535\n",
      "Epoch 4/15\n",
      "112/112 [==============================] - 1s 5ms/step - loss: 3.9441\n",
      "Epoch 5/15\n",
      "112/112 [==============================] - 1s 5ms/step - loss: 2.1679\n",
      "Epoch 6/15\n",
      "112/112 [==============================] - 1s 5ms/step - loss: 1.3373\n",
      "Epoch 7/15\n",
      "112/112 [==============================] - 1s 5ms/step - loss: 1.1036\n",
      "Epoch 8/15\n",
      "112/112 [==============================] - 1s 5ms/step - loss: 0.9529\n",
      "Epoch 9/15\n",
      "112/112 [==============================] - 1s 5ms/step - loss: 0.8250\n",
      "Epoch 10/15\n",
      "112/112 [==============================] - 1s 5ms/step - loss: 0.8316\n",
      "Epoch 11/15\n",
      "112/112 [==============================] - 1s 5ms/step - loss: 0.8330\n",
      "Epoch 12/15\n",
      "112/112 [==============================] - 1s 5ms/step - loss: 0.6630\n",
      "Epoch 13/15\n",
      "112/112 [==============================] - 1s 5ms/step - loss: 0.5910\n",
      "12/12 [==============================] - 0s 5ms/step\n"
     ]
    },
    {
     "name": "stderr",
     "output_type": "stream",
     "text": [
      "2023-11-12 12:32:51.033888: I tensorflow/core/grappler/optimizers/custom_graph_optimizer_registry.cc:114] Plugin optimizer for device_type GPU is enabled.\n"
     ]
    },
    {
     "name": "stdout",
     "output_type": "stream",
     "text": [
      "Epoch 1/15\n"
     ]
    },
    {
     "name": "stderr",
     "output_type": "stream",
     "text": [
      "2023-11-12 12:32:51.438741: I tensorflow/core/grappler/optimizers/custom_graph_optimizer_registry.cc:114] Plugin optimizer for device_type GPU is enabled.\n"
     ]
    },
    {
     "name": "stdout",
     "output_type": "stream",
     "text": [
      "90/90 [==============================] - 1s 8ms/step - loss: 645.8600\n",
      "Epoch 2/15\n",
      "90/90 [==============================] - 0s 5ms/step - loss: 34.7125\n",
      "Epoch 3/15\n",
      "90/90 [==============================] - 0s 5ms/step - loss: 5.5681\n",
      "Epoch 4/15\n",
      "90/90 [==============================] - 0s 5ms/step - loss: 2.4693\n",
      "Epoch 5/15\n",
      "90/90 [==============================] - 0s 5ms/step - loss: 1.5100\n",
      "Epoch 6/15\n",
      "90/90 [==============================] - 0s 5ms/step - loss: 1.0605\n",
      "Epoch 7/15\n",
      "90/90 [==============================] - 0s 5ms/step - loss: 1.0720\n",
      "Epoch 8/15\n",
      "90/90 [==============================] - 0s 5ms/step - loss: 0.8009\n",
      "Epoch 9/15\n",
      "90/90 [==============================] - 0s 5ms/step - loss: 0.7005\n",
      "Epoch 10/15\n",
      "90/90 [==============================] - 0s 5ms/step - loss: 0.6127\n",
      "Epoch 11/15\n",
      "90/90 [==============================] - 0s 5ms/step - loss: 0.5596\n",
      "Epoch 12/15\n",
      "90/90 [==============================] - 0s 5ms/step - loss: 0.6226\n",
      "12/12 [==============================] - 0s 6ms/step\n"
     ]
    },
    {
     "name": "stderr",
     "output_type": "stream",
     "text": [
      "2023-11-12 12:32:57.411671: I tensorflow/core/grappler/optimizers/custom_graph_optimizer_registry.cc:114] Plugin optimizer for device_type GPU is enabled.\n"
     ]
    },
    {
     "name": "stdout",
     "output_type": "stream",
     "text": [
      "Epoch 1/15\n"
     ]
    },
    {
     "name": "stderr",
     "output_type": "stream",
     "text": [
      "2023-11-12 12:32:57.805459: I tensorflow/core/grappler/optimizers/custom_graph_optimizer_registry.cc:114] Plugin optimizer for device_type GPU is enabled.\n"
     ]
    },
    {
     "name": "stdout",
     "output_type": "stream",
     "text": [
      "101/101 [==============================] - 1s 8ms/step - loss: 600.6645\n",
      "Epoch 2/15\n",
      "101/101 [==============================] - 0s 5ms/step - loss: 32.4837\n",
      "Epoch 3/15\n",
      "101/101 [==============================] - 1s 5ms/step - loss: 5.6031\n",
      "Epoch 4/15\n",
      "101/101 [==============================] - 1s 5ms/step - loss: 2.2247\n",
      "Epoch 5/15\n",
      "101/101 [==============================] - 0s 5ms/step - loss: 1.2566\n",
      "Epoch 6/15\n",
      "101/101 [==============================] - 1s 5ms/step - loss: 0.9711\n",
      "Epoch 7/15\n",
      "101/101 [==============================] - 1s 5ms/step - loss: 0.9541\n",
      "Epoch 8/15\n",
      "101/101 [==============================] - 1s 5ms/step - loss: 0.6939\n",
      "Epoch 9/15\n",
      "101/101 [==============================] - 0s 5ms/step - loss: 0.7234\n",
      "Epoch 10/15\n",
      "101/101 [==============================] - 0s 5ms/step - loss: 0.7216\n",
      "Epoch 11/15\n",
      "101/101 [==============================] - 0s 5ms/step - loss: 0.5430\n",
      "Epoch 12/15\n",
      "101/101 [==============================] - 1s 5ms/step - loss: 0.6239\n",
      "12/12 [==============================] - 0s 5ms/step\n"
     ]
    },
    {
     "name": "stderr",
     "output_type": "stream",
     "text": [
      "2023-11-12 12:33:04.394723: I tensorflow/core/grappler/optimizers/custom_graph_optimizer_registry.cc:114] Plugin optimizer for device_type GPU is enabled.\n"
     ]
    },
    {
     "name": "stdout",
     "output_type": "stream",
     "text": [
      "Epoch 1/15\n"
     ]
    },
    {
     "name": "stderr",
     "output_type": "stream",
     "text": [
      "2023-11-12 12:33:04.777578: I tensorflow/core/grappler/optimizers/custom_graph_optimizer_registry.cc:114] Plugin optimizer for device_type GPU is enabled.\n"
     ]
    },
    {
     "name": "stdout",
     "output_type": "stream",
     "text": [
      "112/112 [==============================] - 1s 8ms/step - loss: 532.8456\n",
      "Epoch 2/15\n",
      "112/112 [==============================] - 1s 5ms/step - loss: 25.3527\n",
      "Epoch 3/15\n",
      "112/112 [==============================] - 1s 5ms/step - loss: 3.7495\n",
      "Epoch 4/15\n",
      "112/112 [==============================] - 1s 6ms/step - loss: 1.7177\n",
      "Epoch 5/15\n",
      "112/112 [==============================] - 1s 6ms/step - loss: 1.1251\n",
      "Epoch 6/15\n",
      "112/112 [==============================] - 1s 5ms/step - loss: 0.9165\n",
      "Epoch 7/15\n",
      "112/112 [==============================] - 1s 5ms/step - loss: 0.8957\n",
      "Epoch 8/15\n",
      "112/112 [==============================] - 1s 5ms/step - loss: 0.7047\n",
      "Epoch 9/15\n",
      "112/112 [==============================] - 1s 5ms/step - loss: 0.6099\n",
      "Epoch 10/15\n",
      "112/112 [==============================] - 1s 5ms/step - loss: 0.5392\n",
      "Epoch 11/15\n",
      "112/112 [==============================] - 1s 5ms/step - loss: 0.5377\n",
      "Epoch 12/15\n",
      "112/112 [==============================] - 1s 5ms/step - loss: 0.6677\n",
      "Epoch 13/15\n",
      "112/112 [==============================] - 1s 5ms/step - loss: 0.6047\n",
      "12/12 [==============================] - 0s 4ms/step\n"
     ]
    },
    {
     "name": "stderr",
     "output_type": "stream",
     "text": [
      "2023-11-12 12:33:12.792979: I tensorflow/core/grappler/optimizers/custom_graph_optimizer_registry.cc:114] Plugin optimizer for device_type GPU is enabled.\n"
     ]
    },
    {
     "name": "stdout",
     "output_type": "stream",
     "text": [
      "Epoch 1/15\n"
     ]
    },
    {
     "name": "stderr",
     "output_type": "stream",
     "text": [
      "2023-11-12 12:33:13.161629: I tensorflow/core/grappler/optimizers/custom_graph_optimizer_registry.cc:114] Plugin optimizer for device_type GPU is enabled.\n"
     ]
    },
    {
     "name": "stdout",
     "output_type": "stream",
     "text": [
      "90/90 [==============================] - 1s 8ms/step - loss: 999.4537\n",
      "Epoch 2/15\n",
      "90/90 [==============================] - 0s 5ms/step - loss: 75.5809\n",
      "Epoch 3/15\n",
      "90/90 [==============================] - 0s 5ms/step - loss: 18.2420\n",
      "Epoch 4/15\n",
      "90/90 [==============================] - 0s 5ms/step - loss: 5.4922\n",
      "Epoch 5/15\n",
      "90/90 [==============================] - 0s 5ms/step - loss: 2.6476\n",
      "Epoch 6/15\n",
      "90/90 [==============================] - 0s 5ms/step - loss: 1.8731\n",
      "Epoch 7/15\n",
      "90/90 [==============================] - 0s 5ms/step - loss: 1.2456\n",
      "Epoch 8/15\n",
      "90/90 [==============================] - 0s 5ms/step - loss: 1.2216\n",
      "Epoch 9/15\n",
      "90/90 [==============================] - 0s 5ms/step - loss: 0.8896\n",
      "Epoch 10/15\n",
      "90/90 [==============================] - 0s 5ms/step - loss: 0.9480\n",
      "Epoch 11/15\n",
      "90/90 [==============================] - 0s 5ms/step - loss: 0.6835\n",
      "Epoch 12/15\n",
      "90/90 [==============================] - 1s 6ms/step - loss: 0.7328\n",
      "Epoch 13/15\n",
      "90/90 [==============================] - 0s 5ms/step - loss: 0.6017\n",
      "Epoch 14/15\n",
      "90/90 [==============================] - 0s 5ms/step - loss: 0.5508\n",
      "Epoch 15/15\n",
      "90/90 [==============================] - 0s 5ms/step - loss: 0.5299\n",
      "12/12 [==============================] - 0s 6ms/step\n"
     ]
    },
    {
     "name": "stderr",
     "output_type": "stream",
     "text": [
      "2023-11-12 12:33:20.483938: I tensorflow/core/grappler/optimizers/custom_graph_optimizer_registry.cc:114] Plugin optimizer for device_type GPU is enabled.\n"
     ]
    },
    {
     "name": "stdout",
     "output_type": "stream",
     "text": [
      "Epoch 1/15\n"
     ]
    },
    {
     "name": "stderr",
     "output_type": "stream",
     "text": [
      "2023-11-12 12:33:20.897919: I tensorflow/core/grappler/optimizers/custom_graph_optimizer_registry.cc:114] Plugin optimizer for device_type GPU is enabled.\n"
     ]
    },
    {
     "name": "stdout",
     "output_type": "stream",
     "text": [
      "101/101 [==============================] - 1s 7ms/step - loss: 857.0844\n",
      "Epoch 2/15\n",
      "101/101 [==============================] - 1s 5ms/step - loss: 48.7917\n",
      "Epoch 3/15\n",
      "101/101 [==============================] - 1s 6ms/step - loss: 10.7019\n",
      "Epoch 4/15\n",
      "101/101 [==============================] - 1s 5ms/step - loss: 3.7718\n",
      "Epoch 5/15\n",
      "101/101 [==============================] - 1s 5ms/step - loss: 1.9792\n",
      "Epoch 6/15\n",
      "101/101 [==============================] - 1s 6ms/step - loss: 1.3479\n",
      "Epoch 7/15\n",
      "101/101 [==============================] - 1s 5ms/step - loss: 1.0184\n",
      "Epoch 8/15\n",
      "101/101 [==============================] - 1s 5ms/step - loss: 0.8801\n",
      "Epoch 9/15\n",
      "101/101 [==============================] - 1s 5ms/step - loss: 0.7832\n",
      "Epoch 10/15\n",
      "101/101 [==============================] - 1s 5ms/step - loss: 0.7362\n",
      "Epoch 11/15\n",
      "101/101 [==============================] - 1s 6ms/step - loss: 0.7026\n",
      "Epoch 12/15\n",
      "101/101 [==============================] - 1s 5ms/step - loss: 0.5564\n",
      "Epoch 13/15\n",
      "101/101 [==============================] - 1s 5ms/step - loss: 0.5364\n",
      "12/12 [==============================] - 0s 5ms/step\n"
     ]
    },
    {
     "name": "stderr",
     "output_type": "stream",
     "text": [
      "2023-11-12 12:33:28.432545: I tensorflow/core/grappler/optimizers/custom_graph_optimizer_registry.cc:114] Plugin optimizer for device_type GPU is enabled.\n"
     ]
    },
    {
     "name": "stdout",
     "output_type": "stream",
     "text": [
      "Epoch 1/15\n"
     ]
    },
    {
     "name": "stderr",
     "output_type": "stream",
     "text": [
      "2023-11-12 12:33:28.814561: I tensorflow/core/grappler/optimizers/custom_graph_optimizer_registry.cc:114] Plugin optimizer for device_type GPU is enabled.\n"
     ]
    },
    {
     "name": "stdout",
     "output_type": "stream",
     "text": [
      "112/112 [==============================] - 1s 7ms/step - loss: 805.1859\n",
      "Epoch 2/15\n",
      "112/112 [==============================] - 1s 5ms/step - loss: 47.8268\n",
      "Epoch 3/15\n",
      "112/112 [==============================] - 1s 5ms/step - loss: 10.2872\n",
      "Epoch 4/15\n",
      "112/112 [==============================] - 1s 5ms/step - loss: 3.6816\n",
      "Epoch 5/15\n",
      "112/112 [==============================] - 1s 5ms/step - loss: 2.0811\n",
      "Epoch 6/15\n",
      "112/112 [==============================] - 1s 5ms/step - loss: 1.2196\n",
      "Epoch 7/15\n",
      "112/112 [==============================] - 1s 5ms/step - loss: 1.1194\n",
      "Epoch 8/15\n",
      "112/112 [==============================] - 1s 5ms/step - loss: 0.8896\n",
      "Epoch 9/15\n",
      "112/112 [==============================] - 1s 5ms/step - loss: 0.8241\n",
      "Epoch 10/15\n",
      "112/112 [==============================] - 1s 5ms/step - loss: 0.7126\n",
      "Epoch 11/15\n",
      "112/112 [==============================] - 1s 5ms/step - loss: 0.7506\n",
      "Epoch 12/15\n",
      "112/112 [==============================] - 1s 5ms/step - loss: 0.6219\n",
      "Epoch 13/15\n",
      "112/112 [==============================] - 1s 5ms/step - loss: 0.6081\n",
      "Epoch 14/15\n",
      "112/112 [==============================] - 1s 5ms/step - loss: 0.5868\n",
      "12/12 [==============================] - 0s 6ms/step\n"
     ]
    },
    {
     "name": "stderr",
     "output_type": "stream",
     "text": [
      "2023-11-12 12:33:37.054590: I tensorflow/core/grappler/optimizers/custom_graph_optimizer_registry.cc:114] Plugin optimizer for device_type GPU is enabled.\n"
     ]
    },
    {
     "name": "stdout",
     "output_type": "stream",
     "text": [
      "Epoch 1/15\n"
     ]
    },
    {
     "name": "stderr",
     "output_type": "stream",
     "text": [
      "2023-11-12 12:33:37.461618: I tensorflow/core/grappler/optimizers/custom_graph_optimizer_registry.cc:114] Plugin optimizer for device_type GPU is enabled.\n"
     ]
    },
    {
     "name": "stdout",
     "output_type": "stream",
     "text": [
      "90/90 [==============================] - 1s 8ms/step - loss: 617.1404\n",
      "Epoch 2/15\n",
      "90/90 [==============================] - 0s 5ms/step - loss: 37.8190\n",
      "Epoch 3/15\n",
      "90/90 [==============================] - 0s 5ms/step - loss: 6.7575\n",
      "Epoch 4/15\n",
      "90/90 [==============================] - 0s 5ms/step - loss: 3.4180\n",
      "Epoch 5/15\n",
      "90/90 [==============================] - 0s 5ms/step - loss: 2.0490\n",
      "Epoch 6/15\n",
      "90/90 [==============================] - 0s 5ms/step - loss: 1.4265\n",
      "Epoch 7/15\n",
      "90/90 [==============================] - 0s 5ms/step - loss: 1.5840\n",
      "Epoch 8/15\n",
      "90/90 [==============================] - 0s 5ms/step - loss: 0.9528\n",
      "Epoch 9/15\n",
      "90/90 [==============================] - 0s 5ms/step - loss: 0.7942\n",
      "Epoch 10/15\n",
      "90/90 [==============================] - 0s 5ms/step - loss: 0.8762\n",
      "Epoch 11/15\n",
      "90/90 [==============================] - 0s 5ms/step - loss: 0.6462\n",
      "Epoch 12/15\n",
      "90/90 [==============================] - 0s 5ms/step - loss: 0.7828\n",
      "Epoch 13/15\n",
      "90/90 [==============================] - 0s 5ms/step - loss: 0.7468\n",
      "12/12 [==============================] - 0s 6ms/step\n"
     ]
    },
    {
     "name": "stderr",
     "output_type": "stream",
     "text": [
      "2023-11-12 12:33:44.033126: I tensorflow/core/grappler/optimizers/custom_graph_optimizer_registry.cc:114] Plugin optimizer for device_type GPU is enabled.\n"
     ]
    },
    {
     "name": "stdout",
     "output_type": "stream",
     "text": [
      "Epoch 1/15\n"
     ]
    },
    {
     "name": "stderr",
     "output_type": "stream",
     "text": [
      "2023-11-12 12:33:44.418250: I tensorflow/core/grappler/optimizers/custom_graph_optimizer_registry.cc:114] Plugin optimizer for device_type GPU is enabled.\n"
     ]
    },
    {
     "name": "stdout",
     "output_type": "stream",
     "text": [
      "101/101 [==============================] - 1s 7ms/step - loss: 596.5256\n",
      "Epoch 2/15\n",
      "101/101 [==============================] - 1s 6ms/step - loss: 35.8959\n",
      "Epoch 3/15\n",
      "101/101 [==============================] - 1s 5ms/step - loss: 6.4412\n",
      "Epoch 4/15\n",
      "101/101 [==============================] - 1s 5ms/step - loss: 2.5658\n",
      "Epoch 5/15\n",
      "101/101 [==============================] - 1s 6ms/step - loss: 1.4782\n",
      "Epoch 6/15\n",
      "101/101 [==============================] - 1s 5ms/step - loss: 1.1899\n",
      "Epoch 7/15\n",
      "101/101 [==============================] - 1s 5ms/step - loss: 1.2522\n",
      "Epoch 8/15\n",
      "101/101 [==============================] - 1s 5ms/step - loss: 0.9149\n",
      "Epoch 9/15\n",
      "101/101 [==============================] - 1s 6ms/step - loss: 0.8108\n",
      "Epoch 10/15\n",
      "101/101 [==============================] - 1s 5ms/step - loss: 1.0685\n",
      "Epoch 11/15\n",
      "101/101 [==============================] - 1s 5ms/step - loss: 0.7072\n",
      "Epoch 12/15\n",
      "101/101 [==============================] - 1s 5ms/step - loss: 0.6991\n",
      "12/12 [==============================] - 0s 5ms/step\n"
     ]
    },
    {
     "name": "stderr",
     "output_type": "stream",
     "text": [
      "2023-11-12 12:33:51.322157: I tensorflow/core/grappler/optimizers/custom_graph_optimizer_registry.cc:114] Plugin optimizer for device_type GPU is enabled.\n"
     ]
    },
    {
     "name": "stdout",
     "output_type": "stream",
     "text": [
      "Epoch 1/15\n"
     ]
    },
    {
     "name": "stderr",
     "output_type": "stream",
     "text": [
      "2023-11-12 12:33:51.862959: I tensorflow/core/grappler/optimizers/custom_graph_optimizer_registry.cc:114] Plugin optimizer for device_type GPU is enabled.\n"
     ]
    },
    {
     "name": "stdout",
     "output_type": "stream",
     "text": [
      "112/112 [==============================] - 1s 7ms/step - loss: 482.5411\n",
      "Epoch 2/15\n",
      "112/112 [==============================] - 1s 5ms/step - loss: 20.5170\n",
      "Epoch 3/15\n",
      "112/112 [==============================] - 1s 5ms/step - loss: 3.9396\n",
      "Epoch 4/15\n",
      "112/112 [==============================] - 1s 5ms/step - loss: 1.9030\n",
      "Epoch 5/15\n",
      "112/112 [==============================] - 1s 5ms/step - loss: 1.1780\n",
      "Epoch 6/15\n",
      "112/112 [==============================] - 1s 5ms/step - loss: 1.0294\n",
      "Epoch 7/15\n",
      "112/112 [==============================] - 1s 5ms/step - loss: 0.9812\n",
      "Epoch 8/15\n",
      "112/112 [==============================] - 1s 5ms/step - loss: 0.7730\n",
      "Epoch 9/15\n",
      "112/112 [==============================] - 1s 5ms/step - loss: 0.7785\n",
      "12/12 [==============================] - 0s 6ms/step\n"
     ]
    },
    {
     "name": "stderr",
     "output_type": "stream",
     "text": [
      "2023-11-12 12:33:57.488067: I tensorflow/core/grappler/optimizers/custom_graph_optimizer_registry.cc:114] Plugin optimizer for device_type GPU is enabled.\n"
     ]
    },
    {
     "name": "stdout",
     "output_type": "stream",
     "text": [
      "Epoch 1/15\n"
     ]
    },
    {
     "name": "stderr",
     "output_type": "stream",
     "text": [
      "2023-11-12 12:33:57.903177: I tensorflow/core/grappler/optimizers/custom_graph_optimizer_registry.cc:114] Plugin optimizer for device_type GPU is enabled.\n"
     ]
    },
    {
     "name": "stdout",
     "output_type": "stream",
     "text": [
      "90/90 [==============================] - 1s 7ms/step - loss: 910.2850\n",
      "Epoch 2/15\n",
      "90/90 [==============================] - 0s 5ms/step - loss: 64.7901\n",
      "Epoch 3/15\n",
      "90/90 [==============================] - 0s 5ms/step - loss: 16.1227\n",
      "Epoch 4/15\n",
      "90/90 [==============================] - 0s 5ms/step - loss: 5.6951\n",
      "Epoch 5/15\n",
      "90/90 [==============================] - 0s 5ms/step - loss: 2.7289\n",
      "Epoch 6/15\n",
      "90/90 [==============================] - 0s 5ms/step - loss: 2.0527\n",
      "Epoch 7/15\n",
      "90/90 [==============================] - 0s 5ms/step - loss: 1.3841\n",
      "Epoch 8/15\n",
      "90/90 [==============================] - 0s 5ms/step - loss: 1.5597\n",
      "Epoch 9/15\n",
      "90/90 [==============================] - 0s 5ms/step - loss: 1.0384\n",
      "Epoch 10/15\n",
      "90/90 [==============================] - 0s 5ms/step - loss: 1.0540\n",
      "Epoch 11/15\n",
      "90/90 [==============================] - 1s 6ms/step - loss: 0.7693\n",
      "Epoch 12/15\n",
      "90/90 [==============================] - 0s 5ms/step - loss: 0.7568\n",
      "Epoch 13/15\n",
      "90/90 [==============================] - 0s 5ms/step - loss: 0.7217\n",
      "Epoch 14/15\n",
      "90/90 [==============================] - 0s 5ms/step - loss: 0.6336\n",
      "Epoch 15/15\n",
      "90/90 [==============================] - 0s 5ms/step - loss: 0.6432\n",
      "12/12 [==============================] - 0s 5ms/step\n"
     ]
    },
    {
     "name": "stderr",
     "output_type": "stream",
     "text": [
      "2023-11-12 12:34:05.424310: I tensorflow/core/grappler/optimizers/custom_graph_optimizer_registry.cc:114] Plugin optimizer for device_type GPU is enabled.\n"
     ]
    },
    {
     "name": "stdout",
     "output_type": "stream",
     "text": [
      "Epoch 1/15\n"
     ]
    },
    {
     "name": "stderr",
     "output_type": "stream",
     "text": [
      "2023-11-12 12:34:05.831024: I tensorflow/core/grappler/optimizers/custom_graph_optimizer_registry.cc:114] Plugin optimizer for device_type GPU is enabled.\n"
     ]
    },
    {
     "name": "stdout",
     "output_type": "stream",
     "text": [
      "101/101 [==============================] - 1s 7ms/step - loss: 824.4446\n",
      "Epoch 2/15\n",
      "101/101 [==============================] - 1s 5ms/step - loss: 51.6147\n",
      "Epoch 3/15\n",
      "101/101 [==============================] - 1s 5ms/step - loss: 12.6020\n",
      "Epoch 4/15\n",
      "101/101 [==============================] - 0s 5ms/step - loss: 4.3278\n",
      "Epoch 5/15\n",
      "101/101 [==============================] - 1s 5ms/step - loss: 2.2264\n",
      "Epoch 6/15\n",
      "101/101 [==============================] - 1s 5ms/step - loss: 1.6065\n",
      "Epoch 7/15\n",
      "101/101 [==============================] - 1s 5ms/step - loss: 1.2641\n",
      "Epoch 8/15\n",
      "101/101 [==============================] - 1s 5ms/step - loss: 0.9619\n",
      "Epoch 9/15\n",
      "101/101 [==============================] - 1s 5ms/step - loss: 0.9344\n",
      "Epoch 10/15\n",
      "101/101 [==============================] - 1s 5ms/step - loss: 0.8468\n",
      "Epoch 11/15\n",
      "101/101 [==============================] - 1s 5ms/step - loss: 0.8000\n",
      "Epoch 12/15\n",
      "101/101 [==============================] - 1s 5ms/step - loss: 0.6705\n",
      "12/12 [==============================] - 0s 6ms/step\n"
     ]
    },
    {
     "name": "stderr",
     "output_type": "stream",
     "text": [
      "2023-11-12 12:34:12.609672: I tensorflow/core/grappler/optimizers/custom_graph_optimizer_registry.cc:114] Plugin optimizer for device_type GPU is enabled.\n"
     ]
    },
    {
     "name": "stdout",
     "output_type": "stream",
     "text": [
      "Epoch 1/15\n"
     ]
    },
    {
     "name": "stderr",
     "output_type": "stream",
     "text": [
      "2023-11-12 12:34:13.057649: I tensorflow/core/grappler/optimizers/custom_graph_optimizer_registry.cc:114] Plugin optimizer for device_type GPU is enabled.\n"
     ]
    },
    {
     "name": "stdout",
     "output_type": "stream",
     "text": [
      "112/112 [==============================] - 1s 8ms/step - loss: 739.4163\n",
      "Epoch 2/15\n",
      "112/112 [==============================] - 1s 5ms/step - loss: 36.6428\n",
      "Epoch 3/15\n",
      "112/112 [==============================] - 1s 5ms/step - loss: 7.9355\n",
      "Epoch 4/15\n",
      "112/112 [==============================] - 1s 5ms/step - loss: 3.1003\n",
      "Epoch 5/15\n",
      "112/112 [==============================] - 1s 5ms/step - loss: 1.7186\n",
      "Epoch 6/15\n",
      "112/112 [==============================] - 1s 5ms/step - loss: 1.2112\n",
      "Epoch 7/15\n",
      "112/112 [==============================] - 1s 5ms/step - loss: 1.0214\n",
      "Epoch 8/15\n",
      "112/112 [==============================] - 1s 5ms/step - loss: 0.9036\n",
      "Epoch 9/15\n",
      "112/112 [==============================] - 1s 5ms/step - loss: 0.7235\n",
      "Epoch 10/15\n",
      "112/112 [==============================] - 1s 5ms/step - loss: 0.6556\n",
      "Epoch 11/15\n",
      "112/112 [==============================] - 1s 5ms/step - loss: 0.6771\n",
      "Epoch 12/15\n",
      "112/112 [==============================] - 1s 5ms/step - loss: 0.6802\n",
      "Epoch 13/15\n",
      "112/112 [==============================] - 1s 5ms/step - loss: 0.5842\n",
      "Epoch 14/15\n",
      "112/112 [==============================] - 1s 5ms/step - loss: 0.6580\n",
      "12/12 [==============================] - 0s 6ms/step\n"
     ]
    },
    {
     "name": "stderr",
     "output_type": "stream",
     "text": [
      "2023-11-12 12:34:21.759406: I tensorflow/core/grappler/optimizers/custom_graph_optimizer_registry.cc:114] Plugin optimizer for device_type GPU is enabled.\n"
     ]
    },
    {
     "name": "stdout",
     "output_type": "stream",
     "text": [
      "Epoch 1/15\n"
     ]
    },
    {
     "name": "stderr",
     "output_type": "stream",
     "text": [
      "2023-11-12 12:34:22.211505: I tensorflow/core/grappler/optimizers/custom_graph_optimizer_registry.cc:114] Plugin optimizer for device_type GPU is enabled.\n"
     ]
    },
    {
     "name": "stdout",
     "output_type": "stream",
     "text": [
      "90/90 [==============================] - 1s 8ms/step - loss: 425.8566\n",
      "Epoch 2/15\n",
      "90/90 [==============================] - 0s 6ms/step - loss: 21.5939\n",
      "Epoch 3/15\n",
      "90/90 [==============================] - 1s 6ms/step - loss: 4.3814\n",
      "Epoch 4/15\n",
      "90/90 [==============================] - 0s 5ms/step - loss: 2.5259\n",
      "Epoch 5/15\n",
      "90/90 [==============================] - 0s 5ms/step - loss: 2.0395\n",
      "Epoch 6/15\n",
      "90/90 [==============================] - 0s 5ms/step - loss: 1.5406\n",
      "Epoch 7/15\n",
      "90/90 [==============================] - 0s 5ms/step - loss: 1.5411\n",
      "Epoch 8/15\n",
      "90/90 [==============================] - 0s 5ms/step - loss: 0.9650\n",
      "Epoch 9/15\n",
      "90/90 [==============================] - 0s 5ms/step - loss: 0.9794\n",
      "Epoch 10/15\n",
      "90/90 [==============================] - 0s 5ms/step - loss: 0.7550\n",
      "Epoch 11/15\n",
      "90/90 [==============================] - 0s 5ms/step - loss: 0.7708\n",
      "Epoch 12/15\n",
      "90/90 [==============================] - 0s 5ms/step - loss: 0.9354\n",
      "12/12 [==============================] - 0s 6ms/step\n"
     ]
    },
    {
     "name": "stderr",
     "output_type": "stream",
     "text": [
      "2023-11-12 12:34:28.450890: I tensorflow/core/grappler/optimizers/custom_graph_optimizer_registry.cc:114] Plugin optimizer for device_type GPU is enabled.\n"
     ]
    },
    {
     "name": "stdout",
     "output_type": "stream",
     "text": [
      "Epoch 1/15\n"
     ]
    },
    {
     "name": "stderr",
     "output_type": "stream",
     "text": [
      "2023-11-12 12:34:28.880091: I tensorflow/core/grappler/optimizers/custom_graph_optimizer_registry.cc:114] Plugin optimizer for device_type GPU is enabled.\n"
     ]
    },
    {
     "name": "stdout",
     "output_type": "stream",
     "text": [
      "101/101 [==============================] - 1s 8ms/step - loss: 378.8821\n",
      "Epoch 2/15\n",
      "101/101 [==============================] - 1s 5ms/step - loss: 12.3347\n",
      "Epoch 3/15\n",
      "101/101 [==============================] - 1s 5ms/step - loss: 3.1998\n",
      "Epoch 4/15\n",
      "101/101 [==============================] - 1s 5ms/step - loss: 2.1804\n",
      "Epoch 5/15\n",
      "101/101 [==============================] - 1s 6ms/step - loss: 1.4566\n",
      "Epoch 6/15\n",
      "101/101 [==============================] - 1s 6ms/step - loss: 1.2027\n",
      "Epoch 7/15\n",
      "101/101 [==============================] - 1s 6ms/step - loss: 0.9491\n",
      "Epoch 8/15\n",
      "101/101 [==============================] - 1s 6ms/step - loss: 0.8485\n",
      "Epoch 9/15\n",
      "101/101 [==============================] - 1s 6ms/step - loss: 0.8166\n",
      "Epoch 10/15\n",
      "101/101 [==============================] - 1s 6ms/step - loss: 0.9833\n",
      "Epoch 11/15\n",
      "101/101 [==============================] - 1s 6ms/step - loss: 0.6904\n",
      "12/12 [==============================] - 0s 5ms/step\n"
     ]
    },
    {
     "name": "stderr",
     "output_type": "stream",
     "text": [
      "2023-11-12 12:34:35.728127: I tensorflow/core/grappler/optimizers/custom_graph_optimizer_registry.cc:114] Plugin optimizer for device_type GPU is enabled.\n"
     ]
    },
    {
     "name": "stdout",
     "output_type": "stream",
     "text": [
      "Epoch 1/15\n"
     ]
    },
    {
     "name": "stderr",
     "output_type": "stream",
     "text": [
      "2023-11-12 12:34:36.137051: I tensorflow/core/grappler/optimizers/custom_graph_optimizer_registry.cc:114] Plugin optimizer for device_type GPU is enabled.\n"
     ]
    },
    {
     "name": "stdout",
     "output_type": "stream",
     "text": [
      "112/112 [==============================] - 1s 8ms/step - loss: 340.6345\n",
      "Epoch 2/15\n",
      "112/112 [==============================] - 1s 5ms/step - loss: 9.4716\n",
      "Epoch 3/15\n",
      "112/112 [==============================] - 1s 5ms/step - loss: 2.9969\n",
      "Epoch 4/15\n",
      "112/112 [==============================] - 1s 5ms/step - loss: 1.7274\n",
      "Epoch 5/15\n",
      "112/112 [==============================] - 1s 5ms/step - loss: 1.3774\n",
      "Epoch 6/15\n",
      "112/112 [==============================] - 1s 5ms/step - loss: 1.3373\n",
      "Epoch 7/15\n",
      "112/112 [==============================] - 1s 5ms/step - loss: 1.0656\n",
      "Epoch 8/15\n",
      "112/112 [==============================] - 1s 5ms/step - loss: 1.1739\n",
      "Epoch 9/15\n",
      "112/112 [==============================] - 1s 5ms/step - loss: 0.6157\n",
      "Epoch 10/15\n",
      "112/112 [==============================] - 1s 5ms/step - loss: 0.6905\n",
      "Epoch 11/15\n",
      "112/112 [==============================] - 1s 5ms/step - loss: 0.8786\n",
      "12/12 [==============================] - 0s 5ms/step\n"
     ]
    },
    {
     "name": "stderr",
     "output_type": "stream",
     "text": [
      "2023-11-12 12:34:43.046390: I tensorflow/core/grappler/optimizers/custom_graph_optimizer_registry.cc:114] Plugin optimizer for device_type GPU is enabled.\n"
     ]
    },
    {
     "name": "stdout",
     "output_type": "stream",
     "text": [
      "Epoch 1/15\n"
     ]
    },
    {
     "name": "stderr",
     "output_type": "stream",
     "text": [
      "2023-11-12 12:34:43.459031: I tensorflow/core/grappler/optimizers/custom_graph_optimizer_registry.cc:114] Plugin optimizer for device_type GPU is enabled.\n"
     ]
    },
    {
     "name": "stdout",
     "output_type": "stream",
     "text": [
      "90/90 [==============================] - 1s 7ms/step - loss: 627.3571\n",
      "Epoch 2/15\n",
      "90/90 [==============================] - 0s 5ms/step - loss: 36.8898\n",
      "Epoch 3/15\n",
      "90/90 [==============================] - 0s 5ms/step - loss: 7.8384\n",
      "Epoch 4/15\n",
      "90/90 [==============================] - 0s 5ms/step - loss: 3.8145\n",
      "Epoch 5/15\n",
      "90/90 [==============================] - 0s 5ms/step - loss: 2.3569\n",
      "Epoch 6/15\n",
      "90/90 [==============================] - 0s 5ms/step - loss: 1.7713\n",
      "Epoch 7/15\n",
      "90/90 [==============================] - 0s 5ms/step - loss: 1.5595\n",
      "Epoch 8/15\n",
      "90/90 [==============================] - 0s 5ms/step - loss: 1.3119\n",
      "Epoch 9/15\n",
      "90/90 [==============================] - 0s 5ms/step - loss: 0.9595\n",
      "Epoch 10/15\n",
      "90/90 [==============================] - 0s 5ms/step - loss: 1.0016\n",
      "Epoch 11/15\n",
      "90/90 [==============================] - 0s 5ms/step - loss: 0.8211\n",
      "Epoch 12/15\n",
      "90/90 [==============================] - 0s 5ms/step - loss: 0.7719\n",
      "Epoch 13/15\n",
      "90/90 [==============================] - 0s 5ms/step - loss: 0.7716\n",
      "12/12 [==============================] - 0s 6ms/step\n"
     ]
    },
    {
     "name": "stderr",
     "output_type": "stream",
     "text": [
      "2023-11-12 12:34:49.790973: I tensorflow/core/grappler/optimizers/custom_graph_optimizer_registry.cc:114] Plugin optimizer for device_type GPU is enabled.\n"
     ]
    },
    {
     "name": "stdout",
     "output_type": "stream",
     "text": [
      "Epoch 1/15\n"
     ]
    },
    {
     "name": "stderr",
     "output_type": "stream",
     "text": [
      "2023-11-12 12:34:50.225478: I tensorflow/core/grappler/optimizers/custom_graph_optimizer_registry.cc:114] Plugin optimizer for device_type GPU is enabled.\n"
     ]
    },
    {
     "name": "stdout",
     "output_type": "stream",
     "text": [
      "101/101 [==============================] - 1s 7ms/step - loss: 581.0725\n",
      "Epoch 2/15\n",
      "101/101 [==============================] - 1s 5ms/step - loss: 29.6349\n",
      "Epoch 3/15\n",
      "101/101 [==============================] - 1s 5ms/step - loss: 6.6634\n",
      "Epoch 4/15\n",
      "101/101 [==============================] - 1s 5ms/step - loss: 2.8023\n",
      "Epoch 5/15\n",
      "101/101 [==============================] - 1s 5ms/step - loss: 1.8504\n",
      "Epoch 6/15\n",
      "101/101 [==============================] - 1s 5ms/step - loss: 1.3937\n",
      "Epoch 7/15\n",
      "101/101 [==============================] - 1s 5ms/step - loss: 1.2398\n",
      "Epoch 8/15\n",
      "101/101 [==============================] - 1s 5ms/step - loss: 0.9193\n",
      "Epoch 9/15\n",
      "101/101 [==============================] - 1s 5ms/step - loss: 0.8353\n",
      "Epoch 10/15\n",
      "101/101 [==============================] - 1s 5ms/step - loss: 0.8990\n",
      "Epoch 11/15\n",
      "101/101 [==============================] - 1s 5ms/step - loss: 0.8444\n",
      "12/12 [==============================] - 0s 4ms/step\n"
     ]
    },
    {
     "name": "stderr",
     "output_type": "stream",
     "text": [
      "2023-11-12 12:34:56.453499: I tensorflow/core/grappler/optimizers/custom_graph_optimizer_registry.cc:114] Plugin optimizer for device_type GPU is enabled.\n"
     ]
    },
    {
     "name": "stdout",
     "output_type": "stream",
     "text": [
      "Epoch 1/15\n"
     ]
    },
    {
     "name": "stderr",
     "output_type": "stream",
     "text": [
      "2023-11-12 12:34:56.851146: I tensorflow/core/grappler/optimizers/custom_graph_optimizer_registry.cc:114] Plugin optimizer for device_type GPU is enabled.\n"
     ]
    },
    {
     "name": "stdout",
     "output_type": "stream",
     "text": [
      "112/112 [==============================] - 1s 7ms/step - loss: 526.1498\n",
      "Epoch 2/15\n",
      "112/112 [==============================] - 1s 6ms/step - loss: 27.9775\n",
      "Epoch 3/15\n",
      "112/112 [==============================] - 1s 6ms/step - loss: 5.1595\n",
      "Epoch 4/15\n",
      "112/112 [==============================] - 1s 5ms/step - loss: 2.3395\n",
      "Epoch 5/15\n",
      "112/112 [==============================] - 1s 6ms/step - loss: 1.6243\n",
      "Epoch 6/15\n",
      "112/112 [==============================] - 1s 5ms/step - loss: 1.3353\n",
      "Epoch 7/15\n",
      "112/112 [==============================] - 1s 5ms/step - loss: 1.2581\n",
      "Epoch 8/15\n",
      "112/112 [==============================] - 1s 5ms/step - loss: 0.8672\n",
      "Epoch 9/15\n",
      "112/112 [==============================] - 1s 6ms/step - loss: 0.7588\n",
      "Epoch 10/15\n",
      "112/112 [==============================] - 1s 5ms/step - loss: 0.7498\n",
      "Epoch 11/15\n",
      "112/112 [==============================] - 1s 5ms/step - loss: 0.8981\n",
      "Epoch 12/15\n",
      "112/112 [==============================] - 1s 5ms/step - loss: 0.9249\n",
      "12/12 [==============================] - 0s 4ms/step\n"
     ]
    },
    {
     "name": "stderr",
     "output_type": "stream",
     "text": [
      "2023-11-12 12:35:04.594400: I tensorflow/core/grappler/optimizers/custom_graph_optimizer_registry.cc:114] Plugin optimizer for device_type GPU is enabled.\n"
     ]
    },
    {
     "name": "stdout",
     "output_type": "stream",
     "text": [
      "Epoch 1/15\n"
     ]
    },
    {
     "name": "stderr",
     "output_type": "stream",
     "text": [
      "2023-11-12 12:35:05.018576: I tensorflow/core/grappler/optimizers/custom_graph_optimizer_registry.cc:114] Plugin optimizer for device_type GPU is enabled.\n"
     ]
    },
    {
     "name": "stdout",
     "output_type": "stream",
     "text": [
      "90/90 [==============================] - 1s 9ms/step - loss: 362.0928\n",
      "Epoch 2/15\n",
      "90/90 [==============================] - 0s 5ms/step - loss: 11.4143\n",
      "Epoch 3/15\n",
      "90/90 [==============================] - 1s 6ms/step - loss: 3.8501\n",
      "Epoch 4/15\n",
      "90/90 [==============================] - 1s 6ms/step - loss: 2.1937\n",
      "Epoch 5/15\n",
      "90/90 [==============================] - 0s 5ms/step - loss: 1.5335\n",
      "Epoch 6/15\n",
      "90/90 [==============================] - 0s 5ms/step - loss: 1.8366\n",
      "Epoch 7/15\n",
      "90/90 [==============================] - 0s 5ms/step - loss: 1.6013\n",
      "Epoch 8/15\n",
      "90/90 [==============================] - 0s 5ms/step - loss: 1.4067\n",
      "Epoch 9/15\n",
      "90/90 [==============================] - 0s 5ms/step - loss: 1.0272\n",
      "Epoch 10/15\n",
      "90/90 [==============================] - 0s 5ms/step - loss: 0.7086\n",
      "Epoch 11/15\n",
      "90/90 [==============================] - 0s 5ms/step - loss: 0.7538\n",
      "Epoch 12/15\n",
      "90/90 [==============================] - 0s 5ms/step - loss: 0.8182\n",
      "Epoch 13/15\n",
      "90/90 [==============================] - 0s 5ms/step - loss: 1.3408\n",
      "12/12 [==============================] - 0s 6ms/step\n"
     ]
    },
    {
     "name": "stderr",
     "output_type": "stream",
     "text": [
      "2023-11-12 12:35:12.003801: I tensorflow/core/grappler/optimizers/custom_graph_optimizer_registry.cc:114] Plugin optimizer for device_type GPU is enabled.\n"
     ]
    },
    {
     "name": "stdout",
     "output_type": "stream",
     "text": [
      "Epoch 1/15\n"
     ]
    },
    {
     "name": "stderr",
     "output_type": "stream",
     "text": [
      "2023-11-12 12:35:12.427761: I tensorflow/core/grappler/optimizers/custom_graph_optimizer_registry.cc:114] Plugin optimizer for device_type GPU is enabled.\n"
     ]
    },
    {
     "name": "stdout",
     "output_type": "stream",
     "text": [
      "101/101 [==============================] - 1s 8ms/step - loss: 367.7370\n",
      "Epoch 2/15\n",
      "101/101 [==============================] - 1s 5ms/step - loss: 13.5005\n",
      "Epoch 3/15\n",
      "101/101 [==============================] - 1s 5ms/step - loss: 3.7678\n",
      "Epoch 4/15\n",
      "101/101 [==============================] - 1s 5ms/step - loss: 1.8375\n",
      "Epoch 5/15\n",
      "101/101 [==============================] - 1s 5ms/step - loss: 1.5504\n",
      "Epoch 6/15\n",
      "101/101 [==============================] - 1s 6ms/step - loss: 1.1331\n",
      "Epoch 7/15\n",
      "101/101 [==============================] - 1s 5ms/step - loss: 1.2695\n",
      "Epoch 8/15\n",
      "101/101 [==============================] - 1s 5ms/step - loss: 1.0213\n",
      "Epoch 9/15\n",
      "101/101 [==============================] - 1s 6ms/step - loss: 0.8115\n",
      "Epoch 10/15\n",
      "101/101 [==============================] - 1s 6ms/step - loss: 1.0147\n",
      "12/12 [==============================] - 0s 6ms/step\n"
     ]
    },
    {
     "name": "stderr",
     "output_type": "stream",
     "text": [
      "2023-11-12 12:35:18.530803: I tensorflow/core/grappler/optimizers/custom_graph_optimizer_registry.cc:114] Plugin optimizer for device_type GPU is enabled.\n"
     ]
    },
    {
     "name": "stdout",
     "output_type": "stream",
     "text": [
      "Epoch 1/15\n"
     ]
    },
    {
     "name": "stderr",
     "output_type": "stream",
     "text": [
      "2023-11-12 12:35:18.979599: I tensorflow/core/grappler/optimizers/custom_graph_optimizer_registry.cc:114] Plugin optimizer for device_type GPU is enabled.\n"
     ]
    },
    {
     "name": "stdout",
     "output_type": "stream",
     "text": [
      "112/112 [==============================] - 1s 8ms/step - loss: 364.3698\n",
      "Epoch 2/15\n",
      "112/112 [==============================] - 1s 6ms/step - loss: 16.5198\n",
      "Epoch 3/15\n",
      "112/112 [==============================] - 1s 5ms/step - loss: 4.3447\n",
      "Epoch 4/15\n",
      "112/112 [==============================] - 1s 5ms/step - loss: 2.8591\n",
      "Epoch 5/15\n",
      "112/112 [==============================] - 1s 5ms/step - loss: 1.5327\n",
      "Epoch 6/15\n",
      "112/112 [==============================] - 1s 5ms/step - loss: 1.3732\n",
      "Epoch 7/15\n",
      "112/112 [==============================] - 1s 5ms/step - loss: 1.2174\n",
      "Epoch 8/15\n",
      "112/112 [==============================] - 1s 6ms/step - loss: 1.0791\n",
      "Epoch 9/15\n",
      "112/112 [==============================] - 1s 6ms/step - loss: 0.9224\n",
      "Epoch 10/15\n",
      "112/112 [==============================] - 1s 5ms/step - loss: 0.8131\n",
      "Epoch 11/15\n",
      "112/112 [==============================] - 1s 5ms/step - loss: 1.1196\n",
      "Epoch 12/15\n",
      "112/112 [==============================] - 1s 5ms/step - loss: 1.1015\n",
      "Epoch 13/15\n",
      "112/112 [==============================] - 1s 6ms/step - loss: 1.0381\n",
      "12/12 [==============================] - 0s 8ms/step\n"
     ]
    },
    {
     "name": "stderr",
     "output_type": "stream",
     "text": [
      "2023-11-12 12:35:27.540601: I tensorflow/core/grappler/optimizers/custom_graph_optimizer_registry.cc:114] Plugin optimizer for device_type GPU is enabled.\n"
     ]
    },
    {
     "name": "stdout",
     "output_type": "stream",
     "text": [
      "Epoch 1/15\n"
     ]
    },
    {
     "name": "stderr",
     "output_type": "stream",
     "text": [
      "2023-11-12 12:35:28.021503: I tensorflow/core/grappler/optimizers/custom_graph_optimizer_registry.cc:114] Plugin optimizer for device_type GPU is enabled.\n"
     ]
    },
    {
     "name": "stdout",
     "output_type": "stream",
     "text": [
      "90/90 [==============================] - 1s 9ms/step - loss: 599.2523\n",
      "Epoch 2/15\n",
      "90/90 [==============================] - 0s 5ms/step - loss: 45.0344\n",
      "Epoch 3/15\n",
      "90/90 [==============================] - 0s 5ms/step - loss: 7.7248\n",
      "Epoch 4/15\n",
      "90/90 [==============================] - 0s 5ms/step - loss: 3.3400\n",
      "Epoch 5/15\n",
      "90/90 [==============================] - 1s 6ms/step - loss: 2.4169\n",
      "Epoch 6/15\n",
      "90/90 [==============================] - 0s 5ms/step - loss: 2.0152\n",
      "Epoch 7/15\n",
      "90/90 [==============================] - 0s 5ms/step - loss: 2.0310\n",
      "Epoch 8/15\n",
      "90/90 [==============================] - 1s 6ms/step - loss: 1.3486\n",
      "Epoch 9/15\n",
      "90/90 [==============================] - 1s 6ms/step - loss: 1.0403\n",
      "Epoch 10/15\n",
      "90/90 [==============================] - 0s 5ms/step - loss: 1.0873\n",
      "Epoch 11/15\n",
      "90/90 [==============================] - 0s 5ms/step - loss: 1.1548\n",
      "Epoch 12/15\n",
      "90/90 [==============================] - 0s 5ms/step - loss: 0.9196\n",
      "12/12 [==============================] - 0s 7ms/step\n"
     ]
    },
    {
     "name": "stderr",
     "output_type": "stream",
     "text": [
      "2023-11-12 12:35:34.475259: I tensorflow/core/grappler/optimizers/custom_graph_optimizer_registry.cc:114] Plugin optimizer for device_type GPU is enabled.\n"
     ]
    },
    {
     "name": "stdout",
     "output_type": "stream",
     "text": [
      "Epoch 1/15\n"
     ]
    },
    {
     "name": "stderr",
     "output_type": "stream",
     "text": [
      "2023-11-12 12:35:34.932835: I tensorflow/core/grappler/optimizers/custom_graph_optimizer_registry.cc:114] Plugin optimizer for device_type GPU is enabled.\n"
     ]
    },
    {
     "name": "stdout",
     "output_type": "stream",
     "text": [
      "101/101 [==============================] - 1s 8ms/step - loss: 523.3915\n",
      "Epoch 2/15\n",
      "101/101 [==============================] - 1s 6ms/step - loss: 31.1836\n",
      "Epoch 3/15\n",
      "101/101 [==============================] - 1s 5ms/step - loss: 6.0726\n",
      "Epoch 4/15\n",
      "101/101 [==============================] - 1s 5ms/step - loss: 3.3247\n",
      "Epoch 5/15\n",
      "101/101 [==============================] - 1s 6ms/step - loss: 2.2700\n",
      "Epoch 6/15\n",
      "101/101 [==============================] - 1s 5ms/step - loss: 1.5166\n",
      "Epoch 7/15\n",
      "101/101 [==============================] - 1s 5ms/step - loss: 1.3182\n",
      "Epoch 8/15\n",
      "101/101 [==============================] - 1s 5ms/step - loss: 1.2149\n",
      "Epoch 9/15\n",
      "101/101 [==============================] - 1s 5ms/step - loss: 1.4657\n",
      "Epoch 10/15\n",
      "101/101 [==============================] - 1s 5ms/step - loss: 1.3317\n",
      "12/12 [==============================] - 0s 5ms/step\n"
     ]
    },
    {
     "name": "stderr",
     "output_type": "stream",
     "text": [
      "2023-11-12 12:35:41.018440: I tensorflow/core/grappler/optimizers/custom_graph_optimizer_registry.cc:114] Plugin optimizer for device_type GPU is enabled.\n"
     ]
    },
    {
     "name": "stdout",
     "output_type": "stream",
     "text": [
      "Epoch 1/15\n"
     ]
    },
    {
     "name": "stderr",
     "output_type": "stream",
     "text": [
      "2023-11-12 12:35:41.460029: I tensorflow/core/grappler/optimizers/custom_graph_optimizer_registry.cc:114] Plugin optimizer for device_type GPU is enabled.\n"
     ]
    },
    {
     "name": "stdout",
     "output_type": "stream",
     "text": [
      "112/112 [==============================] - 1s 8ms/step - loss: 402.0297\n",
      "Epoch 2/15\n",
      "112/112 [==============================] - 1s 5ms/step - loss: 13.5906\n",
      "Epoch 3/15\n",
      "112/112 [==============================] - 1s 5ms/step - loss: 3.8543\n",
      "Epoch 4/15\n",
      "112/112 [==============================] - 1s 5ms/step - loss: 2.5222\n",
      "Epoch 5/15\n",
      "112/112 [==============================] - 1s 5ms/step - loss: 1.5230\n",
      "Epoch 6/15\n",
      "112/112 [==============================] - 1s 6ms/step - loss: 1.1517\n",
      "Epoch 7/15\n",
      "112/112 [==============================] - 1s 5ms/step - loss: 1.1054\n",
      "Epoch 8/15\n",
      "112/112 [==============================] - 1s 6ms/step - loss: 1.1124\n",
      "Epoch 9/15\n",
      "112/112 [==============================] - 1s 5ms/step - loss: 0.8186\n",
      "Epoch 10/15\n",
      "112/112 [==============================] - 1s 6ms/step - loss: 0.9081\n",
      "Epoch 11/15\n",
      "112/112 [==============================] - 1s 6ms/step - loss: 0.8783\n",
      "Epoch 12/15\n",
      "112/112 [==============================] - 1s 6ms/step - loss: 1.1542\n",
      "Epoch 13/15\n",
      "112/112 [==============================] - 1s 6ms/step - loss: 0.9600\n",
      "12/12 [==============================] - 0s 8ms/step\n"
     ]
    },
    {
     "name": "stderr",
     "output_type": "stream",
     "text": [
      "2023-11-12 12:35:50.187315: I tensorflow/core/grappler/optimizers/custom_graph_optimizer_registry.cc:114] Plugin optimizer for device_type GPU is enabled.\n"
     ]
    },
    {
     "name": "stdout",
     "output_type": "stream",
     "text": [
      "Epoch 1/15\n"
     ]
    },
    {
     "name": "stderr",
     "output_type": "stream",
     "text": [
      "2023-11-12 12:35:50.690243: I tensorflow/core/grappler/optimizers/custom_graph_optimizer_registry.cc:114] Plugin optimizer for device_type GPU is enabled.\n"
     ]
    },
    {
     "name": "stdout",
     "output_type": "stream",
     "text": [
      "90/90 [==============================] - 1s 10ms/step - loss: 375.2518\n",
      "Epoch 2/15\n",
      "90/90 [==============================] - 1s 6ms/step - loss: 23.5551\n",
      "Epoch 3/15\n",
      "90/90 [==============================] - 0s 5ms/step - loss: 4.3433\n",
      "Epoch 4/15\n",
      "90/90 [==============================] - 1s 6ms/step - loss: 2.3870\n",
      "Epoch 5/15\n",
      "90/90 [==============================] - 1s 6ms/step - loss: 3.5087\n",
      "Epoch 6/15\n",
      "90/90 [==============================] - 0s 5ms/step - loss: 2.9136\n",
      "Epoch 7/15\n",
      "90/90 [==============================] - 1s 6ms/step - loss: 1.9398\n",
      "Epoch 8/15\n",
      "90/90 [==============================] - 0s 5ms/step - loss: 1.7838\n",
      "Epoch 9/15\n",
      "90/90 [==============================] - 0s 5ms/step - loss: 1.6844\n",
      "Epoch 10/15\n",
      "90/90 [==============================] - 0s 5ms/step - loss: 0.9852\n",
      "Epoch 11/15\n",
      "90/90 [==============================] - 0s 5ms/step - loss: 0.7455\n",
      "Epoch 12/15\n",
      "90/90 [==============================] - 0s 6ms/step - loss: 1.0042\n",
      "Epoch 13/15\n",
      "90/90 [==============================] - 0s 6ms/step - loss: 1.1388\n",
      "Epoch 14/15\n",
      "90/90 [==============================] - 0s 5ms/step - loss: 1.4668\n",
      "12/12 [==============================] - 0s 9ms/step\n"
     ]
    },
    {
     "name": "stderr",
     "output_type": "stream",
     "text": [
      "2023-11-12 12:35:58.524794: I tensorflow/core/grappler/optimizers/custom_graph_optimizer_registry.cc:114] Plugin optimizer for device_type GPU is enabled.\n"
     ]
    },
    {
     "name": "stdout",
     "output_type": "stream",
     "text": [
      "Epoch 1/15\n"
     ]
    },
    {
     "name": "stderr",
     "output_type": "stream",
     "text": [
      "2023-11-12 12:35:59.135307: I tensorflow/core/grappler/optimizers/custom_graph_optimizer_registry.cc:114] Plugin optimizer for device_type GPU is enabled.\n"
     ]
    },
    {
     "name": "stdout",
     "output_type": "stream",
     "text": [
      "101/101 [==============================] - 2s 10ms/step - loss: 454.8343\n",
      "Epoch 2/15\n",
      "101/101 [==============================] - 1s 6ms/step - loss: 14.1177\n",
      "Epoch 3/15\n",
      "101/101 [==============================] - 1s 6ms/step - loss: 3.5777\n",
      "Epoch 4/15\n",
      "101/101 [==============================] - 1s 5ms/step - loss: 1.7187\n",
      "Epoch 5/15\n",
      "101/101 [==============================] - 1s 6ms/step - loss: 1.7750\n",
      "Epoch 6/15\n",
      "101/101 [==============================] - 1s 6ms/step - loss: 3.5978\n",
      "Epoch 7/15\n",
      "101/101 [==============================] - 1s 6ms/step - loss: 1.3656\n",
      "Epoch 8/15\n",
      "101/101 [==============================] - 1s 6ms/step - loss: 1.1393\n",
      "Epoch 9/15\n",
      "101/101 [==============================] - 1s 6ms/step - loss: 1.8332\n",
      "Epoch 10/15\n",
      "101/101 [==============================] - 1s 6ms/step - loss: 1.1675\n",
      "Epoch 11/15\n",
      "101/101 [==============================] - 1s 6ms/step - loss: 0.9660\n",
      "Epoch 12/15\n",
      "101/101 [==============================] - 1s 6ms/step - loss: 0.7996\n",
      "12/12 [==============================] - 0s 6ms/step\n"
     ]
    },
    {
     "name": "stderr",
     "output_type": "stream",
     "text": [
      "2023-11-12 12:36:06.760782: I tensorflow/core/grappler/optimizers/custom_graph_optimizer_registry.cc:114] Plugin optimizer for device_type GPU is enabled.\n"
     ]
    },
    {
     "name": "stdout",
     "output_type": "stream",
     "text": [
      "Epoch 1/15\n"
     ]
    },
    {
     "name": "stderr",
     "output_type": "stream",
     "text": [
      "2023-11-12 12:36:07.212361: I tensorflow/core/grappler/optimizers/custom_graph_optimizer_registry.cc:114] Plugin optimizer for device_type GPU is enabled.\n"
     ]
    },
    {
     "name": "stdout",
     "output_type": "stream",
     "text": [
      "112/112 [==============================] - 1s 9ms/step - loss: 354.3285\n",
      "Epoch 2/15\n",
      "112/112 [==============================] - 1s 6ms/step - loss: 22.9410\n",
      "Epoch 3/15\n",
      "112/112 [==============================] - 1s 6ms/step - loss: 4.0204\n",
      "Epoch 4/15\n",
      "112/112 [==============================] - 1s 6ms/step - loss: 2.2107\n",
      "Epoch 5/15\n",
      "112/112 [==============================] - 1s 5ms/step - loss: 2.0654\n",
      "Epoch 6/15\n",
      "112/112 [==============================] - 1s 6ms/step - loss: 1.5652\n",
      "Epoch 7/15\n",
      "112/112 [==============================] - 1s 6ms/step - loss: 1.2223\n",
      "Epoch 8/15\n",
      "112/112 [==============================] - 1s 6ms/step - loss: 1.9717\n",
      "Epoch 9/15\n",
      "112/112 [==============================] - 1s 6ms/step - loss: 0.9602\n",
      "Epoch 10/15\n",
      "112/112 [==============================] - 1s 6ms/step - loss: 1.1024\n",
      "Epoch 11/15\n",
      "112/112 [==============================] - 1s 6ms/step - loss: 1.2318\n",
      "Epoch 12/15\n",
      "112/112 [==============================] - 1s 6ms/step - loss: 1.5967\n",
      "Epoch 13/15\n",
      "112/112 [==============================] - 1s 6ms/step - loss: 1.3521\n",
      "12/12 [==============================] - 0s 7ms/step\n"
     ]
    },
    {
     "name": "stderr",
     "output_type": "stream",
     "text": [
      "2023-11-12 12:36:16.196219: I tensorflow/core/grappler/optimizers/custom_graph_optimizer_registry.cc:114] Plugin optimizer for device_type GPU is enabled.\n"
     ]
    },
    {
     "name": "stdout",
     "output_type": "stream",
     "text": [
      "Epoch 1/15\n"
     ]
    },
    {
     "name": "stderr",
     "output_type": "stream",
     "text": [
      "2023-11-12 12:36:16.634113: I tensorflow/core/grappler/optimizers/custom_graph_optimizer_registry.cc:114] Plugin optimizer for device_type GPU is enabled.\n"
     ]
    },
    {
     "name": "stdout",
     "output_type": "stream",
     "text": [
      "90/90 [==============================] - 1s 9ms/step - loss: 502.4468\n",
      "Epoch 2/15\n",
      "90/90 [==============================] - 1s 6ms/step - loss: 31.2051\n",
      "Epoch 3/15\n",
      "90/90 [==============================] - 1s 6ms/step - loss: 5.5326\n",
      "Epoch 4/15\n",
      "90/90 [==============================] - 1s 6ms/step - loss: 3.4548\n",
      "Epoch 5/15\n",
      "90/90 [==============================] - 1s 6ms/step - loss: 2.5553\n",
      "Epoch 6/15\n",
      "90/90 [==============================] - 1s 6ms/step - loss: 2.1878\n",
      "Epoch 7/15\n",
      "90/90 [==============================] - 1s 6ms/step - loss: 2.2730\n",
      "Epoch 8/15\n",
      "90/90 [==============================] - 1s 6ms/step - loss: 1.3023\n",
      "Epoch 9/15\n",
      "90/90 [==============================] - 1s 6ms/step - loss: 1.3500\n",
      "Epoch 10/15\n",
      "90/90 [==============================] - 1s 6ms/step - loss: 1.0614\n",
      "Epoch 11/15\n",
      "90/90 [==============================] - 1s 6ms/step - loss: 1.1641\n",
      "Epoch 12/15\n",
      "90/90 [==============================] - 1s 6ms/step - loss: 1.2135\n",
      "12/12 [==============================] - 0s 8ms/step\n"
     ]
    },
    {
     "name": "stderr",
     "output_type": "stream",
     "text": [
      "2023-11-12 12:36:23.516509: I tensorflow/core/grappler/optimizers/custom_graph_optimizer_registry.cc:114] Plugin optimizer for device_type GPU is enabled.\n"
     ]
    },
    {
     "name": "stdout",
     "output_type": "stream",
     "text": [
      "Epoch 1/15\n"
     ]
    },
    {
     "name": "stderr",
     "output_type": "stream",
     "text": [
      "2023-11-12 12:36:23.963826: I tensorflow/core/grappler/optimizers/custom_graph_optimizer_registry.cc:114] Plugin optimizer for device_type GPU is enabled.\n"
     ]
    },
    {
     "name": "stdout",
     "output_type": "stream",
     "text": [
      "101/101 [==============================] - 1s 9ms/step - loss: 423.4612\n",
      "Epoch 2/15\n",
      "101/101 [==============================] - 1s 6ms/step - loss: 17.1244\n",
      "Epoch 3/15\n",
      "101/101 [==============================] - 1s 6ms/step - loss: 5.2677\n",
      "Epoch 4/15\n",
      "101/101 [==============================] - 1s 6ms/step - loss: 3.1447\n",
      "Epoch 5/15\n",
      "101/101 [==============================] - 1s 6ms/step - loss: 2.1009\n",
      "Epoch 6/15\n",
      "101/101 [==============================] - 1s 6ms/step - loss: 1.5462\n",
      "Epoch 7/15\n",
      "101/101 [==============================] - 1s 6ms/step - loss: 1.2167\n",
      "Epoch 8/15\n",
      "101/101 [==============================] - 1s 6ms/step - loss: 1.2634\n",
      "Epoch 9/15\n",
      "101/101 [==============================] - 1s 6ms/step - loss: 1.2648\n",
      "Epoch 10/15\n",
      "101/101 [==============================] - 1s 6ms/step - loss: 1.1291\n",
      "12/12 [==============================] - 0s 7ms/step\n"
     ]
    },
    {
     "name": "stderr",
     "output_type": "stream",
     "text": [
      "2023-11-12 12:36:30.575830: I tensorflow/core/grappler/optimizers/custom_graph_optimizer_registry.cc:114] Plugin optimizer for device_type GPU is enabled.\n"
     ]
    },
    {
     "name": "stdout",
     "output_type": "stream",
     "text": [
      "Epoch 1/15\n"
     ]
    },
    {
     "name": "stderr",
     "output_type": "stream",
     "text": [
      "2023-11-12 12:36:31.037420: I tensorflow/core/grappler/optimizers/custom_graph_optimizer_registry.cc:114] Plugin optimizer for device_type GPU is enabled.\n"
     ]
    },
    {
     "name": "stdout",
     "output_type": "stream",
     "text": [
      "112/112 [==============================] - 1s 8ms/step - loss: 354.8364\n",
      "Epoch 2/15\n",
      "112/112 [==============================] - 1s 7ms/step - loss: 11.0608\n",
      "Epoch 3/15\n",
      "112/112 [==============================] - 1s 6ms/step - loss: 3.7915\n",
      "Epoch 4/15\n",
      "112/112 [==============================] - 1s 6ms/step - loss: 2.5446\n",
      "Epoch 5/15\n",
      "112/112 [==============================] - 1s 6ms/step - loss: 1.8328\n",
      "Epoch 6/15\n",
      "112/112 [==============================] - 1s 6ms/step - loss: 1.4765\n",
      "Epoch 7/15\n",
      "112/112 [==============================] - 1s 6ms/step - loss: 1.3091\n",
      "Epoch 8/15\n",
      "112/112 [==============================] - 1s 6ms/step - loss: 1.2205\n",
      "Epoch 9/15\n",
      "112/112 [==============================] - 1s 6ms/step - loss: 0.8896\n",
      "Epoch 10/15\n",
      "112/112 [==============================] - 1s 6ms/step - loss: 0.9315\n",
      "Epoch 11/15\n",
      "112/112 [==============================] - 1s 6ms/step - loss: 1.2456\n",
      "12/12 [==============================] - 0s 7ms/step\n"
     ]
    },
    {
     "name": "stderr",
     "output_type": "stream",
     "text": [
      "2023-11-12 12:36:38.959562: I tensorflow/core/grappler/optimizers/custom_graph_optimizer_registry.cc:114] Plugin optimizer for device_type GPU is enabled.\n"
     ]
    },
    {
     "name": "stdout",
     "output_type": "stream",
     "text": [
      "Epoch 1/15\n"
     ]
    },
    {
     "name": "stderr",
     "output_type": "stream",
     "text": [
      "2023-11-12 12:36:39.447475: I tensorflow/core/grappler/optimizers/custom_graph_optimizer_registry.cc:114] Plugin optimizer for device_type GPU is enabled.\n"
     ]
    },
    {
     "name": "stdout",
     "output_type": "stream",
     "text": [
      "90/90 [==============================] - 2s 11ms/step - loss: 416.7941\n",
      "Epoch 2/15\n",
      "90/90 [==============================] - 1s 7ms/step - loss: 19.9461\n",
      "Epoch 3/15\n",
      "90/90 [==============================] - 1s 6ms/step - loss: 6.2329\n",
      "Epoch 4/15\n",
      "90/90 [==============================] - 1s 6ms/step - loss: 4.1338\n",
      "Epoch 5/15\n",
      "90/90 [==============================] - 1s 6ms/step - loss: 2.2108\n",
      "Epoch 6/15\n",
      "90/90 [==============================] - 1s 6ms/step - loss: 2.2034\n",
      "Epoch 7/15\n",
      "90/90 [==============================] - 1s 6ms/step - loss: 1.8118\n",
      "Epoch 8/15\n",
      "90/90 [==============================] - 1s 6ms/step - loss: 1.3981\n",
      "Epoch 9/15\n",
      "90/90 [==============================] - 1s 7ms/step - loss: 1.7242\n",
      "Epoch 10/15\n",
      "90/90 [==============================] - 1s 6ms/step - loss: 1.2455\n",
      "Epoch 11/15\n",
      "90/90 [==============================] - 1s 6ms/step - loss: 1.3278\n",
      "Epoch 12/15\n",
      "90/90 [==============================] - 1s 6ms/step - loss: 1.1892\n",
      "12/12 [==============================] - 0s 6ms/step\n"
     ]
    },
    {
     "name": "stderr",
     "output_type": "stream",
     "text": [
      "2023-11-12 12:36:47.261295: I tensorflow/core/grappler/optimizers/custom_graph_optimizer_registry.cc:114] Plugin optimizer for device_type GPU is enabled.\n"
     ]
    },
    {
     "name": "stdout",
     "output_type": "stream",
     "text": [
      "Epoch 1/15\n"
     ]
    },
    {
     "name": "stderr",
     "output_type": "stream",
     "text": [
      "2023-11-12 12:36:47.775452: I tensorflow/core/grappler/optimizers/custom_graph_optimizer_registry.cc:114] Plugin optimizer for device_type GPU is enabled.\n"
     ]
    },
    {
     "name": "stdout",
     "output_type": "stream",
     "text": [
      "101/101 [==============================] - 2s 10ms/step - loss: 411.1466\n",
      "Epoch 2/15\n",
      "101/101 [==============================] - 1s 8ms/step - loss: 11.6540\n",
      "Epoch 3/15\n",
      "101/101 [==============================] - 1s 7ms/step - loss: 3.2083\n",
      "Epoch 4/15\n",
      "101/101 [==============================] - 1s 7ms/step - loss: 1.8798\n",
      "Epoch 5/15\n",
      "101/101 [==============================] - 1s 7ms/step - loss: 1.5049\n",
      "Epoch 6/15\n",
      "101/101 [==============================] - 1s 7ms/step - loss: 1.4096\n",
      "Epoch 7/15\n",
      "101/101 [==============================] - 1s 7ms/step - loss: 1.2157\n",
      "Epoch 8/15\n",
      "101/101 [==============================] - 1s 7ms/step - loss: 1.1336\n",
      "Epoch 9/15\n",
      "101/101 [==============================] - 1s 6ms/step - loss: 1.2773\n",
      "Epoch 10/15\n",
      "101/101 [==============================] - 1s 6ms/step - loss: 1.3211\n",
      "Epoch 11/15\n",
      "101/101 [==============================] - 1s 6ms/step - loss: 1.1453\n",
      "12/12 [==============================] - 0s 7ms/step\n"
     ]
    },
    {
     "name": "stderr",
     "output_type": "stream",
     "text": [
      "2023-11-12 12:36:55.995626: I tensorflow/core/grappler/optimizers/custom_graph_optimizer_registry.cc:114] Plugin optimizer for device_type GPU is enabled.\n"
     ]
    },
    {
     "name": "stdout",
     "output_type": "stream",
     "text": [
      "Epoch 1/15\n"
     ]
    },
    {
     "name": "stderr",
     "output_type": "stream",
     "text": [
      "2023-11-12 12:36:56.460413: I tensorflow/core/grappler/optimizers/custom_graph_optimizer_registry.cc:114] Plugin optimizer for device_type GPU is enabled.\n"
     ]
    },
    {
     "name": "stdout",
     "output_type": "stream",
     "text": [
      "112/112 [==============================] - 2s 9ms/step - loss: 393.2376\n",
      "Epoch 2/15\n",
      "112/112 [==============================] - 1s 7ms/step - loss: 8.6892\n",
      "Epoch 3/15\n",
      "112/112 [==============================] - 1s 6ms/step - loss: 3.2578\n",
      "Epoch 4/15\n",
      "112/112 [==============================] - 1s 6ms/step - loss: 1.7480\n",
      "Epoch 5/15\n",
      "112/112 [==============================] - 1s 6ms/step - loss: 1.7112\n",
      "Epoch 6/15\n",
      "112/112 [==============================] - 1s 7ms/step - loss: 1.1773\n",
      "Epoch 7/15\n",
      "112/112 [==============================] - 1s 7ms/step - loss: 1.3108\n",
      "Epoch 8/15\n",
      "112/112 [==============================] - 1s 7ms/step - loss: 1.9529\n",
      "Epoch 9/15\n",
      "112/112 [==============================] - 1s 6ms/step - loss: 0.9899\n",
      "Epoch 10/15\n",
      "112/112 [==============================] - 1s 6ms/step - loss: 0.7720\n",
      "12/12 [==============================] - 0s 8ms/step\n"
     ]
    },
    {
     "name": "stderr",
     "output_type": "stream",
     "text": [
      "2023-11-12 12:37:04.529851: I tensorflow/core/grappler/optimizers/custom_graph_optimizer_registry.cc:114] Plugin optimizer for device_type GPU is enabled.\n"
     ]
    },
    {
     "name": "stdout",
     "output_type": "stream",
     "text": [
      "Epoch 1/15\n"
     ]
    },
    {
     "name": "stderr",
     "output_type": "stream",
     "text": [
      "2023-11-12 12:37:05.000300: I tensorflow/core/grappler/optimizers/custom_graph_optimizer_registry.cc:114] Plugin optimizer for device_type GPU is enabled.\n"
     ]
    },
    {
     "name": "stdout",
     "output_type": "stream",
     "text": [
      "90/90 [==============================] - 1s 10ms/step - loss: 426.8295\n",
      "Epoch 2/15\n",
      "90/90 [==============================] - 1s 7ms/step - loss: 23.4117\n",
      "Epoch 3/15\n",
      "90/90 [==============================] - 1s 6ms/step - loss: 5.3020\n",
      "Epoch 4/15\n",
      "90/90 [==============================] - 1s 7ms/step - loss: 3.7716\n",
      "Epoch 5/15\n",
      "90/90 [==============================] - 1s 7ms/step - loss: 2.5492\n",
      "Epoch 6/15\n",
      "90/90 [==============================] - 1s 6ms/step - loss: 2.6332\n",
      "Epoch 7/15\n",
      "90/90 [==============================] - 1s 6ms/step - loss: 1.7739\n",
      "Epoch 8/15\n",
      "90/90 [==============================] - 1s 6ms/step - loss: 1.4701\n",
      "Epoch 9/15\n",
      "90/90 [==============================] - 1s 7ms/step - loss: 1.2584\n",
      "Epoch 10/15\n",
      "90/90 [==============================] - 1s 6ms/step - loss: 0.8814\n",
      "Epoch 11/15\n",
      "90/90 [==============================] - 1s 6ms/step - loss: 1.2799\n",
      "Epoch 12/15\n",
      "90/90 [==============================] - 1s 6ms/step - loss: 1.0802\n",
      "Epoch 13/15\n",
      "90/90 [==============================] - 1s 6ms/step - loss: 1.2441\n",
      "12/12 [==============================] - 0s 7ms/step\n"
     ]
    },
    {
     "name": "stderr",
     "output_type": "stream",
     "text": [
      "2023-11-12 12:37:13.283967: I tensorflow/core/grappler/optimizers/custom_graph_optimizer_registry.cc:114] Plugin optimizer for device_type GPU is enabled.\n"
     ]
    },
    {
     "name": "stdout",
     "output_type": "stream",
     "text": [
      "Epoch 1/15\n"
     ]
    },
    {
     "name": "stderr",
     "output_type": "stream",
     "text": [
      "2023-11-12 12:37:13.748318: I tensorflow/core/grappler/optimizers/custom_graph_optimizer_registry.cc:114] Plugin optimizer for device_type GPU is enabled.\n"
     ]
    },
    {
     "name": "stdout",
     "output_type": "stream",
     "text": [
      "101/101 [==============================] - 1s 10ms/step - loss: 387.9527\n",
      "Epoch 2/15\n",
      "101/101 [==============================] - 1s 7ms/step - loss: 14.4260\n",
      "Epoch 3/15\n",
      "101/101 [==============================] - 1s 6ms/step - loss: 5.1002\n",
      "Epoch 4/15\n",
      "101/101 [==============================] - 1s 6ms/step - loss: 2.8208\n",
      "Epoch 5/15\n",
      "101/101 [==============================] - 1s 6ms/step - loss: 2.5466\n",
      "Epoch 6/15\n",
      "101/101 [==============================] - 1s 6ms/step - loss: 1.4505\n",
      "Epoch 7/15\n",
      "101/101 [==============================] - 1s 6ms/step - loss: 2.2666\n",
      "Epoch 8/15\n",
      "101/101 [==============================] - 1s 6ms/step - loss: 2.2047\n",
      "Epoch 9/15\n",
      "101/101 [==============================] - 1s 6ms/step - loss: 1.3049\n",
      "Epoch 10/15\n",
      "101/101 [==============================] - 1s 6ms/step - loss: 1.4399\n",
      "12/12 [==============================] - 0s 7ms/step\n"
     ]
    },
    {
     "name": "stderr",
     "output_type": "stream",
     "text": [
      "2023-11-12 12:37:20.896514: I tensorflow/core/grappler/optimizers/custom_graph_optimizer_registry.cc:114] Plugin optimizer for device_type GPU is enabled.\n"
     ]
    },
    {
     "name": "stdout",
     "output_type": "stream",
     "text": [
      "Epoch 1/15\n"
     ]
    },
    {
     "name": "stderr",
     "output_type": "stream",
     "text": [
      "2023-11-12 12:37:21.350950: I tensorflow/core/grappler/optimizers/custom_graph_optimizer_registry.cc:114] Plugin optimizer for device_type GPU is enabled.\n"
     ]
    },
    {
     "name": "stdout",
     "output_type": "stream",
     "text": [
      "112/112 [==============================] - 2s 10ms/step - loss: 354.5756\n",
      "Epoch 2/15\n",
      "112/112 [==============================] - 1s 6ms/step - loss: 13.9456\n",
      "Epoch 3/15\n",
      "112/112 [==============================] - 1s 6ms/step - loss: 4.8730\n",
      "Epoch 4/15\n",
      "112/112 [==============================] - 1s 7ms/step - loss: 2.9589\n",
      "Epoch 5/15\n",
      "112/112 [==============================] - 1s 6ms/step - loss: 1.6818\n",
      "Epoch 6/15\n",
      "112/112 [==============================] - 1s 6ms/step - loss: 1.4406\n",
      "Epoch 7/15\n",
      "112/112 [==============================] - 1s 6ms/step - loss: 1.3044\n",
      "Epoch 8/15\n",
      "112/112 [==============================] - 1s 6ms/step - loss: 1.5864\n",
      "Epoch 9/15\n",
      "112/112 [==============================] - 1s 6ms/step - loss: 0.9275\n",
      "Epoch 10/15\n",
      "112/112 [==============================] - 1s 7ms/step - loss: 0.9877\n",
      "Epoch 11/15\n",
      "112/112 [==============================] - 1s 7ms/step - loss: 1.1360\n",
      "Epoch 12/15\n",
      "112/112 [==============================] - 1s 7ms/step - loss: 1.1599\n",
      "Epoch 13/15\n",
      "112/112 [==============================] - 1s 7ms/step - loss: 1.2334\n",
      "12/12 [==============================] - 0s 7ms/step\n"
     ]
    },
    {
     "name": "stderr",
     "output_type": "stream",
     "text": [
      "2023-11-12 12:37:31.622686: I tensorflow/core/grappler/optimizers/custom_graph_optimizer_registry.cc:114] Plugin optimizer for device_type GPU is enabled.\n"
     ]
    },
    {
     "name": "stdout",
     "output_type": "stream",
     "text": [
      "Epoch 1/15\n"
     ]
    },
    {
     "name": "stderr",
     "output_type": "stream",
     "text": [
      "2023-11-12 12:37:32.058708: I tensorflow/core/grappler/optimizers/custom_graph_optimizer_registry.cc:114] Plugin optimizer for device_type GPU is enabled.\n"
     ]
    },
    {
     "name": "stdout",
     "output_type": "stream",
     "text": [
      "90/90 [==============================] - 1s 9ms/step - loss: 1109.6342\n",
      "Epoch 2/15\n",
      "90/90 [==============================] - 1s 6ms/step - loss: 93.8252\n",
      "Epoch 3/15\n",
      "90/90 [==============================] - 0s 5ms/step - loss: 43.6420\n",
      "Epoch 4/15\n",
      "90/90 [==============================] - 0s 5ms/step - loss: 13.8858\n",
      "Epoch 5/15\n",
      "90/90 [==============================] - 0s 5ms/step - loss: 4.2384\n",
      "Epoch 6/15\n",
      "90/90 [==============================] - 0s 5ms/step - loss: 1.8594\n",
      "Epoch 7/15\n",
      "90/90 [==============================] - 0s 5ms/step - loss: 1.2837\n",
      "Epoch 8/15\n",
      "90/90 [==============================] - 0s 5ms/step - loss: 0.9718\n",
      "Epoch 9/15\n",
      "90/90 [==============================] - 0s 4ms/step - loss: 0.8285\n",
      "Epoch 10/15\n",
      "90/90 [==============================] - 0s 4ms/step - loss: 0.7381\n",
      "Epoch 11/15\n",
      "90/90 [==============================] - 0s 5ms/step - loss: 0.6619\n",
      "Epoch 12/15\n",
      "90/90 [==============================] - 0s 5ms/step - loss: 0.5814\n",
      "Epoch 13/15\n",
      "90/90 [==============================] - 0s 5ms/step - loss: 0.6660\n",
      "Epoch 14/15\n",
      "90/90 [==============================] - 0s 5ms/step - loss: 0.5383\n",
      "12/12 [==============================] - 0s 7ms/step\n"
     ]
    },
    {
     "name": "stderr",
     "output_type": "stream",
     "text": [
      "2023-11-12 12:37:38.946678: I tensorflow/core/grappler/optimizers/custom_graph_optimizer_registry.cc:114] Plugin optimizer for device_type GPU is enabled.\n"
     ]
    },
    {
     "name": "stdout",
     "output_type": "stream",
     "text": [
      "Epoch 1/15\n"
     ]
    },
    {
     "name": "stderr",
     "output_type": "stream",
     "text": [
      "2023-11-12 12:37:39.371281: I tensorflow/core/grappler/optimizers/custom_graph_optimizer_registry.cc:114] Plugin optimizer for device_type GPU is enabled.\n"
     ]
    },
    {
     "name": "stdout",
     "output_type": "stream",
     "text": [
      "101/101 [==============================] - 1s 8ms/step - loss: 980.8738\n",
      "Epoch 2/15\n",
      "101/101 [==============================] - 1s 5ms/step - loss: 74.6653\n",
      "Epoch 3/15\n",
      "101/101 [==============================] - 0s 4ms/step - loss: 26.3598\n",
      "Epoch 4/15\n",
      "101/101 [==============================] - 0s 5ms/step - loss: 5.9063\n",
      "Epoch 5/15\n",
      "101/101 [==============================] - 0s 5ms/step - loss: 2.1651\n",
      "Epoch 6/15\n",
      "101/101 [==============================] - 0s 4ms/step - loss: 1.4367\n",
      "Epoch 7/15\n",
      "101/101 [==============================] - 0s 4ms/step - loss: 1.1180\n",
      "Epoch 8/15\n",
      "101/101 [==============================] - 0s 4ms/step - loss: 0.9752\n",
      "Epoch 9/15\n",
      "101/101 [==============================] - 0s 5ms/step - loss: 0.7814\n",
      "Epoch 10/15\n",
      "101/101 [==============================] - 0s 5ms/step - loss: 0.7242\n",
      "Epoch 11/15\n",
      "101/101 [==============================] - 0s 4ms/step - loss: 0.7373\n",
      "Epoch 12/15\n",
      "101/101 [==============================] - 0s 5ms/step - loss: 0.6188\n",
      "Epoch 13/15\n",
      "101/101 [==============================] - 0s 4ms/step - loss: 0.5832\n",
      "12/12 [==============================] - 0s 8ms/step\n"
     ]
    },
    {
     "name": "stderr",
     "output_type": "stream",
     "text": [
      "2023-11-12 12:37:46.149301: I tensorflow/core/grappler/optimizers/custom_graph_optimizer_registry.cc:114] Plugin optimizer for device_type GPU is enabled.\n"
     ]
    },
    {
     "name": "stdout",
     "output_type": "stream",
     "text": [
      "Epoch 1/15\n"
     ]
    },
    {
     "name": "stderr",
     "output_type": "stream",
     "text": [
      "2023-11-12 12:37:46.578352: I tensorflow/core/grappler/optimizers/custom_graph_optimizer_registry.cc:114] Plugin optimizer for device_type GPU is enabled.\n"
     ]
    },
    {
     "name": "stdout",
     "output_type": "stream",
     "text": [
      "112/112 [==============================] - 1s 8ms/step - loss: 905.5750\n",
      "Epoch 2/15\n",
      "112/112 [==============================] - 1s 5ms/step - loss: 67.2498\n",
      "Epoch 3/15\n",
      "112/112 [==============================] - 1s 5ms/step - loss: 21.3928\n",
      "Epoch 4/15\n",
      "112/112 [==============================] - 1s 5ms/step - loss: 5.8600\n",
      "Epoch 5/15\n",
      "112/112 [==============================] - 1s 5ms/step - loss: 2.4132\n",
      "Epoch 6/15\n",
      "112/112 [==============================] - 1s 4ms/step - loss: 1.6022\n",
      "Epoch 7/15\n",
      "112/112 [==============================] - 1s 5ms/step - loss: 1.2091\n",
      "Epoch 8/15\n",
      "112/112 [==============================] - 0s 4ms/step - loss: 0.9458\n",
      "Epoch 9/15\n",
      "112/112 [==============================] - 1s 5ms/step - loss: 0.8671\n",
      "Epoch 10/15\n",
      "112/112 [==============================] - 1s 5ms/step - loss: 0.7073\n",
      "Epoch 11/15\n",
      "112/112 [==============================] - 0s 4ms/step - loss: 0.7544\n",
      "Epoch 12/15\n",
      "112/112 [==============================] - 1s 5ms/step - loss: 0.6227\n",
      "12/12 [==============================] - 0s 8ms/step\n"
     ]
    },
    {
     "name": "stderr",
     "output_type": "stream",
     "text": [
      "2023-11-12 12:37:53.510451: I tensorflow/core/grappler/optimizers/custom_graph_optimizer_registry.cc:114] Plugin optimizer for device_type GPU is enabled.\n"
     ]
    },
    {
     "name": "stdout",
     "output_type": "stream",
     "text": [
      "Epoch 1/15\n"
     ]
    },
    {
     "name": "stderr",
     "output_type": "stream",
     "text": [
      "2023-11-12 12:37:53.940386: I tensorflow/core/grappler/optimizers/custom_graph_optimizer_registry.cc:114] Plugin optimizer for device_type GPU is enabled.\n"
     ]
    },
    {
     "name": "stdout",
     "output_type": "stream",
     "text": [
      "90/90 [==============================] - 1s 9ms/step - loss: 1760.6934\n",
      "Epoch 2/15\n",
      "90/90 [==============================] - 0s 5ms/step - loss: 133.7334\n",
      "Epoch 3/15\n",
      "90/90 [==============================] - 0s 5ms/step - loss: 80.1459\n",
      "Epoch 4/15\n",
      "90/90 [==============================] - 0s 5ms/step - loss: 45.5894\n",
      "Epoch 5/15\n",
      "90/90 [==============================] - 0s 5ms/step - loss: 23.7740\n",
      "Epoch 6/15\n",
      "90/90 [==============================] - 0s 5ms/step - loss: 12.1520\n",
      "Epoch 7/15\n",
      "90/90 [==============================] - 0s 6ms/step - loss: 5.8517\n",
      "Epoch 8/15\n",
      "90/90 [==============================] - 0s 5ms/step - loss: 3.2959\n",
      "Epoch 9/15\n",
      "90/90 [==============================] - 0s 5ms/step - loss: 2.3199\n",
      "Epoch 10/15\n",
      "90/90 [==============================] - 0s 5ms/step - loss: 1.6755\n",
      "Epoch 11/15\n",
      "90/90 [==============================] - 0s 5ms/step - loss: 1.3571\n",
      "Epoch 12/15\n",
      "90/90 [==============================] - 0s 5ms/step - loss: 1.0493\n",
      "Epoch 13/15\n",
      "90/90 [==============================] - 0s 5ms/step - loss: 0.9168\n",
      "Epoch 14/15\n",
      "90/90 [==============================] - 0s 5ms/step - loss: 0.7771\n",
      "Epoch 15/15\n",
      "90/90 [==============================] - 0s 5ms/step - loss: 0.7169\n",
      "12/12 [==============================] - 0s 8ms/step\n"
     ]
    },
    {
     "name": "stderr",
     "output_type": "stream",
     "text": [
      "2023-11-12 12:38:01.274488: I tensorflow/core/grappler/optimizers/custom_graph_optimizer_registry.cc:114] Plugin optimizer for device_type GPU is enabled.\n"
     ]
    },
    {
     "name": "stdout",
     "output_type": "stream",
     "text": [
      "Epoch 1/15\n"
     ]
    },
    {
     "name": "stderr",
     "output_type": "stream",
     "text": [
      "2023-11-12 12:38:01.707244: I tensorflow/core/grappler/optimizers/custom_graph_optimizer_registry.cc:114] Plugin optimizer for device_type GPU is enabled.\n"
     ]
    },
    {
     "name": "stdout",
     "output_type": "stream",
     "text": [
      "101/101 [==============================] - 1s 8ms/step - loss: 1585.7094\n",
      "Epoch 2/15\n",
      "101/101 [==============================] - 1s 5ms/step - loss: 120.5380\n",
      "Epoch 3/15\n",
      "101/101 [==============================] - 0s 5ms/step - loss: 71.1724\n",
      "Epoch 4/15\n",
      "101/101 [==============================] - 1s 5ms/step - loss: 35.1713\n",
      "Epoch 5/15\n",
      "101/101 [==============================] - 1s 5ms/step - loss: 14.5468\n",
      "Epoch 6/15\n",
      "101/101 [==============================] - 0s 5ms/step - loss: 5.7267\n",
      "Epoch 7/15\n",
      "101/101 [==============================] - 0s 5ms/step - loss: 2.5858\n",
      "Epoch 8/15\n",
      "101/101 [==============================] - 0s 4ms/step - loss: 1.7395\n",
      "Epoch 9/15\n",
      "101/101 [==============================] - 0s 4ms/step - loss: 1.3276\n",
      "Epoch 10/15\n",
      "101/101 [==============================] - 0s 5ms/step - loss: 1.1039\n",
      "Epoch 11/15\n",
      "101/101 [==============================] - 0s 5ms/step - loss: 0.9474\n",
      "Epoch 12/15\n",
      "101/101 [==============================] - 0s 4ms/step - loss: 0.8120\n",
      "Epoch 13/15\n",
      "101/101 [==============================] - 0s 4ms/step - loss: 0.6896\n",
      "Epoch 14/15\n",
      "101/101 [==============================] - 0s 5ms/step - loss: 0.6568\n",
      "12/12 [==============================] - 0s 7ms/step\n"
     ]
    },
    {
     "name": "stderr",
     "output_type": "stream",
     "text": [
      "2023-11-12 12:38:09.076568: I tensorflow/core/grappler/optimizers/custom_graph_optimizer_registry.cc:114] Plugin optimizer for device_type GPU is enabled.\n"
     ]
    },
    {
     "name": "stdout",
     "output_type": "stream",
     "text": [
      "Epoch 1/15\n"
     ]
    },
    {
     "name": "stderr",
     "output_type": "stream",
     "text": [
      "2023-11-12 12:38:09.506650: I tensorflow/core/grappler/optimizers/custom_graph_optimizer_registry.cc:114] Plugin optimizer for device_type GPU is enabled.\n"
     ]
    },
    {
     "name": "stdout",
     "output_type": "stream",
     "text": [
      "112/112 [==============================] - 1s 7ms/step - loss: 1473.9651\n",
      "Epoch 2/15\n",
      "112/112 [==============================] - 1s 5ms/step - loss: 108.5192\n",
      "Epoch 3/15\n",
      "112/112 [==============================] - 1s 5ms/step - loss: 58.6893\n",
      "Epoch 4/15\n",
      "112/112 [==============================] - 1s 5ms/step - loss: 24.4728\n",
      "Epoch 5/15\n",
      "112/112 [==============================] - 1s 5ms/step - loss: 8.4315\n",
      "Epoch 6/15\n",
      "112/112 [==============================] - 1s 5ms/step - loss: 3.2029\n",
      "Epoch 7/15\n",
      "112/112 [==============================] - 1s 5ms/step - loss: 1.7672\n",
      "Epoch 8/15\n",
      "112/112 [==============================] - 1s 5ms/step - loss: 1.2692\n",
      "Epoch 9/15\n",
      "112/112 [==============================] - 1s 5ms/step - loss: 1.0245\n",
      "Epoch 10/15\n",
      "112/112 [==============================] - 1s 5ms/step - loss: 0.9120\n",
      "Epoch 11/15\n",
      "112/112 [==============================] - 1s 5ms/step - loss: 0.7868\n",
      "Epoch 12/15\n",
      "112/112 [==============================] - 1s 5ms/step - loss: 0.6675\n",
      "Epoch 13/15\n",
      "112/112 [==============================] - 1s 5ms/step - loss: 0.6189\n",
      "12/12 [==============================] - 0s 7ms/step\n"
     ]
    },
    {
     "name": "stderr",
     "output_type": "stream",
     "text": [
      "2023-11-12 12:38:17.172296: I tensorflow/core/grappler/optimizers/custom_graph_optimizer_registry.cc:114] Plugin optimizer for device_type GPU is enabled.\n"
     ]
    },
    {
     "name": "stdout",
     "output_type": "stream",
     "text": [
      "Epoch 1/15\n"
     ]
    },
    {
     "name": "stderr",
     "output_type": "stream",
     "text": [
      "2023-11-12 12:38:17.624765: I tensorflow/core/grappler/optimizers/custom_graph_optimizer_registry.cc:114] Plugin optimizer for device_type GPU is enabled.\n"
     ]
    },
    {
     "name": "stdout",
     "output_type": "stream",
     "text": [
      "90/90 [==============================] - 1s 10ms/step - loss: 1156.2837\n",
      "Epoch 2/15\n",
      "90/90 [==============================] - 0s 5ms/step - loss: 79.4380\n",
      "Epoch 3/15\n",
      "90/90 [==============================] - 0s 5ms/step - loss: 30.7093\n",
      "Epoch 4/15\n",
      "90/90 [==============================] - 0s 5ms/step - loss: 11.2115\n",
      "Epoch 5/15\n",
      "90/90 [==============================] - 0s 5ms/step - loss: 5.3464\n",
      "Epoch 6/15\n",
      "90/90 [==============================] - 0s 5ms/step - loss: 2.9766\n",
      "Epoch 7/15\n",
      "90/90 [==============================] - 0s 5ms/step - loss: 1.7914\n",
      "Epoch 8/15\n",
      "90/90 [==============================] - 0s 5ms/step - loss: 1.2469\n",
      "Epoch 9/15\n",
      "90/90 [==============================] - 0s 5ms/step - loss: 1.0794\n",
      "Epoch 10/15\n",
      "90/90 [==============================] - 0s 6ms/step - loss: 0.8496\n",
      "Epoch 11/15\n",
      "90/90 [==============================] - 0s 5ms/step - loss: 0.7204\n",
      "Epoch 12/15\n",
      "90/90 [==============================] - 0s 5ms/step - loss: 0.6944\n",
      "Epoch 13/15\n",
      "90/90 [==============================] - 0s 5ms/step - loss: 0.6213\n",
      "Epoch 14/15\n",
      "90/90 [==============================] - 0s 5ms/step - loss: 0.6114\n",
      "Epoch 15/15\n",
      "90/90 [==============================] - 0s 5ms/step - loss: 0.5658\n",
      "12/12 [==============================] - 0s 7ms/step\n"
     ]
    },
    {
     "name": "stderr",
     "output_type": "stream",
     "text": [
      "2023-11-12 12:38:25.506075: I tensorflow/core/grappler/optimizers/custom_graph_optimizer_registry.cc:114] Plugin optimizer for device_type GPU is enabled.\n"
     ]
    },
    {
     "name": "stdout",
     "output_type": "stream",
     "text": [
      "Epoch 1/15\n"
     ]
    },
    {
     "name": "stderr",
     "output_type": "stream",
     "text": [
      "2023-11-12 12:38:26.098570: I tensorflow/core/grappler/optimizers/custom_graph_optimizer_registry.cc:114] Plugin optimizer for device_type GPU is enabled.\n"
     ]
    },
    {
     "name": "stdout",
     "output_type": "stream",
     "text": [
      "101/101 [==============================] - 2s 9ms/step - loss: 1054.7346\n",
      "Epoch 2/15\n",
      "101/101 [==============================] - 1s 5ms/step - loss: 71.6471\n",
      "Epoch 3/15\n",
      "101/101 [==============================] - 1s 5ms/step - loss: 26.2562\n",
      "Epoch 4/15\n",
      "101/101 [==============================] - 0s 5ms/step - loss: 8.5818\n",
      "Epoch 5/15\n",
      "101/101 [==============================] - 0s 5ms/step - loss: 3.5608\n",
      "Epoch 6/15\n",
      "101/101 [==============================] - 1s 5ms/step - loss: 2.0162\n",
      "Epoch 7/15\n",
      "101/101 [==============================] - 1s 5ms/step - loss: 1.3251\n",
      "Epoch 8/15\n",
      "101/101 [==============================] - 1s 5ms/step - loss: 1.0891\n",
      "Epoch 9/15\n",
      "101/101 [==============================] - 0s 5ms/step - loss: 0.8305\n",
      "Epoch 10/15\n",
      "101/101 [==============================] - 0s 5ms/step - loss: 0.7035\n",
      "Epoch 11/15\n",
      "101/101 [==============================] - 0s 5ms/step - loss: 0.7619\n",
      "Epoch 12/15\n",
      "101/101 [==============================] - 1s 5ms/step - loss: 0.5800\n",
      "Epoch 13/15\n",
      "101/101 [==============================] - 1s 5ms/step - loss: 0.5732\n",
      "Epoch 14/15\n",
      "101/101 [==============================] - 1s 5ms/step - loss: 0.5176\n",
      "12/12 [==============================] - 0s 7ms/step\n"
     ]
    },
    {
     "name": "stderr",
     "output_type": "stream",
     "text": [
      "2023-11-12 12:38:34.061717: I tensorflow/core/grappler/optimizers/custom_graph_optimizer_registry.cc:114] Plugin optimizer for device_type GPU is enabled.\n"
     ]
    },
    {
     "name": "stdout",
     "output_type": "stream",
     "text": [
      "Epoch 1/15\n"
     ]
    },
    {
     "name": "stderr",
     "output_type": "stream",
     "text": [
      "2023-11-12 12:38:34.515242: I tensorflow/core/grappler/optimizers/custom_graph_optimizer_registry.cc:114] Plugin optimizer for device_type GPU is enabled.\n"
     ]
    },
    {
     "name": "stdout",
     "output_type": "stream",
     "text": [
      "112/112 [==============================] - 1s 8ms/step - loss: 972.0460\n",
      "Epoch 2/15\n",
      "112/112 [==============================] - 1s 5ms/step - loss: 63.4716\n",
      "Epoch 3/15\n",
      "112/112 [==============================] - 1s 6ms/step - loss: 16.1558\n",
      "Epoch 4/15\n",
      "112/112 [==============================] - 1s 5ms/step - loss: 3.7342\n",
      "Epoch 5/15\n",
      "112/112 [==============================] - 1s 5ms/step - loss: 1.8219\n",
      "Epoch 6/15\n",
      "112/112 [==============================] - 1s 6ms/step - loss: 1.1701\n",
      "Epoch 7/15\n",
      "112/112 [==============================] - 1s 5ms/step - loss: 0.8674\n",
      "Epoch 8/15\n",
      "112/112 [==============================] - 1s 5ms/step - loss: 0.7433\n",
      "Epoch 9/15\n",
      "112/112 [==============================] - 1s 5ms/step - loss: 0.7355\n",
      "Epoch 10/15\n",
      "112/112 [==============================] - 1s 5ms/step - loss: 0.6492\n",
      "Epoch 11/15\n",
      "112/112 [==============================] - 1s 5ms/step - loss: 0.6446\n",
      "Epoch 12/15\n",
      "112/112 [==============================] - 1s 5ms/step - loss: 0.5297\n",
      "Epoch 13/15\n",
      "112/112 [==============================] - 1s 5ms/step - loss: 0.5134\n",
      "Epoch 14/15\n",
      "112/112 [==============================] - 1s 5ms/step - loss: 0.5191\n",
      "12/12 [==============================] - 0s 7ms/step\n"
     ]
    },
    {
     "name": "stderr",
     "output_type": "stream",
     "text": [
      "2023-11-12 12:38:43.416780: I tensorflow/core/grappler/optimizers/custom_graph_optimizer_registry.cc:114] Plugin optimizer for device_type GPU is enabled.\n"
     ]
    },
    {
     "name": "stdout",
     "output_type": "stream",
     "text": [
      "Epoch 1/15\n"
     ]
    },
    {
     "name": "stderr",
     "output_type": "stream",
     "text": [
      "2023-11-12 12:38:43.865109: I tensorflow/core/grappler/optimizers/custom_graph_optimizer_registry.cc:114] Plugin optimizer for device_type GPU is enabled.\n"
     ]
    },
    {
     "name": "stdout",
     "output_type": "stream",
     "text": [
      "90/90 [==============================] - 1s 9ms/step - loss: 1811.2057\n",
      "Epoch 2/15\n",
      "90/90 [==============================] - 0s 5ms/step - loss: 118.5538\n",
      "Epoch 3/15\n",
      "90/90 [==============================] - 0s 5ms/step - loss: 63.8429\n",
      "Epoch 4/15\n",
      "90/90 [==============================] - 0s 5ms/step - loss: 33.3689\n",
      "Epoch 5/15\n",
      "90/90 [==============================] - 1s 6ms/step - loss: 17.8047\n",
      "Epoch 6/15\n",
      "90/90 [==============================] - 1s 6ms/step - loss: 9.5694\n",
      "Epoch 7/15\n",
      "90/90 [==============================] - 0s 5ms/step - loss: 5.6301\n",
      "Epoch 8/15\n",
      "90/90 [==============================] - 0s 5ms/step - loss: 3.9630\n",
      "Epoch 9/15\n",
      "90/90 [==============================] - 0s 5ms/step - loss: 3.0234\n",
      "Epoch 10/15\n",
      "90/90 [==============================] - 0s 5ms/step - loss: 2.1203\n",
      "Epoch 11/15\n",
      "90/90 [==============================] - 0s 5ms/step - loss: 1.7186\n",
      "Epoch 12/15\n",
      "90/90 [==============================] - 0s 5ms/step - loss: 1.4130\n",
      "Epoch 13/15\n",
      "90/90 [==============================] - 0s 5ms/step - loss: 1.2103\n",
      "Epoch 14/15\n",
      "90/90 [==============================] - 0s 5ms/step - loss: 1.0118\n",
      "Epoch 15/15\n",
      "90/90 [==============================] - 0s 5ms/step - loss: 0.9096\n",
      "12/12 [==============================] - 0s 7ms/step\n"
     ]
    },
    {
     "name": "stderr",
     "output_type": "stream",
     "text": [
      "2023-11-12 12:38:51.682067: I tensorflow/core/grappler/optimizers/custom_graph_optimizer_registry.cc:114] Plugin optimizer for device_type GPU is enabled.\n"
     ]
    },
    {
     "name": "stdout",
     "output_type": "stream",
     "text": [
      "Epoch 1/15\n"
     ]
    },
    {
     "name": "stderr",
     "output_type": "stream",
     "text": [
      "2023-11-12 12:38:52.146229: I tensorflow/core/grappler/optimizers/custom_graph_optimizer_registry.cc:114] Plugin optimizer for device_type GPU is enabled.\n"
     ]
    },
    {
     "name": "stdout",
     "output_type": "stream",
     "text": [
      "101/101 [==============================] - 1s 8ms/step - loss: 1652.2980\n",
      "Epoch 2/15\n",
      "101/101 [==============================] - 1s 5ms/step - loss: 108.6784\n",
      "Epoch 3/15\n",
      "101/101 [==============================] - 1s 6ms/step - loss: 57.9846\n",
      "Epoch 4/15\n",
      "101/101 [==============================] - 1s 5ms/step - loss: 27.6209\n",
      "Epoch 5/15\n",
      "101/101 [==============================] - 1s 5ms/step - loss: 12.4224\n",
      "Epoch 6/15\n",
      "101/101 [==============================] - 1s 6ms/step - loss: 5.8445\n",
      "Epoch 7/15\n",
      "101/101 [==============================] - 0s 5ms/step - loss: 3.5910\n",
      "Epoch 8/15\n",
      "101/101 [==============================] - 1s 5ms/step - loss: 2.5095\n",
      "Epoch 9/15\n",
      "101/101 [==============================] - 1s 5ms/step - loss: 1.8233\n",
      "Epoch 10/15\n",
      "101/101 [==============================] - 0s 5ms/step - loss: 1.4548\n",
      "Epoch 11/15\n",
      "101/101 [==============================] - 0s 5ms/step - loss: 1.1727\n",
      "Epoch 12/15\n",
      "101/101 [==============================] - 1s 5ms/step - loss: 0.9712\n",
      "Epoch 13/15\n",
      "101/101 [==============================] - 1s 5ms/step - loss: 0.8993\n",
      "Epoch 14/15\n",
      "101/101 [==============================] - 0s 5ms/step - loss: 0.8011\n",
      "Epoch 15/15\n",
      "101/101 [==============================] - 1s 5ms/step - loss: 0.7619\n",
      "12/12 [==============================] - 0s 7ms/step\n"
     ]
    },
    {
     "name": "stderr",
     "output_type": "stream",
     "text": [
      "2023-11-12 12:39:00.660908: I tensorflow/core/grappler/optimizers/custom_graph_optimizer_registry.cc:114] Plugin optimizer for device_type GPU is enabled.\n"
     ]
    },
    {
     "name": "stdout",
     "output_type": "stream",
     "text": [
      "Epoch 1/15\n"
     ]
    },
    {
     "name": "stderr",
     "output_type": "stream",
     "text": [
      "2023-11-12 12:39:01.124835: I tensorflow/core/grappler/optimizers/custom_graph_optimizer_registry.cc:114] Plugin optimizer for device_type GPU is enabled.\n"
     ]
    },
    {
     "name": "stdout",
     "output_type": "stream",
     "text": [
      "112/112 [==============================] - 2s 9ms/step - loss: 1527.7780\n",
      "Epoch 2/15\n",
      "112/112 [==============================] - 1s 5ms/step - loss: 100.4242\n",
      "Epoch 3/15\n",
      "112/112 [==============================] - 1s 6ms/step - loss: 49.5797\n",
      "Epoch 4/15\n",
      "112/112 [==============================] - 1s 5ms/step - loss: 21.8174\n",
      "Epoch 5/15\n",
      "112/112 [==============================] - 1s 5ms/step - loss: 8.8770\n",
      "Epoch 6/15\n",
      "112/112 [==============================] - 1s 5ms/step - loss: 3.9542\n",
      "Epoch 7/15\n",
      "112/112 [==============================] - 1s 5ms/step - loss: 2.4580\n",
      "Epoch 8/15\n",
      "112/112 [==============================] - 1s 5ms/step - loss: 1.7168\n",
      "Epoch 9/15\n",
      "112/112 [==============================] - 1s 5ms/step - loss: 1.4042\n",
      "Epoch 10/15\n",
      "112/112 [==============================] - 1s 5ms/step - loss: 1.1205\n",
      "Epoch 11/15\n",
      "112/112 [==============================] - 1s 5ms/step - loss: 1.0478\n",
      "Epoch 12/15\n",
      "112/112 [==============================] - 1s 5ms/step - loss: 0.8121\n",
      "Epoch 13/15\n",
      "112/112 [==============================] - 1s 5ms/step - loss: 0.7840\n",
      "Epoch 14/15\n",
      "112/112 [==============================] - 1s 5ms/step - loss: 0.7727\n",
      "12/12 [==============================] - 0s 6ms/step\n"
     ]
    },
    {
     "name": "stderr",
     "output_type": "stream",
     "text": [
      "2023-11-12 12:39:09.958864: I tensorflow/core/grappler/optimizers/custom_graph_optimizer_registry.cc:114] Plugin optimizer for device_type GPU is enabled.\n"
     ]
    },
    {
     "name": "stdout",
     "output_type": "stream",
     "text": [
      "Epoch 1/15\n"
     ]
    },
    {
     "name": "stderr",
     "output_type": "stream",
     "text": [
      "2023-11-12 12:39:10.471772: I tensorflow/core/grappler/optimizers/custom_graph_optimizer_registry.cc:114] Plugin optimizer for device_type GPU is enabled.\n"
     ]
    },
    {
     "name": "stdout",
     "output_type": "stream",
     "text": [
      "90/90 [==============================] - 2s 11ms/step - loss: 1136.4949\n",
      "Epoch 2/15\n",
      "90/90 [==============================] - 1s 6ms/step - loss: 97.5998\n",
      "Epoch 3/15\n",
      "90/90 [==============================] - 1s 6ms/step - loss: 37.6135\n",
      "Epoch 4/15\n",
      "90/90 [==============================] - 1s 6ms/step - loss: 8.4181\n",
      "Epoch 5/15\n",
      "90/90 [==============================] - 1s 7ms/step - loss: 2.9119\n",
      "Epoch 6/15\n",
      "90/90 [==============================] - 0s 5ms/step - loss: 1.5437\n",
      "Epoch 7/15\n",
      "90/90 [==============================] - 0s 5ms/step - loss: 1.2467\n",
      "Epoch 8/15\n",
      "90/90 [==============================] - 1s 6ms/step - loss: 0.8876\n",
      "Epoch 9/15\n",
      "90/90 [==============================] - 1s 6ms/step - loss: 0.7376\n",
      "Epoch 10/15\n",
      "90/90 [==============================] - 0s 6ms/step - loss: 0.6859\n",
      "Epoch 11/15\n",
      "90/90 [==============================] - 1s 6ms/step - loss: 0.5877\n",
      "Epoch 12/15\n",
      "90/90 [==============================] - 0s 5ms/step - loss: 0.5452\n",
      "12/12 [==============================] - 0s 10ms/step\n"
     ]
    },
    {
     "name": "stderr",
     "output_type": "stream",
     "text": [
      "2023-11-12 12:39:17.881882: I tensorflow/core/grappler/optimizers/custom_graph_optimizer_registry.cc:114] Plugin optimizer for device_type GPU is enabled.\n"
     ]
    },
    {
     "name": "stdout",
     "output_type": "stream",
     "text": [
      "Epoch 1/15\n"
     ]
    },
    {
     "name": "stderr",
     "output_type": "stream",
     "text": [
      "2023-11-12 12:39:18.428433: I tensorflow/core/grappler/optimizers/custom_graph_optimizer_registry.cc:114] Plugin optimizer for device_type GPU is enabled.\n"
     ]
    },
    {
     "name": "stdout",
     "output_type": "stream",
     "text": [
      "101/101 [==============================] - 2s 11ms/step - loss: 964.8793\n",
      "Epoch 2/15\n",
      "101/101 [==============================] - 1s 6ms/step - loss: 62.1893\n",
      "Epoch 3/15\n",
      "101/101 [==============================] - 1s 6ms/step - loss: 13.4635\n",
      "Epoch 4/15\n",
      "101/101 [==============================] - 1s 6ms/step - loss: 3.0431\n",
      "Epoch 5/15\n",
      "101/101 [==============================] - 1s 6ms/step - loss: 1.5931\n",
      "Epoch 6/15\n",
      "101/101 [==============================] - 1s 6ms/step - loss: 1.0992\n",
      "Epoch 7/15\n",
      "101/101 [==============================] - 1s 6ms/step - loss: 0.9296\n",
      "Epoch 8/15\n",
      "101/101 [==============================] - 1s 6ms/step - loss: 0.7748\n",
      "Epoch 9/15\n",
      "101/101 [==============================] - 1s 6ms/step - loss: 0.5988\n",
      "Epoch 10/15\n",
      "101/101 [==============================] - 1s 7ms/step - loss: 0.6723\n",
      "Epoch 11/15\n",
      "101/101 [==============================] - 1s 6ms/step - loss: 0.5767\n",
      "12/12 [==============================] - 0s 7ms/step\n"
     ]
    },
    {
     "name": "stderr",
     "output_type": "stream",
     "text": [
      "2023-11-12 12:39:26.066629: I tensorflow/core/grappler/optimizers/custom_graph_optimizer_registry.cc:114] Plugin optimizer for device_type GPU is enabled.\n"
     ]
    },
    {
     "name": "stdout",
     "output_type": "stream",
     "text": [
      "Epoch 1/15\n"
     ]
    },
    {
     "name": "stderr",
     "output_type": "stream",
     "text": [
      "2023-11-12 12:39:26.580819: I tensorflow/core/grappler/optimizers/custom_graph_optimizer_registry.cc:114] Plugin optimizer for device_type GPU is enabled.\n"
     ]
    },
    {
     "name": "stdout",
     "output_type": "stream",
     "text": [
      "112/112 [==============================] - 2s 10ms/step - loss: 890.9918\n",
      "Epoch 2/15\n",
      "112/112 [==============================] - 1s 6ms/step - loss: 67.6994\n",
      "Epoch 3/15\n",
      "112/112 [==============================] - 1s 6ms/step - loss: 16.0225\n",
      "Epoch 4/15\n",
      "112/112 [==============================] - 1s 6ms/step - loss: 4.3579\n",
      "Epoch 5/15\n",
      "112/112 [==============================] - 1s 6ms/step - loss: 2.1456\n",
      "Epoch 6/15\n",
      "112/112 [==============================] - 1s 6ms/step - loss: 1.2822\n",
      "Epoch 7/15\n",
      "112/112 [==============================] - 1s 6ms/step - loss: 0.9598\n",
      "Epoch 8/15\n",
      "112/112 [==============================] - 1s 6ms/step - loss: 0.7715\n",
      "Epoch 9/15\n",
      "112/112 [==============================] - 1s 5ms/step - loss: 0.7483\n",
      "Epoch 10/15\n",
      "112/112 [==============================] - 1s 6ms/step - loss: 0.6100\n",
      "Epoch 11/15\n",
      "112/112 [==============================] - 1s 5ms/step - loss: 0.6771\n",
      "Epoch 12/15\n",
      "112/112 [==============================] - 1s 6ms/step - loss: 0.5280\n",
      "12/12 [==============================] - 0s 7ms/step\n"
     ]
    },
    {
     "name": "stderr",
     "output_type": "stream",
     "text": [
      "2023-11-12 12:39:35.384280: I tensorflow/core/grappler/optimizers/custom_graph_optimizer_registry.cc:114] Plugin optimizer for device_type GPU is enabled.\n"
     ]
    },
    {
     "name": "stdout",
     "output_type": "stream",
     "text": [
      "Epoch 1/15\n"
     ]
    },
    {
     "name": "stderr",
     "output_type": "stream",
     "text": [
      "2023-11-12 12:39:35.886894: I tensorflow/core/grappler/optimizers/custom_graph_optimizer_registry.cc:114] Plugin optimizer for device_type GPU is enabled.\n"
     ]
    },
    {
     "name": "stdout",
     "output_type": "stream",
     "text": [
      "55/90 [=================>............] - ETA: 0s - loss: 2803.9119"
     ]
    }
   ],
   "source": [
    "## Create the TimeSeriesSplit object\n",
    "N_SPLITS = 3\n",
    "tscv = TimeSeriesSplit(n_splits=N_SPLITS, test_size=365, gap=0)\n",
    "\n",
    "## Create the GridSearchCV object\n",
    "grid_search = GridSearchCV(pipe, parameters, cv=tscv)\n",
    "\n",
    "## Fit the GridSearchCV object\n",
    "grid_search.fit(X_train, y_train)\n",
    "\n",
    "## Print the best parameters\n",
    "print(grid_search.best_params_)\n",
    "\n",
    "## Save the grid search data\n",
    "with open('../scratch-work/gridsearchcv_results.pkl', 'wb') as f:\n",
    "    pickle.dump(grid_search, f)"
   ]
  },
  {
   "cell_type": "code",
   "execution_count": null,
   "id": "2c94f638-53b3-46c1-b021-cf71acc3fa52",
   "metadata": {},
   "outputs": [],
   "source": []
  }
 ],
 "metadata": {
  "kernelspec": {
   "display_name": "Python 3.10 (tensorflow)",
   "language": "python",
   "name": "tensorflow"
  },
  "language_info": {
   "codemirror_mode": {
    "name": "ipython",
    "version": 3
   },
   "file_extension": ".py",
   "mimetype": "text/x-python",
   "name": "python",
   "nbconvert_exporter": "python",
   "pygments_lexer": "ipython3",
   "version": "3.10.12"
  }
 },
 "nbformat": 4,
 "nbformat_minor": 5
}

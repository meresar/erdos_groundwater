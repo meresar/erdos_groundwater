{
 "cells": [
  {
   "cell_type": "code",
   "execution_count": 1,
   "id": "a9cee0ea-d711-4b64-9fa2-4617788ab74a",
   "metadata": {},
   "outputs": [],
   "source": [
    "import sys\n",
    "sys.path.insert(0, '../')\n",
    "from gw_tools.gw_plot import gw_plot\n",
    "from gw_tools import data_prep"
   ]
  },
  {
   "cell_type": "code",
   "execution_count": 2,
   "id": "fdaf8687-643e-42f2-a9e8-0f2097685673",
   "metadata": {},
   "outputs": [],
   "source": [
    "df = data_prep.load_data('APK310')"
   ]
  },
  {
   "cell_type": "code",
   "execution_count": 3,
   "id": "dd40aa4a-c31a-4603-b5cb-8fa08c3bada9",
   "metadata": {},
   "outputs": [],
   "source": [
    "df = data_prep.select_features(df)"
   ]
  },
  {
   "cell_type": "code",
   "execution_count": 4,
   "id": "511f3fc2-9a59-4b5e-8dfe-0e0c3d046338",
   "metadata": {},
   "outputs": [],
   "source": [
    "df = data_prep.add_toy_signal(df)"
   ]
  },
  {
   "cell_type": "code",
   "execution_count": 5,
   "id": "c1c07bdb-d3d3-4dc1-b036-ea346c3cd78a",
   "metadata": {},
   "outputs": [],
   "source": [
    "X_train, X_holdout, y_train, y_holdout, dt_train, dt_holdout = data_prep.prep_data_for_training(df)"
   ]
  },
  {
   "cell_type": "code",
   "execution_count": 6,
   "id": "8528ffad-a233-4478-ad20-47ec9e06a98b",
   "metadata": {},
   "outputs": [
    {
     "data": {
      "text/plain": [
       "array([[ 2.10900000e+01,  7.78000000e+03,  0.00000000e+00,\n",
       "         6.29750000e+01,  4.86666667e+01,  1.02200000e+03,\n",
       "         7.71833333e+00,  7.17500000e-01,  1.00000000e-02,\n",
       "         1.94034377e-01, -9.80994730e-01],\n",
       "       [ 2.08500000e+01,  7.16000000e+03,  0.00000000e+00,\n",
       "         6.44070833e+01,  4.67916667e+01,  1.02279167e+03,\n",
       "         8.08916667e+00,  0.00000000e+00,  0.00000000e+00,\n",
       "         1.77130665e-01, -9.84187344e-01],\n",
       "       [ 2.04700000e+01,  6.17000000e+03,  0.00000000e+00,\n",
       "         6.62800000e+01,  4.06250000e+01,  1.02383333e+03,\n",
       "         8.07041667e+00,  0.00000000e+00,  0.00000000e+00,\n",
       "         1.60174536e-01, -9.87088708e-01]])"
      ]
     },
     "execution_count": 6,
     "metadata": {},
     "output_type": "execute_result"
    }
   ],
   "source": [
    "X_train[:3,]"
   ]
  },
  {
   "cell_type": "code",
   "execution_count": 7,
   "id": "603a6d60-a733-4e3d-9697-2c8766da798a",
   "metadata": {},
   "outputs": [
    {
     "data": {
      "text/plain": [
       "array([112.19      , 112.33583333, 112.50913043])"
      ]
     },
     "execution_count": 7,
     "metadata": {},
     "output_type": "execute_result"
    }
   ],
   "source": [
    "y_train[:3]"
   ]
  },
  {
   "cell_type": "code",
   "execution_count": 8,
   "id": "7cad2a22-439e-47dc-ab91-9e53e3333e03",
   "metadata": {},
   "outputs": [
    {
     "data": {
      "text/plain": [
       "array(['2006-06-21T00:00:00.000000000', '2006-06-22T00:00:00.000000000',\n",
       "       '2006-06-23T00:00:00.000000000'], dtype='datetime64[ns]')"
      ]
     },
     "execution_count": 8,
     "metadata": {},
     "output_type": "execute_result"
    }
   ],
   "source": [
    "dt_train[:3]"
   ]
  },
  {
   "cell_type": "code",
   "execution_count": null,
   "id": "e049eadb-45ca-4e87-9d92-d5e9af89c783",
   "metadata": {},
   "outputs": [],
   "source": []
  }
 ],
 "metadata": {
  "kernelspec": {
   "display_name": "Python 3.10 (tensorflow)",
   "language": "python",
   "name": "tensorflow"
  },
  "language_info": {
   "codemirror_mode": {
    "name": "ipython",
    "version": 3
   },
   "file_extension": ".py",
   "mimetype": "text/x-python",
   "name": "python",
   "nbconvert_exporter": "python",
   "pygments_lexer": "ipython3",
   "version": "3.10.12"
  }
 },
 "nbformat": 4,
 "nbformat_minor": 5
}

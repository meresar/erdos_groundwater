{
 "cells": [
  {
   "cell_type": "code",
   "execution_count": 1,
   "id": "a9cee0ea-d711-4b64-9fa2-4617788ab74a",
   "metadata": {},
   "outputs": [],
   "source": [
    "import sys\n",
    "sys.path.insert(0, '../')\n",
    "from gw_tools.plot import gw_plot\n",
    "\n",
    "import datetime\n",
    "import matplotlib.pyplot as plt\n",
    "import numpy as np\n",
    "import pandas as pd\n",
    "from sklearn.linear_model import LinearRegression"
   ]
  },
  {
   "cell_type": "code",
   "execution_count": 2,
   "id": "d804a4ac-7af1-4973-83ad-329b84f12ffa",
   "metadata": {},
   "outputs": [
    {
     "ename": "NameError",
     "evalue": "name 'pickle' is not defined",
     "output_type": "error",
     "traceback": [
      "\u001b[0;31m---------------------------------------------------------------------------\u001b[0m",
      "\u001b[0;31mNameError\u001b[0m                                 Traceback (most recent call last)",
      "Cell \u001b[0;32mIn[2], line 3\u001b[0m\n\u001b[1;32m      1\u001b[0m \u001b[38;5;66;03m## Load data\u001b[39;00m\n\u001b[1;32m      2\u001b[0m \u001b[38;5;28;01mwith\u001b[39;00m \u001b[38;5;28mopen\u001b[39m(\u001b[38;5;124m'\u001b[39m\u001b[38;5;124m../data/pickled_data/AEK201_short.pkl\u001b[39m\u001b[38;5;124m'\u001b[39m, \u001b[38;5;124m'\u001b[39m\u001b[38;5;124mrb\u001b[39m\u001b[38;5;124m'\u001b[39m) \u001b[38;5;28;01mas\u001b[39;00m f:\n\u001b[0;32m----> 3\u001b[0m     df \u001b[38;5;241m=\u001b[39m \u001b[43mpickle\u001b[49m\u001b[38;5;241m.\u001b[39mload(f)\n\u001b[1;32m      5\u001b[0m \u001b[38;5;66;03m## Grab desired columns\u001b[39;00m\n\u001b[1;32m      6\u001b[0m df \u001b[38;5;241m=\u001b[39m df[[\u001b[38;5;124m'\u001b[39m\u001b[38;5;124mdate\u001b[39m\u001b[38;5;124m'\u001b[39m, \u001b[38;5;124m'\u001b[39m\u001b[38;5;124mavg_well_depth\u001b[39m\u001b[38;5;124m'\u001b[39m, \u001b[38;5;124m'\u001b[39m\u001b[38;5;124mgage_ht\u001b[39m\u001b[38;5;124m'\u001b[39m, \u001b[38;5;124m'\u001b[39m\u001b[38;5;124mdischarge_cfs\u001b[39m\u001b[38;5;124m'\u001b[39m, \u001b[38;5;124m'\u001b[39m\u001b[38;5;124mprcp\u001b[39m\u001b[38;5;124m'\u001b[39m,\n\u001b[1;32m      7\u001b[0m              \u001b[38;5;124m'\u001b[39m\u001b[38;5;124mtemp_avg\u001b[39m\u001b[38;5;124m'\u001b[39m, \u001b[38;5;124m'\u001b[39m\u001b[38;5;124mtemp_max\u001b[39m\u001b[38;5;124m'\u001b[39m, \u001b[38;5;124m'\u001b[39m\u001b[38;5;124mtemp_min\u001b[39m\u001b[38;5;124m'\u001b[39m, \u001b[38;5;124m'\u001b[39m\u001b[38;5;124mhPa_avg\u001b[39m\u001b[38;5;124m'\u001b[39m, \u001b[38;5;124m'\u001b[39m\u001b[38;5;124mhum_avg\u001b[39m\u001b[38;5;124m'\u001b[39m, \n\u001b[1;32m      8\u001b[0m              \u001b[38;5;124m'\u001b[39m\u001b[38;5;124mwind_avg\u001b[39m\u001b[38;5;124m'\u001b[39m, \u001b[38;5;124m'\u001b[39m\u001b[38;5;124mgust_avg\u001b[39m\u001b[38;5;124m'\u001b[39m]]\n",
      "\u001b[0;31mNameError\u001b[0m: name 'pickle' is not defined"
     ]
    }
   ],
   "source": [
    "## Load data\n",
    "with open('../data/pickled_data/AEK201_short.pkl', 'rb') as f:\n",
    "    df = pickle.load(f)\n",
    "\n",
    "## Grab desired columns\n",
    "df = df[['date', 'avg_well_depth', 'gage_ht', 'discharge_cfs', 'prcp',\n",
    "             'temp_avg', 'temp_max', 'temp_min', 'hPa_avg', 'hum_avg', \n",
    "             'wind_avg', 'gust_avg']]\n",
    "\n",
    "## Pop off date_time information\n",
    "date_time = pd.to_datetime(df.pop('date'), format='%d.%m.%Y %H:%M:%S')\n",
    "\n",
    "## Add _time of year_ signal\n",
    "timestamp_s = date_time.map(pd.Timestamp.timestamp)\n",
    "\n",
    "day = 24*60*60\n",
    "year = (365.2425)*day\n",
    "\n",
    "df['year_sin'] = np.sin(timestamp_s * (2 * np.pi / year))\n",
    "df['year_cos'] = np.cos(timestamp_s * (2 * np.pi / year))\n",
    "\n",
    "## Set aside a year of holdout data\n",
    "date_time_holdout = date_time[-365:].copy()\n",
    "df_holdout = df[-365:].copy()\n",
    "\n",
    "## Make the training data the standard\n",
    "date_time = date_time[:-365].copy()\n",
    "df = df[:-365].copy()\n",
    "\n",
    "## Grab some practice data for demonstration\n",
    "TEST_SIZE = 365\n",
    "data_train = df[:-TEST_SIZE].copy()\n",
    "data_test = df[-TEST_SIZE:].copy()\n",
    "\n",
    "## Pediction the Average Model\n",
    "## Predict the future using the mean of the training data\n",
    "pred = np.ones(len(data_test))*data_train.avg_well_depth.mean()\n",
    "\n",
    "## Linear Regression Model\n",
    "## Create an instance of the LinearRegression class\n",
    "linear = LinearRegression(copy_X=True)\n",
    "\n",
    "## Define the training data\n",
    "X_train = data_train.drop('avg_well_depth', axis=1).values\n",
    "y_train = data_train.avg_well_depth.values\n",
    "\n",
    "## Fit the model to the training data\n",
    "linear.fit(X_train, y_train)\n",
    "\n",
    "## Make predictions on the test data\n",
    "X_test = data_test.drop('avg_well_depth', axis=1).values\n",
    "pred_lin = linear.predict(X_test)"
   ]
  },
  {
   "cell_type": "code",
   "execution_count": null,
   "id": "ae544372-4b7c-4e5f-a0de-88ea069bb6ff",
   "metadata": {},
   "outputs": [],
   "source": [
    "train = data_train.avg_well_depth.values\n",
    "test = data_test.avg_well_depth.values\n",
    "dates = date_time\n",
    "start_date = datetime.datetime(2006,2,7)\n",
    "\n",
    "gw_plot(train=train, test=test)\n",
    "gw_plot(train=train, test=test, pred=pred)\n",
    "gw_plot(train=train, test=test, pred=pred_lin)\n",
    "gw_plot(train=train, test=test, start_date=start_date)\n",
    "gw_plot(train=train, test=test, pred=pred, train_limit=400, dates=dates)\n",
    "gw_plot(train=train, test=test, pred=pred_lin, train_limit=550, start_date=start_date, model='Prediction: Linear Regression')"
   ]
  },
  {
   "cell_type": "code",
   "execution_count": null,
   "id": "0bdb6e79-1c16-420d-a8b4-0a8a6df8f3c6",
   "metadata": {},
   "outputs": [],
   "source": []
  }
 ],
 "metadata": {
  "kernelspec": {
   "display_name": "Python 3.10 (tensorflow)",
   "language": "python",
   "name": "tensorflow"
  },
  "language_info": {
   "codemirror_mode": {
    "name": "ipython",
    "version": 3
   },
   "file_extension": ".py",
   "mimetype": "text/x-python",
   "name": "python",
   "nbconvert_exporter": "python",
   "pygments_lexer": "ipython3",
   "version": "3.10.12"
  }
 },
 "nbformat": 4,
 "nbformat_minor": 5
}

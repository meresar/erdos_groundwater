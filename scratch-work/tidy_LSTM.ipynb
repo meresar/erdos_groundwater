{
 "cells": [
  {
   "cell_type": "markdown",
   "id": "4a996084",
   "metadata": {},
   "source": [
    "# Corrected LSTM\n",
    "\n",
    "My previous version was doing the recursion incorrectly, so this is me checking with a corrected version of recursion and using all the features and then I'll go build the class a la Marcos and do the grid search to tune parameters"
   ]
  },
  {
   "cell_type": "code",
   "execution_count": 2,
   "id": "8699e483",
   "metadata": {},
   "outputs": [
    {
     "name": "stderr",
     "output_type": "stream",
     "text": [
      "2023-11-20 11:44:28.385162: I tensorflow/tsl/cuda/cudart_stub.cc:28] Could not find cuda drivers on your machine, GPU will not be used.\n",
      "2023-11-20 11:44:29.674288: E tensorflow/compiler/xla/stream_executor/cuda/cuda_dnn.cc:9342] Unable to register cuDNN factory: Attempting to register factory for plugin cuDNN when one has already been registered\n",
      "2023-11-20 11:44:29.674374: E tensorflow/compiler/xla/stream_executor/cuda/cuda_fft.cc:609] Unable to register cuFFT factory: Attempting to register factory for plugin cuFFT when one has already been registered\n",
      "2023-11-20 11:44:29.678638: E tensorflow/compiler/xla/stream_executor/cuda/cuda_blas.cc:1518] Unable to register cuBLAS factory: Attempting to register factory for plugin cuBLAS when one has already been registered\n",
      "2023-11-20 11:44:30.450796: I tensorflow/tsl/cuda/cudart_stub.cc:28] Could not find cuda drivers on your machine, GPU will not be used.\n",
      "2023-11-20 11:44:30.452507: I tensorflow/core/platform/cpu_feature_guard.cc:182] This TensorFlow binary is optimized to use available CPU instructions in performance-critical operations.\n",
      "To enable the following instructions: AVX2 FMA, in other operations, rebuild TensorFlow with the appropriate compiler flags.\n",
      "2023-11-20 11:44:34.617723: W tensorflow/compiler/tf2tensorrt/utils/py_utils.cc:38] TF-TRT Warning: Could not find TensorRT\n"
     ]
    }
   ],
   "source": [
    "import tensorflow as tf\n",
    "import os\n",
    "import pandas as pd\n",
    "import numpy as np\n",
    "import matplotlib.pyplot as plt\n",
    "import seaborn as sns\n",
    "sns.set_style(\"whitegrid\")\n",
    "\n",
    "from sklearn.metrics import mean_squared_error as mse\n",
    "\n",
    "import sys\n",
    "sys.path.insert(0, '../')\n",
    "from gw_tools.gw_plot import gw_plot\n",
    "from gw_tools import data_prep"
   ]
  },
  {
   "cell_type": "code",
   "execution_count": 3,
   "id": "220d1174",
   "metadata": {},
   "outputs": [],
   "source": [
    "WINDOW_SIZE = 6 # this will be a tuneable parameter later\n",
    "\n",
    "def df_to_X_multi(df, window_size=WINDOW_SIZE):\n",
    "    df_as_np = df.to_numpy()\n",
    "    X = []\n",
    "    for i in range(len(df_as_np)-window_size):\n",
    "        row = [a for a in df_as_np[i:i+window_size]]\n",
    "        X.append(row)\n",
    "    return np.array(X)"
   ]
  },
  {
   "cell_type": "code",
   "execution_count": 7,
   "id": "0d4bfafc",
   "metadata": {},
   "outputs": [
    {
     "data": {
      "text/html": [
       "<div>\n",
       "<style scoped>\n",
       "    .dataframe tbody tr th:only-of-type {\n",
       "        vertical-align: middle;\n",
       "    }\n",
       "\n",
       "    .dataframe tbody tr th {\n",
       "        vertical-align: top;\n",
       "    }\n",
       "\n",
       "    .dataframe thead th {\n",
       "        text-align: right;\n",
       "    }\n",
       "</style>\n",
       "<table border=\"1\" class=\"dataframe\">\n",
       "  <thead>\n",
       "    <tr style=\"text-align: right;\">\n",
       "      <th></th>\n",
       "      <th>avg_well_depth</th>\n",
       "      <th>gage_ht</th>\n",
       "      <th>discharge_cfs</th>\n",
       "      <th>prcp</th>\n",
       "      <th>temp_avg</th>\n",
       "      <th>hum_avg</th>\n",
       "      <th>hPa_avg</th>\n",
       "      <th>wind_avg</th>\n",
       "      <th>gust_avg</th>\n",
       "      <th>prcp_lag_45D</th>\n",
       "      <th>year_sin</th>\n",
       "      <th>year_cos</th>\n",
       "    </tr>\n",
       "    <tr>\n",
       "      <th>date</th>\n",
       "      <th></th>\n",
       "      <th></th>\n",
       "      <th></th>\n",
       "      <th></th>\n",
       "      <th></th>\n",
       "      <th></th>\n",
       "      <th></th>\n",
       "      <th></th>\n",
       "      <th></th>\n",
       "      <th></th>\n",
       "      <th></th>\n",
       "      <th></th>\n",
       "    </tr>\n",
       "  </thead>\n",
       "  <tbody>\n",
       "    <tr>\n",
       "      <th>2005-08-21</th>\n",
       "      <td>99.059167</td>\n",
       "      <td>17.02</td>\n",
       "      <td>600.0</td>\n",
       "      <td>0.0</td>\n",
       "      <td>75.903750</td>\n",
       "      <td>44.166667</td>\n",
       "      <td>1015.333333</td>\n",
       "      <td>7.492083</td>\n",
       "      <td>0.000000</td>\n",
       "      <td>0.00</td>\n",
       "      <td>-0.756711</td>\n",
       "      <td>-0.653749</td>\n",
       "    </tr>\n",
       "    <tr>\n",
       "      <th>2005-08-22</th>\n",
       "      <td>99.163333</td>\n",
       "      <td>17.02</td>\n",
       "      <td>599.0</td>\n",
       "      <td>0.0</td>\n",
       "      <td>72.854167</td>\n",
       "      <td>43.041667</td>\n",
       "      <td>1012.458333</td>\n",
       "      <td>10.093333</td>\n",
       "      <td>0.717500</td>\n",
       "      <td>0.16</td>\n",
       "      <td>-0.767845</td>\n",
       "      <td>-0.640635</td>\n",
       "    </tr>\n",
       "    <tr>\n",
       "      <th>2005-08-23</th>\n",
       "      <td>99.155000</td>\n",
       "      <td>17.02</td>\n",
       "      <td>598.0</td>\n",
       "      <td>0.0</td>\n",
       "      <td>65.272083</td>\n",
       "      <td>46.041667</td>\n",
       "      <td>1010.000000</td>\n",
       "      <td>14.121250</td>\n",
       "      <td>6.141667</td>\n",
       "      <td>0.72</td>\n",
       "      <td>-0.778752</td>\n",
       "      <td>-0.627332</td>\n",
       "    </tr>\n",
       "  </tbody>\n",
       "</table>\n",
       "</div>"
      ],
      "text/plain": [
       "            avg_well_depth  gage_ht  discharge_cfs  prcp   temp_avg  \\\n",
       "date                                                                  \n",
       "2005-08-21       99.059167    17.02          600.0   0.0  75.903750   \n",
       "2005-08-22       99.163333    17.02          599.0   0.0  72.854167   \n",
       "2005-08-23       99.155000    17.02          598.0   0.0  65.272083   \n",
       "\n",
       "              hum_avg      hPa_avg   wind_avg  gust_avg  prcp_lag_45D  \\\n",
       "date                                                                    \n",
       "2005-08-21  44.166667  1015.333333   7.492083  0.000000          0.00   \n",
       "2005-08-22  43.041667  1012.458333  10.093333  0.717500          0.16   \n",
       "2005-08-23  46.041667  1010.000000  14.121250  6.141667          0.72   \n",
       "\n",
       "            year_sin  year_cos  \n",
       "date                            \n",
       "2005-08-21 -0.756711 -0.653749  \n",
       "2005-08-22 -0.767845 -0.640635  \n",
       "2005-08-23 -0.778752 -0.627332  "
      ]
     },
     "execution_count": 7,
     "metadata": {},
     "output_type": "execute_result"
    }
   ],
   "source": [
    "df = data_prep.select_features(pd.read_pickle('../data/pickled_data/AFL259_short.pkl'))\n",
    "df = data_prep.add_toy_signal(df).set_index('date')\n",
    "\n",
    "df.head(3)"
   ]
  },
  {
   "cell_type": "code",
   "execution_count": null,
   "id": "423fdf6f",
   "metadata": {},
   "outputs": [],
   "source": []
  }
 ],
 "metadata": {
  "kernelspec": {
   "display_name": "Python 3 (ipykernel)",
   "language": "python",
   "name": "python3"
  },
  "language_info": {
   "codemirror_mode": {
    "name": "ipython",
    "version": 3
   },
   "file_extension": ".py",
   "mimetype": "text/x-python",
   "name": "python",
   "nbconvert_exporter": "python",
   "pygments_lexer": "ipython3",
   "version": "3.10.9"
  }
 },
 "nbformat": 4,
 "nbformat_minor": 5
}
